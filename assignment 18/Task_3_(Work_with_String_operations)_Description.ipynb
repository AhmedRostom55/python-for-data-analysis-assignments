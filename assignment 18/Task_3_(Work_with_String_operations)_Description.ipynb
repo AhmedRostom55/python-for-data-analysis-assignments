{
 "cells": [
  {
   "cell_type": "markdown",
   "metadata": {
    "id": "fXP6Jk1yuRxK"
   },
   "source": [
    "# you are working for a company that handling emails so your manager askes you to see the most domain that recieves emails "
   ]
  },
  {
   "cell_type": "code",
   "execution_count": 1,
   "metadata": {
    "colab": {
     "base_uri": "https://localhost:8080/",
     "height": 444
    },
    "id": "zJpch2W7lFxQ",
    "outputId": "4021d1c6-8e52-465a-a407-3a837942e887",
    "scrolled": true
   },
   "outputs": [
    {
     "data": {
      "text/html": [
       "\n",
       "  <div id=\"df-dac17d9c-2745-4732-b1ec-19748e4f178b\">\n",
       "    <div class=\"colab-df-container\">\n",
       "      <div>\n",
       "<style scoped>\n",
       "    .dataframe tbody tr th:only-of-type {\n",
       "        vertical-align: middle;\n",
       "    }\n",
       "\n",
       "    .dataframe tbody tr th {\n",
       "        vertical-align: top;\n",
       "    }\n",
       "\n",
       "    .dataframe thead th {\n",
       "        text-align: right;\n",
       "    }\n",
       "</style>\n",
       "<table border=\"1\" class=\"dataframe\">\n",
       "  <thead>\n",
       "    <tr style=\"text-align: right;\">\n",
       "      <th></th>\n",
       "      <th>TID</th>\n",
       "      <th>MID</th>\n",
       "      <th>From</th>\n",
       "      <th>TO</th>\n",
       "      <th>Timestamp</th>\n",
       "      <th>Type</th>\n",
       "    </tr>\n",
       "  </thead>\n",
       "  <tbody>\n",
       "    <tr>\n",
       "      <th>0</th>\n",
       "      <td>155a74d0930df40c</td>\n",
       "      <td>e9c42ba707f5e84</td>\n",
       "      <td>mark.whitt@enron.com</td>\n",
       "      <td>heidi.dubose@enron.com</td>\n",
       "      <td>2001-10-25T07:02:55-07:00</td>\n",
       "      <td>TO</td>\n",
       "    </tr>\n",
       "    <tr>\n",
       "      <th>1</th>\n",
       "      <td>155a01503aaa94d2</td>\n",
       "      <td>ea7d7b79039db9c</td>\n",
       "      <td>barry.tycholiz@enron.com</td>\n",
       "      <td>jessica.presas@enron.com</td>\n",
       "      <td>2001-11-30T05:39:51-08:00</td>\n",
       "      <td>TO</td>\n",
       "    </tr>\n",
       "    <tr>\n",
       "      <th>2</th>\n",
       "      <td>155a0146556ac9cb</td>\n",
       "      <td>e9e418ca9b8987a</td>\n",
       "      <td>barry.tycholiz@enron.com</td>\n",
       "      <td>stephanie.miller@enron.com</td>\n",
       "      <td>2001-10-31T10:50:10-08:00</td>\n",
       "      <td>TO</td>\n",
       "    </tr>\n",
       "    <tr>\n",
       "      <th>3</th>\n",
       "      <td>1559a0a82828c7c9</td>\n",
       "      <td>ea57a25b4ab0621</td>\n",
       "      <td>enron_update@concureworkplace.com</td>\n",
       "      <td>s..shively@enron.com</td>\n",
       "      <td>2001-11-22T21:16:45-08:00</td>\n",
       "      <td>TO</td>\n",
       "    </tr>\n",
       "    <tr>\n",
       "      <th>4</th>\n",
       "      <td>1559a0a82828c7c9</td>\n",
       "      <td>ea57a247904c8e9</td>\n",
       "      <td>enron_update@concureworkplace.com</td>\n",
       "      <td>jsteffe@enron.com</td>\n",
       "      <td>2001-11-22T21:16:40-08:00</td>\n",
       "      <td>TO</td>\n",
       "    </tr>\n",
       "  </tbody>\n",
       "</table>\n",
       "</div>\n",
       "      <button class=\"colab-df-convert\" onclick=\"convertToInteractive('df-dac17d9c-2745-4732-b1ec-19748e4f178b')\"\n",
       "              title=\"Convert this dataframe to an interactive table.\"\n",
       "              style=\"display:none;\">\n",
       "        \n",
       "  <svg xmlns=\"http://www.w3.org/2000/svg\" height=\"24px\"viewBox=\"0 0 24 24\"\n",
       "       width=\"24px\">\n",
       "    <path d=\"M0 0h24v24H0V0z\" fill=\"none\"/>\n",
       "    <path d=\"M18.56 5.44l.94 2.06.94-2.06 2.06-.94-2.06-.94-.94-2.06-.94 2.06-2.06.94zm-11 1L8.5 8.5l.94-2.06 2.06-.94-2.06-.94L8.5 2.5l-.94 2.06-2.06.94zm10 10l.94 2.06.94-2.06 2.06-.94-2.06-.94-.94-2.06-.94 2.06-2.06.94z\"/><path d=\"M17.41 7.96l-1.37-1.37c-.4-.4-.92-.59-1.43-.59-.52 0-1.04.2-1.43.59L10.3 9.45l-7.72 7.72c-.78.78-.78 2.05 0 2.83L4 21.41c.39.39.9.59 1.41.59.51 0 1.02-.2 1.41-.59l7.78-7.78 2.81-2.81c.8-.78.8-2.07 0-2.86zM5.41 20L4 18.59l7.72-7.72 1.47 1.35L5.41 20z\"/>\n",
       "  </svg>\n",
       "      </button>\n",
       "      \n",
       "  <style>\n",
       "    .colab-df-container {\n",
       "      display:flex;\n",
       "      flex-wrap:wrap;\n",
       "      gap: 12px;\n",
       "    }\n",
       "\n",
       "    .colab-df-convert {\n",
       "      background-color: #E8F0FE;\n",
       "      border: none;\n",
       "      border-radius: 50%;\n",
       "      cursor: pointer;\n",
       "      display: none;\n",
       "      fill: #1967D2;\n",
       "      height: 32px;\n",
       "      padding: 0 0 0 0;\n",
       "      width: 32px;\n",
       "    }\n",
       "\n",
       "    .colab-df-convert:hover {\n",
       "      background-color: #E2EBFA;\n",
       "      box-shadow: 0px 1px 2px rgba(60, 64, 67, 0.3), 0px 1px 3px 1px rgba(60, 64, 67, 0.15);\n",
       "      fill: #174EA6;\n",
       "    }\n",
       "\n",
       "    [theme=dark] .colab-df-convert {\n",
       "      background-color: #3B4455;\n",
       "      fill: #D2E3FC;\n",
       "    }\n",
       "\n",
       "    [theme=dark] .colab-df-convert:hover {\n",
       "      background-color: #434B5C;\n",
       "      box-shadow: 0px 1px 3px 1px rgba(0, 0, 0, 0.15);\n",
       "      filter: drop-shadow(0px 1px 2px rgba(0, 0, 0, 0.3));\n",
       "      fill: #FFFFFF;\n",
       "    }\n",
       "  </style>\n",
       "\n",
       "      <script>\n",
       "        const buttonEl =\n",
       "          document.querySelector('#df-dac17d9c-2745-4732-b1ec-19748e4f178b button.colab-df-convert');\n",
       "        buttonEl.style.display =\n",
       "          google.colab.kernel.accessAllowed ? 'block' : 'none';\n",
       "\n",
       "        async function convertToInteractive(key) {\n",
       "          const element = document.querySelector('#df-dac17d9c-2745-4732-b1ec-19748e4f178b');\n",
       "          const dataTable =\n",
       "            await google.colab.kernel.invokeFunction('convertToInteractive',\n",
       "                                                     [key], {});\n",
       "          if (!dataTable) return;\n",
       "\n",
       "          const docLinkHtml = 'Like what you see? Visit the ' +\n",
       "            '<a target=\"_blank\" href=https://colab.research.google.com/notebooks/data_table.ipynb>data table notebook</a>'\n",
       "            + ' to learn more about interactive tables.';\n",
       "          element.innerHTML = '';\n",
       "          dataTable['output_type'] = 'display_data';\n",
       "          await google.colab.output.renderOutput(dataTable, element);\n",
       "          const docLink = document.createElement('div');\n",
       "          docLink.innerHTML = docLinkHtml;\n",
       "          element.appendChild(docLink);\n",
       "        }\n",
       "      </script>\n",
       "    </div>\n",
       "  </div>\n",
       "  "
      ],
      "text/plain": [
       "                TID              MID                               From  \\\n",
       "0  155a74d0930df40c  e9c42ba707f5e84               mark.whitt@enron.com   \n",
       "1  155a01503aaa94d2  ea7d7b79039db9c           barry.tycholiz@enron.com   \n",
       "2  155a0146556ac9cb  e9e418ca9b8987a           barry.tycholiz@enron.com   \n",
       "3  1559a0a82828c7c9  ea57a25b4ab0621  enron_update@concureworkplace.com   \n",
       "4  1559a0a82828c7c9  ea57a247904c8e9  enron_update@concureworkplace.com   \n",
       "\n",
       "                           TO                  Timestamp Type  \n",
       "0      heidi.dubose@enron.com  2001-10-25T07:02:55-07:00   TO  \n",
       "1    jessica.presas@enron.com  2001-11-30T05:39:51-08:00   TO  \n",
       "2  stephanie.miller@enron.com  2001-10-31T10:50:10-08:00   TO  \n",
       "3        s..shively@enron.com  2001-11-22T21:16:45-08:00   TO  \n",
       "4           jsteffe@enron.com  2001-11-22T21:16:40-08:00   TO  "
      ]
     },
     "execution_count": 1,
     "metadata": {},
     "output_type": "execute_result"
    }
   ],
   "source": [
    "import pandas as pd\n",
    "df = pd.read_csv('/content/Enron_email_threads_updated.csv',encoding=\"utf_16\",sep='\\t')\n",
    "df.head()"
   ]
  },
  {
   "cell_type": "code",
   "execution_count": 2,
   "metadata": {
    "colab": {
     "base_uri": "https://localhost:8080/"
    },
    "id": "Od3Hcu-Xn36Z",
    "outputId": "4905b757-aee8-4b51-bf55-df11bde84e5a"
   },
   "outputs": [
    {
     "name": "stdout",
     "output_type": "stream",
     "text": [
      "<class 'pandas.core.frame.DataFrame'>\n",
      "RangeIndex: 471874 entries, 0 to 471873\n",
      "Data columns (total 6 columns):\n",
      " #   Column     Non-Null Count   Dtype \n",
      "---  ------     --------------   ----- \n",
      " 0   TID        471874 non-null  object\n",
      " 1   MID        471874 non-null  object\n",
      " 2   From       471874 non-null  object\n",
      " 3   TO         471872 non-null  object\n",
      " 4   Timestamp  471874 non-null  object\n",
      " 5   Type       471874 non-null  object\n",
      "dtypes: object(6)\n",
      "memory usage: 21.6+ MB\n"
     ]
    }
   ],
   "source": [
    "df.info()"
   ]
  },
  {
   "cell_type": "code",
   "execution_count": 3,
   "metadata": {
    "colab": {
     "base_uri": "https://localhost:8080/"
    },
    "id": "UVyaLQnPr5FB",
    "outputId": "ff833bc4-62d9-4bde-b68d-9947b349882a"
   },
   "outputs": [
    {
     "data": {
      "text/plain": [
       "TID          0\n",
       "MID          0\n",
       "From         0\n",
       "TO           2\n",
       "Timestamp    0\n",
       "Type         0\n",
       "dtype: int64"
      ]
     },
     "execution_count": 3,
     "metadata": {},
     "output_type": "execute_result"
    }
   ],
   "source": [
    "df.isna().sum()"
   ]
  },
  {
   "cell_type": "code",
   "execution_count": 4,
   "metadata": {
    "collapsed": true,
    "id": "bRcQYsucr9J5",
    "jupyter": {
     "outputs_hidden": true
    }
   },
   "outputs": [],
   "source": [
    "df.dropna(subset=['TO'],inplace=True)"
   ]
  },
  {
   "cell_type": "code",
   "execution_count": 5,
   "metadata": {
    "colab": {
     "base_uri": "https://localhost:8080/"
    },
    "id": "fNstwUt0sJnC",
    "outputId": "674adb17-852a-4f60-a04a-d4cdc1ed95df"
   },
   "outputs": [
    {
     "data": {
      "text/plain": [
       "TID          0\n",
       "MID          0\n",
       "From         0\n",
       "TO           0\n",
       "Timestamp    0\n",
       "Type         0\n",
       "dtype: int64"
      ]
     },
     "execution_count": 5,
     "metadata": {},
     "output_type": "execute_result"
    }
   ],
   "source": [
    "df.isna().sum()"
   ]
  },
  {
   "cell_type": "code",
   "execution_count": 6,
   "metadata": {
    "colab": {
     "base_uri": "https://localhost:8080/"
    },
    "id": "yEWFJIslpOUA",
    "outputId": "f9fe4158-578c-4576-975c-e635facc1b8c"
   },
   "outputs": [
    {
     "data": {
      "text/plain": [
       "TO      353404\n",
       "BCC      60160\n",
       "CC       58235\n",
       "TO\"         52\n",
       "BCC\"        14\n",
       "CC\"          7\n",
       "Name: Type, dtype: int64"
      ]
     },
     "execution_count": 6,
     "metadata": {},
     "output_type": "execute_result"
    }
   ],
   "source": [
    "df.Type.value_counts()"
   ]
  },
  {
   "cell_type": "code",
   "execution_count": 7,
   "metadata": {
    "collapsed": true,
    "id": "tvYSFEDkpbEY",
    "jupyter": {
     "outputs_hidden": true
    }
   },
   "outputs": [],
   "source": [
    "df.Type= df.Type.str.replace('\"','')"
   ]
  },
  {
   "cell_type": "code",
   "execution_count": 8,
   "metadata": {
    "colab": {
     "base_uri": "https://localhost:8080/"
    },
    "id": "uXqtjbTWptR4",
    "outputId": "bff8def4-ec7c-4bec-8751-7fa39e155f8d"
   },
   "outputs": [
    {
     "data": {
      "text/plain": [
       "TO     353456\n",
       "BCC     60174\n",
       "CC      58242\n",
       "Name: Type, dtype: int64"
      ]
     },
     "execution_count": 8,
     "metadata": {},
     "output_type": "execute_result"
    }
   ],
   "source": [
    "df.Type.value_counts()"
   ]
  },
  {
   "cell_type": "code",
   "execution_count": 9,
   "metadata": {
    "collapsed": true,
    "id": "jYRUn8SOpxiR",
    "jupyter": {
     "outputs_hidden": true
    }
   },
   "outputs": [],
   "source": [
    "def extract_domain(email):\n",
    "  return email.split('@')[1]\n"
   ]
  },
  {
   "cell_type": "code",
   "execution_count": 10,
   "metadata": {
    "collapsed": true,
    "id": "aHuDQO72qRwZ",
    "jupyter": {
     "outputs_hidden": true
    }
   },
   "outputs": [],
   "source": [
    "df['from_domain'] = df.From.apply(extract_domain)"
   ]
  },
  {
   "cell_type": "code",
   "execution_count": 11,
   "metadata": {
    "colab": {
     "base_uri": "https://localhost:8080/",
     "height": 259
    },
    "id": "69XL-ABCqbWp",
    "outputId": "47a835f0-1510-4db0-8661-42f4236a1e5a"
   },
   "outputs": [
    {
     "ename": "IndexError",
     "evalue": "ignored",
     "output_type": "error",
     "traceback": [
      "\u001b[0;31m---------------------------------------------------------------------------\u001b[0m",
      "\u001b[0;31mIndexError\u001b[0m                                Traceback (most recent call last)",
      "\u001b[0;32m<ipython-input-11-6d719dc275a9>\u001b[0m in \u001b[0;36m<module>\u001b[0;34m()\u001b[0m\n\u001b[0;32m----> 1\u001b[0;31m \u001b[0mdf\u001b[0m\u001b[0;34m[\u001b[0m\u001b[0;34m'To_domain'\u001b[0m\u001b[0;34m]\u001b[0m \u001b[0;34m=\u001b[0m \u001b[0mdf\u001b[0m\u001b[0;34m.\u001b[0m\u001b[0mTO\u001b[0m\u001b[0;34m.\u001b[0m\u001b[0mapply\u001b[0m\u001b[0;34m(\u001b[0m\u001b[0mextract_domain\u001b[0m\u001b[0;34m)\u001b[0m\u001b[0;34m\u001b[0m\u001b[0;34m\u001b[0m\u001b[0m\n\u001b[0m",
      "\u001b[0;32m/usr/local/lib/python3.7/dist-packages/pandas/core/series.py\u001b[0m in \u001b[0;36mapply\u001b[0;34m(self, func, convert_dtype, args, **kwargs)\u001b[0m\n\u001b[1;32m   4355\u001b[0m         \u001b[0mdtype\u001b[0m\u001b[0;34m:\u001b[0m \u001b[0mfloat64\u001b[0m\u001b[0;34m\u001b[0m\u001b[0;34m\u001b[0m\u001b[0m\n\u001b[1;32m   4356\u001b[0m         \"\"\"\n\u001b[0;32m-> 4357\u001b[0;31m         \u001b[0;32mreturn\u001b[0m \u001b[0mSeriesApply\u001b[0m\u001b[0;34m(\u001b[0m\u001b[0mself\u001b[0m\u001b[0;34m,\u001b[0m \u001b[0mfunc\u001b[0m\u001b[0;34m,\u001b[0m \u001b[0mconvert_dtype\u001b[0m\u001b[0;34m,\u001b[0m \u001b[0margs\u001b[0m\u001b[0;34m,\u001b[0m \u001b[0mkwargs\u001b[0m\u001b[0;34m)\u001b[0m\u001b[0;34m.\u001b[0m\u001b[0mapply\u001b[0m\u001b[0;34m(\u001b[0m\u001b[0;34m)\u001b[0m\u001b[0;34m\u001b[0m\u001b[0;34m\u001b[0m\u001b[0m\n\u001b[0m\u001b[1;32m   4358\u001b[0m \u001b[0;34m\u001b[0m\u001b[0m\n\u001b[1;32m   4359\u001b[0m     def _reduce(\n",
      "\u001b[0;32m/usr/local/lib/python3.7/dist-packages/pandas/core/apply.py\u001b[0m in \u001b[0;36mapply\u001b[0;34m(self)\u001b[0m\n\u001b[1;32m   1041\u001b[0m             \u001b[0;32mreturn\u001b[0m \u001b[0mself\u001b[0m\u001b[0;34m.\u001b[0m\u001b[0mapply_str\u001b[0m\u001b[0;34m(\u001b[0m\u001b[0;34m)\u001b[0m\u001b[0;34m\u001b[0m\u001b[0;34m\u001b[0m\u001b[0m\n\u001b[1;32m   1042\u001b[0m \u001b[0;34m\u001b[0m\u001b[0m\n\u001b[0;32m-> 1043\u001b[0;31m         \u001b[0;32mreturn\u001b[0m \u001b[0mself\u001b[0m\u001b[0;34m.\u001b[0m\u001b[0mapply_standard\u001b[0m\u001b[0;34m(\u001b[0m\u001b[0;34m)\u001b[0m\u001b[0;34m\u001b[0m\u001b[0;34m\u001b[0m\u001b[0m\n\u001b[0m\u001b[1;32m   1044\u001b[0m \u001b[0;34m\u001b[0m\u001b[0m\n\u001b[1;32m   1045\u001b[0m     \u001b[0;32mdef\u001b[0m \u001b[0magg\u001b[0m\u001b[0;34m(\u001b[0m\u001b[0mself\u001b[0m\u001b[0;34m)\u001b[0m\u001b[0;34m:\u001b[0m\u001b[0;34m\u001b[0m\u001b[0;34m\u001b[0m\u001b[0m\n",
      "\u001b[0;32m/usr/local/lib/python3.7/dist-packages/pandas/core/apply.py\u001b[0m in \u001b[0;36mapply_standard\u001b[0;34m(self)\u001b[0m\n\u001b[1;32m   1099\u001b[0m                     \u001b[0mvalues\u001b[0m\u001b[0;34m,\u001b[0m\u001b[0;34m\u001b[0m\u001b[0;34m\u001b[0m\u001b[0m\n\u001b[1;32m   1100\u001b[0m                     \u001b[0mf\u001b[0m\u001b[0;34m,\u001b[0m  \u001b[0;31m# type: ignore[arg-type]\u001b[0m\u001b[0;34m\u001b[0m\u001b[0;34m\u001b[0m\u001b[0m\n\u001b[0;32m-> 1101\u001b[0;31m                     \u001b[0mconvert\u001b[0m\u001b[0;34m=\u001b[0m\u001b[0mself\u001b[0m\u001b[0;34m.\u001b[0m\u001b[0mconvert_dtype\u001b[0m\u001b[0;34m,\u001b[0m\u001b[0;34m\u001b[0m\u001b[0;34m\u001b[0m\u001b[0m\n\u001b[0m\u001b[1;32m   1102\u001b[0m                 )\n\u001b[1;32m   1103\u001b[0m \u001b[0;34m\u001b[0m\u001b[0m\n",
      "\u001b[0;32m/usr/local/lib/python3.7/dist-packages/pandas/_libs/lib.pyx\u001b[0m in \u001b[0;36mpandas._libs.lib.map_infer\u001b[0;34m()\u001b[0m\n",
      "\u001b[0;32m<ipython-input-9-1d73edba5e1c>\u001b[0m in \u001b[0;36mextract_domain\u001b[0;34m(email)\u001b[0m\n\u001b[1;32m      1\u001b[0m \u001b[0;32mdef\u001b[0m \u001b[0mextract_domain\u001b[0m\u001b[0;34m(\u001b[0m\u001b[0memail\u001b[0m\u001b[0;34m)\u001b[0m\u001b[0;34m:\u001b[0m\u001b[0;34m\u001b[0m\u001b[0;34m\u001b[0m\u001b[0m\n\u001b[0;32m----> 2\u001b[0;31m   \u001b[0;32mreturn\u001b[0m \u001b[0memail\u001b[0m\u001b[0;34m.\u001b[0m\u001b[0msplit\u001b[0m\u001b[0;34m(\u001b[0m\u001b[0;34m'@'\u001b[0m\u001b[0;34m)\u001b[0m\u001b[0;34m[\u001b[0m\u001b[0;36m1\u001b[0m\u001b[0;34m]\u001b[0m\u001b[0;34m\u001b[0m\u001b[0;34m\u001b[0m\u001b[0m\n\u001b[0m",
      "\u001b[0;31mIndexError\u001b[0m: list index out of range"
     ]
    }
   ],
   "source": [
    "df['To_domain'] = df.TO.apply(extract_domain)"
   ]
  },
  {
   "cell_type": "code",
   "execution_count": 12,
   "metadata": {
    "colab": {
     "base_uri": "https://localhost:8080/",
     "height": 142
    },
    "id": "1I91XlmHq7qR",
    "outputId": "02a00044-8f0d-4a1e-b960-9b41f2b41e33"
   },
   "outputs": [
    {
     "data": {
      "text/html": [
       "\n",
       "  <div id=\"df-cf88dc01-5a24-4e7e-af15-08f2746a43b5\">\n",
       "    <div class=\"colab-df-container\">\n",
       "      <div>\n",
       "<style scoped>\n",
       "    .dataframe tbody tr th:only-of-type {\n",
       "        vertical-align: middle;\n",
       "    }\n",
       "\n",
       "    .dataframe tbody tr th {\n",
       "        vertical-align: top;\n",
       "    }\n",
       "\n",
       "    .dataframe thead th {\n",
       "        text-align: right;\n",
       "    }\n",
       "</style>\n",
       "<table border=\"1\" class=\"dataframe\">\n",
       "  <thead>\n",
       "    <tr style=\"text-align: right;\">\n",
       "      <th></th>\n",
       "      <th>TID</th>\n",
       "      <th>MID</th>\n",
       "      <th>From</th>\n",
       "      <th>TO</th>\n",
       "      <th>Timestamp</th>\n",
       "      <th>Type</th>\n",
       "      <th>from_domain</th>\n",
       "    </tr>\n",
       "  </thead>\n",
       "  <tbody>\n",
       "    <tr>\n",
       "      <th>63386</th>\n",
       "      <td>e9b488982b35baa</td>\n",
       "      <td>e9b488982b35baa</td>\n",
       "      <td>david_nobles@ewingcc.com</td>\n",
       "      <td>&lt;p.&gt;</td>\n",
       "      <td>2001-10-22T06:10:31-07:00</td>\n",
       "      <td>BCC</td>\n",
       "      <td>ewingcc.com</td>\n",
       "    </tr>\n",
       "  </tbody>\n",
       "</table>\n",
       "</div>\n",
       "      <button class=\"colab-df-convert\" onclick=\"convertToInteractive('df-cf88dc01-5a24-4e7e-af15-08f2746a43b5')\"\n",
       "              title=\"Convert this dataframe to an interactive table.\"\n",
       "              style=\"display:none;\">\n",
       "        \n",
       "  <svg xmlns=\"http://www.w3.org/2000/svg\" height=\"24px\"viewBox=\"0 0 24 24\"\n",
       "       width=\"24px\">\n",
       "    <path d=\"M0 0h24v24H0V0z\" fill=\"none\"/>\n",
       "    <path d=\"M18.56 5.44l.94 2.06.94-2.06 2.06-.94-2.06-.94-.94-2.06-.94 2.06-2.06.94zm-11 1L8.5 8.5l.94-2.06 2.06-.94-2.06-.94L8.5 2.5l-.94 2.06-2.06.94zm10 10l.94 2.06.94-2.06 2.06-.94-2.06-.94-.94-2.06-.94 2.06-2.06.94z\"/><path d=\"M17.41 7.96l-1.37-1.37c-.4-.4-.92-.59-1.43-.59-.52 0-1.04.2-1.43.59L10.3 9.45l-7.72 7.72c-.78.78-.78 2.05 0 2.83L4 21.41c.39.39.9.59 1.41.59.51 0 1.02-.2 1.41-.59l7.78-7.78 2.81-2.81c.8-.78.8-2.07 0-2.86zM5.41 20L4 18.59l7.72-7.72 1.47 1.35L5.41 20z\"/>\n",
       "  </svg>\n",
       "      </button>\n",
       "      \n",
       "  <style>\n",
       "    .colab-df-container {\n",
       "      display:flex;\n",
       "      flex-wrap:wrap;\n",
       "      gap: 12px;\n",
       "    }\n",
       "\n",
       "    .colab-df-convert {\n",
       "      background-color: #E8F0FE;\n",
       "      border: none;\n",
       "      border-radius: 50%;\n",
       "      cursor: pointer;\n",
       "      display: none;\n",
       "      fill: #1967D2;\n",
       "      height: 32px;\n",
       "      padding: 0 0 0 0;\n",
       "      width: 32px;\n",
       "    }\n",
       "\n",
       "    .colab-df-convert:hover {\n",
       "      background-color: #E2EBFA;\n",
       "      box-shadow: 0px 1px 2px rgba(60, 64, 67, 0.3), 0px 1px 3px 1px rgba(60, 64, 67, 0.15);\n",
       "      fill: #174EA6;\n",
       "    }\n",
       "\n",
       "    [theme=dark] .colab-df-convert {\n",
       "      background-color: #3B4455;\n",
       "      fill: #D2E3FC;\n",
       "    }\n",
       "\n",
       "    [theme=dark] .colab-df-convert:hover {\n",
       "      background-color: #434B5C;\n",
       "      box-shadow: 0px 1px 3px 1px rgba(0, 0, 0, 0.15);\n",
       "      filter: drop-shadow(0px 1px 2px rgba(0, 0, 0, 0.3));\n",
       "      fill: #FFFFFF;\n",
       "    }\n",
       "  </style>\n",
       "\n",
       "      <script>\n",
       "        const buttonEl =\n",
       "          document.querySelector('#df-cf88dc01-5a24-4e7e-af15-08f2746a43b5 button.colab-df-convert');\n",
       "        buttonEl.style.display =\n",
       "          google.colab.kernel.accessAllowed ? 'block' : 'none';\n",
       "\n",
       "        async function convertToInteractive(key) {\n",
       "          const element = document.querySelector('#df-cf88dc01-5a24-4e7e-af15-08f2746a43b5');\n",
       "          const dataTable =\n",
       "            await google.colab.kernel.invokeFunction('convertToInteractive',\n",
       "                                                     [key], {});\n",
       "          if (!dataTable) return;\n",
       "\n",
       "          const docLinkHtml = 'Like what you see? Visit the ' +\n",
       "            '<a target=\"_blank\" href=https://colab.research.google.com/notebooks/data_table.ipynb>data table notebook</a>'\n",
       "            + ' to learn more about interactive tables.';\n",
       "          element.innerHTML = '';\n",
       "          dataTable['output_type'] = 'display_data';\n",
       "          await google.colab.output.renderOutput(dataTable, element);\n",
       "          const docLink = document.createElement('div');\n",
       "          docLink.innerHTML = docLinkHtml;\n",
       "          element.appendChild(docLink);\n",
       "        }\n",
       "      </script>\n",
       "    </div>\n",
       "  </div>\n",
       "  "
      ],
      "text/plain": [
       "                   TID              MID                      From    TO  \\\n",
       "63386  e9b488982b35baa  e9b488982b35baa  david_nobles@ewingcc.com  <p.>   \n",
       "\n",
       "                       Timestamp Type  from_domain  \n",
       "63386  2001-10-22T06:10:31-07:00  BCC  ewingcc.com  "
      ]
     },
     "execution_count": 12,
     "metadata": {},
     "output_type": "execute_result"
    }
   ],
   "source": [
    "df[~df.TO.str.contains('@')]"
   ]
  },
  {
   "cell_type": "code",
   "execution_count": 13,
   "metadata": {
    "collapsed": true,
    "id": "mrKX4gtss3yy",
    "jupyter": {
     "outputs_hidden": true
    }
   },
   "outputs": [],
   "source": [
    "df.drop(63386, axis=0, inplace=True)"
   ]
  },
  {
   "cell_type": "code",
   "execution_count": 14,
   "metadata": {
    "collapsed": true,
    "id": "N52B3bipsVix",
    "jupyter": {
     "outputs_hidden": true
    }
   },
   "outputs": [],
   "source": [
    "df['To_domain'] = df.TO.apply(extract_domain)"
   ]
  },
  {
   "cell_type": "code",
   "execution_count": 15,
   "metadata": {
    "colab": {
     "base_uri": "https://localhost:8080/",
     "height": 835
    },
    "id": "6tu-a7GUss2Z",
    "outputId": "1e95bd77-11c5-4bc3-d87e-12a3d1e609d0"
   },
   "outputs": [
    {
     "data": {
      "text/html": [
       "\n",
       "  <div id=\"df-b2407eba-bd93-4bfb-b04e-76afd09344ca\">\n",
       "    <div class=\"colab-df-container\">\n",
       "      <div>\n",
       "<style scoped>\n",
       "    .dataframe tbody tr th:only-of-type {\n",
       "        vertical-align: middle;\n",
       "    }\n",
       "\n",
       "    .dataframe tbody tr th {\n",
       "        vertical-align: top;\n",
       "    }\n",
       "\n",
       "    .dataframe thead th {\n",
       "        text-align: right;\n",
       "    }\n",
       "</style>\n",
       "<table border=\"1\" class=\"dataframe\">\n",
       "  <thead>\n",
       "    <tr style=\"text-align: right;\">\n",
       "      <th></th>\n",
       "      <th>TID</th>\n",
       "      <th>MID</th>\n",
       "      <th>From</th>\n",
       "      <th>TO</th>\n",
       "      <th>Timestamp</th>\n",
       "      <th>Type</th>\n",
       "      <th>from_domain</th>\n",
       "      <th>To_domain</th>\n",
       "    </tr>\n",
       "  </thead>\n",
       "  <tbody>\n",
       "    <tr>\n",
       "      <th>0</th>\n",
       "      <td>155a74d0930df40c</td>\n",
       "      <td>e9c42ba707f5e84</td>\n",
       "      <td>mark.whitt@enron.com</td>\n",
       "      <td>heidi.dubose@enron.com</td>\n",
       "      <td>2001-10-25T07:02:55-07:00</td>\n",
       "      <td>TO</td>\n",
       "      <td>enron.com</td>\n",
       "      <td>enron.com</td>\n",
       "    </tr>\n",
       "    <tr>\n",
       "      <th>1</th>\n",
       "      <td>155a01503aaa94d2</td>\n",
       "      <td>ea7d7b79039db9c</td>\n",
       "      <td>barry.tycholiz@enron.com</td>\n",
       "      <td>jessica.presas@enron.com</td>\n",
       "      <td>2001-11-30T05:39:51-08:00</td>\n",
       "      <td>TO</td>\n",
       "      <td>enron.com</td>\n",
       "      <td>enron.com</td>\n",
       "    </tr>\n",
       "    <tr>\n",
       "      <th>2</th>\n",
       "      <td>155a0146556ac9cb</td>\n",
       "      <td>e9e418ca9b8987a</td>\n",
       "      <td>barry.tycholiz@enron.com</td>\n",
       "      <td>stephanie.miller@enron.com</td>\n",
       "      <td>2001-10-31T10:50:10-08:00</td>\n",
       "      <td>TO</td>\n",
       "      <td>enron.com</td>\n",
       "      <td>enron.com</td>\n",
       "    </tr>\n",
       "    <tr>\n",
       "      <th>3</th>\n",
       "      <td>1559a0a82828c7c9</td>\n",
       "      <td>ea57a25b4ab0621</td>\n",
       "      <td>enron_update@concureworkplace.com</td>\n",
       "      <td>s..shively@enron.com</td>\n",
       "      <td>2001-11-22T21:16:45-08:00</td>\n",
       "      <td>TO</td>\n",
       "      <td>concureworkplace.com</td>\n",
       "      <td>enron.com</td>\n",
       "    </tr>\n",
       "    <tr>\n",
       "      <th>4</th>\n",
       "      <td>1559a0a82828c7c9</td>\n",
       "      <td>ea57a247904c8e9</td>\n",
       "      <td>enron_update@concureworkplace.com</td>\n",
       "      <td>jsteffe@enron.com</td>\n",
       "      <td>2001-11-22T21:16:40-08:00</td>\n",
       "      <td>TO</td>\n",
       "      <td>concureworkplace.com</td>\n",
       "      <td>enron.com</td>\n",
       "    </tr>\n",
       "    <tr>\n",
       "      <th>...</th>\n",
       "      <td>...</td>\n",
       "      <td>...</td>\n",
       "      <td>...</td>\n",
       "      <td>...</td>\n",
       "      <td>...</td>\n",
       "      <td>...</td>\n",
       "      <td>...</td>\n",
       "      <td>...</td>\n",
       "    </tr>\n",
       "    <tr>\n",
       "      <th>471869</th>\n",
       "      <td>eb1188617718448</td>\n",
       "      <td>eb1188617718448</td>\n",
       "      <td>pete.davis@enron.com</td>\n",
       "      <td>pete.davis@enron.com</td>\n",
       "      <td>2001-12-28T23:37:45-08:00</td>\n",
       "      <td>TO</td>\n",
       "      <td>enron.com</td>\n",
       "      <td>enron.com</td>\n",
       "    </tr>\n",
       "    <tr>\n",
       "      <th>471870</th>\n",
       "      <td>eb1188617718448</td>\n",
       "      <td>eb1188617718448</td>\n",
       "      <td>pete.davis@enron.com</td>\n",
       "      <td>pete.davis@enron.com</td>\n",
       "      <td>2001-12-28T23:37:45-08:00</td>\n",
       "      <td>CC</td>\n",
       "      <td>enron.com</td>\n",
       "      <td>enron.com</td>\n",
       "    </tr>\n",
       "    <tr>\n",
       "      <th>471871</th>\n",
       "      <td>eb1188617718448</td>\n",
       "      <td>eb1188617718448</td>\n",
       "      <td>pete.davis@enron.com</td>\n",
       "      <td>pete.davis@enron.com</td>\n",
       "      <td>2001-12-28T23:37:45-08:00</td>\n",
       "      <td>BCC</td>\n",
       "      <td>enron.com</td>\n",
       "      <td>enron.com</td>\n",
       "    </tr>\n",
       "    <tr>\n",
       "      <th>471872</th>\n",
       "      <td>eb1188617718448</td>\n",
       "      <td>eb1188617718448</td>\n",
       "      <td>pete.davis@enron.com</td>\n",
       "      <td>ryan.slinger@enron.com</td>\n",
       "      <td>2001-12-28T23:37:45-08:00</td>\n",
       "      <td>CC</td>\n",
       "      <td>enron.com</td>\n",
       "      <td>enron.com</td>\n",
       "    </tr>\n",
       "    <tr>\n",
       "      <th>471873</th>\n",
       "      <td>eb1188617718448</td>\n",
       "      <td>eb1188617718448</td>\n",
       "      <td>pete.davis@enron.com</td>\n",
       "      <td>ryan.slinger@enron.com</td>\n",
       "      <td>2001-12-28T23:37:45-08:00</td>\n",
       "      <td>BCC</td>\n",
       "      <td>enron.com</td>\n",
       "      <td>enron.com</td>\n",
       "    </tr>\n",
       "  </tbody>\n",
       "</table>\n",
       "<p>471871 rows × 8 columns</p>\n",
       "</div>\n",
       "      <button class=\"colab-df-convert\" onclick=\"convertToInteractive('df-b2407eba-bd93-4bfb-b04e-76afd09344ca')\"\n",
       "              title=\"Convert this dataframe to an interactive table.\"\n",
       "              style=\"display:none;\">\n",
       "        \n",
       "  <svg xmlns=\"http://www.w3.org/2000/svg\" height=\"24px\"viewBox=\"0 0 24 24\"\n",
       "       width=\"24px\">\n",
       "    <path d=\"M0 0h24v24H0V0z\" fill=\"none\"/>\n",
       "    <path d=\"M18.56 5.44l.94 2.06.94-2.06 2.06-.94-2.06-.94-.94-2.06-.94 2.06-2.06.94zm-11 1L8.5 8.5l.94-2.06 2.06-.94-2.06-.94L8.5 2.5l-.94 2.06-2.06.94zm10 10l.94 2.06.94-2.06 2.06-.94-2.06-.94-.94-2.06-.94 2.06-2.06.94z\"/><path d=\"M17.41 7.96l-1.37-1.37c-.4-.4-.92-.59-1.43-.59-.52 0-1.04.2-1.43.59L10.3 9.45l-7.72 7.72c-.78.78-.78 2.05 0 2.83L4 21.41c.39.39.9.59 1.41.59.51 0 1.02-.2 1.41-.59l7.78-7.78 2.81-2.81c.8-.78.8-2.07 0-2.86zM5.41 20L4 18.59l7.72-7.72 1.47 1.35L5.41 20z\"/>\n",
       "  </svg>\n",
       "      </button>\n",
       "      \n",
       "  <style>\n",
       "    .colab-df-container {\n",
       "      display:flex;\n",
       "      flex-wrap:wrap;\n",
       "      gap: 12px;\n",
       "    }\n",
       "\n",
       "    .colab-df-convert {\n",
       "      background-color: #E8F0FE;\n",
       "      border: none;\n",
       "      border-radius: 50%;\n",
       "      cursor: pointer;\n",
       "      display: none;\n",
       "      fill: #1967D2;\n",
       "      height: 32px;\n",
       "      padding: 0 0 0 0;\n",
       "      width: 32px;\n",
       "    }\n",
       "\n",
       "    .colab-df-convert:hover {\n",
       "      background-color: #E2EBFA;\n",
       "      box-shadow: 0px 1px 2px rgba(60, 64, 67, 0.3), 0px 1px 3px 1px rgba(60, 64, 67, 0.15);\n",
       "      fill: #174EA6;\n",
       "    }\n",
       "\n",
       "    [theme=dark] .colab-df-convert {\n",
       "      background-color: #3B4455;\n",
       "      fill: #D2E3FC;\n",
       "    }\n",
       "\n",
       "    [theme=dark] .colab-df-convert:hover {\n",
       "      background-color: #434B5C;\n",
       "      box-shadow: 0px 1px 3px 1px rgba(0, 0, 0, 0.15);\n",
       "      filter: drop-shadow(0px 1px 2px rgba(0, 0, 0, 0.3));\n",
       "      fill: #FFFFFF;\n",
       "    }\n",
       "  </style>\n",
       "\n",
       "      <script>\n",
       "        const buttonEl =\n",
       "          document.querySelector('#df-b2407eba-bd93-4bfb-b04e-76afd09344ca button.colab-df-convert');\n",
       "        buttonEl.style.display =\n",
       "          google.colab.kernel.accessAllowed ? 'block' : 'none';\n",
       "\n",
       "        async function convertToInteractive(key) {\n",
       "          const element = document.querySelector('#df-b2407eba-bd93-4bfb-b04e-76afd09344ca');\n",
       "          const dataTable =\n",
       "            await google.colab.kernel.invokeFunction('convertToInteractive',\n",
       "                                                     [key], {});\n",
       "          if (!dataTable) return;\n",
       "\n",
       "          const docLinkHtml = 'Like what you see? Visit the ' +\n",
       "            '<a target=\"_blank\" href=https://colab.research.google.com/notebooks/data_table.ipynb>data table notebook</a>'\n",
       "            + ' to learn more about interactive tables.';\n",
       "          element.innerHTML = '';\n",
       "          dataTable['output_type'] = 'display_data';\n",
       "          await google.colab.output.renderOutput(dataTable, element);\n",
       "          const docLink = document.createElement('div');\n",
       "          docLink.innerHTML = docLinkHtml;\n",
       "          element.appendChild(docLink);\n",
       "        }\n",
       "      </script>\n",
       "    </div>\n",
       "  </div>\n",
       "  "
      ],
      "text/plain": [
       "                     TID              MID                               From  \\\n",
       "0       155a74d0930df40c  e9c42ba707f5e84               mark.whitt@enron.com   \n",
       "1       155a01503aaa94d2  ea7d7b79039db9c           barry.tycholiz@enron.com   \n",
       "2       155a0146556ac9cb  e9e418ca9b8987a           barry.tycholiz@enron.com   \n",
       "3       1559a0a82828c7c9  ea57a25b4ab0621  enron_update@concureworkplace.com   \n",
       "4       1559a0a82828c7c9  ea57a247904c8e9  enron_update@concureworkplace.com   \n",
       "...                  ...              ...                                ...   \n",
       "471869   eb1188617718448  eb1188617718448               pete.davis@enron.com   \n",
       "471870   eb1188617718448  eb1188617718448               pete.davis@enron.com   \n",
       "471871   eb1188617718448  eb1188617718448               pete.davis@enron.com   \n",
       "471872   eb1188617718448  eb1188617718448               pete.davis@enron.com   \n",
       "471873   eb1188617718448  eb1188617718448               pete.davis@enron.com   \n",
       "\n",
       "                                TO                  Timestamp Type  \\\n",
       "0           heidi.dubose@enron.com  2001-10-25T07:02:55-07:00   TO   \n",
       "1         jessica.presas@enron.com  2001-11-30T05:39:51-08:00   TO   \n",
       "2       stephanie.miller@enron.com  2001-10-31T10:50:10-08:00   TO   \n",
       "3             s..shively@enron.com  2001-11-22T21:16:45-08:00   TO   \n",
       "4                jsteffe@enron.com  2001-11-22T21:16:40-08:00   TO   \n",
       "...                            ...                        ...  ...   \n",
       "471869        pete.davis@enron.com  2001-12-28T23:37:45-08:00   TO   \n",
       "471870        pete.davis@enron.com  2001-12-28T23:37:45-08:00   CC   \n",
       "471871        pete.davis@enron.com  2001-12-28T23:37:45-08:00  BCC   \n",
       "471872      ryan.slinger@enron.com  2001-12-28T23:37:45-08:00   CC   \n",
       "471873      ryan.slinger@enron.com  2001-12-28T23:37:45-08:00  BCC   \n",
       "\n",
       "                 from_domain  To_domain  \n",
       "0                  enron.com  enron.com  \n",
       "1                  enron.com  enron.com  \n",
       "2                  enron.com  enron.com  \n",
       "3       concureworkplace.com  enron.com  \n",
       "4       concureworkplace.com  enron.com  \n",
       "...                      ...        ...  \n",
       "471869             enron.com  enron.com  \n",
       "471870             enron.com  enron.com  \n",
       "471871             enron.com  enron.com  \n",
       "471872             enron.com  enron.com  \n",
       "471873             enron.com  enron.com  \n",
       "\n",
       "[471871 rows x 8 columns]"
      ]
     },
     "execution_count": 15,
     "metadata": {},
     "output_type": "execute_result"
    }
   ],
   "source": [
    "df"
   ]
  },
  {
   "cell_type": "code",
   "execution_count": 29,
   "metadata": {
    "colab": {
     "base_uri": "https://localhost:8080/"
    },
    "id": "dD88CPpmuFCC",
    "outputId": "3942c021-05df-40de-d822-6801f695082f"
   },
   "outputs": [
    {
     "data": {
      "text/plain": [
       "To_domain\n",
       "enron.com              442340\n",
       "aol.com                  1485\n",
       "hotmail.com               995\n",
       "enron.com>                933\n",
       "ect.enron.com             896\n",
       "                        ...  \n",
       "bmgmusicservice.com         1\n",
       "s-h.com                     1\n",
       "co.multnomah.or.us          1\n",
       "s2systems.com               1\n",
       "cristventures.com           1\n",
       "Name: To_domain, Length: 2867, dtype: int64"
      ]
     },
     "execution_count": 29,
     "metadata": {},
     "output_type": "execute_result"
    }
   ],
   "source": [
    "df.groupby('To_domain')['To_domain'].count().sort_values(ascending=False)"
   ]
  }
 ],
 "metadata": {
  "colab": {
   "name": "Task 3 (Work with String operations)_new.ipynb",
   "provenance": []
  },
  "kernelspec": {
   "display_name": "Python 3 (ipykernel)",
   "language": "python",
   "name": "python3"
  },
  "language_info": {
   "codemirror_mode": {
    "name": "ipython",
    "version": 3
   },
   "file_extension": ".py",
   "mimetype": "text/x-python",
   "name": "python",
   "nbconvert_exporter": "python",
   "pygments_lexer": "ipython3",
   "version": "3.12.4"
  }
 },
 "nbformat": 4,
 "nbformat_minor": 4
}
