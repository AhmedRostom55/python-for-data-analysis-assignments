{
 "cells": [
  {
   "cell_type": "markdown",
   "id": "eeaeccc5",
   "metadata": {
    "id": "eeaeccc5"
   },
   "source": [
    "![image.png](attachment:image.png)"
   ]
  },
  {
   "cell_type": "markdown",
   "id": "22e31e01",
   "metadata": {
    "id": "22e31e01"
   },
   "source": [
    "# Numpy"
   ]
  },
  {
   "cell_type": "markdown",
   "id": "180e4a24",
   "metadata": {
    "id": "180e4a24"
   },
   "source": [
    "Numpy is THE library for scientific computing and linear algebra in Python's community and was designed to give users the best of both worlds in programming languages: the speed of `C` language with the readability and elegance of `Python`."
   ]
  },
  {
   "cell_type": "markdown",
   "id": "fbc83262",
   "metadata": {
    "id": "fbc83262"
   },
   "source": [
    "### Why Numpy?\n",
    "A question arises that why do we need NumPy when python lists are already there. The answer to it is we cannot perform operations on all the elements of two list directly. For example we cannot multiply two lists directly we will have to do it element wise. This is where the role of NumPy comes into play."
   ]
  },
  {
   "cell_type": "code",
   "execution_count": 2,
   "id": "1449a0e7",
   "metadata": {
    "id": "1449a0e7"
   },
   "outputs": [],
   "source": [
    "from numpy import *\n",
    "import numpy as np"
   ]
  },
  {
   "cell_type": "markdown",
   "id": "b6c43581",
   "metadata": {
    "id": "b6c43581"
   },
   "source": [
    "Very quick speed comparison to show the staggering difference in performance, don't bother about the code in the following cell."
   ]
  },
  {
   "cell_type": "code",
   "execution_count": 3,
   "id": "582e5306",
   "metadata": {
    "id": "582e5306"
   },
   "outputs": [],
   "source": [
    "import numpy as np\n",
    "import time\n",
    "import gc # garbage collection\n",
    "import sys\n",
    "\n",
    "\n",
    "def compare_times(f1, f2, setup1=None, setup2=None, runs=30):\n",
    "    print('    format: mean seconds (standard error)', runs, 'runs')\n",
    "    maxpad = max(len(f.__name__) for f in (f1, f2))\n",
    "    means = []\n",
    "    for setup, f in [[setup1, f1], [setup2, f2]]:\n",
    "        setup = (lambda: tuple()) if setup is None else setup\n",
    "        \n",
    "        total_times = []\n",
    "        for _ in range(runs):\n",
    "            try:\n",
    "                gc.disable()\n",
    "                args = setup()\n",
    "                \n",
    "                start = time.time()\n",
    "                if isinstance(args, tuple):\n",
    "                    f(*args)\n",
    "                else:\n",
    "                    f(args)\n",
    "                end = time.time()\n",
    "                \n",
    "                total_times.append(end - start)\n",
    "            finally:\n",
    "                gc.enable()\n",
    "                \n",
    "        mean = np.mean(total_times)\n",
    "        se = np.std(total_times) / np.sqrt(len(total_times))\n",
    "        print('    {} {:.2e} ({:.2e})'.format(f.__name__.ljust(maxpad), mean, se))\n",
    "        means.append(mean)\n",
    "    print('    improvement ratio {:.1f}'.format(means[0] / means[1]))"
   ]
  },
  {
   "cell_type": "code",
   "execution_count": 4,
   "id": "40ed697e",
   "metadata": {
    "id": "40ed697e",
    "outputId": "8930ec45-76f0-45ab-9e2a-3066725fc56d",
    "scrolled": true
   },
   "outputs": [
    {
     "name": "stdout",
     "output_type": "stream",
     "text": [
      "create a list 1, 2, ... 10000000\n",
      "    format: mean seconds (standard error) 30 runs\n",
      "    create_list  3.51e-01 (1.78e-02)\n",
      "    create_array 2.27e-02 (1.61e-03)\n",
      "    improvement ratio 15.4\n"
     ]
    }
   ],
   "source": [
    "size = 10 ** 7 \n",
    "print('create a list 1, 2, ...', size)\n",
    "\n",
    "\n",
    "def create_list(): return list(range(size))\n",
    "def create_array(): return np.arange(size, dtype=int)\n",
    "\n",
    "compare_times(create_list, create_array)"
   ]
  },
  {
   "cell_type": "code",
   "execution_count": 5,
   "id": "5d81b28b",
   "metadata": {
    "colab": {
     "base_uri": "https://localhost:8080/"
    },
    "executionInfo": {
     "elapsed": 5321,
     "status": "ok",
     "timestamp": 1650443715902,
     "user": {
      "displayName": "karim hamdy",
      "userId": "11289720334155720749"
     },
     "user_tz": -120
    },
    "id": "5d81b28b",
    "outputId": "1626bee9-e926-468a-cdaf-c513b5d79375"
   },
   "outputs": [
    {
     "name": "stdout",
     "output_type": "stream",
     "text": [
      "2499984.3258915176\n",
      "Verctorize  : 88.22512626647949ms\n",
      "2499984.3258917206\n",
      "Loop version  : 6140.455007553101ms\n",
      "Vectorization is faster by 69.59984380193653 times\n"
     ]
    }
   ],
   "source": [
    "import time\n",
    "num = 10000000\n",
    "a = np.random.random(num)\n",
    "b = np.random.random(num)\n",
    "\n",
    "star = time.time()\n",
    "c = np.dot(a,b)\n",
    "en = time.time()\n",
    "print(c)\n",
    "print(\"Verctorize  : \" +  str((en -star)*1000) + 'ms')\n",
    "\n",
    "d =0\n",
    "start = time.time()\n",
    "for i in range(num):\n",
    "    d += a[i]*b[i]\n",
    "end = time.time()\n",
    "\n",
    "print(d)\n",
    "print(\"Loop version  : \" +  str((end -start)*1000) + 'ms')\n",
    "print(\"Vectorization is faster by\" , (end -start)/(en -star) , 'times')"
   ]
  },
  {
   "cell_type": "markdown",
   "id": "26313cc1",
   "metadata": {
    "id": "26313cc1"
   },
   "source": [
    "### Convinced about numpy powers? ... Now, let's practice!"
   ]
  },
  {
   "cell_type": "markdown",
   "id": "728ee6e8",
   "metadata": {
    "executionInfo": {
     "elapsed": 13,
     "status": "ok",
     "timestamp": 1650533641180,
     "user": {
      "displayName": "karim hamdy",
      "userId": "11289720334155720749"
     },
     "user_tz": -120
    },
    "id": "9118500d"
   },
   "source": [
    "#### Q1: Create a 1D array of numbers from 0 to 9.\n"
   ]
  },
  {
   "cell_type": "code",
   "execution_count": 38,
   "id": "879af9f4",
   "metadata": {},
   "outputs": [
    {
     "data": {
      "text/plain": [
       "array([0, 1, 2, 3, 4, 5, 6, 7, 8, 9])"
      ]
     },
     "execution_count": 38,
     "metadata": {},
     "output_type": "execute_result"
    }
   ],
   "source": [
    "arr = np.arange(0,10)\n",
    "arr"
   ]
  },
  {
   "cell_type": "markdown",
   "id": "df88002e",
   "metadata": {
    "id": "66e14827",
    "outputId": "2d774aee-c0c4-41fa-cab3-3222c9b946ae"
   },
   "source": [
    "#### Q2: Extract all odd numbers from arr.\n"
   ]
  },
  {
   "cell_type": "code",
   "execution_count": 40,
   "id": "5f8678dc",
   "metadata": {},
   "outputs": [
    {
     "data": {
      "text/plain": [
       "array([1, 3, 5, 7, 9])"
      ]
     },
     "execution_count": 40,
     "metadata": {},
     "output_type": "execute_result"
    }
   ],
   "source": [
    "#جامده الحركه دي اي خدمات هههههههههه\n",
    "\n",
    "np.delete(arr, (arr%2 ==0) )\n"
   ]
  },
  {
   "cell_type": "markdown",
   "id": "80d71e7b",
   "metadata": {
    "id": "e7109f7c",
    "outputId": "3dcf10dd-74ce-4e97-af9e-a6a113fa5325",
    "scrolled": true
   },
   "source": [
    "#### Q3: Replace all odd numbers in arr with -1.\n"
   ]
  },
  {
   "cell_type": "code",
   "execution_count": 41,
   "id": "67166164",
   "metadata": {},
   "outputs": [
    {
     "data": {
      "text/plain": [
       "array([ 0, -1,  2, -1,  4, -1,  6, -1,  8, -1])"
      ]
     },
     "execution_count": 41,
     "metadata": {},
     "output_type": "execute_result"
    }
   ],
   "source": [
    "arr[arr%2 ==1] = -1\n",
    "arr"
   ]
  },
  {
   "cell_type": "markdown",
   "id": "0ff13c21",
   "metadata": {
    "id": "000a0b32",
    "outputId": "c433746f-d447-4cf4-a644-f7783f82ef99"
   },
   "source": [
    "#### Q4: Convert a 1D array of length 10 to a 2D array with 2 rows\n"
   ]
  },
  {
   "cell_type": "code",
   "execution_count": 72,
   "id": "f325309d",
   "metadata": {},
   "outputs": [
    {
     "data": {
      "text/plain": [
       "array([[1, 2, 3],\n",
       "       [4, 5, 6],\n",
       "       [7, 8, 9]])"
      ]
     },
     "execution_count": 72,
     "metadata": {},
     "output_type": "execute_result"
    }
   ],
   "source": [
    "arr2 = np.arange(1,10)\n",
    "arr2.reshape(3,3)"
   ]
  },
  {
   "cell_type": "markdown",
   "id": "dea88c8f",
   "metadata": {
    "id": "3bd85240",
    "outputId": "a65b17fe-39ec-4d6d-bc5c-0d3d586c61c7"
   },
   "source": [
    "#### Q5: compute the square root for each element in the  array\n",
    "#### ([[1, 2, 3],[2, 3, 4],[4, 5, 6]])\n"
   ]
  },
  {
   "cell_type": "code",
   "execution_count": 47,
   "id": "c4279e54",
   "metadata": {},
   "outputs": [
    {
     "data": {
      "text/plain": [
       "array([[1.        , 1.41421356, 1.73205081],\n",
       "       [1.41421356, 1.73205081, 2.        ],\n",
       "       [2.        , 2.23606798, 2.44948974]])"
      ]
     },
     "execution_count": 47,
     "metadata": {},
     "output_type": "execute_result"
    }
   ],
   "source": [
    "arr3 = np.array([[1, 2, 3],[2, 3, 4],[4, 5, 6]])\n",
    "np.sqrt(arr3)"
   ]
  },
  {
   "cell_type": "markdown",
   "id": "d2a4eace",
   "metadata": {
    "id": "40b93eb4",
    "outputId": "29b031b9-340a-46ce-f99a-71e45e965cfc"
   },
   "source": [
    "#### Q6: compute the exponential for each element in the above array\n"
   ]
  },
  {
   "cell_type": "code",
   "execution_count": 48,
   "id": "87533787",
   "metadata": {},
   "outputs": [
    {
     "data": {
      "text/plain": [
       "array([[  2.71828183,   7.3890561 ,  20.08553692],\n",
       "       [  7.3890561 ,  20.08553692,  54.59815003],\n",
       "       [ 54.59815003, 148.4131591 , 403.42879349]])"
      ]
     },
     "execution_count": 48,
     "metadata": {},
     "output_type": "execute_result"
    }
   ],
   "source": [
    "np.exp(arr3)"
   ]
  },
  {
   "cell_type": "markdown",
   "id": "8293fb48",
   "metadata": {
    "id": "5f553e3a",
    "outputId": "30df687b-b74a-43a5-963d-4a43fa70fbd6"
   },
   "source": [
    "#### Q7: sample 8 elements from uniform dist ([0, 1)\n"
   ]
  },
  {
   "cell_type": "code",
   "execution_count": 60,
   "id": "615b5468",
   "metadata": {},
   "outputs": [
    {
     "data": {
      "text/plain": [
       "array([0.93695185, 0.30686699, 0.95666698, 0.96811051, 0.26473314,\n",
       "       0.91715603, 0.7908393 , 0.87716229])"
      ]
     },
     "execution_count": 60,
     "metadata": {},
     "output_type": "execute_result"
    }
   ],
   "source": [
    "arr4 = np.random.random(8)\n",
    "arr4"
   ]
  },
  {
   "cell_type": "markdown",
   "id": "9177dac4",
   "metadata": {},
   "source": [
    "#### Q8: Write a NumPy program to create a vector of length 5 filled with arbitrary integers from 0 to 10."
   ]
  },
  {
   "cell_type": "markdown",
   "id": "b2f2a38d",
   "metadata": {},
   "source": []
  },
  {
   "cell_type": "markdown",
   "id": "96c6a9f7",
   "metadata": {},
   "source": [
    "#### Q9: Write a NumPy program to create a 3x4 matrix filled with values from 10 to 21"
   ]
  },
  {
   "cell_type": "code",
   "execution_count": 66,
   "id": "9a2ceef2",
   "metadata": {},
   "outputs": [
    {
     "data": {
      "text/plain": [
       "array([[10, 11, 12, 13],\n",
       "       [14, 15, 16, 17],\n",
       "       [18, 19, 20, 21]])"
      ]
     },
     "execution_count": 66,
     "metadata": {},
     "output_type": "execute_result"
    }
   ],
   "source": [
    "a = np.arange(10,22).reshape(3,4)\n",
    "a"
   ]
  },
  {
   "cell_type": "markdown",
   "id": "c7e42479",
   "metadata": {},
   "source": [
    "#### Q10: Write a NumPy program to create a vector of length 10 with values evenly distributed between 5 and 50."
   ]
  },
  {
   "cell_type": "code",
   "execution_count": 68,
   "id": "35124c17",
   "metadata": {},
   "outputs": [
    {
     "data": {
      "text/plain": [
       "array([16, 37, 17, 35, 12,  9, 32, 19, 48, 47])"
      ]
     },
     "execution_count": 68,
     "metadata": {},
     "output_type": "execute_result"
    }
   ],
   "source": [
    "s = np.random.randint(5,50,10)\n",
    "s"
   ]
  },
  {
   "cell_type": "markdown",
   "id": "d617d3d8",
   "metadata": {},
   "source": [
    "#### Q11: Write a NumPy program to create an array of all the even integers from 30 to 70."
   ]
  },
  {
   "cell_type": "code",
   "execution_count": 69,
   "id": "91da5900",
   "metadata": {},
   "outputs": [
    {
     "data": {
      "text/plain": [
       "array([30, 32, 34, 36, 38, 40, 42, 44, 46, 48, 50, 52, 54, 56, 58, 60, 62,\n",
       "       64, 66, 68, 70])"
      ]
     },
     "execution_count": 69,
     "metadata": {},
     "output_type": "execute_result"
    }
   ],
   "source": [
    "np.arange(30,71,2)"
   ]
  },
  {
   "cell_type": "markdown",
   "id": "cd373f6d",
   "metadata": {},
   "source": [
    "#### Q12: Write a NumPy program to check whether two arrays are equal (element wise) or not"
   ]
  },
  {
   "cell_type": "code",
   "execution_count": 71,
   "id": "d6d0e66e",
   "metadata": {},
   "outputs": [
    {
     "data": {
      "text/plain": [
       "array([False, False, False, False, False, False, False, False, False])"
      ]
     },
     "execution_count": 71,
     "metadata": {},
     "output_type": "execute_result"
    }
   ],
   "source": [
    "w = np.arange(1,10)\n",
    "e = np.arange(2,11)\n",
    "w == e"
   ]
  },
  {
   "cell_type": "markdown",
   "id": "1bcea8d0",
   "metadata": {
    "id": "1bcea8d0"
   },
   "source": [
    "* further reading: [visit here](https://www.w3resource.com/python-exercises/numpy/index.php)"
   ]
  }
 ],
 "metadata": {
  "colab": {
   "name": "Numpy Assignment Epsilon.ipynb",
   "provenance": []
  },
  "kernelspec": {
   "display_name": "Python 3 (ipykernel)",
   "language": "python",
   "name": "python3"
  },
  "language_info": {
   "codemirror_mode": {
    "name": "ipython",
    "version": 3
   },
   "file_extension": ".py",
   "mimetype": "text/x-python",
   "name": "python",
   "nbconvert_exporter": "python",
   "pygments_lexer": "ipython3",
   "version": "3.9.12"
  }
 },
 "nbformat": 4,
 "nbformat_minor": 5
}
