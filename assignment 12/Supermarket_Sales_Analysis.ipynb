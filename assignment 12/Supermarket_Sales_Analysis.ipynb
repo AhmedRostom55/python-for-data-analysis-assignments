{
 "cells": [
  {
   "cell_type": "markdown",
   "metadata": {
    "id": "xJ5NdJs85PLl"
   },
   "source": [
    "# Supermarket Sales Exercise - Solutions\n",
    "\n",
    "Welcome to a quick exercise for you to practice your visualization skills! We will be using the [supermarket-sales Dataset](https://www.kaggle.com/aungpyaeap/supermarket-sales) from Kaggle! Just follow along and complete the tasks outlined in bold below. The tasks will get harder and harder as you go along."
   ]
  },
  {
   "cell_type": "code",
   "execution_count": 1,
   "metadata": {
    "id": "OZexhKmH5PLo"
   },
   "outputs": [],
   "source": [
    "import pandas as pd\n",
    "import numpy as np\n",
    "import matplotlib.pyplot as plt\n",
    "import seaborn as sns\n",
    "\n",
    "sns.set(rc={'figure.figsize': [9, 9]}, font_scale=1.2)"
   ]
  },
  {
   "cell_type": "code",
   "execution_count": 2,
   "metadata": {
    "id": "RIl_hqeW5PLp",
    "outputId": "ddf90775-4a3f-41c0-c16f-70daebcd928d"
   },
   "outputs": [
    {
     "data": {
      "text/html": [
       "<div>\n",
       "<style scoped>\n",
       "    .dataframe tbody tr th:only-of-type {\n",
       "        vertical-align: middle;\n",
       "    }\n",
       "\n",
       "    .dataframe tbody tr th {\n",
       "        vertical-align: top;\n",
       "    }\n",
       "\n",
       "    .dataframe thead th {\n",
       "        text-align: right;\n",
       "    }\n",
       "</style>\n",
       "<table border=\"1\" class=\"dataframe\">\n",
       "  <thead>\n",
       "    <tr style=\"text-align: right;\">\n",
       "      <th></th>\n",
       "      <th>Invoice ID</th>\n",
       "      <th>Branch</th>\n",
       "      <th>City</th>\n",
       "      <th>Customer type</th>\n",
       "      <th>Gender</th>\n",
       "      <th>Product line</th>\n",
       "      <th>Unit price</th>\n",
       "      <th>Quantity</th>\n",
       "      <th>Tax 5%</th>\n",
       "      <th>Total</th>\n",
       "      <th>Date</th>\n",
       "      <th>Time</th>\n",
       "      <th>Payment</th>\n",
       "      <th>cogs</th>\n",
       "      <th>gross margin percentage</th>\n",
       "      <th>gross income</th>\n",
       "      <th>Rating</th>\n",
       "    </tr>\n",
       "  </thead>\n",
       "  <tbody>\n",
       "    <tr>\n",
       "      <th>0</th>\n",
       "      <td>750-67-8428</td>\n",
       "      <td>A</td>\n",
       "      <td>Yangon</td>\n",
       "      <td>Member</td>\n",
       "      <td>Female</td>\n",
       "      <td>Health and beauty</td>\n",
       "      <td>74.69</td>\n",
       "      <td>7</td>\n",
       "      <td>26.1415</td>\n",
       "      <td>548.9715</td>\n",
       "      <td>1/5/2019</td>\n",
       "      <td>13:08</td>\n",
       "      <td>Ewallet</td>\n",
       "      <td>522.83</td>\n",
       "      <td>4.761905</td>\n",
       "      <td>26.1415</td>\n",
       "      <td>9.1</td>\n",
       "    </tr>\n",
       "    <tr>\n",
       "      <th>1</th>\n",
       "      <td>226-31-3081</td>\n",
       "      <td>C</td>\n",
       "      <td>Naypyitaw</td>\n",
       "      <td>Normal</td>\n",
       "      <td>Female</td>\n",
       "      <td>Electronic accessories</td>\n",
       "      <td>15.28</td>\n",
       "      <td>5</td>\n",
       "      <td>3.8200</td>\n",
       "      <td>80.2200</td>\n",
       "      <td>3/8/2019</td>\n",
       "      <td>10:29</td>\n",
       "      <td>Cash</td>\n",
       "      <td>76.40</td>\n",
       "      <td>4.761905</td>\n",
       "      <td>3.8200</td>\n",
       "      <td>9.6</td>\n",
       "    </tr>\n",
       "    <tr>\n",
       "      <th>2</th>\n",
       "      <td>631-41-3108</td>\n",
       "      <td>A</td>\n",
       "      <td>Yangon</td>\n",
       "      <td>Normal</td>\n",
       "      <td>Male</td>\n",
       "      <td>Home and lifestyle</td>\n",
       "      <td>46.33</td>\n",
       "      <td>7</td>\n",
       "      <td>16.2155</td>\n",
       "      <td>340.5255</td>\n",
       "      <td>3/3/2019</td>\n",
       "      <td>13:23</td>\n",
       "      <td>Credit card</td>\n",
       "      <td>324.31</td>\n",
       "      <td>4.761905</td>\n",
       "      <td>16.2155</td>\n",
       "      <td>7.4</td>\n",
       "    </tr>\n",
       "    <tr>\n",
       "      <th>3</th>\n",
       "      <td>123-19-1176</td>\n",
       "      <td>A</td>\n",
       "      <td>Yangon</td>\n",
       "      <td>Member</td>\n",
       "      <td>Male</td>\n",
       "      <td>Health and beauty</td>\n",
       "      <td>58.22</td>\n",
       "      <td>8</td>\n",
       "      <td>23.2880</td>\n",
       "      <td>489.0480</td>\n",
       "      <td>1/27/2019</td>\n",
       "      <td>20:33</td>\n",
       "      <td>Ewallet</td>\n",
       "      <td>465.76</td>\n",
       "      <td>4.761905</td>\n",
       "      <td>23.2880</td>\n",
       "      <td>8.4</td>\n",
       "    </tr>\n",
       "    <tr>\n",
       "      <th>4</th>\n",
       "      <td>373-73-7910</td>\n",
       "      <td>A</td>\n",
       "      <td>Yangon</td>\n",
       "      <td>Normal</td>\n",
       "      <td>Male</td>\n",
       "      <td>Sports and travel</td>\n",
       "      <td>86.31</td>\n",
       "      <td>7</td>\n",
       "      <td>30.2085</td>\n",
       "      <td>634.3785</td>\n",
       "      <td>2/8/2019</td>\n",
       "      <td>10:37</td>\n",
       "      <td>Ewallet</td>\n",
       "      <td>604.17</td>\n",
       "      <td>4.761905</td>\n",
       "      <td>30.2085</td>\n",
       "      <td>5.3</td>\n",
       "    </tr>\n",
       "  </tbody>\n",
       "</table>\n",
       "</div>"
      ],
      "text/plain": [
       "    Invoice ID Branch       City Customer type  Gender  \\\n",
       "0  750-67-8428      A     Yangon        Member  Female   \n",
       "1  226-31-3081      C  Naypyitaw        Normal  Female   \n",
       "2  631-41-3108      A     Yangon        Normal    Male   \n",
       "3  123-19-1176      A     Yangon        Member    Male   \n",
       "4  373-73-7910      A     Yangon        Normal    Male   \n",
       "\n",
       "             Product line  Unit price  Quantity   Tax 5%     Total       Date  \\\n",
       "0       Health and beauty       74.69         7  26.1415  548.9715   1/5/2019   \n",
       "1  Electronic accessories       15.28         5   3.8200   80.2200   3/8/2019   \n",
       "2      Home and lifestyle       46.33         7  16.2155  340.5255   3/3/2019   \n",
       "3       Health and beauty       58.22         8  23.2880  489.0480  1/27/2019   \n",
       "4       Sports and travel       86.31         7  30.2085  634.3785   2/8/2019   \n",
       "\n",
       "    Time      Payment    cogs  gross margin percentage  gross income  Rating  \n",
       "0  13:08      Ewallet  522.83                 4.761905       26.1415     9.1  \n",
       "1  10:29         Cash   76.40                 4.761905        3.8200     9.6  \n",
       "2  13:23  Credit card  324.31                 4.761905       16.2155     7.4  \n",
       "3  20:33      Ewallet  465.76                 4.761905       23.2880     8.4  \n",
       "4  10:37      Ewallet  604.17                 4.761905       30.2085     5.3  "
      ]
     },
     "execution_count": 2,
     "metadata": {},
     "output_type": "execute_result"
    }
   ],
   "source": [
    "df = pd.read_csv('supermarket_sales - Sheet1.csv')\n",
    "df.head()"
   ]
  },
  {
   "cell_type": "code",
   "execution_count": 3,
   "metadata": {
    "id": "VN3GGuVt5PLp",
    "outputId": "7ff10dda-0245-4e73-fde1-d451ed1c869b"
   },
   "outputs": [
    {
     "name": "stdout",
     "output_type": "stream",
     "text": [
      "<class 'pandas.core.frame.DataFrame'>\n",
      "RangeIndex: 1000 entries, 0 to 999\n",
      "Data columns (total 17 columns):\n",
      " #   Column                   Non-Null Count  Dtype  \n",
      "---  ------                   --------------  -----  \n",
      " 0   Invoice ID               1000 non-null   object \n",
      " 1   Branch                   1000 non-null   object \n",
      " 2   City                     1000 non-null   object \n",
      " 3   Customer type            1000 non-null   object \n",
      " 4   Gender                   1000 non-null   object \n",
      " 5   Product line             1000 non-null   object \n",
      " 6   Unit price               1000 non-null   float64\n",
      " 7   Quantity                 1000 non-null   int64  \n",
      " 8   Tax 5%                   1000 non-null   float64\n",
      " 9   Total                    1000 non-null   float64\n",
      " 10  Date                     1000 non-null   object \n",
      " 11  Time                     1000 non-null   object \n",
      " 12  Payment                  1000 non-null   object \n",
      " 13  cogs                     1000 non-null   float64\n",
      " 14  gross margin percentage  1000 non-null   float64\n",
      " 15  gross income             1000 non-null   float64\n",
      " 16  Rating                   1000 non-null   float64\n",
      "dtypes: float64(7), int64(1), object(9)\n",
      "memory usage: 132.9+ KB\n"
     ]
    }
   ],
   "source": [
    "df.info()"
   ]
  },
  {
   "cell_type": "markdown",
   "metadata": {},
   "source": [
    "Attribute information\n",
    "\n",
    "* Invoice id: Computer generated sales slip invoice identification number\n",
    "\n",
    "* Branch: Branch of supercenter (3 branches are available identified by A, B and C).\n",
    "\n",
    "* City: Location of supercenters\n",
    "\n",
    "* Customer type: Type of customers, recorded by Members for customers using member card and Normal for without member card.\n",
    "\n",
    "* Gender: Gender type of customer\n",
    "\n",
    "* Product line: General item categorization groups - Electronic accessories, Fashion accessories, Food and beverages, Health and beauty, Home and lifestyle, Sports and travel\n",
    "\n",
    "* Unit price: Price of each product in $\n",
    "\n",
    "* Quantity: Number of products purchased by customer\n",
    "\n",
    "* Tax: 5% tax fee for customer buying\n",
    "\n",
    "* Total: Total price including tax\n",
    "\n",
    "* Date: Date of purchase (Record available from January 2019 to March 2019)\n",
    "\n",
    "* Time: Purchase time (10am to 9pm)\n",
    "\n",
    "* Payment: Payment used by customer for purchase (3 methods are available – Cash, Credit card and Ewallet)\n",
    "\n",
    "* COGS: Cost of goods sold\n",
    "\n",
    "* Gross margin percentage: Gross margin percentage\n",
    "\n",
    "* Gross income: Gross income\n",
    "\n",
    "* Rating: Customer stratification rating on their overall shopping experience (On a scale of 1 to 10)"
   ]
  },
  {
   "cell_type": "code",
   "execution_count": 4,
   "metadata": {},
   "outputs": [
    {
     "data": {
      "text/plain": [
       "Index(['Invoice ID', 'Branch', 'City', 'Customer type', 'Gender',\n",
       "       'Product line', 'Unit price', 'Quantity', 'Tax 5%', 'Total', 'Date',\n",
       "       'Time', 'Payment', 'cogs', 'gross margin percentage', 'gross income',\n",
       "       'Rating'],\n",
       "      dtype='object')"
      ]
     },
     "execution_count": 4,
     "metadata": {},
     "output_type": "execute_result"
    }
   ],
   "source": [
    "df.columns"
   ]
  },
  {
   "cell_type": "code",
   "execution_count": 5,
   "metadata": {},
   "outputs": [
    {
     "data": {
      "text/plain": [
       "Index(['invoice_id', 'branch', 'city', 'customer_type', 'gender',\n",
       "       'product_line', 'unit_price', 'quantity', 'tax_5%', 'total', 'date',\n",
       "       'time', 'payment', 'cogs', 'gross_margin_percentage', 'gross_income',\n",
       "       'rating'],\n",
       "      dtype='object')"
      ]
     },
     "execution_count": 5,
     "metadata": {},
     "output_type": "execute_result"
    }
   ],
   "source": [
    "df.columns = df.columns.str.lower().str.replace(' ', '_')\n",
    "df.columns"
   ]
  },
  {
   "cell_type": "code",
   "execution_count": 6,
   "metadata": {},
   "outputs": [],
   "source": [
    "df.drop('invoice_id', axis =1, inplace=True)"
   ]
  },
  {
   "cell_type": "code",
   "execution_count": 7,
   "metadata": {},
   "outputs": [
    {
     "data": {
      "text/html": [
       "<div>\n",
       "<style scoped>\n",
       "    .dataframe tbody tr th:only-of-type {\n",
       "        vertical-align: middle;\n",
       "    }\n",
       "\n",
       "    .dataframe tbody tr th {\n",
       "        vertical-align: top;\n",
       "    }\n",
       "\n",
       "    .dataframe thead th {\n",
       "        text-align: right;\n",
       "    }\n",
       "</style>\n",
       "<table border=\"1\" class=\"dataframe\">\n",
       "  <thead>\n",
       "    <tr style=\"text-align: right;\">\n",
       "      <th></th>\n",
       "      <th>branch</th>\n",
       "      <th>city</th>\n",
       "      <th>customer_type</th>\n",
       "      <th>gender</th>\n",
       "      <th>product_line</th>\n",
       "      <th>unit_price</th>\n",
       "      <th>quantity</th>\n",
       "      <th>tax_5%</th>\n",
       "      <th>total</th>\n",
       "      <th>date</th>\n",
       "      <th>time</th>\n",
       "      <th>payment</th>\n",
       "      <th>cogs</th>\n",
       "      <th>gross_margin_percentage</th>\n",
       "      <th>gross_income</th>\n",
       "      <th>rating</th>\n",
       "    </tr>\n",
       "  </thead>\n",
       "  <tbody>\n",
       "    <tr>\n",
       "      <th>0</th>\n",
       "      <td>A</td>\n",
       "      <td>Yangon</td>\n",
       "      <td>Member</td>\n",
       "      <td>Female</td>\n",
       "      <td>Health and beauty</td>\n",
       "      <td>74.69</td>\n",
       "      <td>7</td>\n",
       "      <td>26.1415</td>\n",
       "      <td>548.9715</td>\n",
       "      <td>1/5/2019</td>\n",
       "      <td>13:08</td>\n",
       "      <td>Ewallet</td>\n",
       "      <td>522.83</td>\n",
       "      <td>4.761905</td>\n",
       "      <td>26.1415</td>\n",
       "      <td>9.1</td>\n",
       "    </tr>\n",
       "    <tr>\n",
       "      <th>1</th>\n",
       "      <td>C</td>\n",
       "      <td>Naypyitaw</td>\n",
       "      <td>Normal</td>\n",
       "      <td>Female</td>\n",
       "      <td>Electronic accessories</td>\n",
       "      <td>15.28</td>\n",
       "      <td>5</td>\n",
       "      <td>3.8200</td>\n",
       "      <td>80.2200</td>\n",
       "      <td>3/8/2019</td>\n",
       "      <td>10:29</td>\n",
       "      <td>Cash</td>\n",
       "      <td>76.40</td>\n",
       "      <td>4.761905</td>\n",
       "      <td>3.8200</td>\n",
       "      <td>9.6</td>\n",
       "    </tr>\n",
       "    <tr>\n",
       "      <th>2</th>\n",
       "      <td>A</td>\n",
       "      <td>Yangon</td>\n",
       "      <td>Normal</td>\n",
       "      <td>Male</td>\n",
       "      <td>Home and lifestyle</td>\n",
       "      <td>46.33</td>\n",
       "      <td>7</td>\n",
       "      <td>16.2155</td>\n",
       "      <td>340.5255</td>\n",
       "      <td>3/3/2019</td>\n",
       "      <td>13:23</td>\n",
       "      <td>Credit card</td>\n",
       "      <td>324.31</td>\n",
       "      <td>4.761905</td>\n",
       "      <td>16.2155</td>\n",
       "      <td>7.4</td>\n",
       "    </tr>\n",
       "    <tr>\n",
       "      <th>3</th>\n",
       "      <td>A</td>\n",
       "      <td>Yangon</td>\n",
       "      <td>Member</td>\n",
       "      <td>Male</td>\n",
       "      <td>Health and beauty</td>\n",
       "      <td>58.22</td>\n",
       "      <td>8</td>\n",
       "      <td>23.2880</td>\n",
       "      <td>489.0480</td>\n",
       "      <td>1/27/2019</td>\n",
       "      <td>20:33</td>\n",
       "      <td>Ewallet</td>\n",
       "      <td>465.76</td>\n",
       "      <td>4.761905</td>\n",
       "      <td>23.2880</td>\n",
       "      <td>8.4</td>\n",
       "    </tr>\n",
       "    <tr>\n",
       "      <th>4</th>\n",
       "      <td>A</td>\n",
       "      <td>Yangon</td>\n",
       "      <td>Normal</td>\n",
       "      <td>Male</td>\n",
       "      <td>Sports and travel</td>\n",
       "      <td>86.31</td>\n",
       "      <td>7</td>\n",
       "      <td>30.2085</td>\n",
       "      <td>634.3785</td>\n",
       "      <td>2/8/2019</td>\n",
       "      <td>10:37</td>\n",
       "      <td>Ewallet</td>\n",
       "      <td>604.17</td>\n",
       "      <td>4.761905</td>\n",
       "      <td>30.2085</td>\n",
       "      <td>5.3</td>\n",
       "    </tr>\n",
       "  </tbody>\n",
       "</table>\n",
       "</div>"
      ],
      "text/plain": [
       "  branch       city customer_type  gender            product_line  unit_price  \\\n",
       "0      A     Yangon        Member  Female       Health and beauty       74.69   \n",
       "1      C  Naypyitaw        Normal  Female  Electronic accessories       15.28   \n",
       "2      A     Yangon        Normal    Male      Home and lifestyle       46.33   \n",
       "3      A     Yangon        Member    Male       Health and beauty       58.22   \n",
       "4      A     Yangon        Normal    Male       Sports and travel       86.31   \n",
       "\n",
       "   quantity   tax_5%     total       date   time      payment    cogs  \\\n",
       "0         7  26.1415  548.9715   1/5/2019  13:08      Ewallet  522.83   \n",
       "1         5   3.8200   80.2200   3/8/2019  10:29         Cash   76.40   \n",
       "2         7  16.2155  340.5255   3/3/2019  13:23  Credit card  324.31   \n",
       "3         8  23.2880  489.0480  1/27/2019  20:33      Ewallet  465.76   \n",
       "4         7  30.2085  634.3785   2/8/2019  10:37      Ewallet  604.17   \n",
       "\n",
       "   gross_margin_percentage  gross_income  rating  \n",
       "0                 4.761905       26.1415     9.1  \n",
       "1                 4.761905        3.8200     9.6  \n",
       "2                 4.761905       16.2155     7.4  \n",
       "3                 4.761905       23.2880     8.4  \n",
       "4                 4.761905       30.2085     5.3  "
      ]
     },
     "execution_count": 7,
     "metadata": {},
     "output_type": "execute_result"
    }
   ],
   "source": [
    "df.head()"
   ]
  },
  {
   "cell_type": "code",
   "execution_count": 10,
   "metadata": {
    "id": "gHee7ozk5PLq",
    "outputId": "641924a8-4131-4314-e90d-ed92662d9952"
   },
   "outputs": [
    {
     "data": {
      "text/html": [
       "<div>\n",
       "<style scoped>\n",
       "    .dataframe tbody tr th:only-of-type {\n",
       "        vertical-align: middle;\n",
       "    }\n",
       "\n",
       "    .dataframe tbody tr th {\n",
       "        vertical-align: top;\n",
       "    }\n",
       "\n",
       "    .dataframe thead th {\n",
       "        text-align: right;\n",
       "    }\n",
       "</style>\n",
       "<table border=\"1\" class=\"dataframe\">\n",
       "  <thead>\n",
       "    <tr style=\"text-align: right;\">\n",
       "      <th></th>\n",
       "      <th>count</th>\n",
       "      <th>mean</th>\n",
       "      <th>std</th>\n",
       "      <th>min</th>\n",
       "      <th>25%</th>\n",
       "      <th>50%</th>\n",
       "      <th>75%</th>\n",
       "      <th>max</th>\n",
       "    </tr>\n",
       "  </thead>\n",
       "  <tbody>\n",
       "    <tr>\n",
       "      <th>unit_price</th>\n",
       "      <td>1000.0</td>\n",
       "      <td>55.672130</td>\n",
       "      <td>2.649463e+01</td>\n",
       "      <td>10.080000</td>\n",
       "      <td>32.875000</td>\n",
       "      <td>55.230000</td>\n",
       "      <td>77.935000</td>\n",
       "      <td>99.960000</td>\n",
       "    </tr>\n",
       "    <tr>\n",
       "      <th>quantity</th>\n",
       "      <td>1000.0</td>\n",
       "      <td>5.510000</td>\n",
       "      <td>2.923431e+00</td>\n",
       "      <td>1.000000</td>\n",
       "      <td>3.000000</td>\n",
       "      <td>5.000000</td>\n",
       "      <td>8.000000</td>\n",
       "      <td>10.000000</td>\n",
       "    </tr>\n",
       "    <tr>\n",
       "      <th>tax_5%</th>\n",
       "      <td>1000.0</td>\n",
       "      <td>15.379369</td>\n",
       "      <td>1.170883e+01</td>\n",
       "      <td>0.508500</td>\n",
       "      <td>5.924875</td>\n",
       "      <td>12.088000</td>\n",
       "      <td>22.445250</td>\n",
       "      <td>49.650000</td>\n",
       "    </tr>\n",
       "    <tr>\n",
       "      <th>total</th>\n",
       "      <td>1000.0</td>\n",
       "      <td>322.966749</td>\n",
       "      <td>2.458853e+02</td>\n",
       "      <td>10.678500</td>\n",
       "      <td>124.422375</td>\n",
       "      <td>253.848000</td>\n",
       "      <td>471.350250</td>\n",
       "      <td>1042.650000</td>\n",
       "    </tr>\n",
       "    <tr>\n",
       "      <th>cogs</th>\n",
       "      <td>1000.0</td>\n",
       "      <td>307.587380</td>\n",
       "      <td>2.341765e+02</td>\n",
       "      <td>10.170000</td>\n",
       "      <td>118.497500</td>\n",
       "      <td>241.760000</td>\n",
       "      <td>448.905000</td>\n",
       "      <td>993.000000</td>\n",
       "    </tr>\n",
       "    <tr>\n",
       "      <th>gross_margin_percentage</th>\n",
       "      <td>1000.0</td>\n",
       "      <td>4.761905</td>\n",
       "      <td>6.131498e-14</td>\n",
       "      <td>4.761905</td>\n",
       "      <td>4.761905</td>\n",
       "      <td>4.761905</td>\n",
       "      <td>4.761905</td>\n",
       "      <td>4.761905</td>\n",
       "    </tr>\n",
       "    <tr>\n",
       "      <th>gross_income</th>\n",
       "      <td>1000.0</td>\n",
       "      <td>15.379369</td>\n",
       "      <td>1.170883e+01</td>\n",
       "      <td>0.508500</td>\n",
       "      <td>5.924875</td>\n",
       "      <td>12.088000</td>\n",
       "      <td>22.445250</td>\n",
       "      <td>49.650000</td>\n",
       "    </tr>\n",
       "    <tr>\n",
       "      <th>rating</th>\n",
       "      <td>1000.0</td>\n",
       "      <td>6.972700</td>\n",
       "      <td>1.718580e+00</td>\n",
       "      <td>4.000000</td>\n",
       "      <td>5.500000</td>\n",
       "      <td>7.000000</td>\n",
       "      <td>8.500000</td>\n",
       "      <td>10.000000</td>\n",
       "    </tr>\n",
       "  </tbody>\n",
       "</table>\n",
       "</div>"
      ],
      "text/plain": [
       "                          count        mean           std        min  \\\n",
       "unit_price               1000.0   55.672130  2.649463e+01  10.080000   \n",
       "quantity                 1000.0    5.510000  2.923431e+00   1.000000   \n",
       "tax_5%                   1000.0   15.379369  1.170883e+01   0.508500   \n",
       "total                    1000.0  322.966749  2.458853e+02  10.678500   \n",
       "cogs                     1000.0  307.587380  2.341765e+02  10.170000   \n",
       "gross_margin_percentage  1000.0    4.761905  6.131498e-14   4.761905   \n",
       "gross_income             1000.0   15.379369  1.170883e+01   0.508500   \n",
       "rating                   1000.0    6.972700  1.718580e+00   4.000000   \n",
       "\n",
       "                                25%         50%         75%          max  \n",
       "unit_price                32.875000   55.230000   77.935000    99.960000  \n",
       "quantity                   3.000000    5.000000    8.000000    10.000000  \n",
       "tax_5%                     5.924875   12.088000   22.445250    49.650000  \n",
       "total                    124.422375  253.848000  471.350250  1042.650000  \n",
       "cogs                     118.497500  241.760000  448.905000   993.000000  \n",
       "gross_margin_percentage    4.761905    4.761905    4.761905     4.761905  \n",
       "gross_income               5.924875   12.088000   22.445250    49.650000  \n",
       "rating                     5.500000    7.000000    8.500000    10.000000  "
      ]
     },
     "execution_count": 10,
     "metadata": {},
     "output_type": "execute_result"
    }
   ],
   "source": [
    "df.describe().T"
   ]
  },
  {
   "cell_type": "code",
   "execution_count": 85,
   "metadata": {
    "collapsed": true
   },
   "outputs": [],
   "source": [
    "# Helper Function\n",
    "def explore_feature(feature):\n",
    "    count = df[feature].value_counts()\n",
    "    spent = df.groupby(feature) [['total', 'gross_income']].sum()\n",
    "    print(spent.join(count)) "
   ]
  },
  {
   "cell_type": "code",
   "execution_count": 86,
   "metadata": {
    "id": "78uZbWHU5PLq",
    "outputId": "8dfa5665-2f8c-4c44-f3a3-63580b77a7c7"
   },
   "outputs": [
    {
     "name": "stdout",
     "output_type": "stream",
     "text": [
      "              total  gross_income  branch\n",
      "branch                                   \n",
      "A       106200.3705     5057.1605     340\n",
      "B       106197.6720     5057.0320     332\n",
      "C       110568.7065     5265.1765     328\n",
      "****************************************\n",
      "                 total  gross_income  city\n",
      "city                                      \n",
      "Mandalay   106197.6720     5057.0320   332\n",
      "Naypyitaw  110568.7065     5265.1765   328\n",
      "Yangon     106200.3705     5057.1605   340\n",
      "****************************************\n",
      "                    total  gross_income  customer_type\n",
      "customer_type                                         \n",
      "Member         164223.444      7820.164            501\n",
      "Normal         158743.305      7559.205            499\n",
      "****************************************\n",
      "             total  gross_income  gender\n",
      "gender                                  \n",
      "Female  167882.925      7994.425     501\n",
      "Male    155083.824      7384.944     499\n",
      "****************************************\n",
      "                             total  gross_income  product_line\n",
      "product_line                                                  \n",
      "Electronic accessories  54337.5315     2587.5015           170\n",
      "Fashion accessories     54305.8950     2585.9950           178\n",
      "Food and beverages      56144.8440     2673.5640           174\n",
      "Health and beauty       49193.7390     2342.5590           152\n",
      "Home and lifestyle      53861.9130     2564.8530           160\n",
      "Sports and travel       55122.8265     2624.8965           166\n",
      "****************************************\n",
      "                  total  gross_income  payment\n",
      "payment                                       \n",
      "Cash         112206.570      5343.170      344\n",
      "Credit card  100767.072      4798.432      311\n",
      "Ewallet      109993.107      5237.767      345\n",
      "****************************************\n"
     ]
    }
   ],
   "source": [
    "for feature in ['branch', 'city', 'customer_type', 'gender', 'product_line', 'payment']:\n",
    "    explore_feature(feature)\n",
    "    print('*'* 40)"
   ]
  },
  {
   "cell_type": "markdown",
   "metadata": {},
   "source": [
    "> Branch \"C\" has more income and high rating with lower No. of purchases"
   ]
  },
  {
   "cell_type": "markdown",
   "metadata": {},
   "source": [
    "> \"Branch\" column can be dropped and \"City\" column is enough ( May be renamed for clear meaning)"
   ]
  },
  {
   "cell_type": "markdown",
   "metadata": {},
   "source": [
    "> \"Member\" Customers spent more than \"Normal\" customers"
   ]
  },
  {
   "cell_type": "markdown",
   "metadata": {},
   "source": [
    "> \"Female\" Customers spent more than \"Male\" Customers"
   ]
  },
  {
   "cell_type": "markdown",
   "metadata": {},
   "source": [
    "> \"Food and beverages\" and \"Sports and travel\" have the highest total spent"
   ]
  },
  {
   "cell_type": "markdown",
   "metadata": {},
   "source": [
    "> \"Cash\" Payment has higher spent"
   ]
  },
  {
   "cell_type": "code",
   "execution_count": 43,
   "metadata": {
    "collapsed": true
   },
   "outputs": [],
   "source": [
    "df['date']=pd.to_datetime(df['date'])\n",
    "df['year']=df.date.dt.year\n",
    "df['month']=df.date.dt.month\n",
    "df['day']=df.date.dt.day"
   ]
  },
  {
   "cell_type": "code",
   "execution_count": 53,
   "metadata": {},
   "outputs": [
    {
     "name": "stdout",
     "output_type": "stream",
     "text": [
      "2019    1000\n",
      "Name: year, dtype: int64\n"
     ]
    }
   ],
   "source": [
    "print(df.year.value_counts())"
   ]
  },
  {
   "cell_type": "code",
   "execution_count": 49,
   "metadata": {},
   "outputs": [
    {
     "name": "stdout",
     "output_type": "stream",
     "text": [
      "1    352\n",
      "3    345\n",
      "2    303\n",
      "Name: month, dtype: int64\n",
      "month\n",
      "1    116291.868\n",
      "2     97219.374\n",
      "3    109455.507\n",
      "Name: total, dtype: float64\n",
      "month\n",
      "1    5537.708\n",
      "2    4629.494\n",
      "3    5212.167\n",
      "Name: gross_income, dtype: float64\n"
     ]
    }
   ],
   "source": [
    "explore_feature('month')"
   ]
  },
  {
   "cell_type": "markdown",
   "metadata": {},
   "source": [
    "> Month \"1\" has the highest total spent and gross income"
   ]
  }
 ],
 "metadata": {
  "colab": {
   "name": "Supermarket Sales Analysis.ipynb",
   "provenance": []
  },
  "interpreter": {
   "hash": "78c960279fecff9e244480132042affa22d495e3cfc64966045877e7ad2bb26d"
  },
  "kernelspec": {
   "display_name": "Python 3 (ipykernel)",
   "language": "python",
   "name": "python3"
  },
  "language_info": {
   "codemirror_mode": {
    "name": "ipython",
    "version": 3
   },
   "file_extension": ".py",
   "mimetype": "text/x-python",
   "name": "python",
   "nbconvert_exporter": "python",
   "pygments_lexer": "ipython3",
   "version": "3.10.9"
  }
 },
 "nbformat": 4,
 "nbformat_minor": 1
}
