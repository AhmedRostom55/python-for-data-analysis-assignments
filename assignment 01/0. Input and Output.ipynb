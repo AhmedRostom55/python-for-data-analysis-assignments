{
 "cells": [
  {
   "cell_type": "markdown",
   "metadata": {},
   "source": [
    "\n",
    "> # The More you practice The better You'll Be."
   ]
  },
  {
   "cell_type": "markdown",
   "metadata": {},
   "source": [
    "# Q.1 Given the radius of circle, print circumference of circle"
   ]
  },
  {
   "cell_type": "code",
   "execution_count": 6,
   "metadata": {
    "scrolled": true
   },
   "outputs": [
    {
     "name": "stdout",
     "output_type": "stream",
     "text": [
      "enter radius = 10\n",
      "circumference of circle =  62.800000000000004\n"
     ]
    }
   ],
   "source": [
    "r=int(input('enter radius = '))\n",
    "circumference_of_circle = 2 * 3.14 * r\n",
    "print('circumference of circle = ',circumference_of_circle)"
   ]
  },
  {
   "cell_type": "markdown",
   "metadata": {},
   "source": [
    "# Q.2 Given the width and heught of rectangle, print perimeter of rectangle"
   ]
  },
  {
   "cell_type": "code",
   "execution_count": 12,
   "metadata": {},
   "outputs": [
    {
     "name": "stdout",
     "output_type": "stream",
     "text": [
      "height of rectangle = 5\n",
      "width of rectangle = 10\n",
      " perimeter of rectanle 30\n"
     ]
    }
   ],
   "source": [
    "h=int(input('height of rectangle = '))\n",
    "w=int(input('width of rectangle = '))\n",
    "perimeter_of_rectangle=2*(h+w)\n",
    "print(' perimeter of rectanle',perimeter_of_rectangle )"
   ]
  },
  {
   "cell_type": "markdown",
   "metadata": {},
   "source": [
    "# <center> Thank's for your effort ❤️ </center> "
   ]
  }
 ],
 "metadata": {
  "kernelspec": {
   "display_name": "Python 3 (ipykernel)",
   "language": "python",
   "name": "python3"
  },
  "language_info": {
   "codemirror_mode": {
    "name": "ipython",
    "version": 3
   },
   "file_extension": ".py",
   "mimetype": "text/x-python",
   "name": "python",
   "nbconvert_exporter": "python",
   "pygments_lexer": "ipython3",
   "version": "3.10.9"
  }
 },
 "nbformat": 4,
 "nbformat_minor": 4
}
