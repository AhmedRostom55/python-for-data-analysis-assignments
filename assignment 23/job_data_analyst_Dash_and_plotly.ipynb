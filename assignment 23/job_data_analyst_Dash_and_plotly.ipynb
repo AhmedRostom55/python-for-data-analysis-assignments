{
 "cells": [
  {
   "cell_type": "markdown",
   "metadata": {
    "id": "SmsynOvWUPjH"
   },
   "source": [
    "# you are finished data preprocessing module now it`s time to show your skills that you have learned the next project about data analyst jobs this data from kaggle collected this data from Glassdoor website and the data stored in a csv file now you are required to show us you skills by follow the next steps\n",
    "- 1- Load the data\n",
    "- 2- extract some information about data\n",
    "- 3- using all the method that you have learned to handle missing values\n",
    "- 4-  calculate the minmum,maximum and the average salary for data analyst jobs with visualization uising plotly and tell us what you found\n",
    "- 5- from the job describtion extract the most important skills tat data analyst needed and visualize it\n",
    "- 6- what is the most job offer by sector and industry\n",
    "- 7- visualize the Average salary based on company name and it`s rating\n",
    "# your task to apply all you have learned to answer all the above"
   ]
  },
  {
   "cell_type": "markdown",
   "metadata": {
    "id": "ATcp51liu5kv"
   },
   "source": [
    "## import libraries"
   ]
  },
  {
   "cell_type": "code",
   "execution_count": 1,
   "metadata": {
    "id": "UZ573ue7ME-T"
   },
   "outputs": [],
   "source": [
    "import numpy as np\n",
    "import pandas as pd\n",
    "import plotly.express as px"
   ]
  },
  {
   "cell_type": "markdown",
   "metadata": {
    "id": "89vegJZou-C-"
   },
   "source": [
    "## load the data"
   ]
  },
  {
   "cell_type": "code",
   "execution_count": 2,
   "metadata": {
    "id": "rK_BA1FyMV4T"
   },
   "outputs": [],
   "source": [
    "df = pd.read_csv('/content/DataAnalyst.csv',index_col=0)"
   ]
  },
  {
   "cell_type": "code",
   "execution_count": 3,
   "metadata": {
    "colab": {
     "base_uri": "https://localhost:8080/",
     "height": 600
    },
    "id": "fvHiwJsNMaWF",
    "outputId": "66e6ae2a-94c1-4764-b64a-dde4ddb0019d"
   },
   "outputs": [
    {
     "data": {
      "text/html": [
       "\n",
       "  <div id=\"df-e62d16cd-02e1-4834-83cd-adb4f0fb1a7c\">\n",
       "    <div class=\"colab-df-container\">\n",
       "      <div>\n",
       "<style scoped>\n",
       "    .dataframe tbody tr th:only-of-type {\n",
       "        vertical-align: middle;\n",
       "    }\n",
       "\n",
       "    .dataframe tbody tr th {\n",
       "        vertical-align: top;\n",
       "    }\n",
       "\n",
       "    .dataframe thead th {\n",
       "        text-align: right;\n",
       "    }\n",
       "</style>\n",
       "<table border=\"1\" class=\"dataframe\">\n",
       "  <thead>\n",
       "    <tr style=\"text-align: right;\">\n",
       "      <th></th>\n",
       "      <th>Job Title</th>\n",
       "      <th>Salary Estimate</th>\n",
       "      <th>Job Description</th>\n",
       "      <th>Rating</th>\n",
       "      <th>Company Name</th>\n",
       "      <th>Location</th>\n",
       "      <th>Headquarters</th>\n",
       "      <th>Size</th>\n",
       "      <th>Founded</th>\n",
       "      <th>Type of ownership</th>\n",
       "      <th>Industry</th>\n",
       "      <th>Sector</th>\n",
       "      <th>Revenue</th>\n",
       "      <th>Competitors</th>\n",
       "      <th>Easy Apply</th>\n",
       "    </tr>\n",
       "  </thead>\n",
       "  <tbody>\n",
       "    <tr>\n",
       "      <th>0</th>\n",
       "      <td>Data Analyst, Center on Immigration and Justic...</td>\n",
       "      <td>$37K-$66K (Glassdoor est.)</td>\n",
       "      <td>Are you eager to roll up your sleeves and harn...</td>\n",
       "      <td>3.2</td>\n",
       "      <td>Vera Institute of Justice\\n3.2</td>\n",
       "      <td>New York, NY</td>\n",
       "      <td>New York, NY</td>\n",
       "      <td>201 to 500 employees</td>\n",
       "      <td>1961</td>\n",
       "      <td>Nonprofit Organization</td>\n",
       "      <td>Social Assistance</td>\n",
       "      <td>Non-Profit</td>\n",
       "      <td>$100 to $500 million (USD)</td>\n",
       "      <td>-1</td>\n",
       "      <td>True</td>\n",
       "    </tr>\n",
       "    <tr>\n",
       "      <th>1</th>\n",
       "      <td>Quality Data Analyst</td>\n",
       "      <td>$37K-$66K (Glassdoor est.)</td>\n",
       "      <td>Overview\\n\\nProvides analytical and technical ...</td>\n",
       "      <td>3.8</td>\n",
       "      <td>Visiting Nurse Service of New York\\n3.8</td>\n",
       "      <td>New York, NY</td>\n",
       "      <td>New York, NY</td>\n",
       "      <td>10000+ employees</td>\n",
       "      <td>1893</td>\n",
       "      <td>Nonprofit Organization</td>\n",
       "      <td>Health Care Services &amp; Hospitals</td>\n",
       "      <td>Health Care</td>\n",
       "      <td>$2 to $5 billion (USD)</td>\n",
       "      <td>-1</td>\n",
       "      <td>-1</td>\n",
       "    </tr>\n",
       "    <tr>\n",
       "      <th>2</th>\n",
       "      <td>Senior Data Analyst, Insights &amp; Analytics Team...</td>\n",
       "      <td>$37K-$66K (Glassdoor est.)</td>\n",
       "      <td>We’re looking for a Senior Data Analyst who ha...</td>\n",
       "      <td>3.4</td>\n",
       "      <td>Squarespace\\n3.4</td>\n",
       "      <td>New York, NY</td>\n",
       "      <td>New York, NY</td>\n",
       "      <td>1001 to 5000 employees</td>\n",
       "      <td>2003</td>\n",
       "      <td>Company - Private</td>\n",
       "      <td>Internet</td>\n",
       "      <td>Information Technology</td>\n",
       "      <td>Unknown / Non-Applicable</td>\n",
       "      <td>GoDaddy</td>\n",
       "      <td>-1</td>\n",
       "    </tr>\n",
       "    <tr>\n",
       "      <th>3</th>\n",
       "      <td>Data Analyst</td>\n",
       "      <td>$37K-$66K (Glassdoor est.)</td>\n",
       "      <td>Requisition NumberRR-0001939\\nRemote:Yes\\nWe c...</td>\n",
       "      <td>4.1</td>\n",
       "      <td>Celerity\\n4.1</td>\n",
       "      <td>New York, NY</td>\n",
       "      <td>McLean, VA</td>\n",
       "      <td>201 to 500 employees</td>\n",
       "      <td>2002</td>\n",
       "      <td>Subsidiary or Business Segment</td>\n",
       "      <td>IT Services</td>\n",
       "      <td>Information Technology</td>\n",
       "      <td>$50 to $100 million (USD)</td>\n",
       "      <td>-1</td>\n",
       "      <td>-1</td>\n",
       "    </tr>\n",
       "    <tr>\n",
       "      <th>4</th>\n",
       "      <td>Reporting Data Analyst</td>\n",
       "      <td>$37K-$66K (Glassdoor est.)</td>\n",
       "      <td>ABOUT FANDUEL GROUP\\n\\nFanDuel Group is a worl...</td>\n",
       "      <td>3.9</td>\n",
       "      <td>FanDuel\\n3.9</td>\n",
       "      <td>New York, NY</td>\n",
       "      <td>New York, NY</td>\n",
       "      <td>501 to 1000 employees</td>\n",
       "      <td>2009</td>\n",
       "      <td>Company - Private</td>\n",
       "      <td>Sports &amp; Recreation</td>\n",
       "      <td>Arts, Entertainment &amp; Recreation</td>\n",
       "      <td>$100 to $500 million (USD)</td>\n",
       "      <td>DraftKings</td>\n",
       "      <td>True</td>\n",
       "    </tr>\n",
       "  </tbody>\n",
       "</table>\n",
       "</div>\n",
       "      <button class=\"colab-df-convert\" onclick=\"convertToInteractive('df-e62d16cd-02e1-4834-83cd-adb4f0fb1a7c')\"\n",
       "              title=\"Convert this dataframe to an interactive table.\"\n",
       "              style=\"display:none;\">\n",
       "        \n",
       "  <svg xmlns=\"http://www.w3.org/2000/svg\" height=\"24px\"viewBox=\"0 0 24 24\"\n",
       "       width=\"24px\">\n",
       "    <path d=\"M0 0h24v24H0V0z\" fill=\"none\"/>\n",
       "    <path d=\"M18.56 5.44l.94 2.06.94-2.06 2.06-.94-2.06-.94-.94-2.06-.94 2.06-2.06.94zm-11 1L8.5 8.5l.94-2.06 2.06-.94-2.06-.94L8.5 2.5l-.94 2.06-2.06.94zm10 10l.94 2.06.94-2.06 2.06-.94-2.06-.94-.94-2.06-.94 2.06-2.06.94z\"/><path d=\"M17.41 7.96l-1.37-1.37c-.4-.4-.92-.59-1.43-.59-.52 0-1.04.2-1.43.59L10.3 9.45l-7.72 7.72c-.78.78-.78 2.05 0 2.83L4 21.41c.39.39.9.59 1.41.59.51 0 1.02-.2 1.41-.59l7.78-7.78 2.81-2.81c.8-.78.8-2.07 0-2.86zM5.41 20L4 18.59l7.72-7.72 1.47 1.35L5.41 20z\"/>\n",
       "  </svg>\n",
       "      </button>\n",
       "      \n",
       "  <style>\n",
       "    .colab-df-container {\n",
       "      display:flex;\n",
       "      flex-wrap:wrap;\n",
       "      gap: 12px;\n",
       "    }\n",
       "\n",
       "    .colab-df-convert {\n",
       "      background-color: #E8F0FE;\n",
       "      border: none;\n",
       "      border-radius: 50%;\n",
       "      cursor: pointer;\n",
       "      display: none;\n",
       "      fill: #1967D2;\n",
       "      height: 32px;\n",
       "      padding: 0 0 0 0;\n",
       "      width: 32px;\n",
       "    }\n",
       "\n",
       "    .colab-df-convert:hover {\n",
       "      background-color: #E2EBFA;\n",
       "      box-shadow: 0px 1px 2px rgba(60, 64, 67, 0.3), 0px 1px 3px 1px rgba(60, 64, 67, 0.15);\n",
       "      fill: #174EA6;\n",
       "    }\n",
       "\n",
       "    [theme=dark] .colab-df-convert {\n",
       "      background-color: #3B4455;\n",
       "      fill: #D2E3FC;\n",
       "    }\n",
       "\n",
       "    [theme=dark] .colab-df-convert:hover {\n",
       "      background-color: #434B5C;\n",
       "      box-shadow: 0px 1px 3px 1px rgba(0, 0, 0, 0.15);\n",
       "      filter: drop-shadow(0px 1px 2px rgba(0, 0, 0, 0.3));\n",
       "      fill: #FFFFFF;\n",
       "    }\n",
       "  </style>\n",
       "\n",
       "      <script>\n",
       "        const buttonEl =\n",
       "          document.querySelector('#df-e62d16cd-02e1-4834-83cd-adb4f0fb1a7c button.colab-df-convert');\n",
       "        buttonEl.style.display =\n",
       "          google.colab.kernel.accessAllowed ? 'block' : 'none';\n",
       "\n",
       "        async function convertToInteractive(key) {\n",
       "          const element = document.querySelector('#df-e62d16cd-02e1-4834-83cd-adb4f0fb1a7c');\n",
       "          const dataTable =\n",
       "            await google.colab.kernel.invokeFunction('convertToInteractive',\n",
       "                                                     [key], {});\n",
       "          if (!dataTable) return;\n",
       "\n",
       "          const docLinkHtml = 'Like what you see? Visit the ' +\n",
       "            '<a target=\"_blank\" href=https://colab.research.google.com/notebooks/data_table.ipynb>data table notebook</a>'\n",
       "            + ' to learn more about interactive tables.';\n",
       "          element.innerHTML = '';\n",
       "          dataTable['output_type'] = 'display_data';\n",
       "          await google.colab.output.renderOutput(dataTable, element);\n",
       "          const docLink = document.createElement('div');\n",
       "          docLink.innerHTML = docLinkHtml;\n",
       "          element.appendChild(docLink);\n",
       "        }\n",
       "      </script>\n",
       "    </div>\n",
       "  </div>\n",
       "  "
      ],
      "text/plain": [
       "                                           Job Title  \\\n",
       "0  Data Analyst, Center on Immigration and Justic...   \n",
       "1                               Quality Data Analyst   \n",
       "2  Senior Data Analyst, Insights & Analytics Team...   \n",
       "3                                       Data Analyst   \n",
       "4                             Reporting Data Analyst   \n",
       "\n",
       "              Salary Estimate  \\\n",
       "0  $37K-$66K (Glassdoor est.)   \n",
       "1  $37K-$66K (Glassdoor est.)   \n",
       "2  $37K-$66K (Glassdoor est.)   \n",
       "3  $37K-$66K (Glassdoor est.)   \n",
       "4  $37K-$66K (Glassdoor est.)   \n",
       "\n",
       "                                     Job Description  Rating  \\\n",
       "0  Are you eager to roll up your sleeves and harn...     3.2   \n",
       "1  Overview\\n\\nProvides analytical and technical ...     3.8   \n",
       "2  We’re looking for a Senior Data Analyst who ha...     3.4   \n",
       "3  Requisition NumberRR-0001939\\nRemote:Yes\\nWe c...     4.1   \n",
       "4  ABOUT FANDUEL GROUP\\n\\nFanDuel Group is a worl...     3.9   \n",
       "\n",
       "                              Company Name      Location  Headquarters  \\\n",
       "0           Vera Institute of Justice\\n3.2  New York, NY  New York, NY   \n",
       "1  Visiting Nurse Service of New York\\n3.8  New York, NY  New York, NY   \n",
       "2                         Squarespace\\n3.4  New York, NY  New York, NY   \n",
       "3                            Celerity\\n4.1  New York, NY    McLean, VA   \n",
       "4                             FanDuel\\n3.9  New York, NY  New York, NY   \n",
       "\n",
       "                     Size  Founded               Type of ownership  \\\n",
       "0    201 to 500 employees     1961          Nonprofit Organization   \n",
       "1        10000+ employees     1893          Nonprofit Organization   \n",
       "2  1001 to 5000 employees     2003               Company - Private   \n",
       "3    201 to 500 employees     2002  Subsidiary or Business Segment   \n",
       "4   501 to 1000 employees     2009               Company - Private   \n",
       "\n",
       "                           Industry                            Sector  \\\n",
       "0                 Social Assistance                        Non-Profit   \n",
       "1  Health Care Services & Hospitals                       Health Care   \n",
       "2                          Internet            Information Technology   \n",
       "3                       IT Services            Information Technology   \n",
       "4               Sports & Recreation  Arts, Entertainment & Recreation   \n",
       "\n",
       "                      Revenue Competitors Easy Apply  \n",
       "0  $100 to $500 million (USD)          -1       True  \n",
       "1      $2 to $5 billion (USD)          -1         -1  \n",
       "2    Unknown / Non-Applicable     GoDaddy         -1  \n",
       "3   $50 to $100 million (USD)          -1         -1  \n",
       "4  $100 to $500 million (USD)  DraftKings       True  "
      ]
     },
     "execution_count": 3,
     "metadata": {},
     "output_type": "execute_result"
    }
   ],
   "source": [
    "df.head()"
   ]
  },
  {
   "cell_type": "markdown",
   "metadata": {
    "id": "VtSH9y8-vEOk"
   },
   "source": [
    "## extract some information"
   ]
  },
  {
   "cell_type": "code",
   "execution_count": 4,
   "metadata": {
    "colab": {
     "base_uri": "https://localhost:8080/"
    },
    "id": "I0EtfcXKMbl9",
    "outputId": "60492fce-f35c-41bb-ce00-131c08e2961e"
   },
   "outputs": [
    {
     "name": "stdout",
     "output_type": "stream",
     "text": [
      "<class 'pandas.core.frame.DataFrame'>\n",
      "Int64Index: 2253 entries, 0 to 2252\n",
      "Data columns (total 15 columns):\n",
      " #   Column             Non-Null Count  Dtype  \n",
      "---  ------             --------------  -----  \n",
      " 0   Job Title          2253 non-null   object \n",
      " 1   Salary Estimate    2253 non-null   object \n",
      " 2   Job Description    2253 non-null   object \n",
      " 3   Rating             2253 non-null   float64\n",
      " 4   Company Name       2252 non-null   object \n",
      " 5   Location           2253 non-null   object \n",
      " 6   Headquarters       2253 non-null   object \n",
      " 7   Size               2253 non-null   object \n",
      " 8   Founded            2253 non-null   int64  \n",
      " 9   Type of ownership  2253 non-null   object \n",
      " 10  Industry           2253 non-null   object \n",
      " 11  Sector             2253 non-null   object \n",
      " 12  Revenue            2253 non-null   object \n",
      " 13  Competitors        2253 non-null   object \n",
      " 14  Easy Apply         2253 non-null   object \n",
      "dtypes: float64(1), int64(1), object(13)\n",
      "memory usage: 281.6+ KB\n"
     ]
    }
   ],
   "source": [
    "df.info()"
   ]
  },
  {
   "cell_type": "code",
   "execution_count": 5,
   "metadata": {
    "colab": {
     "base_uri": "https://localhost:8080/"
    },
    "id": "3SoMgpGMIyAX",
    "outputId": "2c7eab52-c0a7-4f63-fc78-d5d398b08505"
   },
   "outputs": [
    {
     "data": {
      "text/plain": [
       "Job Title            0\n",
       "Salary Estimate      0\n",
       "Job Description      0\n",
       "Rating               0\n",
       "Company Name         1\n",
       "Location             0\n",
       "Headquarters         0\n",
       "Size                 0\n",
       "Founded              0\n",
       "Type of ownership    0\n",
       "Industry             0\n",
       "Sector               0\n",
       "Revenue              0\n",
       "Competitors          0\n",
       "Easy Apply           0\n",
       "dtype: int64"
      ]
     },
     "execution_count": 5,
     "metadata": {},
     "output_type": "execute_result"
    }
   ],
   "source": [
    "df.isna().sum()"
   ]
  },
  {
   "cell_type": "code",
   "execution_count": 6,
   "metadata": {
    "colab": {
     "base_uri": "https://localhost:8080/",
     "height": 300
    },
    "id": "IJuuR-XNMmLJ",
    "outputId": "fe6c4550-7435-46b2-85ae-d4b5ecc456db"
   },
   "outputs": [
    {
     "data": {
      "text/html": [
       "\n",
       "  <div id=\"df-2524b4ee-16a3-4d5c-8e59-44b9a2cfcf02\">\n",
       "    <div class=\"colab-df-container\">\n",
       "      <div>\n",
       "<style scoped>\n",
       "    .dataframe tbody tr th:only-of-type {\n",
       "        vertical-align: middle;\n",
       "    }\n",
       "\n",
       "    .dataframe tbody tr th {\n",
       "        vertical-align: top;\n",
       "    }\n",
       "\n",
       "    .dataframe thead th {\n",
       "        text-align: right;\n",
       "    }\n",
       "</style>\n",
       "<table border=\"1\" class=\"dataframe\">\n",
       "  <thead>\n",
       "    <tr style=\"text-align: right;\">\n",
       "      <th></th>\n",
       "      <th>Rating</th>\n",
       "      <th>Founded</th>\n",
       "    </tr>\n",
       "  </thead>\n",
       "  <tbody>\n",
       "    <tr>\n",
       "      <th>count</th>\n",
       "      <td>2253.000000</td>\n",
       "      <td>2253.000000</td>\n",
       "    </tr>\n",
       "    <tr>\n",
       "      <th>mean</th>\n",
       "      <td>3.160630</td>\n",
       "      <td>1398.522858</td>\n",
       "    </tr>\n",
       "    <tr>\n",
       "      <th>std</th>\n",
       "      <td>1.665228</td>\n",
       "      <td>901.929251</td>\n",
       "    </tr>\n",
       "    <tr>\n",
       "      <th>min</th>\n",
       "      <td>-1.000000</td>\n",
       "      <td>-1.000000</td>\n",
       "    </tr>\n",
       "    <tr>\n",
       "      <th>25%</th>\n",
       "      <td>3.100000</td>\n",
       "      <td>-1.000000</td>\n",
       "    </tr>\n",
       "    <tr>\n",
       "      <th>50%</th>\n",
       "      <td>3.600000</td>\n",
       "      <td>1979.000000</td>\n",
       "    </tr>\n",
       "    <tr>\n",
       "      <th>75%</th>\n",
       "      <td>4.000000</td>\n",
       "      <td>2002.000000</td>\n",
       "    </tr>\n",
       "    <tr>\n",
       "      <th>max</th>\n",
       "      <td>5.000000</td>\n",
       "      <td>2019.000000</td>\n",
       "    </tr>\n",
       "  </tbody>\n",
       "</table>\n",
       "</div>\n",
       "      <button class=\"colab-df-convert\" onclick=\"convertToInteractive('df-2524b4ee-16a3-4d5c-8e59-44b9a2cfcf02')\"\n",
       "              title=\"Convert this dataframe to an interactive table.\"\n",
       "              style=\"display:none;\">\n",
       "        \n",
       "  <svg xmlns=\"http://www.w3.org/2000/svg\" height=\"24px\"viewBox=\"0 0 24 24\"\n",
       "       width=\"24px\">\n",
       "    <path d=\"M0 0h24v24H0V0z\" fill=\"none\"/>\n",
       "    <path d=\"M18.56 5.44l.94 2.06.94-2.06 2.06-.94-2.06-.94-.94-2.06-.94 2.06-2.06.94zm-11 1L8.5 8.5l.94-2.06 2.06-.94-2.06-.94L8.5 2.5l-.94 2.06-2.06.94zm10 10l.94 2.06.94-2.06 2.06-.94-2.06-.94-.94-2.06-.94 2.06-2.06.94z\"/><path d=\"M17.41 7.96l-1.37-1.37c-.4-.4-.92-.59-1.43-.59-.52 0-1.04.2-1.43.59L10.3 9.45l-7.72 7.72c-.78.78-.78 2.05 0 2.83L4 21.41c.39.39.9.59 1.41.59.51 0 1.02-.2 1.41-.59l7.78-7.78 2.81-2.81c.8-.78.8-2.07 0-2.86zM5.41 20L4 18.59l7.72-7.72 1.47 1.35L5.41 20z\"/>\n",
       "  </svg>\n",
       "      </button>\n",
       "      \n",
       "  <style>\n",
       "    .colab-df-container {\n",
       "      display:flex;\n",
       "      flex-wrap:wrap;\n",
       "      gap: 12px;\n",
       "    }\n",
       "\n",
       "    .colab-df-convert {\n",
       "      background-color: #E8F0FE;\n",
       "      border: none;\n",
       "      border-radius: 50%;\n",
       "      cursor: pointer;\n",
       "      display: none;\n",
       "      fill: #1967D2;\n",
       "      height: 32px;\n",
       "      padding: 0 0 0 0;\n",
       "      width: 32px;\n",
       "    }\n",
       "\n",
       "    .colab-df-convert:hover {\n",
       "      background-color: #E2EBFA;\n",
       "      box-shadow: 0px 1px 2px rgba(60, 64, 67, 0.3), 0px 1px 3px 1px rgba(60, 64, 67, 0.15);\n",
       "      fill: #174EA6;\n",
       "    }\n",
       "\n",
       "    [theme=dark] .colab-df-convert {\n",
       "      background-color: #3B4455;\n",
       "      fill: #D2E3FC;\n",
       "    }\n",
       "\n",
       "    [theme=dark] .colab-df-convert:hover {\n",
       "      background-color: #434B5C;\n",
       "      box-shadow: 0px 1px 3px 1px rgba(0, 0, 0, 0.15);\n",
       "      filter: drop-shadow(0px 1px 2px rgba(0, 0, 0, 0.3));\n",
       "      fill: #FFFFFF;\n",
       "    }\n",
       "  </style>\n",
       "\n",
       "      <script>\n",
       "        const buttonEl =\n",
       "          document.querySelector('#df-2524b4ee-16a3-4d5c-8e59-44b9a2cfcf02 button.colab-df-convert');\n",
       "        buttonEl.style.display =\n",
       "          google.colab.kernel.accessAllowed ? 'block' : 'none';\n",
       "\n",
       "        async function convertToInteractive(key) {\n",
       "          const element = document.querySelector('#df-2524b4ee-16a3-4d5c-8e59-44b9a2cfcf02');\n",
       "          const dataTable =\n",
       "            await google.colab.kernel.invokeFunction('convertToInteractive',\n",
       "                                                     [key], {});\n",
       "          if (!dataTable) return;\n",
       "\n",
       "          const docLinkHtml = 'Like what you see? Visit the ' +\n",
       "            '<a target=\"_blank\" href=https://colab.research.google.com/notebooks/data_table.ipynb>data table notebook</a>'\n",
       "            + ' to learn more about interactive tables.';\n",
       "          element.innerHTML = '';\n",
       "          dataTable['output_type'] = 'display_data';\n",
       "          await google.colab.output.renderOutput(dataTable, element);\n",
       "          const docLink = document.createElement('div');\n",
       "          docLink.innerHTML = docLinkHtml;\n",
       "          element.appendChild(docLink);\n",
       "        }\n",
       "      </script>\n",
       "    </div>\n",
       "  </div>\n",
       "  "
      ],
      "text/plain": [
       "            Rating      Founded\n",
       "count  2253.000000  2253.000000\n",
       "mean      3.160630  1398.522858\n",
       "std       1.665228   901.929251\n",
       "min      -1.000000    -1.000000\n",
       "25%       3.100000    -1.000000\n",
       "50%       3.600000  1979.000000\n",
       "75%       4.000000  2002.000000\n",
       "max       5.000000  2019.000000"
      ]
     },
     "execution_count": 6,
     "metadata": {},
     "output_type": "execute_result"
    }
   ],
   "source": [
    "df.describe()"
   ]
  },
  {
   "cell_type": "markdown",
   "metadata": {
    "id": "uLZdKPdbvKMV"
   },
   "source": [
    "as we see above the -1 value is has no meaning so we will replace it with null value"
   ]
  },
  {
   "cell_type": "code",
   "execution_count": 7,
   "metadata": {
    "id": "7V4rQ5_5M1YI"
   },
   "outputs": [],
   "source": [
    "df = df.replace(-1,np.nan)"
   ]
  },
  {
   "cell_type": "code",
   "execution_count": 8,
   "metadata": {
    "colab": {
     "base_uri": "https://localhost:8080/"
    },
    "id": "StxbAfwFPULw",
    "outputId": "a100fa4e-f84b-4d97-94b0-13f4624824ca"
   },
   "outputs": [
    {
     "data": {
      "text/plain": [
       "Job Title              0\n",
       "Salary Estimate        0\n",
       "Job Description        0\n",
       "Rating               272\n",
       "Company Name           1\n",
       "Location               0\n",
       "Headquarters           0\n",
       "Size                   0\n",
       "Founded              660\n",
       "Type of ownership      0\n",
       "Industry               0\n",
       "Sector                 0\n",
       "Revenue                0\n",
       "Competitors            0\n",
       "Easy Apply             0\n",
       "dtype: int64"
      ]
     },
     "execution_count": 8,
     "metadata": {},
     "output_type": "execute_result"
    }
   ],
   "source": [
    "df.isna().sum()"
   ]
  },
  {
   "cell_type": "code",
   "execution_count": 9,
   "metadata": {
    "colab": {
     "base_uri": "https://localhost:8080/"
    },
    "id": "2Gh85Y1ePb9Y",
    "outputId": "4f9bc1e7-43a3-4b74-f181-96a5074d3a2a"
   },
   "outputs": [
    {
     "data": {
      "text/plain": [
       "Job Title            0.000000\n",
       "Salary Estimate      0.000000\n",
       "Job Description      0.000000\n",
       "Rating               0.120728\n",
       "Company Name         0.000444\n",
       "Location             0.000000\n",
       "Headquarters         0.000000\n",
       "Size                 0.000000\n",
       "Founded              0.292943\n",
       "Type of ownership    0.000000\n",
       "Industry             0.000000\n",
       "Sector               0.000000\n",
       "Revenue              0.000000\n",
       "Competitors          0.000000\n",
       "Easy Apply           0.000000\n",
       "dtype: float64"
      ]
     },
     "execution_count": 9,
     "metadata": {},
     "output_type": "execute_result"
    }
   ],
   "source": [
    "df.isna().sum()/df.shape[0]"
   ]
  },
  {
   "cell_type": "code",
   "execution_count": 10,
   "metadata": {
    "colab": {
     "base_uri": "https://localhost:8080/",
     "height": 326
    },
    "id": "nJ0PrVZ1PxOQ",
    "outputId": "5e93b9bd-7c23-43c9-9af4-91cfd0fa32fe"
   },
   "outputs": [
    {
     "data": {
      "text/html": [
       "\n",
       "  <div id=\"df-f1455454-f137-40a0-9645-a0b43766ced8\">\n",
       "    <div class=\"colab-df-container\">\n",
       "      <div>\n",
       "<style scoped>\n",
       "    .dataframe tbody tr th:only-of-type {\n",
       "        vertical-align: middle;\n",
       "    }\n",
       "\n",
       "    .dataframe tbody tr th {\n",
       "        vertical-align: top;\n",
       "    }\n",
       "\n",
       "    .dataframe thead th {\n",
       "        text-align: right;\n",
       "    }\n",
       "</style>\n",
       "<table border=\"1\" class=\"dataframe\">\n",
       "  <thead>\n",
       "    <tr style=\"text-align: right;\">\n",
       "      <th></th>\n",
       "      <th>Job Title</th>\n",
       "      <th>Salary Estimate</th>\n",
       "      <th>Job Description</th>\n",
       "      <th>Company Name</th>\n",
       "      <th>Location</th>\n",
       "      <th>Headquarters</th>\n",
       "      <th>Size</th>\n",
       "      <th>Type of ownership</th>\n",
       "      <th>Industry</th>\n",
       "      <th>Sector</th>\n",
       "      <th>Revenue</th>\n",
       "      <th>Competitors</th>\n",
       "      <th>Easy Apply</th>\n",
       "    </tr>\n",
       "  </thead>\n",
       "  <tbody>\n",
       "    <tr>\n",
       "      <th>count</th>\n",
       "      <td>2253</td>\n",
       "      <td>2253</td>\n",
       "      <td>2253</td>\n",
       "      <td>2252</td>\n",
       "      <td>2253</td>\n",
       "      <td>2253</td>\n",
       "      <td>2253</td>\n",
       "      <td>2253</td>\n",
       "      <td>2253</td>\n",
       "      <td>2253</td>\n",
       "      <td>2253</td>\n",
       "      <td>2253</td>\n",
       "      <td>2253</td>\n",
       "    </tr>\n",
       "    <tr>\n",
       "      <th>unique</th>\n",
       "      <td>1272</td>\n",
       "      <td>90</td>\n",
       "      <td>2253</td>\n",
       "      <td>1513</td>\n",
       "      <td>253</td>\n",
       "      <td>483</td>\n",
       "      <td>9</td>\n",
       "      <td>15</td>\n",
       "      <td>89</td>\n",
       "      <td>25</td>\n",
       "      <td>14</td>\n",
       "      <td>291</td>\n",
       "      <td>2</td>\n",
       "    </tr>\n",
       "    <tr>\n",
       "      <th>top</th>\n",
       "      <td>Data Analyst</td>\n",
       "      <td>$42K-$76K (Glassdoor est.)</td>\n",
       "      <td>Are you eager to roll up your sleeves and harn...</td>\n",
       "      <td>Staffigo Technical Services, LLC\\n5.0</td>\n",
       "      <td>New York, NY</td>\n",
       "      <td>New York, NY</td>\n",
       "      <td>51 to 200 employees</td>\n",
       "      <td>Company - Private</td>\n",
       "      <td>-1</td>\n",
       "      <td>Information Technology</td>\n",
       "      <td>Unknown / Non-Applicable</td>\n",
       "      <td>-1</td>\n",
       "      <td>-1</td>\n",
       "    </tr>\n",
       "    <tr>\n",
       "      <th>freq</th>\n",
       "      <td>405</td>\n",
       "      <td>57</td>\n",
       "      <td>1</td>\n",
       "      <td>58</td>\n",
       "      <td>310</td>\n",
       "      <td>206</td>\n",
       "      <td>421</td>\n",
       "      <td>1273</td>\n",
       "      <td>353</td>\n",
       "      <td>570</td>\n",
       "      <td>615</td>\n",
       "      <td>1732</td>\n",
       "      <td>2173</td>\n",
       "    </tr>\n",
       "  </tbody>\n",
       "</table>\n",
       "</div>\n",
       "      <button class=\"colab-df-convert\" onclick=\"convertToInteractive('df-f1455454-f137-40a0-9645-a0b43766ced8')\"\n",
       "              title=\"Convert this dataframe to an interactive table.\"\n",
       "              style=\"display:none;\">\n",
       "        \n",
       "  <svg xmlns=\"http://www.w3.org/2000/svg\" height=\"24px\"viewBox=\"0 0 24 24\"\n",
       "       width=\"24px\">\n",
       "    <path d=\"M0 0h24v24H0V0z\" fill=\"none\"/>\n",
       "    <path d=\"M18.56 5.44l.94 2.06.94-2.06 2.06-.94-2.06-.94-.94-2.06-.94 2.06-2.06.94zm-11 1L8.5 8.5l.94-2.06 2.06-.94-2.06-.94L8.5 2.5l-.94 2.06-2.06.94zm10 10l.94 2.06.94-2.06 2.06-.94-2.06-.94-.94-2.06-.94 2.06-2.06.94z\"/><path d=\"M17.41 7.96l-1.37-1.37c-.4-.4-.92-.59-1.43-.59-.52 0-1.04.2-1.43.59L10.3 9.45l-7.72 7.72c-.78.78-.78 2.05 0 2.83L4 21.41c.39.39.9.59 1.41.59.51 0 1.02-.2 1.41-.59l7.78-7.78 2.81-2.81c.8-.78.8-2.07 0-2.86zM5.41 20L4 18.59l7.72-7.72 1.47 1.35L5.41 20z\"/>\n",
       "  </svg>\n",
       "      </button>\n",
       "      \n",
       "  <style>\n",
       "    .colab-df-container {\n",
       "      display:flex;\n",
       "      flex-wrap:wrap;\n",
       "      gap: 12px;\n",
       "    }\n",
       "\n",
       "    .colab-df-convert {\n",
       "      background-color: #E8F0FE;\n",
       "      border: none;\n",
       "      border-radius: 50%;\n",
       "      cursor: pointer;\n",
       "      display: none;\n",
       "      fill: #1967D2;\n",
       "      height: 32px;\n",
       "      padding: 0 0 0 0;\n",
       "      width: 32px;\n",
       "    }\n",
       "\n",
       "    .colab-df-convert:hover {\n",
       "      background-color: #E2EBFA;\n",
       "      box-shadow: 0px 1px 2px rgba(60, 64, 67, 0.3), 0px 1px 3px 1px rgba(60, 64, 67, 0.15);\n",
       "      fill: #174EA6;\n",
       "    }\n",
       "\n",
       "    [theme=dark] .colab-df-convert {\n",
       "      background-color: #3B4455;\n",
       "      fill: #D2E3FC;\n",
       "    }\n",
       "\n",
       "    [theme=dark] .colab-df-convert:hover {\n",
       "      background-color: #434B5C;\n",
       "      box-shadow: 0px 1px 3px 1px rgba(0, 0, 0, 0.15);\n",
       "      filter: drop-shadow(0px 1px 2px rgba(0, 0, 0, 0.3));\n",
       "      fill: #FFFFFF;\n",
       "    }\n",
       "  </style>\n",
       "\n",
       "      <script>\n",
       "        const buttonEl =\n",
       "          document.querySelector('#df-f1455454-f137-40a0-9645-a0b43766ced8 button.colab-df-convert');\n",
       "        buttonEl.style.display =\n",
       "          google.colab.kernel.accessAllowed ? 'block' : 'none';\n",
       "\n",
       "        async function convertToInteractive(key) {\n",
       "          const element = document.querySelector('#df-f1455454-f137-40a0-9645-a0b43766ced8');\n",
       "          const dataTable =\n",
       "            await google.colab.kernel.invokeFunction('convertToInteractive',\n",
       "                                                     [key], {});\n",
       "          if (!dataTable) return;\n",
       "\n",
       "          const docLinkHtml = 'Like what you see? Visit the ' +\n",
       "            '<a target=\"_blank\" href=https://colab.research.google.com/notebooks/data_table.ipynb>data table notebook</a>'\n",
       "            + ' to learn more about interactive tables.';\n",
       "          element.innerHTML = '';\n",
       "          dataTable['output_type'] = 'display_data';\n",
       "          await google.colab.output.renderOutput(dataTable, element);\n",
       "          const docLink = document.createElement('div');\n",
       "          docLink.innerHTML = docLinkHtml;\n",
       "          element.appendChild(docLink);\n",
       "        }\n",
       "      </script>\n",
       "    </div>\n",
       "  </div>\n",
       "  "
      ],
      "text/plain": [
       "           Job Title             Salary Estimate  \\\n",
       "count           2253                        2253   \n",
       "unique          1272                          90   \n",
       "top     Data Analyst  $42K-$76K (Glassdoor est.)   \n",
       "freq             405                          57   \n",
       "\n",
       "                                          Job Description  \\\n",
       "count                                                2253   \n",
       "unique                                               2253   \n",
       "top     Are you eager to roll up your sleeves and harn...   \n",
       "freq                                                    1   \n",
       "\n",
       "                                 Company Name      Location  Headquarters  \\\n",
       "count                                    2252          2253          2253   \n",
       "unique                                   1513           253           483   \n",
       "top     Staffigo Technical Services, LLC\\n5.0  New York, NY  New York, NY   \n",
       "freq                                       58           310           206   \n",
       "\n",
       "                       Size  Type of ownership Industry  \\\n",
       "count                  2253               2253     2253   \n",
       "unique                    9                 15       89   \n",
       "top     51 to 200 employees  Company - Private       -1   \n",
       "freq                    421               1273      353   \n",
       "\n",
       "                        Sector                   Revenue Competitors  \\\n",
       "count                     2253                      2253        2253   \n",
       "unique                      25                        14         291   \n",
       "top     Information Technology  Unknown / Non-Applicable          -1   \n",
       "freq                       570                       615        1732   \n",
       "\n",
       "       Easy Apply  \n",
       "count        2253  \n",
       "unique          2  \n",
       "top            -1  \n",
       "freq         2173  "
      ]
     },
     "execution_count": 10,
     "metadata": {},
     "output_type": "execute_result"
    }
   ],
   "source": [
    "df.describe(include=['O'])"
   ]
  },
  {
   "cell_type": "code",
   "execution_count": 11,
   "metadata": {
    "id": "jYOURYObQRzg"
   },
   "outputs": [],
   "source": [
    "df = df.replace('-1',np.nan)"
   ]
  },
  {
   "cell_type": "code",
   "execution_count": 12,
   "metadata": {
    "colab": {
     "base_uri": "https://localhost:8080/",
     "height": 326
    },
    "id": "e29oObmQQfD_",
    "outputId": "0d59a293-8975-40bc-cb19-ec6bc944f968"
   },
   "outputs": [
    {
     "data": {
      "text/html": [
       "\n",
       "  <div id=\"df-225f438e-fb2f-4c95-b328-2481834ac2bc\">\n",
       "    <div class=\"colab-df-container\">\n",
       "      <div>\n",
       "<style scoped>\n",
       "    .dataframe tbody tr th:only-of-type {\n",
       "        vertical-align: middle;\n",
       "    }\n",
       "\n",
       "    .dataframe tbody tr th {\n",
       "        vertical-align: top;\n",
       "    }\n",
       "\n",
       "    .dataframe thead th {\n",
       "        text-align: right;\n",
       "    }\n",
       "</style>\n",
       "<table border=\"1\" class=\"dataframe\">\n",
       "  <thead>\n",
       "    <tr style=\"text-align: right;\">\n",
       "      <th></th>\n",
       "      <th>Job Title</th>\n",
       "      <th>Salary Estimate</th>\n",
       "      <th>Job Description</th>\n",
       "      <th>Company Name</th>\n",
       "      <th>Location</th>\n",
       "      <th>Headquarters</th>\n",
       "      <th>Size</th>\n",
       "      <th>Type of ownership</th>\n",
       "      <th>Industry</th>\n",
       "      <th>Sector</th>\n",
       "      <th>Revenue</th>\n",
       "      <th>Competitors</th>\n",
       "      <th>Easy Apply</th>\n",
       "    </tr>\n",
       "  </thead>\n",
       "  <tbody>\n",
       "    <tr>\n",
       "      <th>count</th>\n",
       "      <td>2253</td>\n",
       "      <td>2252</td>\n",
       "      <td>2253</td>\n",
       "      <td>2252</td>\n",
       "      <td>2253</td>\n",
       "      <td>2081</td>\n",
       "      <td>2090</td>\n",
       "      <td>2090</td>\n",
       "      <td>1900</td>\n",
       "      <td>1900</td>\n",
       "      <td>2090</td>\n",
       "      <td>521</td>\n",
       "      <td>80</td>\n",
       "    </tr>\n",
       "    <tr>\n",
       "      <th>unique</th>\n",
       "      <td>1272</td>\n",
       "      <td>89</td>\n",
       "      <td>2253</td>\n",
       "      <td>1513</td>\n",
       "      <td>253</td>\n",
       "      <td>482</td>\n",
       "      <td>8</td>\n",
       "      <td>14</td>\n",
       "      <td>88</td>\n",
       "      <td>24</td>\n",
       "      <td>13</td>\n",
       "      <td>290</td>\n",
       "      <td>1</td>\n",
       "    </tr>\n",
       "    <tr>\n",
       "      <th>top</th>\n",
       "      <td>Data Analyst</td>\n",
       "      <td>$42K-$76K (Glassdoor est.)</td>\n",
       "      <td>Are you eager to roll up your sleeves and harn...</td>\n",
       "      <td>Staffigo Technical Services, LLC\\n5.0</td>\n",
       "      <td>New York, NY</td>\n",
       "      <td>New York, NY</td>\n",
       "      <td>51 to 200 employees</td>\n",
       "      <td>Company - Private</td>\n",
       "      <td>IT Services</td>\n",
       "      <td>Information Technology</td>\n",
       "      <td>Unknown / Non-Applicable</td>\n",
       "      <td>Adecco, Manpower</td>\n",
       "      <td>True</td>\n",
       "    </tr>\n",
       "    <tr>\n",
       "      <th>freq</th>\n",
       "      <td>405</td>\n",
       "      <td>57</td>\n",
       "      <td>1</td>\n",
       "      <td>58</td>\n",
       "      <td>310</td>\n",
       "      <td>206</td>\n",
       "      <td>421</td>\n",
       "      <td>1273</td>\n",
       "      <td>325</td>\n",
       "      <td>570</td>\n",
       "      <td>615</td>\n",
       "      <td>14</td>\n",
       "      <td>80</td>\n",
       "    </tr>\n",
       "  </tbody>\n",
       "</table>\n",
       "</div>\n",
       "      <button class=\"colab-df-convert\" onclick=\"convertToInteractive('df-225f438e-fb2f-4c95-b328-2481834ac2bc')\"\n",
       "              title=\"Convert this dataframe to an interactive table.\"\n",
       "              style=\"display:none;\">\n",
       "        \n",
       "  <svg xmlns=\"http://www.w3.org/2000/svg\" height=\"24px\"viewBox=\"0 0 24 24\"\n",
       "       width=\"24px\">\n",
       "    <path d=\"M0 0h24v24H0V0z\" fill=\"none\"/>\n",
       "    <path d=\"M18.56 5.44l.94 2.06.94-2.06 2.06-.94-2.06-.94-.94-2.06-.94 2.06-2.06.94zm-11 1L8.5 8.5l.94-2.06 2.06-.94-2.06-.94L8.5 2.5l-.94 2.06-2.06.94zm10 10l.94 2.06.94-2.06 2.06-.94-2.06-.94-.94-2.06-.94 2.06-2.06.94z\"/><path d=\"M17.41 7.96l-1.37-1.37c-.4-.4-.92-.59-1.43-.59-.52 0-1.04.2-1.43.59L10.3 9.45l-7.72 7.72c-.78.78-.78 2.05 0 2.83L4 21.41c.39.39.9.59 1.41.59.51 0 1.02-.2 1.41-.59l7.78-7.78 2.81-2.81c.8-.78.8-2.07 0-2.86zM5.41 20L4 18.59l7.72-7.72 1.47 1.35L5.41 20z\"/>\n",
       "  </svg>\n",
       "      </button>\n",
       "      \n",
       "  <style>\n",
       "    .colab-df-container {\n",
       "      display:flex;\n",
       "      flex-wrap:wrap;\n",
       "      gap: 12px;\n",
       "    }\n",
       "\n",
       "    .colab-df-convert {\n",
       "      background-color: #E8F0FE;\n",
       "      border: none;\n",
       "      border-radius: 50%;\n",
       "      cursor: pointer;\n",
       "      display: none;\n",
       "      fill: #1967D2;\n",
       "      height: 32px;\n",
       "      padding: 0 0 0 0;\n",
       "      width: 32px;\n",
       "    }\n",
       "\n",
       "    .colab-df-convert:hover {\n",
       "      background-color: #E2EBFA;\n",
       "      box-shadow: 0px 1px 2px rgba(60, 64, 67, 0.3), 0px 1px 3px 1px rgba(60, 64, 67, 0.15);\n",
       "      fill: #174EA6;\n",
       "    }\n",
       "\n",
       "    [theme=dark] .colab-df-convert {\n",
       "      background-color: #3B4455;\n",
       "      fill: #D2E3FC;\n",
       "    }\n",
       "\n",
       "    [theme=dark] .colab-df-convert:hover {\n",
       "      background-color: #434B5C;\n",
       "      box-shadow: 0px 1px 3px 1px rgba(0, 0, 0, 0.15);\n",
       "      filter: drop-shadow(0px 1px 2px rgba(0, 0, 0, 0.3));\n",
       "      fill: #FFFFFF;\n",
       "    }\n",
       "  </style>\n",
       "\n",
       "      <script>\n",
       "        const buttonEl =\n",
       "          document.querySelector('#df-225f438e-fb2f-4c95-b328-2481834ac2bc button.colab-df-convert');\n",
       "        buttonEl.style.display =\n",
       "          google.colab.kernel.accessAllowed ? 'block' : 'none';\n",
       "\n",
       "        async function convertToInteractive(key) {\n",
       "          const element = document.querySelector('#df-225f438e-fb2f-4c95-b328-2481834ac2bc');\n",
       "          const dataTable =\n",
       "            await google.colab.kernel.invokeFunction('convertToInteractive',\n",
       "                                                     [key], {});\n",
       "          if (!dataTable) return;\n",
       "\n",
       "          const docLinkHtml = 'Like what you see? Visit the ' +\n",
       "            '<a target=\"_blank\" href=https://colab.research.google.com/notebooks/data_table.ipynb>data table notebook</a>'\n",
       "            + ' to learn more about interactive tables.';\n",
       "          element.innerHTML = '';\n",
       "          dataTable['output_type'] = 'display_data';\n",
       "          await google.colab.output.renderOutput(dataTable, element);\n",
       "          const docLink = document.createElement('div');\n",
       "          docLink.innerHTML = docLinkHtml;\n",
       "          element.appendChild(docLink);\n",
       "        }\n",
       "      </script>\n",
       "    </div>\n",
       "  </div>\n",
       "  "
      ],
      "text/plain": [
       "           Job Title             Salary Estimate  \\\n",
       "count           2253                        2252   \n",
       "unique          1272                          89   \n",
       "top     Data Analyst  $42K-$76K (Glassdoor est.)   \n",
       "freq             405                          57   \n",
       "\n",
       "                                          Job Description  \\\n",
       "count                                                2253   \n",
       "unique                                               2253   \n",
       "top     Are you eager to roll up your sleeves and harn...   \n",
       "freq                                                    1   \n",
       "\n",
       "                                 Company Name      Location  Headquarters  \\\n",
       "count                                    2252          2253          2081   \n",
       "unique                                   1513           253           482   \n",
       "top     Staffigo Technical Services, LLC\\n5.0  New York, NY  New York, NY   \n",
       "freq                                       58           310           206   \n",
       "\n",
       "                       Size  Type of ownership     Industry  \\\n",
       "count                  2090               2090         1900   \n",
       "unique                    8                 14           88   \n",
       "top     51 to 200 employees  Company - Private  IT Services   \n",
       "freq                    421               1273          325   \n",
       "\n",
       "                        Sector                   Revenue       Competitors  \\\n",
       "count                     1900                      2090               521   \n",
       "unique                      24                        13               290   \n",
       "top     Information Technology  Unknown / Non-Applicable  Adecco, Manpower   \n",
       "freq                       570                       615                14   \n",
       "\n",
       "       Easy Apply  \n",
       "count          80  \n",
       "unique          1  \n",
       "top          True  \n",
       "freq           80  "
      ]
     },
     "execution_count": 12,
     "metadata": {},
     "output_type": "execute_result"
    }
   ],
   "source": [
    "df.describe(include=['O'])"
   ]
  },
  {
   "cell_type": "code",
   "execution_count": 13,
   "metadata": {
    "colab": {
     "base_uri": "https://localhost:8080/"
    },
    "id": "2UNUNQH_Qg9n",
    "outputId": "197c3200-0e86-412e-f547-6b563598718a"
   },
   "outputs": [
    {
     "data": {
      "text/plain": [
       "Job Title               0\n",
       "Salary Estimate         1\n",
       "Job Description         0\n",
       "Rating                272\n",
       "Company Name            1\n",
       "Location                0\n",
       "Headquarters          172\n",
       "Size                  163\n",
       "Founded               660\n",
       "Type of ownership     163\n",
       "Industry              353\n",
       "Sector                353\n",
       "Revenue               163\n",
       "Competitors          1732\n",
       "Easy Apply           2173\n",
       "dtype: int64"
      ]
     },
     "execution_count": 13,
     "metadata": {},
     "output_type": "execute_result"
    }
   ],
   "source": [
    "df.isna().sum()"
   ]
  },
  {
   "cell_type": "markdown",
   "metadata": {
    "id": "Etr49Am9RJop"
   },
   "source": [
    "# Handling Missing Values"
   ]
  },
  {
   "cell_type": "code",
   "execution_count": 14,
   "metadata": {
    "id": "8EWeShjLQpvU"
   },
   "outputs": [],
   "source": [
    "df['Easy Apply'] = df['Easy Apply'].replace(np.nan,'apply on company website')"
   ]
  },
  {
   "cell_type": "code",
   "execution_count": 15,
   "metadata": {
    "colab": {
     "base_uri": "https://localhost:8080/"
    },
    "id": "lg-cBgYUQ6Ug",
    "outputId": "2e961dfd-a845-4a82-c781-e78a1f1e64ce"
   },
   "outputs": [
    {
     "data": {
      "text/plain": [
       "apply on company website    2173\n",
       "True                          80\n",
       "Name: Easy Apply, dtype: int64"
      ]
     },
     "execution_count": 15,
     "metadata": {},
     "output_type": "execute_result"
    }
   ],
   "source": [
    "df['Easy Apply'].value_counts()"
   ]
  },
  {
   "cell_type": "code",
   "execution_count": 16,
   "metadata": {
    "id": "usuZwJrCRQdR"
   },
   "outputs": [],
   "source": [
    "df.dropna(subset= ['Salary Estimate','Company Name'],inplace = True)"
   ]
  },
  {
   "cell_type": "code",
   "execution_count": 17,
   "metadata": {
    "colab": {
     "base_uri": "https://localhost:8080/"
    },
    "id": "CkEQvo2NRpW-",
    "outputId": "9d8b351c-8056-4752-d79c-47dc191c39c6"
   },
   "outputs": [
    {
     "data": {
      "text/plain": [
       "Job Title               0\n",
       "Salary Estimate         0\n",
       "Job Description         0\n",
       "Rating                271\n",
       "Company Name            0\n",
       "Location                0\n",
       "Headquarters          171\n",
       "Size                  162\n",
       "Founded               659\n",
       "Type of ownership     162\n",
       "Industry              352\n",
       "Sector                352\n",
       "Revenue               162\n",
       "Competitors          1730\n",
       "Easy Apply              0\n",
       "dtype: int64"
      ]
     },
     "execution_count": 17,
     "metadata": {},
     "output_type": "execute_result"
    }
   ],
   "source": [
    "df.isna().sum()"
   ]
  },
  {
   "cell_type": "code",
   "execution_count": 18,
   "metadata": {
    "colab": {
     "base_uri": "https://localhost:8080/",
     "height": 542
    },
    "id": "37I2vpIZRpnU",
    "outputId": "e6a31956-dff8-420d-fa98-7d9998bb202b"
   },
   "outputs": [
    {
     "data": {
      "text/html": [
       "<html>\n",
       "<head><meta charset=\"utf-8\" /></head>\n",
       "<body>\n",
       "    <div>            <script src=\"https://cdnjs.cloudflare.com/ajax/libs/mathjax/2.7.5/MathJax.js?config=TeX-AMS-MML_SVG\"></script><script type=\"text/javascript\">if (window.MathJax) {MathJax.Hub.Config({SVG: {font: \"STIX-Web\"}});}</script>                <script type=\"text/javascript\">window.PlotlyConfig = {MathJaxConfig: 'local'};</script>\n",
       "        <script src=\"https://cdn.plot.ly/plotly-2.8.3.min.js\"></script>                <div id=\"5016d7bf-bdbe-4f2c-9154-ce9829c6851e\" class=\"plotly-graph-div\" style=\"height:525px; width:100%;\"></div>            <script type=\"text/javascript\">                                    window.PLOTLYENV=window.PLOTLYENV || {};                                    if (document.getElementById(\"5016d7bf-bdbe-4f2c-9154-ce9829c6851e\")) {                    Plotly.newPlot(                        \"5016d7bf-bdbe-4f2c-9154-ce9829c6851e\",                        [{\"alignmentgroup\":\"True\",\"bingroup\":\"x\",\"hovertemplate\":\"variable=Rating<br>value=%{x}<br>count=%{y}<extra></extra>\",\"legendgroup\":\"Rating\",\"marker\":{\"color\":\"#636efa\",\"pattern\":{\"shape\":\"\"}},\"name\":\"Rating\",\"offsetgroup\":\"Rating\",\"orientation\":\"v\",\"showlegend\":true,\"x\":[3.2,3.8,3.4,4.1,3.9,3.9,4.4,3.7,4.0,4.4,4.0,null,3.7,3.0,3.4,3.6,3.8,3.8,3.9,4.9,4.4,null,3.3,3.5,3.8,4.0,5.0,4.8,3.7,4.7,3.6,3.6,3.5,3.2,null,3.7,null,3.6,4.0,4.6,null,null,5.0,4.0,3.0,2.9,4.0,3.6,4.9,3.9,4.0,3.8,3.7,3.6,3.6,null,4.0,3.2,3.8,3.9,4.8,3.6,3.6,3.6,4.1,3.9,3.0,3.7,null,3.9,3.7,null,3.6,3.7,3.6,4.1,3.5,3.7,5.0,4.0,4.8,5.0,3.3,4.1,4.0,null,1.0,3.1,4.5,3.4,null,3.6,4.1,4.4,3.8,3.2,null,3.8,4.7,2.3,3.8,4.6,3.0,3.9,3.0,4.2,5.0,4.0,null,null,3.6,3.7,3.5,2.8,5.0,3.8,3.4,3.6,null,3.2,3.8,3.5,3.5,4.1,5.0,3.7,4.0,3.3,2.9,3.6,3.2,3.1,3.4,4.0,4.3,2.7,4.1,4.4,3.1,3.0,2.9,3.9,4.2,3.9,4.2,null,5.0,3.9,3.4,2.9,4.0,3.6,3.4,null,3.3,3.2,3.8,null,3.4,3.2,3.2,3.3,null,3.8,3.3,4.1,2.9,null,3.4,2.5,4.4,3.9,2.3,3.6,null,3.6,3.3,3.8,3.7,null,3.6,4.0,4.1,4.5,3.7,3.1,null,3.7,3.7,3.2,3.6,3.6,3.7,3.1,null,3.8,4.1,3.8,3.7,4.7,3.7,3.3,3.4,3.2,null,null,5.0,3.6,3.0,3.5,1.0,5.0,5.0,3.8,4.1,3.3,null,3.5,3.7,4.0,3.4,3.6,null,3.5,3.4,4.1,4.2,null,2.7,3.1,4.5,4.8,4.1,3.0,2.7,3.5,null,3.1,5.0,3.9,3.8,3.0,3.2,3.3,3.6,3.1,3.6,null,3.9,4.0,3.9,3.8,4.9,null,3.6,null,3.2,2.9,2.3,null,4.2,3.4,3.1,3.9,4.5,4.0,2.6,null,3.9,4.1,3.8,5.0,null,3.8,3.9,3.0,null,4.0,4.8,null,3.8,3.5,3.0,3.1,null,3.5,4.0,3.2,3.3,null,3.6,null,3.6,4.3,4.0,3.7,4.1,3.3,3.4,3.1,3.7,null,3.9,4.1,3.3,4.1,3.0,3.4,4.8,3.2,3.8,3.7,4.6,2.7,4.0,null,3.5,3.9,4.1,3.1,3.1,3.9,4.3,3.7,3.2,3.8,3.5,null,3.6,3.9,null,2.4,4.0,4.0,3.6,4.0,3.2,2.5,3.6,3.0,3.9,2.4,2.8,4.4,4.8,2.8,5.0,3.7,4.0,4.2,null,3.5,2.0,3.3,null,null,5.0,3.4,3.6,2.1,2.8,3.0,3.9,4.5,null,4.0,5.0,3.0,3.4,3.2,4.0,2.8,3.2,3.4,3.4,3.5,3.3,3.7,3.6,2.7,4.5,2.5,4.4,null,4.3,5.0,4.4,3.2,4.8,3.0,5.0,3.4,4.2,4.2,3.4,3.1,null,3.7,4.0,4.3,3.8,2.4,3.4,null,null,4.0,3.2,3.3,null,5.0,3.2,3.1,3.9,null,2.5,3.1,4.5,3.2,4.4,3.8,3.4,null,2.0,4.2,3.6,4.3,4.0,4.3,4.1,4.5,4.6,4.0,4.1,3.6,2.6,3.0,3.6,2.9,3.4,null,4.5,3.8,2.7,3.3,null,null,5.0,3.5,3.5,4.1,4.0,3.5,2.9,4.2,3.5,3.7,3.3,4.3,2.5,2.7,2.7,5.0,4.9,3.0,1.0,3.5,5.0,4.9,3.4,3.1,3.8,1.0,3.5,3.8,5.0,5.0,3.0,3.8,4.9,null,3.5,3.8,3.2,3.1,3.5,3.2,4.9,3.8,3.7,3.5,1.0,5.0,3.2,3.4,3.1,null,3.4,3.5,3.6,null,3.7,3.6,null,3.3,3.3,5.0,5.0,4.3,3.1,3.3,5.0,5.0,3.3,3.1,3.6,3.7,5.0,null,5.0,3.3,5.0,3.6,4.3,4.3,3.2,4.5,4.3,null,4.0,null,3.6,3.5,5.0,3.4,3.9,null,3.5,3.2,4.7,4.7,4.0,3.4,null,3.7,4.1,3.1,3.7,null,3.9,3.8,3.5,5.0,3.8,3.8,4.2,3.1,4.1,3.9,null,3.5,3.9,3.9,3.9,3.7,4.7,4.0,3.5,2.9,2.8,3.1,5.0,3.2,5.0,3.2,3.9,null,4.5,3.9,5.0,null,3.1,3.6,3.3,3.7,4.6,4.5,3.9,3.8,3.0,3.9,3.4,3.5,4.0,5.0,4.5,4.0,3.5,3.4,2.1,3.8,5.0,null,4.0,3.8,3.8,3.6,4.9,null,null,3.6,null,3.4,null,4.1,3.4,3.7,3.1,3.0,3.5,3.7,3.6,4.6,null,3.8,2.7,3.4,3.1,null,3.7,null,3.6,5.0,4.0,3.0,3.3,null,4.0,4.9,3.6,3.6,5.0,3.8,4.3,4.2,3.9,4.1,3.4,5.0,3.8,3.5,3.8,null,null,3.6,3.4,3.1,1.0,3.1,4.7,null,null,null,3.9,2.5,3.5,3.8,3.8,4.0,4.1,null,3.8,3.0,3.3,5.0,null,2.6,3.3,3.5,3.0,2.8,3.2,4.7,3.1,2.5,3.3,null,null,2.9,5.0,null,4.0,5.0,3.3,2.9,5.0,3.2,3.3,3.8,null,4.0,4.1,null,2.8,3.9,3.4,3.1,3.1,2.4,3.7,3.3,4.6,2.9,3.6,null,3.8,3.4,null,null,null,null,3.9,3.7,3.7,5.0,3.2,3.4,3.4,3.8,2.8,3.3,3.7,4.0,3.9,null,4.6,4.6,4.1,3.3,3.3,4.7,4.3,3.2,3.3,3.1,3.5,3.3,3.8,3.8,3.7,3.2,4.2,4.6,3.2,3.5,3.7,3.9,null,3.4,4.1,5.0,3.5,3.7,4.0,3.5,3.6,3.0,null,null,3.9,5.0,4.7,3.5,3.2,null,4.6,4.2,3.9,3.9,4.8,null,4.0,3.9,2.7,3.4,4.5,4.0,3.7,4.0,3.2,3.2,null,3.8,3.8,3.9,3.5,3.0,3.0,3.9,3.9,3.7,null,4.3,1.0,3.7,3.6,4.0,2.9,2.5,3.6,4.1,3.3,4.8,5.0,3.3,2.8,3.6,null,2.5,4.2,3.5,1.0,3.2,4.8,2.9,3.4,4.1,3.7,5.0,4.1,null,2.5,4.5,3.5,5.0,null,2.1,null,3.3,4.5,null,2.0,null,3.9,3.3,3.7,3.4,3.8,3.2,3.2,3.3,1.7,3.5,5.0,4.3,4.6,null,3.0,3.3,3.0,null,5.0,4.0,2.2,null,2.7,3.2,3.5,null,2.7,null,3.3,3.3,4.1,2.8,null,null,3.9,3.7,3.8,4.0,3.0,null,3.4,4.0,4.1,2.8,3.0,3.5,3.6,2.7,3.9,3.9,3.4,null,4.8,3.1,3.2,4.0,null,3.6,4.3,4.1,null,2.5,3.7,null,3.7,4.9,3.6,3.9,3.9,4.0,4.8,4.2,5.0,4.7,2.5,4.8,1.0,2.4,3.3,3.8,3.5,3.5,3.0,5.0,2.0,3.5,4.1,4.6,3.6,3.4,4.2,3.6,3.7,2.9,null,2.7,3.3,2.8,3.6,3.4,3.6,4.7,4.5,null,4.7,3.6,4.0,4.0,3.6,2.0,3.8,4.0,3.2,3.6,3.2,4.4,3.6,5.0,5.0,null,3.7,3.8,3.0,3.3,3.1,4.8,2.2,3.1,4.4,3.2,3.7,3.5,4.0,3.2,3.5,4.9,4.1,4.6,3.6,3.0,3.2,2.9,3.9,3.6,2.5,3.6,3.6,4.4,null,4.6,3.1,3.1,3.4,2.9,3.9,null,null,4.3,4.3,3.6,3.9,3.8,2.9,3.4,3.4,3.7,3.1,null,3.1,3.1,2.5,2.5,3.9,5.0,null,4.5,3.3,3.2,3.5,3.0,null,3.6,4.0,3.5,3.0,4.9,3.9,4.3,null,4.5,null,null,3.7,4.3,null,4.2,2.7,2.9,3.6,null,3.1,4.4,3.5,3.4,3.6,3.8,null,3.7,3.7,3.8,5.0,4.1,4.1,4.1,4.0,3.8,2.9,null,3.1,4.5,3.1,null,2.8,2.9,3.6,3.6,2.3,3.2,3.6,4.7,3.9,3.9,null,3.9,3.8,5.0,null,3.7,5.0,3.5,3.8,4.2,3.3,3.3,4.1,3.9,4.3,4.1,3.5,3.8,3.6,3.5,3.2,2.4,4.3,3.1,3.5,null,3.9,5.0,2.4,null,4.2,4.3,null,null,2.7,4.6,3.9,3.5,3.2,2.7,3.9,3.1,4.5,3.8,3.2,4.1,null,null,3.5,4.3,1.8,3.7,4.3,3.8,4.0,3.9,3.9,3.4,2.4,3.2,3.8,2.6,3.2,3.9,3.7,4.7,4.2,3.5,3.5,3.7,null,3.2,2.7,4.5,4.1,null,3.9,3.6,3.6,4.1,4.4,3.5,2.3,4.2,2.4,3.7,4.2,2.7,4.3,3.2,3.5,3.7,3.9,3.6,null,null,3.4,3.4,4.2,5.0,null,3.3,3.9,3.7,null,2.8,1.6,2.7,4.6,3.8,3.3,4.8,null,3.5,null,5.0,3.6,4.2,3.1,1.6,4.5,3.3,3.2,3.9,4.0,4.1,null,3.9,3.4,4.0,3.1,3.0,3.9,3.9,3.7,4.1,3.4,3.4,4.3,2.5,4.0,null,2.8,3.7,5.0,3.0,4.0,4.5,3.5,3.3,null,4.1,2.9,3.7,4.0,4.0,3.5,3.3,null,2.6,3.3,3.9,null,3.8,4.1,3.2,3.8,4.0,null,3.9,4.4,3.3,null,3.1,3.1,3.6,3.3,4.3,3.0,4.5,3.7,4.2,3.7,4.0,3.4,4.2,5.0,3.2,3.0,4.4,3.4,4.8,5.0,3.2,3.8,3.9,2.8,3.5,5.0,3.5,null,3.5,3.6,3.3,3.4,4.0,3.9,4.3,4.2,4.6,4.4,null,3.7,2.3,4.4,3.3,4.1,4.2,3.5,4.3,5.0,3.2,3.5,3.3,4.3,2.5,null,3.3,4.1,3.7,3.7,4.2,4.9,3.5,4.3,3.4,3.5,3.3,3.7,4.1,4.1,4.3,3.3,3.1,4.9,3.3,3.9,4.0,5.0,3.7,3.7,3.8,4.4,3.1,4.0,3.4,null,3.3,4.1,3.5,3.3,3.4,2.8,2.9,4.0,5.0,2.9,3.8,3.8,3.3,null,3.6,4.1,4.6,3.3,3.4,3.6,4.1,null,3.8,null,3.6,2.9,3.7,3.5,3.6,1.0,4.1,3.8,3.7,5.0,2.6,null,4.0,3.5,4.6,3.8,2.8,3.9,4.5,3.0,4.4,4.1,4.3,5.0,1.9,3.4,2.8,4.2,3.7,null,3.4,3.2,4.2,4.7,4.6,3.8,3.4,3.1,3.4,null,3.4,null,2.9,2.5,4.0,2.8,3.3,3.8,3.8,null,4.2,4.1,3.7,3.6,3.5,2.1,3.7,2.5,3.6,null,3.3,null,3.9,3.7,null,3.3,5.0,3.5,2.6,null,3.5,4.0,3.4,4.2,3.0,4.1,4.0,4.1,3.2,3.7,4.0,3.5,4.2,4.5,3.8,4.3,3.7,4.4,3.1,3.2,3.3,2.8,4.0,3.4,3.9,3.2,3.5,3.4,4.0,4.3,3.5,3.2,3.6,4.0,null,3.9,null,3.8,4.1,4.5,null,2.9,4.1,4.5,4.6,3.9,4.0,3.3,3.1,3.4,3.4,3.5,3.8,4.0,null,3.9,4.0,3.6,3.8,5.0,4.4,4.4,3.9,3.7,4.1,4.0,3.1,3.9,null,3.9,3.6,3.9,4.4,3.9,5.0,4.1,3.8,3.8,3.7,4.0,4.1,4.0,3.9,4.5,2.4,4.8,3.9,4.1,4.0,5.0,null,null,4.1,4.1,4.5,4.6,3.2,5.0,4.1,4.0,4.3,4.4,3.3,4.1,4.5,4.1,null,4.7,4.2,4.0,null,4.1,4.2,4.8,4.1,3.9,null,3.7,3.5,4.1,3.2,4.2,3.5,3.8,3.9,4.7,3.3,4.4,4.1,4.4,4.8,3.1,4.1,3.8,4.1,3.6,4.4,3.9,3.7,3.9,null,null,4.3,4.0,4.4,3.4,3.9,3.1,4.1,4.1,4.8,4.4,3.3,4.4,3.9,3.3,3.9,3.3,3.4,3.4,4.0,4.5,3.7,null,3.5,null,3.7,2.2,3.7,null,3.7,3.1,3.7,4.0,null,3.7,5.0,4.5,3.9,4.1,3.3,4.0,3.5,4.4,null,3.6,4.8,2.6,4.1,4.0,3.8,3.3,3.9,3.6,3.8,3.7,3.2,3.9,3.3,3.9,2.9,null,null,null,3.6,3.9,4.0,4.1,3.7,4.1,3.5,2.8,4.6,2.6,3.8,2.6,2.8,4.6,4.1,2.8,4.1,4.9,4.7,3.6,3.9,2.8,4.0,3.4,4.6,4.3,1.9,5.0,3.2,3.8,5.0,4.0,3.5,4.5,4.5,3.3,4.6,2.8,null,3.2,3.7,2.6,2.8,2.8,null,4.4,4.6,3.9,2.8,3.3,2.5,null,2.5,3.7,2.6,3.3,3.8,null,3.7,2.7,3.3,3.8,3.5,3.5,3.8,3.8,3.7,3.0,3.9,3.1,3.7,3.6,null,2.8,3.3,4.1,3.3,5.0,2.8,null,3.5,4.1,3.5,null,2.7,null,3.3,4.4,2.8,2.8,3.5,3.4,3.0,3.5,3.5,3.7,5.0,null,3.5,3.5,3.9,5.0,3.5,5.0,null,null,2.9,5.0,5.0,3.9,null,3.3,4.6,3.8,null,3.9,3.1,4.4,5.0,3.8,2.9,null,1.7,4.2,4.8,3.9,null,null,4.8,4.7,3.6,4.2,3.6,3.7,2.9,3.5,3.9,null,3.8,3.6,5.0,2.3,2.5,3.7,2.8,5.0,3.4,4.5,3.4,null,5.0,4.5,4.5,3.7,5.0,2.5,4.0,4.5,3.6,null,null,3.4,3.4,3.7,3.9,4.5,3.6,3.8,5.0,3.9,3.8,5.0,3.4,4.1,4.1,3.9,3.9,3.6,3.4,3.6,3.8,3.6,4.1,3.7,3.5,4.1,3.9,5.0,4.6,3.2,3.9,null,4.7,3.9,3.2,3.3,null,3.6,2.8,3.4,3.8,3.6,3.7,2.0,2.9,4.1,3.5,2.9,null,3.6,4.6,5.0,3.5,4.3,5.0,null,3.2,4.1,3.4,4.0,3.9,2.9,4.0,null,4.1,5.0,3.6,4.1,3.3,4.3,2.3,3.2,3.3,null,2.8,null,5.0,1.8,4.4,null,null,3.3,4.1,null,null,3.8,4.3,3.7,3.7,3.1,3.0,null,3.6,3.8,3.6,3.3,3.8,3.3,4.0,3.6,3.9,3.0,4.0,5.0,3.8,4.6,3.5,3.3,4.1,4.1,4.8,3.7,3.6,3.6,3.9,3.8,4.0,5.0,4.9,4.6,3.8,4.0,3.7,4.5,2.3,null,4.1,4.0,3.6,5.0,4.4,3.3,null,3.8,3.5,4.1,4.6,4.2,4.3,5.0,null,3.7,null,4.0,3.9,3.9,3.6,4.1,4.6,3.4,null,4.0,4.1,3.4,5.0,3.9,3.8,4.1,2.5,3.2,3.7,3.7,3.2,3.7,3.2,4.1,3.2,5.0,4.1,4.8,4.5,4.1,5.0,3.9,4.0,4.6,3.4,3.2,3.3,4.0,null,null,3.9,3.0,null,3.8,3.8,null,null,4.0,4.4,3.6,3.2,3.9,4.0,3.2,4.4,null,null,4.5,null,3.7,3.9,null,3.2,null,3.7,null,3.2,3.7,3.8,4.0,5.0,2.8,4.0,2.5,3.7,4.6,3.6,3.4,3.5,4.0,4.1,3.3,3.5,4.5,null,3.9,null,3.8,4.0,4.1,null,4.1,5.0,4.5,4.8,null,4.1,2.7,null,3.9,3.0,3.8,3.1,3.9,3.9,3.2,4.4,3.9,3.5,3.6,5.0,4.4,4.4,4.9,5.0,4.3,3.8,3.9,4.8,null,3.4,3.1,4.6,3.4,3.0,3.6,3.2,3.4,3.8,3.0,4.6,3.0,3.7,3.8,3.6,null,4.6,4.6,4.1,null,5.0,3.2,3.3,3.5,4.2,2.8,3.8,2.8,5.0,3.6,3.6,4.2,4.6,5.0,3.1,3.5,4.0,3.4,2.9,5.0,3.5,2.8,4.0,2.7,3.3,4.3,3.3,4.3,4.6,3.6,3.0,4.0,3.5,4.3,null,4.0,3.7,2.9,5.0,4.7,5.0,4.2,3.2,3.9,3.8,2.9,3.0,3.4,3.5,3.7,4.3,4.4,3.9,3.7,4.0,null,3.7,4.0,3.6,null,4.3,4.6,4.3,5.0,3.5,4.2,null,4.6,null,4.5,null,3.6,3.4,4.1,4.4,null,null,4.2,5.0,5.0,5.0,3.8,3.4,null,3.8,4.0,3.6,4.0,3.8,3.1,4.3,2.9,3.2,3.8,5.0,4.1,3.9,3.4,4.0,3.3,5.0,3.5,3.7,3.7,3.6,3.8,5.0,4.8,5.0,4.6,3.5,3.7,3.3,4.1,3.6,3.1,3.8,3.5,5.0,null,4.1,3.5,3.5,3.6,4.7,3.0,3.5,null,2.6,null,3.3,3.3,2.5,5.0,5.0,3.7,4.0,4.3,3.0,3.7,3.6,2.5,3.5,4.2,4.1,4.0,2.9,5.0,5.0,4.3,2.6,4.1,3.7,5.0,3.3,2.7,3.8,3.0,2.8,2.5,3.8,3.6,4.3,3.6,3.3,4.0,null,2.5,2.5,3.5,3.0,2.5,2.8,null,4.1,2.5,2.9,null,3.1,3.4],\"xaxis\":\"x\",\"yaxis\":\"y\",\"type\":\"histogram\"}],                        {\"template\":{\"data\":{\"bar\":[{\"error_x\":{\"color\":\"#2a3f5f\"},\"error_y\":{\"color\":\"#2a3f5f\"},\"marker\":{\"line\":{\"color\":\"#E5ECF6\",\"width\":0.5},\"pattern\":{\"fillmode\":\"overlay\",\"size\":10,\"solidity\":0.2}},\"type\":\"bar\"}],\"barpolar\":[{\"marker\":{\"line\":{\"color\":\"#E5ECF6\",\"width\":0.5},\"pattern\":{\"fillmode\":\"overlay\",\"size\":10,\"solidity\":0.2}},\"type\":\"barpolar\"}],\"carpet\":[{\"aaxis\":{\"endlinecolor\":\"#2a3f5f\",\"gridcolor\":\"white\",\"linecolor\":\"white\",\"minorgridcolor\":\"white\",\"startlinecolor\":\"#2a3f5f\"},\"baxis\":{\"endlinecolor\":\"#2a3f5f\",\"gridcolor\":\"white\",\"linecolor\":\"white\",\"minorgridcolor\":\"white\",\"startlinecolor\":\"#2a3f5f\"},\"type\":\"carpet\"}],\"choropleth\":[{\"colorbar\":{\"outlinewidth\":0,\"ticks\":\"\"},\"type\":\"choropleth\"}],\"contour\":[{\"colorbar\":{\"outlinewidth\":0,\"ticks\":\"\"},\"colorscale\":[[0.0,\"#0d0887\"],[0.1111111111111111,\"#46039f\"],[0.2222222222222222,\"#7201a8\"],[0.3333333333333333,\"#9c179e\"],[0.4444444444444444,\"#bd3786\"],[0.5555555555555556,\"#d8576b\"],[0.6666666666666666,\"#ed7953\"],[0.7777777777777778,\"#fb9f3a\"],[0.8888888888888888,\"#fdca26\"],[1.0,\"#f0f921\"]],\"type\":\"contour\"}],\"contourcarpet\":[{\"colorbar\":{\"outlinewidth\":0,\"ticks\":\"\"},\"type\":\"contourcarpet\"}],\"heatmap\":[{\"colorbar\":{\"outlinewidth\":0,\"ticks\":\"\"},\"colorscale\":[[0.0,\"#0d0887\"],[0.1111111111111111,\"#46039f\"],[0.2222222222222222,\"#7201a8\"],[0.3333333333333333,\"#9c179e\"],[0.4444444444444444,\"#bd3786\"],[0.5555555555555556,\"#d8576b\"],[0.6666666666666666,\"#ed7953\"],[0.7777777777777778,\"#fb9f3a\"],[0.8888888888888888,\"#fdca26\"],[1.0,\"#f0f921\"]],\"type\":\"heatmap\"}],\"heatmapgl\":[{\"colorbar\":{\"outlinewidth\":0,\"ticks\":\"\"},\"colorscale\":[[0.0,\"#0d0887\"],[0.1111111111111111,\"#46039f\"],[0.2222222222222222,\"#7201a8\"],[0.3333333333333333,\"#9c179e\"],[0.4444444444444444,\"#bd3786\"],[0.5555555555555556,\"#d8576b\"],[0.6666666666666666,\"#ed7953\"],[0.7777777777777778,\"#fb9f3a\"],[0.8888888888888888,\"#fdca26\"],[1.0,\"#f0f921\"]],\"type\":\"heatmapgl\"}],\"histogram\":[{\"marker\":{\"pattern\":{\"fillmode\":\"overlay\",\"size\":10,\"solidity\":0.2}},\"type\":\"histogram\"}],\"histogram2d\":[{\"colorbar\":{\"outlinewidth\":0,\"ticks\":\"\"},\"colorscale\":[[0.0,\"#0d0887\"],[0.1111111111111111,\"#46039f\"],[0.2222222222222222,\"#7201a8\"],[0.3333333333333333,\"#9c179e\"],[0.4444444444444444,\"#bd3786\"],[0.5555555555555556,\"#d8576b\"],[0.6666666666666666,\"#ed7953\"],[0.7777777777777778,\"#fb9f3a\"],[0.8888888888888888,\"#fdca26\"],[1.0,\"#f0f921\"]],\"type\":\"histogram2d\"}],\"histogram2dcontour\":[{\"colorbar\":{\"outlinewidth\":0,\"ticks\":\"\"},\"colorscale\":[[0.0,\"#0d0887\"],[0.1111111111111111,\"#46039f\"],[0.2222222222222222,\"#7201a8\"],[0.3333333333333333,\"#9c179e\"],[0.4444444444444444,\"#bd3786\"],[0.5555555555555556,\"#d8576b\"],[0.6666666666666666,\"#ed7953\"],[0.7777777777777778,\"#fb9f3a\"],[0.8888888888888888,\"#fdca26\"],[1.0,\"#f0f921\"]],\"type\":\"histogram2dcontour\"}],\"mesh3d\":[{\"colorbar\":{\"outlinewidth\":0,\"ticks\":\"\"},\"type\":\"mesh3d\"}],\"parcoords\":[{\"line\":{\"colorbar\":{\"outlinewidth\":0,\"ticks\":\"\"}},\"type\":\"parcoords\"}],\"pie\":[{\"automargin\":true,\"type\":\"pie\"}],\"scatter\":[{\"marker\":{\"colorbar\":{\"outlinewidth\":0,\"ticks\":\"\"}},\"type\":\"scatter\"}],\"scatter3d\":[{\"line\":{\"colorbar\":{\"outlinewidth\":0,\"ticks\":\"\"}},\"marker\":{\"colorbar\":{\"outlinewidth\":0,\"ticks\":\"\"}},\"type\":\"scatter3d\"}],\"scattercarpet\":[{\"marker\":{\"colorbar\":{\"outlinewidth\":0,\"ticks\":\"\"}},\"type\":\"scattercarpet\"}],\"scattergeo\":[{\"marker\":{\"colorbar\":{\"outlinewidth\":0,\"ticks\":\"\"}},\"type\":\"scattergeo\"}],\"scattergl\":[{\"marker\":{\"colorbar\":{\"outlinewidth\":0,\"ticks\":\"\"}},\"type\":\"scattergl\"}],\"scattermapbox\":[{\"marker\":{\"colorbar\":{\"outlinewidth\":0,\"ticks\":\"\"}},\"type\":\"scattermapbox\"}],\"scatterpolar\":[{\"marker\":{\"colorbar\":{\"outlinewidth\":0,\"ticks\":\"\"}},\"type\":\"scatterpolar\"}],\"scatterpolargl\":[{\"marker\":{\"colorbar\":{\"outlinewidth\":0,\"ticks\":\"\"}},\"type\":\"scatterpolargl\"}],\"scatterternary\":[{\"marker\":{\"colorbar\":{\"outlinewidth\":0,\"ticks\":\"\"}},\"type\":\"scatterternary\"}],\"surface\":[{\"colorbar\":{\"outlinewidth\":0,\"ticks\":\"\"},\"colorscale\":[[0.0,\"#0d0887\"],[0.1111111111111111,\"#46039f\"],[0.2222222222222222,\"#7201a8\"],[0.3333333333333333,\"#9c179e\"],[0.4444444444444444,\"#bd3786\"],[0.5555555555555556,\"#d8576b\"],[0.6666666666666666,\"#ed7953\"],[0.7777777777777778,\"#fb9f3a\"],[0.8888888888888888,\"#fdca26\"],[1.0,\"#f0f921\"]],\"type\":\"surface\"}],\"table\":[{\"cells\":{\"fill\":{\"color\":\"#EBF0F8\"},\"line\":{\"color\":\"white\"}},\"header\":{\"fill\":{\"color\":\"#C8D4E3\"},\"line\":{\"color\":\"white\"}},\"type\":\"table\"}]},\"layout\":{\"annotationdefaults\":{\"arrowcolor\":\"#2a3f5f\",\"arrowhead\":0,\"arrowwidth\":1},\"autotypenumbers\":\"strict\",\"coloraxis\":{\"colorbar\":{\"outlinewidth\":0,\"ticks\":\"\"}},\"colorscale\":{\"diverging\":[[0,\"#8e0152\"],[0.1,\"#c51b7d\"],[0.2,\"#de77ae\"],[0.3,\"#f1b6da\"],[0.4,\"#fde0ef\"],[0.5,\"#f7f7f7\"],[0.6,\"#e6f5d0\"],[0.7,\"#b8e186\"],[0.8,\"#7fbc41\"],[0.9,\"#4d9221\"],[1,\"#276419\"]],\"sequential\":[[0.0,\"#0d0887\"],[0.1111111111111111,\"#46039f\"],[0.2222222222222222,\"#7201a8\"],[0.3333333333333333,\"#9c179e\"],[0.4444444444444444,\"#bd3786\"],[0.5555555555555556,\"#d8576b\"],[0.6666666666666666,\"#ed7953\"],[0.7777777777777778,\"#fb9f3a\"],[0.8888888888888888,\"#fdca26\"],[1.0,\"#f0f921\"]],\"sequentialminus\":[[0.0,\"#0d0887\"],[0.1111111111111111,\"#46039f\"],[0.2222222222222222,\"#7201a8\"],[0.3333333333333333,\"#9c179e\"],[0.4444444444444444,\"#bd3786\"],[0.5555555555555556,\"#d8576b\"],[0.6666666666666666,\"#ed7953\"],[0.7777777777777778,\"#fb9f3a\"],[0.8888888888888888,\"#fdca26\"],[1.0,\"#f0f921\"]]},\"colorway\":[\"#636efa\",\"#EF553B\",\"#00cc96\",\"#ab63fa\",\"#FFA15A\",\"#19d3f3\",\"#FF6692\",\"#B6E880\",\"#FF97FF\",\"#FECB52\"],\"font\":{\"color\":\"#2a3f5f\"},\"geo\":{\"bgcolor\":\"white\",\"lakecolor\":\"white\",\"landcolor\":\"#E5ECF6\",\"showlakes\":true,\"showland\":true,\"subunitcolor\":\"white\"},\"hoverlabel\":{\"align\":\"left\"},\"hovermode\":\"closest\",\"mapbox\":{\"style\":\"light\"},\"paper_bgcolor\":\"white\",\"plot_bgcolor\":\"#E5ECF6\",\"polar\":{\"angularaxis\":{\"gridcolor\":\"white\",\"linecolor\":\"white\",\"ticks\":\"\"},\"bgcolor\":\"#E5ECF6\",\"radialaxis\":{\"gridcolor\":\"white\",\"linecolor\":\"white\",\"ticks\":\"\"}},\"scene\":{\"xaxis\":{\"backgroundcolor\":\"#E5ECF6\",\"gridcolor\":\"white\",\"gridwidth\":2,\"linecolor\":\"white\",\"showbackground\":true,\"ticks\":\"\",\"zerolinecolor\":\"white\"},\"yaxis\":{\"backgroundcolor\":\"#E5ECF6\",\"gridcolor\":\"white\",\"gridwidth\":2,\"linecolor\":\"white\",\"showbackground\":true,\"ticks\":\"\",\"zerolinecolor\":\"white\"},\"zaxis\":{\"backgroundcolor\":\"#E5ECF6\",\"gridcolor\":\"white\",\"gridwidth\":2,\"linecolor\":\"white\",\"showbackground\":true,\"ticks\":\"\",\"zerolinecolor\":\"white\"}},\"shapedefaults\":{\"line\":{\"color\":\"#2a3f5f\"}},\"ternary\":{\"aaxis\":{\"gridcolor\":\"white\",\"linecolor\":\"white\",\"ticks\":\"\"},\"baxis\":{\"gridcolor\":\"white\",\"linecolor\":\"white\",\"ticks\":\"\"},\"bgcolor\":\"#E5ECF6\",\"caxis\":{\"gridcolor\":\"white\",\"linecolor\":\"white\",\"ticks\":\"\"}},\"title\":{\"x\":0.05},\"xaxis\":{\"automargin\":true,\"gridcolor\":\"white\",\"linecolor\":\"white\",\"ticks\":\"\",\"title\":{\"standoff\":15},\"zerolinecolor\":\"white\",\"zerolinewidth\":2},\"yaxis\":{\"automargin\":true,\"gridcolor\":\"white\",\"linecolor\":\"white\",\"ticks\":\"\",\"title\":{\"standoff\":15},\"zerolinecolor\":\"white\",\"zerolinewidth\":2}}},\"xaxis\":{\"anchor\":\"y\",\"domain\":[0.0,1.0],\"title\":{\"text\":\"value\"}},\"yaxis\":{\"anchor\":\"x\",\"domain\":[0.0,1.0],\"title\":{\"text\":\"count\"}},\"legend\":{\"title\":{\"text\":\"variable\"},\"tracegroupgap\":0},\"margin\":{\"t\":60},\"barmode\":\"relative\"},                        {\"responsive\": true}                    ).then(function(){\n",
       "                            \n",
       "var gd = document.getElementById('5016d7bf-bdbe-4f2c-9154-ce9829c6851e');\n",
       "var x = new MutationObserver(function (mutations, observer) {{\n",
       "        var display = window.getComputedStyle(gd).display;\n",
       "        if (!display || display === 'none') {{\n",
       "            console.log([gd, 'removed!']);\n",
       "            Plotly.purge(gd);\n",
       "            observer.disconnect();\n",
       "        }}\n",
       "}});\n",
       "\n",
       "// Listen for the removal of the full notebook cells\n",
       "var notebookContainer = gd.closest('#notebook-container');\n",
       "if (notebookContainer) {{\n",
       "    x.observe(notebookContainer, {childList: true});\n",
       "}}\n",
       "\n",
       "// Listen for the clearing of the current output cell\n",
       "var outputEl = gd.closest('.output');\n",
       "if (outputEl) {{\n",
       "    x.observe(outputEl, {childList: true});\n",
       "}}\n",
       "\n",
       "                        })                };                            </script>        </div>\n",
       "</body>\n",
       "</html>"
      ]
     },
     "metadata": {},
     "output_type": "display_data"
    }
   ],
   "source": [
    "px.histogram(df['Rating'])"
   ]
  },
  {
   "cell_type": "code",
   "execution_count": 19,
   "metadata": {
    "id": "zcBMSSpJRppk"
   },
   "outputs": [],
   "source": [
    "df['Rating'].fillna(df['Rating'].mean(),inplace = True)"
   ]
  },
  {
   "cell_type": "code",
   "execution_count": 20,
   "metadata": {
    "id": "KkbYU3ITSTTh"
   },
   "outputs": [],
   "source": [
    "df['Headquarters'].fillna('not mentioned',inplace = True)"
   ]
  },
  {
   "cell_type": "code",
   "execution_count": 21,
   "metadata": {
    "colab": {
     "base_uri": "https://localhost:8080/"
    },
    "id": "n_QqLulQRpsU",
    "outputId": "d941d3cf-9377-4411-ab42-05fa82da1ba1"
   },
   "outputs": [
    {
     "data": {
      "text/plain": [
       "51 to 200 employees        420\n",
       "10000+ employees           375\n",
       "1001 to 5000 employees     348\n",
       "1 to 50 employees          347\n",
       "201 to 500 employees       249\n",
       "501 to 1000 employees      211\n",
       "5001 to 10000 employees     97\n",
       "Unknown                     42\n",
       "Name: Size, dtype: int64"
      ]
     },
     "execution_count": 21,
     "metadata": {},
     "output_type": "execute_result"
    }
   ],
   "source": [
    "df['Size'].value_counts()"
   ]
  },
  {
   "cell_type": "code",
   "execution_count": 22,
   "metadata": {
    "id": "mTa1-mVNRpvD"
   },
   "outputs": [],
   "source": [
    "df['Size'].fillna('Unknown',inplace=True)"
   ]
  },
  {
   "cell_type": "code",
   "execution_count": 23,
   "metadata": {
    "colab": {
     "base_uri": "https://localhost:8080/"
    },
    "id": "omlhE9heRp_p",
    "outputId": "45fda21d-e623-4fb9-91ad-7791f541de85"
   },
   "outputs": [
    {
     "data": {
      "text/plain": [
       "2008.0    80\n",
       "1996.0    54\n",
       "2002.0    54\n",
       "2000.0    54\n",
       "1999.0    53\n",
       "          ..\n",
       "1830.0     1\n",
       "1887.0     1\n",
       "1895.0     1\n",
       "1818.0     1\n",
       "1905.0     1\n",
       "Name: Founded, Length: 160, dtype: int64"
      ]
     },
     "execution_count": 23,
     "metadata": {},
     "output_type": "execute_result"
    }
   ],
   "source": [
    "df['Founded'].value_counts()"
   ]
  },
  {
   "cell_type": "code",
   "execution_count": 24,
   "metadata": {
    "id": "QfasDNa3-Q-7"
   },
   "outputs": [],
   "source": [
    "df['Founded'].fillna(df['Founded'].mode()[0],inplace=True)"
   ]
  },
  {
   "cell_type": "code",
   "execution_count": 25,
   "metadata": {
    "colab": {
     "base_uri": "https://localhost:8080/"
    },
    "id": "pvsREsyi-RBb",
    "outputId": "3f245676-1603-415d-e9ef-dc3bcff5ea88"
   },
   "outputs": [
    {
     "data": {
      "text/plain": [
       "Company - Private                 1272\n",
       "Company - Public                   452\n",
       "Nonprofit Organization             124\n",
       "Subsidiary or Business Segment      89\n",
       "Government                          37\n",
       "College / University                34\n",
       "Hospital                            19\n",
       "Unknown                             16\n",
       "Other Organization                  13\n",
       "Contract                            11\n",
       "School / School District             9\n",
       "Private Practice / Firm              9\n",
       "Self-employed                        2\n",
       "Franchise                            2\n",
       "Name: Type of ownership, dtype: int64"
      ]
     },
     "execution_count": 25,
     "metadata": {},
     "output_type": "execute_result"
    }
   ],
   "source": [
    "df['Type of ownership'].value_counts()"
   ]
  },
  {
   "cell_type": "code",
   "execution_count": 26,
   "metadata": {
    "id": "J3PlCKk3-REK"
   },
   "outputs": [],
   "source": [
    "df['Type of ownership'].fillna(df['Type of ownership'].mode()[0],inplace=True)"
   ]
  },
  {
   "cell_type": "code",
   "execution_count": 27,
   "metadata": {
    "colab": {
     "base_uri": "https://localhost:8080/"
    },
    "id": "xh8qJIeF-RHS",
    "outputId": "e358c968-2817-43f1-ffb5-a0dba7efa93e"
   },
   "outputs": [
    {
     "data": {
      "text/plain": [
       "Unknown / Non-Applicable            615\n",
       "$100 to $500 million (USD)          218\n",
       "$50 to $100 million (USD)           199\n",
       "$10+ billion (USD)                  189\n",
       "$10 to $25 million (USD)            132\n",
       "$2 to $5 billion (USD)              129\n",
       "$1 to $5 million (USD)              111\n",
       "$25 to $50 million (USD)            109\n",
       "Less than $1 million (USD)           93\n",
       "$1 to $2 billion (USD)               87\n",
       "$500 million to $1 billion (USD)     79\n",
       "$5 to $10 million (USD)              72\n",
       "$5 to $10 billion (USD)              56\n",
       "Name: Revenue, dtype: int64"
      ]
     },
     "execution_count": 27,
     "metadata": {},
     "output_type": "execute_result"
    }
   ],
   "source": [
    "df['Revenue'].value_counts()"
   ]
  },
  {
   "cell_type": "code",
   "execution_count": 28,
   "metadata": {
    "colab": {
     "base_uri": "https://localhost:8080/"
    },
    "id": "7by6Qn7OE1B1",
    "outputId": "6eb437d7-0ff4-4b06-cb52-e7095040b245"
   },
   "outputs": [
    {
     "data": {
      "text/plain": [
       "IT Services                            325\n",
       "Staffing & Outsourcing                 322\n",
       "Health Care Services & Hospitals       151\n",
       "Computer Hardware & Software           111\n",
       "Consulting                             111\n",
       "                                      ... \n",
       "Truck Rental & Leasing                   1\n",
       "News Outlet                              1\n",
       "Catering & Food Service Contractors      1\n",
       "Chemical Manufacturing                   1\n",
       "Hotels, Motels, & Resorts                1\n",
       "Name: Industry, Length: 88, dtype: int64"
      ]
     },
     "execution_count": 28,
     "metadata": {},
     "output_type": "execute_result"
    }
   ],
   "source": [
    "df['Industry'].value_counts()"
   ]
  },
  {
   "cell_type": "code",
   "execution_count": 29,
   "metadata": {
    "colab": {
     "base_uri": "https://localhost:8080/"
    },
    "id": "jFN9qRLeE-zc",
    "outputId": "f5cfb4dc-6d7b-46c2-a9ac-31a7ae5622c9"
   },
   "outputs": [
    {
     "data": {
      "text/plain": [
       "Information Technology                570\n",
       "Business Services                     523\n",
       "Finance                               169\n",
       "Health Care                           151\n",
       "Education                              52\n",
       "Insurance                              51\n",
       "Accounting & Legal                     43\n",
       "Media                                  42\n",
       "Manufacturing                          40\n",
       "Retail                                 38\n",
       "Government                             36\n",
       "Biotech & Pharmaceuticals              33\n",
       "Non-Profit                             26\n",
       "Aerospace & Defense                    22\n",
       "Transportation & Logistics             20\n",
       "Construction, Repair & Maintenance     16\n",
       "Consumer Services                      14\n",
       "Oil, Gas, Energy & Utilities           13\n",
       "Real Estate                            12\n",
       "Telecommunications                     11\n",
       "Restaurants, Bars & Food Services       8\n",
       "Arts, Entertainment & Recreation        7\n",
       "Mining & Metals                         1\n",
       "Travel & Tourism                        1\n",
       "Name: Sector, dtype: int64"
      ]
     },
     "execution_count": 29,
     "metadata": {},
     "output_type": "execute_result"
    }
   ],
   "source": [
    "df['Sector'].value_counts()"
   ]
  },
  {
   "cell_type": "code",
   "execution_count": 30,
   "metadata": {
    "colab": {
     "base_uri": "https://localhost:8080/"
    },
    "id": "j5WSjta2FB4n",
    "outputId": "796fd13e-f7e4-4717-f429-02eaa1c9acb8"
   },
   "outputs": [
    {
     "data": {
      "text/plain": [
       "Adecco, Manpower                                                   14\n",
       "Robert Half, Insight Global                                        14\n",
       "Artech Information Systems, Mindlance, Tech Mahindra               10\n",
       "Google, Microsoft, Samsung Electronics                             10\n",
       "TEKsystems, Insight Global, Accenture                              10\n",
       "                                                                   ..\n",
       "Transnational Foods, One Source Distributors                        1\n",
       "GE                                                                  1\n",
       "Fiserv, First Data, Jack Henry & Associates                         1\n",
       "Booz Allen Hamilton, Abt Associates, Oliver Wyman                   1\n",
       "Centura Health, HealthONE, Denver Health and Hospital Authority     1\n",
       "Name: Competitors, Length: 290, dtype: int64"
      ]
     },
     "execution_count": 30,
     "metadata": {},
     "output_type": "execute_result"
    }
   ],
   "source": [
    "df['Competitors'].value_counts()"
   ]
  },
  {
   "cell_type": "code",
   "execution_count": 31,
   "metadata": {
    "colab": {
     "base_uri": "https://localhost:8080/"
    },
    "id": "8fMZmU_rLv8T",
    "outputId": "beac0fcf-a202-4981-eb01-0f8df8fee6de"
   },
   "outputs": [
    {
     "data": {
      "text/plain": [
       "Job Title               0\n",
       "Salary Estimate         0\n",
       "Job Description         0\n",
       "Rating                  0\n",
       "Company Name            0\n",
       "Location                0\n",
       "Headquarters            0\n",
       "Size                    0\n",
       "Founded                 0\n",
       "Type of ownership       0\n",
       "Industry              352\n",
       "Sector                352\n",
       "Revenue               162\n",
       "Competitors          1730\n",
       "Easy Apply              0\n",
       "dtype: int64"
      ]
     },
     "execution_count": 31,
     "metadata": {},
     "output_type": "execute_result"
    }
   ],
   "source": [
    "df.isna().sum()"
   ]
  },
  {
   "cell_type": "code",
   "execution_count": 32,
   "metadata": {
    "id": "l1qhRRe-FYnO"
   },
   "outputs": [],
   "source": [
    "columns= ['Industry','Sector','Revenue','Competitors']\n",
    "for column in columns:\n",
    "  df[column].fillna('not mentioned',inplace= True)"
   ]
  },
  {
   "cell_type": "code",
   "execution_count": 33,
   "metadata": {
    "colab": {
     "base_uri": "https://localhost:8080/"
    },
    "id": "kzob5JN1FYqq",
    "outputId": "d0c71492-b2e8-428c-e04c-8010f7cc7047"
   },
   "outputs": [
    {
     "data": {
      "text/plain": [
       "Job Title            0\n",
       "Salary Estimate      0\n",
       "Job Description      0\n",
       "Rating               0\n",
       "Company Name         0\n",
       "Location             0\n",
       "Headquarters         0\n",
       "Size                 0\n",
       "Founded              0\n",
       "Type of ownership    0\n",
       "Industry             0\n",
       "Sector               0\n",
       "Revenue              0\n",
       "Competitors          0\n",
       "Easy Apply           0\n",
       "dtype: int64"
      ]
     },
     "execution_count": 33,
     "metadata": {},
     "output_type": "execute_result"
    }
   ],
   "source": [
    "df.isna().sum()"
   ]
  },
  {
   "cell_type": "code",
   "execution_count": 34,
   "metadata": {
    "id": "18xC2wALSXOo"
   },
   "outputs": [],
   "source": [
    "job_title=pd.DataFrame(df.groupby('Job Title')['Job Title'].count().sort_values(ascending=False).head(30))"
   ]
  },
  {
   "cell_type": "code",
   "execution_count": 35,
   "metadata": {
    "colab": {
     "base_uri": "https://localhost:8080/",
     "height": 542
    },
    "id": "yrYDmxP5Sbj_",
    "outputId": "263af028-31d7-406f-cd33-01f0be1247ff"
   },
   "outputs": [
    {
     "data": {
      "text/html": [
       "<html>\n",
       "<head><meta charset=\"utf-8\" /></head>\n",
       "<body>\n",
       "    <div>            <script src=\"https://cdnjs.cloudflare.com/ajax/libs/mathjax/2.7.5/MathJax.js?config=TeX-AMS-MML_SVG\"></script><script type=\"text/javascript\">if (window.MathJax) {MathJax.Hub.Config({SVG: {font: \"STIX-Web\"}});}</script>                <script type=\"text/javascript\">window.PlotlyConfig = {MathJaxConfig: 'local'};</script>\n",
       "        <script src=\"https://cdn.plot.ly/plotly-2.8.3.min.js\"></script>                <div id=\"db82eceb-ad9c-4264-b09d-c08d35541a8a\" class=\"plotly-graph-div\" style=\"height:525px; width:100%;\"></div>            <script type=\"text/javascript\">                                    window.PLOTLYENV=window.PLOTLYENV || {};                                    if (document.getElementById(\"db82eceb-ad9c-4264-b09d-c08d35541a8a\")) {                    Plotly.newPlot(                        \"db82eceb-ad9c-4264-b09d-c08d35541a8a\",                        [{\"alignmentgroup\":\"True\",\"hovertemplate\":\"index=%{x}<br>Job Title=%{y}<extra></extra>\",\"legendgroup\":\"\",\"marker\":{\"color\":\"#636efa\",\"pattern\":{\"shape\":\"\"}},\"name\":\"\",\"offsetgroup\":\"\",\"orientation\":\"v\",\"showlegend\":false,\"textposition\":\"auto\",\"x\":[\"Data Analyst\",\"Senior Data Analyst\",\"Junior Data Analyst\",\"Business Data Analyst\",\"Sr. Data Analyst\",\"Data Analyst II\",\"Data Analyst Junior\",\"Data Quality Analyst\",\"Data Governance Analyst\",\"Lead Data Analyst\",\"Data Reporting Analyst\",\"Financial Data Analyst\",\"Data Analyst I\",\"Data Analyst III\",\"Sr Data Analyst\",\"Marketing Data Analyst\",\"Data Management Analyst\",\"Data Warehouse Analyst\",\"Technical Data Analyst\",\"SQL Data Analyst\",\"Data Science Analyst\",\"Data Security Analyst\",\"Healthcare Data Analyst\",\"Research Data Analyst\",\"Clinical Data Analyst\",\"NY Healthcare Data/Reporting Analyst\",\"Product Data Analyst\",\"Senior Healthcare Data Analyst\",\"Data Analyst III (Healthcare Analytics)\",\"Senior Contract Data Analyst\"],\"xaxis\":\"x\",\"y\":[404,90,30,28,21,17,17,17,16,15,13,12,11,11,9,9,8,8,7,7,7,6,6,6,6,5,5,5,5,4],\"yaxis\":\"y\",\"type\":\"bar\"}],                        {\"template\":{\"data\":{\"bar\":[{\"error_x\":{\"color\":\"#2a3f5f\"},\"error_y\":{\"color\":\"#2a3f5f\"},\"marker\":{\"line\":{\"color\":\"#E5ECF6\",\"width\":0.5},\"pattern\":{\"fillmode\":\"overlay\",\"size\":10,\"solidity\":0.2}},\"type\":\"bar\"}],\"barpolar\":[{\"marker\":{\"line\":{\"color\":\"#E5ECF6\",\"width\":0.5},\"pattern\":{\"fillmode\":\"overlay\",\"size\":10,\"solidity\":0.2}},\"type\":\"barpolar\"}],\"carpet\":[{\"aaxis\":{\"endlinecolor\":\"#2a3f5f\",\"gridcolor\":\"white\",\"linecolor\":\"white\",\"minorgridcolor\":\"white\",\"startlinecolor\":\"#2a3f5f\"},\"baxis\":{\"endlinecolor\":\"#2a3f5f\",\"gridcolor\":\"white\",\"linecolor\":\"white\",\"minorgridcolor\":\"white\",\"startlinecolor\":\"#2a3f5f\"},\"type\":\"carpet\"}],\"choropleth\":[{\"colorbar\":{\"outlinewidth\":0,\"ticks\":\"\"},\"type\":\"choropleth\"}],\"contour\":[{\"colorbar\":{\"outlinewidth\":0,\"ticks\":\"\"},\"colorscale\":[[0.0,\"#0d0887\"],[0.1111111111111111,\"#46039f\"],[0.2222222222222222,\"#7201a8\"],[0.3333333333333333,\"#9c179e\"],[0.4444444444444444,\"#bd3786\"],[0.5555555555555556,\"#d8576b\"],[0.6666666666666666,\"#ed7953\"],[0.7777777777777778,\"#fb9f3a\"],[0.8888888888888888,\"#fdca26\"],[1.0,\"#f0f921\"]],\"type\":\"contour\"}],\"contourcarpet\":[{\"colorbar\":{\"outlinewidth\":0,\"ticks\":\"\"},\"type\":\"contourcarpet\"}],\"heatmap\":[{\"colorbar\":{\"outlinewidth\":0,\"ticks\":\"\"},\"colorscale\":[[0.0,\"#0d0887\"],[0.1111111111111111,\"#46039f\"],[0.2222222222222222,\"#7201a8\"],[0.3333333333333333,\"#9c179e\"],[0.4444444444444444,\"#bd3786\"],[0.5555555555555556,\"#d8576b\"],[0.6666666666666666,\"#ed7953\"],[0.7777777777777778,\"#fb9f3a\"],[0.8888888888888888,\"#fdca26\"],[1.0,\"#f0f921\"]],\"type\":\"heatmap\"}],\"heatmapgl\":[{\"colorbar\":{\"outlinewidth\":0,\"ticks\":\"\"},\"colorscale\":[[0.0,\"#0d0887\"],[0.1111111111111111,\"#46039f\"],[0.2222222222222222,\"#7201a8\"],[0.3333333333333333,\"#9c179e\"],[0.4444444444444444,\"#bd3786\"],[0.5555555555555556,\"#d8576b\"],[0.6666666666666666,\"#ed7953\"],[0.7777777777777778,\"#fb9f3a\"],[0.8888888888888888,\"#fdca26\"],[1.0,\"#f0f921\"]],\"type\":\"heatmapgl\"}],\"histogram\":[{\"marker\":{\"pattern\":{\"fillmode\":\"overlay\",\"size\":10,\"solidity\":0.2}},\"type\":\"histogram\"}],\"histogram2d\":[{\"colorbar\":{\"outlinewidth\":0,\"ticks\":\"\"},\"colorscale\":[[0.0,\"#0d0887\"],[0.1111111111111111,\"#46039f\"],[0.2222222222222222,\"#7201a8\"],[0.3333333333333333,\"#9c179e\"],[0.4444444444444444,\"#bd3786\"],[0.5555555555555556,\"#d8576b\"],[0.6666666666666666,\"#ed7953\"],[0.7777777777777778,\"#fb9f3a\"],[0.8888888888888888,\"#fdca26\"],[1.0,\"#f0f921\"]],\"type\":\"histogram2d\"}],\"histogram2dcontour\":[{\"colorbar\":{\"outlinewidth\":0,\"ticks\":\"\"},\"colorscale\":[[0.0,\"#0d0887\"],[0.1111111111111111,\"#46039f\"],[0.2222222222222222,\"#7201a8\"],[0.3333333333333333,\"#9c179e\"],[0.4444444444444444,\"#bd3786\"],[0.5555555555555556,\"#d8576b\"],[0.6666666666666666,\"#ed7953\"],[0.7777777777777778,\"#fb9f3a\"],[0.8888888888888888,\"#fdca26\"],[1.0,\"#f0f921\"]],\"type\":\"histogram2dcontour\"}],\"mesh3d\":[{\"colorbar\":{\"outlinewidth\":0,\"ticks\":\"\"},\"type\":\"mesh3d\"}],\"parcoords\":[{\"line\":{\"colorbar\":{\"outlinewidth\":0,\"ticks\":\"\"}},\"type\":\"parcoords\"}],\"pie\":[{\"automargin\":true,\"type\":\"pie\"}],\"scatter\":[{\"marker\":{\"colorbar\":{\"outlinewidth\":0,\"ticks\":\"\"}},\"type\":\"scatter\"}],\"scatter3d\":[{\"line\":{\"colorbar\":{\"outlinewidth\":0,\"ticks\":\"\"}},\"marker\":{\"colorbar\":{\"outlinewidth\":0,\"ticks\":\"\"}},\"type\":\"scatter3d\"}],\"scattercarpet\":[{\"marker\":{\"colorbar\":{\"outlinewidth\":0,\"ticks\":\"\"}},\"type\":\"scattercarpet\"}],\"scattergeo\":[{\"marker\":{\"colorbar\":{\"outlinewidth\":0,\"ticks\":\"\"}},\"type\":\"scattergeo\"}],\"scattergl\":[{\"marker\":{\"colorbar\":{\"outlinewidth\":0,\"ticks\":\"\"}},\"type\":\"scattergl\"}],\"scattermapbox\":[{\"marker\":{\"colorbar\":{\"outlinewidth\":0,\"ticks\":\"\"}},\"type\":\"scattermapbox\"}],\"scatterpolar\":[{\"marker\":{\"colorbar\":{\"outlinewidth\":0,\"ticks\":\"\"}},\"type\":\"scatterpolar\"}],\"scatterpolargl\":[{\"marker\":{\"colorbar\":{\"outlinewidth\":0,\"ticks\":\"\"}},\"type\":\"scatterpolargl\"}],\"scatterternary\":[{\"marker\":{\"colorbar\":{\"outlinewidth\":0,\"ticks\":\"\"}},\"type\":\"scatterternary\"}],\"surface\":[{\"colorbar\":{\"outlinewidth\":0,\"ticks\":\"\"},\"colorscale\":[[0.0,\"#0d0887\"],[0.1111111111111111,\"#46039f\"],[0.2222222222222222,\"#7201a8\"],[0.3333333333333333,\"#9c179e\"],[0.4444444444444444,\"#bd3786\"],[0.5555555555555556,\"#d8576b\"],[0.6666666666666666,\"#ed7953\"],[0.7777777777777778,\"#fb9f3a\"],[0.8888888888888888,\"#fdca26\"],[1.0,\"#f0f921\"]],\"type\":\"surface\"}],\"table\":[{\"cells\":{\"fill\":{\"color\":\"#EBF0F8\"},\"line\":{\"color\":\"white\"}},\"header\":{\"fill\":{\"color\":\"#C8D4E3\"},\"line\":{\"color\":\"white\"}},\"type\":\"table\"}]},\"layout\":{\"annotationdefaults\":{\"arrowcolor\":\"#2a3f5f\",\"arrowhead\":0,\"arrowwidth\":1},\"autotypenumbers\":\"strict\",\"coloraxis\":{\"colorbar\":{\"outlinewidth\":0,\"ticks\":\"\"}},\"colorscale\":{\"diverging\":[[0,\"#8e0152\"],[0.1,\"#c51b7d\"],[0.2,\"#de77ae\"],[0.3,\"#f1b6da\"],[0.4,\"#fde0ef\"],[0.5,\"#f7f7f7\"],[0.6,\"#e6f5d0\"],[0.7,\"#b8e186\"],[0.8,\"#7fbc41\"],[0.9,\"#4d9221\"],[1,\"#276419\"]],\"sequential\":[[0.0,\"#0d0887\"],[0.1111111111111111,\"#46039f\"],[0.2222222222222222,\"#7201a8\"],[0.3333333333333333,\"#9c179e\"],[0.4444444444444444,\"#bd3786\"],[0.5555555555555556,\"#d8576b\"],[0.6666666666666666,\"#ed7953\"],[0.7777777777777778,\"#fb9f3a\"],[0.8888888888888888,\"#fdca26\"],[1.0,\"#f0f921\"]],\"sequentialminus\":[[0.0,\"#0d0887\"],[0.1111111111111111,\"#46039f\"],[0.2222222222222222,\"#7201a8\"],[0.3333333333333333,\"#9c179e\"],[0.4444444444444444,\"#bd3786\"],[0.5555555555555556,\"#d8576b\"],[0.6666666666666666,\"#ed7953\"],[0.7777777777777778,\"#fb9f3a\"],[0.8888888888888888,\"#fdca26\"],[1.0,\"#f0f921\"]]},\"colorway\":[\"#636efa\",\"#EF553B\",\"#00cc96\",\"#ab63fa\",\"#FFA15A\",\"#19d3f3\",\"#FF6692\",\"#B6E880\",\"#FF97FF\",\"#FECB52\"],\"font\":{\"color\":\"#2a3f5f\"},\"geo\":{\"bgcolor\":\"white\",\"lakecolor\":\"white\",\"landcolor\":\"#E5ECF6\",\"showlakes\":true,\"showland\":true,\"subunitcolor\":\"white\"},\"hoverlabel\":{\"align\":\"left\"},\"hovermode\":\"closest\",\"mapbox\":{\"style\":\"light\"},\"paper_bgcolor\":\"white\",\"plot_bgcolor\":\"#E5ECF6\",\"polar\":{\"angularaxis\":{\"gridcolor\":\"white\",\"linecolor\":\"white\",\"ticks\":\"\"},\"bgcolor\":\"#E5ECF6\",\"radialaxis\":{\"gridcolor\":\"white\",\"linecolor\":\"white\",\"ticks\":\"\"}},\"scene\":{\"xaxis\":{\"backgroundcolor\":\"#E5ECF6\",\"gridcolor\":\"white\",\"gridwidth\":2,\"linecolor\":\"white\",\"showbackground\":true,\"ticks\":\"\",\"zerolinecolor\":\"white\"},\"yaxis\":{\"backgroundcolor\":\"#E5ECF6\",\"gridcolor\":\"white\",\"gridwidth\":2,\"linecolor\":\"white\",\"showbackground\":true,\"ticks\":\"\",\"zerolinecolor\":\"white\"},\"zaxis\":{\"backgroundcolor\":\"#E5ECF6\",\"gridcolor\":\"white\",\"gridwidth\":2,\"linecolor\":\"white\",\"showbackground\":true,\"ticks\":\"\",\"zerolinecolor\":\"white\"}},\"shapedefaults\":{\"line\":{\"color\":\"#2a3f5f\"}},\"ternary\":{\"aaxis\":{\"gridcolor\":\"white\",\"linecolor\":\"white\",\"ticks\":\"\"},\"baxis\":{\"gridcolor\":\"white\",\"linecolor\":\"white\",\"ticks\":\"\"},\"bgcolor\":\"#E5ECF6\",\"caxis\":{\"gridcolor\":\"white\",\"linecolor\":\"white\",\"ticks\":\"\"}},\"title\":{\"x\":0.05},\"xaxis\":{\"automargin\":true,\"gridcolor\":\"white\",\"linecolor\":\"white\",\"ticks\":\"\",\"title\":{\"standoff\":15},\"zerolinecolor\":\"white\",\"zerolinewidth\":2},\"yaxis\":{\"automargin\":true,\"gridcolor\":\"white\",\"linecolor\":\"white\",\"ticks\":\"\",\"title\":{\"standoff\":15},\"zerolinecolor\":\"white\",\"zerolinewidth\":2}}},\"xaxis\":{\"anchor\":\"y\",\"domain\":[0.0,1.0],\"title\":{\"text\":\"index\"}},\"yaxis\":{\"anchor\":\"x\",\"domain\":[0.0,1.0],\"title\":{\"text\":\"Job Title\"}},\"legend\":{\"tracegroupgap\":0},\"margin\":{\"t\":60},\"barmode\":\"relative\"},                        {\"responsive\": true}                    ).then(function(){\n",
       "                            \n",
       "var gd = document.getElementById('db82eceb-ad9c-4264-b09d-c08d35541a8a');\n",
       "var x = new MutationObserver(function (mutations, observer) {{\n",
       "        var display = window.getComputedStyle(gd).display;\n",
       "        if (!display || display === 'none') {{\n",
       "            console.log([gd, 'removed!']);\n",
       "            Plotly.purge(gd);\n",
       "            observer.disconnect();\n",
       "        }}\n",
       "}});\n",
       "\n",
       "// Listen for the removal of the full notebook cells\n",
       "var notebookContainer = gd.closest('#notebook-container');\n",
       "if (notebookContainer) {{\n",
       "    x.observe(notebookContainer, {childList: true});\n",
       "}}\n",
       "\n",
       "// Listen for the clearing of the current output cell\n",
       "var outputEl = gd.closest('.output');\n",
       "if (outputEl) {{\n",
       "    x.observe(outputEl, {childList: true});\n",
       "}}\n",
       "\n",
       "                        })                };                            </script>        </div>\n",
       "</body>\n",
       "</html>"
      ]
     },
     "metadata": {},
     "output_type": "display_data"
    }
   ],
   "source": [
    "px.bar(job_title,x=job_title.index , y='Job Title')"
   ]
  },
  {
   "cell_type": "markdown",
   "metadata": {
    "id": "bHg6Z80jK8Hc"
   },
   "source": [
    "as we above there is many same job title with different names so we need to fix that"
   ]
  },
  {
   "cell_type": "code",
   "execution_count": 36,
   "metadata": {
    "colab": {
     "base_uri": "https://localhost:8080/"
    },
    "id": "zYmAMIVRK7iJ",
    "outputId": "d6290f29-7f24-4636-a15c-189fa124e60d"
   },
   "outputs": [
    {
     "name": "stderr",
     "output_type": "stream",
     "text": [
      "/usr/local/lib/python3.7/dist-packages/ipykernel_launcher.py:1: FutureWarning:\n",
      "\n",
      "The default value of regex will change from True to False in a future version.\n",
      "\n"
     ]
    }
   ],
   "source": [
    "df[\"Job Title\"] = df[\"Job Title\"].str.replace(\"Sr. Data Analyst\", \"Senior Data Analyst\").str.replace(\"Sr Data Analyst\", \"Senior Data Analyst\")\\\n",
    ".str.replace(\"Data Analyst Senior\", \"Senior Data Analyst\").str.replace('Jr. Data Analyst','Junior Data Analyst')\\\n",
    ".str.replace('Jr Data Analyst','Junior Data Analyst').str.replace('Data Analyst Junior','Junior Data Analyst')\n"
   ]
  },
  {
   "cell_type": "code",
   "execution_count": 37,
   "metadata": {
    "colab": {
     "base_uri": "https://localhost:8080/"
    },
    "id": "kCGNEjqETFpe",
    "outputId": "499e0f75-8b7e-4075-c576-8c576905c0ca"
   },
   "outputs": [
    {
     "data": {
      "text/plain": [
       "Data Analyst                               404\n",
       "Senior Data Analyst                        121\n",
       "Junior Data Analyst                         50\n",
       "Business Data Analyst                       28\n",
       "Data Analyst II                             17\n",
       "Data Quality Analyst                        17\n",
       "Data Governance Analyst                     16\n",
       "Lead Data Analyst                           15\n",
       "Data Reporting Analyst                      13\n",
       "Financial Data Analyst                      12\n",
       "Data Analyst I                              11\n",
       "Data Analyst III                            11\n",
       "Marketing Data Analyst                       9\n",
       "Data Management Analyst                      8\n",
       "Data Warehouse Analyst                       8\n",
       "SQL Data Analyst                             7\n",
       "Data Science Analyst                         7\n",
       "Technical Data Analyst                       7\n",
       "Healthcare Data Analyst                      6\n",
       "Research Data Analyst                        6\n",
       "Data Security Analyst                        6\n",
       "Clinical Data Analyst                        6\n",
       "NY Healthcare Data/Reporting Analyst         5\n",
       "Data Analyst III (Healthcare Analytics)      5\n",
       "Product Data Analyst                         5\n",
       "Senior Healthcare Data Analyst               5\n",
       "Senior Data Quality Analyst                  4\n",
       "Master Data Analyst                          4\n",
       "Operations Data Analyst                      4\n",
       "Data Analyst Intern                          4\n",
       "Name: Job Title, dtype: int64"
      ]
     },
     "execution_count": 37,
     "metadata": {},
     "output_type": "execute_result"
    }
   ],
   "source": [
    "df[\"Job Title\"].value_counts().head(30)"
   ]
  },
  {
   "cell_type": "code",
   "execution_count": 38,
   "metadata": {
    "colab": {
     "base_uri": "https://localhost:8080/",
     "height": 542
    },
    "id": "ARgSvwu3FB72",
    "outputId": "924055aa-7626-46b6-ba6f-b5bc8ea0ed8e"
   },
   "outputs": [
    {
     "data": {
      "text/html": [
       "<html>\n",
       "<head><meta charset=\"utf-8\" /></head>\n",
       "<body>\n",
       "    <div>            <script src=\"https://cdnjs.cloudflare.com/ajax/libs/mathjax/2.7.5/MathJax.js?config=TeX-AMS-MML_SVG\"></script><script type=\"text/javascript\">if (window.MathJax) {MathJax.Hub.Config({SVG: {font: \"STIX-Web\"}});}</script>                <script type=\"text/javascript\">window.PlotlyConfig = {MathJaxConfig: 'local'};</script>\n",
       "        <script src=\"https://cdn.plot.ly/plotly-2.8.3.min.js\"></script>                <div id=\"235a45e3-ff0e-49e1-800b-c3668245b31d\" class=\"plotly-graph-div\" style=\"height:525px; width:100%;\"></div>            <script type=\"text/javascript\">                                    window.PLOTLYENV=window.PLOTLYENV || {};                                    if (document.getElementById(\"235a45e3-ff0e-49e1-800b-c3668245b31d\")) {                    Plotly.newPlot(                        \"235a45e3-ff0e-49e1-800b-c3668245b31d\",                        [{\"alignmentgroup\":\"True\",\"bingroup\":\"x\",\"hovertemplate\":\"variable=Salary Estimate<br>value=%{x}<br>count=%{y}<extra></extra>\",\"legendgroup\":\"Salary Estimate\",\"marker\":{\"color\":\"#636efa\",\"pattern\":{\"shape\":\"\"}},\"name\":\"Salary Estimate\",\"offsetgroup\":\"Salary Estimate\",\"orientation\":\"v\",\"showlegend\":true,\"x\":[\"$37K-$66K (Glassdoor est.)\",\"$37K-$66K (Glassdoor est.)\",\"$37K-$66K (Glassdoor est.)\",\"$37K-$66K (Glassdoor est.)\",\"$37K-$66K (Glassdoor est.)\",\"$37K-$66K (Glassdoor est.)\",\"$37K-$66K (Glassdoor est.)\",\"$37K-$66K (Glassdoor est.)\",\"$37K-$66K (Glassdoor est.)\",\"$37K-$66K (Glassdoor est.)\",\"$37K-$66K (Glassdoor est.)\",\"$37K-$66K (Glassdoor est.)\",\"$37K-$66K (Glassdoor est.)\",\"$37K-$66K (Glassdoor est.)\",\"$37K-$66K (Glassdoor est.)\",\"$37K-$66K (Glassdoor est.)\",\"$37K-$66K (Glassdoor est.)\",\"$37K-$66K (Glassdoor est.)\",\"$37K-$66K (Glassdoor est.)\",\"$37K-$66K (Glassdoor est.)\",\"$37K-$66K (Glassdoor est.)\",\"$37K-$66K (Glassdoor est.)\",\"$37K-$66K (Glassdoor est.)\",\"$37K-$66K (Glassdoor est.)\",\"$37K-$66K (Glassdoor est.)\",\"$37K-$66K (Glassdoor est.)\",\"$37K-$66K (Glassdoor est.)\",\"$37K-$66K (Glassdoor est.)\",\"$37K-$66K (Glassdoor est.)\",\"$37K-$66K (Glassdoor est.)\",\"$46K-$87K (Glassdoor est.)\",\"$46K-$87K (Glassdoor est.)\",\"$46K-$87K (Glassdoor est.)\",\"$46K-$87K (Glassdoor est.)\",\"$46K-$87K (Glassdoor est.)\",\"$46K-$87K (Glassdoor est.)\",\"$46K-$87K (Glassdoor est.)\",\"$46K-$87K (Glassdoor est.)\",\"$46K-$87K (Glassdoor est.)\",\"$46K-$87K (Glassdoor est.)\",\"$46K-$87K (Glassdoor est.)\",\"$46K-$87K (Glassdoor est.)\",\"$46K-$87K (Glassdoor est.)\",\"$46K-$87K (Glassdoor est.)\",\"$46K-$87K (Glassdoor est.)\",\"$46K-$87K (Glassdoor est.)\",\"$46K-$87K (Glassdoor est.)\",\"$46K-$87K (Glassdoor est.)\",\"$46K-$87K (Glassdoor est.)\",\"$46K-$87K (Glassdoor est.)\",\"$46K-$87K (Glassdoor est.)\",\"$46K-$87K (Glassdoor est.)\",\"$46K-$87K (Glassdoor est.)\",\"$46K-$87K (Glassdoor est.)\",\"$46K-$87K (Glassdoor est.)\",\"$46K-$87K (Glassdoor est.)\",\"$46K-$87K (Glassdoor est.)\",\"$46K-$87K (Glassdoor est.)\",\"$46K-$87K (Glassdoor est.)\",\"$46K-$87K (Glassdoor est.)\",\"$51K-$88K (Glassdoor est.)\",\"$51K-$88K (Glassdoor est.)\",\"$51K-$88K (Glassdoor est.)\",\"$51K-$88K (Glassdoor est.)\",\"$51K-$88K (Glassdoor est.)\",\"$51K-$88K (Glassdoor est.)\",\"$51K-$88K (Glassdoor est.)\",\"$51K-$88K (Glassdoor est.)\",\"$51K-$88K (Glassdoor est.)\",\"$51K-$88K (Glassdoor est.)\",\"$51K-$88K (Glassdoor est.)\",\"$51K-$88K (Glassdoor est.)\",\"$51K-$88K (Glassdoor est.)\",\"$51K-$88K (Glassdoor est.)\",\"$51K-$88K (Glassdoor est.)\",\"$51K-$88K (Glassdoor est.)\",\"$51K-$88K (Glassdoor est.)\",\"$51K-$88K (Glassdoor est.)\",\"$51K-$88K (Glassdoor est.)\",\"$51K-$88K (Glassdoor est.)\",\"$51K-$88K (Glassdoor est.)\",\"$51K-$88K (Glassdoor est.)\",\"$51K-$88K (Glassdoor est.)\",\"$51K-$88K (Glassdoor est.)\",\"$51K-$88K (Glassdoor est.)\",\"$51K-$88K (Glassdoor est.)\",\"$51K-$88K (Glassdoor est.)\",\"$51K-$88K (Glassdoor est.)\",\"$51K-$88K (Glassdoor est.)\",\"$51K-$88K (Glassdoor est.)\",\"$51K-$87K (Glassdoor est.)\",\"$51K-$87K (Glassdoor est.)\",\"$51K-$87K (Glassdoor est.)\",\"$51K-$87K (Glassdoor est.)\",\"$51K-$87K (Glassdoor est.)\",\"$51K-$87K (Glassdoor est.)\",\"$51K-$87K (Glassdoor est.)\",\"$51K-$87K (Glassdoor est.)\",\"$51K-$87K (Glassdoor est.)\",\"$51K-$87K (Glassdoor est.)\",\"$51K-$87K (Glassdoor est.)\",\"$51K-$87K (Glassdoor est.)\",\"$51K-$87K (Glassdoor est.)\",\"$51K-$87K (Glassdoor est.)\",\"$51K-$87K (Glassdoor est.)\",\"$51K-$87K (Glassdoor est.)\",\"$51K-$87K (Glassdoor est.)\",\"$51K-$87K (Glassdoor est.)\",\"$51K-$87K (Glassdoor est.)\",\"$51K-$87K (Glassdoor est.)\",\"$51K-$87K (Glassdoor est.)\",\"$51K-$87K (Glassdoor est.)\",\"$51K-$87K (Glassdoor est.)\",\"$51K-$87K (Glassdoor est.)\",\"$51K-$87K (Glassdoor est.)\",\"$51K-$87K (Glassdoor est.)\",\"$51K-$87K (Glassdoor est.)\",\"$51K-$87K (Glassdoor est.)\",\"$51K-$87K (Glassdoor est.)\",\"$51K-$87K (Glassdoor est.)\",\"$59K-$85K (Glassdoor est.)\",\"$59K-$85K (Glassdoor est.)\",\"$59K-$85K (Glassdoor est.)\",\"$59K-$85K (Glassdoor est.)\",\"$59K-$85K (Glassdoor est.)\",\"$59K-$85K (Glassdoor est.)\",\"$59K-$85K (Glassdoor est.)\",\"$59K-$85K (Glassdoor est.)\",\"$59K-$85K (Glassdoor est.)\",\"$59K-$85K (Glassdoor est.)\",\"$59K-$85K (Glassdoor est.)\",\"$59K-$85K (Glassdoor est.)\",\"$59K-$85K (Glassdoor est.)\",\"$59K-$85K (Glassdoor est.)\",\"$59K-$85K (Glassdoor est.)\",\"$59K-$85K (Glassdoor est.)\",\"$59K-$85K (Glassdoor est.)\",\"$59K-$85K (Glassdoor est.)\",\"$59K-$85K (Glassdoor est.)\",\"$59K-$85K (Glassdoor est.)\",\"$59K-$85K (Glassdoor est.)\",\"$59K-$85K (Glassdoor est.)\",\"$59K-$85K (Glassdoor est.)\",\"$59K-$85K (Glassdoor est.)\",\"$59K-$85K (Glassdoor est.)\",\"$59K-$85K (Glassdoor est.)\",\"$59K-$85K (Glassdoor est.)\",\"$59K-$85K (Glassdoor est.)\",\"$59K-$85K (Glassdoor est.)\",\"$59K-$85K (Glassdoor est.)\",\"$43K-$76K (Glassdoor est.)\",\"$43K-$76K (Glassdoor est.)\",\"$43K-$76K (Glassdoor est.)\",\"$43K-$76K (Glassdoor est.)\",\"$43K-$76K (Glassdoor est.)\",\"$43K-$76K (Glassdoor est.)\",\"$43K-$76K (Glassdoor est.)\",\"$43K-$76K (Glassdoor est.)\",\"$43K-$76K (Glassdoor est.)\",\"$43K-$76K (Glassdoor est.)\",\"$43K-$76K (Glassdoor est.)\",\"$43K-$76K (Glassdoor est.)\",\"$43K-$76K (Glassdoor est.)\",\"$43K-$76K (Glassdoor est.)\",\"$43K-$76K (Glassdoor est.)\",\"$43K-$76K (Glassdoor est.)\",\"$43K-$76K (Glassdoor est.)\",\"$43K-$76K (Glassdoor est.)\",\"$43K-$76K (Glassdoor est.)\",\"$43K-$76K (Glassdoor est.)\",\"$43K-$76K (Glassdoor est.)\",\"$43K-$76K (Glassdoor est.)\",\"$43K-$76K (Glassdoor est.)\",\"$43K-$76K (Glassdoor est.)\",\"$43K-$76K (Glassdoor est.)\",\"$43K-$76K (Glassdoor est.)\",\"$43K-$76K (Glassdoor est.)\",\"$43K-$76K (Glassdoor est.)\",\"$43K-$76K (Glassdoor est.)\",\"$43K-$76K (Glassdoor est.)\",\"$43K-$76K (Glassdoor est.)\",\"$60K-$110K (Glassdoor est.)\",\"$60K-$110K (Glassdoor est.)\",\"$60K-$110K (Glassdoor est.)\",\"$60K-$110K (Glassdoor est.)\",\"$60K-$110K (Glassdoor est.)\",\"$60K-$110K (Glassdoor est.)\",\"$60K-$110K (Glassdoor est.)\",\"$60K-$110K (Glassdoor est.)\",\"$60K-$110K (Glassdoor est.)\",\"$60K-$110K (Glassdoor est.)\",\"$60K-$110K (Glassdoor est.)\",\"$60K-$110K (Glassdoor est.)\",\"$60K-$110K (Glassdoor est.)\",\"$60K-$110K (Glassdoor est.)\",\"$60K-$110K (Glassdoor est.)\",\"$60K-$110K (Glassdoor est.)\",\"$60K-$110K (Glassdoor est.)\",\"$60K-$110K (Glassdoor est.)\",\"$60K-$110K (Glassdoor est.)\",\"$60K-$110K (Glassdoor est.)\",\"$60K-$110K (Glassdoor est.)\",\"$60K-$110K (Glassdoor est.)\",\"$60K-$110K (Glassdoor est.)\",\"$60K-$110K (Glassdoor est.)\",\"$60K-$110K (Glassdoor est.)\",\"$60K-$110K (Glassdoor est.)\",\"$60K-$110K (Glassdoor est.)\",\"$60K-$110K (Glassdoor est.)\",\"$60K-$110K (Glassdoor est.)\",\"$60K-$110K (Glassdoor est.)\",\"$41K-$78K (Glassdoor est.)\",\"$41K-$78K (Glassdoor est.)\",\"$41K-$78K (Glassdoor est.)\",\"$41K-$78K (Glassdoor est.)\",\"$41K-$78K (Glassdoor est.)\",\"$41K-$78K (Glassdoor est.)\",\"$41K-$78K (Glassdoor est.)\",\"$41K-$78K (Glassdoor est.)\",\"$41K-$78K (Glassdoor est.)\",\"$41K-$78K (Glassdoor est.)\",\"$41K-$78K (Glassdoor est.)\",\"$41K-$78K (Glassdoor est.)\",\"$41K-$78K (Glassdoor est.)\",\"$41K-$78K (Glassdoor est.)\",\"$41K-$78K (Glassdoor est.)\",\"$41K-$78K (Glassdoor est.)\",\"$41K-$78K (Glassdoor est.)\",\"$41K-$78K (Glassdoor est.)\",\"$41K-$78K (Glassdoor est.)\",\"$41K-$78K (Glassdoor est.)\",\"$41K-$78K (Glassdoor est.)\",\"$41K-$78K (Glassdoor est.)\",\"$41K-$78K (Glassdoor est.)\",\"$41K-$78K (Glassdoor est.)\",\"$41K-$78K (Glassdoor est.)\",\"$41K-$78K (Glassdoor est.)\",\"$41K-$78K (Glassdoor est.)\",\"$41K-$78K (Glassdoor est.)\",\"$41K-$78K (Glassdoor est.)\",\"$45K-$88K (Glassdoor est.)\",\"$45K-$88K (Glassdoor est.)\",\"$45K-$88K (Glassdoor est.)\",\"$45K-$88K (Glassdoor est.)\",\"$45K-$88K (Glassdoor est.)\",\"$45K-$88K (Glassdoor est.)\",\"$45K-$88K (Glassdoor est.)\",\"$45K-$88K (Glassdoor est.)\",\"$45K-$88K (Glassdoor est.)\",\"$45K-$88K (Glassdoor est.)\",\"$45K-$88K (Glassdoor est.)\",\"$73K-$127K (Glassdoor est.)\",\"$73K-$127K (Glassdoor est.)\",\"$73K-$127K (Glassdoor est.)\",\"$73K-$127K (Glassdoor est.)\",\"$73K-$127K (Glassdoor est.)\",\"$73K-$127K (Glassdoor est.)\",\"$73K-$127K (Glassdoor est.)\",\"$73K-$127K (Glassdoor est.)\",\"$73K-$127K (Glassdoor est.)\",\"$73K-$127K (Glassdoor est.)\",\"$73K-$127K (Glassdoor est.)\",\"$73K-$127K (Glassdoor est.)\",\"$73K-$127K (Glassdoor est.)\",\"$73K-$127K (Glassdoor est.)\",\"$84K-$90K (Glassdoor est.)\",\"$84K-$90K (Glassdoor est.)\",\"$84K-$90K (Glassdoor est.)\",\"$84K-$90K (Glassdoor est.)\",\"$84K-$90K (Glassdoor est.)\",\"$84K-$90K (Glassdoor est.)\",\"$84K-$90K (Glassdoor est.)\",\"$84K-$90K (Glassdoor est.)\",\"$84K-$90K (Glassdoor est.)\",\"$84K-$90K (Glassdoor est.)\",\"$84K-$90K (Glassdoor est.)\",\"$84K-$90K (Glassdoor est.)\",\"$84K-$90K (Glassdoor est.)\",\"$84K-$90K (Glassdoor est.)\",\"$84K-$90K (Glassdoor est.)\",\"$84K-$90K (Glassdoor est.)\",\"$84K-$90K (Glassdoor est.)\",\"$84K-$90K (Glassdoor est.)\",\"$27K-$52K (Glassdoor est.)\",\"$27K-$52K (Glassdoor est.)\",\"$27K-$52K (Glassdoor est.)\",\"$27K-$52K (Glassdoor est.)\",\"$27K-$52K (Glassdoor est.)\",\"$27K-$52K (Glassdoor est.)\",\"$27K-$52K (Glassdoor est.)\",\"$27K-$52K (Glassdoor est.)\",\"$27K-$52K (Glassdoor est.)\",\"$27K-$52K (Glassdoor est.)\",\"$27K-$52K (Glassdoor est.)\",\"$27K-$52K (Glassdoor est.)\",\"$27K-$52K (Glassdoor est.)\",\"$27K-$52K (Glassdoor est.)\",\"$27K-$52K (Glassdoor est.)\",\"$27K-$52K (Glassdoor est.)\",\"$27K-$52K (Glassdoor est.)\",\"$27K-$52K (Glassdoor est.)\",\"$27K-$52K (Glassdoor est.)\",\"$27K-$52K (Glassdoor est.)\",\"$27K-$52K (Glassdoor est.)\",\"$27K-$52K (Glassdoor est.)\",\"$27K-$52K (Glassdoor est.)\",\"$27K-$52K (Glassdoor est.)\",\"$27K-$52K (Glassdoor est.)\",\"$27K-$52K (Glassdoor est.)\",\"$27K-$52K (Glassdoor est.)\",\"$27K-$52K (Glassdoor est.)\",\"$27K-$52K (Glassdoor est.)\",\"$27K-$52K (Glassdoor est.)\",\"$42K-$74K (Glassdoor est.)\",\"$42K-$74K (Glassdoor est.)\",\"$42K-$74K (Glassdoor est.)\",\"$42K-$74K (Glassdoor est.)\",\"$42K-$74K (Glassdoor est.)\",\"$42K-$74K (Glassdoor est.)\",\"$42K-$74K (Glassdoor est.)\",\"$42K-$74K (Glassdoor est.)\",\"$42K-$74K (Glassdoor est.)\",\"$42K-$74K (Glassdoor est.)\",\"$42K-$74K (Glassdoor est.)\",\"$42K-$74K (Glassdoor est.)\",\"$42K-$74K (Glassdoor est.)\",\"$42K-$74K (Glassdoor est.)\",\"$42K-$74K (Glassdoor est.)\",\"$42K-$74K (Glassdoor est.)\",\"$42K-$74K (Glassdoor est.)\",\"$42K-$74K (Glassdoor est.)\",\"$42K-$74K (Glassdoor est.)\",\"$42K-$74K (Glassdoor est.)\",\"$42K-$74K (Glassdoor est.)\",\"$42K-$74K (Glassdoor est.)\",\"$42K-$74K (Glassdoor est.)\",\"$42K-$74K (Glassdoor est.)\",\"$42K-$74K (Glassdoor est.)\",\"$42K-$74K (Glassdoor est.)\",\"$42K-$74K (Glassdoor est.)\",\"$77K-$132K (Glassdoor est.)\",\"$77K-$132K (Glassdoor est.)\",\"$77K-$132K (Glassdoor est.)\",\"$77K-$132K (Glassdoor est.)\",\"$77K-$132K (Glassdoor est.)\",\"$77K-$132K (Glassdoor est.)\",\"$77K-$132K (Glassdoor est.)\",\"$77K-$132K (Glassdoor est.)\",\"$77K-$132K (Glassdoor est.)\",\"$77K-$132K (Glassdoor est.)\",\"$77K-$132K (Glassdoor est.)\",\"$77K-$132K (Glassdoor est.)\",\"$77K-$132K (Glassdoor est.)\",\"$77K-$132K (Glassdoor est.)\",\"$77K-$132K (Glassdoor est.)\",\"$77K-$132K (Glassdoor est.)\",\"$77K-$132K (Glassdoor est.)\",\"$77K-$132K (Glassdoor est.)\",\"$77K-$132K (Glassdoor est.)\",\"$77K-$132K (Glassdoor est.)\",\"$77K-$132K (Glassdoor est.)\",\"$77K-$132K (Glassdoor est.)\",\"$77K-$132K (Glassdoor est.)\",\"$77K-$132K (Glassdoor est.)\",\"$77K-$132K (Glassdoor est.)\",\"$77K-$132K (Glassdoor est.)\",\"$77K-$132K (Glassdoor est.)\",\"$77K-$132K (Glassdoor est.)\",\"$77K-$132K (Glassdoor est.)\",\"$98K-$114K (Glassdoor est.)\",\"$98K-$114K (Glassdoor est.)\",\"$98K-$114K (Glassdoor est.)\",\"$98K-$114K (Glassdoor est.)\",\"$98K-$114K (Glassdoor est.)\",\"$98K-$114K (Glassdoor est.)\",\"$98K-$114K (Glassdoor est.)\",\"$98K-$114K (Glassdoor est.)\",\"$98K-$114K (Glassdoor est.)\",\"$98K-$114K (Glassdoor est.)\",\"$98K-$114K (Glassdoor est.)\",\"$98K-$114K (Glassdoor est.)\",\"$98K-$114K (Glassdoor est.)\",\"$98K-$114K (Glassdoor est.)\",\"$98K-$114K (Glassdoor est.)\",\"$98K-$114K (Glassdoor est.)\",\"$98K-$114K (Glassdoor est.)\",\"$98K-$114K (Glassdoor est.)\",\"$98K-$114K (Glassdoor est.)\",\"$98K-$114K (Glassdoor est.)\",\"$98K-$114K (Glassdoor est.)\",\"$98K-$114K (Glassdoor est.)\",\"$98K-$114K (Glassdoor est.)\",\"$98K-$114K (Glassdoor est.)\",\"$98K-$114K (Glassdoor est.)\",\"$98K-$114K (Glassdoor est.)\",\"$98K-$114K (Glassdoor est.)\",\"$98K-$114K (Glassdoor est.)\",\"$98K-$114K (Glassdoor est.)\",\"$98K-$114K (Glassdoor est.)\",\"$48K-$96K (Glassdoor est.)\",\"$48K-$96K (Glassdoor est.)\",\"$48K-$96K (Glassdoor est.)\",\"$48K-$96K (Glassdoor est.)\",\"$48K-$96K (Glassdoor est.)\",\"$48K-$96K (Glassdoor est.)\",\"$48K-$96K (Glassdoor est.)\",\"$48K-$96K (Glassdoor est.)\",\"$48K-$96K (Glassdoor est.)\",\"$48K-$96K (Glassdoor est.)\",\"$48K-$96K (Glassdoor est.)\",\"$48K-$96K (Glassdoor est.)\",\"$48K-$96K (Glassdoor est.)\",\"$48K-$96K (Glassdoor est.)\",\"$48K-$96K (Glassdoor est.)\",\"$48K-$96K (Glassdoor est.)\",\"$48K-$96K (Glassdoor est.)\",\"$48K-$96K (Glassdoor est.)\",\"$48K-$96K (Glassdoor est.)\",\"$48K-$96K (Glassdoor est.)\",\"$48K-$96K (Glassdoor est.)\",\"$48K-$96K (Glassdoor est.)\",\"$26K-$47K (Glassdoor est.)\",\"$26K-$47K (Glassdoor est.)\",\"$26K-$47K (Glassdoor est.)\",\"$26K-$47K (Glassdoor est.)\",\"$26K-$47K (Glassdoor est.)\",\"$26K-$47K (Glassdoor est.)\",\"$26K-$47K (Glassdoor est.)\",\"$26K-$47K (Glassdoor est.)\",\"$26K-$47K (Glassdoor est.)\",\"$26K-$47K (Glassdoor est.)\",\"$26K-$47K (Glassdoor est.)\",\"$26K-$47K (Glassdoor est.)\",\"$26K-$47K (Glassdoor est.)\",\"$26K-$47K (Glassdoor est.)\",\"$26K-$47K (Glassdoor est.)\",\"$26K-$47K (Glassdoor est.)\",\"$26K-$47K (Glassdoor est.)\",\"$26K-$47K (Glassdoor est.)\",\"$26K-$47K (Glassdoor est.)\",\"$26K-$47K (Glassdoor est.)\",\"$26K-$47K (Glassdoor est.)\",\"$26K-$47K (Glassdoor est.)\",\"$26K-$47K (Glassdoor est.)\",\"$26K-$47K (Glassdoor est.)\",\"$26K-$47K (Glassdoor est.)\",\"$26K-$47K (Glassdoor est.)\",\"$26K-$47K (Glassdoor est.)\",\"$26K-$47K (Glassdoor est.)\",\"$26K-$47K (Glassdoor est.)\",\"$31K-$59K (Glassdoor est.)\",\"$31K-$59K (Glassdoor est.)\",\"$31K-$59K (Glassdoor est.)\",\"$31K-$59K (Glassdoor est.)\",\"$47K-$81K (Glassdoor est.)\",\"$47K-$81K (Glassdoor est.)\",\"$47K-$81K (Glassdoor est.)\",\"$43K-$69K (Glassdoor est.)\",\"$43K-$69K (Glassdoor est.)\",\"$43K-$69K (Glassdoor est.)\",\"$43K-$69K (Glassdoor est.)\",\"$43K-$69K (Glassdoor est.)\",\"$43K-$69K (Glassdoor est.)\",\"$43K-$69K (Glassdoor est.)\",\"$43K-$69K (Glassdoor est.)\",\"$43K-$69K (Glassdoor est.)\",\"$43K-$69K (Glassdoor est.)\",\"$43K-$69K (Glassdoor est.)\",\"$43K-$69K (Glassdoor est.)\",\"$43K-$69K (Glassdoor est.)\",\"$43K-$69K (Glassdoor est.)\",\"$43K-$69K (Glassdoor est.)\",\"$43K-$69K (Glassdoor est.)\",\"$43K-$69K (Glassdoor est.)\",\"$43K-$69K (Glassdoor est.)\",\"$43K-$69K (Glassdoor est.)\",\"$43K-$69K (Glassdoor est.)\",\"$43K-$69K (Glassdoor est.)\",\"$43K-$69K (Glassdoor est.)\",\"$43K-$69K (Glassdoor est.)\",\"$43K-$69K (Glassdoor est.)\",\"$43K-$69K (Glassdoor est.)\",\"$43K-$69K (Glassdoor est.)\",\"$43K-$69K (Glassdoor est.)\",\"$43K-$69K (Glassdoor est.)\",\"$43K-$69K (Glassdoor est.)\",\"$43K-$69K (Glassdoor est.)\",\"$49K-$112K (Glassdoor est.)\",\"$49K-$112K (Glassdoor est.)\",\"$49K-$112K (Glassdoor est.)\",\"$49K-$112K (Glassdoor est.)\",\"$49K-$112K (Glassdoor est.)\",\"$49K-$112K (Glassdoor est.)\",\"$49K-$112K (Glassdoor est.)\",\"$49K-$112K (Glassdoor est.)\",\"$49K-$112K (Glassdoor est.)\",\"$49K-$112K (Glassdoor est.)\",\"$49K-$112K (Glassdoor est.)\",\"$49K-$112K (Glassdoor est.)\",\"$49K-$112K (Glassdoor est.)\",\"$49K-$112K (Glassdoor est.)\",\"$49K-$112K (Glassdoor est.)\",\"$49K-$112K (Glassdoor est.)\",\"$49K-$112K (Glassdoor est.)\",\"$49K-$112K (Glassdoor est.)\",\"$30K-$54K (Glassdoor est.)\",\"$30K-$54K (Glassdoor est.)\",\"$30K-$54K (Glassdoor est.)\",\"$30K-$54K (Glassdoor est.)\",\"$30K-$54K (Glassdoor est.)\",\"$30K-$54K (Glassdoor est.)\",\"$30K-$54K (Glassdoor est.)\",\"$30K-$54K (Glassdoor est.)\",\"$55K-$103K (Glassdoor est.)\",\"$55K-$103K (Glassdoor est.)\",\"$55K-$103K (Glassdoor est.)\",\"$55K-$103K (Glassdoor est.)\",\"$55K-$103K (Glassdoor est.)\",\"$55K-$103K (Glassdoor est.)\",\"$55K-$103K (Glassdoor est.)\",\"$55K-$103K (Glassdoor est.)\",\"$55K-$103K (Glassdoor est.)\",\"$55K-$103K (Glassdoor est.)\",\"$55K-$103K (Glassdoor est.)\",\"$55K-$103K (Glassdoor est.)\",\"$55K-$103K (Glassdoor est.)\",\"$55K-$103K (Glassdoor est.)\",\"$55K-$103K (Glassdoor est.)\",\"$55K-$103K (Glassdoor est.)\",\"$55K-$103K (Glassdoor est.)\",\"$55K-$103K (Glassdoor est.)\",\"$55K-$103K (Glassdoor est.)\",\"$55K-$103K (Glassdoor est.)\",\"$55K-$103K (Glassdoor est.)\",\"$55K-$103K (Glassdoor est.)\",\"$55K-$103K (Glassdoor est.)\",\"$55K-$103K (Glassdoor est.)\",\"$55K-$103K (Glassdoor est.)\",\"$55K-$103K (Glassdoor est.)\",\"$55K-$103K (Glassdoor est.)\",\"$55K-$103K (Glassdoor est.)\",\"$55K-$103K (Glassdoor est.)\",\"$37K-$70K (Glassdoor est.)\",\"$37K-$70K (Glassdoor est.)\",\"$37K-$70K (Glassdoor est.)\",\"$37K-$70K (Glassdoor est.)\",\"$37K-$70K (Glassdoor est.)\",\"$37K-$70K (Glassdoor est.)\",\"$37K-$70K (Glassdoor est.)\",\"$37K-$70K (Glassdoor est.)\",\"$37K-$70K (Glassdoor est.)\",\"$37K-$70K (Glassdoor est.)\",\"$37K-$70K (Glassdoor est.)\",\"$37K-$70K (Glassdoor est.)\",\"$37K-$70K (Glassdoor est.)\",\"$37K-$70K (Glassdoor est.)\",\"$37K-$70K (Glassdoor est.)\",\"$37K-$70K (Glassdoor est.)\",\"$37K-$70K (Glassdoor est.)\",\"$37K-$70K (Glassdoor est.)\",\"$37K-$70K (Glassdoor est.)\",\"$37K-$70K (Glassdoor est.)\",\"$37K-$70K (Glassdoor est.)\",\"$37K-$70K (Glassdoor est.)\",\"$37K-$70K (Glassdoor est.)\",\"$37K-$70K (Glassdoor est.)\",\"$37K-$70K (Glassdoor est.)\",\"$37K-$70K (Glassdoor est.)\",\"$37K-$70K (Glassdoor est.)\",\"$37K-$70K (Glassdoor est.)\",\"$37K-$70K (Glassdoor est.)\",\"$57K-$103K (Glassdoor est.)\",\"$57K-$103K (Glassdoor est.)\",\"$57K-$103K (Glassdoor est.)\",\"$57K-$103K (Glassdoor est.)\",\"$57K-$103K (Glassdoor est.)\",\"$57K-$103K (Glassdoor est.)\",\"$57K-$103K (Glassdoor est.)\",\"$57K-$103K (Glassdoor est.)\",\"$57K-$103K (Glassdoor est.)\",\"$57K-$103K (Glassdoor est.)\",\"$57K-$103K (Glassdoor est.)\",\"$57K-$103K (Glassdoor est.)\",\"$57K-$103K (Glassdoor est.)\",\"$57K-$103K (Glassdoor est.)\",\"$57K-$103K (Glassdoor est.)\",\"$57K-$103K (Glassdoor est.)\",\"$57K-$103K (Glassdoor est.)\",\"$57K-$103K (Glassdoor est.)\",\"$57K-$103K (Glassdoor est.)\",\"$57K-$103K (Glassdoor est.)\",\"$57K-$103K (Glassdoor est.)\",\"$57K-$103K (Glassdoor est.)\",\"$57K-$103K (Glassdoor est.)\",\"$57K-$103K (Glassdoor est.)\",\"$57K-$103K (Glassdoor est.)\",\"$57K-$103K (Glassdoor est.)\",\"$57K-$103K (Glassdoor est.)\",\"$57K-$103K (Glassdoor est.)\",\"$57K-$103K (Glassdoor est.)\",\"$35K-$45K (Glassdoor est.)\",\"$35K-$45K (Glassdoor est.)\",\"$35K-$45K (Glassdoor est.)\",\"$35K-$45K (Glassdoor est.)\",\"$35K-$45K (Glassdoor est.)\",\"$35K-$45K (Glassdoor est.)\",\"$35K-$45K (Glassdoor est.)\",\"$35K-$45K (Glassdoor est.)\",\"$35K-$45K (Glassdoor est.)\",\"$35K-$45K (Glassdoor est.)\",\"$35K-$45K (Glassdoor est.)\",\"$35K-$45K (Glassdoor est.)\",\"$35K-$45K (Glassdoor est.)\",\"$35K-$45K (Glassdoor est.)\",\"$35K-$45K (Glassdoor est.)\",\"$35K-$45K (Glassdoor est.)\",\"$35K-$45K (Glassdoor est.)\",\"$35K-$45K (Glassdoor est.)\",\"$35K-$45K (Glassdoor est.)\",\"$35K-$45K (Glassdoor est.)\",\"$35K-$45K (Glassdoor est.)\",\"$35K-$45K (Glassdoor est.)\",\"$35K-$45K (Glassdoor est.)\",\"$35K-$45K (Glassdoor est.)\",\"$35K-$45K (Glassdoor est.)\",\"$35K-$45K (Glassdoor est.)\",\"$35K-$45K (Glassdoor est.)\",\"$35K-$45K (Glassdoor est.)\",\"$42K-$66K (Glassdoor est.)\",\"$42K-$66K (Glassdoor est.)\",\"$42K-$66K (Glassdoor est.)\",\"$42K-$66K (Glassdoor est.)\",\"$42K-$66K (Glassdoor est.)\",\"$42K-$66K (Glassdoor est.)\",\"$42K-$66K (Glassdoor est.)\",\"$42K-$66K (Glassdoor est.)\",\"$42K-$66K (Glassdoor est.)\",\"$42K-$66K (Glassdoor est.)\",\"$42K-$66K (Glassdoor est.)\",\"$42K-$66K (Glassdoor est.)\",\"$42K-$66K (Glassdoor est.)\",\"$42K-$66K (Glassdoor est.)\",\"$42K-$66K (Glassdoor est.)\",\"$42K-$66K (Glassdoor est.)\",\"$42K-$66K (Glassdoor est.)\",\"$42K-$66K (Glassdoor est.)\",\"$42K-$66K (Glassdoor est.)\",\"$42K-$66K (Glassdoor est.)\",\"$42K-$66K (Glassdoor est.)\",\"$42K-$66K (Glassdoor est.)\",\"$42K-$66K (Glassdoor est.)\",\"$42K-$66K (Glassdoor est.)\",\"$42K-$66K (Glassdoor est.)\",\"$42K-$66K (Glassdoor est.)\",\"$42K-$66K (Glassdoor est.)\",\"$42K-$66K (Glassdoor est.)\",\"$42K-$66K (Glassdoor est.)\",\"$42K-$66K (Glassdoor est.)\",\"$65K-$81K (Glassdoor est.)\",\"$65K-$81K (Glassdoor est.)\",\"$65K-$81K (Glassdoor est.)\",\"$65K-$81K (Glassdoor est.)\",\"$65K-$81K (Glassdoor est.)\",\"$65K-$81K (Glassdoor est.)\",\"$65K-$81K (Glassdoor est.)\",\"$65K-$81K (Glassdoor est.)\",\"$65K-$81K (Glassdoor est.)\",\"$65K-$81K (Glassdoor est.)\",\"$65K-$81K (Glassdoor est.)\",\"$65K-$81K (Glassdoor est.)\",\"$65K-$81K (Glassdoor est.)\",\"$65K-$81K (Glassdoor est.)\",\"$65K-$81K (Glassdoor est.)\",\"$65K-$81K (Glassdoor est.)\",\"$65K-$81K (Glassdoor est.)\",\"$65K-$81K (Glassdoor est.)\",\"$65K-$81K (Glassdoor est.)\",\"$65K-$81K (Glassdoor est.)\",\"$65K-$81K (Glassdoor est.)\",\"$65K-$81K (Glassdoor est.)\",\"$65K-$81K (Glassdoor est.)\",\"$65K-$81K (Glassdoor est.)\",\"$65K-$81K (Glassdoor est.)\",\"$65K-$81K (Glassdoor est.)\",\"$65K-$81K (Glassdoor est.)\",\"$65K-$81K (Glassdoor est.)\",\"$65K-$81K (Glassdoor est.)\",\"$113K-$132K (Glassdoor est.)\",\"$113K-$132K (Glassdoor est.)\",\"$113K-$132K (Glassdoor est.)\",\"$113K-$132K (Glassdoor est.)\",\"$113K-$132K (Glassdoor est.)\",\"$113K-$132K (Glassdoor est.)\",\"$113K-$132K (Glassdoor est.)\",\"$113K-$132K (Glassdoor est.)\",\"$113K-$132K (Glassdoor est.)\",\"$113K-$132K (Glassdoor est.)\",\"$113K-$132K (Glassdoor est.)\",\"$113K-$132K (Glassdoor est.)\",\"$113K-$132K (Glassdoor est.)\",\"$113K-$132K (Glassdoor est.)\",\"$113K-$132K (Glassdoor est.)\",\"$113K-$132K (Glassdoor est.)\",\"$113K-$132K (Glassdoor est.)\",\"$113K-$132K (Glassdoor est.)\",\"$113K-$132K (Glassdoor est.)\",\"$113K-$132K (Glassdoor est.)\",\"$113K-$132K (Glassdoor est.)\",\"$113K-$132K (Glassdoor est.)\",\"$113K-$132K (Glassdoor est.)\",\"$113K-$132K (Glassdoor est.)\",\"$113K-$132K (Glassdoor est.)\",\"$113K-$132K (Glassdoor est.)\",\"$113K-$132K (Glassdoor est.)\",\"$113K-$132K (Glassdoor est.)\",\"$113K-$132K (Glassdoor est.)\",\"$42K-$63K (Glassdoor est.)\",\"$42K-$63K (Glassdoor est.)\",\"$42K-$63K (Glassdoor est.)\",\"$42K-$63K (Glassdoor est.)\",\"$60K-$66K (Glassdoor est.)\",\"$60K-$66K (Glassdoor est.)\",\"$60K-$66K (Glassdoor est.)\",\"$60K-$66K (Glassdoor est.)\",\"$60K-$66K (Glassdoor est.)\",\"$60K-$66K (Glassdoor est.)\",\"$60K-$66K (Glassdoor est.)\",\"$60K-$66K (Glassdoor est.)\",\"$60K-$66K (Glassdoor est.)\",\"$60K-$66K (Glassdoor est.)\",\"$60K-$66K (Glassdoor est.)\",\"$60K-$66K (Glassdoor est.)\",\"$60K-$66K (Glassdoor est.)\",\"$60K-$66K (Glassdoor est.)\",\"$60K-$66K (Glassdoor est.)\",\"$60K-$66K (Glassdoor est.)\",\"$60K-$66K (Glassdoor est.)\",\"$60K-$66K (Glassdoor est.)\",\"$60K-$66K (Glassdoor est.)\",\"$60K-$66K (Glassdoor est.)\",\"$60K-$66K (Glassdoor est.)\",\"$60K-$66K (Glassdoor est.)\",\"$60K-$66K (Glassdoor est.)\",\"$60K-$66K (Glassdoor est.)\",\"$60K-$66K (Glassdoor est.)\",\"$60K-$66K (Glassdoor est.)\",\"$60K-$66K (Glassdoor est.)\",\"$60K-$66K (Glassdoor est.)\",\"$60K-$66K (Glassdoor est.)\",\"$60K-$66K (Glassdoor est.)\",\"$73K-$82K (Glassdoor est.)\",\"$73K-$82K (Glassdoor est.)\",\"$73K-$82K (Glassdoor est.)\",\"$73K-$82K (Glassdoor est.)\",\"$73K-$82K (Glassdoor est.)\",\"$73K-$82K (Glassdoor est.)\",\"$73K-$82K (Glassdoor est.)\",\"$73K-$82K (Glassdoor est.)\",\"$73K-$82K (Glassdoor est.)\",\"$73K-$82K (Glassdoor est.)\",\"$73K-$82K (Glassdoor est.)\",\"$73K-$82K (Glassdoor est.)\",\"$73K-$82K (Glassdoor est.)\",\"$73K-$82K (Glassdoor est.)\",\"$73K-$82K (Glassdoor est.)\",\"$73K-$82K (Glassdoor est.)\",\"$73K-$82K (Glassdoor est.)\",\"$73K-$82K (Glassdoor est.)\",\"$73K-$82K (Glassdoor est.)\",\"$73K-$82K (Glassdoor est.)\",\"$73K-$82K (Glassdoor est.)\",\"$73K-$82K (Glassdoor est.)\",\"$73K-$82K (Glassdoor est.)\",\"$73K-$82K (Glassdoor est.)\",\"$73K-$82K (Glassdoor est.)\",\"$73K-$82K (Glassdoor est.)\",\"$73K-$82K (Glassdoor est.)\",\"$73K-$82K (Glassdoor est.)\",\"$73K-$82K (Glassdoor est.)\",\"$67K-$92K (Glassdoor est.)\",\"$67K-$92K (Glassdoor est.)\",\"$67K-$92K (Glassdoor est.)\",\"$67K-$92K (Glassdoor est.)\",\"$67K-$92K (Glassdoor est.)\",\"$67K-$92K (Glassdoor est.)\",\"$67K-$92K (Glassdoor est.)\",\"$67K-$92K (Glassdoor est.)\",\"$67K-$92K (Glassdoor est.)\",\"$67K-$92K (Glassdoor est.)\",\"$67K-$92K (Glassdoor est.)\",\"$67K-$92K (Glassdoor est.)\",\"$67K-$92K (Glassdoor est.)\",\"$67K-$92K (Glassdoor est.)\",\"$67K-$92K (Glassdoor est.)\",\"$67K-$92K (Glassdoor est.)\",\"$67K-$92K (Glassdoor est.)\",\"$67K-$92K (Glassdoor est.)\",\"$67K-$92K (Glassdoor est.)\",\"$67K-$92K (Glassdoor est.)\",\"$67K-$92K (Glassdoor est.)\",\"$67K-$92K (Glassdoor est.)\",\"$67K-$92K (Glassdoor est.)\",\"$67K-$92K (Glassdoor est.)\",\"$67K-$92K (Glassdoor est.)\",\"$67K-$92K (Glassdoor est.)\",\"$67K-$92K (Glassdoor est.)\",\"$67K-$92K (Glassdoor est.)\",\"$67K-$92K (Glassdoor est.)\",\"$42K-$76K (Glassdoor est.)\",\"$42K-$76K (Glassdoor est.)\",\"$42K-$76K (Glassdoor est.)\",\"$42K-$76K (Glassdoor est.)\",\"$42K-$76K (Glassdoor est.)\",\"$42K-$76K (Glassdoor est.)\",\"$42K-$76K (Glassdoor est.)\",\"$42K-$76K (Glassdoor est.)\",\"$42K-$76K (Glassdoor est.)\",\"$42K-$76K (Glassdoor est.)\",\"$42K-$76K (Glassdoor est.)\",\"$42K-$76K (Glassdoor est.)\",\"$42K-$76K (Glassdoor est.)\",\"$42K-$76K (Glassdoor est.)\",\"$42K-$76K (Glassdoor est.)\",\"$42K-$76K (Glassdoor est.)\",\"$42K-$76K (Glassdoor est.)\",\"$42K-$76K (Glassdoor est.)\",\"$42K-$76K (Glassdoor est.)\",\"$42K-$76K (Glassdoor est.)\",\"$42K-$76K (Glassdoor est.)\",\"$42K-$76K (Glassdoor est.)\",\"$42K-$76K (Glassdoor est.)\",\"$42K-$76K (Glassdoor est.)\",\"$42K-$76K (Glassdoor est.)\",\"$42K-$76K (Glassdoor est.)\",\"$42K-$76K (Glassdoor est.)\",\"$42K-$76K (Glassdoor est.)\",\"$42K-$76K (Glassdoor est.)\",\"$42K-$76K (Glassdoor est.)\",\"$97K-$129K (Glassdoor est.)\",\"$97K-$129K (Glassdoor est.)\",\"$97K-$129K (Glassdoor est.)\",\"$97K-$129K (Glassdoor est.)\",\"$97K-$129K (Glassdoor est.)\",\"$97K-$129K (Glassdoor est.)\",\"$97K-$129K (Glassdoor est.)\",\"$97K-$129K (Glassdoor est.)\",\"$97K-$129K (Glassdoor est.)\",\"$97K-$129K (Glassdoor est.)\",\"$97K-$129K (Glassdoor est.)\",\"$97K-$129K (Glassdoor est.)\",\"$97K-$129K (Glassdoor est.)\",\"$97K-$129K (Glassdoor est.)\",\"$97K-$129K (Glassdoor est.)\",\"$97K-$129K (Glassdoor est.)\",\"$97K-$129K (Glassdoor est.)\",\"$97K-$129K (Glassdoor est.)\",\"$97K-$129K (Glassdoor est.)\",\"$97K-$129K (Glassdoor est.)\",\"$97K-$129K (Glassdoor est.)\",\"$97K-$129K (Glassdoor est.)\",\"$97K-$129K (Glassdoor est.)\",\"$97K-$129K (Glassdoor est.)\",\"$97K-$129K (Glassdoor est.)\",\"$97K-$129K (Glassdoor est.)\",\"$97K-$129K (Glassdoor est.)\",\"$97K-$129K (Glassdoor est.)\",\"$97K-$129K (Glassdoor est.)\",\"$97K-$129K (Glassdoor est.)\",\"$68K-$87K (Glassdoor est.)\",\"$68K-$87K (Glassdoor est.)\",\"$68K-$87K (Glassdoor est.)\",\"$68K-$87K (Glassdoor est.)\",\"$68K-$87K (Glassdoor est.)\",\"$68K-$87K (Glassdoor est.)\",\"$68K-$87K (Glassdoor est.)\",\"$68K-$87K (Glassdoor est.)\",\"$68K-$87K (Glassdoor est.)\",\"$68K-$87K (Glassdoor est.)\",\"$68K-$87K (Glassdoor est.)\",\"$68K-$87K (Glassdoor est.)\",\"$68K-$87K (Glassdoor est.)\",\"$68K-$87K (Glassdoor est.)\",\"$68K-$87K (Glassdoor est.)\",\"$68K-$87K (Glassdoor est.)\",\"$29K-$38K (Glassdoor est.)\",\"$29K-$38K (Glassdoor est.)\",\"$29K-$38K (Glassdoor est.)\",\"$29K-$38K (Glassdoor est.)\",\"$29K-$38K (Glassdoor est.)\",\"$29K-$38K (Glassdoor est.)\",\"$29K-$38K (Glassdoor est.)\",\"$29K-$38K (Glassdoor est.)\",\"$29K-$38K (Glassdoor est.)\",\"$29K-$38K (Glassdoor est.)\",\"$29K-$38K (Glassdoor est.)\",\"$29K-$38K (Glassdoor est.)\",\"$29K-$38K (Glassdoor est.)\",\"$29K-$38K (Glassdoor est.)\",\"$29K-$38K (Glassdoor est.)\",\"$29K-$38K (Glassdoor est.)\",\"$29K-$38K (Glassdoor est.)\",\"$29K-$38K (Glassdoor est.)\",\"$29K-$38K (Glassdoor est.)\",\"$29K-$38K (Glassdoor est.)\",\"$29K-$38K (Glassdoor est.)\",\"$29K-$38K (Glassdoor est.)\",\"$29K-$38K (Glassdoor est.)\",\"$29K-$38K (Glassdoor est.)\",\"$29K-$38K (Glassdoor est.)\",\"$29K-$38K (Glassdoor est.)\",\"$29K-$38K (Glassdoor est.)\",\"$29K-$38K (Glassdoor est.)\",\"$29K-$38K (Glassdoor est.)\",\"$47K-$76K (Glassdoor est.)\",\"$47K-$76K (Glassdoor est.)\",\"$47K-$76K (Glassdoor est.)\",\"$47K-$76K (Glassdoor est.)\",\"$47K-$76K (Glassdoor est.)\",\"$47K-$76K (Glassdoor est.)\",\"$47K-$76K (Glassdoor est.)\",\"$47K-$76K (Glassdoor est.)\",\"$47K-$76K (Glassdoor est.)\",\"$47K-$76K (Glassdoor est.)\",\"$47K-$76K (Glassdoor est.)\",\"$47K-$76K (Glassdoor est.)\",\"$47K-$76K (Glassdoor est.)\",\"$47K-$76K (Glassdoor est.)\",\"$47K-$76K (Glassdoor est.)\",\"$47K-$76K (Glassdoor est.)\",\"$47K-$76K (Glassdoor est.)\",\"$47K-$76K (Glassdoor est.)\",\"$47K-$76K (Glassdoor est.)\",\"$47K-$76K (Glassdoor est.)\",\"$47K-$76K (Glassdoor est.)\",\"$47K-$76K (Glassdoor est.)\",\"$47K-$76K (Glassdoor est.)\",\"$47K-$76K (Glassdoor est.)\",\"$47K-$76K (Glassdoor est.)\",\"$47K-$76K (Glassdoor est.)\",\"$47K-$76K (Glassdoor est.)\",\"$47K-$76K (Glassdoor est.)\",\"$74K-$123K (Glassdoor est.)\",\"$74K-$123K (Glassdoor est.)\",\"$74K-$123K (Glassdoor est.)\",\"$74K-$123K (Glassdoor est.)\",\"$74K-$123K (Glassdoor est.)\",\"$74K-$123K (Glassdoor est.)\",\"$74K-$123K (Glassdoor est.)\",\"$74K-$123K (Glassdoor est.)\",\"$74K-$123K (Glassdoor est.)\",\"$74K-$123K (Glassdoor est.)\",\"$74K-$123K (Glassdoor est.)\",\"$74K-$123K (Glassdoor est.)\",\"$74K-$123K (Glassdoor est.)\",\"$74K-$123K (Glassdoor est.)\",\"$74K-$123K (Glassdoor est.)\",\"$74K-$123K (Glassdoor est.)\",\"$74K-$123K (Glassdoor est.)\",\"$74K-$123K (Glassdoor est.)\",\"$74K-$123K (Glassdoor est.)\",\"$74K-$123K (Glassdoor est.)\",\"$74K-$123K (Glassdoor est.)\",\"$74K-$123K (Glassdoor est.)\",\"$74K-$123K (Glassdoor est.)\",\"$74K-$123K (Glassdoor est.)\",\"$74K-$123K (Glassdoor est.)\",\"$74K-$123K (Glassdoor est.)\",\"$74K-$123K (Glassdoor est.)\",\"$74K-$123K (Glassdoor est.)\",\"$53K-$94K (Glassdoor est.)\",\"$53K-$94K (Glassdoor est.)\",\"$53K-$94K (Glassdoor est.)\",\"$53K-$94K (Glassdoor est.)\",\"$53K-$94K (Glassdoor est.)\",\"$53K-$94K (Glassdoor est.)\",\"$53K-$94K (Glassdoor est.)\",\"$53K-$94K (Glassdoor est.)\",\"$53K-$94K (Glassdoor est.)\",\"$53K-$94K (Glassdoor est.)\",\"$53K-$94K (Glassdoor est.)\",\"$53K-$94K (Glassdoor est.)\",\"$53K-$94K (Glassdoor est.)\",\"$53K-$94K (Glassdoor est.)\",\"$53K-$94K (Glassdoor est.)\",\"$53K-$94K (Glassdoor est.)\",\"$53K-$94K (Glassdoor est.)\",\"$53K-$94K (Glassdoor est.)\",\"$53K-$94K (Glassdoor est.)\",\"$53K-$94K (Glassdoor est.)\",\"$53K-$94K (Glassdoor est.)\",\"$53K-$94K (Glassdoor est.)\",\"$53K-$94K (Glassdoor est.)\",\"$53K-$94K (Glassdoor est.)\",\"$53K-$94K (Glassdoor est.)\",\"$53K-$94K (Glassdoor est.)\",\"$53K-$94K (Glassdoor est.)\",\"$53K-$94K (Glassdoor est.)\",\"$53K-$94K (Glassdoor est.)\",\"$46K-$102K (Glassdoor est.)\",\"$46K-$102K (Glassdoor est.)\",\"$46K-$102K (Glassdoor est.)\",\"$46K-$102K (Glassdoor est.)\",\"$46K-$102K (Glassdoor est.)\",\"$46K-$102K (Glassdoor est.)\",\"$46K-$102K (Glassdoor est.)\",\"$46K-$102K (Glassdoor est.)\",\"$46K-$102K (Glassdoor est.)\",\"$46K-$102K (Glassdoor est.)\",\"$46K-$102K (Glassdoor est.)\",\"$46K-$102K (Glassdoor est.)\",\"$46K-$102K (Glassdoor est.)\",\"$46K-$102K (Glassdoor est.)\",\"$46K-$102K (Glassdoor est.)\",\"$46K-$102K (Glassdoor est.)\",\"$46K-$102K (Glassdoor est.)\",\"$46K-$102K (Glassdoor est.)\",\"$46K-$102K (Glassdoor est.)\",\"$46K-$102K (Glassdoor est.)\",\"$46K-$102K (Glassdoor est.)\",\"$46K-$102K (Glassdoor est.)\",\"$46K-$102K (Glassdoor est.)\",\"$46K-$102K (Glassdoor est.)\",\"$46K-$102K (Glassdoor est.)\",\"$46K-$102K (Glassdoor est.)\",\"$46K-$102K (Glassdoor est.)\",\"$46K-$102K (Glassdoor est.)\",\"$43K-$94K (Glassdoor est.)\",\"$43K-$94K (Glassdoor est.)\",\"$43K-$94K (Glassdoor est.)\",\"$43K-$94K (Glassdoor est.)\",\"$43K-$94K (Glassdoor est.)\",\"$43K-$94K (Glassdoor est.)\",\"$43K-$94K (Glassdoor est.)\",\"$43K-$94K (Glassdoor est.)\",\"$43K-$94K (Glassdoor est.)\",\"$43K-$94K (Glassdoor est.)\",\"$43K-$94K (Glassdoor est.)\",\"$43K-$94K (Glassdoor est.)\",\"$43K-$94K (Glassdoor est.)\",\"$43K-$94K (Glassdoor est.)\",\"$43K-$94K (Glassdoor est.)\",\"$43K-$94K (Glassdoor est.)\",\"$43K-$94K (Glassdoor est.)\",\"$43K-$94K (Glassdoor est.)\",\"$43K-$94K (Glassdoor est.)\",\"$43K-$94K (Glassdoor est.)\",\"$43K-$94K (Glassdoor est.)\",\"$43K-$94K (Glassdoor est.)\",\"$43K-$94K (Glassdoor est.)\",\"$43K-$94K (Glassdoor est.)\",\"$43K-$94K (Glassdoor est.)\",\"$43K-$94K (Glassdoor est.)\",\"$43K-$94K (Glassdoor est.)\",\"$43K-$94K (Glassdoor est.)\",\"$43K-$94K (Glassdoor est.)\",\"$45K-$78K (Glassdoor est.)\",\"$45K-$78K (Glassdoor est.)\",\"$45K-$78K (Glassdoor est.)\",\"$45K-$78K (Glassdoor est.)\",\"$45K-$78K (Glassdoor est.)\",\"$45K-$78K (Glassdoor est.)\",\"$45K-$78K (Glassdoor est.)\",\"$45K-$78K (Glassdoor est.)\",\"$45K-$78K (Glassdoor est.)\",\"$45K-$78K (Glassdoor est.)\",\"$45K-$78K (Glassdoor est.)\",\"$41K-$78K (Glassdoor est.)\",\"$41K-$78K (Glassdoor est.)\",\"$41K-$78K (Glassdoor est.)\",\"$41K-$78K (Glassdoor est.)\",\"$41K-$78K (Glassdoor est.)\",\"$41K-$78K (Glassdoor est.)\",\"$41K-$78K (Glassdoor est.)\",\"$41K-$78K (Glassdoor est.)\",\"$41K-$78K (Glassdoor est.)\",\"$41K-$78K (Glassdoor est.)\",\"$41K-$78K (Glassdoor est.)\",\"$41K-$78K (Glassdoor est.)\",\"$41K-$78K (Glassdoor est.)\",\"$41K-$78K (Glassdoor est.)\",\"$41K-$78K (Glassdoor est.)\",\"$41K-$78K (Glassdoor est.)\",\"$41K-$78K (Glassdoor est.)\",\"$41K-$78K (Glassdoor est.)\",\"$41K-$78K (Glassdoor est.)\",\"$41K-$78K (Glassdoor est.)\",\"$41K-$78K (Glassdoor est.)\",\"$41K-$78K (Glassdoor est.)\",\"$41K-$78K (Glassdoor est.)\",\"$41K-$78K (Glassdoor est.)\",\"$41K-$78K (Glassdoor est.)\",\"$41K-$78K (Glassdoor est.)\",\"$41K-$78K (Glassdoor est.)\",\"$41K-$78K (Glassdoor est.)\",\"$38K-$68K (Glassdoor est.)\",\"$38K-$68K (Glassdoor est.)\",\"$38K-$68K (Glassdoor est.)\",\"$38K-$68K (Glassdoor est.)\",\"$38K-$68K (Glassdoor est.)\",\"$38K-$68K (Glassdoor est.)\",\"$38K-$68K (Glassdoor est.)\",\"$38K-$68K (Glassdoor est.)\",\"$38K-$68K (Glassdoor est.)\",\"$38K-$68K (Glassdoor est.)\",\"$38K-$68K (Glassdoor est.)\",\"$38K-$68K (Glassdoor est.)\",\"$38K-$68K (Glassdoor est.)\",\"$38K-$68K (Glassdoor est.)\",\"$38K-$68K (Glassdoor est.)\",\"$38K-$68K (Glassdoor est.)\",\"$38K-$68K (Glassdoor est.)\",\"$38K-$68K (Glassdoor est.)\",\"$38K-$68K (Glassdoor est.)\",\"$38K-$68K (Glassdoor est.)\",\"$38K-$68K (Glassdoor est.)\",\"$38K-$68K (Glassdoor est.)\",\"$38K-$68K (Glassdoor est.)\",\"$38K-$68K (Glassdoor est.)\",\"$38K-$68K (Glassdoor est.)\",\"$38K-$68K (Glassdoor est.)\",\"$38K-$68K (Glassdoor est.)\",\"$38K-$68K (Glassdoor est.)\",\"$38K-$68K (Glassdoor est.)\",\"$37K-$44K (Glassdoor est.)\",\"$37K-$44K (Glassdoor est.)\",\"$37K-$44K (Glassdoor est.)\",\"$37K-$44K (Glassdoor est.)\",\"$37K-$44K (Glassdoor est.)\",\"$37K-$44K (Glassdoor est.)\",\"$37K-$44K (Glassdoor est.)\",\"$37K-$44K (Glassdoor est.)\",\"$37K-$44K (Glassdoor est.)\",\"$37K-$44K (Glassdoor est.)\",\"$37K-$44K (Glassdoor est.)\",\"$37K-$44K (Glassdoor est.)\",\"$37K-$44K (Glassdoor est.)\",\"$37K-$44K (Glassdoor est.)\",\"$37K-$44K (Glassdoor est.)\",\"$37K-$44K (Glassdoor est.)\",\"$37K-$44K (Glassdoor est.)\",\"$37K-$44K (Glassdoor est.)\",\"$37K-$44K (Glassdoor est.)\",\"$37K-$44K (Glassdoor est.)\",\"$37K-$44K (Glassdoor est.)\",\"$37K-$44K (Glassdoor est.)\",\"$37K-$44K (Glassdoor est.)\",\"$37K-$44K (Glassdoor est.)\",\"$37K-$44K (Glassdoor est.)\",\"$37K-$44K (Glassdoor est.)\",\"$37K-$44K (Glassdoor est.)\",\"$37K-$44K (Glassdoor est.)\",\"$37K-$44K (Glassdoor est.)\",\"$64K-$113K (Glassdoor est.)\",\"$64K-$113K (Glassdoor est.)\",\"$64K-$113K (Glassdoor est.)\",\"$64K-$113K (Glassdoor est.)\",\"$64K-$113K (Glassdoor est.)\",\"$64K-$113K (Glassdoor est.)\",\"$64K-$113K (Glassdoor est.)\",\"$64K-$113K (Glassdoor est.)\",\"$64K-$113K (Glassdoor est.)\",\"$64K-$113K (Glassdoor est.)\",\"$64K-$113K (Glassdoor est.)\",\"$64K-$113K (Glassdoor est.)\",\"$64K-$113K (Glassdoor est.)\",\"$64K-$113K (Glassdoor est.)\",\"$64K-$113K (Glassdoor est.)\",\"$64K-$113K (Glassdoor est.)\",\"$64K-$113K (Glassdoor est.)\",\"$64K-$113K (Glassdoor est.)\",\"$64K-$113K (Glassdoor est.)\",\"$64K-$113K (Glassdoor est.)\",\"$64K-$113K (Glassdoor est.)\",\"$64K-$113K (Glassdoor est.)\",\"$64K-$113K (Glassdoor est.)\",\"$64K-$113K (Glassdoor est.)\",\"$64K-$113K (Glassdoor est.)\",\"$64K-$113K (Glassdoor est.)\",\"$64K-$113K (Glassdoor est.)\",\"$64K-$113K (Glassdoor est.)\",\"$64K-$113K (Glassdoor est.)\",\"$64K-$113K (Glassdoor est.)\",\"$50K-$93K (Glassdoor est.)\",\"$50K-$93K (Glassdoor est.)\",\"$50K-$93K (Glassdoor est.)\",\"$50K-$93K (Glassdoor est.)\",\"$50K-$93K (Glassdoor est.)\",\"$50K-$93K (Glassdoor est.)\",\"$50K-$93K (Glassdoor est.)\",\"$50K-$93K (Glassdoor est.)\",\"$50K-$93K (Glassdoor est.)\",\"$50K-$93K (Glassdoor est.)\",\"$50K-$93K (Glassdoor est.)\",\"$50K-$93K (Glassdoor est.)\",\"$50K-$93K (Glassdoor est.)\",\"$50K-$93K (Glassdoor est.)\",\"$50K-$93K (Glassdoor est.)\",\"$50K-$93K (Glassdoor est.)\",\"$50K-$93K (Glassdoor est.)\",\"$50K-$93K (Glassdoor est.)\",\"$50K-$93K (Glassdoor est.)\",\"$37K-$68K (Glassdoor est.)\",\"$37K-$68K (Glassdoor est.)\",\"$37K-$68K (Glassdoor est.)\",\"$37K-$68K (Glassdoor est.)\",\"$37K-$68K (Glassdoor est.)\",\"$37K-$68K (Glassdoor est.)\",\"$37K-$68K (Glassdoor est.)\",\"$37K-$68K (Glassdoor est.)\",\"$37K-$68K (Glassdoor est.)\",\"$37K-$68K (Glassdoor est.)\",\"$37K-$68K (Glassdoor est.)\",\"$37K-$68K (Glassdoor est.)\",\"$37K-$68K (Glassdoor est.)\",\"$37K-$68K (Glassdoor est.)\",\"$37K-$68K (Glassdoor est.)\",\"$37K-$68K (Glassdoor est.)\",\"$37K-$68K (Glassdoor est.)\",\"$37K-$68K (Glassdoor est.)\",\"$37K-$68K (Glassdoor est.)\",\"$37K-$68K (Glassdoor est.)\",\"$37K-$68K (Glassdoor est.)\",\"$37K-$68K (Glassdoor est.)\",\"$37K-$68K (Glassdoor est.)\",\"$37K-$68K (Glassdoor est.)\",\"$37K-$68K (Glassdoor est.)\",\"$37K-$68K (Glassdoor est.)\",\"$37K-$68K (Glassdoor est.)\",\"$37K-$68K (Glassdoor est.)\",\"$37K-$68K (Glassdoor est.)\",\"$37K-$68K (Glassdoor est.)\",\"$73K-$89K (Glassdoor est.)\",\"$73K-$89K (Glassdoor est.)\",\"$73K-$89K (Glassdoor est.)\",\"$73K-$89K (Glassdoor est.)\",\"$73K-$89K (Glassdoor est.)\",\"$73K-$89K (Glassdoor est.)\",\"$73K-$89K (Glassdoor est.)\",\"$73K-$89K (Glassdoor est.)\",\"$73K-$89K (Glassdoor est.)\",\"$73K-$89K (Glassdoor est.)\",\"$73K-$89K (Glassdoor est.)\",\"$73K-$89K (Glassdoor est.)\",\"$73K-$89K (Glassdoor est.)\",\"$73K-$89K (Glassdoor est.)\",\"$73K-$89K (Glassdoor est.)\",\"$73K-$89K (Glassdoor est.)\",\"$73K-$89K (Glassdoor est.)\",\"$73K-$89K (Glassdoor est.)\",\"$76K-$122K (Glassdoor est.)\",\"$76K-$122K (Glassdoor est.)\",\"$76K-$122K (Glassdoor est.)\",\"$76K-$122K (Glassdoor est.)\",\"$76K-$122K (Glassdoor est.)\",\"$76K-$122K (Glassdoor est.)\",\"$76K-$122K (Glassdoor est.)\",\"$76K-$122K (Glassdoor est.)\",\"$76K-$122K (Glassdoor est.)\",\"$76K-$122K (Glassdoor est.)\",\"$76K-$122K (Glassdoor est.)\",\"$76K-$122K (Glassdoor est.)\",\"$76K-$122K (Glassdoor est.)\",\"$76K-$122K (Glassdoor est.)\",\"$76K-$122K (Glassdoor est.)\",\"$76K-$122K (Glassdoor est.)\",\"$76K-$122K (Glassdoor est.)\",\"$76K-$122K (Glassdoor est.)\",\"$76K-$122K (Glassdoor est.)\",\"$76K-$122K (Glassdoor est.)\",\"$76K-$122K (Glassdoor est.)\",\"$76K-$122K (Glassdoor est.)\",\"$76K-$122K (Glassdoor est.)\",\"$76K-$122K (Glassdoor est.)\",\"$76K-$122K (Glassdoor est.)\",\"$76K-$122K (Glassdoor est.)\",\"$76K-$122K (Glassdoor est.)\",\"$76K-$122K (Glassdoor est.)\",\"$60K-$124K (Glassdoor est.)\",\"$60K-$124K (Glassdoor est.)\",\"$60K-$124K (Glassdoor est.)\",\"$60K-$124K (Glassdoor est.)\",\"$60K-$124K (Glassdoor est.)\",\"$60K-$124K (Glassdoor est.)\",\"$60K-$124K (Glassdoor est.)\",\"$60K-$124K (Glassdoor est.)\",\"$60K-$124K (Glassdoor est.)\",\"$60K-$124K (Glassdoor est.)\",\"$60K-$124K (Glassdoor est.)\",\"$60K-$124K (Glassdoor est.)\",\"$60K-$124K (Glassdoor est.)\",\"$60K-$124K (Glassdoor est.)\",\"$60K-$124K (Glassdoor est.)\",\"$60K-$124K (Glassdoor est.)\",\"$60K-$124K (Glassdoor est.)\",\"$60K-$124K (Glassdoor est.)\",\"$60K-$124K (Glassdoor est.)\",\"$60K-$124K (Glassdoor est.)\",\"$60K-$124K (Glassdoor est.)\",\"$60K-$124K (Glassdoor est.)\",\"$60K-$124K (Glassdoor est.)\",\"$60K-$124K (Glassdoor est.)\",\"$60K-$124K (Glassdoor est.)\",\"$60K-$124K (Glassdoor est.)\",\"$60K-$124K (Glassdoor est.)\",\"$60K-$124K (Glassdoor est.)\",\"$60K-$124K (Glassdoor est.)\",\"$60K-$124K (Glassdoor est.)\",\"$60K-$124K (Glassdoor est.)\",\"$34K-$61K (Glassdoor est.)\",\"$34K-$61K (Glassdoor est.)\",\"$34K-$61K (Glassdoor est.)\",\"$34K-$61K (Glassdoor est.)\",\"$34K-$61K (Glassdoor est.)\",\"$24K-$48K (Glassdoor est.)\",\"$24K-$48K (Glassdoor est.)\",\"$24K-$48K (Glassdoor est.)\",\"$24K-$48K (Glassdoor est.)\",\"$24K-$48K (Glassdoor est.)\",\"$24K-$48K (Glassdoor est.)\",\"$24K-$48K (Glassdoor est.)\",\"$24K-$48K (Glassdoor est.)\",\"$24K-$48K (Glassdoor est.)\",\"$24K-$48K (Glassdoor est.)\",\"$24K-$48K (Glassdoor est.)\",\"$24K-$48K (Glassdoor est.)\",\"$24K-$48K (Glassdoor est.)\",\"$24K-$48K (Glassdoor est.)\",\"$24K-$48K (Glassdoor est.)\",\"$24K-$48K (Glassdoor est.)\",\"$24K-$48K (Glassdoor est.)\",\"$24K-$48K (Glassdoor est.)\",\"$24K-$48K (Glassdoor est.)\",\"$24K-$48K (Glassdoor est.)\",\"$24K-$48K (Glassdoor est.)\",\"$24K-$48K (Glassdoor est.)\",\"$24K-$48K (Glassdoor est.)\",\"$24K-$48K (Glassdoor est.)\",\"$24K-$48K (Glassdoor est.)\",\"$24K-$48K (Glassdoor est.)\",\"$24K-$48K (Glassdoor est.)\",\"$24K-$48K (Glassdoor est.)\",\"$24K-$48K (Glassdoor est.)\",\"$30K-$53K (Glassdoor est.)\",\"$30K-$53K (Glassdoor est.)\",\"$30K-$53K (Glassdoor est.)\",\"$30K-$53K (Glassdoor est.)\",\"$30K-$53K (Glassdoor est.)\",\"$30K-$53K (Glassdoor est.)\",\"$30K-$53K (Glassdoor est.)\",\"$30K-$53K (Glassdoor est.)\",\"$30K-$53K (Glassdoor est.)\",\"$30K-$53K (Glassdoor est.)\",\"$30K-$53K (Glassdoor est.)\",\"$30K-$53K (Glassdoor est.)\",\"$30K-$53K (Glassdoor est.)\",\"$30K-$53K (Glassdoor est.)\",\"$30K-$53K (Glassdoor est.)\",\"$30K-$53K (Glassdoor est.)\",\"$30K-$53K (Glassdoor est.)\",\"$30K-$53K (Glassdoor est.)\",\"$30K-$53K (Glassdoor est.)\",\"$30K-$53K (Glassdoor est.)\",\"$30K-$53K (Glassdoor est.)\",\"$30K-$53K (Glassdoor est.)\",\"$30K-$53K (Glassdoor est.)\",\"$30K-$53K (Glassdoor est.)\",\"$30K-$53K (Glassdoor est.)\",\"$30K-$53K (Glassdoor est.)\",\"$30K-$53K (Glassdoor est.)\",\"$30K-$53K (Glassdoor est.)\",\"$30K-$53K (Glassdoor est.)\",\"$30K-$53K (Glassdoor est.)\",\"$41K-$86K (Glassdoor est.)\",\"$41K-$86K (Glassdoor est.)\",\"$41K-$86K (Glassdoor est.)\",\"$41K-$86K (Glassdoor est.)\",\"$41K-$86K (Glassdoor est.)\",\"$41K-$86K (Glassdoor est.)\",\"$41K-$86K (Glassdoor est.)\",\"$41K-$86K (Glassdoor est.)\",\"$41K-$86K (Glassdoor est.)\",\"$41K-$86K (Glassdoor est.)\",\"$41K-$86K (Glassdoor est.)\",\"$41K-$86K (Glassdoor est.)\",\"$41K-$86K (Glassdoor est.)\",\"$41K-$86K (Glassdoor est.)\",\"$41K-$86K (Glassdoor est.)\",\"$41K-$86K (Glassdoor est.)\",\"$41K-$86K (Glassdoor est.)\",\"$41K-$86K (Glassdoor est.)\",\"$41K-$86K (Glassdoor est.)\",\"$41K-$86K (Glassdoor est.)\",\"$41K-$86K (Glassdoor est.)\",\"$41K-$86K (Glassdoor est.)\",\"$41K-$86K (Glassdoor est.)\",\"$41K-$86K (Glassdoor est.)\",\"$41K-$86K (Glassdoor est.)\",\"$41K-$86K (Glassdoor est.)\",\"$41K-$86K (Glassdoor est.)\",\"$41K-$86K (Glassdoor est.)\",\"$41K-$86K (Glassdoor est.)\",\"$44K-$82K (Glassdoor est.)\",\"$44K-$82K (Glassdoor est.)\",\"$44K-$82K (Glassdoor est.)\",\"$44K-$82K (Glassdoor est.)\",\"$44K-$82K (Glassdoor est.)\",\"$44K-$82K (Glassdoor est.)\",\"$44K-$82K (Glassdoor est.)\",\"$44K-$82K (Glassdoor est.)\",\"$44K-$82K (Glassdoor est.)\",\"$44K-$82K (Glassdoor est.)\",\"$44K-$82K (Glassdoor est.)\",\"$44K-$82K (Glassdoor est.)\",\"$44K-$82K (Glassdoor est.)\",\"$44K-$82K (Glassdoor est.)\",\"$44K-$82K (Glassdoor est.)\",\"$44K-$82K (Glassdoor est.)\",\"$44K-$82K (Glassdoor est.)\",\"$44K-$82K (Glassdoor est.)\",\"$44K-$82K (Glassdoor est.)\",\"$44K-$82K (Glassdoor est.)\",\"$44K-$82K (Glassdoor est.)\",\"$44K-$82K (Glassdoor est.)\",\"$44K-$82K (Glassdoor est.)\",\"$44K-$82K (Glassdoor est.)\",\"$44K-$82K (Glassdoor est.)\",\"$44K-$82K (Glassdoor est.)\",\"$44K-$82K (Glassdoor est.)\",\"$44K-$82K (Glassdoor est.)\",\"$48K-$88K (Glassdoor est.)\",\"$48K-$88K (Glassdoor est.)\",\"$48K-$88K (Glassdoor est.)\",\"$48K-$88K (Glassdoor est.)\",\"$48K-$88K (Glassdoor est.)\",\"$48K-$88K (Glassdoor est.)\",\"$48K-$88K (Glassdoor est.)\",\"$48K-$88K (Glassdoor est.)\",\"$48K-$88K (Glassdoor est.)\",\"$48K-$88K (Glassdoor est.)\",\"$48K-$88K (Glassdoor est.)\",\"$48K-$88K (Glassdoor est.)\",\"$48K-$88K (Glassdoor est.)\",\"$48K-$88K (Glassdoor est.)\",\"$48K-$88K (Glassdoor est.)\",\"$48K-$88K (Glassdoor est.)\",\"$48K-$88K (Glassdoor est.)\",\"$48K-$88K (Glassdoor est.)\",\"$48K-$88K (Glassdoor est.)\",\"$48K-$88K (Glassdoor est.)\",\"$48K-$88K (Glassdoor est.)\",\"$48K-$88K (Glassdoor est.)\",\"$48K-$88K (Glassdoor est.)\",\"$48K-$88K (Glassdoor est.)\",\"$48K-$88K (Glassdoor est.)\",\"$48K-$88K (Glassdoor est.)\",\"$48K-$88K (Glassdoor est.)\",\"$44K-$78K (Glassdoor est.)\",\"$44K-$78K (Glassdoor est.)\",\"$44K-$78K (Glassdoor est.)\",\"$44K-$78K (Glassdoor est.)\",\"$44K-$78K (Glassdoor est.)\",\"$44K-$78K (Glassdoor est.)\",\"$44K-$78K (Glassdoor est.)\",\"$44K-$78K (Glassdoor est.)\",\"$44K-$78K (Glassdoor est.)\",\"$44K-$78K (Glassdoor est.)\",\"$44K-$78K (Glassdoor est.)\",\"$44K-$78K (Glassdoor est.)\",\"$110K-$190K (Glassdoor est.)\",\"$110K-$190K (Glassdoor est.)\",\"$110K-$190K (Glassdoor est.)\",\"$110K-$190K (Glassdoor est.)\",\"$110K-$190K (Glassdoor est.)\",\"$110K-$190K (Glassdoor est.)\",\"$110K-$190K (Glassdoor est.)\",\"$110K-$190K (Glassdoor est.)\",\"$110K-$190K (Glassdoor est.)\",\"$110K-$190K (Glassdoor est.)\",\"$110K-$190K (Glassdoor est.)\",\"$110K-$190K (Glassdoor est.)\",\"$110K-$190K (Glassdoor est.)\",\"$110K-$190K (Glassdoor est.)\",\"$110K-$190K (Glassdoor est.)\",\"$110K-$190K (Glassdoor est.)\",\"$110K-$190K (Glassdoor est.)\",\"$110K-$190K (Glassdoor est.)\",\"$110K-$190K (Glassdoor est.)\",\"$110K-$190K (Glassdoor est.)\",\"$110K-$190K (Glassdoor est.)\",\"$110K-$190K (Glassdoor est.)\",\"$110K-$190K (Glassdoor est.)\",\"$110K-$190K (Glassdoor est.)\",\"$110K-$190K (Glassdoor est.)\",\"$110K-$190K (Glassdoor est.)\",\"$110K-$190K (Glassdoor est.)\",\"$110K-$190K (Glassdoor est.)\",\"$110K-$190K (Glassdoor est.)\",\"$89K-$151K (Glassdoor est.)\",\"$89K-$151K (Glassdoor est.)\",\"$89K-$151K (Glassdoor est.)\",\"$89K-$151K (Glassdoor est.)\",\"$89K-$151K (Glassdoor est.)\",\"$89K-$151K (Glassdoor est.)\",\"$89K-$151K (Glassdoor est.)\",\"$89K-$151K (Glassdoor est.)\",\"$89K-$151K (Glassdoor est.)\",\"$89K-$151K (Glassdoor est.)\",\"$89K-$151K (Glassdoor est.)\",\"$89K-$151K (Glassdoor est.)\",\"$89K-$151K (Glassdoor est.)\",\"$89K-$151K (Glassdoor est.)\",\"$89K-$151K (Glassdoor est.)\",\"$89K-$151K (Glassdoor est.)\",\"$89K-$151K (Glassdoor est.)\",\"$89K-$151K (Glassdoor est.)\",\"$89K-$151K (Glassdoor est.)\",\"$89K-$151K (Glassdoor est.)\",\"$89K-$151K (Glassdoor est.)\",\"$89K-$151K (Glassdoor est.)\",\"$89K-$151K (Glassdoor est.)\",\"$89K-$151K (Glassdoor est.)\",\"$89K-$151K (Glassdoor est.)\",\"$89K-$151K (Glassdoor est.)\",\"$89K-$151K (Glassdoor est.)\",\"$89K-$151K (Glassdoor est.)\",\"$69K-$127K (Glassdoor est.)\",\"$69K-$127K (Glassdoor est.)\",\"$69K-$127K (Glassdoor est.)\",\"$69K-$127K (Glassdoor est.)\",\"$69K-$127K (Glassdoor est.)\",\"$69K-$127K (Glassdoor est.)\",\"$69K-$127K (Glassdoor est.)\",\"$69K-$127K (Glassdoor est.)\",\"$69K-$127K (Glassdoor est.)\",\"$69K-$127K (Glassdoor est.)\",\"$69K-$127K (Glassdoor est.)\",\"$69K-$127K (Glassdoor est.)\",\"$69K-$127K (Glassdoor est.)\",\"$69K-$127K (Glassdoor est.)\",\"$69K-$127K (Glassdoor est.)\",\"$69K-$127K (Glassdoor est.)\",\"$69K-$127K (Glassdoor est.)\",\"$69K-$127K (Glassdoor est.)\",\"$69K-$127K (Glassdoor est.)\",\"$69K-$127K (Glassdoor est.)\",\"$69K-$127K (Glassdoor est.)\",\"$69K-$127K (Glassdoor est.)\",\"$69K-$127K (Glassdoor est.)\",\"$69K-$127K (Glassdoor est.)\",\"$69K-$127K (Glassdoor est.)\",\"$69K-$127K (Glassdoor est.)\",\"$69K-$127K (Glassdoor est.)\",\"$69K-$127K (Glassdoor est.)\",\"$69K-$127K (Glassdoor est.)\",\"$69K-$127K (Glassdoor est.)\",\"$51K-$93K (Glassdoor est.)\",\"$51K-$93K (Glassdoor est.)\",\"$51K-$93K (Glassdoor est.)\",\"$51K-$93K (Glassdoor est.)\",\"$51K-$93K (Glassdoor est.)\",\"$51K-$93K (Glassdoor est.)\",\"$51K-$93K (Glassdoor est.)\",\"$51K-$93K (Glassdoor est.)\",\"$51K-$93K (Glassdoor est.)\",\"$51K-$93K (Glassdoor est.)\",\"$51K-$93K (Glassdoor est.)\",\"$51K-$93K (Glassdoor est.)\",\"$51K-$93K (Glassdoor est.)\",\"$51K-$93K (Glassdoor est.)\",\"$51K-$93K (Glassdoor est.)\",\"$51K-$93K (Glassdoor est.)\",\"$51K-$93K (Glassdoor est.)\",\"$51K-$93K (Glassdoor est.)\",\"$51K-$93K (Glassdoor est.)\",\"$51K-$93K (Glassdoor est.)\",\"$51K-$93K (Glassdoor est.)\",\"$51K-$93K (Glassdoor est.)\",\"$51K-$93K (Glassdoor est.)\",\"$51K-$93K (Glassdoor est.)\",\"$51K-$93K (Glassdoor est.)\",\"$51K-$93K (Glassdoor est.)\",\"$51K-$93K (Glassdoor est.)\",\"$51K-$93K (Glassdoor est.)\",\"$51K-$93K (Glassdoor est.)\",\"$58K-$93K (Glassdoor est.)\",\"$58K-$93K (Glassdoor est.)\",\"$58K-$93K (Glassdoor est.)\",\"$58K-$93K (Glassdoor est.)\",\"$58K-$93K (Glassdoor est.)\",\"$58K-$93K (Glassdoor est.)\",\"$58K-$93K (Glassdoor est.)\",\"$58K-$93K (Glassdoor est.)\",\"$58K-$93K (Glassdoor est.)\",\"$58K-$93K (Glassdoor est.)\",\"$58K-$93K (Glassdoor est.)\",\"$58K-$93K (Glassdoor est.)\",\"$58K-$93K (Glassdoor est.)\",\"$58K-$93K (Glassdoor est.)\",\"$58K-$93K (Glassdoor est.)\",\"$58K-$93K (Glassdoor est.)\",\"$58K-$93K (Glassdoor est.)\",\"$58K-$93K (Glassdoor est.)\",\"$58K-$93K (Glassdoor est.)\",\"$58K-$93K (Glassdoor est.)\",\"$58K-$93K (Glassdoor est.)\",\"$58K-$93K (Glassdoor est.)\",\"$58K-$93K (Glassdoor est.)\",\"$58K-$93K (Glassdoor est.)\",\"$58K-$93K (Glassdoor est.)\",\"$58K-$93K (Glassdoor est.)\",\"$58K-$93K (Glassdoor est.)\",\"$58K-$93K (Glassdoor est.)\",\"$58K-$93K (Glassdoor est.)\",\"$58K-$93K (Glassdoor est.)\",\"$58K-$93K (Glassdoor est.)\",\"$63K-$116K (Glassdoor est.)\",\"$63K-$116K (Glassdoor est.)\",\"$63K-$116K (Glassdoor est.)\",\"$63K-$116K (Glassdoor est.)\",\"$63K-$116K (Glassdoor est.)\",\"$63K-$116K (Glassdoor est.)\",\"$63K-$116K (Glassdoor est.)\",\"$63K-$116K (Glassdoor est.)\",\"$63K-$116K (Glassdoor est.)\",\"$63K-$116K (Glassdoor est.)\",\"$63K-$116K (Glassdoor est.)\",\"$63K-$116K (Glassdoor est.)\",\"$63K-$116K (Glassdoor est.)\",\"$63K-$116K (Glassdoor est.)\",\"$63K-$116K (Glassdoor est.)\",\"$63K-$116K (Glassdoor est.)\",\"$63K-$116K (Glassdoor est.)\",\"$63K-$116K (Glassdoor est.)\",\"$63K-$116K (Glassdoor est.)\",\"$63K-$116K (Glassdoor est.)\",\"$42K-$76K (Glassdoor est.)\",\"$42K-$76K (Glassdoor est.)\",\"$42K-$76K (Glassdoor est.)\",\"$42K-$76K (Glassdoor est.)\",\"$42K-$76K (Glassdoor est.)\",\"$42K-$76K (Glassdoor est.)\",\"$42K-$76K (Glassdoor est.)\",\"$42K-$76K (Glassdoor est.)\",\"$42K-$76K (Glassdoor est.)\",\"$42K-$76K (Glassdoor est.)\",\"$42K-$76K (Glassdoor est.)\",\"$42K-$76K (Glassdoor est.)\",\"$42K-$76K (Glassdoor est.)\",\"$42K-$76K (Glassdoor est.)\",\"$42K-$76K (Glassdoor est.)\",\"$42K-$76K (Glassdoor est.)\",\"$42K-$76K (Glassdoor est.)\",\"$42K-$76K (Glassdoor est.)\",\"$42K-$76K (Glassdoor est.)\",\"$42K-$76K (Glassdoor est.)\",\"$42K-$76K (Glassdoor est.)\",\"$42K-$76K (Glassdoor est.)\",\"$42K-$76K (Glassdoor est.)\",\"$42K-$76K (Glassdoor est.)\",\"$42K-$76K (Glassdoor est.)\",\"$42K-$76K (Glassdoor est.)\",\"$42K-$76K (Glassdoor est.)\",\"$53K-$104K (Glassdoor est.)\",\"$53K-$104K (Glassdoor est.)\",\"$53K-$104K (Glassdoor est.)\",\"$53K-$104K (Glassdoor est.)\",\"$53K-$104K (Glassdoor est.)\",\"$53K-$104K (Glassdoor est.)\",\"$53K-$104K (Glassdoor est.)\",\"$53K-$104K (Glassdoor est.)\",\"$53K-$104K (Glassdoor est.)\",\"$53K-$104K (Glassdoor est.)\",\"$53K-$104K (Glassdoor est.)\",\"$53K-$104K (Glassdoor est.)\",\"$53K-$104K (Glassdoor est.)\",\"$53K-$104K (Glassdoor est.)\",\"$53K-$104K (Glassdoor est.)\",\"$53K-$104K (Glassdoor est.)\",\"$53K-$104K (Glassdoor est.)\",\"$53K-$104K (Glassdoor est.)\",\"$53K-$104K (Glassdoor est.)\",\"$53K-$104K (Glassdoor est.)\",\"$53K-$104K (Glassdoor est.)\",\"$53K-$104K (Glassdoor est.)\",\"$53K-$104K (Glassdoor est.)\",\"$53K-$104K (Glassdoor est.)\",\"$53K-$104K (Glassdoor est.)\",\"$53K-$104K (Glassdoor est.)\",\"$35K-$42K (Glassdoor est.)\",\"$35K-$42K (Glassdoor est.)\",\"$35K-$42K (Glassdoor est.)\",\"$35K-$42K (Glassdoor est.)\",\"$35K-$42K (Glassdoor est.)\",\"$35K-$42K (Glassdoor est.)\",\"$35K-$42K (Glassdoor est.)\",\"$35K-$42K (Glassdoor est.)\",\"$35K-$42K (Glassdoor est.)\",\"$35K-$42K (Glassdoor est.)\",\"$35K-$42K (Glassdoor est.)\",\"$35K-$42K (Glassdoor est.)\",\"$35K-$42K (Glassdoor est.)\",\"$35K-$42K (Glassdoor est.)\",\"$35K-$42K (Glassdoor est.)\",\"$35K-$42K (Glassdoor est.)\",\"$35K-$42K (Glassdoor est.)\",\"$35K-$42K (Glassdoor est.)\",\"$35K-$42K (Glassdoor est.)\",\"$35K-$42K (Glassdoor est.)\",\"$35K-$42K (Glassdoor est.)\",\"$35K-$42K (Glassdoor est.)\",\"$35K-$42K (Glassdoor est.)\",\"$35K-$42K (Glassdoor est.)\",\"$35K-$42K (Glassdoor est.)\",\"$35K-$42K (Glassdoor est.)\",\"$35K-$42K (Glassdoor est.)\",\"$35K-$42K (Glassdoor est.)\",\"$35K-$42K (Glassdoor est.)\",\"$35K-$42K (Glassdoor est.)\",\"$43K-$77K (Glassdoor est.)\",\"$43K-$77K (Glassdoor est.)\",\"$43K-$77K (Glassdoor est.)\",\"$40K-$72K (Glassdoor est.)\",\"$40K-$72K (Glassdoor est.)\",\"$40K-$72K (Glassdoor est.)\",\"$40K-$72K (Glassdoor est.)\",\"$40K-$72K (Glassdoor est.)\",\"$40K-$72K (Glassdoor est.)\",\"$40K-$72K (Glassdoor est.)\",\"$40K-$72K (Glassdoor est.)\",\"$40K-$72K (Glassdoor est.)\",\"$40K-$72K (Glassdoor est.)\",\"$40K-$72K (Glassdoor est.)\",\"$40K-$72K (Glassdoor est.)\",\"$40K-$72K (Glassdoor est.)\",\"$40K-$72K (Glassdoor est.)\",\"$40K-$72K (Glassdoor est.)\",\"$40K-$72K (Glassdoor est.)\",\"$40K-$72K (Glassdoor est.)\",\"$40K-$72K (Glassdoor est.)\",\"$40K-$72K (Glassdoor est.)\",\"$50K-$86K (Glassdoor est.)\",\"$50K-$86K (Glassdoor est.)\",\"$50K-$86K (Glassdoor est.)\",\"$50K-$86K (Glassdoor est.)\",\"$50K-$86K (Glassdoor est.)\",\"$50K-$86K (Glassdoor est.)\",\"$50K-$86K (Glassdoor est.)\",\"$50K-$86K (Glassdoor est.)\",\"$50K-$86K (Glassdoor est.)\",\"$50K-$86K (Glassdoor est.)\",\"$50K-$86K (Glassdoor est.)\",\"$35K-$67K (Glassdoor est.)\",\"$35K-$67K (Glassdoor est.)\",\"$35K-$67K (Glassdoor est.)\",\"$35K-$67K (Glassdoor est.)\",\"$35K-$67K (Glassdoor est.)\",\"$35K-$67K (Glassdoor est.)\",\"$35K-$67K (Glassdoor est.)\",\"$57K-$70K (Glassdoor est.)\",\"$57K-$70K (Glassdoor est.)\",\"$28K-$52K (Glassdoor est.)\",\"$28K-$52K (Glassdoor est.)\",\"$28K-$52K (Glassdoor est.)\",\"$28K-$52K (Glassdoor est.)\",\"$28K-$52K (Glassdoor est.)\",\"$28K-$52K (Glassdoor est.)\",\"$28K-$52K (Glassdoor est.)\",\"$28K-$52K (Glassdoor est.)\",\"$28K-$52K (Glassdoor est.)\",\"$28K-$52K (Glassdoor est.)\",\"$28K-$52K (Glassdoor est.)\",\"$28K-$52K (Glassdoor est.)\",\"$28K-$52K (Glassdoor est.)\",\"$28K-$52K (Glassdoor est.)\",\"$28K-$52K (Glassdoor est.)\",\"$28K-$52K (Glassdoor est.)\",\"$28K-$52K (Glassdoor est.)\",\"$28K-$52K (Glassdoor est.)\",\"$28K-$52K (Glassdoor est.)\",\"$28K-$52K (Glassdoor est.)\",\"$28K-$52K (Glassdoor est.)\",\"$28K-$52K (Glassdoor est.)\",\"$28K-$52K (Glassdoor est.)\",\"$28K-$52K (Glassdoor est.)\",\"$28K-$52K (Glassdoor est.)\",\"$28K-$52K (Glassdoor est.)\",\"$28K-$52K (Glassdoor est.)\",\"$28K-$52K (Glassdoor est.)\",\"$46K-$86K (Glassdoor est.)\",\"$46K-$86K (Glassdoor est.)\",\"$46K-$86K (Glassdoor est.)\",\"$46K-$86K (Glassdoor est.)\",\"$46K-$86K (Glassdoor est.)\",\"$46K-$86K (Glassdoor est.)\",\"$46K-$86K (Glassdoor est.)\",\"$50K-$86K (Glassdoor est.)\",\"$50K-$86K (Glassdoor est.)\",\"$50K-$86K (Glassdoor est.)\",\"$50K-$86K (Glassdoor est.)\",\"$50K-$86K (Glassdoor est.)\",\"$50K-$86K (Glassdoor est.)\",\"$50K-$86K (Glassdoor est.)\",\"$50K-$86K (Glassdoor est.)\",\"$50K-$86K (Glassdoor est.)\",\"$50K-$86K (Glassdoor est.)\",\"$50K-$86K (Glassdoor est.)\",\"$50K-$86K (Glassdoor est.)\",\"$50K-$86K (Glassdoor est.)\",\"$50K-$86K (Glassdoor est.)\",\"$50K-$86K (Glassdoor est.)\",\"$50K-$86K (Glassdoor est.)\",\"$50K-$86K (Glassdoor est.)\",\"$50K-$86K (Glassdoor est.)\",\"$50K-$86K (Glassdoor est.)\",\"$50K-$86K (Glassdoor est.)\",\"$50K-$86K (Glassdoor est.)\",\"$50K-$86K (Glassdoor est.)\",\"$50K-$86K (Glassdoor est.)\",\"$50K-$86K (Glassdoor est.)\",\"$50K-$86K (Glassdoor est.)\",\"$50K-$86K (Glassdoor est.)\",\"$50K-$86K (Glassdoor est.)\",\"$50K-$86K (Glassdoor est.)\",\"$50K-$86K (Glassdoor est.)\",\"$50K-$86K (Glassdoor est.)\",\"$54K-$75K (Glassdoor est.)\",\"$54K-$75K (Glassdoor est.)\",\"$54K-$75K (Glassdoor est.)\",\"$54K-$75K (Glassdoor est.)\",\"$54K-$75K (Glassdoor est.)\",\"$54K-$75K (Glassdoor est.)\",\"$54K-$75K (Glassdoor est.)\",\"$54K-$75K (Glassdoor est.)\",\"$54K-$75K (Glassdoor est.)\",\"$54K-$75K (Glassdoor est.)\",\"$54K-$75K (Glassdoor est.)\",\"$54K-$75K (Glassdoor est.)\",\"$54K-$75K (Glassdoor est.)\",\"$54K-$75K (Glassdoor est.)\",\"$54K-$75K (Glassdoor est.)\",\"$54K-$75K (Glassdoor est.)\",\"$54K-$75K (Glassdoor est.)\",\"$54K-$75K (Glassdoor est.)\",\"$54K-$75K (Glassdoor est.)\",\"$54K-$75K (Glassdoor est.)\",\"$54K-$75K (Glassdoor est.)\",\"$54K-$75K (Glassdoor est.)\",\"$54K-$75K (Glassdoor est.)\",\"$54K-$75K (Glassdoor est.)\",\"$54K-$75K (Glassdoor est.)\",\"$54K-$75K (Glassdoor est.)\",\"$54K-$75K (Glassdoor est.)\",\"$54K-$75K (Glassdoor est.)\",\"$53K-$99K (Glassdoor est.)\",\"$53K-$99K (Glassdoor est.)\",\"$53K-$99K (Glassdoor est.)\",\"$53K-$99K (Glassdoor est.)\",\"$53K-$99K (Glassdoor est.)\",\"$53K-$99K (Glassdoor est.)\",\"$53K-$99K (Glassdoor est.)\",\"$53K-$99K (Glassdoor est.)\",\"$53K-$99K (Glassdoor est.)\",\"$53K-$99K (Glassdoor est.)\",\"$53K-$99K (Glassdoor est.)\",\"$53K-$99K (Glassdoor est.)\",\"$53K-$99K (Glassdoor est.)\",\"$53K-$99K (Glassdoor est.)\",\"$53K-$99K (Glassdoor est.)\",\"$53K-$99K (Glassdoor est.)\",\"$53K-$99K (Glassdoor est.)\",\"$53K-$99K (Glassdoor est.)\",\"$53K-$99K (Glassdoor est.)\",\"$53K-$99K (Glassdoor est.)\",\"$53K-$99K (Glassdoor est.)\",\"$53K-$99K (Glassdoor est.)\",\"$53K-$99K (Glassdoor est.)\",\"$53K-$99K (Glassdoor est.)\",\"$53K-$99K (Glassdoor est.)\",\"$40K-$74K (Glassdoor est.)\",\"$40K-$74K (Glassdoor est.)\",\"$40K-$74K (Glassdoor est.)\",\"$40K-$74K (Glassdoor est.)\",\"$40K-$74K (Glassdoor est.)\",\"$40K-$74K (Glassdoor est.)\",\"$40K-$74K (Glassdoor est.)\",\"$40K-$74K (Glassdoor est.)\",\"$40K-$74K (Glassdoor est.)\",\"$57K-$104K (Glassdoor est.)\",\"$57K-$104K (Glassdoor est.)\",\"$57K-$104K (Glassdoor est.)\",\"$57K-$104K (Glassdoor est.)\",\"$57K-$104K (Glassdoor est.)\",\"$57K-$104K (Glassdoor est.)\",\"$57K-$104K (Glassdoor est.)\",\"$57K-$104K (Glassdoor est.)\",\"$57K-$104K (Glassdoor est.)\",\"$57K-$104K (Glassdoor est.)\",\"$57K-$104K (Glassdoor est.)\",\"$57K-$104K (Glassdoor est.)\",\"$57K-$104K (Glassdoor est.)\",\"$57K-$104K (Glassdoor est.)\",\"$57K-$104K (Glassdoor est.)\",\"$57K-$104K (Glassdoor est.)\",\"$57K-$104K (Glassdoor est.)\",\"$57K-$104K (Glassdoor est.)\",\"$57K-$104K (Glassdoor est.)\",\"$57K-$104K (Glassdoor est.)\",\"$57K-$104K (Glassdoor est.)\",\"$57K-$104K (Glassdoor est.)\",\"$57K-$104K (Glassdoor est.)\",\"$57K-$104K (Glassdoor est.)\",\"$57K-$104K (Glassdoor est.)\",\"$57K-$104K (Glassdoor est.)\",\"$57K-$104K (Glassdoor est.)\",\"$99K-$178K (Glassdoor est.)\",\"$99K-$178K (Glassdoor est.)\",\"$99K-$178K (Glassdoor est.)\",\"$99K-$178K (Glassdoor est.)\",\"$99K-$178K (Glassdoor est.)\",\"$99K-$178K (Glassdoor est.)\",\"$99K-$178K (Glassdoor est.)\",\"$99K-$178K (Glassdoor est.)\",\"$99K-$178K (Glassdoor est.)\",\"$99K-$178K (Glassdoor est.)\",\"$99K-$178K (Glassdoor est.)\",\"$99K-$178K (Glassdoor est.)\",\"$99K-$178K (Glassdoor est.)\",\"$99K-$178K (Glassdoor est.)\",\"$99K-$178K (Glassdoor est.)\",\"$99K-$178K (Glassdoor est.)\",\"$99K-$178K (Glassdoor est.)\",\"$99K-$178K (Glassdoor est.)\",\"$99K-$178K (Glassdoor est.)\",\"$99K-$178K (Glassdoor est.)\",\"$99K-$178K (Glassdoor est.)\",\"$99K-$178K (Glassdoor est.)\",\"$99K-$178K (Glassdoor est.)\",\"$99K-$178K (Glassdoor est.)\",\"$99K-$178K (Glassdoor est.)\",\"$99K-$178K (Glassdoor est.)\",\"$99K-$178K (Glassdoor est.)\",\"$99K-$178K (Glassdoor est.)\",\"$93K-$159K (Glassdoor est.)\",\"$93K-$159K (Glassdoor est.)\",\"$93K-$159K (Glassdoor est.)\",\"$93K-$159K (Glassdoor est.)\",\"$93K-$159K (Glassdoor est.)\",\"$93K-$159K (Glassdoor est.)\",\"$93K-$159K (Glassdoor est.)\",\"$93K-$159K (Glassdoor est.)\",\"$93K-$159K (Glassdoor est.)\",\"$93K-$159K (Glassdoor est.)\",\"$93K-$159K (Glassdoor est.)\",\"$93K-$159K (Glassdoor est.)\",\"$93K-$159K (Glassdoor est.)\",\"$93K-$159K (Glassdoor est.)\",\"$93K-$159K (Glassdoor est.)\",\"$93K-$159K (Glassdoor est.)\",\"$93K-$159K (Glassdoor est.)\",\"$93K-$159K (Glassdoor est.)\",\"$93K-$159K (Glassdoor est.)\",\"$93K-$159K (Glassdoor est.)\",\"$93K-$159K (Glassdoor est.)\",\"$93K-$159K (Glassdoor est.)\",\"$93K-$159K (Glassdoor est.)\",\"$93K-$159K (Glassdoor est.)\",\"$93K-$159K (Glassdoor est.)\",\"$82K-$116K (Glassdoor est.)\",\"$82K-$116K (Glassdoor est.)\",\"$82K-$116K (Glassdoor est.)\",\"$82K-$116K (Glassdoor est.)\",\"$82K-$116K (Glassdoor est.)\",\"$82K-$116K (Glassdoor est.)\",\"$82K-$116K (Glassdoor est.)\",\"$82K-$116K (Glassdoor est.)\",\"$82K-$116K (Glassdoor est.)\",\"$82K-$116K (Glassdoor est.)\",\"$82K-$116K (Glassdoor est.)\",\"$82K-$116K (Glassdoor est.)\",\"$82K-$116K (Glassdoor est.)\",\"$82K-$116K (Glassdoor est.)\",\"$82K-$116K (Glassdoor est.)\",\"$82K-$116K (Glassdoor est.)\",\"$82K-$116K (Glassdoor est.)\",\"$82K-$116K (Glassdoor est.)\",\"$82K-$116K (Glassdoor est.)\",\"$82K-$116K (Glassdoor est.)\",\"$82K-$116K (Glassdoor est.)\",\"$82K-$116K (Glassdoor est.)\",\"$82K-$116K (Glassdoor est.)\",\"$82K-$116K (Glassdoor est.)\",\"$82K-$116K (Glassdoor est.)\",\"$82K-$116K (Glassdoor est.)\",\"$82K-$116K (Glassdoor est.)\",\"$82K-$116K (Glassdoor est.)\",\"$65K-$120K (Glassdoor est.)\",\"$65K-$120K (Glassdoor est.)\",\"$65K-$120K (Glassdoor est.)\",\"$65K-$120K (Glassdoor est.)\",\"$65K-$120K (Glassdoor est.)\",\"$65K-$120K (Glassdoor est.)\",\"$65K-$120K (Glassdoor est.)\",\"$65K-$120K (Glassdoor est.)\",\"$65K-$120K (Glassdoor est.)\",\"$65K-$120K (Glassdoor est.)\",\"$65K-$120K (Glassdoor est.)\",\"$65K-$120K (Glassdoor est.)\",\"$65K-$120K (Glassdoor est.)\",\"$65K-$120K (Glassdoor est.)\",\"$65K-$120K (Glassdoor est.)\",\"$65K-$120K (Glassdoor est.)\",\"$65K-$120K (Glassdoor est.)\",\"$65K-$120K (Glassdoor est.)\",\"$65K-$120K (Glassdoor est.)\",\"$65K-$120K (Glassdoor est.)\",\"$65K-$120K (Glassdoor est.)\",\"$65K-$120K (Glassdoor est.)\",\"$65K-$120K (Glassdoor est.)\",\"$65K-$120K (Glassdoor est.)\",\"$65K-$120K (Glassdoor est.)\",\"$65K-$120K (Glassdoor est.)\",\"$65K-$120K (Glassdoor est.)\",\"$65K-$120K (Glassdoor est.)\",\"$46K-$86K (Glassdoor est.)\",\"$46K-$86K (Glassdoor est.)\",\"$46K-$86K (Glassdoor est.)\",\"$46K-$86K (Glassdoor est.)\",\"$46K-$86K (Glassdoor est.)\",\"$46K-$86K (Glassdoor est.)\",\"$46K-$86K (Glassdoor est.)\",\"$46K-$86K (Glassdoor est.)\",\"$46K-$86K (Glassdoor est.)\",\"$46K-$86K (Glassdoor est.)\",\"$46K-$86K (Glassdoor est.)\",\"$46K-$86K (Glassdoor est.)\",\"$46K-$86K (Glassdoor est.)\",\"$46K-$86K (Glassdoor est.)\",\"$46K-$86K (Glassdoor est.)\",\"$46K-$86K (Glassdoor est.)\",\"$46K-$86K (Glassdoor est.)\",\"$46K-$86K (Glassdoor est.)\",\"$46K-$86K (Glassdoor est.)\",\"$46K-$86K (Glassdoor est.)\",\"$46K-$86K (Glassdoor est.)\",\"$46K-$86K (Glassdoor est.)\",\"$46K-$86K (Glassdoor est.)\",\"$47K-$74K (Glassdoor est.)\",\"$47K-$74K (Glassdoor est.)\",\"$47K-$74K (Glassdoor est.)\",\"$47K-$74K (Glassdoor est.)\",\"$47K-$74K (Glassdoor est.)\",\"$47K-$74K (Glassdoor est.)\",\"$47K-$74K (Glassdoor est.)\",\"$47K-$74K (Glassdoor est.)\",\"$47K-$74K (Glassdoor est.)\",\"$47K-$74K (Glassdoor est.)\",\"$47K-$74K (Glassdoor est.)\",\"$47K-$74K (Glassdoor est.)\",\"$47K-$74K (Glassdoor est.)\",\"$47K-$74K (Glassdoor est.)\",\"$47K-$74K (Glassdoor est.)\",\"$47K-$74K (Glassdoor est.)\",\"$47K-$74K (Glassdoor est.)\",\"$47K-$74K (Glassdoor est.)\",\"$47K-$74K (Glassdoor est.)\",\"$47K-$74K (Glassdoor est.)\",\"$47K-$74K (Glassdoor est.)\",\"$47K-$74K (Glassdoor est.)\",\"$47K-$74K (Glassdoor est.)\",\"$47K-$74K (Glassdoor est.)\",\"$47K-$74K (Glassdoor est.)\",\"$47K-$74K (Glassdoor est.)\",\"$34K-$61K (Glassdoor est.)\",\"$34K-$61K (Glassdoor est.)\",\"$34K-$61K (Glassdoor est.)\",\"$34K-$61K (Glassdoor est.)\",\"$34K-$61K (Glassdoor est.)\",\"$34K-$61K (Glassdoor est.)\",\"$34K-$61K (Glassdoor est.)\",\"$34K-$61K (Glassdoor est.)\",\"$34K-$61K (Glassdoor est.)\",\"$34K-$61K (Glassdoor est.)\",\"$34K-$61K (Glassdoor est.)\",\"$34K-$61K (Glassdoor est.)\",\"$34K-$61K (Glassdoor est.)\",\"$34K-$61K (Glassdoor est.)\",\"$34K-$61K (Glassdoor est.)\",\"$34K-$61K (Glassdoor est.)\",\"$34K-$61K (Glassdoor est.)\",\"$34K-$61K (Glassdoor est.)\",\"$34K-$61K (Glassdoor est.)\",\"$34K-$61K (Glassdoor est.)\",\"$34K-$61K (Glassdoor est.)\",\"$34K-$61K (Glassdoor est.)\",\"$34K-$61K (Glassdoor est.)\",\"$35K-$67K (Glassdoor est.)\",\"$35K-$67K (Glassdoor est.)\",\"$35K-$67K (Glassdoor est.)\",\"$35K-$67K (Glassdoor est.)\",\"$35K-$67K (Glassdoor est.)\",\"$35K-$67K (Glassdoor est.)\",\"$35K-$67K (Glassdoor est.)\",\"$35K-$67K (Glassdoor est.)\",\"$35K-$67K (Glassdoor est.)\",\"$35K-$67K (Glassdoor est.)\",\"$35K-$67K (Glassdoor est.)\",\"$35K-$67K (Glassdoor est.)\",\"$35K-$67K (Glassdoor est.)\",\"$35K-$67K (Glassdoor est.)\",\"$35K-$67K (Glassdoor est.)\",\"$35K-$67K (Glassdoor est.)\",\"$35K-$67K (Glassdoor est.)\",\"$35K-$67K (Glassdoor est.)\",\"$35K-$67K (Glassdoor est.)\",\"$35K-$67K (Glassdoor est.)\",\"$35K-$67K (Glassdoor est.)\",\"$35K-$67K (Glassdoor est.)\",\"$35K-$67K (Glassdoor est.)\",\"$35K-$67K (Glassdoor est.)\",\"$35K-$67K (Glassdoor est.)\",\"$35K-$67K (Glassdoor est.)\",\"$55K-$101K (Glassdoor est.)\",\"$55K-$101K (Glassdoor est.)\",\"$55K-$101K (Glassdoor est.)\",\"$55K-$101K (Glassdoor est.)\",\"$55K-$101K (Glassdoor est.)\",\"$55K-$101K (Glassdoor est.)\",\"$55K-$101K (Glassdoor est.)\",\"$55K-$101K (Glassdoor est.)\",\"$55K-$101K (Glassdoor est.)\",\"$55K-$101K (Glassdoor est.)\",\"$55K-$101K (Glassdoor est.)\",\"$55K-$101K (Glassdoor est.)\",\"$55K-$101K (Glassdoor est.)\",\"$55K-$101K (Glassdoor est.)\",\"$55K-$101K (Glassdoor est.)\",\"$55K-$101K (Glassdoor est.)\",\"$55K-$101K (Glassdoor est.)\",\"$55K-$101K (Glassdoor est.)\",\"$55K-$101K (Glassdoor est.)\",\"$55K-$101K (Glassdoor est.)\",\"$55K-$101K (Glassdoor est.)\",\"$55K-$101K (Glassdoor est.)\",\"$55K-$101K (Glassdoor est.)\",\"$55K-$101K (Glassdoor est.)\",\"$55K-$101K (Glassdoor est.)\",\"$55K-$101K (Glassdoor est.)\",\"$55K-$101K (Glassdoor est.)\",\"$32K-$56K (Glassdoor est.)\",\"$32K-$56K (Glassdoor est.)\",\"$32K-$56K (Glassdoor est.)\",\"$32K-$56K (Glassdoor est.)\",\"$36K-$67K (Glassdoor est.)\",\"$36K-$67K (Glassdoor est.)\",\"$36K-$67K (Glassdoor est.)\",\"$57K-$67K (Glassdoor est.)\",\"$57K-$67K (Glassdoor est.)\",\"$57K-$67K (Glassdoor est.)\",\"$57K-$67K (Glassdoor est.)\",\"$57K-$67K (Glassdoor est.)\",\"$57K-$67K (Glassdoor est.)\",\"$57K-$67K (Glassdoor est.)\",\"$57K-$67K (Glassdoor est.)\",\"$57K-$67K (Glassdoor est.)\",\"$57K-$67K (Glassdoor est.)\",\"$57K-$67K (Glassdoor est.)\",\"$57K-$67K (Glassdoor est.)\",\"$57K-$67K (Glassdoor est.)\",\"$57K-$67K (Glassdoor est.)\",\"$57K-$67K (Glassdoor est.)\",\"$57K-$67K (Glassdoor est.)\",\"$57K-$67K (Glassdoor est.)\",\"$57K-$67K (Glassdoor est.)\",\"$57K-$67K (Glassdoor est.)\",\"$57K-$67K (Glassdoor est.)\",\"$57K-$67K (Glassdoor est.)\",\"$57K-$67K (Glassdoor est.)\",\"$57K-$67K (Glassdoor est.)\",\"$57K-$67K (Glassdoor est.)\",\"$57K-$67K (Glassdoor est.)\",\"$57K-$67K (Glassdoor est.)\",\"$49K-$91K (Glassdoor est.)\",\"$49K-$91K (Glassdoor est.)\",\"$49K-$91K (Glassdoor est.)\",\"$49K-$91K (Glassdoor est.)\",\"$49K-$91K (Glassdoor est.)\",\"$49K-$91K (Glassdoor est.)\",\"$49K-$91K (Glassdoor est.)\",\"$49K-$91K (Glassdoor est.)\",\"$49K-$91K (Glassdoor est.)\",\"$49K-$91K (Glassdoor est.)\",\"$49K-$91K (Glassdoor est.)\",\"$49K-$91K (Glassdoor est.)\",\"$49K-$91K (Glassdoor est.)\",\"$49K-$91K (Glassdoor est.)\",\"$49K-$91K (Glassdoor est.)\",\"$49K-$91K (Glassdoor est.)\",\"$49K-$91K (Glassdoor est.)\",\"$49K-$91K (Glassdoor est.)\",\"$49K-$91K (Glassdoor est.)\",\"$49K-$91K (Glassdoor est.)\",\"$49K-$91K (Glassdoor est.)\",\"$49K-$91K (Glassdoor est.)\",\"$49K-$91K (Glassdoor est.)\",\"$49K-$91K (Glassdoor est.)\",\"$49K-$91K (Glassdoor est.)\",\"$49K-$91K (Glassdoor est.)\",\"$49K-$91K (Glassdoor est.)\",\"$49K-$91K (Glassdoor est.)\",\"$57K-$100K (Glassdoor est.)\",\"$57K-$100K (Glassdoor est.)\",\"$57K-$100K (Glassdoor est.)\",\"$57K-$100K (Glassdoor est.)\",\"$57K-$100K (Glassdoor est.)\",\"$57K-$100K (Glassdoor est.)\",\"$57K-$100K (Glassdoor est.)\",\"$57K-$100K (Glassdoor est.)\",\"$57K-$100K (Glassdoor est.)\",\"$57K-$100K (Glassdoor est.)\",\"$57K-$100K (Glassdoor est.)\",\"$57K-$100K (Glassdoor est.)\",\"$57K-$100K (Glassdoor est.)\",\"$57K-$100K (Glassdoor est.)\",\"$57K-$100K (Glassdoor est.)\",\"$57K-$100K (Glassdoor est.)\",\"$57K-$100K (Glassdoor est.)\",\"$57K-$100K (Glassdoor est.)\",\"$57K-$100K (Glassdoor est.)\",\"$57K-$100K (Glassdoor est.)\",\"$57K-$100K (Glassdoor est.)\",\"$57K-$100K (Glassdoor est.)\",\"$57K-$100K (Glassdoor est.)\",\"$57K-$100K (Glassdoor est.)\",\"$57K-$100K (Glassdoor est.)\",\"$57K-$100K (Glassdoor est.)\",\"$57K-$100K (Glassdoor est.)\",\"$78K-$104K (Glassdoor est.)\",\"$78K-$104K (Glassdoor est.)\",\"$78K-$104K (Glassdoor est.)\",\"$78K-$104K (Glassdoor est.)\",\"$78K-$104K (Glassdoor est.)\",\"$78K-$104K (Glassdoor est.)\",\"$78K-$104K (Glassdoor est.)\",\"$78K-$104K (Glassdoor est.)\",\"$78K-$104K (Glassdoor est.)\",\"$78K-$104K (Glassdoor est.)\",\"$78K-$104K (Glassdoor est.)\",\"$78K-$104K (Glassdoor est.)\",\"$78K-$104K (Glassdoor est.)\",\"$78K-$104K (Glassdoor est.)\",\"$78K-$104K (Glassdoor est.)\"],\"xaxis\":\"x\",\"yaxis\":\"y\",\"type\":\"histogram\"}],                        {\"template\":{\"data\":{\"bar\":[{\"error_x\":{\"color\":\"#2a3f5f\"},\"error_y\":{\"color\":\"#2a3f5f\"},\"marker\":{\"line\":{\"color\":\"#E5ECF6\",\"width\":0.5},\"pattern\":{\"fillmode\":\"overlay\",\"size\":10,\"solidity\":0.2}},\"type\":\"bar\"}],\"barpolar\":[{\"marker\":{\"line\":{\"color\":\"#E5ECF6\",\"width\":0.5},\"pattern\":{\"fillmode\":\"overlay\",\"size\":10,\"solidity\":0.2}},\"type\":\"barpolar\"}],\"carpet\":[{\"aaxis\":{\"endlinecolor\":\"#2a3f5f\",\"gridcolor\":\"white\",\"linecolor\":\"white\",\"minorgridcolor\":\"white\",\"startlinecolor\":\"#2a3f5f\"},\"baxis\":{\"endlinecolor\":\"#2a3f5f\",\"gridcolor\":\"white\",\"linecolor\":\"white\",\"minorgridcolor\":\"white\",\"startlinecolor\":\"#2a3f5f\"},\"type\":\"carpet\"}],\"choropleth\":[{\"colorbar\":{\"outlinewidth\":0,\"ticks\":\"\"},\"type\":\"choropleth\"}],\"contour\":[{\"colorbar\":{\"outlinewidth\":0,\"ticks\":\"\"},\"colorscale\":[[0.0,\"#0d0887\"],[0.1111111111111111,\"#46039f\"],[0.2222222222222222,\"#7201a8\"],[0.3333333333333333,\"#9c179e\"],[0.4444444444444444,\"#bd3786\"],[0.5555555555555556,\"#d8576b\"],[0.6666666666666666,\"#ed7953\"],[0.7777777777777778,\"#fb9f3a\"],[0.8888888888888888,\"#fdca26\"],[1.0,\"#f0f921\"]],\"type\":\"contour\"}],\"contourcarpet\":[{\"colorbar\":{\"outlinewidth\":0,\"ticks\":\"\"},\"type\":\"contourcarpet\"}],\"heatmap\":[{\"colorbar\":{\"outlinewidth\":0,\"ticks\":\"\"},\"colorscale\":[[0.0,\"#0d0887\"],[0.1111111111111111,\"#46039f\"],[0.2222222222222222,\"#7201a8\"],[0.3333333333333333,\"#9c179e\"],[0.4444444444444444,\"#bd3786\"],[0.5555555555555556,\"#d8576b\"],[0.6666666666666666,\"#ed7953\"],[0.7777777777777778,\"#fb9f3a\"],[0.8888888888888888,\"#fdca26\"],[1.0,\"#f0f921\"]],\"type\":\"heatmap\"}],\"heatmapgl\":[{\"colorbar\":{\"outlinewidth\":0,\"ticks\":\"\"},\"colorscale\":[[0.0,\"#0d0887\"],[0.1111111111111111,\"#46039f\"],[0.2222222222222222,\"#7201a8\"],[0.3333333333333333,\"#9c179e\"],[0.4444444444444444,\"#bd3786\"],[0.5555555555555556,\"#d8576b\"],[0.6666666666666666,\"#ed7953\"],[0.7777777777777778,\"#fb9f3a\"],[0.8888888888888888,\"#fdca26\"],[1.0,\"#f0f921\"]],\"type\":\"heatmapgl\"}],\"histogram\":[{\"marker\":{\"pattern\":{\"fillmode\":\"overlay\",\"size\":10,\"solidity\":0.2}},\"type\":\"histogram\"}],\"histogram2d\":[{\"colorbar\":{\"outlinewidth\":0,\"ticks\":\"\"},\"colorscale\":[[0.0,\"#0d0887\"],[0.1111111111111111,\"#46039f\"],[0.2222222222222222,\"#7201a8\"],[0.3333333333333333,\"#9c179e\"],[0.4444444444444444,\"#bd3786\"],[0.5555555555555556,\"#d8576b\"],[0.6666666666666666,\"#ed7953\"],[0.7777777777777778,\"#fb9f3a\"],[0.8888888888888888,\"#fdca26\"],[1.0,\"#f0f921\"]],\"type\":\"histogram2d\"}],\"histogram2dcontour\":[{\"colorbar\":{\"outlinewidth\":0,\"ticks\":\"\"},\"colorscale\":[[0.0,\"#0d0887\"],[0.1111111111111111,\"#46039f\"],[0.2222222222222222,\"#7201a8\"],[0.3333333333333333,\"#9c179e\"],[0.4444444444444444,\"#bd3786\"],[0.5555555555555556,\"#d8576b\"],[0.6666666666666666,\"#ed7953\"],[0.7777777777777778,\"#fb9f3a\"],[0.8888888888888888,\"#fdca26\"],[1.0,\"#f0f921\"]],\"type\":\"histogram2dcontour\"}],\"mesh3d\":[{\"colorbar\":{\"outlinewidth\":0,\"ticks\":\"\"},\"type\":\"mesh3d\"}],\"parcoords\":[{\"line\":{\"colorbar\":{\"outlinewidth\":0,\"ticks\":\"\"}},\"type\":\"parcoords\"}],\"pie\":[{\"automargin\":true,\"type\":\"pie\"}],\"scatter\":[{\"marker\":{\"colorbar\":{\"outlinewidth\":0,\"ticks\":\"\"}},\"type\":\"scatter\"}],\"scatter3d\":[{\"line\":{\"colorbar\":{\"outlinewidth\":0,\"ticks\":\"\"}},\"marker\":{\"colorbar\":{\"outlinewidth\":0,\"ticks\":\"\"}},\"type\":\"scatter3d\"}],\"scattercarpet\":[{\"marker\":{\"colorbar\":{\"outlinewidth\":0,\"ticks\":\"\"}},\"type\":\"scattercarpet\"}],\"scattergeo\":[{\"marker\":{\"colorbar\":{\"outlinewidth\":0,\"ticks\":\"\"}},\"type\":\"scattergeo\"}],\"scattergl\":[{\"marker\":{\"colorbar\":{\"outlinewidth\":0,\"ticks\":\"\"}},\"type\":\"scattergl\"}],\"scattermapbox\":[{\"marker\":{\"colorbar\":{\"outlinewidth\":0,\"ticks\":\"\"}},\"type\":\"scattermapbox\"}],\"scatterpolar\":[{\"marker\":{\"colorbar\":{\"outlinewidth\":0,\"ticks\":\"\"}},\"type\":\"scatterpolar\"}],\"scatterpolargl\":[{\"marker\":{\"colorbar\":{\"outlinewidth\":0,\"ticks\":\"\"}},\"type\":\"scatterpolargl\"}],\"scatterternary\":[{\"marker\":{\"colorbar\":{\"outlinewidth\":0,\"ticks\":\"\"}},\"type\":\"scatterternary\"}],\"surface\":[{\"colorbar\":{\"outlinewidth\":0,\"ticks\":\"\"},\"colorscale\":[[0.0,\"#0d0887\"],[0.1111111111111111,\"#46039f\"],[0.2222222222222222,\"#7201a8\"],[0.3333333333333333,\"#9c179e\"],[0.4444444444444444,\"#bd3786\"],[0.5555555555555556,\"#d8576b\"],[0.6666666666666666,\"#ed7953\"],[0.7777777777777778,\"#fb9f3a\"],[0.8888888888888888,\"#fdca26\"],[1.0,\"#f0f921\"]],\"type\":\"surface\"}],\"table\":[{\"cells\":{\"fill\":{\"color\":\"#EBF0F8\"},\"line\":{\"color\":\"white\"}},\"header\":{\"fill\":{\"color\":\"#C8D4E3\"},\"line\":{\"color\":\"white\"}},\"type\":\"table\"}]},\"layout\":{\"annotationdefaults\":{\"arrowcolor\":\"#2a3f5f\",\"arrowhead\":0,\"arrowwidth\":1},\"autotypenumbers\":\"strict\",\"coloraxis\":{\"colorbar\":{\"outlinewidth\":0,\"ticks\":\"\"}},\"colorscale\":{\"diverging\":[[0,\"#8e0152\"],[0.1,\"#c51b7d\"],[0.2,\"#de77ae\"],[0.3,\"#f1b6da\"],[0.4,\"#fde0ef\"],[0.5,\"#f7f7f7\"],[0.6,\"#e6f5d0\"],[0.7,\"#b8e186\"],[0.8,\"#7fbc41\"],[0.9,\"#4d9221\"],[1,\"#276419\"]],\"sequential\":[[0.0,\"#0d0887\"],[0.1111111111111111,\"#46039f\"],[0.2222222222222222,\"#7201a8\"],[0.3333333333333333,\"#9c179e\"],[0.4444444444444444,\"#bd3786\"],[0.5555555555555556,\"#d8576b\"],[0.6666666666666666,\"#ed7953\"],[0.7777777777777778,\"#fb9f3a\"],[0.8888888888888888,\"#fdca26\"],[1.0,\"#f0f921\"]],\"sequentialminus\":[[0.0,\"#0d0887\"],[0.1111111111111111,\"#46039f\"],[0.2222222222222222,\"#7201a8\"],[0.3333333333333333,\"#9c179e\"],[0.4444444444444444,\"#bd3786\"],[0.5555555555555556,\"#d8576b\"],[0.6666666666666666,\"#ed7953\"],[0.7777777777777778,\"#fb9f3a\"],[0.8888888888888888,\"#fdca26\"],[1.0,\"#f0f921\"]]},\"colorway\":[\"#636efa\",\"#EF553B\",\"#00cc96\",\"#ab63fa\",\"#FFA15A\",\"#19d3f3\",\"#FF6692\",\"#B6E880\",\"#FF97FF\",\"#FECB52\"],\"font\":{\"color\":\"#2a3f5f\"},\"geo\":{\"bgcolor\":\"white\",\"lakecolor\":\"white\",\"landcolor\":\"#E5ECF6\",\"showlakes\":true,\"showland\":true,\"subunitcolor\":\"white\"},\"hoverlabel\":{\"align\":\"left\"},\"hovermode\":\"closest\",\"mapbox\":{\"style\":\"light\"},\"paper_bgcolor\":\"white\",\"plot_bgcolor\":\"#E5ECF6\",\"polar\":{\"angularaxis\":{\"gridcolor\":\"white\",\"linecolor\":\"white\",\"ticks\":\"\"},\"bgcolor\":\"#E5ECF6\",\"radialaxis\":{\"gridcolor\":\"white\",\"linecolor\":\"white\",\"ticks\":\"\"}},\"scene\":{\"xaxis\":{\"backgroundcolor\":\"#E5ECF6\",\"gridcolor\":\"white\",\"gridwidth\":2,\"linecolor\":\"white\",\"showbackground\":true,\"ticks\":\"\",\"zerolinecolor\":\"white\"},\"yaxis\":{\"backgroundcolor\":\"#E5ECF6\",\"gridcolor\":\"white\",\"gridwidth\":2,\"linecolor\":\"white\",\"showbackground\":true,\"ticks\":\"\",\"zerolinecolor\":\"white\"},\"zaxis\":{\"backgroundcolor\":\"#E5ECF6\",\"gridcolor\":\"white\",\"gridwidth\":2,\"linecolor\":\"white\",\"showbackground\":true,\"ticks\":\"\",\"zerolinecolor\":\"white\"}},\"shapedefaults\":{\"line\":{\"color\":\"#2a3f5f\"}},\"ternary\":{\"aaxis\":{\"gridcolor\":\"white\",\"linecolor\":\"white\",\"ticks\":\"\"},\"baxis\":{\"gridcolor\":\"white\",\"linecolor\":\"white\",\"ticks\":\"\"},\"bgcolor\":\"#E5ECF6\",\"caxis\":{\"gridcolor\":\"white\",\"linecolor\":\"white\",\"ticks\":\"\"}},\"title\":{\"x\":0.05},\"xaxis\":{\"automargin\":true,\"gridcolor\":\"white\",\"linecolor\":\"white\",\"ticks\":\"\",\"title\":{\"standoff\":15},\"zerolinecolor\":\"white\",\"zerolinewidth\":2},\"yaxis\":{\"automargin\":true,\"gridcolor\":\"white\",\"linecolor\":\"white\",\"ticks\":\"\",\"title\":{\"standoff\":15},\"zerolinecolor\":\"white\",\"zerolinewidth\":2}}},\"xaxis\":{\"anchor\":\"y\",\"domain\":[0.0,1.0],\"title\":{\"text\":\"value\"}},\"yaxis\":{\"anchor\":\"x\",\"domain\":[0.0,1.0],\"title\":{\"text\":\"count\"}},\"legend\":{\"title\":{\"text\":\"variable\"},\"tracegroupgap\":0},\"margin\":{\"t\":60},\"barmode\":\"relative\"},                        {\"responsive\": true}                    ).then(function(){\n",
       "                            \n",
       "var gd = document.getElementById('235a45e3-ff0e-49e1-800b-c3668245b31d');\n",
       "var x = new MutationObserver(function (mutations, observer) {{\n",
       "        var display = window.getComputedStyle(gd).display;\n",
       "        if (!display || display === 'none') {{\n",
       "            console.log([gd, 'removed!']);\n",
       "            Plotly.purge(gd);\n",
       "            observer.disconnect();\n",
       "        }}\n",
       "}});\n",
       "\n",
       "// Listen for the removal of the full notebook cells\n",
       "var notebookContainer = gd.closest('#notebook-container');\n",
       "if (notebookContainer) {{\n",
       "    x.observe(notebookContainer, {childList: true});\n",
       "}}\n",
       "\n",
       "// Listen for the clearing of the current output cell\n",
       "var outputEl = gd.closest('.output');\n",
       "if (outputEl) {{\n",
       "    x.observe(outputEl, {childList: true});\n",
       "}}\n",
       "\n",
       "                        })                };                            </script>        </div>\n",
       "</body>\n",
       "</html>"
      ]
     },
     "metadata": {},
     "output_type": "display_data"
    }
   ],
   "source": [
    "px.histogram(df['Salary Estimate'])"
   ]
  },
  {
   "cell_type": "markdown",
   "metadata": {
    "id": "-gvfz922x_BI"
   },
   "source": [
    "## Feature engineering"
   ]
  },
  {
   "cell_type": "code",
   "execution_count": 39,
   "metadata": {
    "id": "lt78m7NwFB_x"
   },
   "outputs": [],
   "source": [
    "df[\"min_salary(K)\"] = df[\"Salary Estimate\"].str.lstrip(\"$\").str[:3].str.replace(\"K\", \"\").str.strip().astype(\"float\")"
   ]
  },
  {
   "cell_type": "code",
   "execution_count": 40,
   "metadata": {
    "id": "DNwFAMZBOVX-"
   },
   "outputs": [],
   "source": [
    "df[\"max_salary(K)\"] = df['Salary Estimate'].str[6:10].str.replace('K','').str.lstrip('$').str.strip().astype('float')"
   ]
  },
  {
   "cell_type": "code",
   "execution_count": 41,
   "metadata": {
    "colab": {
     "base_uri": "https://localhost:8080/",
     "height": 600
    },
    "id": "dL26SZe1PClV",
    "outputId": "8601c25b-65ed-43c7-a64a-a8b1d3c2138c"
   },
   "outputs": [
    {
     "data": {
      "text/html": [
       "\n",
       "  <div id=\"df-bf216817-9401-4dbe-9534-287bb811ec54\">\n",
       "    <div class=\"colab-df-container\">\n",
       "      <div>\n",
       "<style scoped>\n",
       "    .dataframe tbody tr th:only-of-type {\n",
       "        vertical-align: middle;\n",
       "    }\n",
       "\n",
       "    .dataframe tbody tr th {\n",
       "        vertical-align: top;\n",
       "    }\n",
       "\n",
       "    .dataframe thead th {\n",
       "        text-align: right;\n",
       "    }\n",
       "</style>\n",
       "<table border=\"1\" class=\"dataframe\">\n",
       "  <thead>\n",
       "    <tr style=\"text-align: right;\">\n",
       "      <th></th>\n",
       "      <th>Job Title</th>\n",
       "      <th>Salary Estimate</th>\n",
       "      <th>Job Description</th>\n",
       "      <th>Rating</th>\n",
       "      <th>Company Name</th>\n",
       "      <th>Location</th>\n",
       "      <th>Headquarters</th>\n",
       "      <th>Size</th>\n",
       "      <th>Founded</th>\n",
       "      <th>Type of ownership</th>\n",
       "      <th>Industry</th>\n",
       "      <th>Sector</th>\n",
       "      <th>Revenue</th>\n",
       "      <th>Competitors</th>\n",
       "      <th>Easy Apply</th>\n",
       "      <th>min_salary(K)</th>\n",
       "      <th>max_salary(K)</th>\n",
       "    </tr>\n",
       "  </thead>\n",
       "  <tbody>\n",
       "    <tr>\n",
       "      <th>0</th>\n",
       "      <td>Data Analyst, Center on Immigration and Justic...</td>\n",
       "      <td>$37K-$66K (Glassdoor est.)</td>\n",
       "      <td>Are you eager to roll up your sleeves and harn...</td>\n",
       "      <td>3.2</td>\n",
       "      <td>Vera Institute of Justice\\n3.2</td>\n",
       "      <td>New York, NY</td>\n",
       "      <td>New York, NY</td>\n",
       "      <td>201 to 500 employees</td>\n",
       "      <td>1961.0</td>\n",
       "      <td>Nonprofit Organization</td>\n",
       "      <td>Social Assistance</td>\n",
       "      <td>Non-Profit</td>\n",
       "      <td>$100 to $500 million (USD)</td>\n",
       "      <td>not mentioned</td>\n",
       "      <td>True</td>\n",
       "      <td>37.0</td>\n",
       "      <td>66.0</td>\n",
       "    </tr>\n",
       "    <tr>\n",
       "      <th>1</th>\n",
       "      <td>Quality Data Analyst</td>\n",
       "      <td>$37K-$66K (Glassdoor est.)</td>\n",
       "      <td>Overview\\n\\nProvides analytical and technical ...</td>\n",
       "      <td>3.8</td>\n",
       "      <td>Visiting Nurse Service of New York\\n3.8</td>\n",
       "      <td>New York, NY</td>\n",
       "      <td>New York, NY</td>\n",
       "      <td>10000+ employees</td>\n",
       "      <td>1893.0</td>\n",
       "      <td>Nonprofit Organization</td>\n",
       "      <td>Health Care Services &amp; Hospitals</td>\n",
       "      <td>Health Care</td>\n",
       "      <td>$2 to $5 billion (USD)</td>\n",
       "      <td>not mentioned</td>\n",
       "      <td>apply on company website</td>\n",
       "      <td>37.0</td>\n",
       "      <td>66.0</td>\n",
       "    </tr>\n",
       "    <tr>\n",
       "      <th>2</th>\n",
       "      <td>Senior Data Analyst, Insights &amp; Analytics Team...</td>\n",
       "      <td>$37K-$66K (Glassdoor est.)</td>\n",
       "      <td>We’re looking for a Senior Data Analyst who ha...</td>\n",
       "      <td>3.4</td>\n",
       "      <td>Squarespace\\n3.4</td>\n",
       "      <td>New York, NY</td>\n",
       "      <td>New York, NY</td>\n",
       "      <td>1001 to 5000 employees</td>\n",
       "      <td>2003.0</td>\n",
       "      <td>Company - Private</td>\n",
       "      <td>Internet</td>\n",
       "      <td>Information Technology</td>\n",
       "      <td>Unknown / Non-Applicable</td>\n",
       "      <td>GoDaddy</td>\n",
       "      <td>apply on company website</td>\n",
       "      <td>37.0</td>\n",
       "      <td>66.0</td>\n",
       "    </tr>\n",
       "    <tr>\n",
       "      <th>3</th>\n",
       "      <td>Data Analyst</td>\n",
       "      <td>$37K-$66K (Glassdoor est.)</td>\n",
       "      <td>Requisition NumberRR-0001939\\nRemote:Yes\\nWe c...</td>\n",
       "      <td>4.1</td>\n",
       "      <td>Celerity\\n4.1</td>\n",
       "      <td>New York, NY</td>\n",
       "      <td>McLean, VA</td>\n",
       "      <td>201 to 500 employees</td>\n",
       "      <td>2002.0</td>\n",
       "      <td>Subsidiary or Business Segment</td>\n",
       "      <td>IT Services</td>\n",
       "      <td>Information Technology</td>\n",
       "      <td>$50 to $100 million (USD)</td>\n",
       "      <td>not mentioned</td>\n",
       "      <td>apply on company website</td>\n",
       "      <td>37.0</td>\n",
       "      <td>66.0</td>\n",
       "    </tr>\n",
       "    <tr>\n",
       "      <th>4</th>\n",
       "      <td>Reporting Data Analyst</td>\n",
       "      <td>$37K-$66K (Glassdoor est.)</td>\n",
       "      <td>ABOUT FANDUEL GROUP\\n\\nFanDuel Group is a worl...</td>\n",
       "      <td>3.9</td>\n",
       "      <td>FanDuel\\n3.9</td>\n",
       "      <td>New York, NY</td>\n",
       "      <td>New York, NY</td>\n",
       "      <td>501 to 1000 employees</td>\n",
       "      <td>2009.0</td>\n",
       "      <td>Company - Private</td>\n",
       "      <td>Sports &amp; Recreation</td>\n",
       "      <td>Arts, Entertainment &amp; Recreation</td>\n",
       "      <td>$100 to $500 million (USD)</td>\n",
       "      <td>DraftKings</td>\n",
       "      <td>True</td>\n",
       "      <td>37.0</td>\n",
       "      <td>66.0</td>\n",
       "    </tr>\n",
       "  </tbody>\n",
       "</table>\n",
       "</div>\n",
       "      <button class=\"colab-df-convert\" onclick=\"convertToInteractive('df-bf216817-9401-4dbe-9534-287bb811ec54')\"\n",
       "              title=\"Convert this dataframe to an interactive table.\"\n",
       "              style=\"display:none;\">\n",
       "        \n",
       "  <svg xmlns=\"http://www.w3.org/2000/svg\" height=\"24px\"viewBox=\"0 0 24 24\"\n",
       "       width=\"24px\">\n",
       "    <path d=\"M0 0h24v24H0V0z\" fill=\"none\"/>\n",
       "    <path d=\"M18.56 5.44l.94 2.06.94-2.06 2.06-.94-2.06-.94-.94-2.06-.94 2.06-2.06.94zm-11 1L8.5 8.5l.94-2.06 2.06-.94-2.06-.94L8.5 2.5l-.94 2.06-2.06.94zm10 10l.94 2.06.94-2.06 2.06-.94-2.06-.94-.94-2.06-.94 2.06-2.06.94z\"/><path d=\"M17.41 7.96l-1.37-1.37c-.4-.4-.92-.59-1.43-.59-.52 0-1.04.2-1.43.59L10.3 9.45l-7.72 7.72c-.78.78-.78 2.05 0 2.83L4 21.41c.39.39.9.59 1.41.59.51 0 1.02-.2 1.41-.59l7.78-7.78 2.81-2.81c.8-.78.8-2.07 0-2.86zM5.41 20L4 18.59l7.72-7.72 1.47 1.35L5.41 20z\"/>\n",
       "  </svg>\n",
       "      </button>\n",
       "      \n",
       "  <style>\n",
       "    .colab-df-container {\n",
       "      display:flex;\n",
       "      flex-wrap:wrap;\n",
       "      gap: 12px;\n",
       "    }\n",
       "\n",
       "    .colab-df-convert {\n",
       "      background-color: #E8F0FE;\n",
       "      border: none;\n",
       "      border-radius: 50%;\n",
       "      cursor: pointer;\n",
       "      display: none;\n",
       "      fill: #1967D2;\n",
       "      height: 32px;\n",
       "      padding: 0 0 0 0;\n",
       "      width: 32px;\n",
       "    }\n",
       "\n",
       "    .colab-df-convert:hover {\n",
       "      background-color: #E2EBFA;\n",
       "      box-shadow: 0px 1px 2px rgba(60, 64, 67, 0.3), 0px 1px 3px 1px rgba(60, 64, 67, 0.15);\n",
       "      fill: #174EA6;\n",
       "    }\n",
       "\n",
       "    [theme=dark] .colab-df-convert {\n",
       "      background-color: #3B4455;\n",
       "      fill: #D2E3FC;\n",
       "    }\n",
       "\n",
       "    [theme=dark] .colab-df-convert:hover {\n",
       "      background-color: #434B5C;\n",
       "      box-shadow: 0px 1px 3px 1px rgba(0, 0, 0, 0.15);\n",
       "      filter: drop-shadow(0px 1px 2px rgba(0, 0, 0, 0.3));\n",
       "      fill: #FFFFFF;\n",
       "    }\n",
       "  </style>\n",
       "\n",
       "      <script>\n",
       "        const buttonEl =\n",
       "          document.querySelector('#df-bf216817-9401-4dbe-9534-287bb811ec54 button.colab-df-convert');\n",
       "        buttonEl.style.display =\n",
       "          google.colab.kernel.accessAllowed ? 'block' : 'none';\n",
       "\n",
       "        async function convertToInteractive(key) {\n",
       "          const element = document.querySelector('#df-bf216817-9401-4dbe-9534-287bb811ec54');\n",
       "          const dataTable =\n",
       "            await google.colab.kernel.invokeFunction('convertToInteractive',\n",
       "                                                     [key], {});\n",
       "          if (!dataTable) return;\n",
       "\n",
       "          const docLinkHtml = 'Like what you see? Visit the ' +\n",
       "            '<a target=\"_blank\" href=https://colab.research.google.com/notebooks/data_table.ipynb>data table notebook</a>'\n",
       "            + ' to learn more about interactive tables.';\n",
       "          element.innerHTML = '';\n",
       "          dataTable['output_type'] = 'display_data';\n",
       "          await google.colab.output.renderOutput(dataTable, element);\n",
       "          const docLink = document.createElement('div');\n",
       "          docLink.innerHTML = docLinkHtml;\n",
       "          element.appendChild(docLink);\n",
       "        }\n",
       "      </script>\n",
       "    </div>\n",
       "  </div>\n",
       "  "
      ],
      "text/plain": [
       "                                           Job Title  \\\n",
       "0  Data Analyst, Center on Immigration and Justic...   \n",
       "1                               Quality Data Analyst   \n",
       "2  Senior Data Analyst, Insights & Analytics Team...   \n",
       "3                                       Data Analyst   \n",
       "4                             Reporting Data Analyst   \n",
       "\n",
       "              Salary Estimate  \\\n",
       "0  $37K-$66K (Glassdoor est.)   \n",
       "1  $37K-$66K (Glassdoor est.)   \n",
       "2  $37K-$66K (Glassdoor est.)   \n",
       "3  $37K-$66K (Glassdoor est.)   \n",
       "4  $37K-$66K (Glassdoor est.)   \n",
       "\n",
       "                                     Job Description  Rating  \\\n",
       "0  Are you eager to roll up your sleeves and harn...     3.2   \n",
       "1  Overview\\n\\nProvides analytical and technical ...     3.8   \n",
       "2  We’re looking for a Senior Data Analyst who ha...     3.4   \n",
       "3  Requisition NumberRR-0001939\\nRemote:Yes\\nWe c...     4.1   \n",
       "4  ABOUT FANDUEL GROUP\\n\\nFanDuel Group is a worl...     3.9   \n",
       "\n",
       "                              Company Name      Location  Headquarters  \\\n",
       "0           Vera Institute of Justice\\n3.2  New York, NY  New York, NY   \n",
       "1  Visiting Nurse Service of New York\\n3.8  New York, NY  New York, NY   \n",
       "2                         Squarespace\\n3.4  New York, NY  New York, NY   \n",
       "3                            Celerity\\n4.1  New York, NY    McLean, VA   \n",
       "4                             FanDuel\\n3.9  New York, NY  New York, NY   \n",
       "\n",
       "                     Size  Founded               Type of ownership  \\\n",
       "0    201 to 500 employees   1961.0          Nonprofit Organization   \n",
       "1        10000+ employees   1893.0          Nonprofit Organization   \n",
       "2  1001 to 5000 employees   2003.0               Company - Private   \n",
       "3    201 to 500 employees   2002.0  Subsidiary or Business Segment   \n",
       "4   501 to 1000 employees   2009.0               Company - Private   \n",
       "\n",
       "                           Industry                            Sector  \\\n",
       "0                 Social Assistance                        Non-Profit   \n",
       "1  Health Care Services & Hospitals                       Health Care   \n",
       "2                          Internet            Information Technology   \n",
       "3                       IT Services            Information Technology   \n",
       "4               Sports & Recreation  Arts, Entertainment & Recreation   \n",
       "\n",
       "                      Revenue    Competitors                Easy Apply  \\\n",
       "0  $100 to $500 million (USD)  not mentioned                      True   \n",
       "1      $2 to $5 billion (USD)  not mentioned  apply on company website   \n",
       "2    Unknown / Non-Applicable        GoDaddy  apply on company website   \n",
       "3   $50 to $100 million (USD)  not mentioned  apply on company website   \n",
       "4  $100 to $500 million (USD)     DraftKings                      True   \n",
       "\n",
       "   min_salary(K)  max_salary(K)  \n",
       "0           37.0           66.0  \n",
       "1           37.0           66.0  \n",
       "2           37.0           66.0  \n",
       "3           37.0           66.0  \n",
       "4           37.0           66.0  "
      ]
     },
     "execution_count": 41,
     "metadata": {},
     "output_type": "execute_result"
    }
   ],
   "source": [
    "df.head()"
   ]
  },
  {
   "cell_type": "code",
   "execution_count": 42,
   "metadata": {
    "id": "YKdzRxAWPF5G"
   },
   "outputs": [],
   "source": [
    "df['avr_salary'] = (df['min_salary(K)'] + df['max_salary(K)'])/2"
   ]
  },
  {
   "cell_type": "markdown",
   "metadata": {
    "id": "BQxv0VhATPQn"
   },
   "source": [
    "let`s see the distribution of min,max and average salaries"
   ]
  },
  {
   "cell_type": "code",
   "execution_count": 43,
   "metadata": {
    "colab": {
     "base_uri": "https://localhost:8080/",
     "height": 542
    },
    "id": "4Qk8LiMdTVNC",
    "outputId": "8f5e0e91-5f8f-4686-b20b-7621ed8e0bb7"
   },
   "outputs": [
    {
     "data": {
      "text/html": [
       "<html>\n",
       "<head><meta charset=\"utf-8\" /></head>\n",
       "<body>\n",
       "    <div>            <script src=\"https://cdnjs.cloudflare.com/ajax/libs/mathjax/2.7.5/MathJax.js?config=TeX-AMS-MML_SVG\"></script><script type=\"text/javascript\">if (window.MathJax) {MathJax.Hub.Config({SVG: {font: \"STIX-Web\"}});}</script>                <script type=\"text/javascript\">window.PlotlyConfig = {MathJaxConfig: 'local'};</script>\n",
       "        <script src=\"https://cdn.plot.ly/plotly-2.8.3.min.js\"></script>                <div id=\"48103def-95df-4a2e-929d-bd89cbd33401\" class=\"plotly-graph-div\" style=\"height:525px; width:100%;\"></div>            <script type=\"text/javascript\">                                    window.PLOTLYENV=window.PLOTLYENV || {};                                    if (document.getElementById(\"48103def-95df-4a2e-929d-bd89cbd33401\")) {                    Plotly.newPlot(                        \"48103def-95df-4a2e-929d-bd89cbd33401\",                        [{\"alignmentgroup\":\"True\",\"bingroup\":\"x\",\"hovertemplate\":\"min_salary(K)=%{x}<br>count=%{y}<extra></extra>\",\"legendgroup\":\"\",\"marker\":{\"color\":\"#636efa\",\"pattern\":{\"shape\":\"\"}},\"name\":\"\",\"offsetgroup\":\"\",\"orientation\":\"v\",\"showlegend\":false,\"x\":[37.0,37.0,37.0,37.0,37.0,37.0,37.0,37.0,37.0,37.0,37.0,37.0,37.0,37.0,37.0,37.0,37.0,37.0,37.0,37.0,37.0,37.0,37.0,37.0,37.0,37.0,37.0,37.0,37.0,37.0,46.0,46.0,46.0,46.0,46.0,46.0,46.0,46.0,46.0,46.0,46.0,46.0,46.0,46.0,46.0,46.0,46.0,46.0,46.0,46.0,46.0,46.0,46.0,46.0,46.0,46.0,46.0,46.0,46.0,46.0,51.0,51.0,51.0,51.0,51.0,51.0,51.0,51.0,51.0,51.0,51.0,51.0,51.0,51.0,51.0,51.0,51.0,51.0,51.0,51.0,51.0,51.0,51.0,51.0,51.0,51.0,51.0,51.0,51.0,51.0,51.0,51.0,51.0,51.0,51.0,51.0,51.0,51.0,51.0,51.0,51.0,51.0,51.0,51.0,51.0,51.0,51.0,51.0,51.0,51.0,51.0,51.0,51.0,51.0,51.0,51.0,51.0,51.0,51.0,51.0,59.0,59.0,59.0,59.0,59.0,59.0,59.0,59.0,59.0,59.0,59.0,59.0,59.0,59.0,59.0,59.0,59.0,59.0,59.0,59.0,59.0,59.0,59.0,59.0,59.0,59.0,59.0,59.0,59.0,59.0,43.0,43.0,43.0,43.0,43.0,43.0,43.0,43.0,43.0,43.0,43.0,43.0,43.0,43.0,43.0,43.0,43.0,43.0,43.0,43.0,43.0,43.0,43.0,43.0,43.0,43.0,43.0,43.0,43.0,43.0,43.0,60.0,60.0,60.0,60.0,60.0,60.0,60.0,60.0,60.0,60.0,60.0,60.0,60.0,60.0,60.0,60.0,60.0,60.0,60.0,60.0,60.0,60.0,60.0,60.0,60.0,60.0,60.0,60.0,60.0,60.0,41.0,41.0,41.0,41.0,41.0,41.0,41.0,41.0,41.0,41.0,41.0,41.0,41.0,41.0,41.0,41.0,41.0,41.0,41.0,41.0,41.0,41.0,41.0,41.0,41.0,41.0,41.0,41.0,41.0,45.0,45.0,45.0,45.0,45.0,45.0,45.0,45.0,45.0,45.0,45.0,73.0,73.0,73.0,73.0,73.0,73.0,73.0,73.0,73.0,73.0,73.0,73.0,73.0,73.0,84.0,84.0,84.0,84.0,84.0,84.0,84.0,84.0,84.0,84.0,84.0,84.0,84.0,84.0,84.0,84.0,84.0,84.0,27.0,27.0,27.0,27.0,27.0,27.0,27.0,27.0,27.0,27.0,27.0,27.0,27.0,27.0,27.0,27.0,27.0,27.0,27.0,27.0,27.0,27.0,27.0,27.0,27.0,27.0,27.0,27.0,27.0,27.0,42.0,42.0,42.0,42.0,42.0,42.0,42.0,42.0,42.0,42.0,42.0,42.0,42.0,42.0,42.0,42.0,42.0,42.0,42.0,42.0,42.0,42.0,42.0,42.0,42.0,42.0,42.0,77.0,77.0,77.0,77.0,77.0,77.0,77.0,77.0,77.0,77.0,77.0,77.0,77.0,77.0,77.0,77.0,77.0,77.0,77.0,77.0,77.0,77.0,77.0,77.0,77.0,77.0,77.0,77.0,77.0,98.0,98.0,98.0,98.0,98.0,98.0,98.0,98.0,98.0,98.0,98.0,98.0,98.0,98.0,98.0,98.0,98.0,98.0,98.0,98.0,98.0,98.0,98.0,98.0,98.0,98.0,98.0,98.0,98.0,98.0,48.0,48.0,48.0,48.0,48.0,48.0,48.0,48.0,48.0,48.0,48.0,48.0,48.0,48.0,48.0,48.0,48.0,48.0,48.0,48.0,48.0,48.0,26.0,26.0,26.0,26.0,26.0,26.0,26.0,26.0,26.0,26.0,26.0,26.0,26.0,26.0,26.0,26.0,26.0,26.0,26.0,26.0,26.0,26.0,26.0,26.0,26.0,26.0,26.0,26.0,26.0,31.0,31.0,31.0,31.0,47.0,47.0,47.0,43.0,43.0,43.0,43.0,43.0,43.0,43.0,43.0,43.0,43.0,43.0,43.0,43.0,43.0,43.0,43.0,43.0,43.0,43.0,43.0,43.0,43.0,43.0,43.0,43.0,43.0,43.0,43.0,43.0,43.0,49.0,49.0,49.0,49.0,49.0,49.0,49.0,49.0,49.0,49.0,49.0,49.0,49.0,49.0,49.0,49.0,49.0,49.0,30.0,30.0,30.0,30.0,30.0,30.0,30.0,30.0,55.0,55.0,55.0,55.0,55.0,55.0,55.0,55.0,55.0,55.0,55.0,55.0,55.0,55.0,55.0,55.0,55.0,55.0,55.0,55.0,55.0,55.0,55.0,55.0,55.0,55.0,55.0,55.0,55.0,37.0,37.0,37.0,37.0,37.0,37.0,37.0,37.0,37.0,37.0,37.0,37.0,37.0,37.0,37.0,37.0,37.0,37.0,37.0,37.0,37.0,37.0,37.0,37.0,37.0,37.0,37.0,37.0,37.0,57.0,57.0,57.0,57.0,57.0,57.0,57.0,57.0,57.0,57.0,57.0,57.0,57.0,57.0,57.0,57.0,57.0,57.0,57.0,57.0,57.0,57.0,57.0,57.0,57.0,57.0,57.0,57.0,57.0,35.0,35.0,35.0,35.0,35.0,35.0,35.0,35.0,35.0,35.0,35.0,35.0,35.0,35.0,35.0,35.0,35.0,35.0,35.0,35.0,35.0,35.0,35.0,35.0,35.0,35.0,35.0,35.0,42.0,42.0,42.0,42.0,42.0,42.0,42.0,42.0,42.0,42.0,42.0,42.0,42.0,42.0,42.0,42.0,42.0,42.0,42.0,42.0,42.0,42.0,42.0,42.0,42.0,42.0,42.0,42.0,42.0,42.0,65.0,65.0,65.0,65.0,65.0,65.0,65.0,65.0,65.0,65.0,65.0,65.0,65.0,65.0,65.0,65.0,65.0,65.0,65.0,65.0,65.0,65.0,65.0,65.0,65.0,65.0,65.0,65.0,65.0,113.0,113.0,113.0,113.0,113.0,113.0,113.0,113.0,113.0,113.0,113.0,113.0,113.0,113.0,113.0,113.0,113.0,113.0,113.0,113.0,113.0,113.0,113.0,113.0,113.0,113.0,113.0,113.0,113.0,42.0,42.0,42.0,42.0,60.0,60.0,60.0,60.0,60.0,60.0,60.0,60.0,60.0,60.0,60.0,60.0,60.0,60.0,60.0,60.0,60.0,60.0,60.0,60.0,60.0,60.0,60.0,60.0,60.0,60.0,60.0,60.0,60.0,60.0,73.0,73.0,73.0,73.0,73.0,73.0,73.0,73.0,73.0,73.0,73.0,73.0,73.0,73.0,73.0,73.0,73.0,73.0,73.0,73.0,73.0,73.0,73.0,73.0,73.0,73.0,73.0,73.0,73.0,67.0,67.0,67.0,67.0,67.0,67.0,67.0,67.0,67.0,67.0,67.0,67.0,67.0,67.0,67.0,67.0,67.0,67.0,67.0,67.0,67.0,67.0,67.0,67.0,67.0,67.0,67.0,67.0,67.0,42.0,42.0,42.0,42.0,42.0,42.0,42.0,42.0,42.0,42.0,42.0,42.0,42.0,42.0,42.0,42.0,42.0,42.0,42.0,42.0,42.0,42.0,42.0,42.0,42.0,42.0,42.0,42.0,42.0,42.0,97.0,97.0,97.0,97.0,97.0,97.0,97.0,97.0,97.0,97.0,97.0,97.0,97.0,97.0,97.0,97.0,97.0,97.0,97.0,97.0,97.0,97.0,97.0,97.0,97.0,97.0,97.0,97.0,97.0,97.0,68.0,68.0,68.0,68.0,68.0,68.0,68.0,68.0,68.0,68.0,68.0,68.0,68.0,68.0,68.0,68.0,29.0,29.0,29.0,29.0,29.0,29.0,29.0,29.0,29.0,29.0,29.0,29.0,29.0,29.0,29.0,29.0,29.0,29.0,29.0,29.0,29.0,29.0,29.0,29.0,29.0,29.0,29.0,29.0,29.0,47.0,47.0,47.0,47.0,47.0,47.0,47.0,47.0,47.0,47.0,47.0,47.0,47.0,47.0,47.0,47.0,47.0,47.0,47.0,47.0,47.0,47.0,47.0,47.0,47.0,47.0,47.0,47.0,74.0,74.0,74.0,74.0,74.0,74.0,74.0,74.0,74.0,74.0,74.0,74.0,74.0,74.0,74.0,74.0,74.0,74.0,74.0,74.0,74.0,74.0,74.0,74.0,74.0,74.0,74.0,74.0,53.0,53.0,53.0,53.0,53.0,53.0,53.0,53.0,53.0,53.0,53.0,53.0,53.0,53.0,53.0,53.0,53.0,53.0,53.0,53.0,53.0,53.0,53.0,53.0,53.0,53.0,53.0,53.0,53.0,46.0,46.0,46.0,46.0,46.0,46.0,46.0,46.0,46.0,46.0,46.0,46.0,46.0,46.0,46.0,46.0,46.0,46.0,46.0,46.0,46.0,46.0,46.0,46.0,46.0,46.0,46.0,46.0,43.0,43.0,43.0,43.0,43.0,43.0,43.0,43.0,43.0,43.0,43.0,43.0,43.0,43.0,43.0,43.0,43.0,43.0,43.0,43.0,43.0,43.0,43.0,43.0,43.0,43.0,43.0,43.0,43.0,45.0,45.0,45.0,45.0,45.0,45.0,45.0,45.0,45.0,45.0,45.0,41.0,41.0,41.0,41.0,41.0,41.0,41.0,41.0,41.0,41.0,41.0,41.0,41.0,41.0,41.0,41.0,41.0,41.0,41.0,41.0,41.0,41.0,41.0,41.0,41.0,41.0,41.0,41.0,38.0,38.0,38.0,38.0,38.0,38.0,38.0,38.0,38.0,38.0,38.0,38.0,38.0,38.0,38.0,38.0,38.0,38.0,38.0,38.0,38.0,38.0,38.0,38.0,38.0,38.0,38.0,38.0,38.0,37.0,37.0,37.0,37.0,37.0,37.0,37.0,37.0,37.0,37.0,37.0,37.0,37.0,37.0,37.0,37.0,37.0,37.0,37.0,37.0,37.0,37.0,37.0,37.0,37.0,37.0,37.0,37.0,37.0,64.0,64.0,64.0,64.0,64.0,64.0,64.0,64.0,64.0,64.0,64.0,64.0,64.0,64.0,64.0,64.0,64.0,64.0,64.0,64.0,64.0,64.0,64.0,64.0,64.0,64.0,64.0,64.0,64.0,64.0,50.0,50.0,50.0,50.0,50.0,50.0,50.0,50.0,50.0,50.0,50.0,50.0,50.0,50.0,50.0,50.0,50.0,50.0,50.0,37.0,37.0,37.0,37.0,37.0,37.0,37.0,37.0,37.0,37.0,37.0,37.0,37.0,37.0,37.0,37.0,37.0,37.0,37.0,37.0,37.0,37.0,37.0,37.0,37.0,37.0,37.0,37.0,37.0,37.0,73.0,73.0,73.0,73.0,73.0,73.0,73.0,73.0,73.0,73.0,73.0,73.0,73.0,73.0,73.0,73.0,73.0,73.0,76.0,76.0,76.0,76.0,76.0,76.0,76.0,76.0,76.0,76.0,76.0,76.0,76.0,76.0,76.0,76.0,76.0,76.0,76.0,76.0,76.0,76.0,76.0,76.0,76.0,76.0,76.0,76.0,60.0,60.0,60.0,60.0,60.0,60.0,60.0,60.0,60.0,60.0,60.0,60.0,60.0,60.0,60.0,60.0,60.0,60.0,60.0,60.0,60.0,60.0,60.0,60.0,60.0,60.0,60.0,60.0,60.0,60.0,60.0,34.0,34.0,34.0,34.0,34.0,24.0,24.0,24.0,24.0,24.0,24.0,24.0,24.0,24.0,24.0,24.0,24.0,24.0,24.0,24.0,24.0,24.0,24.0,24.0,24.0,24.0,24.0,24.0,24.0,24.0,24.0,24.0,24.0,24.0,30.0,30.0,30.0,30.0,30.0,30.0,30.0,30.0,30.0,30.0,30.0,30.0,30.0,30.0,30.0,30.0,30.0,30.0,30.0,30.0,30.0,30.0,30.0,30.0,30.0,30.0,30.0,30.0,30.0,30.0,41.0,41.0,41.0,41.0,41.0,41.0,41.0,41.0,41.0,41.0,41.0,41.0,41.0,41.0,41.0,41.0,41.0,41.0,41.0,41.0,41.0,41.0,41.0,41.0,41.0,41.0,41.0,41.0,41.0,44.0,44.0,44.0,44.0,44.0,44.0,44.0,44.0,44.0,44.0,44.0,44.0,44.0,44.0,44.0,44.0,44.0,44.0,44.0,44.0,44.0,44.0,44.0,44.0,44.0,44.0,44.0,44.0,48.0,48.0,48.0,48.0,48.0,48.0,48.0,48.0,48.0,48.0,48.0,48.0,48.0,48.0,48.0,48.0,48.0,48.0,48.0,48.0,48.0,48.0,48.0,48.0,48.0,48.0,48.0,44.0,44.0,44.0,44.0,44.0,44.0,44.0,44.0,44.0,44.0,44.0,44.0,110.0,110.0,110.0,110.0,110.0,110.0,110.0,110.0,110.0,110.0,110.0,110.0,110.0,110.0,110.0,110.0,110.0,110.0,110.0,110.0,110.0,110.0,110.0,110.0,110.0,110.0,110.0,110.0,110.0,89.0,89.0,89.0,89.0,89.0,89.0,89.0,89.0,89.0,89.0,89.0,89.0,89.0,89.0,89.0,89.0,89.0,89.0,89.0,89.0,89.0,89.0,89.0,89.0,89.0,89.0,89.0,89.0,69.0,69.0,69.0,69.0,69.0,69.0,69.0,69.0,69.0,69.0,69.0,69.0,69.0,69.0,69.0,69.0,69.0,69.0,69.0,69.0,69.0,69.0,69.0,69.0,69.0,69.0,69.0,69.0,69.0,69.0,51.0,51.0,51.0,51.0,51.0,51.0,51.0,51.0,51.0,51.0,51.0,51.0,51.0,51.0,51.0,51.0,51.0,51.0,51.0,51.0,51.0,51.0,51.0,51.0,51.0,51.0,51.0,51.0,51.0,58.0,58.0,58.0,58.0,58.0,58.0,58.0,58.0,58.0,58.0,58.0,58.0,58.0,58.0,58.0,58.0,58.0,58.0,58.0,58.0,58.0,58.0,58.0,58.0,58.0,58.0,58.0,58.0,58.0,58.0,58.0,63.0,63.0,63.0,63.0,63.0,63.0,63.0,63.0,63.0,63.0,63.0,63.0,63.0,63.0,63.0,63.0,63.0,63.0,63.0,63.0,42.0,42.0,42.0,42.0,42.0,42.0,42.0,42.0,42.0,42.0,42.0,42.0,42.0,42.0,42.0,42.0,42.0,42.0,42.0,42.0,42.0,42.0,42.0,42.0,42.0,42.0,42.0,53.0,53.0,53.0,53.0,53.0,53.0,53.0,53.0,53.0,53.0,53.0,53.0,53.0,53.0,53.0,53.0,53.0,53.0,53.0,53.0,53.0,53.0,53.0,53.0,53.0,53.0,35.0,35.0,35.0,35.0,35.0,35.0,35.0,35.0,35.0,35.0,35.0,35.0,35.0,35.0,35.0,35.0,35.0,35.0,35.0,35.0,35.0,35.0,35.0,35.0,35.0,35.0,35.0,35.0,35.0,35.0,43.0,43.0,43.0,40.0,40.0,40.0,40.0,40.0,40.0,40.0,40.0,40.0,40.0,40.0,40.0,40.0,40.0,40.0,40.0,40.0,40.0,40.0,50.0,50.0,50.0,50.0,50.0,50.0,50.0,50.0,50.0,50.0,50.0,35.0,35.0,35.0,35.0,35.0,35.0,35.0,57.0,57.0,28.0,28.0,28.0,28.0,28.0,28.0,28.0,28.0,28.0,28.0,28.0,28.0,28.0,28.0,28.0,28.0,28.0,28.0,28.0,28.0,28.0,28.0,28.0,28.0,28.0,28.0,28.0,28.0,46.0,46.0,46.0,46.0,46.0,46.0,46.0,50.0,50.0,50.0,50.0,50.0,50.0,50.0,50.0,50.0,50.0,50.0,50.0,50.0,50.0,50.0,50.0,50.0,50.0,50.0,50.0,50.0,50.0,50.0,50.0,50.0,50.0,50.0,50.0,50.0,50.0,54.0,54.0,54.0,54.0,54.0,54.0,54.0,54.0,54.0,54.0,54.0,54.0,54.0,54.0,54.0,54.0,54.0,54.0,54.0,54.0,54.0,54.0,54.0,54.0,54.0,54.0,54.0,54.0,53.0,53.0,53.0,53.0,53.0,53.0,53.0,53.0,53.0,53.0,53.0,53.0,53.0,53.0,53.0,53.0,53.0,53.0,53.0,53.0,53.0,53.0,53.0,53.0,53.0,40.0,40.0,40.0,40.0,40.0,40.0,40.0,40.0,40.0,57.0,57.0,57.0,57.0,57.0,57.0,57.0,57.0,57.0,57.0,57.0,57.0,57.0,57.0,57.0,57.0,57.0,57.0,57.0,57.0,57.0,57.0,57.0,57.0,57.0,57.0,57.0,99.0,99.0,99.0,99.0,99.0,99.0,99.0,99.0,99.0,99.0,99.0,99.0,99.0,99.0,99.0,99.0,99.0,99.0,99.0,99.0,99.0,99.0,99.0,99.0,99.0,99.0,99.0,99.0,93.0,93.0,93.0,93.0,93.0,93.0,93.0,93.0,93.0,93.0,93.0,93.0,93.0,93.0,93.0,93.0,93.0,93.0,93.0,93.0,93.0,93.0,93.0,93.0,93.0,82.0,82.0,82.0,82.0,82.0,82.0,82.0,82.0,82.0,82.0,82.0,82.0,82.0,82.0,82.0,82.0,82.0,82.0,82.0,82.0,82.0,82.0,82.0,82.0,82.0,82.0,82.0,82.0,65.0,65.0,65.0,65.0,65.0,65.0,65.0,65.0,65.0,65.0,65.0,65.0,65.0,65.0,65.0,65.0,65.0,65.0,65.0,65.0,65.0,65.0,65.0,65.0,65.0,65.0,65.0,65.0,46.0,46.0,46.0,46.0,46.0,46.0,46.0,46.0,46.0,46.0,46.0,46.0,46.0,46.0,46.0,46.0,46.0,46.0,46.0,46.0,46.0,46.0,46.0,47.0,47.0,47.0,47.0,47.0,47.0,47.0,47.0,47.0,47.0,47.0,47.0,47.0,47.0,47.0,47.0,47.0,47.0,47.0,47.0,47.0,47.0,47.0,47.0,47.0,47.0,34.0,34.0,34.0,34.0,34.0,34.0,34.0,34.0,34.0,34.0,34.0,34.0,34.0,34.0,34.0,34.0,34.0,34.0,34.0,34.0,34.0,34.0,34.0,35.0,35.0,35.0,35.0,35.0,35.0,35.0,35.0,35.0,35.0,35.0,35.0,35.0,35.0,35.0,35.0,35.0,35.0,35.0,35.0,35.0,35.0,35.0,35.0,35.0,35.0,55.0,55.0,55.0,55.0,55.0,55.0,55.0,55.0,55.0,55.0,55.0,55.0,55.0,55.0,55.0,55.0,55.0,55.0,55.0,55.0,55.0,55.0,55.0,55.0,55.0,55.0,55.0,32.0,32.0,32.0,32.0,36.0,36.0,36.0,57.0,57.0,57.0,57.0,57.0,57.0,57.0,57.0,57.0,57.0,57.0,57.0,57.0,57.0,57.0,57.0,57.0,57.0,57.0,57.0,57.0,57.0,57.0,57.0,57.0,57.0,49.0,49.0,49.0,49.0,49.0,49.0,49.0,49.0,49.0,49.0,49.0,49.0,49.0,49.0,49.0,49.0,49.0,49.0,49.0,49.0,49.0,49.0,49.0,49.0,49.0,49.0,49.0,49.0,57.0,57.0,57.0,57.0,57.0,57.0,57.0,57.0,57.0,57.0,57.0,57.0,57.0,57.0,57.0,57.0,57.0,57.0,57.0,57.0,57.0,57.0,57.0,57.0,57.0,57.0,57.0,78.0,78.0,78.0,78.0,78.0,78.0,78.0,78.0,78.0,78.0,78.0,78.0,78.0,78.0,78.0],\"xaxis\":\"x\",\"yaxis\":\"y\",\"type\":\"histogram\"}],                        {\"template\":{\"data\":{\"bar\":[{\"error_x\":{\"color\":\"#2a3f5f\"},\"error_y\":{\"color\":\"#2a3f5f\"},\"marker\":{\"line\":{\"color\":\"#E5ECF6\",\"width\":0.5},\"pattern\":{\"fillmode\":\"overlay\",\"size\":10,\"solidity\":0.2}},\"type\":\"bar\"}],\"barpolar\":[{\"marker\":{\"line\":{\"color\":\"#E5ECF6\",\"width\":0.5},\"pattern\":{\"fillmode\":\"overlay\",\"size\":10,\"solidity\":0.2}},\"type\":\"barpolar\"}],\"carpet\":[{\"aaxis\":{\"endlinecolor\":\"#2a3f5f\",\"gridcolor\":\"white\",\"linecolor\":\"white\",\"minorgridcolor\":\"white\",\"startlinecolor\":\"#2a3f5f\"},\"baxis\":{\"endlinecolor\":\"#2a3f5f\",\"gridcolor\":\"white\",\"linecolor\":\"white\",\"minorgridcolor\":\"white\",\"startlinecolor\":\"#2a3f5f\"},\"type\":\"carpet\"}],\"choropleth\":[{\"colorbar\":{\"outlinewidth\":0,\"ticks\":\"\"},\"type\":\"choropleth\"}],\"contour\":[{\"colorbar\":{\"outlinewidth\":0,\"ticks\":\"\"},\"colorscale\":[[0.0,\"#0d0887\"],[0.1111111111111111,\"#46039f\"],[0.2222222222222222,\"#7201a8\"],[0.3333333333333333,\"#9c179e\"],[0.4444444444444444,\"#bd3786\"],[0.5555555555555556,\"#d8576b\"],[0.6666666666666666,\"#ed7953\"],[0.7777777777777778,\"#fb9f3a\"],[0.8888888888888888,\"#fdca26\"],[1.0,\"#f0f921\"]],\"type\":\"contour\"}],\"contourcarpet\":[{\"colorbar\":{\"outlinewidth\":0,\"ticks\":\"\"},\"type\":\"contourcarpet\"}],\"heatmap\":[{\"colorbar\":{\"outlinewidth\":0,\"ticks\":\"\"},\"colorscale\":[[0.0,\"#0d0887\"],[0.1111111111111111,\"#46039f\"],[0.2222222222222222,\"#7201a8\"],[0.3333333333333333,\"#9c179e\"],[0.4444444444444444,\"#bd3786\"],[0.5555555555555556,\"#d8576b\"],[0.6666666666666666,\"#ed7953\"],[0.7777777777777778,\"#fb9f3a\"],[0.8888888888888888,\"#fdca26\"],[1.0,\"#f0f921\"]],\"type\":\"heatmap\"}],\"heatmapgl\":[{\"colorbar\":{\"outlinewidth\":0,\"ticks\":\"\"},\"colorscale\":[[0.0,\"#0d0887\"],[0.1111111111111111,\"#46039f\"],[0.2222222222222222,\"#7201a8\"],[0.3333333333333333,\"#9c179e\"],[0.4444444444444444,\"#bd3786\"],[0.5555555555555556,\"#d8576b\"],[0.6666666666666666,\"#ed7953\"],[0.7777777777777778,\"#fb9f3a\"],[0.8888888888888888,\"#fdca26\"],[1.0,\"#f0f921\"]],\"type\":\"heatmapgl\"}],\"histogram\":[{\"marker\":{\"pattern\":{\"fillmode\":\"overlay\",\"size\":10,\"solidity\":0.2}},\"type\":\"histogram\"}],\"histogram2d\":[{\"colorbar\":{\"outlinewidth\":0,\"ticks\":\"\"},\"colorscale\":[[0.0,\"#0d0887\"],[0.1111111111111111,\"#46039f\"],[0.2222222222222222,\"#7201a8\"],[0.3333333333333333,\"#9c179e\"],[0.4444444444444444,\"#bd3786\"],[0.5555555555555556,\"#d8576b\"],[0.6666666666666666,\"#ed7953\"],[0.7777777777777778,\"#fb9f3a\"],[0.8888888888888888,\"#fdca26\"],[1.0,\"#f0f921\"]],\"type\":\"histogram2d\"}],\"histogram2dcontour\":[{\"colorbar\":{\"outlinewidth\":0,\"ticks\":\"\"},\"colorscale\":[[0.0,\"#0d0887\"],[0.1111111111111111,\"#46039f\"],[0.2222222222222222,\"#7201a8\"],[0.3333333333333333,\"#9c179e\"],[0.4444444444444444,\"#bd3786\"],[0.5555555555555556,\"#d8576b\"],[0.6666666666666666,\"#ed7953\"],[0.7777777777777778,\"#fb9f3a\"],[0.8888888888888888,\"#fdca26\"],[1.0,\"#f0f921\"]],\"type\":\"histogram2dcontour\"}],\"mesh3d\":[{\"colorbar\":{\"outlinewidth\":0,\"ticks\":\"\"},\"type\":\"mesh3d\"}],\"parcoords\":[{\"line\":{\"colorbar\":{\"outlinewidth\":0,\"ticks\":\"\"}},\"type\":\"parcoords\"}],\"pie\":[{\"automargin\":true,\"type\":\"pie\"}],\"scatter\":[{\"marker\":{\"colorbar\":{\"outlinewidth\":0,\"ticks\":\"\"}},\"type\":\"scatter\"}],\"scatter3d\":[{\"line\":{\"colorbar\":{\"outlinewidth\":0,\"ticks\":\"\"}},\"marker\":{\"colorbar\":{\"outlinewidth\":0,\"ticks\":\"\"}},\"type\":\"scatter3d\"}],\"scattercarpet\":[{\"marker\":{\"colorbar\":{\"outlinewidth\":0,\"ticks\":\"\"}},\"type\":\"scattercarpet\"}],\"scattergeo\":[{\"marker\":{\"colorbar\":{\"outlinewidth\":0,\"ticks\":\"\"}},\"type\":\"scattergeo\"}],\"scattergl\":[{\"marker\":{\"colorbar\":{\"outlinewidth\":0,\"ticks\":\"\"}},\"type\":\"scattergl\"}],\"scattermapbox\":[{\"marker\":{\"colorbar\":{\"outlinewidth\":0,\"ticks\":\"\"}},\"type\":\"scattermapbox\"}],\"scatterpolar\":[{\"marker\":{\"colorbar\":{\"outlinewidth\":0,\"ticks\":\"\"}},\"type\":\"scatterpolar\"}],\"scatterpolargl\":[{\"marker\":{\"colorbar\":{\"outlinewidth\":0,\"ticks\":\"\"}},\"type\":\"scatterpolargl\"}],\"scatterternary\":[{\"marker\":{\"colorbar\":{\"outlinewidth\":0,\"ticks\":\"\"}},\"type\":\"scatterternary\"}],\"surface\":[{\"colorbar\":{\"outlinewidth\":0,\"ticks\":\"\"},\"colorscale\":[[0.0,\"#0d0887\"],[0.1111111111111111,\"#46039f\"],[0.2222222222222222,\"#7201a8\"],[0.3333333333333333,\"#9c179e\"],[0.4444444444444444,\"#bd3786\"],[0.5555555555555556,\"#d8576b\"],[0.6666666666666666,\"#ed7953\"],[0.7777777777777778,\"#fb9f3a\"],[0.8888888888888888,\"#fdca26\"],[1.0,\"#f0f921\"]],\"type\":\"surface\"}],\"table\":[{\"cells\":{\"fill\":{\"color\":\"#EBF0F8\"},\"line\":{\"color\":\"white\"}},\"header\":{\"fill\":{\"color\":\"#C8D4E3\"},\"line\":{\"color\":\"white\"}},\"type\":\"table\"}]},\"layout\":{\"annotationdefaults\":{\"arrowcolor\":\"#2a3f5f\",\"arrowhead\":0,\"arrowwidth\":1},\"autotypenumbers\":\"strict\",\"coloraxis\":{\"colorbar\":{\"outlinewidth\":0,\"ticks\":\"\"}},\"colorscale\":{\"diverging\":[[0,\"#8e0152\"],[0.1,\"#c51b7d\"],[0.2,\"#de77ae\"],[0.3,\"#f1b6da\"],[0.4,\"#fde0ef\"],[0.5,\"#f7f7f7\"],[0.6,\"#e6f5d0\"],[0.7,\"#b8e186\"],[0.8,\"#7fbc41\"],[0.9,\"#4d9221\"],[1,\"#276419\"]],\"sequential\":[[0.0,\"#0d0887\"],[0.1111111111111111,\"#46039f\"],[0.2222222222222222,\"#7201a8\"],[0.3333333333333333,\"#9c179e\"],[0.4444444444444444,\"#bd3786\"],[0.5555555555555556,\"#d8576b\"],[0.6666666666666666,\"#ed7953\"],[0.7777777777777778,\"#fb9f3a\"],[0.8888888888888888,\"#fdca26\"],[1.0,\"#f0f921\"]],\"sequentialminus\":[[0.0,\"#0d0887\"],[0.1111111111111111,\"#46039f\"],[0.2222222222222222,\"#7201a8\"],[0.3333333333333333,\"#9c179e\"],[0.4444444444444444,\"#bd3786\"],[0.5555555555555556,\"#d8576b\"],[0.6666666666666666,\"#ed7953\"],[0.7777777777777778,\"#fb9f3a\"],[0.8888888888888888,\"#fdca26\"],[1.0,\"#f0f921\"]]},\"colorway\":[\"#636efa\",\"#EF553B\",\"#00cc96\",\"#ab63fa\",\"#FFA15A\",\"#19d3f3\",\"#FF6692\",\"#B6E880\",\"#FF97FF\",\"#FECB52\"],\"font\":{\"color\":\"#2a3f5f\"},\"geo\":{\"bgcolor\":\"white\",\"lakecolor\":\"white\",\"landcolor\":\"#E5ECF6\",\"showlakes\":true,\"showland\":true,\"subunitcolor\":\"white\"},\"hoverlabel\":{\"align\":\"left\"},\"hovermode\":\"closest\",\"mapbox\":{\"style\":\"light\"},\"paper_bgcolor\":\"white\",\"plot_bgcolor\":\"#E5ECF6\",\"polar\":{\"angularaxis\":{\"gridcolor\":\"white\",\"linecolor\":\"white\",\"ticks\":\"\"},\"bgcolor\":\"#E5ECF6\",\"radialaxis\":{\"gridcolor\":\"white\",\"linecolor\":\"white\",\"ticks\":\"\"}},\"scene\":{\"xaxis\":{\"backgroundcolor\":\"#E5ECF6\",\"gridcolor\":\"white\",\"gridwidth\":2,\"linecolor\":\"white\",\"showbackground\":true,\"ticks\":\"\",\"zerolinecolor\":\"white\"},\"yaxis\":{\"backgroundcolor\":\"#E5ECF6\",\"gridcolor\":\"white\",\"gridwidth\":2,\"linecolor\":\"white\",\"showbackground\":true,\"ticks\":\"\",\"zerolinecolor\":\"white\"},\"zaxis\":{\"backgroundcolor\":\"#E5ECF6\",\"gridcolor\":\"white\",\"gridwidth\":2,\"linecolor\":\"white\",\"showbackground\":true,\"ticks\":\"\",\"zerolinecolor\":\"white\"}},\"shapedefaults\":{\"line\":{\"color\":\"#2a3f5f\"}},\"ternary\":{\"aaxis\":{\"gridcolor\":\"white\",\"linecolor\":\"white\",\"ticks\":\"\"},\"baxis\":{\"gridcolor\":\"white\",\"linecolor\":\"white\",\"ticks\":\"\"},\"bgcolor\":\"#E5ECF6\",\"caxis\":{\"gridcolor\":\"white\",\"linecolor\":\"white\",\"ticks\":\"\"}},\"title\":{\"x\":0.05},\"xaxis\":{\"automargin\":true,\"gridcolor\":\"white\",\"linecolor\":\"white\",\"ticks\":\"\",\"title\":{\"standoff\":15},\"zerolinecolor\":\"white\",\"zerolinewidth\":2},\"yaxis\":{\"automargin\":true,\"gridcolor\":\"white\",\"linecolor\":\"white\",\"ticks\":\"\",\"title\":{\"standoff\":15},\"zerolinecolor\":\"white\",\"zerolinewidth\":2}}},\"xaxis\":{\"anchor\":\"y\",\"domain\":[0.0,1.0],\"title\":{\"text\":\"min_salary(K)\"}},\"yaxis\":{\"anchor\":\"x\",\"domain\":[0.0,1.0],\"title\":{\"text\":\"count\"}},\"legend\":{\"tracegroupgap\":0},\"title\":{\"text\":\"Data Analyst Jobs - Minimum Salary\"},\"barmode\":\"relative\"},                        {\"responsive\": true}                    ).then(function(){\n",
       "                            \n",
       "var gd = document.getElementById('48103def-95df-4a2e-929d-bd89cbd33401');\n",
       "var x = new MutationObserver(function (mutations, observer) {{\n",
       "        var display = window.getComputedStyle(gd).display;\n",
       "        if (!display || display === 'none') {{\n",
       "            console.log([gd, 'removed!']);\n",
       "            Plotly.purge(gd);\n",
       "            observer.disconnect();\n",
       "        }}\n",
       "}});\n",
       "\n",
       "// Listen for the removal of the full notebook cells\n",
       "var notebookContainer = gd.closest('#notebook-container');\n",
       "if (notebookContainer) {{\n",
       "    x.observe(notebookContainer, {childList: true});\n",
       "}}\n",
       "\n",
       "// Listen for the clearing of the current output cell\n",
       "var outputEl = gd.closest('.output');\n",
       "if (outputEl) {{\n",
       "    x.observe(outputEl, {childList: true});\n",
       "}}\n",
       "\n",
       "                        })                };                            </script>        </div>\n",
       "</body>\n",
       "</html>"
      ]
     },
     "metadata": {},
     "output_type": "display_data"
    }
   ],
   "source": [
    "px.histogram(df, x=\"min_salary(K)\", title=\"Data Analyst Jobs - Minimum Salary\")\n"
   ]
  },
  {
   "cell_type": "code",
   "execution_count": 44,
   "metadata": {
    "colab": {
     "base_uri": "https://localhost:8080/",
     "height": 542
    },
    "id": "gkaN4zGYT9Do",
    "outputId": "13145b95-6a41-4103-e873-9a861bcd9df9"
   },
   "outputs": [
    {
     "data": {
      "text/html": [
       "<html>\n",
       "<head><meta charset=\"utf-8\" /></head>\n",
       "<body>\n",
       "    <div>            <script src=\"https://cdnjs.cloudflare.com/ajax/libs/mathjax/2.7.5/MathJax.js?config=TeX-AMS-MML_SVG\"></script><script type=\"text/javascript\">if (window.MathJax) {MathJax.Hub.Config({SVG: {font: \"STIX-Web\"}});}</script>                <script type=\"text/javascript\">window.PlotlyConfig = {MathJaxConfig: 'local'};</script>\n",
       "        <script src=\"https://cdn.plot.ly/plotly-2.8.3.min.js\"></script>                <div id=\"4b2abe69-0582-411d-bb60-2a8c4d86d4a4\" class=\"plotly-graph-div\" style=\"height:525px; width:100%;\"></div>            <script type=\"text/javascript\">                                    window.PLOTLYENV=window.PLOTLYENV || {};                                    if (document.getElementById(\"4b2abe69-0582-411d-bb60-2a8c4d86d4a4\")) {                    Plotly.newPlot(                        \"4b2abe69-0582-411d-bb60-2a8c4d86d4a4\",                        [{\"alignmentgroup\":\"True\",\"bingroup\":\"x\",\"hovertemplate\":\"min_salary(K)=%{x}<br>count=%{y}<extra></extra>\",\"legendgroup\":\"\",\"marker\":{\"color\":\"#636efa\",\"pattern\":{\"shape\":\"\"}},\"name\":\"\",\"offsetgroup\":\"\",\"orientation\":\"v\",\"showlegend\":false,\"x\":[37.0,37.0,37.0,37.0,37.0,37.0,37.0,37.0,37.0,37.0,37.0,37.0,37.0,37.0,37.0,37.0,37.0,37.0,37.0,37.0,37.0,37.0,37.0,37.0,37.0,37.0,37.0,37.0,37.0,37.0,46.0,46.0,46.0,46.0,46.0,46.0,46.0,46.0,46.0,46.0,46.0,46.0,46.0,46.0,46.0,46.0,46.0,46.0,46.0,46.0,46.0,46.0,46.0,46.0,46.0,46.0,46.0,46.0,46.0,46.0,51.0,51.0,51.0,51.0,51.0,51.0,51.0,51.0,51.0,51.0,51.0,51.0,51.0,51.0,51.0,51.0,51.0,51.0,51.0,51.0,51.0,51.0,51.0,51.0,51.0,51.0,51.0,51.0,51.0,51.0,51.0,51.0,51.0,51.0,51.0,51.0,51.0,51.0,51.0,51.0,51.0,51.0,51.0,51.0,51.0,51.0,51.0,51.0,51.0,51.0,51.0,51.0,51.0,51.0,51.0,51.0,51.0,51.0,51.0,51.0,59.0,59.0,59.0,59.0,59.0,59.0,59.0,59.0,59.0,59.0,59.0,59.0,59.0,59.0,59.0,59.0,59.0,59.0,59.0,59.0,59.0,59.0,59.0,59.0,59.0,59.0,59.0,59.0,59.0,59.0,43.0,43.0,43.0,43.0,43.0,43.0,43.0,43.0,43.0,43.0,43.0,43.0,43.0,43.0,43.0,43.0,43.0,43.0,43.0,43.0,43.0,43.0,43.0,43.0,43.0,43.0,43.0,43.0,43.0,43.0,43.0,60.0,60.0,60.0,60.0,60.0,60.0,60.0,60.0,60.0,60.0,60.0,60.0,60.0,60.0,60.0,60.0,60.0,60.0,60.0,60.0,60.0,60.0,60.0,60.0,60.0,60.0,60.0,60.0,60.0,60.0,41.0,41.0,41.0,41.0,41.0,41.0,41.0,41.0,41.0,41.0,41.0,41.0,41.0,41.0,41.0,41.0,41.0,41.0,41.0,41.0,41.0,41.0,41.0,41.0,41.0,41.0,41.0,41.0,41.0,45.0,45.0,45.0,45.0,45.0,45.0,45.0,45.0,45.0,45.0,45.0,73.0,73.0,73.0,73.0,73.0,73.0,73.0,73.0,73.0,73.0,73.0,73.0,73.0,73.0,84.0,84.0,84.0,84.0,84.0,84.0,84.0,84.0,84.0,84.0,84.0,84.0,84.0,84.0,84.0,84.0,84.0,84.0,27.0,27.0,27.0,27.0,27.0,27.0,27.0,27.0,27.0,27.0,27.0,27.0,27.0,27.0,27.0,27.0,27.0,27.0,27.0,27.0,27.0,27.0,27.0,27.0,27.0,27.0,27.0,27.0,27.0,27.0,42.0,42.0,42.0,42.0,42.0,42.0,42.0,42.0,42.0,42.0,42.0,42.0,42.0,42.0,42.0,42.0,42.0,42.0,42.0,42.0,42.0,42.0,42.0,42.0,42.0,42.0,42.0,77.0,77.0,77.0,77.0,77.0,77.0,77.0,77.0,77.0,77.0,77.0,77.0,77.0,77.0,77.0,77.0,77.0,77.0,77.0,77.0,77.0,77.0,77.0,77.0,77.0,77.0,77.0,77.0,77.0,98.0,98.0,98.0,98.0,98.0,98.0,98.0,98.0,98.0,98.0,98.0,98.0,98.0,98.0,98.0,98.0,98.0,98.0,98.0,98.0,98.0,98.0,98.0,98.0,98.0,98.0,98.0,98.0,98.0,98.0,48.0,48.0,48.0,48.0,48.0,48.0,48.0,48.0,48.0,48.0,48.0,48.0,48.0,48.0,48.0,48.0,48.0,48.0,48.0,48.0,48.0,48.0,26.0,26.0,26.0,26.0,26.0,26.0,26.0,26.0,26.0,26.0,26.0,26.0,26.0,26.0,26.0,26.0,26.0,26.0,26.0,26.0,26.0,26.0,26.0,26.0,26.0,26.0,26.0,26.0,26.0,31.0,31.0,31.0,31.0,47.0,47.0,47.0,43.0,43.0,43.0,43.0,43.0,43.0,43.0,43.0,43.0,43.0,43.0,43.0,43.0,43.0,43.0,43.0,43.0,43.0,43.0,43.0,43.0,43.0,43.0,43.0,43.0,43.0,43.0,43.0,43.0,43.0,49.0,49.0,49.0,49.0,49.0,49.0,49.0,49.0,49.0,49.0,49.0,49.0,49.0,49.0,49.0,49.0,49.0,49.0,30.0,30.0,30.0,30.0,30.0,30.0,30.0,30.0,55.0,55.0,55.0,55.0,55.0,55.0,55.0,55.0,55.0,55.0,55.0,55.0,55.0,55.0,55.0,55.0,55.0,55.0,55.0,55.0,55.0,55.0,55.0,55.0,55.0,55.0,55.0,55.0,55.0,37.0,37.0,37.0,37.0,37.0,37.0,37.0,37.0,37.0,37.0,37.0,37.0,37.0,37.0,37.0,37.0,37.0,37.0,37.0,37.0,37.0,37.0,37.0,37.0,37.0,37.0,37.0,37.0,37.0,57.0,57.0,57.0,57.0,57.0,57.0,57.0,57.0,57.0,57.0,57.0,57.0,57.0,57.0,57.0,57.0,57.0,57.0,57.0,57.0,57.0,57.0,57.0,57.0,57.0,57.0,57.0,57.0,57.0,35.0,35.0,35.0,35.0,35.0,35.0,35.0,35.0,35.0,35.0,35.0,35.0,35.0,35.0,35.0,35.0,35.0,35.0,35.0,35.0,35.0,35.0,35.0,35.0,35.0,35.0,35.0,35.0,42.0,42.0,42.0,42.0,42.0,42.0,42.0,42.0,42.0,42.0,42.0,42.0,42.0,42.0,42.0,42.0,42.0,42.0,42.0,42.0,42.0,42.0,42.0,42.0,42.0,42.0,42.0,42.0,42.0,42.0,65.0,65.0,65.0,65.0,65.0,65.0,65.0,65.0,65.0,65.0,65.0,65.0,65.0,65.0,65.0,65.0,65.0,65.0,65.0,65.0,65.0,65.0,65.0,65.0,65.0,65.0,65.0,65.0,65.0,113.0,113.0,113.0,113.0,113.0,113.0,113.0,113.0,113.0,113.0,113.0,113.0,113.0,113.0,113.0,113.0,113.0,113.0,113.0,113.0,113.0,113.0,113.0,113.0,113.0,113.0,113.0,113.0,113.0,42.0,42.0,42.0,42.0,60.0,60.0,60.0,60.0,60.0,60.0,60.0,60.0,60.0,60.0,60.0,60.0,60.0,60.0,60.0,60.0,60.0,60.0,60.0,60.0,60.0,60.0,60.0,60.0,60.0,60.0,60.0,60.0,60.0,60.0,73.0,73.0,73.0,73.0,73.0,73.0,73.0,73.0,73.0,73.0,73.0,73.0,73.0,73.0,73.0,73.0,73.0,73.0,73.0,73.0,73.0,73.0,73.0,73.0,73.0,73.0,73.0,73.0,73.0,67.0,67.0,67.0,67.0,67.0,67.0,67.0,67.0,67.0,67.0,67.0,67.0,67.0,67.0,67.0,67.0,67.0,67.0,67.0,67.0,67.0,67.0,67.0,67.0,67.0,67.0,67.0,67.0,67.0,42.0,42.0,42.0,42.0,42.0,42.0,42.0,42.0,42.0,42.0,42.0,42.0,42.0,42.0,42.0,42.0,42.0,42.0,42.0,42.0,42.0,42.0,42.0,42.0,42.0,42.0,42.0,42.0,42.0,42.0,97.0,97.0,97.0,97.0,97.0,97.0,97.0,97.0,97.0,97.0,97.0,97.0,97.0,97.0,97.0,97.0,97.0,97.0,97.0,97.0,97.0,97.0,97.0,97.0,97.0,97.0,97.0,97.0,97.0,97.0,68.0,68.0,68.0,68.0,68.0,68.0,68.0,68.0,68.0,68.0,68.0,68.0,68.0,68.0,68.0,68.0,29.0,29.0,29.0,29.0,29.0,29.0,29.0,29.0,29.0,29.0,29.0,29.0,29.0,29.0,29.0,29.0,29.0,29.0,29.0,29.0,29.0,29.0,29.0,29.0,29.0,29.0,29.0,29.0,29.0,47.0,47.0,47.0,47.0,47.0,47.0,47.0,47.0,47.0,47.0,47.0,47.0,47.0,47.0,47.0,47.0,47.0,47.0,47.0,47.0,47.0,47.0,47.0,47.0,47.0,47.0,47.0,47.0,74.0,74.0,74.0,74.0,74.0,74.0,74.0,74.0,74.0,74.0,74.0,74.0,74.0,74.0,74.0,74.0,74.0,74.0,74.0,74.0,74.0,74.0,74.0,74.0,74.0,74.0,74.0,74.0,53.0,53.0,53.0,53.0,53.0,53.0,53.0,53.0,53.0,53.0,53.0,53.0,53.0,53.0,53.0,53.0,53.0,53.0,53.0,53.0,53.0,53.0,53.0,53.0,53.0,53.0,53.0,53.0,53.0,46.0,46.0,46.0,46.0,46.0,46.0,46.0,46.0,46.0,46.0,46.0,46.0,46.0,46.0,46.0,46.0,46.0,46.0,46.0,46.0,46.0,46.0,46.0,46.0,46.0,46.0,46.0,46.0,43.0,43.0,43.0,43.0,43.0,43.0,43.0,43.0,43.0,43.0,43.0,43.0,43.0,43.0,43.0,43.0,43.0,43.0,43.0,43.0,43.0,43.0,43.0,43.0,43.0,43.0,43.0,43.0,43.0,45.0,45.0,45.0,45.0,45.0,45.0,45.0,45.0,45.0,45.0,45.0,41.0,41.0,41.0,41.0,41.0,41.0,41.0,41.0,41.0,41.0,41.0,41.0,41.0,41.0,41.0,41.0,41.0,41.0,41.0,41.0,41.0,41.0,41.0,41.0,41.0,41.0,41.0,41.0,38.0,38.0,38.0,38.0,38.0,38.0,38.0,38.0,38.0,38.0,38.0,38.0,38.0,38.0,38.0,38.0,38.0,38.0,38.0,38.0,38.0,38.0,38.0,38.0,38.0,38.0,38.0,38.0,38.0,37.0,37.0,37.0,37.0,37.0,37.0,37.0,37.0,37.0,37.0,37.0,37.0,37.0,37.0,37.0,37.0,37.0,37.0,37.0,37.0,37.0,37.0,37.0,37.0,37.0,37.0,37.0,37.0,37.0,64.0,64.0,64.0,64.0,64.0,64.0,64.0,64.0,64.0,64.0,64.0,64.0,64.0,64.0,64.0,64.0,64.0,64.0,64.0,64.0,64.0,64.0,64.0,64.0,64.0,64.0,64.0,64.0,64.0,64.0,50.0,50.0,50.0,50.0,50.0,50.0,50.0,50.0,50.0,50.0,50.0,50.0,50.0,50.0,50.0,50.0,50.0,50.0,50.0,37.0,37.0,37.0,37.0,37.0,37.0,37.0,37.0,37.0,37.0,37.0,37.0,37.0,37.0,37.0,37.0,37.0,37.0,37.0,37.0,37.0,37.0,37.0,37.0,37.0,37.0,37.0,37.0,37.0,37.0,73.0,73.0,73.0,73.0,73.0,73.0,73.0,73.0,73.0,73.0,73.0,73.0,73.0,73.0,73.0,73.0,73.0,73.0,76.0,76.0,76.0,76.0,76.0,76.0,76.0,76.0,76.0,76.0,76.0,76.0,76.0,76.0,76.0,76.0,76.0,76.0,76.0,76.0,76.0,76.0,76.0,76.0,76.0,76.0,76.0,76.0,60.0,60.0,60.0,60.0,60.0,60.0,60.0,60.0,60.0,60.0,60.0,60.0,60.0,60.0,60.0,60.0,60.0,60.0,60.0,60.0,60.0,60.0,60.0,60.0,60.0,60.0,60.0,60.0,60.0,60.0,60.0,34.0,34.0,34.0,34.0,34.0,24.0,24.0,24.0,24.0,24.0,24.0,24.0,24.0,24.0,24.0,24.0,24.0,24.0,24.0,24.0,24.0,24.0,24.0,24.0,24.0,24.0,24.0,24.0,24.0,24.0,24.0,24.0,24.0,24.0,30.0,30.0,30.0,30.0,30.0,30.0,30.0,30.0,30.0,30.0,30.0,30.0,30.0,30.0,30.0,30.0,30.0,30.0,30.0,30.0,30.0,30.0,30.0,30.0,30.0,30.0,30.0,30.0,30.0,30.0,41.0,41.0,41.0,41.0,41.0,41.0,41.0,41.0,41.0,41.0,41.0,41.0,41.0,41.0,41.0,41.0,41.0,41.0,41.0,41.0,41.0,41.0,41.0,41.0,41.0,41.0,41.0,41.0,41.0,44.0,44.0,44.0,44.0,44.0,44.0,44.0,44.0,44.0,44.0,44.0,44.0,44.0,44.0,44.0,44.0,44.0,44.0,44.0,44.0,44.0,44.0,44.0,44.0,44.0,44.0,44.0,44.0,48.0,48.0,48.0,48.0,48.0,48.0,48.0,48.0,48.0,48.0,48.0,48.0,48.0,48.0,48.0,48.0,48.0,48.0,48.0,48.0,48.0,48.0,48.0,48.0,48.0,48.0,48.0,44.0,44.0,44.0,44.0,44.0,44.0,44.0,44.0,44.0,44.0,44.0,44.0,110.0,110.0,110.0,110.0,110.0,110.0,110.0,110.0,110.0,110.0,110.0,110.0,110.0,110.0,110.0,110.0,110.0,110.0,110.0,110.0,110.0,110.0,110.0,110.0,110.0,110.0,110.0,110.0,110.0,89.0,89.0,89.0,89.0,89.0,89.0,89.0,89.0,89.0,89.0,89.0,89.0,89.0,89.0,89.0,89.0,89.0,89.0,89.0,89.0,89.0,89.0,89.0,89.0,89.0,89.0,89.0,89.0,69.0,69.0,69.0,69.0,69.0,69.0,69.0,69.0,69.0,69.0,69.0,69.0,69.0,69.0,69.0,69.0,69.0,69.0,69.0,69.0,69.0,69.0,69.0,69.0,69.0,69.0,69.0,69.0,69.0,69.0,51.0,51.0,51.0,51.0,51.0,51.0,51.0,51.0,51.0,51.0,51.0,51.0,51.0,51.0,51.0,51.0,51.0,51.0,51.0,51.0,51.0,51.0,51.0,51.0,51.0,51.0,51.0,51.0,51.0,58.0,58.0,58.0,58.0,58.0,58.0,58.0,58.0,58.0,58.0,58.0,58.0,58.0,58.0,58.0,58.0,58.0,58.0,58.0,58.0,58.0,58.0,58.0,58.0,58.0,58.0,58.0,58.0,58.0,58.0,58.0,63.0,63.0,63.0,63.0,63.0,63.0,63.0,63.0,63.0,63.0,63.0,63.0,63.0,63.0,63.0,63.0,63.0,63.0,63.0,63.0,42.0,42.0,42.0,42.0,42.0,42.0,42.0,42.0,42.0,42.0,42.0,42.0,42.0,42.0,42.0,42.0,42.0,42.0,42.0,42.0,42.0,42.0,42.0,42.0,42.0,42.0,42.0,53.0,53.0,53.0,53.0,53.0,53.0,53.0,53.0,53.0,53.0,53.0,53.0,53.0,53.0,53.0,53.0,53.0,53.0,53.0,53.0,53.0,53.0,53.0,53.0,53.0,53.0,35.0,35.0,35.0,35.0,35.0,35.0,35.0,35.0,35.0,35.0,35.0,35.0,35.0,35.0,35.0,35.0,35.0,35.0,35.0,35.0,35.0,35.0,35.0,35.0,35.0,35.0,35.0,35.0,35.0,35.0,43.0,43.0,43.0,40.0,40.0,40.0,40.0,40.0,40.0,40.0,40.0,40.0,40.0,40.0,40.0,40.0,40.0,40.0,40.0,40.0,40.0,40.0,50.0,50.0,50.0,50.0,50.0,50.0,50.0,50.0,50.0,50.0,50.0,35.0,35.0,35.0,35.0,35.0,35.0,35.0,57.0,57.0,28.0,28.0,28.0,28.0,28.0,28.0,28.0,28.0,28.0,28.0,28.0,28.0,28.0,28.0,28.0,28.0,28.0,28.0,28.0,28.0,28.0,28.0,28.0,28.0,28.0,28.0,28.0,28.0,46.0,46.0,46.0,46.0,46.0,46.0,46.0,50.0,50.0,50.0,50.0,50.0,50.0,50.0,50.0,50.0,50.0,50.0,50.0,50.0,50.0,50.0,50.0,50.0,50.0,50.0,50.0,50.0,50.0,50.0,50.0,50.0,50.0,50.0,50.0,50.0,50.0,54.0,54.0,54.0,54.0,54.0,54.0,54.0,54.0,54.0,54.0,54.0,54.0,54.0,54.0,54.0,54.0,54.0,54.0,54.0,54.0,54.0,54.0,54.0,54.0,54.0,54.0,54.0,54.0,53.0,53.0,53.0,53.0,53.0,53.0,53.0,53.0,53.0,53.0,53.0,53.0,53.0,53.0,53.0,53.0,53.0,53.0,53.0,53.0,53.0,53.0,53.0,53.0,53.0,40.0,40.0,40.0,40.0,40.0,40.0,40.0,40.0,40.0,57.0,57.0,57.0,57.0,57.0,57.0,57.0,57.0,57.0,57.0,57.0,57.0,57.0,57.0,57.0,57.0,57.0,57.0,57.0,57.0,57.0,57.0,57.0,57.0,57.0,57.0,57.0,99.0,99.0,99.0,99.0,99.0,99.0,99.0,99.0,99.0,99.0,99.0,99.0,99.0,99.0,99.0,99.0,99.0,99.0,99.0,99.0,99.0,99.0,99.0,99.0,99.0,99.0,99.0,99.0,93.0,93.0,93.0,93.0,93.0,93.0,93.0,93.0,93.0,93.0,93.0,93.0,93.0,93.0,93.0,93.0,93.0,93.0,93.0,93.0,93.0,93.0,93.0,93.0,93.0,82.0,82.0,82.0,82.0,82.0,82.0,82.0,82.0,82.0,82.0,82.0,82.0,82.0,82.0,82.0,82.0,82.0,82.0,82.0,82.0,82.0,82.0,82.0,82.0,82.0,82.0,82.0,82.0,65.0,65.0,65.0,65.0,65.0,65.0,65.0,65.0,65.0,65.0,65.0,65.0,65.0,65.0,65.0,65.0,65.0,65.0,65.0,65.0,65.0,65.0,65.0,65.0,65.0,65.0,65.0,65.0,46.0,46.0,46.0,46.0,46.0,46.0,46.0,46.0,46.0,46.0,46.0,46.0,46.0,46.0,46.0,46.0,46.0,46.0,46.0,46.0,46.0,46.0,46.0,47.0,47.0,47.0,47.0,47.0,47.0,47.0,47.0,47.0,47.0,47.0,47.0,47.0,47.0,47.0,47.0,47.0,47.0,47.0,47.0,47.0,47.0,47.0,47.0,47.0,47.0,34.0,34.0,34.0,34.0,34.0,34.0,34.0,34.0,34.0,34.0,34.0,34.0,34.0,34.0,34.0,34.0,34.0,34.0,34.0,34.0,34.0,34.0,34.0,35.0,35.0,35.0,35.0,35.0,35.0,35.0,35.0,35.0,35.0,35.0,35.0,35.0,35.0,35.0,35.0,35.0,35.0,35.0,35.0,35.0,35.0,35.0,35.0,35.0,35.0,55.0,55.0,55.0,55.0,55.0,55.0,55.0,55.0,55.0,55.0,55.0,55.0,55.0,55.0,55.0,55.0,55.0,55.0,55.0,55.0,55.0,55.0,55.0,55.0,55.0,55.0,55.0,32.0,32.0,32.0,32.0,36.0,36.0,36.0,57.0,57.0,57.0,57.0,57.0,57.0,57.0,57.0,57.0,57.0,57.0,57.0,57.0,57.0,57.0,57.0,57.0,57.0,57.0,57.0,57.0,57.0,57.0,57.0,57.0,57.0,49.0,49.0,49.0,49.0,49.0,49.0,49.0,49.0,49.0,49.0,49.0,49.0,49.0,49.0,49.0,49.0,49.0,49.0,49.0,49.0,49.0,49.0,49.0,49.0,49.0,49.0,49.0,49.0,57.0,57.0,57.0,57.0,57.0,57.0,57.0,57.0,57.0,57.0,57.0,57.0,57.0,57.0,57.0,57.0,57.0,57.0,57.0,57.0,57.0,57.0,57.0,57.0,57.0,57.0,57.0,78.0,78.0,78.0,78.0,78.0,78.0,78.0,78.0,78.0,78.0,78.0,78.0,78.0,78.0,78.0],\"xaxis\":\"x\",\"yaxis\":\"y\",\"type\":\"histogram\"}],                        {\"template\":{\"data\":{\"bar\":[{\"error_x\":{\"color\":\"#2a3f5f\"},\"error_y\":{\"color\":\"#2a3f5f\"},\"marker\":{\"line\":{\"color\":\"#E5ECF6\",\"width\":0.5},\"pattern\":{\"fillmode\":\"overlay\",\"size\":10,\"solidity\":0.2}},\"type\":\"bar\"}],\"barpolar\":[{\"marker\":{\"line\":{\"color\":\"#E5ECF6\",\"width\":0.5},\"pattern\":{\"fillmode\":\"overlay\",\"size\":10,\"solidity\":0.2}},\"type\":\"barpolar\"}],\"carpet\":[{\"aaxis\":{\"endlinecolor\":\"#2a3f5f\",\"gridcolor\":\"white\",\"linecolor\":\"white\",\"minorgridcolor\":\"white\",\"startlinecolor\":\"#2a3f5f\"},\"baxis\":{\"endlinecolor\":\"#2a3f5f\",\"gridcolor\":\"white\",\"linecolor\":\"white\",\"minorgridcolor\":\"white\",\"startlinecolor\":\"#2a3f5f\"},\"type\":\"carpet\"}],\"choropleth\":[{\"colorbar\":{\"outlinewidth\":0,\"ticks\":\"\"},\"type\":\"choropleth\"}],\"contour\":[{\"colorbar\":{\"outlinewidth\":0,\"ticks\":\"\"},\"colorscale\":[[0.0,\"#0d0887\"],[0.1111111111111111,\"#46039f\"],[0.2222222222222222,\"#7201a8\"],[0.3333333333333333,\"#9c179e\"],[0.4444444444444444,\"#bd3786\"],[0.5555555555555556,\"#d8576b\"],[0.6666666666666666,\"#ed7953\"],[0.7777777777777778,\"#fb9f3a\"],[0.8888888888888888,\"#fdca26\"],[1.0,\"#f0f921\"]],\"type\":\"contour\"}],\"contourcarpet\":[{\"colorbar\":{\"outlinewidth\":0,\"ticks\":\"\"},\"type\":\"contourcarpet\"}],\"heatmap\":[{\"colorbar\":{\"outlinewidth\":0,\"ticks\":\"\"},\"colorscale\":[[0.0,\"#0d0887\"],[0.1111111111111111,\"#46039f\"],[0.2222222222222222,\"#7201a8\"],[0.3333333333333333,\"#9c179e\"],[0.4444444444444444,\"#bd3786\"],[0.5555555555555556,\"#d8576b\"],[0.6666666666666666,\"#ed7953\"],[0.7777777777777778,\"#fb9f3a\"],[0.8888888888888888,\"#fdca26\"],[1.0,\"#f0f921\"]],\"type\":\"heatmap\"}],\"heatmapgl\":[{\"colorbar\":{\"outlinewidth\":0,\"ticks\":\"\"},\"colorscale\":[[0.0,\"#0d0887\"],[0.1111111111111111,\"#46039f\"],[0.2222222222222222,\"#7201a8\"],[0.3333333333333333,\"#9c179e\"],[0.4444444444444444,\"#bd3786\"],[0.5555555555555556,\"#d8576b\"],[0.6666666666666666,\"#ed7953\"],[0.7777777777777778,\"#fb9f3a\"],[0.8888888888888888,\"#fdca26\"],[1.0,\"#f0f921\"]],\"type\":\"heatmapgl\"}],\"histogram\":[{\"marker\":{\"pattern\":{\"fillmode\":\"overlay\",\"size\":10,\"solidity\":0.2}},\"type\":\"histogram\"}],\"histogram2d\":[{\"colorbar\":{\"outlinewidth\":0,\"ticks\":\"\"},\"colorscale\":[[0.0,\"#0d0887\"],[0.1111111111111111,\"#46039f\"],[0.2222222222222222,\"#7201a8\"],[0.3333333333333333,\"#9c179e\"],[0.4444444444444444,\"#bd3786\"],[0.5555555555555556,\"#d8576b\"],[0.6666666666666666,\"#ed7953\"],[0.7777777777777778,\"#fb9f3a\"],[0.8888888888888888,\"#fdca26\"],[1.0,\"#f0f921\"]],\"type\":\"histogram2d\"}],\"histogram2dcontour\":[{\"colorbar\":{\"outlinewidth\":0,\"ticks\":\"\"},\"colorscale\":[[0.0,\"#0d0887\"],[0.1111111111111111,\"#46039f\"],[0.2222222222222222,\"#7201a8\"],[0.3333333333333333,\"#9c179e\"],[0.4444444444444444,\"#bd3786\"],[0.5555555555555556,\"#d8576b\"],[0.6666666666666666,\"#ed7953\"],[0.7777777777777778,\"#fb9f3a\"],[0.8888888888888888,\"#fdca26\"],[1.0,\"#f0f921\"]],\"type\":\"histogram2dcontour\"}],\"mesh3d\":[{\"colorbar\":{\"outlinewidth\":0,\"ticks\":\"\"},\"type\":\"mesh3d\"}],\"parcoords\":[{\"line\":{\"colorbar\":{\"outlinewidth\":0,\"ticks\":\"\"}},\"type\":\"parcoords\"}],\"pie\":[{\"automargin\":true,\"type\":\"pie\"}],\"scatter\":[{\"marker\":{\"colorbar\":{\"outlinewidth\":0,\"ticks\":\"\"}},\"type\":\"scatter\"}],\"scatter3d\":[{\"line\":{\"colorbar\":{\"outlinewidth\":0,\"ticks\":\"\"}},\"marker\":{\"colorbar\":{\"outlinewidth\":0,\"ticks\":\"\"}},\"type\":\"scatter3d\"}],\"scattercarpet\":[{\"marker\":{\"colorbar\":{\"outlinewidth\":0,\"ticks\":\"\"}},\"type\":\"scattercarpet\"}],\"scattergeo\":[{\"marker\":{\"colorbar\":{\"outlinewidth\":0,\"ticks\":\"\"}},\"type\":\"scattergeo\"}],\"scattergl\":[{\"marker\":{\"colorbar\":{\"outlinewidth\":0,\"ticks\":\"\"}},\"type\":\"scattergl\"}],\"scattermapbox\":[{\"marker\":{\"colorbar\":{\"outlinewidth\":0,\"ticks\":\"\"}},\"type\":\"scattermapbox\"}],\"scatterpolar\":[{\"marker\":{\"colorbar\":{\"outlinewidth\":0,\"ticks\":\"\"}},\"type\":\"scatterpolar\"}],\"scatterpolargl\":[{\"marker\":{\"colorbar\":{\"outlinewidth\":0,\"ticks\":\"\"}},\"type\":\"scatterpolargl\"}],\"scatterternary\":[{\"marker\":{\"colorbar\":{\"outlinewidth\":0,\"ticks\":\"\"}},\"type\":\"scatterternary\"}],\"surface\":[{\"colorbar\":{\"outlinewidth\":0,\"ticks\":\"\"},\"colorscale\":[[0.0,\"#0d0887\"],[0.1111111111111111,\"#46039f\"],[0.2222222222222222,\"#7201a8\"],[0.3333333333333333,\"#9c179e\"],[0.4444444444444444,\"#bd3786\"],[0.5555555555555556,\"#d8576b\"],[0.6666666666666666,\"#ed7953\"],[0.7777777777777778,\"#fb9f3a\"],[0.8888888888888888,\"#fdca26\"],[1.0,\"#f0f921\"]],\"type\":\"surface\"}],\"table\":[{\"cells\":{\"fill\":{\"color\":\"#EBF0F8\"},\"line\":{\"color\":\"white\"}},\"header\":{\"fill\":{\"color\":\"#C8D4E3\"},\"line\":{\"color\":\"white\"}},\"type\":\"table\"}]},\"layout\":{\"annotationdefaults\":{\"arrowcolor\":\"#2a3f5f\",\"arrowhead\":0,\"arrowwidth\":1},\"autotypenumbers\":\"strict\",\"coloraxis\":{\"colorbar\":{\"outlinewidth\":0,\"ticks\":\"\"}},\"colorscale\":{\"diverging\":[[0,\"#8e0152\"],[0.1,\"#c51b7d\"],[0.2,\"#de77ae\"],[0.3,\"#f1b6da\"],[0.4,\"#fde0ef\"],[0.5,\"#f7f7f7\"],[0.6,\"#e6f5d0\"],[0.7,\"#b8e186\"],[0.8,\"#7fbc41\"],[0.9,\"#4d9221\"],[1,\"#276419\"]],\"sequential\":[[0.0,\"#0d0887\"],[0.1111111111111111,\"#46039f\"],[0.2222222222222222,\"#7201a8\"],[0.3333333333333333,\"#9c179e\"],[0.4444444444444444,\"#bd3786\"],[0.5555555555555556,\"#d8576b\"],[0.6666666666666666,\"#ed7953\"],[0.7777777777777778,\"#fb9f3a\"],[0.8888888888888888,\"#fdca26\"],[1.0,\"#f0f921\"]],\"sequentialminus\":[[0.0,\"#0d0887\"],[0.1111111111111111,\"#46039f\"],[0.2222222222222222,\"#7201a8\"],[0.3333333333333333,\"#9c179e\"],[0.4444444444444444,\"#bd3786\"],[0.5555555555555556,\"#d8576b\"],[0.6666666666666666,\"#ed7953\"],[0.7777777777777778,\"#fb9f3a\"],[0.8888888888888888,\"#fdca26\"],[1.0,\"#f0f921\"]]},\"colorway\":[\"#636efa\",\"#EF553B\",\"#00cc96\",\"#ab63fa\",\"#FFA15A\",\"#19d3f3\",\"#FF6692\",\"#B6E880\",\"#FF97FF\",\"#FECB52\"],\"font\":{\"color\":\"#2a3f5f\"},\"geo\":{\"bgcolor\":\"white\",\"lakecolor\":\"white\",\"landcolor\":\"#E5ECF6\",\"showlakes\":true,\"showland\":true,\"subunitcolor\":\"white\"},\"hoverlabel\":{\"align\":\"left\"},\"hovermode\":\"closest\",\"mapbox\":{\"style\":\"light\"},\"paper_bgcolor\":\"white\",\"plot_bgcolor\":\"#E5ECF6\",\"polar\":{\"angularaxis\":{\"gridcolor\":\"white\",\"linecolor\":\"white\",\"ticks\":\"\"},\"bgcolor\":\"#E5ECF6\",\"radialaxis\":{\"gridcolor\":\"white\",\"linecolor\":\"white\",\"ticks\":\"\"}},\"scene\":{\"xaxis\":{\"backgroundcolor\":\"#E5ECF6\",\"gridcolor\":\"white\",\"gridwidth\":2,\"linecolor\":\"white\",\"showbackground\":true,\"ticks\":\"\",\"zerolinecolor\":\"white\"},\"yaxis\":{\"backgroundcolor\":\"#E5ECF6\",\"gridcolor\":\"white\",\"gridwidth\":2,\"linecolor\":\"white\",\"showbackground\":true,\"ticks\":\"\",\"zerolinecolor\":\"white\"},\"zaxis\":{\"backgroundcolor\":\"#E5ECF6\",\"gridcolor\":\"white\",\"gridwidth\":2,\"linecolor\":\"white\",\"showbackground\":true,\"ticks\":\"\",\"zerolinecolor\":\"white\"}},\"shapedefaults\":{\"line\":{\"color\":\"#2a3f5f\"}},\"ternary\":{\"aaxis\":{\"gridcolor\":\"white\",\"linecolor\":\"white\",\"ticks\":\"\"},\"baxis\":{\"gridcolor\":\"white\",\"linecolor\":\"white\",\"ticks\":\"\"},\"bgcolor\":\"#E5ECF6\",\"caxis\":{\"gridcolor\":\"white\",\"linecolor\":\"white\",\"ticks\":\"\"}},\"title\":{\"x\":0.05},\"xaxis\":{\"automargin\":true,\"gridcolor\":\"white\",\"linecolor\":\"white\",\"ticks\":\"\",\"title\":{\"standoff\":15},\"zerolinecolor\":\"white\",\"zerolinewidth\":2},\"yaxis\":{\"automargin\":true,\"gridcolor\":\"white\",\"linecolor\":\"white\",\"ticks\":\"\",\"title\":{\"standoff\":15},\"zerolinecolor\":\"white\",\"zerolinewidth\":2}}},\"xaxis\":{\"anchor\":\"y\",\"domain\":[0.0,1.0],\"title\":{\"text\":\"min_salary(K)\"}},\"yaxis\":{\"anchor\":\"x\",\"domain\":[0.0,1.0],\"title\":{\"text\":\"count\"}},\"legend\":{\"tracegroupgap\":0},\"title\":{\"text\":\"Data Analyst Jobs - Maximum Salary\"},\"barmode\":\"relative\"},                        {\"responsive\": true}                    ).then(function(){\n",
       "                            \n",
       "var gd = document.getElementById('4b2abe69-0582-411d-bb60-2a8c4d86d4a4');\n",
       "var x = new MutationObserver(function (mutations, observer) {{\n",
       "        var display = window.getComputedStyle(gd).display;\n",
       "        if (!display || display === 'none') {{\n",
       "            console.log([gd, 'removed!']);\n",
       "            Plotly.purge(gd);\n",
       "            observer.disconnect();\n",
       "        }}\n",
       "}});\n",
       "\n",
       "// Listen for the removal of the full notebook cells\n",
       "var notebookContainer = gd.closest('#notebook-container');\n",
       "if (notebookContainer) {{\n",
       "    x.observe(notebookContainer, {childList: true});\n",
       "}}\n",
       "\n",
       "// Listen for the clearing of the current output cell\n",
       "var outputEl = gd.closest('.output');\n",
       "if (outputEl) {{\n",
       "    x.observe(outputEl, {childList: true});\n",
       "}}\n",
       "\n",
       "                        })                };                            </script>        </div>\n",
       "</body>\n",
       "</html>"
      ]
     },
     "metadata": {},
     "output_type": "display_data"
    }
   ],
   "source": [
    "px.histogram(df, x=\"min_salary(K)\", title=\"Data Analyst Jobs - Maximum Salary\")"
   ]
  },
  {
   "cell_type": "code",
   "execution_count": 45,
   "metadata": {
    "colab": {
     "base_uri": "https://localhost:8080/",
     "height": 542
    },
    "id": "mdOXB-dLUfPG",
    "outputId": "caafe689-8918-4643-c800-ef3d976dee9a"
   },
   "outputs": [
    {
     "data": {
      "text/html": [
       "<html>\n",
       "<head><meta charset=\"utf-8\" /></head>\n",
       "<body>\n",
       "    <div>            <script src=\"https://cdnjs.cloudflare.com/ajax/libs/mathjax/2.7.5/MathJax.js?config=TeX-AMS-MML_SVG\"></script><script type=\"text/javascript\">if (window.MathJax) {MathJax.Hub.Config({SVG: {font: \"STIX-Web\"}});}</script>                <script type=\"text/javascript\">window.PlotlyConfig = {MathJaxConfig: 'local'};</script>\n",
       "        <script src=\"https://cdn.plot.ly/plotly-2.8.3.min.js\"></script>                <div id=\"54054347-aa06-44c3-87cf-4293424b2947\" class=\"plotly-graph-div\" style=\"height:525px; width:100%;\"></div>            <script type=\"text/javascript\">                                    window.PLOTLYENV=window.PLOTLYENV || {};                                    if (document.getElementById(\"54054347-aa06-44c3-87cf-4293424b2947\")) {                    Plotly.newPlot(                        \"54054347-aa06-44c3-87cf-4293424b2947\",                        [{\"alignmentgroup\":\"True\",\"bingroup\":\"x\",\"hovertemplate\":\"avr_salary=%{x}<br>count=%{y}<extra></extra>\",\"legendgroup\":\"\",\"marker\":{\"color\":\"#636efa\",\"pattern\":{\"shape\":\"\"}},\"name\":\"\",\"offsetgroup\":\"\",\"orientation\":\"v\",\"showlegend\":false,\"x\":[51.5,51.5,51.5,51.5,51.5,51.5,51.5,51.5,51.5,51.5,51.5,51.5,51.5,51.5,51.5,51.5,51.5,51.5,51.5,51.5,51.5,51.5,51.5,51.5,51.5,51.5,51.5,51.5,51.5,51.5,66.5,66.5,66.5,66.5,66.5,66.5,66.5,66.5,66.5,66.5,66.5,66.5,66.5,66.5,66.5,66.5,66.5,66.5,66.5,66.5,66.5,66.5,66.5,66.5,66.5,66.5,66.5,66.5,66.5,66.5,69.5,69.5,69.5,69.5,69.5,69.5,69.5,69.5,69.5,69.5,69.5,69.5,69.5,69.5,69.5,69.5,69.5,69.5,69.5,69.5,69.5,69.5,69.5,69.5,69.5,69.5,69.5,69.5,69.5,69.5,69.0,69.0,69.0,69.0,69.0,69.0,69.0,69.0,69.0,69.0,69.0,69.0,69.0,69.0,69.0,69.0,69.0,69.0,69.0,69.0,69.0,69.0,69.0,69.0,69.0,69.0,69.0,69.0,69.0,69.0,72.0,72.0,72.0,72.0,72.0,72.0,72.0,72.0,72.0,72.0,72.0,72.0,72.0,72.0,72.0,72.0,72.0,72.0,72.0,72.0,72.0,72.0,72.0,72.0,72.0,72.0,72.0,72.0,72.0,72.0,59.5,59.5,59.5,59.5,59.5,59.5,59.5,59.5,59.5,59.5,59.5,59.5,59.5,59.5,59.5,59.5,59.5,59.5,59.5,59.5,59.5,59.5,59.5,59.5,59.5,59.5,59.5,59.5,59.5,59.5,59.5,85.0,85.0,85.0,85.0,85.0,85.0,85.0,85.0,85.0,85.0,85.0,85.0,85.0,85.0,85.0,85.0,85.0,85.0,85.0,85.0,85.0,85.0,85.0,85.0,85.0,85.0,85.0,85.0,85.0,85.0,59.5,59.5,59.5,59.5,59.5,59.5,59.5,59.5,59.5,59.5,59.5,59.5,59.5,59.5,59.5,59.5,59.5,59.5,59.5,59.5,59.5,59.5,59.5,59.5,59.5,59.5,59.5,59.5,59.5,66.5,66.5,66.5,66.5,66.5,66.5,66.5,66.5,66.5,66.5,66.5,100.0,100.0,100.0,100.0,100.0,100.0,100.0,100.0,100.0,100.0,100.0,100.0,100.0,100.0,87.0,87.0,87.0,87.0,87.0,87.0,87.0,87.0,87.0,87.0,87.0,87.0,87.0,87.0,87.0,87.0,87.0,87.0,39.5,39.5,39.5,39.5,39.5,39.5,39.5,39.5,39.5,39.5,39.5,39.5,39.5,39.5,39.5,39.5,39.5,39.5,39.5,39.5,39.5,39.5,39.5,39.5,39.5,39.5,39.5,39.5,39.5,39.5,58.0,58.0,58.0,58.0,58.0,58.0,58.0,58.0,58.0,58.0,58.0,58.0,58.0,58.0,58.0,58.0,58.0,58.0,58.0,58.0,58.0,58.0,58.0,58.0,58.0,58.0,58.0,104.5,104.5,104.5,104.5,104.5,104.5,104.5,104.5,104.5,104.5,104.5,104.5,104.5,104.5,104.5,104.5,104.5,104.5,104.5,104.5,104.5,104.5,104.5,104.5,104.5,104.5,104.5,104.5,104.5,106.0,106.0,106.0,106.0,106.0,106.0,106.0,106.0,106.0,106.0,106.0,106.0,106.0,106.0,106.0,106.0,106.0,106.0,106.0,106.0,106.0,106.0,106.0,106.0,106.0,106.0,106.0,106.0,106.0,106.0,72.0,72.0,72.0,72.0,72.0,72.0,72.0,72.0,72.0,72.0,72.0,72.0,72.0,72.0,72.0,72.0,72.0,72.0,72.0,72.0,72.0,72.0,36.5,36.5,36.5,36.5,36.5,36.5,36.5,36.5,36.5,36.5,36.5,36.5,36.5,36.5,36.5,36.5,36.5,36.5,36.5,36.5,36.5,36.5,36.5,36.5,36.5,36.5,36.5,36.5,36.5,45.0,45.0,45.0,45.0,64.0,64.0,64.0,56.0,56.0,56.0,56.0,56.0,56.0,56.0,56.0,56.0,56.0,56.0,56.0,56.0,56.0,56.0,56.0,56.0,56.0,56.0,56.0,56.0,56.0,56.0,56.0,56.0,56.0,56.0,56.0,56.0,56.0,80.5,80.5,80.5,80.5,80.5,80.5,80.5,80.5,80.5,80.5,80.5,80.5,80.5,80.5,80.5,80.5,80.5,80.5,42.0,42.0,42.0,42.0,42.0,42.0,42.0,42.0,79.0,79.0,79.0,79.0,79.0,79.0,79.0,79.0,79.0,79.0,79.0,79.0,79.0,79.0,79.0,79.0,79.0,79.0,79.0,79.0,79.0,79.0,79.0,79.0,79.0,79.0,79.0,79.0,79.0,53.5,53.5,53.5,53.5,53.5,53.5,53.5,53.5,53.5,53.5,53.5,53.5,53.5,53.5,53.5,53.5,53.5,53.5,53.5,53.5,53.5,53.5,53.5,53.5,53.5,53.5,53.5,53.5,53.5,80.0,80.0,80.0,80.0,80.0,80.0,80.0,80.0,80.0,80.0,80.0,80.0,80.0,80.0,80.0,80.0,80.0,80.0,80.0,80.0,80.0,80.0,80.0,80.0,80.0,80.0,80.0,80.0,80.0,40.0,40.0,40.0,40.0,40.0,40.0,40.0,40.0,40.0,40.0,40.0,40.0,40.0,40.0,40.0,40.0,40.0,40.0,40.0,40.0,40.0,40.0,40.0,40.0,40.0,40.0,40.0,40.0,54.0,54.0,54.0,54.0,54.0,54.0,54.0,54.0,54.0,54.0,54.0,54.0,54.0,54.0,54.0,54.0,54.0,54.0,54.0,54.0,54.0,54.0,54.0,54.0,54.0,54.0,54.0,54.0,54.0,54.0,73.0,73.0,73.0,73.0,73.0,73.0,73.0,73.0,73.0,73.0,73.0,73.0,73.0,73.0,73.0,73.0,73.0,73.0,73.0,73.0,73.0,73.0,73.0,73.0,73.0,73.0,73.0,73.0,73.0,122.5,122.5,122.5,122.5,122.5,122.5,122.5,122.5,122.5,122.5,122.5,122.5,122.5,122.5,122.5,122.5,122.5,122.5,122.5,122.5,122.5,122.5,122.5,122.5,122.5,122.5,122.5,122.5,122.5,52.5,52.5,52.5,52.5,63.0,63.0,63.0,63.0,63.0,63.0,63.0,63.0,63.0,63.0,63.0,63.0,63.0,63.0,63.0,63.0,63.0,63.0,63.0,63.0,63.0,63.0,63.0,63.0,63.0,63.0,63.0,63.0,63.0,63.0,77.5,77.5,77.5,77.5,77.5,77.5,77.5,77.5,77.5,77.5,77.5,77.5,77.5,77.5,77.5,77.5,77.5,77.5,77.5,77.5,77.5,77.5,77.5,77.5,77.5,77.5,77.5,77.5,77.5,79.5,79.5,79.5,79.5,79.5,79.5,79.5,79.5,79.5,79.5,79.5,79.5,79.5,79.5,79.5,79.5,79.5,79.5,79.5,79.5,79.5,79.5,79.5,79.5,79.5,79.5,79.5,79.5,79.5,59.0,59.0,59.0,59.0,59.0,59.0,59.0,59.0,59.0,59.0,59.0,59.0,59.0,59.0,59.0,59.0,59.0,59.0,59.0,59.0,59.0,59.0,59.0,59.0,59.0,59.0,59.0,59.0,59.0,59.0,113.0,113.0,113.0,113.0,113.0,113.0,113.0,113.0,113.0,113.0,113.0,113.0,113.0,113.0,113.0,113.0,113.0,113.0,113.0,113.0,113.0,113.0,113.0,113.0,113.0,113.0,113.0,113.0,113.0,113.0,77.5,77.5,77.5,77.5,77.5,77.5,77.5,77.5,77.5,77.5,77.5,77.5,77.5,77.5,77.5,77.5,33.5,33.5,33.5,33.5,33.5,33.5,33.5,33.5,33.5,33.5,33.5,33.5,33.5,33.5,33.5,33.5,33.5,33.5,33.5,33.5,33.5,33.5,33.5,33.5,33.5,33.5,33.5,33.5,33.5,61.5,61.5,61.5,61.5,61.5,61.5,61.5,61.5,61.5,61.5,61.5,61.5,61.5,61.5,61.5,61.5,61.5,61.5,61.5,61.5,61.5,61.5,61.5,61.5,61.5,61.5,61.5,61.5,98.5,98.5,98.5,98.5,98.5,98.5,98.5,98.5,98.5,98.5,98.5,98.5,98.5,98.5,98.5,98.5,98.5,98.5,98.5,98.5,98.5,98.5,98.5,98.5,98.5,98.5,98.5,98.5,73.5,73.5,73.5,73.5,73.5,73.5,73.5,73.5,73.5,73.5,73.5,73.5,73.5,73.5,73.5,73.5,73.5,73.5,73.5,73.5,73.5,73.5,73.5,73.5,73.5,73.5,73.5,73.5,73.5,74.0,74.0,74.0,74.0,74.0,74.0,74.0,74.0,74.0,74.0,74.0,74.0,74.0,74.0,74.0,74.0,74.0,74.0,74.0,74.0,74.0,74.0,74.0,74.0,74.0,74.0,74.0,74.0,68.5,68.5,68.5,68.5,68.5,68.5,68.5,68.5,68.5,68.5,68.5,68.5,68.5,68.5,68.5,68.5,68.5,68.5,68.5,68.5,68.5,68.5,68.5,68.5,68.5,68.5,68.5,68.5,68.5,61.5,61.5,61.5,61.5,61.5,61.5,61.5,61.5,61.5,61.5,61.5,59.5,59.5,59.5,59.5,59.5,59.5,59.5,59.5,59.5,59.5,59.5,59.5,59.5,59.5,59.5,59.5,59.5,59.5,59.5,59.5,59.5,59.5,59.5,59.5,59.5,59.5,59.5,59.5,53.0,53.0,53.0,53.0,53.0,53.0,53.0,53.0,53.0,53.0,53.0,53.0,53.0,53.0,53.0,53.0,53.0,53.0,53.0,53.0,53.0,53.0,53.0,53.0,53.0,53.0,53.0,53.0,53.0,40.5,40.5,40.5,40.5,40.5,40.5,40.5,40.5,40.5,40.5,40.5,40.5,40.5,40.5,40.5,40.5,40.5,40.5,40.5,40.5,40.5,40.5,40.5,40.5,40.5,40.5,40.5,40.5,40.5,88.5,88.5,88.5,88.5,88.5,88.5,88.5,88.5,88.5,88.5,88.5,88.5,88.5,88.5,88.5,88.5,88.5,88.5,88.5,88.5,88.5,88.5,88.5,88.5,88.5,88.5,88.5,88.5,88.5,88.5,71.5,71.5,71.5,71.5,71.5,71.5,71.5,71.5,71.5,71.5,71.5,71.5,71.5,71.5,71.5,71.5,71.5,71.5,71.5,52.5,52.5,52.5,52.5,52.5,52.5,52.5,52.5,52.5,52.5,52.5,52.5,52.5,52.5,52.5,52.5,52.5,52.5,52.5,52.5,52.5,52.5,52.5,52.5,52.5,52.5,52.5,52.5,52.5,52.5,81.0,81.0,81.0,81.0,81.0,81.0,81.0,81.0,81.0,81.0,81.0,81.0,81.0,81.0,81.0,81.0,81.0,81.0,99.0,99.0,99.0,99.0,99.0,99.0,99.0,99.0,99.0,99.0,99.0,99.0,99.0,99.0,99.0,99.0,99.0,99.0,99.0,99.0,99.0,99.0,99.0,99.0,99.0,99.0,99.0,99.0,92.0,92.0,92.0,92.0,92.0,92.0,92.0,92.0,92.0,92.0,92.0,92.0,92.0,92.0,92.0,92.0,92.0,92.0,92.0,92.0,92.0,92.0,92.0,92.0,92.0,92.0,92.0,92.0,92.0,92.0,92.0,47.5,47.5,47.5,47.5,47.5,36.0,36.0,36.0,36.0,36.0,36.0,36.0,36.0,36.0,36.0,36.0,36.0,36.0,36.0,36.0,36.0,36.0,36.0,36.0,36.0,36.0,36.0,36.0,36.0,36.0,36.0,36.0,36.0,36.0,41.5,41.5,41.5,41.5,41.5,41.5,41.5,41.5,41.5,41.5,41.5,41.5,41.5,41.5,41.5,41.5,41.5,41.5,41.5,41.5,41.5,41.5,41.5,41.5,41.5,41.5,41.5,41.5,41.5,41.5,63.5,63.5,63.5,63.5,63.5,63.5,63.5,63.5,63.5,63.5,63.5,63.5,63.5,63.5,63.5,63.5,63.5,63.5,63.5,63.5,63.5,63.5,63.5,63.5,63.5,63.5,63.5,63.5,63.5,63.0,63.0,63.0,63.0,63.0,63.0,63.0,63.0,63.0,63.0,63.0,63.0,63.0,63.0,63.0,63.0,63.0,63.0,63.0,63.0,63.0,63.0,63.0,63.0,63.0,63.0,63.0,63.0,68.0,68.0,68.0,68.0,68.0,68.0,68.0,68.0,68.0,68.0,68.0,68.0,68.0,68.0,68.0,68.0,68.0,68.0,68.0,68.0,68.0,68.0,68.0,68.0,68.0,68.0,68.0,61.0,61.0,61.0,61.0,61.0,61.0,61.0,61.0,61.0,61.0,61.0,61.0,150.0,150.0,150.0,150.0,150.0,150.0,150.0,150.0,150.0,150.0,150.0,150.0,150.0,150.0,150.0,150.0,150.0,150.0,150.0,150.0,150.0,150.0,150.0,150.0,150.0,150.0,150.0,150.0,150.0,120.0,120.0,120.0,120.0,120.0,120.0,120.0,120.0,120.0,120.0,120.0,120.0,120.0,120.0,120.0,120.0,120.0,120.0,120.0,120.0,120.0,120.0,120.0,120.0,120.0,120.0,120.0,120.0,98.0,98.0,98.0,98.0,98.0,98.0,98.0,98.0,98.0,98.0,98.0,98.0,98.0,98.0,98.0,98.0,98.0,98.0,98.0,98.0,98.0,98.0,98.0,98.0,98.0,98.0,98.0,98.0,98.0,98.0,72.0,72.0,72.0,72.0,72.0,72.0,72.0,72.0,72.0,72.0,72.0,72.0,72.0,72.0,72.0,72.0,72.0,72.0,72.0,72.0,72.0,72.0,72.0,72.0,72.0,72.0,72.0,72.0,72.0,75.5,75.5,75.5,75.5,75.5,75.5,75.5,75.5,75.5,75.5,75.5,75.5,75.5,75.5,75.5,75.5,75.5,75.5,75.5,75.5,75.5,75.5,75.5,75.5,75.5,75.5,75.5,75.5,75.5,75.5,75.5,89.5,89.5,89.5,89.5,89.5,89.5,89.5,89.5,89.5,89.5,89.5,89.5,89.5,89.5,89.5,89.5,89.5,89.5,89.5,89.5,59.0,59.0,59.0,59.0,59.0,59.0,59.0,59.0,59.0,59.0,59.0,59.0,59.0,59.0,59.0,59.0,59.0,59.0,59.0,59.0,59.0,59.0,59.0,59.0,59.0,59.0,59.0,78.5,78.5,78.5,78.5,78.5,78.5,78.5,78.5,78.5,78.5,78.5,78.5,78.5,78.5,78.5,78.5,78.5,78.5,78.5,78.5,78.5,78.5,78.5,78.5,78.5,78.5,38.5,38.5,38.5,38.5,38.5,38.5,38.5,38.5,38.5,38.5,38.5,38.5,38.5,38.5,38.5,38.5,38.5,38.5,38.5,38.5,38.5,38.5,38.5,38.5,38.5,38.5,38.5,38.5,38.5,38.5,60.0,60.0,60.0,56.0,56.0,56.0,56.0,56.0,56.0,56.0,56.0,56.0,56.0,56.0,56.0,56.0,56.0,56.0,56.0,56.0,56.0,56.0,68.0,68.0,68.0,68.0,68.0,68.0,68.0,68.0,68.0,68.0,68.0,51.0,51.0,51.0,51.0,51.0,51.0,51.0,63.5,63.5,40.0,40.0,40.0,40.0,40.0,40.0,40.0,40.0,40.0,40.0,40.0,40.0,40.0,40.0,40.0,40.0,40.0,40.0,40.0,40.0,40.0,40.0,40.0,40.0,40.0,40.0,40.0,40.0,66.0,66.0,66.0,66.0,66.0,66.0,66.0,68.0,68.0,68.0,68.0,68.0,68.0,68.0,68.0,68.0,68.0,68.0,68.0,68.0,68.0,68.0,68.0,68.0,68.0,68.0,68.0,68.0,68.0,68.0,68.0,68.0,68.0,68.0,68.0,68.0,68.0,64.5,64.5,64.5,64.5,64.5,64.5,64.5,64.5,64.5,64.5,64.5,64.5,64.5,64.5,64.5,64.5,64.5,64.5,64.5,64.5,64.5,64.5,64.5,64.5,64.5,64.5,64.5,64.5,76.0,76.0,76.0,76.0,76.0,76.0,76.0,76.0,76.0,76.0,76.0,76.0,76.0,76.0,76.0,76.0,76.0,76.0,76.0,76.0,76.0,76.0,76.0,76.0,76.0,57.0,57.0,57.0,57.0,57.0,57.0,57.0,57.0,57.0,80.5,80.5,80.5,80.5,80.5,80.5,80.5,80.5,80.5,80.5,80.5,80.5,80.5,80.5,80.5,80.5,80.5,80.5,80.5,80.5,80.5,80.5,80.5,80.5,80.5,80.5,80.5,138.5,138.5,138.5,138.5,138.5,138.5,138.5,138.5,138.5,138.5,138.5,138.5,138.5,138.5,138.5,138.5,138.5,138.5,138.5,138.5,138.5,138.5,138.5,138.5,138.5,138.5,138.5,138.5,126.0,126.0,126.0,126.0,126.0,126.0,126.0,126.0,126.0,126.0,126.0,126.0,126.0,126.0,126.0,126.0,126.0,126.0,126.0,126.0,126.0,126.0,126.0,126.0,126.0,99.0,99.0,99.0,99.0,99.0,99.0,99.0,99.0,99.0,99.0,99.0,99.0,99.0,99.0,99.0,99.0,99.0,99.0,99.0,99.0,99.0,99.0,99.0,99.0,99.0,99.0,99.0,99.0,92.5,92.5,92.5,92.5,92.5,92.5,92.5,92.5,92.5,92.5,92.5,92.5,92.5,92.5,92.5,92.5,92.5,92.5,92.5,92.5,92.5,92.5,92.5,92.5,92.5,92.5,92.5,92.5,66.0,66.0,66.0,66.0,66.0,66.0,66.0,66.0,66.0,66.0,66.0,66.0,66.0,66.0,66.0,66.0,66.0,66.0,66.0,66.0,66.0,66.0,66.0,60.5,60.5,60.5,60.5,60.5,60.5,60.5,60.5,60.5,60.5,60.5,60.5,60.5,60.5,60.5,60.5,60.5,60.5,60.5,60.5,60.5,60.5,60.5,60.5,60.5,60.5,47.5,47.5,47.5,47.5,47.5,47.5,47.5,47.5,47.5,47.5,47.5,47.5,47.5,47.5,47.5,47.5,47.5,47.5,47.5,47.5,47.5,47.5,47.5,51.0,51.0,51.0,51.0,51.0,51.0,51.0,51.0,51.0,51.0,51.0,51.0,51.0,51.0,51.0,51.0,51.0,51.0,51.0,51.0,51.0,51.0,51.0,51.0,51.0,51.0,78.0,78.0,78.0,78.0,78.0,78.0,78.0,78.0,78.0,78.0,78.0,78.0,78.0,78.0,78.0,78.0,78.0,78.0,78.0,78.0,78.0,78.0,78.0,78.0,78.0,78.0,78.0,44.0,44.0,44.0,44.0,51.5,51.5,51.5,62.0,62.0,62.0,62.0,62.0,62.0,62.0,62.0,62.0,62.0,62.0,62.0,62.0,62.0,62.0,62.0,62.0,62.0,62.0,62.0,62.0,62.0,62.0,62.0,62.0,62.0,70.0,70.0,70.0,70.0,70.0,70.0,70.0,70.0,70.0,70.0,70.0,70.0,70.0,70.0,70.0,70.0,70.0,70.0,70.0,70.0,70.0,70.0,70.0,70.0,70.0,70.0,70.0,70.0,78.5,78.5,78.5,78.5,78.5,78.5,78.5,78.5,78.5,78.5,78.5,78.5,78.5,78.5,78.5,78.5,78.5,78.5,78.5,78.5,78.5,78.5,78.5,78.5,78.5,78.5,78.5,91.0,91.0,91.0,91.0,91.0,91.0,91.0,91.0,91.0,91.0,91.0,91.0,91.0,91.0,91.0],\"xaxis\":\"x\",\"yaxis\":\"y\",\"type\":\"histogram\"}],                        {\"template\":{\"data\":{\"bar\":[{\"error_x\":{\"color\":\"#2a3f5f\"},\"error_y\":{\"color\":\"#2a3f5f\"},\"marker\":{\"line\":{\"color\":\"#E5ECF6\",\"width\":0.5},\"pattern\":{\"fillmode\":\"overlay\",\"size\":10,\"solidity\":0.2}},\"type\":\"bar\"}],\"barpolar\":[{\"marker\":{\"line\":{\"color\":\"#E5ECF6\",\"width\":0.5},\"pattern\":{\"fillmode\":\"overlay\",\"size\":10,\"solidity\":0.2}},\"type\":\"barpolar\"}],\"carpet\":[{\"aaxis\":{\"endlinecolor\":\"#2a3f5f\",\"gridcolor\":\"white\",\"linecolor\":\"white\",\"minorgridcolor\":\"white\",\"startlinecolor\":\"#2a3f5f\"},\"baxis\":{\"endlinecolor\":\"#2a3f5f\",\"gridcolor\":\"white\",\"linecolor\":\"white\",\"minorgridcolor\":\"white\",\"startlinecolor\":\"#2a3f5f\"},\"type\":\"carpet\"}],\"choropleth\":[{\"colorbar\":{\"outlinewidth\":0,\"ticks\":\"\"},\"type\":\"choropleth\"}],\"contour\":[{\"colorbar\":{\"outlinewidth\":0,\"ticks\":\"\"},\"colorscale\":[[0.0,\"#0d0887\"],[0.1111111111111111,\"#46039f\"],[0.2222222222222222,\"#7201a8\"],[0.3333333333333333,\"#9c179e\"],[0.4444444444444444,\"#bd3786\"],[0.5555555555555556,\"#d8576b\"],[0.6666666666666666,\"#ed7953\"],[0.7777777777777778,\"#fb9f3a\"],[0.8888888888888888,\"#fdca26\"],[1.0,\"#f0f921\"]],\"type\":\"contour\"}],\"contourcarpet\":[{\"colorbar\":{\"outlinewidth\":0,\"ticks\":\"\"},\"type\":\"contourcarpet\"}],\"heatmap\":[{\"colorbar\":{\"outlinewidth\":0,\"ticks\":\"\"},\"colorscale\":[[0.0,\"#0d0887\"],[0.1111111111111111,\"#46039f\"],[0.2222222222222222,\"#7201a8\"],[0.3333333333333333,\"#9c179e\"],[0.4444444444444444,\"#bd3786\"],[0.5555555555555556,\"#d8576b\"],[0.6666666666666666,\"#ed7953\"],[0.7777777777777778,\"#fb9f3a\"],[0.8888888888888888,\"#fdca26\"],[1.0,\"#f0f921\"]],\"type\":\"heatmap\"}],\"heatmapgl\":[{\"colorbar\":{\"outlinewidth\":0,\"ticks\":\"\"},\"colorscale\":[[0.0,\"#0d0887\"],[0.1111111111111111,\"#46039f\"],[0.2222222222222222,\"#7201a8\"],[0.3333333333333333,\"#9c179e\"],[0.4444444444444444,\"#bd3786\"],[0.5555555555555556,\"#d8576b\"],[0.6666666666666666,\"#ed7953\"],[0.7777777777777778,\"#fb9f3a\"],[0.8888888888888888,\"#fdca26\"],[1.0,\"#f0f921\"]],\"type\":\"heatmapgl\"}],\"histogram\":[{\"marker\":{\"pattern\":{\"fillmode\":\"overlay\",\"size\":10,\"solidity\":0.2}},\"type\":\"histogram\"}],\"histogram2d\":[{\"colorbar\":{\"outlinewidth\":0,\"ticks\":\"\"},\"colorscale\":[[0.0,\"#0d0887\"],[0.1111111111111111,\"#46039f\"],[0.2222222222222222,\"#7201a8\"],[0.3333333333333333,\"#9c179e\"],[0.4444444444444444,\"#bd3786\"],[0.5555555555555556,\"#d8576b\"],[0.6666666666666666,\"#ed7953\"],[0.7777777777777778,\"#fb9f3a\"],[0.8888888888888888,\"#fdca26\"],[1.0,\"#f0f921\"]],\"type\":\"histogram2d\"}],\"histogram2dcontour\":[{\"colorbar\":{\"outlinewidth\":0,\"ticks\":\"\"},\"colorscale\":[[0.0,\"#0d0887\"],[0.1111111111111111,\"#46039f\"],[0.2222222222222222,\"#7201a8\"],[0.3333333333333333,\"#9c179e\"],[0.4444444444444444,\"#bd3786\"],[0.5555555555555556,\"#d8576b\"],[0.6666666666666666,\"#ed7953\"],[0.7777777777777778,\"#fb9f3a\"],[0.8888888888888888,\"#fdca26\"],[1.0,\"#f0f921\"]],\"type\":\"histogram2dcontour\"}],\"mesh3d\":[{\"colorbar\":{\"outlinewidth\":0,\"ticks\":\"\"},\"type\":\"mesh3d\"}],\"parcoords\":[{\"line\":{\"colorbar\":{\"outlinewidth\":0,\"ticks\":\"\"}},\"type\":\"parcoords\"}],\"pie\":[{\"automargin\":true,\"type\":\"pie\"}],\"scatter\":[{\"marker\":{\"colorbar\":{\"outlinewidth\":0,\"ticks\":\"\"}},\"type\":\"scatter\"}],\"scatter3d\":[{\"line\":{\"colorbar\":{\"outlinewidth\":0,\"ticks\":\"\"}},\"marker\":{\"colorbar\":{\"outlinewidth\":0,\"ticks\":\"\"}},\"type\":\"scatter3d\"}],\"scattercarpet\":[{\"marker\":{\"colorbar\":{\"outlinewidth\":0,\"ticks\":\"\"}},\"type\":\"scattercarpet\"}],\"scattergeo\":[{\"marker\":{\"colorbar\":{\"outlinewidth\":0,\"ticks\":\"\"}},\"type\":\"scattergeo\"}],\"scattergl\":[{\"marker\":{\"colorbar\":{\"outlinewidth\":0,\"ticks\":\"\"}},\"type\":\"scattergl\"}],\"scattermapbox\":[{\"marker\":{\"colorbar\":{\"outlinewidth\":0,\"ticks\":\"\"}},\"type\":\"scattermapbox\"}],\"scatterpolar\":[{\"marker\":{\"colorbar\":{\"outlinewidth\":0,\"ticks\":\"\"}},\"type\":\"scatterpolar\"}],\"scatterpolargl\":[{\"marker\":{\"colorbar\":{\"outlinewidth\":0,\"ticks\":\"\"}},\"type\":\"scatterpolargl\"}],\"scatterternary\":[{\"marker\":{\"colorbar\":{\"outlinewidth\":0,\"ticks\":\"\"}},\"type\":\"scatterternary\"}],\"surface\":[{\"colorbar\":{\"outlinewidth\":0,\"ticks\":\"\"},\"colorscale\":[[0.0,\"#0d0887\"],[0.1111111111111111,\"#46039f\"],[0.2222222222222222,\"#7201a8\"],[0.3333333333333333,\"#9c179e\"],[0.4444444444444444,\"#bd3786\"],[0.5555555555555556,\"#d8576b\"],[0.6666666666666666,\"#ed7953\"],[0.7777777777777778,\"#fb9f3a\"],[0.8888888888888888,\"#fdca26\"],[1.0,\"#f0f921\"]],\"type\":\"surface\"}],\"table\":[{\"cells\":{\"fill\":{\"color\":\"#EBF0F8\"},\"line\":{\"color\":\"white\"}},\"header\":{\"fill\":{\"color\":\"#C8D4E3\"},\"line\":{\"color\":\"white\"}},\"type\":\"table\"}]},\"layout\":{\"annotationdefaults\":{\"arrowcolor\":\"#2a3f5f\",\"arrowhead\":0,\"arrowwidth\":1},\"autotypenumbers\":\"strict\",\"coloraxis\":{\"colorbar\":{\"outlinewidth\":0,\"ticks\":\"\"}},\"colorscale\":{\"diverging\":[[0,\"#8e0152\"],[0.1,\"#c51b7d\"],[0.2,\"#de77ae\"],[0.3,\"#f1b6da\"],[0.4,\"#fde0ef\"],[0.5,\"#f7f7f7\"],[0.6,\"#e6f5d0\"],[0.7,\"#b8e186\"],[0.8,\"#7fbc41\"],[0.9,\"#4d9221\"],[1,\"#276419\"]],\"sequential\":[[0.0,\"#0d0887\"],[0.1111111111111111,\"#46039f\"],[0.2222222222222222,\"#7201a8\"],[0.3333333333333333,\"#9c179e\"],[0.4444444444444444,\"#bd3786\"],[0.5555555555555556,\"#d8576b\"],[0.6666666666666666,\"#ed7953\"],[0.7777777777777778,\"#fb9f3a\"],[0.8888888888888888,\"#fdca26\"],[1.0,\"#f0f921\"]],\"sequentialminus\":[[0.0,\"#0d0887\"],[0.1111111111111111,\"#46039f\"],[0.2222222222222222,\"#7201a8\"],[0.3333333333333333,\"#9c179e\"],[0.4444444444444444,\"#bd3786\"],[0.5555555555555556,\"#d8576b\"],[0.6666666666666666,\"#ed7953\"],[0.7777777777777778,\"#fb9f3a\"],[0.8888888888888888,\"#fdca26\"],[1.0,\"#f0f921\"]]},\"colorway\":[\"#636efa\",\"#EF553B\",\"#00cc96\",\"#ab63fa\",\"#FFA15A\",\"#19d3f3\",\"#FF6692\",\"#B6E880\",\"#FF97FF\",\"#FECB52\"],\"font\":{\"color\":\"#2a3f5f\"},\"geo\":{\"bgcolor\":\"white\",\"lakecolor\":\"white\",\"landcolor\":\"#E5ECF6\",\"showlakes\":true,\"showland\":true,\"subunitcolor\":\"white\"},\"hoverlabel\":{\"align\":\"left\"},\"hovermode\":\"closest\",\"mapbox\":{\"style\":\"light\"},\"paper_bgcolor\":\"white\",\"plot_bgcolor\":\"#E5ECF6\",\"polar\":{\"angularaxis\":{\"gridcolor\":\"white\",\"linecolor\":\"white\",\"ticks\":\"\"},\"bgcolor\":\"#E5ECF6\",\"radialaxis\":{\"gridcolor\":\"white\",\"linecolor\":\"white\",\"ticks\":\"\"}},\"scene\":{\"xaxis\":{\"backgroundcolor\":\"#E5ECF6\",\"gridcolor\":\"white\",\"gridwidth\":2,\"linecolor\":\"white\",\"showbackground\":true,\"ticks\":\"\",\"zerolinecolor\":\"white\"},\"yaxis\":{\"backgroundcolor\":\"#E5ECF6\",\"gridcolor\":\"white\",\"gridwidth\":2,\"linecolor\":\"white\",\"showbackground\":true,\"ticks\":\"\",\"zerolinecolor\":\"white\"},\"zaxis\":{\"backgroundcolor\":\"#E5ECF6\",\"gridcolor\":\"white\",\"gridwidth\":2,\"linecolor\":\"white\",\"showbackground\":true,\"ticks\":\"\",\"zerolinecolor\":\"white\"}},\"shapedefaults\":{\"line\":{\"color\":\"#2a3f5f\"}},\"ternary\":{\"aaxis\":{\"gridcolor\":\"white\",\"linecolor\":\"white\",\"ticks\":\"\"},\"baxis\":{\"gridcolor\":\"white\",\"linecolor\":\"white\",\"ticks\":\"\"},\"bgcolor\":\"#E5ECF6\",\"caxis\":{\"gridcolor\":\"white\",\"linecolor\":\"white\",\"ticks\":\"\"}},\"title\":{\"x\":0.05},\"xaxis\":{\"automargin\":true,\"gridcolor\":\"white\",\"linecolor\":\"white\",\"ticks\":\"\",\"title\":{\"standoff\":15},\"zerolinecolor\":\"white\",\"zerolinewidth\":2},\"yaxis\":{\"automargin\":true,\"gridcolor\":\"white\",\"linecolor\":\"white\",\"ticks\":\"\",\"title\":{\"standoff\":15},\"zerolinecolor\":\"white\",\"zerolinewidth\":2}}},\"xaxis\":{\"anchor\":\"y\",\"domain\":[0.0,1.0],\"title\":{\"text\":\"avr_salary\"}},\"yaxis\":{\"anchor\":\"x\",\"domain\":[0.0,1.0],\"title\":{\"text\":\"count\"}},\"legend\":{\"tracegroupgap\":0},\"title\":{\"text\":\"Data Analyst Jobs - Avrage Salary\"},\"barmode\":\"relative\"},                        {\"responsive\": true}                    ).then(function(){\n",
       "                            \n",
       "var gd = document.getElementById('54054347-aa06-44c3-87cf-4293424b2947');\n",
       "var x = new MutationObserver(function (mutations, observer) {{\n",
       "        var display = window.getComputedStyle(gd).display;\n",
       "        if (!display || display === 'none') {{\n",
       "            console.log([gd, 'removed!']);\n",
       "            Plotly.purge(gd);\n",
       "            observer.disconnect();\n",
       "        }}\n",
       "}});\n",
       "\n",
       "// Listen for the removal of the full notebook cells\n",
       "var notebookContainer = gd.closest('#notebook-container');\n",
       "if (notebookContainer) {{\n",
       "    x.observe(notebookContainer, {childList: true});\n",
       "}}\n",
       "\n",
       "// Listen for the clearing of the current output cell\n",
       "var outputEl = gd.closest('.output');\n",
       "if (outputEl) {{\n",
       "    x.observe(outputEl, {childList: true});\n",
       "}}\n",
       "\n",
       "                        })                };                            </script>        </div>\n",
       "</body>\n",
       "</html>"
      ]
     },
     "metadata": {},
     "output_type": "display_data"
    }
   ],
   "source": [
    "px.histogram(df, x=\"avr_salary\", title=\"Data Analyst Jobs - Avrage Salary\")"
   ]
  },
  {
   "cell_type": "code",
   "execution_count": 46,
   "metadata": {
    "colab": {
     "base_uri": "https://localhost:8080/",
     "height": 542
    },
    "id": "-ThFC2E8UluJ",
    "outputId": "3a09c172-5026-4542-c489-56f4ae0bdd1b"
   },
   "outputs": [
    {
     "data": {
      "text/html": [
       "<html>\n",
       "<head><meta charset=\"utf-8\" /></head>\n",
       "<body>\n",
       "    <div>            <script src=\"https://cdnjs.cloudflare.com/ajax/libs/mathjax/2.7.5/MathJax.js?config=TeX-AMS-MML_SVG\"></script><script type=\"text/javascript\">if (window.MathJax) {MathJax.Hub.Config({SVG: {font: \"STIX-Web\"}});}</script>                <script type=\"text/javascript\">window.PlotlyConfig = {MathJaxConfig: 'local'};</script>\n",
       "        <script src=\"https://cdn.plot.ly/plotly-2.8.3.min.js\"></script>                <div id=\"951012c6-4f58-4d94-a35a-ec0ad0853cb3\" class=\"plotly-graph-div\" style=\"height:525px; width:100%;\"></div>            <script type=\"text/javascript\">                                    window.PLOTLYENV=window.PLOTLYENV || {};                                    if (document.getElementById(\"951012c6-4f58-4d94-a35a-ec0ad0853cb3\")) {                    Plotly.newPlot(                        \"951012c6-4f58-4d94-a35a-ec0ad0853cb3\",                        [{\"alignmentgroup\":\"True\",\"hovertemplate\":\"value=%{x}<br>variable=%{y}<extra></extra>\",\"legendgroup\":\"\",\"marker\":{\"color\":\"#636efa\"},\"name\":\"\",\"notched\":false,\"offsetgroup\":\"\",\"orientation\":\"h\",\"showlegend\":false,\"x\":[37.0,37.0,37.0,37.0,37.0,37.0,37.0,37.0,37.0,37.0,37.0,37.0,37.0,37.0,37.0,37.0,37.0,37.0,37.0,37.0,37.0,37.0,37.0,37.0,37.0,37.0,37.0,37.0,37.0,37.0,46.0,46.0,46.0,46.0,46.0,46.0,46.0,46.0,46.0,46.0,46.0,46.0,46.0,46.0,46.0,46.0,46.0,46.0,46.0,46.0,46.0,46.0,46.0,46.0,46.0,46.0,46.0,46.0,46.0,46.0,51.0,51.0,51.0,51.0,51.0,51.0,51.0,51.0,51.0,51.0,51.0,51.0,51.0,51.0,51.0,51.0,51.0,51.0,51.0,51.0,51.0,51.0,51.0,51.0,51.0,51.0,51.0,51.0,51.0,51.0,51.0,51.0,51.0,51.0,51.0,51.0,51.0,51.0,51.0,51.0,51.0,51.0,51.0,51.0,51.0,51.0,51.0,51.0,51.0,51.0,51.0,51.0,51.0,51.0,51.0,51.0,51.0,51.0,51.0,51.0,59.0,59.0,59.0,59.0,59.0,59.0,59.0,59.0,59.0,59.0,59.0,59.0,59.0,59.0,59.0,59.0,59.0,59.0,59.0,59.0,59.0,59.0,59.0,59.0,59.0,59.0,59.0,59.0,59.0,59.0,43.0,43.0,43.0,43.0,43.0,43.0,43.0,43.0,43.0,43.0,43.0,43.0,43.0,43.0,43.0,43.0,43.0,43.0,43.0,43.0,43.0,43.0,43.0,43.0,43.0,43.0,43.0,43.0,43.0,43.0,43.0,60.0,60.0,60.0,60.0,60.0,60.0,60.0,60.0,60.0,60.0,60.0,60.0,60.0,60.0,60.0,60.0,60.0,60.0,60.0,60.0,60.0,60.0,60.0,60.0,60.0,60.0,60.0,60.0,60.0,60.0,41.0,41.0,41.0,41.0,41.0,41.0,41.0,41.0,41.0,41.0,41.0,41.0,41.0,41.0,41.0,41.0,41.0,41.0,41.0,41.0,41.0,41.0,41.0,41.0,41.0,41.0,41.0,41.0,41.0,45.0,45.0,45.0,45.0,45.0,45.0,45.0,45.0,45.0,45.0,45.0,73.0,73.0,73.0,73.0,73.0,73.0,73.0,73.0,73.0,73.0,73.0,73.0,73.0,73.0,84.0,84.0,84.0,84.0,84.0,84.0,84.0,84.0,84.0,84.0,84.0,84.0,84.0,84.0,84.0,84.0,84.0,84.0,27.0,27.0,27.0,27.0,27.0,27.0,27.0,27.0,27.0,27.0,27.0,27.0,27.0,27.0,27.0,27.0,27.0,27.0,27.0,27.0,27.0,27.0,27.0,27.0,27.0,27.0,27.0,27.0,27.0,27.0,42.0,42.0,42.0,42.0,42.0,42.0,42.0,42.0,42.0,42.0,42.0,42.0,42.0,42.0,42.0,42.0,42.0,42.0,42.0,42.0,42.0,42.0,42.0,42.0,42.0,42.0,42.0,77.0,77.0,77.0,77.0,77.0,77.0,77.0,77.0,77.0,77.0,77.0,77.0,77.0,77.0,77.0,77.0,77.0,77.0,77.0,77.0,77.0,77.0,77.0,77.0,77.0,77.0,77.0,77.0,77.0,98.0,98.0,98.0,98.0,98.0,98.0,98.0,98.0,98.0,98.0,98.0,98.0,98.0,98.0,98.0,98.0,98.0,98.0,98.0,98.0,98.0,98.0,98.0,98.0,98.0,98.0,98.0,98.0,98.0,98.0,48.0,48.0,48.0,48.0,48.0,48.0,48.0,48.0,48.0,48.0,48.0,48.0,48.0,48.0,48.0,48.0,48.0,48.0,48.0,48.0,48.0,48.0,26.0,26.0,26.0,26.0,26.0,26.0,26.0,26.0,26.0,26.0,26.0,26.0,26.0,26.0,26.0,26.0,26.0,26.0,26.0,26.0,26.0,26.0,26.0,26.0,26.0,26.0,26.0,26.0,26.0,31.0,31.0,31.0,31.0,47.0,47.0,47.0,43.0,43.0,43.0,43.0,43.0,43.0,43.0,43.0,43.0,43.0,43.0,43.0,43.0,43.0,43.0,43.0,43.0,43.0,43.0,43.0,43.0,43.0,43.0,43.0,43.0,43.0,43.0,43.0,43.0,43.0,49.0,49.0,49.0,49.0,49.0,49.0,49.0,49.0,49.0,49.0,49.0,49.0,49.0,49.0,49.0,49.0,49.0,49.0,30.0,30.0,30.0,30.0,30.0,30.0,30.0,30.0,55.0,55.0,55.0,55.0,55.0,55.0,55.0,55.0,55.0,55.0,55.0,55.0,55.0,55.0,55.0,55.0,55.0,55.0,55.0,55.0,55.0,55.0,55.0,55.0,55.0,55.0,55.0,55.0,55.0,37.0,37.0,37.0,37.0,37.0,37.0,37.0,37.0,37.0,37.0,37.0,37.0,37.0,37.0,37.0,37.0,37.0,37.0,37.0,37.0,37.0,37.0,37.0,37.0,37.0,37.0,37.0,37.0,37.0,57.0,57.0,57.0,57.0,57.0,57.0,57.0,57.0,57.0,57.0,57.0,57.0,57.0,57.0,57.0,57.0,57.0,57.0,57.0,57.0,57.0,57.0,57.0,57.0,57.0,57.0,57.0,57.0,57.0,35.0,35.0,35.0,35.0,35.0,35.0,35.0,35.0,35.0,35.0,35.0,35.0,35.0,35.0,35.0,35.0,35.0,35.0,35.0,35.0,35.0,35.0,35.0,35.0,35.0,35.0,35.0,35.0,42.0,42.0,42.0,42.0,42.0,42.0,42.0,42.0,42.0,42.0,42.0,42.0,42.0,42.0,42.0,42.0,42.0,42.0,42.0,42.0,42.0,42.0,42.0,42.0,42.0,42.0,42.0,42.0,42.0,42.0,65.0,65.0,65.0,65.0,65.0,65.0,65.0,65.0,65.0,65.0,65.0,65.0,65.0,65.0,65.0,65.0,65.0,65.0,65.0,65.0,65.0,65.0,65.0,65.0,65.0,65.0,65.0,65.0,65.0,113.0,113.0,113.0,113.0,113.0,113.0,113.0,113.0,113.0,113.0,113.0,113.0,113.0,113.0,113.0,113.0,113.0,113.0,113.0,113.0,113.0,113.0,113.0,113.0,113.0,113.0,113.0,113.0,113.0,42.0,42.0,42.0,42.0,60.0,60.0,60.0,60.0,60.0,60.0,60.0,60.0,60.0,60.0,60.0,60.0,60.0,60.0,60.0,60.0,60.0,60.0,60.0,60.0,60.0,60.0,60.0,60.0,60.0,60.0,60.0,60.0,60.0,60.0,73.0,73.0,73.0,73.0,73.0,73.0,73.0,73.0,73.0,73.0,73.0,73.0,73.0,73.0,73.0,73.0,73.0,73.0,73.0,73.0,73.0,73.0,73.0,73.0,73.0,73.0,73.0,73.0,73.0,67.0,67.0,67.0,67.0,67.0,67.0,67.0,67.0,67.0,67.0,67.0,67.0,67.0,67.0,67.0,67.0,67.0,67.0,67.0,67.0,67.0,67.0,67.0,67.0,67.0,67.0,67.0,67.0,67.0,42.0,42.0,42.0,42.0,42.0,42.0,42.0,42.0,42.0,42.0,42.0,42.0,42.0,42.0,42.0,42.0,42.0,42.0,42.0,42.0,42.0,42.0,42.0,42.0,42.0,42.0,42.0,42.0,42.0,42.0,97.0,97.0,97.0,97.0,97.0,97.0,97.0,97.0,97.0,97.0,97.0,97.0,97.0,97.0,97.0,97.0,97.0,97.0,97.0,97.0,97.0,97.0,97.0,97.0,97.0,97.0,97.0,97.0,97.0,97.0,68.0,68.0,68.0,68.0,68.0,68.0,68.0,68.0,68.0,68.0,68.0,68.0,68.0,68.0,68.0,68.0,29.0,29.0,29.0,29.0,29.0,29.0,29.0,29.0,29.0,29.0,29.0,29.0,29.0,29.0,29.0,29.0,29.0,29.0,29.0,29.0,29.0,29.0,29.0,29.0,29.0,29.0,29.0,29.0,29.0,47.0,47.0,47.0,47.0,47.0,47.0,47.0,47.0,47.0,47.0,47.0,47.0,47.0,47.0,47.0,47.0,47.0,47.0,47.0,47.0,47.0,47.0,47.0,47.0,47.0,47.0,47.0,47.0,74.0,74.0,74.0,74.0,74.0,74.0,74.0,74.0,74.0,74.0,74.0,74.0,74.0,74.0,74.0,74.0,74.0,74.0,74.0,74.0,74.0,74.0,74.0,74.0,74.0,74.0,74.0,74.0,53.0,53.0,53.0,53.0,53.0,53.0,53.0,53.0,53.0,53.0,53.0,53.0,53.0,53.0,53.0,53.0,53.0,53.0,53.0,53.0,53.0,53.0,53.0,53.0,53.0,53.0,53.0,53.0,53.0,46.0,46.0,46.0,46.0,46.0,46.0,46.0,46.0,46.0,46.0,46.0,46.0,46.0,46.0,46.0,46.0,46.0,46.0,46.0,46.0,46.0,46.0,46.0,46.0,46.0,46.0,46.0,46.0,43.0,43.0,43.0,43.0,43.0,43.0,43.0,43.0,43.0,43.0,43.0,43.0,43.0,43.0,43.0,43.0,43.0,43.0,43.0,43.0,43.0,43.0,43.0,43.0,43.0,43.0,43.0,43.0,43.0,45.0,45.0,45.0,45.0,45.0,45.0,45.0,45.0,45.0,45.0,45.0,41.0,41.0,41.0,41.0,41.0,41.0,41.0,41.0,41.0,41.0,41.0,41.0,41.0,41.0,41.0,41.0,41.0,41.0,41.0,41.0,41.0,41.0,41.0,41.0,41.0,41.0,41.0,41.0,38.0,38.0,38.0,38.0,38.0,38.0,38.0,38.0,38.0,38.0,38.0,38.0,38.0,38.0,38.0,38.0,38.0,38.0,38.0,38.0,38.0,38.0,38.0,38.0,38.0,38.0,38.0,38.0,38.0,37.0,37.0,37.0,37.0,37.0,37.0,37.0,37.0,37.0,37.0,37.0,37.0,37.0,37.0,37.0,37.0,37.0,37.0,37.0,37.0,37.0,37.0,37.0,37.0,37.0,37.0,37.0,37.0,37.0,64.0,64.0,64.0,64.0,64.0,64.0,64.0,64.0,64.0,64.0,64.0,64.0,64.0,64.0,64.0,64.0,64.0,64.0,64.0,64.0,64.0,64.0,64.0,64.0,64.0,64.0,64.0,64.0,64.0,64.0,50.0,50.0,50.0,50.0,50.0,50.0,50.0,50.0,50.0,50.0,50.0,50.0,50.0,50.0,50.0,50.0,50.0,50.0,50.0,37.0,37.0,37.0,37.0,37.0,37.0,37.0,37.0,37.0,37.0,37.0,37.0,37.0,37.0,37.0,37.0,37.0,37.0,37.0,37.0,37.0,37.0,37.0,37.0,37.0,37.0,37.0,37.0,37.0,37.0,73.0,73.0,73.0,73.0,73.0,73.0,73.0,73.0,73.0,73.0,73.0,73.0,73.0,73.0,73.0,73.0,73.0,73.0,76.0,76.0,76.0,76.0,76.0,76.0,76.0,76.0,76.0,76.0,76.0,76.0,76.0,76.0,76.0,76.0,76.0,76.0,76.0,76.0,76.0,76.0,76.0,76.0,76.0,76.0,76.0,76.0,60.0,60.0,60.0,60.0,60.0,60.0,60.0,60.0,60.0,60.0,60.0,60.0,60.0,60.0,60.0,60.0,60.0,60.0,60.0,60.0,60.0,60.0,60.0,60.0,60.0,60.0,60.0,60.0,60.0,60.0,60.0,34.0,34.0,34.0,34.0,34.0,24.0,24.0,24.0,24.0,24.0,24.0,24.0,24.0,24.0,24.0,24.0,24.0,24.0,24.0,24.0,24.0,24.0,24.0,24.0,24.0,24.0,24.0,24.0,24.0,24.0,24.0,24.0,24.0,24.0,30.0,30.0,30.0,30.0,30.0,30.0,30.0,30.0,30.0,30.0,30.0,30.0,30.0,30.0,30.0,30.0,30.0,30.0,30.0,30.0,30.0,30.0,30.0,30.0,30.0,30.0,30.0,30.0,30.0,30.0,41.0,41.0,41.0,41.0,41.0,41.0,41.0,41.0,41.0,41.0,41.0,41.0,41.0,41.0,41.0,41.0,41.0,41.0,41.0,41.0,41.0,41.0,41.0,41.0,41.0,41.0,41.0,41.0,41.0,44.0,44.0,44.0,44.0,44.0,44.0,44.0,44.0,44.0,44.0,44.0,44.0,44.0,44.0,44.0,44.0,44.0,44.0,44.0,44.0,44.0,44.0,44.0,44.0,44.0,44.0,44.0,44.0,48.0,48.0,48.0,48.0,48.0,48.0,48.0,48.0,48.0,48.0,48.0,48.0,48.0,48.0,48.0,48.0,48.0,48.0,48.0,48.0,48.0,48.0,48.0,48.0,48.0,48.0,48.0,44.0,44.0,44.0,44.0,44.0,44.0,44.0,44.0,44.0,44.0,44.0,44.0,110.0,110.0,110.0,110.0,110.0,110.0,110.0,110.0,110.0,110.0,110.0,110.0,110.0,110.0,110.0,110.0,110.0,110.0,110.0,110.0,110.0,110.0,110.0,110.0,110.0,110.0,110.0,110.0,110.0,89.0,89.0,89.0,89.0,89.0,89.0,89.0,89.0,89.0,89.0,89.0,89.0,89.0,89.0,89.0,89.0,89.0,89.0,89.0,89.0,89.0,89.0,89.0,89.0,89.0,89.0,89.0,89.0,69.0,69.0,69.0,69.0,69.0,69.0,69.0,69.0,69.0,69.0,69.0,69.0,69.0,69.0,69.0,69.0,69.0,69.0,69.0,69.0,69.0,69.0,69.0,69.0,69.0,69.0,69.0,69.0,69.0,69.0,51.0,51.0,51.0,51.0,51.0,51.0,51.0,51.0,51.0,51.0,51.0,51.0,51.0,51.0,51.0,51.0,51.0,51.0,51.0,51.0,51.0,51.0,51.0,51.0,51.0,51.0,51.0,51.0,51.0,58.0,58.0,58.0,58.0,58.0,58.0,58.0,58.0,58.0,58.0,58.0,58.0,58.0,58.0,58.0,58.0,58.0,58.0,58.0,58.0,58.0,58.0,58.0,58.0,58.0,58.0,58.0,58.0,58.0,58.0,58.0,63.0,63.0,63.0,63.0,63.0,63.0,63.0,63.0,63.0,63.0,63.0,63.0,63.0,63.0,63.0,63.0,63.0,63.0,63.0,63.0,42.0,42.0,42.0,42.0,42.0,42.0,42.0,42.0,42.0,42.0,42.0,42.0,42.0,42.0,42.0,42.0,42.0,42.0,42.0,42.0,42.0,42.0,42.0,42.0,42.0,42.0,42.0,53.0,53.0,53.0,53.0,53.0,53.0,53.0,53.0,53.0,53.0,53.0,53.0,53.0,53.0,53.0,53.0,53.0,53.0,53.0,53.0,53.0,53.0,53.0,53.0,53.0,53.0,35.0,35.0,35.0,35.0,35.0,35.0,35.0,35.0,35.0,35.0,35.0,35.0,35.0,35.0,35.0,35.0,35.0,35.0,35.0,35.0,35.0,35.0,35.0,35.0,35.0,35.0,35.0,35.0,35.0,35.0,43.0,43.0,43.0,40.0,40.0,40.0,40.0,40.0,40.0,40.0,40.0,40.0,40.0,40.0,40.0,40.0,40.0,40.0,40.0,40.0,40.0,40.0,50.0,50.0,50.0,50.0,50.0,50.0,50.0,50.0,50.0,50.0,50.0,35.0,35.0,35.0,35.0,35.0,35.0,35.0,57.0,57.0,28.0,28.0,28.0,28.0,28.0,28.0,28.0,28.0,28.0,28.0,28.0,28.0,28.0,28.0,28.0,28.0,28.0,28.0,28.0,28.0,28.0,28.0,28.0,28.0,28.0,28.0,28.0,28.0,46.0,46.0,46.0,46.0,46.0,46.0,46.0,50.0,50.0,50.0,50.0,50.0,50.0,50.0,50.0,50.0,50.0,50.0,50.0,50.0,50.0,50.0,50.0,50.0,50.0,50.0,50.0,50.0,50.0,50.0,50.0,50.0,50.0,50.0,50.0,50.0,50.0,54.0,54.0,54.0,54.0,54.0,54.0,54.0,54.0,54.0,54.0,54.0,54.0,54.0,54.0,54.0,54.0,54.0,54.0,54.0,54.0,54.0,54.0,54.0,54.0,54.0,54.0,54.0,54.0,53.0,53.0,53.0,53.0,53.0,53.0,53.0,53.0,53.0,53.0,53.0,53.0,53.0,53.0,53.0,53.0,53.0,53.0,53.0,53.0,53.0,53.0,53.0,53.0,53.0,40.0,40.0,40.0,40.0,40.0,40.0,40.0,40.0,40.0,57.0,57.0,57.0,57.0,57.0,57.0,57.0,57.0,57.0,57.0,57.0,57.0,57.0,57.0,57.0,57.0,57.0,57.0,57.0,57.0,57.0,57.0,57.0,57.0,57.0,57.0,57.0,99.0,99.0,99.0,99.0,99.0,99.0,99.0,99.0,99.0,99.0,99.0,99.0,99.0,99.0,99.0,99.0,99.0,99.0,99.0,99.0,99.0,99.0,99.0,99.0,99.0,99.0,99.0,99.0,93.0,93.0,93.0,93.0,93.0,93.0,93.0,93.0,93.0,93.0,93.0,93.0,93.0,93.0,93.0,93.0,93.0,93.0,93.0,93.0,93.0,93.0,93.0,93.0,93.0,82.0,82.0,82.0,82.0,82.0,82.0,82.0,82.0,82.0,82.0,82.0,82.0,82.0,82.0,82.0,82.0,82.0,82.0,82.0,82.0,82.0,82.0,82.0,82.0,82.0,82.0,82.0,82.0,65.0,65.0,65.0,65.0,65.0,65.0,65.0,65.0,65.0,65.0,65.0,65.0,65.0,65.0,65.0,65.0,65.0,65.0,65.0,65.0,65.0,65.0,65.0,65.0,65.0,65.0,65.0,65.0,46.0,46.0,46.0,46.0,46.0,46.0,46.0,46.0,46.0,46.0,46.0,46.0,46.0,46.0,46.0,46.0,46.0,46.0,46.0,46.0,46.0,46.0,46.0,47.0,47.0,47.0,47.0,47.0,47.0,47.0,47.0,47.0,47.0,47.0,47.0,47.0,47.0,47.0,47.0,47.0,47.0,47.0,47.0,47.0,47.0,47.0,47.0,47.0,47.0,34.0,34.0,34.0,34.0,34.0,34.0,34.0,34.0,34.0,34.0,34.0,34.0,34.0,34.0,34.0,34.0,34.0,34.0,34.0,34.0,34.0,34.0,34.0,35.0,35.0,35.0,35.0,35.0,35.0,35.0,35.0,35.0,35.0,35.0,35.0,35.0,35.0,35.0,35.0,35.0,35.0,35.0,35.0,35.0,35.0,35.0,35.0,35.0,35.0,55.0,55.0,55.0,55.0,55.0,55.0,55.0,55.0,55.0,55.0,55.0,55.0,55.0,55.0,55.0,55.0,55.0,55.0,55.0,55.0,55.0,55.0,55.0,55.0,55.0,55.0,55.0,32.0,32.0,32.0,32.0,36.0,36.0,36.0,57.0,57.0,57.0,57.0,57.0,57.0,57.0,57.0,57.0,57.0,57.0,57.0,57.0,57.0,57.0,57.0,57.0,57.0,57.0,57.0,57.0,57.0,57.0,57.0,57.0,57.0,49.0,49.0,49.0,49.0,49.0,49.0,49.0,49.0,49.0,49.0,49.0,49.0,49.0,49.0,49.0,49.0,49.0,49.0,49.0,49.0,49.0,49.0,49.0,49.0,49.0,49.0,49.0,49.0,57.0,57.0,57.0,57.0,57.0,57.0,57.0,57.0,57.0,57.0,57.0,57.0,57.0,57.0,57.0,57.0,57.0,57.0,57.0,57.0,57.0,57.0,57.0,57.0,57.0,57.0,57.0,78.0,78.0,78.0,78.0,78.0,78.0,78.0,78.0,78.0,78.0,78.0,78.0,78.0,78.0,78.0,66.0,66.0,66.0,66.0,66.0,66.0,66.0,66.0,66.0,66.0,66.0,66.0,66.0,66.0,66.0,66.0,66.0,66.0,66.0,66.0,66.0,66.0,66.0,66.0,66.0,66.0,66.0,66.0,66.0,66.0,87.0,87.0,87.0,87.0,87.0,87.0,87.0,87.0,87.0,87.0,87.0,87.0,87.0,87.0,87.0,87.0,87.0,87.0,87.0,87.0,87.0,87.0,87.0,87.0,87.0,87.0,87.0,87.0,87.0,87.0,88.0,88.0,88.0,88.0,88.0,88.0,88.0,88.0,88.0,88.0,88.0,88.0,88.0,88.0,88.0,88.0,88.0,88.0,88.0,88.0,88.0,88.0,88.0,88.0,88.0,88.0,88.0,88.0,88.0,88.0,87.0,87.0,87.0,87.0,87.0,87.0,87.0,87.0,87.0,87.0,87.0,87.0,87.0,87.0,87.0,87.0,87.0,87.0,87.0,87.0,87.0,87.0,87.0,87.0,87.0,87.0,87.0,87.0,87.0,87.0,85.0,85.0,85.0,85.0,85.0,85.0,85.0,85.0,85.0,85.0,85.0,85.0,85.0,85.0,85.0,85.0,85.0,85.0,85.0,85.0,85.0,85.0,85.0,85.0,85.0,85.0,85.0,85.0,85.0,85.0,76.0,76.0,76.0,76.0,76.0,76.0,76.0,76.0,76.0,76.0,76.0,76.0,76.0,76.0,76.0,76.0,76.0,76.0,76.0,76.0,76.0,76.0,76.0,76.0,76.0,76.0,76.0,76.0,76.0,76.0,76.0,110.0,110.0,110.0,110.0,110.0,110.0,110.0,110.0,110.0,110.0,110.0,110.0,110.0,110.0,110.0,110.0,110.0,110.0,110.0,110.0,110.0,110.0,110.0,110.0,110.0,110.0,110.0,110.0,110.0,110.0,78.0,78.0,78.0,78.0,78.0,78.0,78.0,78.0,78.0,78.0,78.0,78.0,78.0,78.0,78.0,78.0,78.0,78.0,78.0,78.0,78.0,78.0,78.0,78.0,78.0,78.0,78.0,78.0,78.0,88.0,88.0,88.0,88.0,88.0,88.0,88.0,88.0,88.0,88.0,88.0,127.0,127.0,127.0,127.0,127.0,127.0,127.0,127.0,127.0,127.0,127.0,127.0,127.0,127.0,90.0,90.0,90.0,90.0,90.0,90.0,90.0,90.0,90.0,90.0,90.0,90.0,90.0,90.0,90.0,90.0,90.0,90.0,52.0,52.0,52.0,52.0,52.0,52.0,52.0,52.0,52.0,52.0,52.0,52.0,52.0,52.0,52.0,52.0,52.0,52.0,52.0,52.0,52.0,52.0,52.0,52.0,52.0,52.0,52.0,52.0,52.0,52.0,74.0,74.0,74.0,74.0,74.0,74.0,74.0,74.0,74.0,74.0,74.0,74.0,74.0,74.0,74.0,74.0,74.0,74.0,74.0,74.0,74.0,74.0,74.0,74.0,74.0,74.0,74.0,132.0,132.0,132.0,132.0,132.0,132.0,132.0,132.0,132.0,132.0,132.0,132.0,132.0,132.0,132.0,132.0,132.0,132.0,132.0,132.0,132.0,132.0,132.0,132.0,132.0,132.0,132.0,132.0,132.0,114.0,114.0,114.0,114.0,114.0,114.0,114.0,114.0,114.0,114.0,114.0,114.0,114.0,114.0,114.0,114.0,114.0,114.0,114.0,114.0,114.0,114.0,114.0,114.0,114.0,114.0,114.0,114.0,114.0,114.0,96.0,96.0,96.0,96.0,96.0,96.0,96.0,96.0,96.0,96.0,96.0,96.0,96.0,96.0,96.0,96.0,96.0,96.0,96.0,96.0,96.0,96.0,47.0,47.0,47.0,47.0,47.0,47.0,47.0,47.0,47.0,47.0,47.0,47.0,47.0,47.0,47.0,47.0,47.0,47.0,47.0,47.0,47.0,47.0,47.0,47.0,47.0,47.0,47.0,47.0,47.0,59.0,59.0,59.0,59.0,81.0,81.0,81.0,69.0,69.0,69.0,69.0,69.0,69.0,69.0,69.0,69.0,69.0,69.0,69.0,69.0,69.0,69.0,69.0,69.0,69.0,69.0,69.0,69.0,69.0,69.0,69.0,69.0,69.0,69.0,69.0,69.0,69.0,112.0,112.0,112.0,112.0,112.0,112.0,112.0,112.0,112.0,112.0,112.0,112.0,112.0,112.0,112.0,112.0,112.0,112.0,54.0,54.0,54.0,54.0,54.0,54.0,54.0,54.0,103.0,103.0,103.0,103.0,103.0,103.0,103.0,103.0,103.0,103.0,103.0,103.0,103.0,103.0,103.0,103.0,103.0,103.0,103.0,103.0,103.0,103.0,103.0,103.0,103.0,103.0,103.0,103.0,103.0,70.0,70.0,70.0,70.0,70.0,70.0,70.0,70.0,70.0,70.0,70.0,70.0,70.0,70.0,70.0,70.0,70.0,70.0,70.0,70.0,70.0,70.0,70.0,70.0,70.0,70.0,70.0,70.0,70.0,103.0,103.0,103.0,103.0,103.0,103.0,103.0,103.0,103.0,103.0,103.0,103.0,103.0,103.0,103.0,103.0,103.0,103.0,103.0,103.0,103.0,103.0,103.0,103.0,103.0,103.0,103.0,103.0,103.0,45.0,45.0,45.0,45.0,45.0,45.0,45.0,45.0,45.0,45.0,45.0,45.0,45.0,45.0,45.0,45.0,45.0,45.0,45.0,45.0,45.0,45.0,45.0,45.0,45.0,45.0,45.0,45.0,66.0,66.0,66.0,66.0,66.0,66.0,66.0,66.0,66.0,66.0,66.0,66.0,66.0,66.0,66.0,66.0,66.0,66.0,66.0,66.0,66.0,66.0,66.0,66.0,66.0,66.0,66.0,66.0,66.0,66.0,81.0,81.0,81.0,81.0,81.0,81.0,81.0,81.0,81.0,81.0,81.0,81.0,81.0,81.0,81.0,81.0,81.0,81.0,81.0,81.0,81.0,81.0,81.0,81.0,81.0,81.0,81.0,81.0,81.0,132.0,132.0,132.0,132.0,132.0,132.0,132.0,132.0,132.0,132.0,132.0,132.0,132.0,132.0,132.0,132.0,132.0,132.0,132.0,132.0,132.0,132.0,132.0,132.0,132.0,132.0,132.0,132.0,132.0,63.0,63.0,63.0,63.0,66.0,66.0,66.0,66.0,66.0,66.0,66.0,66.0,66.0,66.0,66.0,66.0,66.0,66.0,66.0,66.0,66.0,66.0,66.0,66.0,66.0,66.0,66.0,66.0,66.0,66.0,66.0,66.0,66.0,66.0,82.0,82.0,82.0,82.0,82.0,82.0,82.0,82.0,82.0,82.0,82.0,82.0,82.0,82.0,82.0,82.0,82.0,82.0,82.0,82.0,82.0,82.0,82.0,82.0,82.0,82.0,82.0,82.0,82.0,92.0,92.0,92.0,92.0,92.0,92.0,92.0,92.0,92.0,92.0,92.0,92.0,92.0,92.0,92.0,92.0,92.0,92.0,92.0,92.0,92.0,92.0,92.0,92.0,92.0,92.0,92.0,92.0,92.0,76.0,76.0,76.0,76.0,76.0,76.0,76.0,76.0,76.0,76.0,76.0,76.0,76.0,76.0,76.0,76.0,76.0,76.0,76.0,76.0,76.0,76.0,76.0,76.0,76.0,76.0,76.0,76.0,76.0,76.0,129.0,129.0,129.0,129.0,129.0,129.0,129.0,129.0,129.0,129.0,129.0,129.0,129.0,129.0,129.0,129.0,129.0,129.0,129.0,129.0,129.0,129.0,129.0,129.0,129.0,129.0,129.0,129.0,129.0,129.0,87.0,87.0,87.0,87.0,87.0,87.0,87.0,87.0,87.0,87.0,87.0,87.0,87.0,87.0,87.0,87.0,38.0,38.0,38.0,38.0,38.0,38.0,38.0,38.0,38.0,38.0,38.0,38.0,38.0,38.0,38.0,38.0,38.0,38.0,38.0,38.0,38.0,38.0,38.0,38.0,38.0,38.0,38.0,38.0,38.0,76.0,76.0,76.0,76.0,76.0,76.0,76.0,76.0,76.0,76.0,76.0,76.0,76.0,76.0,76.0,76.0,76.0,76.0,76.0,76.0,76.0,76.0,76.0,76.0,76.0,76.0,76.0,76.0,123.0,123.0,123.0,123.0,123.0,123.0,123.0,123.0,123.0,123.0,123.0,123.0,123.0,123.0,123.0,123.0,123.0,123.0,123.0,123.0,123.0,123.0,123.0,123.0,123.0,123.0,123.0,123.0,94.0,94.0,94.0,94.0,94.0,94.0,94.0,94.0,94.0,94.0,94.0,94.0,94.0,94.0,94.0,94.0,94.0,94.0,94.0,94.0,94.0,94.0,94.0,94.0,94.0,94.0,94.0,94.0,94.0,102.0,102.0,102.0,102.0,102.0,102.0,102.0,102.0,102.0,102.0,102.0,102.0,102.0,102.0,102.0,102.0,102.0,102.0,102.0,102.0,102.0,102.0,102.0,102.0,102.0,102.0,102.0,102.0,94.0,94.0,94.0,94.0,94.0,94.0,94.0,94.0,94.0,94.0,94.0,94.0,94.0,94.0,94.0,94.0,94.0,94.0,94.0,94.0,94.0,94.0,94.0,94.0,94.0,94.0,94.0,94.0,94.0,78.0,78.0,78.0,78.0,78.0,78.0,78.0,78.0,78.0,78.0,78.0,78.0,78.0,78.0,78.0,78.0,78.0,78.0,78.0,78.0,78.0,78.0,78.0,78.0,78.0,78.0,78.0,78.0,78.0,78.0,78.0,78.0,78.0,78.0,78.0,78.0,78.0,78.0,78.0,68.0,68.0,68.0,68.0,68.0,68.0,68.0,68.0,68.0,68.0,68.0,68.0,68.0,68.0,68.0,68.0,68.0,68.0,68.0,68.0,68.0,68.0,68.0,68.0,68.0,68.0,68.0,68.0,68.0,44.0,44.0,44.0,44.0,44.0,44.0,44.0,44.0,44.0,44.0,44.0,44.0,44.0,44.0,44.0,44.0,44.0,44.0,44.0,44.0,44.0,44.0,44.0,44.0,44.0,44.0,44.0,44.0,44.0,113.0,113.0,113.0,113.0,113.0,113.0,113.0,113.0,113.0,113.0,113.0,113.0,113.0,113.0,113.0,113.0,113.0,113.0,113.0,113.0,113.0,113.0,113.0,113.0,113.0,113.0,113.0,113.0,113.0,113.0,93.0,93.0,93.0,93.0,93.0,93.0,93.0,93.0,93.0,93.0,93.0,93.0,93.0,93.0,93.0,93.0,93.0,93.0,93.0,68.0,68.0,68.0,68.0,68.0,68.0,68.0,68.0,68.0,68.0,68.0,68.0,68.0,68.0,68.0,68.0,68.0,68.0,68.0,68.0,68.0,68.0,68.0,68.0,68.0,68.0,68.0,68.0,68.0,68.0,89.0,89.0,89.0,89.0,89.0,89.0,89.0,89.0,89.0,89.0,89.0,89.0,89.0,89.0,89.0,89.0,89.0,89.0,122.0,122.0,122.0,122.0,122.0,122.0,122.0,122.0,122.0,122.0,122.0,122.0,122.0,122.0,122.0,122.0,122.0,122.0,122.0,122.0,122.0,122.0,122.0,122.0,122.0,122.0,122.0,122.0,124.0,124.0,124.0,124.0,124.0,124.0,124.0,124.0,124.0,124.0,124.0,124.0,124.0,124.0,124.0,124.0,124.0,124.0,124.0,124.0,124.0,124.0,124.0,124.0,124.0,124.0,124.0,124.0,124.0,124.0,124.0,61.0,61.0,61.0,61.0,61.0,48.0,48.0,48.0,48.0,48.0,48.0,48.0,48.0,48.0,48.0,48.0,48.0,48.0,48.0,48.0,48.0,48.0,48.0,48.0,48.0,48.0,48.0,48.0,48.0,48.0,48.0,48.0,48.0,48.0,53.0,53.0,53.0,53.0,53.0,53.0,53.0,53.0,53.0,53.0,53.0,53.0,53.0,53.0,53.0,53.0,53.0,53.0,53.0,53.0,53.0,53.0,53.0,53.0,53.0,53.0,53.0,53.0,53.0,53.0,86.0,86.0,86.0,86.0,86.0,86.0,86.0,86.0,86.0,86.0,86.0,86.0,86.0,86.0,86.0,86.0,86.0,86.0,86.0,86.0,86.0,86.0,86.0,86.0,86.0,86.0,86.0,86.0,86.0,82.0,82.0,82.0,82.0,82.0,82.0,82.0,82.0,82.0,82.0,82.0,82.0,82.0,82.0,82.0,82.0,82.0,82.0,82.0,82.0,82.0,82.0,82.0,82.0,82.0,82.0,82.0,82.0,88.0,88.0,88.0,88.0,88.0,88.0,88.0,88.0,88.0,88.0,88.0,88.0,88.0,88.0,88.0,88.0,88.0,88.0,88.0,88.0,88.0,88.0,88.0,88.0,88.0,88.0,88.0,78.0,78.0,78.0,78.0,78.0,78.0,78.0,78.0,78.0,78.0,78.0,78.0,190.0,190.0,190.0,190.0,190.0,190.0,190.0,190.0,190.0,190.0,190.0,190.0,190.0,190.0,190.0,190.0,190.0,190.0,190.0,190.0,190.0,190.0,190.0,190.0,190.0,190.0,190.0,190.0,190.0,151.0,151.0,151.0,151.0,151.0,151.0,151.0,151.0,151.0,151.0,151.0,151.0,151.0,151.0,151.0,151.0,151.0,151.0,151.0,151.0,151.0,151.0,151.0,151.0,151.0,151.0,151.0,151.0,127.0,127.0,127.0,127.0,127.0,127.0,127.0,127.0,127.0,127.0,127.0,127.0,127.0,127.0,127.0,127.0,127.0,127.0,127.0,127.0,127.0,127.0,127.0,127.0,127.0,127.0,127.0,127.0,127.0,127.0,93.0,93.0,93.0,93.0,93.0,93.0,93.0,93.0,93.0,93.0,93.0,93.0,93.0,93.0,93.0,93.0,93.0,93.0,93.0,93.0,93.0,93.0,93.0,93.0,93.0,93.0,93.0,93.0,93.0,93.0,93.0,93.0,93.0,93.0,93.0,93.0,93.0,93.0,93.0,93.0,93.0,93.0,93.0,93.0,93.0,93.0,93.0,93.0,93.0,93.0,93.0,93.0,93.0,93.0,93.0,93.0,93.0,93.0,93.0,93.0,116.0,116.0,116.0,116.0,116.0,116.0,116.0,116.0,116.0,116.0,116.0,116.0,116.0,116.0,116.0,116.0,116.0,116.0,116.0,116.0,76.0,76.0,76.0,76.0,76.0,76.0,76.0,76.0,76.0,76.0,76.0,76.0,76.0,76.0,76.0,76.0,76.0,76.0,76.0,76.0,76.0,76.0,76.0,76.0,76.0,76.0,76.0,104.0,104.0,104.0,104.0,104.0,104.0,104.0,104.0,104.0,104.0,104.0,104.0,104.0,104.0,104.0,104.0,104.0,104.0,104.0,104.0,104.0,104.0,104.0,104.0,104.0,104.0,42.0,42.0,42.0,42.0,42.0,42.0,42.0,42.0,42.0,42.0,42.0,42.0,42.0,42.0,42.0,42.0,42.0,42.0,42.0,42.0,42.0,42.0,42.0,42.0,42.0,42.0,42.0,42.0,42.0,42.0,77.0,77.0,77.0,72.0,72.0,72.0,72.0,72.0,72.0,72.0,72.0,72.0,72.0,72.0,72.0,72.0,72.0,72.0,72.0,72.0,72.0,72.0,86.0,86.0,86.0,86.0,86.0,86.0,86.0,86.0,86.0,86.0,86.0,67.0,67.0,67.0,67.0,67.0,67.0,67.0,70.0,70.0,52.0,52.0,52.0,52.0,52.0,52.0,52.0,52.0,52.0,52.0,52.0,52.0,52.0,52.0,52.0,52.0,52.0,52.0,52.0,52.0,52.0,52.0,52.0,52.0,52.0,52.0,52.0,52.0,86.0,86.0,86.0,86.0,86.0,86.0,86.0,86.0,86.0,86.0,86.0,86.0,86.0,86.0,86.0,86.0,86.0,86.0,86.0,86.0,86.0,86.0,86.0,86.0,86.0,86.0,86.0,86.0,86.0,86.0,86.0,86.0,86.0,86.0,86.0,86.0,86.0,75.0,75.0,75.0,75.0,75.0,75.0,75.0,75.0,75.0,75.0,75.0,75.0,75.0,75.0,75.0,75.0,75.0,75.0,75.0,75.0,75.0,75.0,75.0,75.0,75.0,75.0,75.0,75.0,99.0,99.0,99.0,99.0,99.0,99.0,99.0,99.0,99.0,99.0,99.0,99.0,99.0,99.0,99.0,99.0,99.0,99.0,99.0,99.0,99.0,99.0,99.0,99.0,99.0,74.0,74.0,74.0,74.0,74.0,74.0,74.0,74.0,74.0,104.0,104.0,104.0,104.0,104.0,104.0,104.0,104.0,104.0,104.0,104.0,104.0,104.0,104.0,104.0,104.0,104.0,104.0,104.0,104.0,104.0,104.0,104.0,104.0,104.0,104.0,104.0,178.0,178.0,178.0,178.0,178.0,178.0,178.0,178.0,178.0,178.0,178.0,178.0,178.0,178.0,178.0,178.0,178.0,178.0,178.0,178.0,178.0,178.0,178.0,178.0,178.0,178.0,178.0,178.0,159.0,159.0,159.0,159.0,159.0,159.0,159.0,159.0,159.0,159.0,159.0,159.0,159.0,159.0,159.0,159.0,159.0,159.0,159.0,159.0,159.0,159.0,159.0,159.0,159.0,116.0,116.0,116.0,116.0,116.0,116.0,116.0,116.0,116.0,116.0,116.0,116.0,116.0,116.0,116.0,116.0,116.0,116.0,116.0,116.0,116.0,116.0,116.0,116.0,116.0,116.0,116.0,116.0,120.0,120.0,120.0,120.0,120.0,120.0,120.0,120.0,120.0,120.0,120.0,120.0,120.0,120.0,120.0,120.0,120.0,120.0,120.0,120.0,120.0,120.0,120.0,120.0,120.0,120.0,120.0,120.0,86.0,86.0,86.0,86.0,86.0,86.0,86.0,86.0,86.0,86.0,86.0,86.0,86.0,86.0,86.0,86.0,86.0,86.0,86.0,86.0,86.0,86.0,86.0,74.0,74.0,74.0,74.0,74.0,74.0,74.0,74.0,74.0,74.0,74.0,74.0,74.0,74.0,74.0,74.0,74.0,74.0,74.0,74.0,74.0,74.0,74.0,74.0,74.0,74.0,61.0,61.0,61.0,61.0,61.0,61.0,61.0,61.0,61.0,61.0,61.0,61.0,61.0,61.0,61.0,61.0,61.0,61.0,61.0,61.0,61.0,61.0,61.0,67.0,67.0,67.0,67.0,67.0,67.0,67.0,67.0,67.0,67.0,67.0,67.0,67.0,67.0,67.0,67.0,67.0,67.0,67.0,67.0,67.0,67.0,67.0,67.0,67.0,67.0,101.0,101.0,101.0,101.0,101.0,101.0,101.0,101.0,101.0,101.0,101.0,101.0,101.0,101.0,101.0,101.0,101.0,101.0,101.0,101.0,101.0,101.0,101.0,101.0,101.0,101.0,101.0,56.0,56.0,56.0,56.0,67.0,67.0,67.0,67.0,67.0,67.0,67.0,67.0,67.0,67.0,67.0,67.0,67.0,67.0,67.0,67.0,67.0,67.0,67.0,67.0,67.0,67.0,67.0,67.0,67.0,67.0,67.0,67.0,67.0,91.0,91.0,91.0,91.0,91.0,91.0,91.0,91.0,91.0,91.0,91.0,91.0,91.0,91.0,91.0,91.0,91.0,91.0,91.0,91.0,91.0,91.0,91.0,91.0,91.0,91.0,91.0,91.0,100.0,100.0,100.0,100.0,100.0,100.0,100.0,100.0,100.0,100.0,100.0,100.0,100.0,100.0,100.0,100.0,100.0,100.0,100.0,100.0,100.0,100.0,100.0,100.0,100.0,100.0,100.0,104.0,104.0,104.0,104.0,104.0,104.0,104.0,104.0,104.0,104.0,104.0,104.0,104.0,104.0,104.0,51.5,51.5,51.5,51.5,51.5,51.5,51.5,51.5,51.5,51.5,51.5,51.5,51.5,51.5,51.5,51.5,51.5,51.5,51.5,51.5,51.5,51.5,51.5,51.5,51.5,51.5,51.5,51.5,51.5,51.5,66.5,66.5,66.5,66.5,66.5,66.5,66.5,66.5,66.5,66.5,66.5,66.5,66.5,66.5,66.5,66.5,66.5,66.5,66.5,66.5,66.5,66.5,66.5,66.5,66.5,66.5,66.5,66.5,66.5,66.5,69.5,69.5,69.5,69.5,69.5,69.5,69.5,69.5,69.5,69.5,69.5,69.5,69.5,69.5,69.5,69.5,69.5,69.5,69.5,69.5,69.5,69.5,69.5,69.5,69.5,69.5,69.5,69.5,69.5,69.5,69.0,69.0,69.0,69.0,69.0,69.0,69.0,69.0,69.0,69.0,69.0,69.0,69.0,69.0,69.0,69.0,69.0,69.0,69.0,69.0,69.0,69.0,69.0,69.0,69.0,69.0,69.0,69.0,69.0,69.0,72.0,72.0,72.0,72.0,72.0,72.0,72.0,72.0,72.0,72.0,72.0,72.0,72.0,72.0,72.0,72.0,72.0,72.0,72.0,72.0,72.0,72.0,72.0,72.0,72.0,72.0,72.0,72.0,72.0,72.0,59.5,59.5,59.5,59.5,59.5,59.5,59.5,59.5,59.5,59.5,59.5,59.5,59.5,59.5,59.5,59.5,59.5,59.5,59.5,59.5,59.5,59.5,59.5,59.5,59.5,59.5,59.5,59.5,59.5,59.5,59.5,85.0,85.0,85.0,85.0,85.0,85.0,85.0,85.0,85.0,85.0,85.0,85.0,85.0,85.0,85.0,85.0,85.0,85.0,85.0,85.0,85.0,85.0,85.0,85.0,85.0,85.0,85.0,85.0,85.0,85.0,59.5,59.5,59.5,59.5,59.5,59.5,59.5,59.5,59.5,59.5,59.5,59.5,59.5,59.5,59.5,59.5,59.5,59.5,59.5,59.5,59.5,59.5,59.5,59.5,59.5,59.5,59.5,59.5,59.5,66.5,66.5,66.5,66.5,66.5,66.5,66.5,66.5,66.5,66.5,66.5,100.0,100.0,100.0,100.0,100.0,100.0,100.0,100.0,100.0,100.0,100.0,100.0,100.0,100.0,87.0,87.0,87.0,87.0,87.0,87.0,87.0,87.0,87.0,87.0,87.0,87.0,87.0,87.0,87.0,87.0,87.0,87.0,39.5,39.5,39.5,39.5,39.5,39.5,39.5,39.5,39.5,39.5,39.5,39.5,39.5,39.5,39.5,39.5,39.5,39.5,39.5,39.5,39.5,39.5,39.5,39.5,39.5,39.5,39.5,39.5,39.5,39.5,58.0,58.0,58.0,58.0,58.0,58.0,58.0,58.0,58.0,58.0,58.0,58.0,58.0,58.0,58.0,58.0,58.0,58.0,58.0,58.0,58.0,58.0,58.0,58.0,58.0,58.0,58.0,104.5,104.5,104.5,104.5,104.5,104.5,104.5,104.5,104.5,104.5,104.5,104.5,104.5,104.5,104.5,104.5,104.5,104.5,104.5,104.5,104.5,104.5,104.5,104.5,104.5,104.5,104.5,104.5,104.5,106.0,106.0,106.0,106.0,106.0,106.0,106.0,106.0,106.0,106.0,106.0,106.0,106.0,106.0,106.0,106.0,106.0,106.0,106.0,106.0,106.0,106.0,106.0,106.0,106.0,106.0,106.0,106.0,106.0,106.0,72.0,72.0,72.0,72.0,72.0,72.0,72.0,72.0,72.0,72.0,72.0,72.0,72.0,72.0,72.0,72.0,72.0,72.0,72.0,72.0,72.0,72.0,36.5,36.5,36.5,36.5,36.5,36.5,36.5,36.5,36.5,36.5,36.5,36.5,36.5,36.5,36.5,36.5,36.5,36.5,36.5,36.5,36.5,36.5,36.5,36.5,36.5,36.5,36.5,36.5,36.5,45.0,45.0,45.0,45.0,64.0,64.0,64.0,56.0,56.0,56.0,56.0,56.0,56.0,56.0,56.0,56.0,56.0,56.0,56.0,56.0,56.0,56.0,56.0,56.0,56.0,56.0,56.0,56.0,56.0,56.0,56.0,56.0,56.0,56.0,56.0,56.0,56.0,80.5,80.5,80.5,80.5,80.5,80.5,80.5,80.5,80.5,80.5,80.5,80.5,80.5,80.5,80.5,80.5,80.5,80.5,42.0,42.0,42.0,42.0,42.0,42.0,42.0,42.0,79.0,79.0,79.0,79.0,79.0,79.0,79.0,79.0,79.0,79.0,79.0,79.0,79.0,79.0,79.0,79.0,79.0,79.0,79.0,79.0,79.0,79.0,79.0,79.0,79.0,79.0,79.0,79.0,79.0,53.5,53.5,53.5,53.5,53.5,53.5,53.5,53.5,53.5,53.5,53.5,53.5,53.5,53.5,53.5,53.5,53.5,53.5,53.5,53.5,53.5,53.5,53.5,53.5,53.5,53.5,53.5,53.5,53.5,80.0,80.0,80.0,80.0,80.0,80.0,80.0,80.0,80.0,80.0,80.0,80.0,80.0,80.0,80.0,80.0,80.0,80.0,80.0,80.0,80.0,80.0,80.0,80.0,80.0,80.0,80.0,80.0,80.0,40.0,40.0,40.0,40.0,40.0,40.0,40.0,40.0,40.0,40.0,40.0,40.0,40.0,40.0,40.0,40.0,40.0,40.0,40.0,40.0,40.0,40.0,40.0,40.0,40.0,40.0,40.0,40.0,54.0,54.0,54.0,54.0,54.0,54.0,54.0,54.0,54.0,54.0,54.0,54.0,54.0,54.0,54.0,54.0,54.0,54.0,54.0,54.0,54.0,54.0,54.0,54.0,54.0,54.0,54.0,54.0,54.0,54.0,73.0,73.0,73.0,73.0,73.0,73.0,73.0,73.0,73.0,73.0,73.0,73.0,73.0,73.0,73.0,73.0,73.0,73.0,73.0,73.0,73.0,73.0,73.0,73.0,73.0,73.0,73.0,73.0,73.0,122.5,122.5,122.5,122.5,122.5,122.5,122.5,122.5,122.5,122.5,122.5,122.5,122.5,122.5,122.5,122.5,122.5,122.5,122.5,122.5,122.5,122.5,122.5,122.5,122.5,122.5,122.5,122.5,122.5,52.5,52.5,52.5,52.5,63.0,63.0,63.0,63.0,63.0,63.0,63.0,63.0,63.0,63.0,63.0,63.0,63.0,63.0,63.0,63.0,63.0,63.0,63.0,63.0,63.0,63.0,63.0,63.0,63.0,63.0,63.0,63.0,63.0,63.0,77.5,77.5,77.5,77.5,77.5,77.5,77.5,77.5,77.5,77.5,77.5,77.5,77.5,77.5,77.5,77.5,77.5,77.5,77.5,77.5,77.5,77.5,77.5,77.5,77.5,77.5,77.5,77.5,77.5,79.5,79.5,79.5,79.5,79.5,79.5,79.5,79.5,79.5,79.5,79.5,79.5,79.5,79.5,79.5,79.5,79.5,79.5,79.5,79.5,79.5,79.5,79.5,79.5,79.5,79.5,79.5,79.5,79.5,59.0,59.0,59.0,59.0,59.0,59.0,59.0,59.0,59.0,59.0,59.0,59.0,59.0,59.0,59.0,59.0,59.0,59.0,59.0,59.0,59.0,59.0,59.0,59.0,59.0,59.0,59.0,59.0,59.0,59.0,113.0,113.0,113.0,113.0,113.0,113.0,113.0,113.0,113.0,113.0,113.0,113.0,113.0,113.0,113.0,113.0,113.0,113.0,113.0,113.0,113.0,113.0,113.0,113.0,113.0,113.0,113.0,113.0,113.0,113.0,77.5,77.5,77.5,77.5,77.5,77.5,77.5,77.5,77.5,77.5,77.5,77.5,77.5,77.5,77.5,77.5,33.5,33.5,33.5,33.5,33.5,33.5,33.5,33.5,33.5,33.5,33.5,33.5,33.5,33.5,33.5,33.5,33.5,33.5,33.5,33.5,33.5,33.5,33.5,33.5,33.5,33.5,33.5,33.5,33.5,61.5,61.5,61.5,61.5,61.5,61.5,61.5,61.5,61.5,61.5,61.5,61.5,61.5,61.5,61.5,61.5,61.5,61.5,61.5,61.5,61.5,61.5,61.5,61.5,61.5,61.5,61.5,61.5,98.5,98.5,98.5,98.5,98.5,98.5,98.5,98.5,98.5,98.5,98.5,98.5,98.5,98.5,98.5,98.5,98.5,98.5,98.5,98.5,98.5,98.5,98.5,98.5,98.5,98.5,98.5,98.5,73.5,73.5,73.5,73.5,73.5,73.5,73.5,73.5,73.5,73.5,73.5,73.5,73.5,73.5,73.5,73.5,73.5,73.5,73.5,73.5,73.5,73.5,73.5,73.5,73.5,73.5,73.5,73.5,73.5,74.0,74.0,74.0,74.0,74.0,74.0,74.0,74.0,74.0,74.0,74.0,74.0,74.0,74.0,74.0,74.0,74.0,74.0,74.0,74.0,74.0,74.0,74.0,74.0,74.0,74.0,74.0,74.0,68.5,68.5,68.5,68.5,68.5,68.5,68.5,68.5,68.5,68.5,68.5,68.5,68.5,68.5,68.5,68.5,68.5,68.5,68.5,68.5,68.5,68.5,68.5,68.5,68.5,68.5,68.5,68.5,68.5,61.5,61.5,61.5,61.5,61.5,61.5,61.5,61.5,61.5,61.5,61.5,59.5,59.5,59.5,59.5,59.5,59.5,59.5,59.5,59.5,59.5,59.5,59.5,59.5,59.5,59.5,59.5,59.5,59.5,59.5,59.5,59.5,59.5,59.5,59.5,59.5,59.5,59.5,59.5,53.0,53.0,53.0,53.0,53.0,53.0,53.0,53.0,53.0,53.0,53.0,53.0,53.0,53.0,53.0,53.0,53.0,53.0,53.0,53.0,53.0,53.0,53.0,53.0,53.0,53.0,53.0,53.0,53.0,40.5,40.5,40.5,40.5,40.5,40.5,40.5,40.5,40.5,40.5,40.5,40.5,40.5,40.5,40.5,40.5,40.5,40.5,40.5,40.5,40.5,40.5,40.5,40.5,40.5,40.5,40.5,40.5,40.5,88.5,88.5,88.5,88.5,88.5,88.5,88.5,88.5,88.5,88.5,88.5,88.5,88.5,88.5,88.5,88.5,88.5,88.5,88.5,88.5,88.5,88.5,88.5,88.5,88.5,88.5,88.5,88.5,88.5,88.5,71.5,71.5,71.5,71.5,71.5,71.5,71.5,71.5,71.5,71.5,71.5,71.5,71.5,71.5,71.5,71.5,71.5,71.5,71.5,52.5,52.5,52.5,52.5,52.5,52.5,52.5,52.5,52.5,52.5,52.5,52.5,52.5,52.5,52.5,52.5,52.5,52.5,52.5,52.5,52.5,52.5,52.5,52.5,52.5,52.5,52.5,52.5,52.5,52.5,81.0,81.0,81.0,81.0,81.0,81.0,81.0,81.0,81.0,81.0,81.0,81.0,81.0,81.0,81.0,81.0,81.0,81.0,99.0,99.0,99.0,99.0,99.0,99.0,99.0,99.0,99.0,99.0,99.0,99.0,99.0,99.0,99.0,99.0,99.0,99.0,99.0,99.0,99.0,99.0,99.0,99.0,99.0,99.0,99.0,99.0,92.0,92.0,92.0,92.0,92.0,92.0,92.0,92.0,92.0,92.0,92.0,92.0,92.0,92.0,92.0,92.0,92.0,92.0,92.0,92.0,92.0,92.0,92.0,92.0,92.0,92.0,92.0,92.0,92.0,92.0,92.0,47.5,47.5,47.5,47.5,47.5,36.0,36.0,36.0,36.0,36.0,36.0,36.0,36.0,36.0,36.0,36.0,36.0,36.0,36.0,36.0,36.0,36.0,36.0,36.0,36.0,36.0,36.0,36.0,36.0,36.0,36.0,36.0,36.0,36.0,41.5,41.5,41.5,41.5,41.5,41.5,41.5,41.5,41.5,41.5,41.5,41.5,41.5,41.5,41.5,41.5,41.5,41.5,41.5,41.5,41.5,41.5,41.5,41.5,41.5,41.5,41.5,41.5,41.5,41.5,63.5,63.5,63.5,63.5,63.5,63.5,63.5,63.5,63.5,63.5,63.5,63.5,63.5,63.5,63.5,63.5,63.5,63.5,63.5,63.5,63.5,63.5,63.5,63.5,63.5,63.5,63.5,63.5,63.5,63.0,63.0,63.0,63.0,63.0,63.0,63.0,63.0,63.0,63.0,63.0,63.0,63.0,63.0,63.0,63.0,63.0,63.0,63.0,63.0,63.0,63.0,63.0,63.0,63.0,63.0,63.0,63.0,68.0,68.0,68.0,68.0,68.0,68.0,68.0,68.0,68.0,68.0,68.0,68.0,68.0,68.0,68.0,68.0,68.0,68.0,68.0,68.0,68.0,68.0,68.0,68.0,68.0,68.0,68.0,61.0,61.0,61.0,61.0,61.0,61.0,61.0,61.0,61.0,61.0,61.0,61.0,150.0,150.0,150.0,150.0,150.0,150.0,150.0,150.0,150.0,150.0,150.0,150.0,150.0,150.0,150.0,150.0,150.0,150.0,150.0,150.0,150.0,150.0,150.0,150.0,150.0,150.0,150.0,150.0,150.0,120.0,120.0,120.0,120.0,120.0,120.0,120.0,120.0,120.0,120.0,120.0,120.0,120.0,120.0,120.0,120.0,120.0,120.0,120.0,120.0,120.0,120.0,120.0,120.0,120.0,120.0,120.0,120.0,98.0,98.0,98.0,98.0,98.0,98.0,98.0,98.0,98.0,98.0,98.0,98.0,98.0,98.0,98.0,98.0,98.0,98.0,98.0,98.0,98.0,98.0,98.0,98.0,98.0,98.0,98.0,98.0,98.0,98.0,72.0,72.0,72.0,72.0,72.0,72.0,72.0,72.0,72.0,72.0,72.0,72.0,72.0,72.0,72.0,72.0,72.0,72.0,72.0,72.0,72.0,72.0,72.0,72.0,72.0,72.0,72.0,72.0,72.0,75.5,75.5,75.5,75.5,75.5,75.5,75.5,75.5,75.5,75.5,75.5,75.5,75.5,75.5,75.5,75.5,75.5,75.5,75.5,75.5,75.5,75.5,75.5,75.5,75.5,75.5,75.5,75.5,75.5,75.5,75.5,89.5,89.5,89.5,89.5,89.5,89.5,89.5,89.5,89.5,89.5,89.5,89.5,89.5,89.5,89.5,89.5,89.5,89.5,89.5,89.5,59.0,59.0,59.0,59.0,59.0,59.0,59.0,59.0,59.0,59.0,59.0,59.0,59.0,59.0,59.0,59.0,59.0,59.0,59.0,59.0,59.0,59.0,59.0,59.0,59.0,59.0,59.0,78.5,78.5,78.5,78.5,78.5,78.5,78.5,78.5,78.5,78.5,78.5,78.5,78.5,78.5,78.5,78.5,78.5,78.5,78.5,78.5,78.5,78.5,78.5,78.5,78.5,78.5,38.5,38.5,38.5,38.5,38.5,38.5,38.5,38.5,38.5,38.5,38.5,38.5,38.5,38.5,38.5,38.5,38.5,38.5,38.5,38.5,38.5,38.5,38.5,38.5,38.5,38.5,38.5,38.5,38.5,38.5,60.0,60.0,60.0,56.0,56.0,56.0,56.0,56.0,56.0,56.0,56.0,56.0,56.0,56.0,56.0,56.0,56.0,56.0,56.0,56.0,56.0,56.0,68.0,68.0,68.0,68.0,68.0,68.0,68.0,68.0,68.0,68.0,68.0,51.0,51.0,51.0,51.0,51.0,51.0,51.0,63.5,63.5,40.0,40.0,40.0,40.0,40.0,40.0,40.0,40.0,40.0,40.0,40.0,40.0,40.0,40.0,40.0,40.0,40.0,40.0,40.0,40.0,40.0,40.0,40.0,40.0,40.0,40.0,40.0,40.0,66.0,66.0,66.0,66.0,66.0,66.0,66.0,68.0,68.0,68.0,68.0,68.0,68.0,68.0,68.0,68.0,68.0,68.0,68.0,68.0,68.0,68.0,68.0,68.0,68.0,68.0,68.0,68.0,68.0,68.0,68.0,68.0,68.0,68.0,68.0,68.0,68.0,64.5,64.5,64.5,64.5,64.5,64.5,64.5,64.5,64.5,64.5,64.5,64.5,64.5,64.5,64.5,64.5,64.5,64.5,64.5,64.5,64.5,64.5,64.5,64.5,64.5,64.5,64.5,64.5,76.0,76.0,76.0,76.0,76.0,76.0,76.0,76.0,76.0,76.0,76.0,76.0,76.0,76.0,76.0,76.0,76.0,76.0,76.0,76.0,76.0,76.0,76.0,76.0,76.0,57.0,57.0,57.0,57.0,57.0,57.0,57.0,57.0,57.0,80.5,80.5,80.5,80.5,80.5,80.5,80.5,80.5,80.5,80.5,80.5,80.5,80.5,80.5,80.5,80.5,80.5,80.5,80.5,80.5,80.5,80.5,80.5,80.5,80.5,80.5,80.5,138.5,138.5,138.5,138.5,138.5,138.5,138.5,138.5,138.5,138.5,138.5,138.5,138.5,138.5,138.5,138.5,138.5,138.5,138.5,138.5,138.5,138.5,138.5,138.5,138.5,138.5,138.5,138.5,126.0,126.0,126.0,126.0,126.0,126.0,126.0,126.0,126.0,126.0,126.0,126.0,126.0,126.0,126.0,126.0,126.0,126.0,126.0,126.0,126.0,126.0,126.0,126.0,126.0,99.0,99.0,99.0,99.0,99.0,99.0,99.0,99.0,99.0,99.0,99.0,99.0,99.0,99.0,99.0,99.0,99.0,99.0,99.0,99.0,99.0,99.0,99.0,99.0,99.0,99.0,99.0,99.0,92.5,92.5,92.5,92.5,92.5,92.5,92.5,92.5,92.5,92.5,92.5,92.5,92.5,92.5,92.5,92.5,92.5,92.5,92.5,92.5,92.5,92.5,92.5,92.5,92.5,92.5,92.5,92.5,66.0,66.0,66.0,66.0,66.0,66.0,66.0,66.0,66.0,66.0,66.0,66.0,66.0,66.0,66.0,66.0,66.0,66.0,66.0,66.0,66.0,66.0,66.0,60.5,60.5,60.5,60.5,60.5,60.5,60.5,60.5,60.5,60.5,60.5,60.5,60.5,60.5,60.5,60.5,60.5,60.5,60.5,60.5,60.5,60.5,60.5,60.5,60.5,60.5,47.5,47.5,47.5,47.5,47.5,47.5,47.5,47.5,47.5,47.5,47.5,47.5,47.5,47.5,47.5,47.5,47.5,47.5,47.5,47.5,47.5,47.5,47.5,51.0,51.0,51.0,51.0,51.0,51.0,51.0,51.0,51.0,51.0,51.0,51.0,51.0,51.0,51.0,51.0,51.0,51.0,51.0,51.0,51.0,51.0,51.0,51.0,51.0,51.0,78.0,78.0,78.0,78.0,78.0,78.0,78.0,78.0,78.0,78.0,78.0,78.0,78.0,78.0,78.0,78.0,78.0,78.0,78.0,78.0,78.0,78.0,78.0,78.0,78.0,78.0,78.0,44.0,44.0,44.0,44.0,51.5,51.5,51.5,62.0,62.0,62.0,62.0,62.0,62.0,62.0,62.0,62.0,62.0,62.0,62.0,62.0,62.0,62.0,62.0,62.0,62.0,62.0,62.0,62.0,62.0,62.0,62.0,62.0,62.0,70.0,70.0,70.0,70.0,70.0,70.0,70.0,70.0,70.0,70.0,70.0,70.0,70.0,70.0,70.0,70.0,70.0,70.0,70.0,70.0,70.0,70.0,70.0,70.0,70.0,70.0,70.0,70.0,78.5,78.5,78.5,78.5,78.5,78.5,78.5,78.5,78.5,78.5,78.5,78.5,78.5,78.5,78.5,78.5,78.5,78.5,78.5,78.5,78.5,78.5,78.5,78.5,78.5,78.5,78.5,91.0,91.0,91.0,91.0,91.0,91.0,91.0,91.0,91.0,91.0,91.0,91.0,91.0,91.0,91.0],\"x0\":\" \",\"xaxis\":\"x\",\"y\":[\"min_salary(K)\",\"min_salary(K)\",\"min_salary(K)\",\"min_salary(K)\",\"min_salary(K)\",\"min_salary(K)\",\"min_salary(K)\",\"min_salary(K)\",\"min_salary(K)\",\"min_salary(K)\",\"min_salary(K)\",\"min_salary(K)\",\"min_salary(K)\",\"min_salary(K)\",\"min_salary(K)\",\"min_salary(K)\",\"min_salary(K)\",\"min_salary(K)\",\"min_salary(K)\",\"min_salary(K)\",\"min_salary(K)\",\"min_salary(K)\",\"min_salary(K)\",\"min_salary(K)\",\"min_salary(K)\",\"min_salary(K)\",\"min_salary(K)\",\"min_salary(K)\",\"min_salary(K)\",\"min_salary(K)\",\"min_salary(K)\",\"min_salary(K)\",\"min_salary(K)\",\"min_salary(K)\",\"min_salary(K)\",\"min_salary(K)\",\"min_salary(K)\",\"min_salary(K)\",\"min_salary(K)\",\"min_salary(K)\",\"min_salary(K)\",\"min_salary(K)\",\"min_salary(K)\",\"min_salary(K)\",\"min_salary(K)\",\"min_salary(K)\",\"min_salary(K)\",\"min_salary(K)\",\"min_salary(K)\",\"min_salary(K)\",\"min_salary(K)\",\"min_salary(K)\",\"min_salary(K)\",\"min_salary(K)\",\"min_salary(K)\",\"min_salary(K)\",\"min_salary(K)\",\"min_salary(K)\",\"min_salary(K)\",\"min_salary(K)\",\"min_salary(K)\",\"min_salary(K)\",\"min_salary(K)\",\"min_salary(K)\",\"min_salary(K)\",\"min_salary(K)\",\"min_salary(K)\",\"min_salary(K)\",\"min_salary(K)\",\"min_salary(K)\",\"min_salary(K)\",\"min_salary(K)\",\"min_salary(K)\",\"min_salary(K)\",\"min_salary(K)\",\"min_salary(K)\",\"min_salary(K)\",\"min_salary(K)\",\"min_salary(K)\",\"min_salary(K)\",\"min_salary(K)\",\"min_salary(K)\",\"min_salary(K)\",\"min_salary(K)\",\"min_salary(K)\",\"min_salary(K)\",\"min_salary(K)\",\"min_salary(K)\",\"min_salary(K)\",\"min_salary(K)\",\"min_salary(K)\",\"min_salary(K)\",\"min_salary(K)\",\"min_salary(K)\",\"min_salary(K)\",\"min_salary(K)\",\"min_salary(K)\",\"min_salary(K)\",\"min_salary(K)\",\"min_salary(K)\",\"min_salary(K)\",\"min_salary(K)\",\"min_salary(K)\",\"min_salary(K)\",\"min_salary(K)\",\"min_salary(K)\",\"min_salary(K)\",\"min_salary(K)\",\"min_salary(K)\",\"min_salary(K)\",\"min_salary(K)\",\"min_salary(K)\",\"min_salary(K)\",\"min_salary(K)\",\"min_salary(K)\",\"min_salary(K)\",\"min_salary(K)\",\"min_salary(K)\",\"min_salary(K)\",\"min_salary(K)\",\"min_salary(K)\",\"min_salary(K)\",\"min_salary(K)\",\"min_salary(K)\",\"min_salary(K)\",\"min_salary(K)\",\"min_salary(K)\",\"min_salary(K)\",\"min_salary(K)\",\"min_salary(K)\",\"min_salary(K)\",\"min_salary(K)\",\"min_salary(K)\",\"min_salary(K)\",\"min_salary(K)\",\"min_salary(K)\",\"min_salary(K)\",\"min_salary(K)\",\"min_salary(K)\",\"min_salary(K)\",\"min_salary(K)\",\"min_salary(K)\",\"min_salary(K)\",\"min_salary(K)\",\"min_salary(K)\",\"min_salary(K)\",\"min_salary(K)\",\"min_salary(K)\",\"min_salary(K)\",\"min_salary(K)\",\"min_salary(K)\",\"min_salary(K)\",\"min_salary(K)\",\"min_salary(K)\",\"min_salary(K)\",\"min_salary(K)\",\"min_salary(K)\",\"min_salary(K)\",\"min_salary(K)\",\"min_salary(K)\",\"min_salary(K)\",\"min_salary(K)\",\"min_salary(K)\",\"min_salary(K)\",\"min_salary(K)\",\"min_salary(K)\",\"min_salary(K)\",\"min_salary(K)\",\"min_salary(K)\",\"min_salary(K)\",\"min_salary(K)\",\"min_salary(K)\",\"min_salary(K)\",\"min_salary(K)\",\"min_salary(K)\",\"min_salary(K)\",\"min_salary(K)\",\"min_salary(K)\",\"min_salary(K)\",\"min_salary(K)\",\"min_salary(K)\",\"min_salary(K)\",\"min_salary(K)\",\"min_salary(K)\",\"min_salary(K)\",\"min_salary(K)\",\"min_salary(K)\",\"min_salary(K)\",\"min_salary(K)\",\"min_salary(K)\",\"min_salary(K)\",\"min_salary(K)\",\"min_salary(K)\",\"min_salary(K)\",\"min_salary(K)\",\"min_salary(K)\",\"min_salary(K)\",\"min_salary(K)\",\"min_salary(K)\",\"min_salary(K)\",\"min_salary(K)\",\"min_salary(K)\",\"min_salary(K)\",\"min_salary(K)\",\"min_salary(K)\",\"min_salary(K)\",\"min_salary(K)\",\"min_salary(K)\",\"min_salary(K)\",\"min_salary(K)\",\"min_salary(K)\",\"min_salary(K)\",\"min_salary(K)\",\"min_salary(K)\",\"min_salary(K)\",\"min_salary(K)\",\"min_salary(K)\",\"min_salary(K)\",\"min_salary(K)\",\"min_salary(K)\",\"min_salary(K)\",\"min_salary(K)\",\"min_salary(K)\",\"min_salary(K)\",\"min_salary(K)\",\"min_salary(K)\",\"min_salary(K)\",\"min_salary(K)\",\"min_salary(K)\",\"min_salary(K)\",\"min_salary(K)\",\"min_salary(K)\",\"min_salary(K)\",\"min_salary(K)\",\"min_salary(K)\",\"min_salary(K)\",\"min_salary(K)\",\"min_salary(K)\",\"min_salary(K)\",\"min_salary(K)\",\"min_salary(K)\",\"min_salary(K)\",\"min_salary(K)\",\"min_salary(K)\",\"min_salary(K)\",\"min_salary(K)\",\"min_salary(K)\",\"min_salary(K)\",\"min_salary(K)\",\"min_salary(K)\",\"min_salary(K)\",\"min_salary(K)\",\"min_salary(K)\",\"min_salary(K)\",\"min_salary(K)\",\"min_salary(K)\",\"min_salary(K)\",\"min_salary(K)\",\"min_salary(K)\",\"min_salary(K)\",\"min_salary(K)\",\"min_salary(K)\",\"min_salary(K)\",\"min_salary(K)\",\"min_salary(K)\",\"min_salary(K)\",\"min_salary(K)\",\"min_salary(K)\",\"min_salary(K)\",\"min_salary(K)\",\"min_salary(K)\",\"min_salary(K)\",\"min_salary(K)\",\"min_salary(K)\",\"min_salary(K)\",\"min_salary(K)\",\"min_salary(K)\",\"min_salary(K)\",\"min_salary(K)\",\"min_salary(K)\",\"min_salary(K)\",\"min_salary(K)\",\"min_salary(K)\",\"min_salary(K)\",\"min_salary(K)\",\"min_salary(K)\",\"min_salary(K)\",\"min_salary(K)\",\"min_salary(K)\",\"min_salary(K)\",\"min_salary(K)\",\"min_salary(K)\",\"min_salary(K)\",\"min_salary(K)\",\"min_salary(K)\",\"min_salary(K)\",\"min_salary(K)\",\"min_salary(K)\",\"min_salary(K)\",\"min_salary(K)\",\"min_salary(K)\",\"min_salary(K)\",\"min_salary(K)\",\"min_salary(K)\",\"min_salary(K)\",\"min_salary(K)\",\"min_salary(K)\",\"min_salary(K)\",\"min_salary(K)\",\"min_salary(K)\",\"min_salary(K)\",\"min_salary(K)\",\"min_salary(K)\",\"min_salary(K)\",\"min_salary(K)\",\"min_salary(K)\",\"min_salary(K)\",\"min_salary(K)\",\"min_salary(K)\",\"min_salary(K)\",\"min_salary(K)\",\"min_salary(K)\",\"min_salary(K)\",\"min_salary(K)\",\"min_salary(K)\",\"min_salary(K)\",\"min_salary(K)\",\"min_salary(K)\",\"min_salary(K)\",\"min_salary(K)\",\"min_salary(K)\",\"min_salary(K)\",\"min_salary(K)\",\"min_salary(K)\",\"min_salary(K)\",\"min_salary(K)\",\"min_salary(K)\",\"min_salary(K)\",\"min_salary(K)\",\"min_salary(K)\",\"min_salary(K)\",\"min_salary(K)\",\"min_salary(K)\",\"min_salary(K)\",\"min_salary(K)\",\"min_salary(K)\",\"min_salary(K)\",\"min_salary(K)\",\"min_salary(K)\",\"min_salary(K)\",\"min_salary(K)\",\"min_salary(K)\",\"min_salary(K)\",\"min_salary(K)\",\"min_salary(K)\",\"min_salary(K)\",\"min_salary(K)\",\"min_salary(K)\",\"min_salary(K)\",\"min_salary(K)\",\"min_salary(K)\",\"min_salary(K)\",\"min_salary(K)\",\"min_salary(K)\",\"min_salary(K)\",\"min_salary(K)\",\"min_salary(K)\",\"min_salary(K)\",\"min_salary(K)\",\"min_salary(K)\",\"min_salary(K)\",\"min_salary(K)\",\"min_salary(K)\",\"min_salary(K)\",\"min_salary(K)\",\"min_salary(K)\",\"min_salary(K)\",\"min_salary(K)\",\"min_salary(K)\",\"min_salary(K)\",\"min_salary(K)\",\"min_salary(K)\",\"min_salary(K)\",\"min_salary(K)\",\"min_salary(K)\",\"min_salary(K)\",\"min_salary(K)\",\"min_salary(K)\",\"min_salary(K)\",\"min_salary(K)\",\"min_salary(K)\",\"min_salary(K)\",\"min_salary(K)\",\"min_salary(K)\",\"min_salary(K)\",\"min_salary(K)\",\"min_salary(K)\",\"min_salary(K)\",\"min_salary(K)\",\"min_salary(K)\",\"min_salary(K)\",\"min_salary(K)\",\"min_salary(K)\",\"min_salary(K)\",\"min_salary(K)\",\"min_salary(K)\",\"min_salary(K)\",\"min_salary(K)\",\"min_salary(K)\",\"min_salary(K)\",\"min_salary(K)\",\"min_salary(K)\",\"min_salary(K)\",\"min_salary(K)\",\"min_salary(K)\",\"min_salary(K)\",\"min_salary(K)\",\"min_salary(K)\",\"min_salary(K)\",\"min_salary(K)\",\"min_salary(K)\",\"min_salary(K)\",\"min_salary(K)\",\"min_salary(K)\",\"min_salary(K)\",\"min_salary(K)\",\"min_salary(K)\",\"min_salary(K)\",\"min_salary(K)\",\"min_salary(K)\",\"min_salary(K)\",\"min_salary(K)\",\"min_salary(K)\",\"min_salary(K)\",\"min_salary(K)\",\"min_salary(K)\",\"min_salary(K)\",\"min_salary(K)\",\"min_salary(K)\",\"min_salary(K)\",\"min_salary(K)\",\"min_salary(K)\",\"min_salary(K)\",\"min_salary(K)\",\"min_salary(K)\",\"min_salary(K)\",\"min_salary(K)\",\"min_salary(K)\",\"min_salary(K)\",\"min_salary(K)\",\"min_salary(K)\",\"min_salary(K)\",\"min_salary(K)\",\"min_salary(K)\",\"min_salary(K)\",\"min_salary(K)\",\"min_salary(K)\",\"min_salary(K)\",\"min_salary(K)\",\"min_salary(K)\",\"min_salary(K)\",\"min_salary(K)\",\"min_salary(K)\",\"min_salary(K)\",\"min_salary(K)\",\"min_salary(K)\",\"min_salary(K)\",\"min_salary(K)\",\"min_salary(K)\",\"min_salary(K)\",\"min_salary(K)\",\"min_salary(K)\",\"min_salary(K)\",\"min_salary(K)\",\"min_salary(K)\",\"min_salary(K)\",\"min_salary(K)\",\"min_salary(K)\",\"min_salary(K)\",\"min_salary(K)\",\"min_salary(K)\",\"min_salary(K)\",\"min_salary(K)\",\"min_salary(K)\",\"min_salary(K)\",\"min_salary(K)\",\"min_salary(K)\",\"min_salary(K)\",\"min_salary(K)\",\"min_salary(K)\",\"min_salary(K)\",\"min_salary(K)\",\"min_salary(K)\",\"min_salary(K)\",\"min_salary(K)\",\"min_salary(K)\",\"min_salary(K)\",\"min_salary(K)\",\"min_salary(K)\",\"min_salary(K)\",\"min_salary(K)\",\"min_salary(K)\",\"min_salary(K)\",\"min_salary(K)\",\"min_salary(K)\",\"min_salary(K)\",\"min_salary(K)\",\"min_salary(K)\",\"min_salary(K)\",\"min_salary(K)\",\"min_salary(K)\",\"min_salary(K)\",\"min_salary(K)\",\"min_salary(K)\",\"min_salary(K)\",\"min_salary(K)\",\"min_salary(K)\",\"min_salary(K)\",\"min_salary(K)\",\"min_salary(K)\",\"min_salary(K)\",\"min_salary(K)\",\"min_salary(K)\",\"min_salary(K)\",\"min_salary(K)\",\"min_salary(K)\",\"min_salary(K)\",\"min_salary(K)\",\"min_salary(K)\",\"min_salary(K)\",\"min_salary(K)\",\"min_salary(K)\",\"min_salary(K)\",\"min_salary(K)\",\"min_salary(K)\",\"min_salary(K)\",\"min_salary(K)\",\"min_salary(K)\",\"min_salary(K)\",\"min_salary(K)\",\"min_salary(K)\",\"min_salary(K)\",\"min_salary(K)\",\"min_salary(K)\",\"min_salary(K)\",\"min_salary(K)\",\"min_salary(K)\",\"min_salary(K)\",\"min_salary(K)\",\"min_salary(K)\",\"min_salary(K)\",\"min_salary(K)\",\"min_salary(K)\",\"min_salary(K)\",\"min_salary(K)\",\"min_salary(K)\",\"min_salary(K)\",\"min_salary(K)\",\"min_salary(K)\",\"min_salary(K)\",\"min_salary(K)\",\"min_salary(K)\",\"min_salary(K)\",\"min_salary(K)\",\"min_salary(K)\",\"min_salary(K)\",\"min_salary(K)\",\"min_salary(K)\",\"min_salary(K)\",\"min_salary(K)\",\"min_salary(K)\",\"min_salary(K)\",\"min_salary(K)\",\"min_salary(K)\",\"min_salary(K)\",\"min_salary(K)\",\"min_salary(K)\",\"min_salary(K)\",\"min_salary(K)\",\"min_salary(K)\",\"min_salary(K)\",\"min_salary(K)\",\"min_salary(K)\",\"min_salary(K)\",\"min_salary(K)\",\"min_salary(K)\",\"min_salary(K)\",\"min_salary(K)\",\"min_salary(K)\",\"min_salary(K)\",\"min_salary(K)\",\"min_salary(K)\",\"min_salary(K)\",\"min_salary(K)\",\"min_salary(K)\",\"min_salary(K)\",\"min_salary(K)\",\"min_salary(K)\",\"min_salary(K)\",\"min_salary(K)\",\"min_salary(K)\",\"min_salary(K)\",\"min_salary(K)\",\"min_salary(K)\",\"min_salary(K)\",\"min_salary(K)\",\"min_salary(K)\",\"min_salary(K)\",\"min_salary(K)\",\"min_salary(K)\",\"min_salary(K)\",\"min_salary(K)\",\"min_salary(K)\",\"min_salary(K)\",\"min_salary(K)\",\"min_salary(K)\",\"min_salary(K)\",\"min_salary(K)\",\"min_salary(K)\",\"min_salary(K)\",\"min_salary(K)\",\"min_salary(K)\",\"min_salary(K)\",\"min_salary(K)\",\"min_salary(K)\",\"min_salary(K)\",\"min_salary(K)\",\"min_salary(K)\",\"min_salary(K)\",\"min_salary(K)\",\"min_salary(K)\",\"min_salary(K)\",\"min_salary(K)\",\"min_salary(K)\",\"min_salary(K)\",\"min_salary(K)\",\"min_salary(K)\",\"min_salary(K)\",\"min_salary(K)\",\"min_salary(K)\",\"min_salary(K)\",\"min_salary(K)\",\"min_salary(K)\",\"min_salary(K)\",\"min_salary(K)\",\"min_salary(K)\",\"min_salary(K)\",\"min_salary(K)\",\"min_salary(K)\",\"min_salary(K)\",\"min_salary(K)\",\"min_salary(K)\",\"min_salary(K)\",\"min_salary(K)\",\"min_salary(K)\",\"min_salary(K)\",\"min_salary(K)\",\"min_salary(K)\",\"min_salary(K)\",\"min_salary(K)\",\"min_salary(K)\",\"min_salary(K)\",\"min_salary(K)\",\"min_salary(K)\",\"min_salary(K)\",\"min_salary(K)\",\"min_salary(K)\",\"min_salary(K)\",\"min_salary(K)\",\"min_salary(K)\",\"min_salary(K)\",\"min_salary(K)\",\"min_salary(K)\",\"min_salary(K)\",\"min_salary(K)\",\"min_salary(K)\",\"min_salary(K)\",\"min_salary(K)\",\"min_salary(K)\",\"min_salary(K)\",\"min_salary(K)\",\"min_salary(K)\",\"min_salary(K)\",\"min_salary(K)\",\"min_salary(K)\",\"min_salary(K)\",\"min_salary(K)\",\"min_salary(K)\",\"min_salary(K)\",\"min_salary(K)\",\"min_salary(K)\",\"min_salary(K)\",\"min_salary(K)\",\"min_salary(K)\",\"min_salary(K)\",\"min_salary(K)\",\"min_salary(K)\",\"min_salary(K)\",\"min_salary(K)\",\"min_salary(K)\",\"min_salary(K)\",\"min_salary(K)\",\"min_salary(K)\",\"min_salary(K)\",\"min_salary(K)\",\"min_salary(K)\",\"min_salary(K)\",\"min_salary(K)\",\"min_salary(K)\",\"min_salary(K)\",\"min_salary(K)\",\"min_salary(K)\",\"min_salary(K)\",\"min_salary(K)\",\"min_salary(K)\",\"min_salary(K)\",\"min_salary(K)\",\"min_salary(K)\",\"min_salary(K)\",\"min_salary(K)\",\"min_salary(K)\",\"min_salary(K)\",\"min_salary(K)\",\"min_salary(K)\",\"min_salary(K)\",\"min_salary(K)\",\"min_salary(K)\",\"min_salary(K)\",\"min_salary(K)\",\"min_salary(K)\",\"min_salary(K)\",\"min_salary(K)\",\"min_salary(K)\",\"min_salary(K)\",\"min_salary(K)\",\"min_salary(K)\",\"min_salary(K)\",\"min_salary(K)\",\"min_salary(K)\",\"min_salary(K)\",\"min_salary(K)\",\"min_salary(K)\",\"min_salary(K)\",\"min_salary(K)\",\"min_salary(K)\",\"min_salary(K)\",\"min_salary(K)\",\"min_salary(K)\",\"min_salary(K)\",\"min_salary(K)\",\"min_salary(K)\",\"min_salary(K)\",\"min_salary(K)\",\"min_salary(K)\",\"min_salary(K)\",\"min_salary(K)\",\"min_salary(K)\",\"min_salary(K)\",\"min_salary(K)\",\"min_salary(K)\",\"min_salary(K)\",\"min_salary(K)\",\"min_salary(K)\",\"min_salary(K)\",\"min_salary(K)\",\"min_salary(K)\",\"min_salary(K)\",\"min_salary(K)\",\"min_salary(K)\",\"min_salary(K)\",\"min_salary(K)\",\"min_salary(K)\",\"min_salary(K)\",\"min_salary(K)\",\"min_salary(K)\",\"min_salary(K)\",\"min_salary(K)\",\"min_salary(K)\",\"min_salary(K)\",\"min_salary(K)\",\"min_salary(K)\",\"min_salary(K)\",\"min_salary(K)\",\"min_salary(K)\",\"min_salary(K)\",\"min_salary(K)\",\"min_salary(K)\",\"min_salary(K)\",\"min_salary(K)\",\"min_salary(K)\",\"min_salary(K)\",\"min_salary(K)\",\"min_salary(K)\",\"min_salary(K)\",\"min_salary(K)\",\"min_salary(K)\",\"min_salary(K)\",\"min_salary(K)\",\"min_salary(K)\",\"min_salary(K)\",\"min_salary(K)\",\"min_salary(K)\",\"min_salary(K)\",\"min_salary(K)\",\"min_salary(K)\",\"min_salary(K)\",\"min_salary(K)\",\"min_salary(K)\",\"min_salary(K)\",\"min_salary(K)\",\"min_salary(K)\",\"min_salary(K)\",\"min_salary(K)\",\"min_salary(K)\",\"min_salary(K)\",\"min_salary(K)\",\"min_salary(K)\",\"min_salary(K)\",\"min_salary(K)\",\"min_salary(K)\",\"min_salary(K)\",\"min_salary(K)\",\"min_salary(K)\",\"min_salary(K)\",\"min_salary(K)\",\"min_salary(K)\",\"min_salary(K)\",\"min_salary(K)\",\"min_salary(K)\",\"min_salary(K)\",\"min_salary(K)\",\"min_salary(K)\",\"min_salary(K)\",\"min_salary(K)\",\"min_salary(K)\",\"min_salary(K)\",\"min_salary(K)\",\"min_salary(K)\",\"min_salary(K)\",\"min_salary(K)\",\"min_salary(K)\",\"min_salary(K)\",\"min_salary(K)\",\"min_salary(K)\",\"min_salary(K)\",\"min_salary(K)\",\"min_salary(K)\",\"min_salary(K)\",\"min_salary(K)\",\"min_salary(K)\",\"min_salary(K)\",\"min_salary(K)\",\"min_salary(K)\",\"min_salary(K)\",\"min_salary(K)\",\"min_salary(K)\",\"min_salary(K)\",\"min_salary(K)\",\"min_salary(K)\",\"min_salary(K)\",\"min_salary(K)\",\"min_salary(K)\",\"min_salary(K)\",\"min_salary(K)\",\"min_salary(K)\",\"min_salary(K)\",\"min_salary(K)\",\"min_salary(K)\",\"min_salary(K)\",\"min_salary(K)\",\"min_salary(K)\",\"min_salary(K)\",\"min_salary(K)\",\"min_salary(K)\",\"min_salary(K)\",\"min_salary(K)\",\"min_salary(K)\",\"min_salary(K)\",\"min_salary(K)\",\"min_salary(K)\",\"min_salary(K)\",\"min_salary(K)\",\"min_salary(K)\",\"min_salary(K)\",\"min_salary(K)\",\"min_salary(K)\",\"min_salary(K)\",\"min_salary(K)\",\"min_salary(K)\",\"min_salary(K)\",\"min_salary(K)\",\"min_salary(K)\",\"min_salary(K)\",\"min_salary(K)\",\"min_salary(K)\",\"min_salary(K)\",\"min_salary(K)\",\"min_salary(K)\",\"min_salary(K)\",\"min_salary(K)\",\"min_salary(K)\",\"min_salary(K)\",\"min_salary(K)\",\"min_salary(K)\",\"min_salary(K)\",\"min_salary(K)\",\"min_salary(K)\",\"min_salary(K)\",\"min_salary(K)\",\"min_salary(K)\",\"min_salary(K)\",\"min_salary(K)\",\"min_salary(K)\",\"min_salary(K)\",\"min_salary(K)\",\"min_salary(K)\",\"min_salary(K)\",\"min_salary(K)\",\"min_salary(K)\",\"min_salary(K)\",\"min_salary(K)\",\"min_salary(K)\",\"min_salary(K)\",\"min_salary(K)\",\"min_salary(K)\",\"min_salary(K)\",\"min_salary(K)\",\"min_salary(K)\",\"min_salary(K)\",\"min_salary(K)\",\"min_salary(K)\",\"min_salary(K)\",\"min_salary(K)\",\"min_salary(K)\",\"min_salary(K)\",\"min_salary(K)\",\"min_salary(K)\",\"min_salary(K)\",\"min_salary(K)\",\"min_salary(K)\",\"min_salary(K)\",\"min_salary(K)\",\"min_salary(K)\",\"min_salary(K)\",\"min_salary(K)\",\"min_salary(K)\",\"min_salary(K)\",\"min_salary(K)\",\"min_salary(K)\",\"min_salary(K)\",\"min_salary(K)\",\"min_salary(K)\",\"min_salary(K)\",\"min_salary(K)\",\"min_salary(K)\",\"min_salary(K)\",\"min_salary(K)\",\"min_salary(K)\",\"min_salary(K)\",\"min_salary(K)\",\"min_salary(K)\",\"min_salary(K)\",\"min_salary(K)\",\"min_salary(K)\",\"min_salary(K)\",\"min_salary(K)\",\"min_salary(K)\",\"min_salary(K)\",\"min_salary(K)\",\"min_salary(K)\",\"min_salary(K)\",\"min_salary(K)\",\"min_salary(K)\",\"min_salary(K)\",\"min_salary(K)\",\"min_salary(K)\",\"min_salary(K)\",\"min_salary(K)\",\"min_salary(K)\",\"min_salary(K)\",\"min_salary(K)\",\"min_salary(K)\",\"min_salary(K)\",\"min_salary(K)\",\"min_salary(K)\",\"min_salary(K)\",\"min_salary(K)\",\"min_salary(K)\",\"min_salary(K)\",\"min_salary(K)\",\"min_salary(K)\",\"min_salary(K)\",\"min_salary(K)\",\"min_salary(K)\",\"min_salary(K)\",\"min_salary(K)\",\"min_salary(K)\",\"min_salary(K)\",\"min_salary(K)\",\"min_salary(K)\",\"min_salary(K)\",\"min_salary(K)\",\"min_salary(K)\",\"min_salary(K)\",\"min_salary(K)\",\"min_salary(K)\",\"min_salary(K)\",\"min_salary(K)\",\"min_salary(K)\",\"min_salary(K)\",\"min_salary(K)\",\"min_salary(K)\",\"min_salary(K)\",\"min_salary(K)\",\"min_salary(K)\",\"min_salary(K)\",\"min_salary(K)\",\"min_salary(K)\",\"min_salary(K)\",\"min_salary(K)\",\"min_salary(K)\",\"min_salary(K)\",\"min_salary(K)\",\"min_salary(K)\",\"min_salary(K)\",\"min_salary(K)\",\"min_salary(K)\",\"min_salary(K)\",\"min_salary(K)\",\"min_salary(K)\",\"min_salary(K)\",\"min_salary(K)\",\"min_salary(K)\",\"min_salary(K)\",\"min_salary(K)\",\"min_salary(K)\",\"min_salary(K)\",\"min_salary(K)\",\"min_salary(K)\",\"min_salary(K)\",\"min_salary(K)\",\"min_salary(K)\",\"min_salary(K)\",\"min_salary(K)\",\"min_salary(K)\",\"min_salary(K)\",\"min_salary(K)\",\"min_salary(K)\",\"min_salary(K)\",\"min_salary(K)\",\"min_salary(K)\",\"min_salary(K)\",\"min_salary(K)\",\"min_salary(K)\",\"min_salary(K)\",\"min_salary(K)\",\"min_salary(K)\",\"min_salary(K)\",\"min_salary(K)\",\"min_salary(K)\",\"min_salary(K)\",\"min_salary(K)\",\"min_salary(K)\",\"min_salary(K)\",\"min_salary(K)\",\"min_salary(K)\",\"min_salary(K)\",\"min_salary(K)\",\"min_salary(K)\",\"min_salary(K)\",\"min_salary(K)\",\"min_salary(K)\",\"min_salary(K)\",\"min_salary(K)\",\"min_salary(K)\",\"min_salary(K)\",\"min_salary(K)\",\"min_salary(K)\",\"min_salary(K)\",\"min_salary(K)\",\"min_salary(K)\",\"min_salary(K)\",\"min_salary(K)\",\"min_salary(K)\",\"min_salary(K)\",\"min_salary(K)\",\"min_salary(K)\",\"min_salary(K)\",\"min_salary(K)\",\"min_salary(K)\",\"min_salary(K)\",\"min_salary(K)\",\"min_salary(K)\",\"min_salary(K)\",\"min_salary(K)\",\"min_salary(K)\",\"min_salary(K)\",\"min_salary(K)\",\"min_salary(K)\",\"min_salary(K)\",\"min_salary(K)\",\"min_salary(K)\",\"min_salary(K)\",\"min_salary(K)\",\"min_salary(K)\",\"min_salary(K)\",\"min_salary(K)\",\"min_salary(K)\",\"min_salary(K)\",\"min_salary(K)\",\"min_salary(K)\",\"min_salary(K)\",\"min_salary(K)\",\"min_salary(K)\",\"min_salary(K)\",\"min_salary(K)\",\"min_salary(K)\",\"min_salary(K)\",\"min_salary(K)\",\"min_salary(K)\",\"min_salary(K)\",\"min_salary(K)\",\"min_salary(K)\",\"min_salary(K)\",\"min_salary(K)\",\"min_salary(K)\",\"min_salary(K)\",\"min_salary(K)\",\"min_salary(K)\",\"min_salary(K)\",\"min_salary(K)\",\"min_salary(K)\",\"min_salary(K)\",\"min_salary(K)\",\"min_salary(K)\",\"min_salary(K)\",\"min_salary(K)\",\"min_salary(K)\",\"min_salary(K)\",\"min_salary(K)\",\"min_salary(K)\",\"min_salary(K)\",\"min_salary(K)\",\"min_salary(K)\",\"min_salary(K)\",\"min_salary(K)\",\"min_salary(K)\",\"min_salary(K)\",\"min_salary(K)\",\"min_salary(K)\",\"min_salary(K)\",\"min_salary(K)\",\"min_salary(K)\",\"min_salary(K)\",\"min_salary(K)\",\"min_salary(K)\",\"min_salary(K)\",\"min_salary(K)\",\"min_salary(K)\",\"min_salary(K)\",\"min_salary(K)\",\"min_salary(K)\",\"min_salary(K)\",\"min_salary(K)\",\"min_salary(K)\",\"min_salary(K)\",\"min_salary(K)\",\"min_salary(K)\",\"min_salary(K)\",\"min_salary(K)\",\"min_salary(K)\",\"min_salary(K)\",\"min_salary(K)\",\"min_salary(K)\",\"min_salary(K)\",\"min_salary(K)\",\"min_salary(K)\",\"min_salary(K)\",\"min_salary(K)\",\"min_salary(K)\",\"min_salary(K)\",\"min_salary(K)\",\"min_salary(K)\",\"min_salary(K)\",\"min_salary(K)\",\"min_salary(K)\",\"min_salary(K)\",\"min_salary(K)\",\"min_salary(K)\",\"min_salary(K)\",\"min_salary(K)\",\"min_salary(K)\",\"min_salary(K)\",\"min_salary(K)\",\"min_salary(K)\",\"min_salary(K)\",\"min_salary(K)\",\"min_salary(K)\",\"min_salary(K)\",\"min_salary(K)\",\"min_salary(K)\",\"min_salary(K)\",\"min_salary(K)\",\"min_salary(K)\",\"min_salary(K)\",\"min_salary(K)\",\"min_salary(K)\",\"min_salary(K)\",\"min_salary(K)\",\"min_salary(K)\",\"min_salary(K)\",\"min_salary(K)\",\"min_salary(K)\",\"min_salary(K)\",\"min_salary(K)\",\"min_salary(K)\",\"min_salary(K)\",\"min_salary(K)\",\"min_salary(K)\",\"min_salary(K)\",\"min_salary(K)\",\"min_salary(K)\",\"min_salary(K)\",\"min_salary(K)\",\"min_salary(K)\",\"min_salary(K)\",\"min_salary(K)\",\"min_salary(K)\",\"min_salary(K)\",\"min_salary(K)\",\"min_salary(K)\",\"min_salary(K)\",\"min_salary(K)\",\"min_salary(K)\",\"min_salary(K)\",\"min_salary(K)\",\"min_salary(K)\",\"min_salary(K)\",\"min_salary(K)\",\"min_salary(K)\",\"min_salary(K)\",\"min_salary(K)\",\"min_salary(K)\",\"min_salary(K)\",\"min_salary(K)\",\"min_salary(K)\",\"min_salary(K)\",\"min_salary(K)\",\"min_salary(K)\",\"min_salary(K)\",\"min_salary(K)\",\"min_salary(K)\",\"min_salary(K)\",\"min_salary(K)\",\"min_salary(K)\",\"min_salary(K)\",\"min_salary(K)\",\"min_salary(K)\",\"min_salary(K)\",\"min_salary(K)\",\"min_salary(K)\",\"min_salary(K)\",\"min_salary(K)\",\"min_salary(K)\",\"min_salary(K)\",\"min_salary(K)\",\"min_salary(K)\",\"min_salary(K)\",\"min_salary(K)\",\"min_salary(K)\",\"min_salary(K)\",\"min_salary(K)\",\"min_salary(K)\",\"min_salary(K)\",\"min_salary(K)\",\"min_salary(K)\",\"min_salary(K)\",\"min_salary(K)\",\"min_salary(K)\",\"min_salary(K)\",\"min_salary(K)\",\"min_salary(K)\",\"min_salary(K)\",\"min_salary(K)\",\"min_salary(K)\",\"min_salary(K)\",\"min_salary(K)\",\"min_salary(K)\",\"min_salary(K)\",\"min_salary(K)\",\"min_salary(K)\",\"min_salary(K)\",\"min_salary(K)\",\"min_salary(K)\",\"min_salary(K)\",\"min_salary(K)\",\"min_salary(K)\",\"min_salary(K)\",\"min_salary(K)\",\"min_salary(K)\",\"min_salary(K)\",\"min_salary(K)\",\"min_salary(K)\",\"min_salary(K)\",\"min_salary(K)\",\"min_salary(K)\",\"min_salary(K)\",\"min_salary(K)\",\"min_salary(K)\",\"min_salary(K)\",\"min_salary(K)\",\"min_salary(K)\",\"min_salary(K)\",\"min_salary(K)\",\"min_salary(K)\",\"min_salary(K)\",\"min_salary(K)\",\"min_salary(K)\",\"min_salary(K)\",\"min_salary(K)\",\"min_salary(K)\",\"min_salary(K)\",\"min_salary(K)\",\"min_salary(K)\",\"min_salary(K)\",\"min_salary(K)\",\"min_salary(K)\",\"min_salary(K)\",\"min_salary(K)\",\"min_salary(K)\",\"min_salary(K)\",\"min_salary(K)\",\"min_salary(K)\",\"min_salary(K)\",\"min_salary(K)\",\"min_salary(K)\",\"min_salary(K)\",\"min_salary(K)\",\"min_salary(K)\",\"min_salary(K)\",\"min_salary(K)\",\"min_salary(K)\",\"min_salary(K)\",\"min_salary(K)\",\"min_salary(K)\",\"min_salary(K)\",\"min_salary(K)\",\"min_salary(K)\",\"min_salary(K)\",\"min_salary(K)\",\"min_salary(K)\",\"min_salary(K)\",\"min_salary(K)\",\"min_salary(K)\",\"min_salary(K)\",\"min_salary(K)\",\"min_salary(K)\",\"min_salary(K)\",\"min_salary(K)\",\"min_salary(K)\",\"min_salary(K)\",\"min_salary(K)\",\"min_salary(K)\",\"min_salary(K)\",\"min_salary(K)\",\"min_salary(K)\",\"min_salary(K)\",\"min_salary(K)\",\"min_salary(K)\",\"min_salary(K)\",\"min_salary(K)\",\"min_salary(K)\",\"min_salary(K)\",\"min_salary(K)\",\"min_salary(K)\",\"min_salary(K)\",\"min_salary(K)\",\"min_salary(K)\",\"min_salary(K)\",\"min_salary(K)\",\"min_salary(K)\",\"min_salary(K)\",\"min_salary(K)\",\"min_salary(K)\",\"min_salary(K)\",\"min_salary(K)\",\"min_salary(K)\",\"min_salary(K)\",\"min_salary(K)\",\"min_salary(K)\",\"min_salary(K)\",\"min_salary(K)\",\"min_salary(K)\",\"min_salary(K)\",\"min_salary(K)\",\"min_salary(K)\",\"min_salary(K)\",\"min_salary(K)\",\"min_salary(K)\",\"min_salary(K)\",\"min_salary(K)\",\"min_salary(K)\",\"min_salary(K)\",\"min_salary(K)\",\"min_salary(K)\",\"min_salary(K)\",\"min_salary(K)\",\"min_salary(K)\",\"min_salary(K)\",\"min_salary(K)\",\"min_salary(K)\",\"min_salary(K)\",\"min_salary(K)\",\"min_salary(K)\",\"min_salary(K)\",\"min_salary(K)\",\"min_salary(K)\",\"min_salary(K)\",\"min_salary(K)\",\"min_salary(K)\",\"min_salary(K)\",\"min_salary(K)\",\"min_salary(K)\",\"min_salary(K)\",\"min_salary(K)\",\"min_salary(K)\",\"min_salary(K)\",\"min_salary(K)\",\"min_salary(K)\",\"min_salary(K)\",\"min_salary(K)\",\"min_salary(K)\",\"min_salary(K)\",\"min_salary(K)\",\"min_salary(K)\",\"min_salary(K)\",\"min_salary(K)\",\"min_salary(K)\",\"min_salary(K)\",\"min_salary(K)\",\"min_salary(K)\",\"min_salary(K)\",\"min_salary(K)\",\"min_salary(K)\",\"min_salary(K)\",\"min_salary(K)\",\"min_salary(K)\",\"min_salary(K)\",\"min_salary(K)\",\"min_salary(K)\",\"min_salary(K)\",\"min_salary(K)\",\"min_salary(K)\",\"min_salary(K)\",\"min_salary(K)\",\"min_salary(K)\",\"min_salary(K)\",\"min_salary(K)\",\"min_salary(K)\",\"min_salary(K)\",\"min_salary(K)\",\"min_salary(K)\",\"min_salary(K)\",\"min_salary(K)\",\"min_salary(K)\",\"min_salary(K)\",\"min_salary(K)\",\"min_salary(K)\",\"min_salary(K)\",\"min_salary(K)\",\"min_salary(K)\",\"min_salary(K)\",\"min_salary(K)\",\"min_salary(K)\",\"min_salary(K)\",\"min_salary(K)\",\"min_salary(K)\",\"min_salary(K)\",\"min_salary(K)\",\"min_salary(K)\",\"min_salary(K)\",\"min_salary(K)\",\"min_salary(K)\",\"min_salary(K)\",\"min_salary(K)\",\"min_salary(K)\",\"min_salary(K)\",\"min_salary(K)\",\"min_salary(K)\",\"min_salary(K)\",\"min_salary(K)\",\"min_salary(K)\",\"min_salary(K)\",\"min_salary(K)\",\"min_salary(K)\",\"min_salary(K)\",\"min_salary(K)\",\"min_salary(K)\",\"min_salary(K)\",\"min_salary(K)\",\"min_salary(K)\",\"min_salary(K)\",\"min_salary(K)\",\"min_salary(K)\",\"min_salary(K)\",\"min_salary(K)\",\"min_salary(K)\",\"min_salary(K)\",\"min_salary(K)\",\"min_salary(K)\",\"min_salary(K)\",\"min_salary(K)\",\"min_salary(K)\",\"min_salary(K)\",\"min_salary(K)\",\"min_salary(K)\",\"min_salary(K)\",\"min_salary(K)\",\"min_salary(K)\",\"min_salary(K)\",\"min_salary(K)\",\"min_salary(K)\",\"min_salary(K)\",\"min_salary(K)\",\"min_salary(K)\",\"min_salary(K)\",\"min_salary(K)\",\"min_salary(K)\",\"min_salary(K)\",\"min_salary(K)\",\"min_salary(K)\",\"min_salary(K)\",\"min_salary(K)\",\"min_salary(K)\",\"min_salary(K)\",\"min_salary(K)\",\"min_salary(K)\",\"min_salary(K)\",\"min_salary(K)\",\"min_salary(K)\",\"min_salary(K)\",\"min_salary(K)\",\"min_salary(K)\",\"min_salary(K)\",\"min_salary(K)\",\"min_salary(K)\",\"min_salary(K)\",\"min_salary(K)\",\"min_salary(K)\",\"min_salary(K)\",\"min_salary(K)\",\"min_salary(K)\",\"min_salary(K)\",\"min_salary(K)\",\"min_salary(K)\",\"min_salary(K)\",\"min_salary(K)\",\"min_salary(K)\",\"min_salary(K)\",\"min_salary(K)\",\"min_salary(K)\",\"min_salary(K)\",\"min_salary(K)\",\"min_salary(K)\",\"min_salary(K)\",\"min_salary(K)\",\"min_salary(K)\",\"min_salary(K)\",\"min_salary(K)\",\"min_salary(K)\",\"min_salary(K)\",\"min_salary(K)\",\"min_salary(K)\",\"min_salary(K)\",\"min_salary(K)\",\"min_salary(K)\",\"min_salary(K)\",\"min_salary(K)\",\"min_salary(K)\",\"min_salary(K)\",\"min_salary(K)\",\"min_salary(K)\",\"min_salary(K)\",\"min_salary(K)\",\"min_salary(K)\",\"min_salary(K)\",\"min_salary(K)\",\"min_salary(K)\",\"min_salary(K)\",\"min_salary(K)\",\"min_salary(K)\",\"min_salary(K)\",\"min_salary(K)\",\"min_salary(K)\",\"min_salary(K)\",\"min_salary(K)\",\"min_salary(K)\",\"min_salary(K)\",\"min_salary(K)\",\"min_salary(K)\",\"min_salary(K)\",\"min_salary(K)\",\"min_salary(K)\",\"min_salary(K)\",\"min_salary(K)\",\"min_salary(K)\",\"min_salary(K)\",\"min_salary(K)\",\"min_salary(K)\",\"min_salary(K)\",\"min_salary(K)\",\"min_salary(K)\",\"min_salary(K)\",\"min_salary(K)\",\"min_salary(K)\",\"min_salary(K)\",\"min_salary(K)\",\"min_salary(K)\",\"min_salary(K)\",\"min_salary(K)\",\"min_salary(K)\",\"min_salary(K)\",\"min_salary(K)\",\"min_salary(K)\",\"min_salary(K)\",\"min_salary(K)\",\"min_salary(K)\",\"min_salary(K)\",\"min_salary(K)\",\"min_salary(K)\",\"min_salary(K)\",\"min_salary(K)\",\"min_salary(K)\",\"min_salary(K)\",\"min_salary(K)\",\"min_salary(K)\",\"min_salary(K)\",\"min_salary(K)\",\"min_salary(K)\",\"min_salary(K)\",\"min_salary(K)\",\"min_salary(K)\",\"min_salary(K)\",\"min_salary(K)\",\"min_salary(K)\",\"min_salary(K)\",\"min_salary(K)\",\"min_salary(K)\",\"min_salary(K)\",\"min_salary(K)\",\"min_salary(K)\",\"min_salary(K)\",\"min_salary(K)\",\"min_salary(K)\",\"min_salary(K)\",\"min_salary(K)\",\"min_salary(K)\",\"min_salary(K)\",\"min_salary(K)\",\"min_salary(K)\",\"min_salary(K)\",\"min_salary(K)\",\"min_salary(K)\",\"min_salary(K)\",\"min_salary(K)\",\"min_salary(K)\",\"min_salary(K)\",\"min_salary(K)\",\"min_salary(K)\",\"min_salary(K)\",\"min_salary(K)\",\"min_salary(K)\",\"min_salary(K)\",\"min_salary(K)\",\"min_salary(K)\",\"min_salary(K)\",\"min_salary(K)\",\"min_salary(K)\",\"min_salary(K)\",\"min_salary(K)\",\"min_salary(K)\",\"min_salary(K)\",\"min_salary(K)\",\"min_salary(K)\",\"min_salary(K)\",\"min_salary(K)\",\"min_salary(K)\",\"min_salary(K)\",\"min_salary(K)\",\"min_salary(K)\",\"min_salary(K)\",\"min_salary(K)\",\"min_salary(K)\",\"min_salary(K)\",\"min_salary(K)\",\"min_salary(K)\",\"min_salary(K)\",\"min_salary(K)\",\"min_salary(K)\",\"min_salary(K)\",\"min_salary(K)\",\"min_salary(K)\",\"min_salary(K)\",\"min_salary(K)\",\"min_salary(K)\",\"min_salary(K)\",\"min_salary(K)\",\"min_salary(K)\",\"min_salary(K)\",\"min_salary(K)\",\"min_salary(K)\",\"min_salary(K)\",\"min_salary(K)\",\"min_salary(K)\",\"min_salary(K)\",\"min_salary(K)\",\"min_salary(K)\",\"min_salary(K)\",\"min_salary(K)\",\"min_salary(K)\",\"min_salary(K)\",\"min_salary(K)\",\"min_salary(K)\",\"min_salary(K)\",\"min_salary(K)\",\"min_salary(K)\",\"min_salary(K)\",\"min_salary(K)\",\"min_salary(K)\",\"min_salary(K)\",\"min_salary(K)\",\"min_salary(K)\",\"min_salary(K)\",\"min_salary(K)\",\"min_salary(K)\",\"min_salary(K)\",\"min_salary(K)\",\"min_salary(K)\",\"min_salary(K)\",\"min_salary(K)\",\"min_salary(K)\",\"min_salary(K)\",\"min_salary(K)\",\"min_salary(K)\",\"min_salary(K)\",\"min_salary(K)\",\"min_salary(K)\",\"min_salary(K)\",\"min_salary(K)\",\"min_salary(K)\",\"min_salary(K)\",\"min_salary(K)\",\"min_salary(K)\",\"min_salary(K)\",\"min_salary(K)\",\"min_salary(K)\",\"min_salary(K)\",\"min_salary(K)\",\"min_salary(K)\",\"min_salary(K)\",\"min_salary(K)\",\"min_salary(K)\",\"min_salary(K)\",\"min_salary(K)\",\"min_salary(K)\",\"min_salary(K)\",\"min_salary(K)\",\"min_salary(K)\",\"min_salary(K)\",\"min_salary(K)\",\"min_salary(K)\",\"min_salary(K)\",\"min_salary(K)\",\"min_salary(K)\",\"min_salary(K)\",\"min_salary(K)\",\"min_salary(K)\",\"min_salary(K)\",\"min_salary(K)\",\"min_salary(K)\",\"min_salary(K)\",\"min_salary(K)\",\"min_salary(K)\",\"min_salary(K)\",\"min_salary(K)\",\"min_salary(K)\",\"min_salary(K)\",\"min_salary(K)\",\"min_salary(K)\",\"min_salary(K)\",\"min_salary(K)\",\"min_salary(K)\",\"min_salary(K)\",\"min_salary(K)\",\"min_salary(K)\",\"min_salary(K)\",\"min_salary(K)\",\"min_salary(K)\",\"min_salary(K)\",\"min_salary(K)\",\"min_salary(K)\",\"min_salary(K)\",\"min_salary(K)\",\"min_salary(K)\",\"min_salary(K)\",\"min_salary(K)\",\"min_salary(K)\",\"min_salary(K)\",\"min_salary(K)\",\"min_salary(K)\",\"min_salary(K)\",\"min_salary(K)\",\"min_salary(K)\",\"min_salary(K)\",\"min_salary(K)\",\"min_salary(K)\",\"min_salary(K)\",\"min_salary(K)\",\"min_salary(K)\",\"min_salary(K)\",\"min_salary(K)\",\"min_salary(K)\",\"min_salary(K)\",\"min_salary(K)\",\"min_salary(K)\",\"min_salary(K)\",\"min_salary(K)\",\"min_salary(K)\",\"min_salary(K)\",\"min_salary(K)\",\"min_salary(K)\",\"min_salary(K)\",\"min_salary(K)\",\"min_salary(K)\",\"min_salary(K)\",\"min_salary(K)\",\"min_salary(K)\",\"min_salary(K)\",\"min_salary(K)\",\"min_salary(K)\",\"min_salary(K)\",\"min_salary(K)\",\"min_salary(K)\",\"min_salary(K)\",\"min_salary(K)\",\"min_salary(K)\",\"min_salary(K)\",\"min_salary(K)\",\"min_salary(K)\",\"min_salary(K)\",\"min_salary(K)\",\"min_salary(K)\",\"min_salary(K)\",\"min_salary(K)\",\"min_salary(K)\",\"min_salary(K)\",\"min_salary(K)\",\"min_salary(K)\",\"min_salary(K)\",\"min_salary(K)\",\"min_salary(K)\",\"min_salary(K)\",\"min_salary(K)\",\"min_salary(K)\",\"min_salary(K)\",\"min_salary(K)\",\"min_salary(K)\",\"min_salary(K)\",\"min_salary(K)\",\"min_salary(K)\",\"min_salary(K)\",\"min_salary(K)\",\"min_salary(K)\",\"min_salary(K)\",\"min_salary(K)\",\"min_salary(K)\",\"min_salary(K)\",\"min_salary(K)\",\"min_salary(K)\",\"min_salary(K)\",\"min_salary(K)\",\"min_salary(K)\",\"min_salary(K)\",\"min_salary(K)\",\"min_salary(K)\",\"min_salary(K)\",\"min_salary(K)\",\"min_salary(K)\",\"min_salary(K)\",\"min_salary(K)\",\"min_salary(K)\",\"min_salary(K)\",\"min_salary(K)\",\"min_salary(K)\",\"min_salary(K)\",\"min_salary(K)\",\"min_salary(K)\",\"min_salary(K)\",\"min_salary(K)\",\"min_salary(K)\",\"min_salary(K)\",\"min_salary(K)\",\"min_salary(K)\",\"min_salary(K)\",\"min_salary(K)\",\"min_salary(K)\",\"min_salary(K)\",\"min_salary(K)\",\"min_salary(K)\",\"min_salary(K)\",\"min_salary(K)\",\"min_salary(K)\",\"min_salary(K)\",\"min_salary(K)\",\"min_salary(K)\",\"min_salary(K)\",\"min_salary(K)\",\"min_salary(K)\",\"min_salary(K)\",\"min_salary(K)\",\"min_salary(K)\",\"min_salary(K)\",\"min_salary(K)\",\"min_salary(K)\",\"min_salary(K)\",\"min_salary(K)\",\"min_salary(K)\",\"min_salary(K)\",\"min_salary(K)\",\"min_salary(K)\",\"min_salary(K)\",\"min_salary(K)\",\"min_salary(K)\",\"min_salary(K)\",\"min_salary(K)\",\"min_salary(K)\",\"min_salary(K)\",\"min_salary(K)\",\"min_salary(K)\",\"min_salary(K)\",\"min_salary(K)\",\"min_salary(K)\",\"min_salary(K)\",\"min_salary(K)\",\"min_salary(K)\",\"min_salary(K)\",\"min_salary(K)\",\"min_salary(K)\",\"min_salary(K)\",\"min_salary(K)\",\"min_salary(K)\",\"min_salary(K)\",\"min_salary(K)\",\"min_salary(K)\",\"min_salary(K)\",\"min_salary(K)\",\"min_salary(K)\",\"min_salary(K)\",\"min_salary(K)\",\"min_salary(K)\",\"min_salary(K)\",\"min_salary(K)\",\"min_salary(K)\",\"min_salary(K)\",\"min_salary(K)\",\"min_salary(K)\",\"min_salary(K)\",\"min_salary(K)\",\"min_salary(K)\",\"min_salary(K)\",\"min_salary(K)\",\"min_salary(K)\",\"min_salary(K)\",\"min_salary(K)\",\"min_salary(K)\",\"min_salary(K)\",\"min_salary(K)\",\"min_salary(K)\",\"min_salary(K)\",\"min_salary(K)\",\"min_salary(K)\",\"min_salary(K)\",\"min_salary(K)\",\"min_salary(K)\",\"min_salary(K)\",\"min_salary(K)\",\"min_salary(K)\",\"min_salary(K)\",\"min_salary(K)\",\"min_salary(K)\",\"min_salary(K)\",\"min_salary(K)\",\"min_salary(K)\",\"min_salary(K)\",\"min_salary(K)\",\"min_salary(K)\",\"min_salary(K)\",\"min_salary(K)\",\"min_salary(K)\",\"min_salary(K)\",\"min_salary(K)\",\"min_salary(K)\",\"min_salary(K)\",\"min_salary(K)\",\"min_salary(K)\",\"min_salary(K)\",\"min_salary(K)\",\"min_salary(K)\",\"min_salary(K)\",\"min_salary(K)\",\"min_salary(K)\",\"min_salary(K)\",\"min_salary(K)\",\"min_salary(K)\",\"min_salary(K)\",\"min_salary(K)\",\"min_salary(K)\",\"min_salary(K)\",\"min_salary(K)\",\"min_salary(K)\",\"min_salary(K)\",\"min_salary(K)\",\"min_salary(K)\",\"min_salary(K)\",\"min_salary(K)\",\"min_salary(K)\",\"min_salary(K)\",\"min_salary(K)\",\"min_salary(K)\",\"min_salary(K)\",\"min_salary(K)\",\"min_salary(K)\",\"min_salary(K)\",\"min_salary(K)\",\"min_salary(K)\",\"min_salary(K)\",\"min_salary(K)\",\"min_salary(K)\",\"min_salary(K)\",\"min_salary(K)\",\"min_salary(K)\",\"min_salary(K)\",\"min_salary(K)\",\"min_salary(K)\",\"min_salary(K)\",\"min_salary(K)\",\"min_salary(K)\",\"min_salary(K)\",\"min_salary(K)\",\"min_salary(K)\",\"min_salary(K)\",\"min_salary(K)\",\"min_salary(K)\",\"min_salary(K)\",\"min_salary(K)\",\"min_salary(K)\",\"min_salary(K)\",\"min_salary(K)\",\"min_salary(K)\",\"min_salary(K)\",\"min_salary(K)\",\"min_salary(K)\",\"min_salary(K)\",\"min_salary(K)\",\"min_salary(K)\",\"min_salary(K)\",\"min_salary(K)\",\"min_salary(K)\",\"min_salary(K)\",\"min_salary(K)\",\"min_salary(K)\",\"min_salary(K)\",\"min_salary(K)\",\"min_salary(K)\",\"min_salary(K)\",\"min_salary(K)\",\"min_salary(K)\",\"min_salary(K)\",\"min_salary(K)\",\"min_salary(K)\",\"min_salary(K)\",\"min_salary(K)\",\"min_salary(K)\",\"min_salary(K)\",\"min_salary(K)\",\"min_salary(K)\",\"min_salary(K)\",\"min_salary(K)\",\"min_salary(K)\",\"min_salary(K)\",\"min_salary(K)\",\"min_salary(K)\",\"min_salary(K)\",\"min_salary(K)\",\"min_salary(K)\",\"min_salary(K)\",\"min_salary(K)\",\"min_salary(K)\",\"min_salary(K)\",\"min_salary(K)\",\"min_salary(K)\",\"min_salary(K)\",\"min_salary(K)\",\"min_salary(K)\",\"min_salary(K)\",\"min_salary(K)\",\"min_salary(K)\",\"min_salary(K)\",\"min_salary(K)\",\"min_salary(K)\",\"min_salary(K)\",\"min_salary(K)\",\"min_salary(K)\",\"min_salary(K)\",\"min_salary(K)\",\"min_salary(K)\",\"min_salary(K)\",\"min_salary(K)\",\"min_salary(K)\",\"min_salary(K)\",\"min_salary(K)\",\"min_salary(K)\",\"min_salary(K)\",\"min_salary(K)\",\"min_salary(K)\",\"min_salary(K)\",\"min_salary(K)\",\"min_salary(K)\",\"min_salary(K)\",\"min_salary(K)\",\"min_salary(K)\",\"min_salary(K)\",\"min_salary(K)\",\"min_salary(K)\",\"min_salary(K)\",\"min_salary(K)\",\"min_salary(K)\",\"min_salary(K)\",\"min_salary(K)\",\"min_salary(K)\",\"min_salary(K)\",\"min_salary(K)\",\"min_salary(K)\",\"min_salary(K)\",\"min_salary(K)\",\"min_salary(K)\",\"min_salary(K)\",\"min_salary(K)\",\"min_salary(K)\",\"min_salary(K)\",\"min_salary(K)\",\"min_salary(K)\",\"min_salary(K)\",\"min_salary(K)\",\"min_salary(K)\",\"min_salary(K)\",\"min_salary(K)\",\"min_salary(K)\",\"min_salary(K)\",\"min_salary(K)\",\"min_salary(K)\",\"min_salary(K)\",\"min_salary(K)\",\"min_salary(K)\",\"min_salary(K)\",\"min_salary(K)\",\"min_salary(K)\",\"min_salary(K)\",\"min_salary(K)\",\"min_salary(K)\",\"min_salary(K)\",\"min_salary(K)\",\"min_salary(K)\",\"min_salary(K)\",\"min_salary(K)\",\"min_salary(K)\",\"min_salary(K)\",\"min_salary(K)\",\"min_salary(K)\",\"min_salary(K)\",\"min_salary(K)\",\"min_salary(K)\",\"min_salary(K)\",\"min_salary(K)\",\"min_salary(K)\",\"min_salary(K)\",\"min_salary(K)\",\"min_salary(K)\",\"min_salary(K)\",\"min_salary(K)\",\"min_salary(K)\",\"min_salary(K)\",\"min_salary(K)\",\"min_salary(K)\",\"min_salary(K)\",\"min_salary(K)\",\"min_salary(K)\",\"min_salary(K)\",\"min_salary(K)\",\"min_salary(K)\",\"min_salary(K)\",\"min_salary(K)\",\"min_salary(K)\",\"min_salary(K)\",\"min_salary(K)\",\"min_salary(K)\",\"min_salary(K)\",\"min_salary(K)\",\"min_salary(K)\",\"min_salary(K)\",\"min_salary(K)\",\"min_salary(K)\",\"min_salary(K)\",\"min_salary(K)\",\"min_salary(K)\",\"min_salary(K)\",\"min_salary(K)\",\"min_salary(K)\",\"min_salary(K)\",\"min_salary(K)\",\"min_salary(K)\",\"min_salary(K)\",\"min_salary(K)\",\"min_salary(K)\",\"min_salary(K)\",\"min_salary(K)\",\"min_salary(K)\",\"min_salary(K)\",\"min_salary(K)\",\"min_salary(K)\",\"min_salary(K)\",\"min_salary(K)\",\"min_salary(K)\",\"min_salary(K)\",\"min_salary(K)\",\"min_salary(K)\",\"min_salary(K)\",\"min_salary(K)\",\"min_salary(K)\",\"min_salary(K)\",\"min_salary(K)\",\"min_salary(K)\",\"min_salary(K)\",\"min_salary(K)\",\"min_salary(K)\",\"min_salary(K)\",\"min_salary(K)\",\"min_salary(K)\",\"min_salary(K)\",\"min_salary(K)\",\"min_salary(K)\",\"max_salary(K)\",\"max_salary(K)\",\"max_salary(K)\",\"max_salary(K)\",\"max_salary(K)\",\"max_salary(K)\",\"max_salary(K)\",\"max_salary(K)\",\"max_salary(K)\",\"max_salary(K)\",\"max_salary(K)\",\"max_salary(K)\",\"max_salary(K)\",\"max_salary(K)\",\"max_salary(K)\",\"max_salary(K)\",\"max_salary(K)\",\"max_salary(K)\",\"max_salary(K)\",\"max_salary(K)\",\"max_salary(K)\",\"max_salary(K)\",\"max_salary(K)\",\"max_salary(K)\",\"max_salary(K)\",\"max_salary(K)\",\"max_salary(K)\",\"max_salary(K)\",\"max_salary(K)\",\"max_salary(K)\",\"max_salary(K)\",\"max_salary(K)\",\"max_salary(K)\",\"max_salary(K)\",\"max_salary(K)\",\"max_salary(K)\",\"max_salary(K)\",\"max_salary(K)\",\"max_salary(K)\",\"max_salary(K)\",\"max_salary(K)\",\"max_salary(K)\",\"max_salary(K)\",\"max_salary(K)\",\"max_salary(K)\",\"max_salary(K)\",\"max_salary(K)\",\"max_salary(K)\",\"max_salary(K)\",\"max_salary(K)\",\"max_salary(K)\",\"max_salary(K)\",\"max_salary(K)\",\"max_salary(K)\",\"max_salary(K)\",\"max_salary(K)\",\"max_salary(K)\",\"max_salary(K)\",\"max_salary(K)\",\"max_salary(K)\",\"max_salary(K)\",\"max_salary(K)\",\"max_salary(K)\",\"max_salary(K)\",\"max_salary(K)\",\"max_salary(K)\",\"max_salary(K)\",\"max_salary(K)\",\"max_salary(K)\",\"max_salary(K)\",\"max_salary(K)\",\"max_salary(K)\",\"max_salary(K)\",\"max_salary(K)\",\"max_salary(K)\",\"max_salary(K)\",\"max_salary(K)\",\"max_salary(K)\",\"max_salary(K)\",\"max_salary(K)\",\"max_salary(K)\",\"max_salary(K)\",\"max_salary(K)\",\"max_salary(K)\",\"max_salary(K)\",\"max_salary(K)\",\"max_salary(K)\",\"max_salary(K)\",\"max_salary(K)\",\"max_salary(K)\",\"max_salary(K)\",\"max_salary(K)\",\"max_salary(K)\",\"max_salary(K)\",\"max_salary(K)\",\"max_salary(K)\",\"max_salary(K)\",\"max_salary(K)\",\"max_salary(K)\",\"max_salary(K)\",\"max_salary(K)\",\"max_salary(K)\",\"max_salary(K)\",\"max_salary(K)\",\"max_salary(K)\",\"max_salary(K)\",\"max_salary(K)\",\"max_salary(K)\",\"max_salary(K)\",\"max_salary(K)\",\"max_salary(K)\",\"max_salary(K)\",\"max_salary(K)\",\"max_salary(K)\",\"max_salary(K)\",\"max_salary(K)\",\"max_salary(K)\",\"max_salary(K)\",\"max_salary(K)\",\"max_salary(K)\",\"max_salary(K)\",\"max_salary(K)\",\"max_salary(K)\",\"max_salary(K)\",\"max_salary(K)\",\"max_salary(K)\",\"max_salary(K)\",\"max_salary(K)\",\"max_salary(K)\",\"max_salary(K)\",\"max_salary(K)\",\"max_salary(K)\",\"max_salary(K)\",\"max_salary(K)\",\"max_salary(K)\",\"max_salary(K)\",\"max_salary(K)\",\"max_salary(K)\",\"max_salary(K)\",\"max_salary(K)\",\"max_salary(K)\",\"max_salary(K)\",\"max_salary(K)\",\"max_salary(K)\",\"max_salary(K)\",\"max_salary(K)\",\"max_salary(K)\",\"max_salary(K)\",\"max_salary(K)\",\"max_salary(K)\",\"max_salary(K)\",\"max_salary(K)\",\"max_salary(K)\",\"max_salary(K)\",\"max_salary(K)\",\"max_salary(K)\",\"max_salary(K)\",\"max_salary(K)\",\"max_salary(K)\",\"max_salary(K)\",\"max_salary(K)\",\"max_salary(K)\",\"max_salary(K)\",\"max_salary(K)\",\"max_salary(K)\",\"max_salary(K)\",\"max_salary(K)\",\"max_salary(K)\",\"max_salary(K)\",\"max_salary(K)\",\"max_salary(K)\",\"max_salary(K)\",\"max_salary(K)\",\"max_salary(K)\",\"max_salary(K)\",\"max_salary(K)\",\"max_salary(K)\",\"max_salary(K)\",\"max_salary(K)\",\"max_salary(K)\",\"max_salary(K)\",\"max_salary(K)\",\"max_salary(K)\",\"max_salary(K)\",\"max_salary(K)\",\"max_salary(K)\",\"max_salary(K)\",\"max_salary(K)\",\"max_salary(K)\",\"max_salary(K)\",\"max_salary(K)\",\"max_salary(K)\",\"max_salary(K)\",\"max_salary(K)\",\"max_salary(K)\",\"max_salary(K)\",\"max_salary(K)\",\"max_salary(K)\",\"max_salary(K)\",\"max_salary(K)\",\"max_salary(K)\",\"max_salary(K)\",\"max_salary(K)\",\"max_salary(K)\",\"max_salary(K)\",\"max_salary(K)\",\"max_salary(K)\",\"max_salary(K)\",\"max_salary(K)\",\"max_salary(K)\",\"max_salary(K)\",\"max_salary(K)\",\"max_salary(K)\",\"max_salary(K)\",\"max_salary(K)\",\"max_salary(K)\",\"max_salary(K)\",\"max_salary(K)\",\"max_salary(K)\",\"max_salary(K)\",\"max_salary(K)\",\"max_salary(K)\",\"max_salary(K)\",\"max_salary(K)\",\"max_salary(K)\",\"max_salary(K)\",\"max_salary(K)\",\"max_salary(K)\",\"max_salary(K)\",\"max_salary(K)\",\"max_salary(K)\",\"max_salary(K)\",\"max_salary(K)\",\"max_salary(K)\",\"max_salary(K)\",\"max_salary(K)\",\"max_salary(K)\",\"max_salary(K)\",\"max_salary(K)\",\"max_salary(K)\",\"max_salary(K)\",\"max_salary(K)\",\"max_salary(K)\",\"max_salary(K)\",\"max_salary(K)\",\"max_salary(K)\",\"max_salary(K)\",\"max_salary(K)\",\"max_salary(K)\",\"max_salary(K)\",\"max_salary(K)\",\"max_salary(K)\",\"max_salary(K)\",\"max_salary(K)\",\"max_salary(K)\",\"max_salary(K)\",\"max_salary(K)\",\"max_salary(K)\",\"max_salary(K)\",\"max_salary(K)\",\"max_salary(K)\",\"max_salary(K)\",\"max_salary(K)\",\"max_salary(K)\",\"max_salary(K)\",\"max_salary(K)\",\"max_salary(K)\",\"max_salary(K)\",\"max_salary(K)\",\"max_salary(K)\",\"max_salary(K)\",\"max_salary(K)\",\"max_salary(K)\",\"max_salary(K)\",\"max_salary(K)\",\"max_salary(K)\",\"max_salary(K)\",\"max_salary(K)\",\"max_salary(K)\",\"max_salary(K)\",\"max_salary(K)\",\"max_salary(K)\",\"max_salary(K)\",\"max_salary(K)\",\"max_salary(K)\",\"max_salary(K)\",\"max_salary(K)\",\"max_salary(K)\",\"max_salary(K)\",\"max_salary(K)\",\"max_salary(K)\",\"max_salary(K)\",\"max_salary(K)\",\"max_salary(K)\",\"max_salary(K)\",\"max_salary(K)\",\"max_salary(K)\",\"max_salary(K)\",\"max_salary(K)\",\"max_salary(K)\",\"max_salary(K)\",\"max_salary(K)\",\"max_salary(K)\",\"max_salary(K)\",\"max_salary(K)\",\"max_salary(K)\",\"max_salary(K)\",\"max_salary(K)\",\"max_salary(K)\",\"max_salary(K)\",\"max_salary(K)\",\"max_salary(K)\",\"max_salary(K)\",\"max_salary(K)\",\"max_salary(K)\",\"max_salary(K)\",\"max_salary(K)\",\"max_salary(K)\",\"max_salary(K)\",\"max_salary(K)\",\"max_salary(K)\",\"max_salary(K)\",\"max_salary(K)\",\"max_salary(K)\",\"max_salary(K)\",\"max_salary(K)\",\"max_salary(K)\",\"max_salary(K)\",\"max_salary(K)\",\"max_salary(K)\",\"max_salary(K)\",\"max_salary(K)\",\"max_salary(K)\",\"max_salary(K)\",\"max_salary(K)\",\"max_salary(K)\",\"max_salary(K)\",\"max_salary(K)\",\"max_salary(K)\",\"max_salary(K)\",\"max_salary(K)\",\"max_salary(K)\",\"max_salary(K)\",\"max_salary(K)\",\"max_salary(K)\",\"max_salary(K)\",\"max_salary(K)\",\"max_salary(K)\",\"max_salary(K)\",\"max_salary(K)\",\"max_salary(K)\",\"max_salary(K)\",\"max_salary(K)\",\"max_salary(K)\",\"max_salary(K)\",\"max_salary(K)\",\"max_salary(K)\",\"max_salary(K)\",\"max_salary(K)\",\"max_salary(K)\",\"max_salary(K)\",\"max_salary(K)\",\"max_salary(K)\",\"max_salary(K)\",\"max_salary(K)\",\"max_salary(K)\",\"max_salary(K)\",\"max_salary(K)\",\"max_salary(K)\",\"max_salary(K)\",\"max_salary(K)\",\"max_salary(K)\",\"max_salary(K)\",\"max_salary(K)\",\"max_salary(K)\",\"max_salary(K)\",\"max_salary(K)\",\"max_salary(K)\",\"max_salary(K)\",\"max_salary(K)\",\"max_salary(K)\",\"max_salary(K)\",\"max_salary(K)\",\"max_salary(K)\",\"max_salary(K)\",\"max_salary(K)\",\"max_salary(K)\",\"max_salary(K)\",\"max_salary(K)\",\"max_salary(K)\",\"max_salary(K)\",\"max_salary(K)\",\"max_salary(K)\",\"max_salary(K)\",\"max_salary(K)\",\"max_salary(K)\",\"max_salary(K)\",\"max_salary(K)\",\"max_salary(K)\",\"max_salary(K)\",\"max_salary(K)\",\"max_salary(K)\",\"max_salary(K)\",\"max_salary(K)\",\"max_salary(K)\",\"max_salary(K)\",\"max_salary(K)\",\"max_salary(K)\",\"max_salary(K)\",\"max_salary(K)\",\"max_salary(K)\",\"max_salary(K)\",\"max_salary(K)\",\"max_salary(K)\",\"max_salary(K)\",\"max_salary(K)\",\"max_salary(K)\",\"max_salary(K)\",\"max_salary(K)\",\"max_salary(K)\",\"max_salary(K)\",\"max_salary(K)\",\"max_salary(K)\",\"max_salary(K)\",\"max_salary(K)\",\"max_salary(K)\",\"max_salary(K)\",\"max_salary(K)\",\"max_salary(K)\",\"max_salary(K)\",\"max_salary(K)\",\"max_salary(K)\",\"max_salary(K)\",\"max_salary(K)\",\"max_salary(K)\",\"max_salary(K)\",\"max_salary(K)\",\"max_salary(K)\",\"max_salary(K)\",\"max_salary(K)\",\"max_salary(K)\",\"max_salary(K)\",\"max_salary(K)\",\"max_salary(K)\",\"max_salary(K)\",\"max_salary(K)\",\"max_salary(K)\",\"max_salary(K)\",\"max_salary(K)\",\"max_salary(K)\",\"max_salary(K)\",\"max_salary(K)\",\"max_salary(K)\",\"max_salary(K)\",\"max_salary(K)\",\"max_salary(K)\",\"max_salary(K)\",\"max_salary(K)\",\"max_salary(K)\",\"max_salary(K)\",\"max_salary(K)\",\"max_salary(K)\",\"max_salary(K)\",\"max_salary(K)\",\"max_salary(K)\",\"max_salary(K)\",\"max_salary(K)\",\"max_salary(K)\",\"max_salary(K)\",\"max_salary(K)\",\"max_salary(K)\",\"max_salary(K)\",\"max_salary(K)\",\"max_salary(K)\",\"max_salary(K)\",\"max_salary(K)\",\"max_salary(K)\",\"max_salary(K)\",\"max_salary(K)\",\"max_salary(K)\",\"max_salary(K)\",\"max_salary(K)\",\"max_salary(K)\",\"max_salary(K)\",\"max_salary(K)\",\"max_salary(K)\",\"max_salary(K)\",\"max_salary(K)\",\"max_salary(K)\",\"max_salary(K)\",\"max_salary(K)\",\"max_salary(K)\",\"max_salary(K)\",\"max_salary(K)\",\"max_salary(K)\",\"max_salary(K)\",\"max_salary(K)\",\"max_salary(K)\",\"max_salary(K)\",\"max_salary(K)\",\"max_salary(K)\",\"max_salary(K)\",\"max_salary(K)\",\"max_salary(K)\",\"max_salary(K)\",\"max_salary(K)\",\"max_salary(K)\",\"max_salary(K)\",\"max_salary(K)\",\"max_salary(K)\",\"max_salary(K)\",\"max_salary(K)\",\"max_salary(K)\",\"max_salary(K)\",\"max_salary(K)\",\"max_salary(K)\",\"max_salary(K)\",\"max_salary(K)\",\"max_salary(K)\",\"max_salary(K)\",\"max_salary(K)\",\"max_salary(K)\",\"max_salary(K)\",\"max_salary(K)\",\"max_salary(K)\",\"max_salary(K)\",\"max_salary(K)\",\"max_salary(K)\",\"max_salary(K)\",\"max_salary(K)\",\"max_salary(K)\",\"max_salary(K)\",\"max_salary(K)\",\"max_salary(K)\",\"max_salary(K)\",\"max_salary(K)\",\"max_salary(K)\",\"max_salary(K)\",\"max_salary(K)\",\"max_salary(K)\",\"max_salary(K)\",\"max_salary(K)\",\"max_salary(K)\",\"max_salary(K)\",\"max_salary(K)\",\"max_salary(K)\",\"max_salary(K)\",\"max_salary(K)\",\"max_salary(K)\",\"max_salary(K)\",\"max_salary(K)\",\"max_salary(K)\",\"max_salary(K)\",\"max_salary(K)\",\"max_salary(K)\",\"max_salary(K)\",\"max_salary(K)\",\"max_salary(K)\",\"max_salary(K)\",\"max_salary(K)\",\"max_salary(K)\",\"max_salary(K)\",\"max_salary(K)\",\"max_salary(K)\",\"max_salary(K)\",\"max_salary(K)\",\"max_salary(K)\",\"max_salary(K)\",\"max_salary(K)\",\"max_salary(K)\",\"max_salary(K)\",\"max_salary(K)\",\"max_salary(K)\",\"max_salary(K)\",\"max_salary(K)\",\"max_salary(K)\",\"max_salary(K)\",\"max_salary(K)\",\"max_salary(K)\",\"max_salary(K)\",\"max_salary(K)\",\"max_salary(K)\",\"max_salary(K)\",\"max_salary(K)\",\"max_salary(K)\",\"max_salary(K)\",\"max_salary(K)\",\"max_salary(K)\",\"max_salary(K)\",\"max_salary(K)\",\"max_salary(K)\",\"max_salary(K)\",\"max_salary(K)\",\"max_salary(K)\",\"max_salary(K)\",\"max_salary(K)\",\"max_salary(K)\",\"max_salary(K)\",\"max_salary(K)\",\"max_salary(K)\",\"max_salary(K)\",\"max_salary(K)\",\"max_salary(K)\",\"max_salary(K)\",\"max_salary(K)\",\"max_salary(K)\",\"max_salary(K)\",\"max_salary(K)\",\"max_salary(K)\",\"max_salary(K)\",\"max_salary(K)\",\"max_salary(K)\",\"max_salary(K)\",\"max_salary(K)\",\"max_salary(K)\",\"max_salary(K)\",\"max_salary(K)\",\"max_salary(K)\",\"max_salary(K)\",\"max_salary(K)\",\"max_salary(K)\",\"max_salary(K)\",\"max_salary(K)\",\"max_salary(K)\",\"max_salary(K)\",\"max_salary(K)\",\"max_salary(K)\",\"max_salary(K)\",\"max_salary(K)\",\"max_salary(K)\",\"max_salary(K)\",\"max_salary(K)\",\"max_salary(K)\",\"max_salary(K)\",\"max_salary(K)\",\"max_salary(K)\",\"max_salary(K)\",\"max_salary(K)\",\"max_salary(K)\",\"max_salary(K)\",\"max_salary(K)\",\"max_salary(K)\",\"max_salary(K)\",\"max_salary(K)\",\"max_salary(K)\",\"max_salary(K)\",\"max_salary(K)\",\"max_salary(K)\",\"max_salary(K)\",\"max_salary(K)\",\"max_salary(K)\",\"max_salary(K)\",\"max_salary(K)\",\"max_salary(K)\",\"max_salary(K)\",\"max_salary(K)\",\"max_salary(K)\",\"max_salary(K)\",\"max_salary(K)\",\"max_salary(K)\",\"max_salary(K)\",\"max_salary(K)\",\"max_salary(K)\",\"max_salary(K)\",\"max_salary(K)\",\"max_salary(K)\",\"max_salary(K)\",\"max_salary(K)\",\"max_salary(K)\",\"max_salary(K)\",\"max_salary(K)\",\"max_salary(K)\",\"max_salary(K)\",\"max_salary(K)\",\"max_salary(K)\",\"max_salary(K)\",\"max_salary(K)\",\"max_salary(K)\",\"max_salary(K)\",\"max_salary(K)\",\"max_salary(K)\",\"max_salary(K)\",\"max_salary(K)\",\"max_salary(K)\",\"max_salary(K)\",\"max_salary(K)\",\"max_salary(K)\",\"max_salary(K)\",\"max_salary(K)\",\"max_salary(K)\",\"max_salary(K)\",\"max_salary(K)\",\"max_salary(K)\",\"max_salary(K)\",\"max_salary(K)\",\"max_salary(K)\",\"max_salary(K)\",\"max_salary(K)\",\"max_salary(K)\",\"max_salary(K)\",\"max_salary(K)\",\"max_salary(K)\",\"max_salary(K)\",\"max_salary(K)\",\"max_salary(K)\",\"max_salary(K)\",\"max_salary(K)\",\"max_salary(K)\",\"max_salary(K)\",\"max_salary(K)\",\"max_salary(K)\",\"max_salary(K)\",\"max_salary(K)\",\"max_salary(K)\",\"max_salary(K)\",\"max_salary(K)\",\"max_salary(K)\",\"max_salary(K)\",\"max_salary(K)\",\"max_salary(K)\",\"max_salary(K)\",\"max_salary(K)\",\"max_salary(K)\",\"max_salary(K)\",\"max_salary(K)\",\"max_salary(K)\",\"max_salary(K)\",\"max_salary(K)\",\"max_salary(K)\",\"max_salary(K)\",\"max_salary(K)\",\"max_salary(K)\",\"max_salary(K)\",\"max_salary(K)\",\"max_salary(K)\",\"max_salary(K)\",\"max_salary(K)\",\"max_salary(K)\",\"max_salary(K)\",\"max_salary(K)\",\"max_salary(K)\",\"max_salary(K)\",\"max_salary(K)\",\"max_salary(K)\",\"max_salary(K)\",\"max_salary(K)\",\"max_salary(K)\",\"max_salary(K)\",\"max_salary(K)\",\"max_salary(K)\",\"max_salary(K)\",\"max_salary(K)\",\"max_salary(K)\",\"max_salary(K)\",\"max_salary(K)\",\"max_salary(K)\",\"max_salary(K)\",\"max_salary(K)\",\"max_salary(K)\",\"max_salary(K)\",\"max_salary(K)\",\"max_salary(K)\",\"max_salary(K)\",\"max_salary(K)\",\"max_salary(K)\",\"max_salary(K)\",\"max_salary(K)\",\"max_salary(K)\",\"max_salary(K)\",\"max_salary(K)\",\"max_salary(K)\",\"max_salary(K)\",\"max_salary(K)\",\"max_salary(K)\",\"max_salary(K)\",\"max_salary(K)\",\"max_salary(K)\",\"max_salary(K)\",\"max_salary(K)\",\"max_salary(K)\",\"max_salary(K)\",\"max_salary(K)\",\"max_salary(K)\",\"max_salary(K)\",\"max_salary(K)\",\"max_salary(K)\",\"max_salary(K)\",\"max_salary(K)\",\"max_salary(K)\",\"max_salary(K)\",\"max_salary(K)\",\"max_salary(K)\",\"max_salary(K)\",\"max_salary(K)\",\"max_salary(K)\",\"max_salary(K)\",\"max_salary(K)\",\"max_salary(K)\",\"max_salary(K)\",\"max_salary(K)\",\"max_salary(K)\",\"max_salary(K)\",\"max_salary(K)\",\"max_salary(K)\",\"max_salary(K)\",\"max_salary(K)\",\"max_salary(K)\",\"max_salary(K)\",\"max_salary(K)\",\"max_salary(K)\",\"max_salary(K)\",\"max_salary(K)\",\"max_salary(K)\",\"max_salary(K)\",\"max_salary(K)\",\"max_salary(K)\",\"max_salary(K)\",\"max_salary(K)\",\"max_salary(K)\",\"max_salary(K)\",\"max_salary(K)\",\"max_salary(K)\",\"max_salary(K)\",\"max_salary(K)\",\"max_salary(K)\",\"max_salary(K)\",\"max_salary(K)\",\"max_salary(K)\",\"max_salary(K)\",\"max_salary(K)\",\"max_salary(K)\",\"max_salary(K)\",\"max_salary(K)\",\"max_salary(K)\",\"max_salary(K)\",\"max_salary(K)\",\"max_salary(K)\",\"max_salary(K)\",\"max_salary(K)\",\"max_salary(K)\",\"max_salary(K)\",\"max_salary(K)\",\"max_salary(K)\",\"max_salary(K)\",\"max_salary(K)\",\"max_salary(K)\",\"max_salary(K)\",\"max_salary(K)\",\"max_salary(K)\",\"max_salary(K)\",\"max_salary(K)\",\"max_salary(K)\",\"max_salary(K)\",\"max_salary(K)\",\"max_salary(K)\",\"max_salary(K)\",\"max_salary(K)\",\"max_salary(K)\",\"max_salary(K)\",\"max_salary(K)\",\"max_salary(K)\",\"max_salary(K)\",\"max_salary(K)\",\"max_salary(K)\",\"max_salary(K)\",\"max_salary(K)\",\"max_salary(K)\",\"max_salary(K)\",\"max_salary(K)\",\"max_salary(K)\",\"max_salary(K)\",\"max_salary(K)\",\"max_salary(K)\",\"max_salary(K)\",\"max_salary(K)\",\"max_salary(K)\",\"max_salary(K)\",\"max_salary(K)\",\"max_salary(K)\",\"max_salary(K)\",\"max_salary(K)\",\"max_salary(K)\",\"max_salary(K)\",\"max_salary(K)\",\"max_salary(K)\",\"max_salary(K)\",\"max_salary(K)\",\"max_salary(K)\",\"max_salary(K)\",\"max_salary(K)\",\"max_salary(K)\",\"max_salary(K)\",\"max_salary(K)\",\"max_salary(K)\",\"max_salary(K)\",\"max_salary(K)\",\"max_salary(K)\",\"max_salary(K)\",\"max_salary(K)\",\"max_salary(K)\",\"max_salary(K)\",\"max_salary(K)\",\"max_salary(K)\",\"max_salary(K)\",\"max_salary(K)\",\"max_salary(K)\",\"max_salary(K)\",\"max_salary(K)\",\"max_salary(K)\",\"max_salary(K)\",\"max_salary(K)\",\"max_salary(K)\",\"max_salary(K)\",\"max_salary(K)\",\"max_salary(K)\",\"max_salary(K)\",\"max_salary(K)\",\"max_salary(K)\",\"max_salary(K)\",\"max_salary(K)\",\"max_salary(K)\",\"max_salary(K)\",\"max_salary(K)\",\"max_salary(K)\",\"max_salary(K)\",\"max_salary(K)\",\"max_salary(K)\",\"max_salary(K)\",\"max_salary(K)\",\"max_salary(K)\",\"max_salary(K)\",\"max_salary(K)\",\"max_salary(K)\",\"max_salary(K)\",\"max_salary(K)\",\"max_salary(K)\",\"max_salary(K)\",\"max_salary(K)\",\"max_salary(K)\",\"max_salary(K)\",\"max_salary(K)\",\"max_salary(K)\",\"max_salary(K)\",\"max_salary(K)\",\"max_salary(K)\",\"max_salary(K)\",\"max_salary(K)\",\"max_salary(K)\",\"max_salary(K)\",\"max_salary(K)\",\"max_salary(K)\",\"max_salary(K)\",\"max_salary(K)\",\"max_salary(K)\",\"max_salary(K)\",\"max_salary(K)\",\"max_salary(K)\",\"max_salary(K)\",\"max_salary(K)\",\"max_salary(K)\",\"max_salary(K)\",\"max_salary(K)\",\"max_salary(K)\",\"max_salary(K)\",\"max_salary(K)\",\"max_salary(K)\",\"max_salary(K)\",\"max_salary(K)\",\"max_salary(K)\",\"max_salary(K)\",\"max_salary(K)\",\"max_salary(K)\",\"max_salary(K)\",\"max_salary(K)\",\"max_salary(K)\",\"max_salary(K)\",\"max_salary(K)\",\"max_salary(K)\",\"max_salary(K)\",\"max_salary(K)\",\"max_salary(K)\",\"max_salary(K)\",\"max_salary(K)\",\"max_salary(K)\",\"max_salary(K)\",\"max_salary(K)\",\"max_salary(K)\",\"max_salary(K)\",\"max_salary(K)\",\"max_salary(K)\",\"max_salary(K)\",\"max_salary(K)\",\"max_salary(K)\",\"max_salary(K)\",\"max_salary(K)\",\"max_salary(K)\",\"max_salary(K)\",\"max_salary(K)\",\"max_salary(K)\",\"max_salary(K)\",\"max_salary(K)\",\"max_salary(K)\",\"max_salary(K)\",\"max_salary(K)\",\"max_salary(K)\",\"max_salary(K)\",\"max_salary(K)\",\"max_salary(K)\",\"max_salary(K)\",\"max_salary(K)\",\"max_salary(K)\",\"max_salary(K)\",\"max_salary(K)\",\"max_salary(K)\",\"max_salary(K)\",\"max_salary(K)\",\"max_salary(K)\",\"max_salary(K)\",\"max_salary(K)\",\"max_salary(K)\",\"max_salary(K)\",\"max_salary(K)\",\"max_salary(K)\",\"max_salary(K)\",\"max_salary(K)\",\"max_salary(K)\",\"max_salary(K)\",\"max_salary(K)\",\"max_salary(K)\",\"max_salary(K)\",\"max_salary(K)\",\"max_salary(K)\",\"max_salary(K)\",\"max_salary(K)\",\"max_salary(K)\",\"max_salary(K)\",\"max_salary(K)\",\"max_salary(K)\",\"max_salary(K)\",\"max_salary(K)\",\"max_salary(K)\",\"max_salary(K)\",\"max_salary(K)\",\"max_salary(K)\",\"max_salary(K)\",\"max_salary(K)\",\"max_salary(K)\",\"max_salary(K)\",\"max_salary(K)\",\"max_salary(K)\",\"max_salary(K)\",\"max_salary(K)\",\"max_salary(K)\",\"max_salary(K)\",\"max_salary(K)\",\"max_salary(K)\",\"max_salary(K)\",\"max_salary(K)\",\"max_salary(K)\",\"max_salary(K)\",\"max_salary(K)\",\"max_salary(K)\",\"max_salary(K)\",\"max_salary(K)\",\"max_salary(K)\",\"max_salary(K)\",\"max_salary(K)\",\"max_salary(K)\",\"max_salary(K)\",\"max_salary(K)\",\"max_salary(K)\",\"max_salary(K)\",\"max_salary(K)\",\"max_salary(K)\",\"max_salary(K)\",\"max_salary(K)\",\"max_salary(K)\",\"max_salary(K)\",\"max_salary(K)\",\"max_salary(K)\",\"max_salary(K)\",\"max_salary(K)\",\"max_salary(K)\",\"max_salary(K)\",\"max_salary(K)\",\"max_salary(K)\",\"max_salary(K)\",\"max_salary(K)\",\"max_salary(K)\",\"max_salary(K)\",\"max_salary(K)\",\"max_salary(K)\",\"max_salary(K)\",\"max_salary(K)\",\"max_salary(K)\",\"max_salary(K)\",\"max_salary(K)\",\"max_salary(K)\",\"max_salary(K)\",\"max_salary(K)\",\"max_salary(K)\",\"max_salary(K)\",\"max_salary(K)\",\"max_salary(K)\",\"max_salary(K)\",\"max_salary(K)\",\"max_salary(K)\",\"max_salary(K)\",\"max_salary(K)\",\"max_salary(K)\",\"max_salary(K)\",\"max_salary(K)\",\"max_salary(K)\",\"max_salary(K)\",\"max_salary(K)\",\"max_salary(K)\",\"max_salary(K)\",\"max_salary(K)\",\"max_salary(K)\",\"max_salary(K)\",\"max_salary(K)\",\"max_salary(K)\",\"max_salary(K)\",\"max_salary(K)\",\"max_salary(K)\",\"max_salary(K)\",\"max_salary(K)\",\"max_salary(K)\",\"max_salary(K)\",\"max_salary(K)\",\"max_salary(K)\",\"max_salary(K)\",\"max_salary(K)\",\"max_salary(K)\",\"max_salary(K)\",\"max_salary(K)\",\"max_salary(K)\",\"max_salary(K)\",\"max_salary(K)\",\"max_salary(K)\",\"max_salary(K)\",\"max_salary(K)\",\"max_salary(K)\",\"max_salary(K)\",\"max_salary(K)\",\"max_salary(K)\",\"max_salary(K)\",\"max_salary(K)\",\"max_salary(K)\",\"max_salary(K)\",\"max_salary(K)\",\"max_salary(K)\",\"max_salary(K)\",\"max_salary(K)\",\"max_salary(K)\",\"max_salary(K)\",\"max_salary(K)\",\"max_salary(K)\",\"max_salary(K)\",\"max_salary(K)\",\"max_salary(K)\",\"max_salary(K)\",\"max_salary(K)\",\"max_salary(K)\",\"max_salary(K)\",\"max_salary(K)\",\"max_salary(K)\",\"max_salary(K)\",\"max_salary(K)\",\"max_salary(K)\",\"max_salary(K)\",\"max_salary(K)\",\"max_salary(K)\",\"max_salary(K)\",\"max_salary(K)\",\"max_salary(K)\",\"max_salary(K)\",\"max_salary(K)\",\"max_salary(K)\",\"max_salary(K)\",\"max_salary(K)\",\"max_salary(K)\",\"max_salary(K)\",\"max_salary(K)\",\"max_salary(K)\",\"max_salary(K)\",\"max_salary(K)\",\"max_salary(K)\",\"max_salary(K)\",\"max_salary(K)\",\"max_salary(K)\",\"max_salary(K)\",\"max_salary(K)\",\"max_salary(K)\",\"max_salary(K)\",\"max_salary(K)\",\"max_salary(K)\",\"max_salary(K)\",\"max_salary(K)\",\"max_salary(K)\",\"max_salary(K)\",\"max_salary(K)\",\"max_salary(K)\",\"max_salary(K)\",\"max_salary(K)\",\"max_salary(K)\",\"max_salary(K)\",\"max_salary(K)\",\"max_salary(K)\",\"max_salary(K)\",\"max_salary(K)\",\"max_salary(K)\",\"max_salary(K)\",\"max_salary(K)\",\"max_salary(K)\",\"max_salary(K)\",\"max_salary(K)\",\"max_salary(K)\",\"max_salary(K)\",\"max_salary(K)\",\"max_salary(K)\",\"max_salary(K)\",\"max_salary(K)\",\"max_salary(K)\",\"max_salary(K)\",\"max_salary(K)\",\"max_salary(K)\",\"max_salary(K)\",\"max_salary(K)\",\"max_salary(K)\",\"max_salary(K)\",\"max_salary(K)\",\"max_salary(K)\",\"max_salary(K)\",\"max_salary(K)\",\"max_salary(K)\",\"max_salary(K)\",\"max_salary(K)\",\"max_salary(K)\",\"max_salary(K)\",\"max_salary(K)\",\"max_salary(K)\",\"max_salary(K)\",\"max_salary(K)\",\"max_salary(K)\",\"max_salary(K)\",\"max_salary(K)\",\"max_salary(K)\",\"max_salary(K)\",\"max_salary(K)\",\"max_salary(K)\",\"max_salary(K)\",\"max_salary(K)\",\"max_salary(K)\",\"max_salary(K)\",\"max_salary(K)\",\"max_salary(K)\",\"max_salary(K)\",\"max_salary(K)\",\"max_salary(K)\",\"max_salary(K)\",\"max_salary(K)\",\"max_salary(K)\",\"max_salary(K)\",\"max_salary(K)\",\"max_salary(K)\",\"max_salary(K)\",\"max_salary(K)\",\"max_salary(K)\",\"max_salary(K)\",\"max_salary(K)\",\"max_salary(K)\",\"max_salary(K)\",\"max_salary(K)\",\"max_salary(K)\",\"max_salary(K)\",\"max_salary(K)\",\"max_salary(K)\",\"max_salary(K)\",\"max_salary(K)\",\"max_salary(K)\",\"max_salary(K)\",\"max_salary(K)\",\"max_salary(K)\",\"max_salary(K)\",\"max_salary(K)\",\"max_salary(K)\",\"max_salary(K)\",\"max_salary(K)\",\"max_salary(K)\",\"max_salary(K)\",\"max_salary(K)\",\"max_salary(K)\",\"max_salary(K)\",\"max_salary(K)\",\"max_salary(K)\",\"max_salary(K)\",\"max_salary(K)\",\"max_salary(K)\",\"max_salary(K)\",\"max_salary(K)\",\"max_salary(K)\",\"max_salary(K)\",\"max_salary(K)\",\"max_salary(K)\",\"max_salary(K)\",\"max_salary(K)\",\"max_salary(K)\",\"max_salary(K)\",\"max_salary(K)\",\"max_salary(K)\",\"max_salary(K)\",\"max_salary(K)\",\"max_salary(K)\",\"max_salary(K)\",\"max_salary(K)\",\"max_salary(K)\",\"max_salary(K)\",\"max_salary(K)\",\"max_salary(K)\",\"max_salary(K)\",\"max_salary(K)\",\"max_salary(K)\",\"max_salary(K)\",\"max_salary(K)\",\"max_salary(K)\",\"max_salary(K)\",\"max_salary(K)\",\"max_salary(K)\",\"max_salary(K)\",\"max_salary(K)\",\"max_salary(K)\",\"max_salary(K)\",\"max_salary(K)\",\"max_salary(K)\",\"max_salary(K)\",\"max_salary(K)\",\"max_salary(K)\",\"max_salary(K)\",\"max_salary(K)\",\"max_salary(K)\",\"max_salary(K)\",\"max_salary(K)\",\"max_salary(K)\",\"max_salary(K)\",\"max_salary(K)\",\"max_salary(K)\",\"max_salary(K)\",\"max_salary(K)\",\"max_salary(K)\",\"max_salary(K)\",\"max_salary(K)\",\"max_salary(K)\",\"max_salary(K)\",\"max_salary(K)\",\"max_salary(K)\",\"max_salary(K)\",\"max_salary(K)\",\"max_salary(K)\",\"max_salary(K)\",\"max_salary(K)\",\"max_salary(K)\",\"max_salary(K)\",\"max_salary(K)\",\"max_salary(K)\",\"max_salary(K)\",\"max_salary(K)\",\"max_salary(K)\",\"max_salary(K)\",\"max_salary(K)\",\"max_salary(K)\",\"max_salary(K)\",\"max_salary(K)\",\"max_salary(K)\",\"max_salary(K)\",\"max_salary(K)\",\"max_salary(K)\",\"max_salary(K)\",\"max_salary(K)\",\"max_salary(K)\",\"max_salary(K)\",\"max_salary(K)\",\"max_salary(K)\",\"max_salary(K)\",\"max_salary(K)\",\"max_salary(K)\",\"max_salary(K)\",\"max_salary(K)\",\"max_salary(K)\",\"max_salary(K)\",\"max_salary(K)\",\"max_salary(K)\",\"max_salary(K)\",\"max_salary(K)\",\"max_salary(K)\",\"max_salary(K)\",\"max_salary(K)\",\"max_salary(K)\",\"max_salary(K)\",\"max_salary(K)\",\"max_salary(K)\",\"max_salary(K)\",\"max_salary(K)\",\"max_salary(K)\",\"max_salary(K)\",\"max_salary(K)\",\"max_salary(K)\",\"max_salary(K)\",\"max_salary(K)\",\"max_salary(K)\",\"max_salary(K)\",\"max_salary(K)\",\"max_salary(K)\",\"max_salary(K)\",\"max_salary(K)\",\"max_salary(K)\",\"max_salary(K)\",\"max_salary(K)\",\"max_salary(K)\",\"max_salary(K)\",\"max_salary(K)\",\"max_salary(K)\",\"max_salary(K)\",\"max_salary(K)\",\"max_salary(K)\",\"max_salary(K)\",\"max_salary(K)\",\"max_salary(K)\",\"max_salary(K)\",\"max_salary(K)\",\"max_salary(K)\",\"max_salary(K)\",\"max_salary(K)\",\"max_salary(K)\",\"max_salary(K)\",\"max_salary(K)\",\"max_salary(K)\",\"max_salary(K)\",\"max_salary(K)\",\"max_salary(K)\",\"max_salary(K)\",\"max_salary(K)\",\"max_salary(K)\",\"max_salary(K)\",\"max_salary(K)\",\"max_salary(K)\",\"max_salary(K)\",\"max_salary(K)\",\"max_salary(K)\",\"max_salary(K)\",\"max_salary(K)\",\"max_salary(K)\",\"max_salary(K)\",\"max_salary(K)\",\"max_salary(K)\",\"max_salary(K)\",\"max_salary(K)\",\"max_salary(K)\",\"max_salary(K)\",\"max_salary(K)\",\"max_salary(K)\",\"max_salary(K)\",\"max_salary(K)\",\"max_salary(K)\",\"max_salary(K)\",\"max_salary(K)\",\"max_salary(K)\",\"max_salary(K)\",\"max_salary(K)\",\"max_salary(K)\",\"max_salary(K)\",\"max_salary(K)\",\"max_salary(K)\",\"max_salary(K)\",\"max_salary(K)\",\"max_salary(K)\",\"max_salary(K)\",\"max_salary(K)\",\"max_salary(K)\",\"max_salary(K)\",\"max_salary(K)\",\"max_salary(K)\",\"max_salary(K)\",\"max_salary(K)\",\"max_salary(K)\",\"max_salary(K)\",\"max_salary(K)\",\"max_salary(K)\",\"max_salary(K)\",\"max_salary(K)\",\"max_salary(K)\",\"max_salary(K)\",\"max_salary(K)\",\"max_salary(K)\",\"max_salary(K)\",\"max_salary(K)\",\"max_salary(K)\",\"max_salary(K)\",\"max_salary(K)\",\"max_salary(K)\",\"max_salary(K)\",\"max_salary(K)\",\"max_salary(K)\",\"max_salary(K)\",\"max_salary(K)\",\"max_salary(K)\",\"max_salary(K)\",\"max_salary(K)\",\"max_salary(K)\",\"max_salary(K)\",\"max_salary(K)\",\"max_salary(K)\",\"max_salary(K)\",\"max_salary(K)\",\"max_salary(K)\",\"max_salary(K)\",\"max_salary(K)\",\"max_salary(K)\",\"max_salary(K)\",\"max_salary(K)\",\"max_salary(K)\",\"max_salary(K)\",\"max_salary(K)\",\"max_salary(K)\",\"max_salary(K)\",\"max_salary(K)\",\"max_salary(K)\",\"max_salary(K)\",\"max_salary(K)\",\"max_salary(K)\",\"max_salary(K)\",\"max_salary(K)\",\"max_salary(K)\",\"max_salary(K)\",\"max_salary(K)\",\"max_salary(K)\",\"max_salary(K)\",\"max_salary(K)\",\"max_salary(K)\",\"max_salary(K)\",\"max_salary(K)\",\"max_salary(K)\",\"max_salary(K)\",\"max_salary(K)\",\"max_salary(K)\",\"max_salary(K)\",\"max_salary(K)\",\"max_salary(K)\",\"max_salary(K)\",\"max_salary(K)\",\"max_salary(K)\",\"max_salary(K)\",\"max_salary(K)\",\"max_salary(K)\",\"max_salary(K)\",\"max_salary(K)\",\"max_salary(K)\",\"max_salary(K)\",\"max_salary(K)\",\"max_salary(K)\",\"max_salary(K)\",\"max_salary(K)\",\"max_salary(K)\",\"max_salary(K)\",\"max_salary(K)\",\"max_salary(K)\",\"max_salary(K)\",\"max_salary(K)\",\"max_salary(K)\",\"max_salary(K)\",\"max_salary(K)\",\"max_salary(K)\",\"max_salary(K)\",\"max_salary(K)\",\"max_salary(K)\",\"max_salary(K)\",\"max_salary(K)\",\"max_salary(K)\",\"max_salary(K)\",\"max_salary(K)\",\"max_salary(K)\",\"max_salary(K)\",\"max_salary(K)\",\"max_salary(K)\",\"max_salary(K)\",\"max_salary(K)\",\"max_salary(K)\",\"max_salary(K)\",\"max_salary(K)\",\"max_salary(K)\",\"max_salary(K)\",\"max_salary(K)\",\"max_salary(K)\",\"max_salary(K)\",\"max_salary(K)\",\"max_salary(K)\",\"max_salary(K)\",\"max_salary(K)\",\"max_salary(K)\",\"max_salary(K)\",\"max_salary(K)\",\"max_salary(K)\",\"max_salary(K)\",\"max_salary(K)\",\"max_salary(K)\",\"max_salary(K)\",\"max_salary(K)\",\"max_salary(K)\",\"max_salary(K)\",\"max_salary(K)\",\"max_salary(K)\",\"max_salary(K)\",\"max_salary(K)\",\"max_salary(K)\",\"max_salary(K)\",\"max_salary(K)\",\"max_salary(K)\",\"max_salary(K)\",\"max_salary(K)\",\"max_salary(K)\",\"max_salary(K)\",\"max_salary(K)\",\"max_salary(K)\",\"max_salary(K)\",\"max_salary(K)\",\"max_salary(K)\",\"max_salary(K)\",\"max_salary(K)\",\"max_salary(K)\",\"max_salary(K)\",\"max_salary(K)\",\"max_salary(K)\",\"max_salary(K)\",\"max_salary(K)\",\"max_salary(K)\",\"max_salary(K)\",\"max_salary(K)\",\"max_salary(K)\",\"max_salary(K)\",\"max_salary(K)\",\"max_salary(K)\",\"max_salary(K)\",\"max_salary(K)\",\"max_salary(K)\",\"max_salary(K)\",\"max_salary(K)\",\"max_salary(K)\",\"max_salary(K)\",\"max_salary(K)\",\"max_salary(K)\",\"max_salary(K)\",\"max_salary(K)\",\"max_salary(K)\",\"max_salary(K)\",\"max_salary(K)\",\"max_salary(K)\",\"max_salary(K)\",\"max_salary(K)\",\"max_salary(K)\",\"max_salary(K)\",\"max_salary(K)\",\"max_salary(K)\",\"max_salary(K)\",\"max_salary(K)\",\"max_salary(K)\",\"max_salary(K)\",\"max_salary(K)\",\"max_salary(K)\",\"max_salary(K)\",\"max_salary(K)\",\"max_salary(K)\",\"max_salary(K)\",\"max_salary(K)\",\"max_salary(K)\",\"max_salary(K)\",\"max_salary(K)\",\"max_salary(K)\",\"max_salary(K)\",\"max_salary(K)\",\"max_salary(K)\",\"max_salary(K)\",\"max_salary(K)\",\"max_salary(K)\",\"max_salary(K)\",\"max_salary(K)\",\"max_salary(K)\",\"max_salary(K)\",\"max_salary(K)\",\"max_salary(K)\",\"max_salary(K)\",\"max_salary(K)\",\"max_salary(K)\",\"max_salary(K)\",\"max_salary(K)\",\"max_salary(K)\",\"max_salary(K)\",\"max_salary(K)\",\"max_salary(K)\",\"max_salary(K)\",\"max_salary(K)\",\"max_salary(K)\",\"max_salary(K)\",\"max_salary(K)\",\"max_salary(K)\",\"max_salary(K)\",\"max_salary(K)\",\"max_salary(K)\",\"max_salary(K)\",\"max_salary(K)\",\"max_salary(K)\",\"max_salary(K)\",\"max_salary(K)\",\"max_salary(K)\",\"max_salary(K)\",\"max_salary(K)\",\"max_salary(K)\",\"max_salary(K)\",\"max_salary(K)\",\"max_salary(K)\",\"max_salary(K)\",\"max_salary(K)\",\"max_salary(K)\",\"max_salary(K)\",\"max_salary(K)\",\"max_salary(K)\",\"max_salary(K)\",\"max_salary(K)\",\"max_salary(K)\",\"max_salary(K)\",\"max_salary(K)\",\"max_salary(K)\",\"max_salary(K)\",\"max_salary(K)\",\"max_salary(K)\",\"max_salary(K)\",\"max_salary(K)\",\"max_salary(K)\",\"max_salary(K)\",\"max_salary(K)\",\"max_salary(K)\",\"max_salary(K)\",\"max_salary(K)\",\"max_salary(K)\",\"max_salary(K)\",\"max_salary(K)\",\"max_salary(K)\",\"max_salary(K)\",\"max_salary(K)\",\"max_salary(K)\",\"max_salary(K)\",\"max_salary(K)\",\"max_salary(K)\",\"max_salary(K)\",\"max_salary(K)\",\"max_salary(K)\",\"max_salary(K)\",\"max_salary(K)\",\"max_salary(K)\",\"max_salary(K)\",\"max_salary(K)\",\"max_salary(K)\",\"max_salary(K)\",\"max_salary(K)\",\"max_salary(K)\",\"max_salary(K)\",\"max_salary(K)\",\"max_salary(K)\",\"max_salary(K)\",\"max_salary(K)\",\"max_salary(K)\",\"max_salary(K)\",\"max_salary(K)\",\"max_salary(K)\",\"max_salary(K)\",\"max_salary(K)\",\"max_salary(K)\",\"max_salary(K)\",\"max_salary(K)\",\"max_salary(K)\",\"max_salary(K)\",\"max_salary(K)\",\"max_salary(K)\",\"max_salary(K)\",\"max_salary(K)\",\"max_salary(K)\",\"max_salary(K)\",\"max_salary(K)\",\"max_salary(K)\",\"max_salary(K)\",\"max_salary(K)\",\"max_salary(K)\",\"max_salary(K)\",\"max_salary(K)\",\"max_salary(K)\",\"max_salary(K)\",\"max_salary(K)\",\"max_salary(K)\",\"max_salary(K)\",\"max_salary(K)\",\"max_salary(K)\",\"max_salary(K)\",\"max_salary(K)\",\"max_salary(K)\",\"max_salary(K)\",\"max_salary(K)\",\"max_salary(K)\",\"max_salary(K)\",\"max_salary(K)\",\"max_salary(K)\",\"max_salary(K)\",\"max_salary(K)\",\"max_salary(K)\",\"max_salary(K)\",\"max_salary(K)\",\"max_salary(K)\",\"max_salary(K)\",\"max_salary(K)\",\"max_salary(K)\",\"max_salary(K)\",\"max_salary(K)\",\"max_salary(K)\",\"max_salary(K)\",\"max_salary(K)\",\"max_salary(K)\",\"max_salary(K)\",\"max_salary(K)\",\"max_salary(K)\",\"max_salary(K)\",\"max_salary(K)\",\"max_salary(K)\",\"max_salary(K)\",\"max_salary(K)\",\"max_salary(K)\",\"max_salary(K)\",\"max_salary(K)\",\"max_salary(K)\",\"max_salary(K)\",\"max_salary(K)\",\"max_salary(K)\",\"max_salary(K)\",\"max_salary(K)\",\"max_salary(K)\",\"max_salary(K)\",\"max_salary(K)\",\"max_salary(K)\",\"max_salary(K)\",\"max_salary(K)\",\"max_salary(K)\",\"max_salary(K)\",\"max_salary(K)\",\"max_salary(K)\",\"max_salary(K)\",\"max_salary(K)\",\"max_salary(K)\",\"max_salary(K)\",\"max_salary(K)\",\"max_salary(K)\",\"max_salary(K)\",\"max_salary(K)\",\"max_salary(K)\",\"max_salary(K)\",\"max_salary(K)\",\"max_salary(K)\",\"max_salary(K)\",\"max_salary(K)\",\"max_salary(K)\",\"max_salary(K)\",\"max_salary(K)\",\"max_salary(K)\",\"max_salary(K)\",\"max_salary(K)\",\"max_salary(K)\",\"max_salary(K)\",\"max_salary(K)\",\"max_salary(K)\",\"max_salary(K)\",\"max_salary(K)\",\"max_salary(K)\",\"max_salary(K)\",\"max_salary(K)\",\"max_salary(K)\",\"max_salary(K)\",\"max_salary(K)\",\"max_salary(K)\",\"max_salary(K)\",\"max_salary(K)\",\"max_salary(K)\",\"max_salary(K)\",\"max_salary(K)\",\"max_salary(K)\",\"max_salary(K)\",\"max_salary(K)\",\"max_salary(K)\",\"max_salary(K)\",\"max_salary(K)\",\"max_salary(K)\",\"max_salary(K)\",\"max_salary(K)\",\"max_salary(K)\",\"max_salary(K)\",\"max_salary(K)\",\"max_salary(K)\",\"max_salary(K)\",\"max_salary(K)\",\"max_salary(K)\",\"max_salary(K)\",\"max_salary(K)\",\"max_salary(K)\",\"max_salary(K)\",\"max_salary(K)\",\"max_salary(K)\",\"max_salary(K)\",\"max_salary(K)\",\"max_salary(K)\",\"max_salary(K)\",\"max_salary(K)\",\"max_salary(K)\",\"max_salary(K)\",\"max_salary(K)\",\"max_salary(K)\",\"max_salary(K)\",\"max_salary(K)\",\"max_salary(K)\",\"max_salary(K)\",\"max_salary(K)\",\"max_salary(K)\",\"max_salary(K)\",\"max_salary(K)\",\"max_salary(K)\",\"max_salary(K)\",\"max_salary(K)\",\"max_salary(K)\",\"max_salary(K)\",\"max_salary(K)\",\"max_salary(K)\",\"max_salary(K)\",\"max_salary(K)\",\"max_salary(K)\",\"max_salary(K)\",\"max_salary(K)\",\"max_salary(K)\",\"max_salary(K)\",\"max_salary(K)\",\"max_salary(K)\",\"max_salary(K)\",\"max_salary(K)\",\"max_salary(K)\",\"max_salary(K)\",\"max_salary(K)\",\"max_salary(K)\",\"max_salary(K)\",\"max_salary(K)\",\"max_salary(K)\",\"max_salary(K)\",\"max_salary(K)\",\"max_salary(K)\",\"max_salary(K)\",\"max_salary(K)\",\"max_salary(K)\",\"max_salary(K)\",\"max_salary(K)\",\"max_salary(K)\",\"max_salary(K)\",\"max_salary(K)\",\"max_salary(K)\",\"max_salary(K)\",\"max_salary(K)\",\"max_salary(K)\",\"max_salary(K)\",\"max_salary(K)\",\"max_salary(K)\",\"max_salary(K)\",\"max_salary(K)\",\"max_salary(K)\",\"max_salary(K)\",\"max_salary(K)\",\"max_salary(K)\",\"max_salary(K)\",\"max_salary(K)\",\"max_salary(K)\",\"max_salary(K)\",\"max_salary(K)\",\"max_salary(K)\",\"max_salary(K)\",\"max_salary(K)\",\"max_salary(K)\",\"max_salary(K)\",\"max_salary(K)\",\"max_salary(K)\",\"max_salary(K)\",\"max_salary(K)\",\"max_salary(K)\",\"max_salary(K)\",\"max_salary(K)\",\"max_salary(K)\",\"max_salary(K)\",\"max_salary(K)\",\"max_salary(K)\",\"max_salary(K)\",\"max_salary(K)\",\"max_salary(K)\",\"max_salary(K)\",\"max_salary(K)\",\"max_salary(K)\",\"max_salary(K)\",\"max_salary(K)\",\"max_salary(K)\",\"max_salary(K)\",\"max_salary(K)\",\"max_salary(K)\",\"max_salary(K)\",\"max_salary(K)\",\"max_salary(K)\",\"max_salary(K)\",\"max_salary(K)\",\"max_salary(K)\",\"max_salary(K)\",\"max_salary(K)\",\"max_salary(K)\",\"max_salary(K)\",\"max_salary(K)\",\"max_salary(K)\",\"max_salary(K)\",\"max_salary(K)\",\"max_salary(K)\",\"max_salary(K)\",\"max_salary(K)\",\"max_salary(K)\",\"max_salary(K)\",\"max_salary(K)\",\"max_salary(K)\",\"max_salary(K)\",\"max_salary(K)\",\"max_salary(K)\",\"max_salary(K)\",\"max_salary(K)\",\"max_salary(K)\",\"max_salary(K)\",\"max_salary(K)\",\"max_salary(K)\",\"max_salary(K)\",\"max_salary(K)\",\"max_salary(K)\",\"max_salary(K)\",\"max_salary(K)\",\"max_salary(K)\",\"max_salary(K)\",\"max_salary(K)\",\"max_salary(K)\",\"max_salary(K)\",\"max_salary(K)\",\"max_salary(K)\",\"max_salary(K)\",\"max_salary(K)\",\"max_salary(K)\",\"max_salary(K)\",\"max_salary(K)\",\"max_salary(K)\",\"max_salary(K)\",\"max_salary(K)\",\"max_salary(K)\",\"max_salary(K)\",\"max_salary(K)\",\"max_salary(K)\",\"max_salary(K)\",\"max_salary(K)\",\"max_salary(K)\",\"max_salary(K)\",\"max_salary(K)\",\"max_salary(K)\",\"max_salary(K)\",\"max_salary(K)\",\"max_salary(K)\",\"max_salary(K)\",\"max_salary(K)\",\"max_salary(K)\",\"max_salary(K)\",\"max_salary(K)\",\"max_salary(K)\",\"max_salary(K)\",\"max_salary(K)\",\"max_salary(K)\",\"max_salary(K)\",\"max_salary(K)\",\"max_salary(K)\",\"max_salary(K)\",\"max_salary(K)\",\"max_salary(K)\",\"max_salary(K)\",\"max_salary(K)\",\"max_salary(K)\",\"max_salary(K)\",\"max_salary(K)\",\"max_salary(K)\",\"max_salary(K)\",\"max_salary(K)\",\"max_salary(K)\",\"max_salary(K)\",\"max_salary(K)\",\"max_salary(K)\",\"max_salary(K)\",\"max_salary(K)\",\"max_salary(K)\",\"max_salary(K)\",\"max_salary(K)\",\"max_salary(K)\",\"max_salary(K)\",\"max_salary(K)\",\"max_salary(K)\",\"max_salary(K)\",\"max_salary(K)\",\"max_salary(K)\",\"max_salary(K)\",\"max_salary(K)\",\"max_salary(K)\",\"max_salary(K)\",\"max_salary(K)\",\"max_salary(K)\",\"max_salary(K)\",\"max_salary(K)\",\"max_salary(K)\",\"max_salary(K)\",\"max_salary(K)\",\"max_salary(K)\",\"max_salary(K)\",\"max_salary(K)\",\"max_salary(K)\",\"max_salary(K)\",\"max_salary(K)\",\"max_salary(K)\",\"max_salary(K)\",\"max_salary(K)\",\"max_salary(K)\",\"max_salary(K)\",\"max_salary(K)\",\"max_salary(K)\",\"max_salary(K)\",\"max_salary(K)\",\"max_salary(K)\",\"max_salary(K)\",\"max_salary(K)\",\"max_salary(K)\",\"max_salary(K)\",\"max_salary(K)\",\"max_salary(K)\",\"max_salary(K)\",\"max_salary(K)\",\"max_salary(K)\",\"max_salary(K)\",\"max_salary(K)\",\"max_salary(K)\",\"max_salary(K)\",\"max_salary(K)\",\"max_salary(K)\",\"max_salary(K)\",\"max_salary(K)\",\"max_salary(K)\",\"max_salary(K)\",\"max_salary(K)\",\"max_salary(K)\",\"max_salary(K)\",\"max_salary(K)\",\"max_salary(K)\",\"max_salary(K)\",\"max_salary(K)\",\"max_salary(K)\",\"max_salary(K)\",\"max_salary(K)\",\"max_salary(K)\",\"max_salary(K)\",\"max_salary(K)\",\"max_salary(K)\",\"max_salary(K)\",\"max_salary(K)\",\"max_salary(K)\",\"max_salary(K)\",\"max_salary(K)\",\"max_salary(K)\",\"max_salary(K)\",\"max_salary(K)\",\"max_salary(K)\",\"max_salary(K)\",\"max_salary(K)\",\"max_salary(K)\",\"max_salary(K)\",\"max_salary(K)\",\"max_salary(K)\",\"max_salary(K)\",\"max_salary(K)\",\"max_salary(K)\",\"max_salary(K)\",\"max_salary(K)\",\"max_salary(K)\",\"max_salary(K)\",\"max_salary(K)\",\"max_salary(K)\",\"max_salary(K)\",\"max_salary(K)\",\"max_salary(K)\",\"max_salary(K)\",\"max_salary(K)\",\"max_salary(K)\",\"max_salary(K)\",\"max_salary(K)\",\"max_salary(K)\",\"max_salary(K)\",\"max_salary(K)\",\"max_salary(K)\",\"max_salary(K)\",\"max_salary(K)\",\"max_salary(K)\",\"max_salary(K)\",\"max_salary(K)\",\"max_salary(K)\",\"max_salary(K)\",\"max_salary(K)\",\"max_salary(K)\",\"max_salary(K)\",\"max_salary(K)\",\"max_salary(K)\",\"max_salary(K)\",\"max_salary(K)\",\"max_salary(K)\",\"max_salary(K)\",\"max_salary(K)\",\"max_salary(K)\",\"max_salary(K)\",\"max_salary(K)\",\"max_salary(K)\",\"max_salary(K)\",\"max_salary(K)\",\"max_salary(K)\",\"max_salary(K)\",\"max_salary(K)\",\"max_salary(K)\",\"max_salary(K)\",\"max_salary(K)\",\"max_salary(K)\",\"max_salary(K)\",\"max_salary(K)\",\"max_salary(K)\",\"max_salary(K)\",\"max_salary(K)\",\"max_salary(K)\",\"max_salary(K)\",\"max_salary(K)\",\"max_salary(K)\",\"max_salary(K)\",\"max_salary(K)\",\"max_salary(K)\",\"max_salary(K)\",\"avr_salary\",\"avr_salary\",\"avr_salary\",\"avr_salary\",\"avr_salary\",\"avr_salary\",\"avr_salary\",\"avr_salary\",\"avr_salary\",\"avr_salary\",\"avr_salary\",\"avr_salary\",\"avr_salary\",\"avr_salary\",\"avr_salary\",\"avr_salary\",\"avr_salary\",\"avr_salary\",\"avr_salary\",\"avr_salary\",\"avr_salary\",\"avr_salary\",\"avr_salary\",\"avr_salary\",\"avr_salary\",\"avr_salary\",\"avr_salary\",\"avr_salary\",\"avr_salary\",\"avr_salary\",\"avr_salary\",\"avr_salary\",\"avr_salary\",\"avr_salary\",\"avr_salary\",\"avr_salary\",\"avr_salary\",\"avr_salary\",\"avr_salary\",\"avr_salary\",\"avr_salary\",\"avr_salary\",\"avr_salary\",\"avr_salary\",\"avr_salary\",\"avr_salary\",\"avr_salary\",\"avr_salary\",\"avr_salary\",\"avr_salary\",\"avr_salary\",\"avr_salary\",\"avr_salary\",\"avr_salary\",\"avr_salary\",\"avr_salary\",\"avr_salary\",\"avr_salary\",\"avr_salary\",\"avr_salary\",\"avr_salary\",\"avr_salary\",\"avr_salary\",\"avr_salary\",\"avr_salary\",\"avr_salary\",\"avr_salary\",\"avr_salary\",\"avr_salary\",\"avr_salary\",\"avr_salary\",\"avr_salary\",\"avr_salary\",\"avr_salary\",\"avr_salary\",\"avr_salary\",\"avr_salary\",\"avr_salary\",\"avr_salary\",\"avr_salary\",\"avr_salary\",\"avr_salary\",\"avr_salary\",\"avr_salary\",\"avr_salary\",\"avr_salary\",\"avr_salary\",\"avr_salary\",\"avr_salary\",\"avr_salary\",\"avr_salary\",\"avr_salary\",\"avr_salary\",\"avr_salary\",\"avr_salary\",\"avr_salary\",\"avr_salary\",\"avr_salary\",\"avr_salary\",\"avr_salary\",\"avr_salary\",\"avr_salary\",\"avr_salary\",\"avr_salary\",\"avr_salary\",\"avr_salary\",\"avr_salary\",\"avr_salary\",\"avr_salary\",\"avr_salary\",\"avr_salary\",\"avr_salary\",\"avr_salary\",\"avr_salary\",\"avr_salary\",\"avr_salary\",\"avr_salary\",\"avr_salary\",\"avr_salary\",\"avr_salary\",\"avr_salary\",\"avr_salary\",\"avr_salary\",\"avr_salary\",\"avr_salary\",\"avr_salary\",\"avr_salary\",\"avr_salary\",\"avr_salary\",\"avr_salary\",\"avr_salary\",\"avr_salary\",\"avr_salary\",\"avr_salary\",\"avr_salary\",\"avr_salary\",\"avr_salary\",\"avr_salary\",\"avr_salary\",\"avr_salary\",\"avr_salary\",\"avr_salary\",\"avr_salary\",\"avr_salary\",\"avr_salary\",\"avr_salary\",\"avr_salary\",\"avr_salary\",\"avr_salary\",\"avr_salary\",\"avr_salary\",\"avr_salary\",\"avr_salary\",\"avr_salary\",\"avr_salary\",\"avr_salary\",\"avr_salary\",\"avr_salary\",\"avr_salary\",\"avr_salary\",\"avr_salary\",\"avr_salary\",\"avr_salary\",\"avr_salary\",\"avr_salary\",\"avr_salary\",\"avr_salary\",\"avr_salary\",\"avr_salary\",\"avr_salary\",\"avr_salary\",\"avr_salary\",\"avr_salary\",\"avr_salary\",\"avr_salary\",\"avr_salary\",\"avr_salary\",\"avr_salary\",\"avr_salary\",\"avr_salary\",\"avr_salary\",\"avr_salary\",\"avr_salary\",\"avr_salary\",\"avr_salary\",\"avr_salary\",\"avr_salary\",\"avr_salary\",\"avr_salary\",\"avr_salary\",\"avr_salary\",\"avr_salary\",\"avr_salary\",\"avr_salary\",\"avr_salary\",\"avr_salary\",\"avr_salary\",\"avr_salary\",\"avr_salary\",\"avr_salary\",\"avr_salary\",\"avr_salary\",\"avr_salary\",\"avr_salary\",\"avr_salary\",\"avr_salary\",\"avr_salary\",\"avr_salary\",\"avr_salary\",\"avr_salary\",\"avr_salary\",\"avr_salary\",\"avr_salary\",\"avr_salary\",\"avr_salary\",\"avr_salary\",\"avr_salary\",\"avr_salary\",\"avr_salary\",\"avr_salary\",\"avr_salary\",\"avr_salary\",\"avr_salary\",\"avr_salary\",\"avr_salary\",\"avr_salary\",\"avr_salary\",\"avr_salary\",\"avr_salary\",\"avr_salary\",\"avr_salary\",\"avr_salary\",\"avr_salary\",\"avr_salary\",\"avr_salary\",\"avr_salary\",\"avr_salary\",\"avr_salary\",\"avr_salary\",\"avr_salary\",\"avr_salary\",\"avr_salary\",\"avr_salary\",\"avr_salary\",\"avr_salary\",\"avr_salary\",\"avr_salary\",\"avr_salary\",\"avr_salary\",\"avr_salary\",\"avr_salary\",\"avr_salary\",\"avr_salary\",\"avr_salary\",\"avr_salary\",\"avr_salary\",\"avr_salary\",\"avr_salary\",\"avr_salary\",\"avr_salary\",\"avr_salary\",\"avr_salary\",\"avr_salary\",\"avr_salary\",\"avr_salary\",\"avr_salary\",\"avr_salary\",\"avr_salary\",\"avr_salary\",\"avr_salary\",\"avr_salary\",\"avr_salary\",\"avr_salary\",\"avr_salary\",\"avr_salary\",\"avr_salary\",\"avr_salary\",\"avr_salary\",\"avr_salary\",\"avr_salary\",\"avr_salary\",\"avr_salary\",\"avr_salary\",\"avr_salary\",\"avr_salary\",\"avr_salary\",\"avr_salary\",\"avr_salary\",\"avr_salary\",\"avr_salary\",\"avr_salary\",\"avr_salary\",\"avr_salary\",\"avr_salary\",\"avr_salary\",\"avr_salary\",\"avr_salary\",\"avr_salary\",\"avr_salary\",\"avr_salary\",\"avr_salary\",\"avr_salary\",\"avr_salary\",\"avr_salary\",\"avr_salary\",\"avr_salary\",\"avr_salary\",\"avr_salary\",\"avr_salary\",\"avr_salary\",\"avr_salary\",\"avr_salary\",\"avr_salary\",\"avr_salary\",\"avr_salary\",\"avr_salary\",\"avr_salary\",\"avr_salary\",\"avr_salary\",\"avr_salary\",\"avr_salary\",\"avr_salary\",\"avr_salary\",\"avr_salary\",\"avr_salary\",\"avr_salary\",\"avr_salary\",\"avr_salary\",\"avr_salary\",\"avr_salary\",\"avr_salary\",\"avr_salary\",\"avr_salary\",\"avr_salary\",\"avr_salary\",\"avr_salary\",\"avr_salary\",\"avr_salary\",\"avr_salary\",\"avr_salary\",\"avr_salary\",\"avr_salary\",\"avr_salary\",\"avr_salary\",\"avr_salary\",\"avr_salary\",\"avr_salary\",\"avr_salary\",\"avr_salary\",\"avr_salary\",\"avr_salary\",\"avr_salary\",\"avr_salary\",\"avr_salary\",\"avr_salary\",\"avr_salary\",\"avr_salary\",\"avr_salary\",\"avr_salary\",\"avr_salary\",\"avr_salary\",\"avr_salary\",\"avr_salary\",\"avr_salary\",\"avr_salary\",\"avr_salary\",\"avr_salary\",\"avr_salary\",\"avr_salary\",\"avr_salary\",\"avr_salary\",\"avr_salary\",\"avr_salary\",\"avr_salary\",\"avr_salary\",\"avr_salary\",\"avr_salary\",\"avr_salary\",\"avr_salary\",\"avr_salary\",\"avr_salary\",\"avr_salary\",\"avr_salary\",\"avr_salary\",\"avr_salary\",\"avr_salary\",\"avr_salary\",\"avr_salary\",\"avr_salary\",\"avr_salary\",\"avr_salary\",\"avr_salary\",\"avr_salary\",\"avr_salary\",\"avr_salary\",\"avr_salary\",\"avr_salary\",\"avr_salary\",\"avr_salary\",\"avr_salary\",\"avr_salary\",\"avr_salary\",\"avr_salary\",\"avr_salary\",\"avr_salary\",\"avr_salary\",\"avr_salary\",\"avr_salary\",\"avr_salary\",\"avr_salary\",\"avr_salary\",\"avr_salary\",\"avr_salary\",\"avr_salary\",\"avr_salary\",\"avr_salary\",\"avr_salary\",\"avr_salary\",\"avr_salary\",\"avr_salary\",\"avr_salary\",\"avr_salary\",\"avr_salary\",\"avr_salary\",\"avr_salary\",\"avr_salary\",\"avr_salary\",\"avr_salary\",\"avr_salary\",\"avr_salary\",\"avr_salary\",\"avr_salary\",\"avr_salary\",\"avr_salary\",\"avr_salary\",\"avr_salary\",\"avr_salary\",\"avr_salary\",\"avr_salary\",\"avr_salary\",\"avr_salary\",\"avr_salary\",\"avr_salary\",\"avr_salary\",\"avr_salary\",\"avr_salary\",\"avr_salary\",\"avr_salary\",\"avr_salary\",\"avr_salary\",\"avr_salary\",\"avr_salary\",\"avr_salary\",\"avr_salary\",\"avr_salary\",\"avr_salary\",\"avr_salary\",\"avr_salary\",\"avr_salary\",\"avr_salary\",\"avr_salary\",\"avr_salary\",\"avr_salary\",\"avr_salary\",\"avr_salary\",\"avr_salary\",\"avr_salary\",\"avr_salary\",\"avr_salary\",\"avr_salary\",\"avr_salary\",\"avr_salary\",\"avr_salary\",\"avr_salary\",\"avr_salary\",\"avr_salary\",\"avr_salary\",\"avr_salary\",\"avr_salary\",\"avr_salary\",\"avr_salary\",\"avr_salary\",\"avr_salary\",\"avr_salary\",\"avr_salary\",\"avr_salary\",\"avr_salary\",\"avr_salary\",\"avr_salary\",\"avr_salary\",\"avr_salary\",\"avr_salary\",\"avr_salary\",\"avr_salary\",\"avr_salary\",\"avr_salary\",\"avr_salary\",\"avr_salary\",\"avr_salary\",\"avr_salary\",\"avr_salary\",\"avr_salary\",\"avr_salary\",\"avr_salary\",\"avr_salary\",\"avr_salary\",\"avr_salary\",\"avr_salary\",\"avr_salary\",\"avr_salary\",\"avr_salary\",\"avr_salary\",\"avr_salary\",\"avr_salary\",\"avr_salary\",\"avr_salary\",\"avr_salary\",\"avr_salary\",\"avr_salary\",\"avr_salary\",\"avr_salary\",\"avr_salary\",\"avr_salary\",\"avr_salary\",\"avr_salary\",\"avr_salary\",\"avr_salary\",\"avr_salary\",\"avr_salary\",\"avr_salary\",\"avr_salary\",\"avr_salary\",\"avr_salary\",\"avr_salary\",\"avr_salary\",\"avr_salary\",\"avr_salary\",\"avr_salary\",\"avr_salary\",\"avr_salary\",\"avr_salary\",\"avr_salary\",\"avr_salary\",\"avr_salary\",\"avr_salary\",\"avr_salary\",\"avr_salary\",\"avr_salary\",\"avr_salary\",\"avr_salary\",\"avr_salary\",\"avr_salary\",\"avr_salary\",\"avr_salary\",\"avr_salary\",\"avr_salary\",\"avr_salary\",\"avr_salary\",\"avr_salary\",\"avr_salary\",\"avr_salary\",\"avr_salary\",\"avr_salary\",\"avr_salary\",\"avr_salary\",\"avr_salary\",\"avr_salary\",\"avr_salary\",\"avr_salary\",\"avr_salary\",\"avr_salary\",\"avr_salary\",\"avr_salary\",\"avr_salary\",\"avr_salary\",\"avr_salary\",\"avr_salary\",\"avr_salary\",\"avr_salary\",\"avr_salary\",\"avr_salary\",\"avr_salary\",\"avr_salary\",\"avr_salary\",\"avr_salary\",\"avr_salary\",\"avr_salary\",\"avr_salary\",\"avr_salary\",\"avr_salary\",\"avr_salary\",\"avr_salary\",\"avr_salary\",\"avr_salary\",\"avr_salary\",\"avr_salary\",\"avr_salary\",\"avr_salary\",\"avr_salary\",\"avr_salary\",\"avr_salary\",\"avr_salary\",\"avr_salary\",\"avr_salary\",\"avr_salary\",\"avr_salary\",\"avr_salary\",\"avr_salary\",\"avr_salary\",\"avr_salary\",\"avr_salary\",\"avr_salary\",\"avr_salary\",\"avr_salary\",\"avr_salary\",\"avr_salary\",\"avr_salary\",\"avr_salary\",\"avr_salary\",\"avr_salary\",\"avr_salary\",\"avr_salary\",\"avr_salary\",\"avr_salary\",\"avr_salary\",\"avr_salary\",\"avr_salary\",\"avr_salary\",\"avr_salary\",\"avr_salary\",\"avr_salary\",\"avr_salary\",\"avr_salary\",\"avr_salary\",\"avr_salary\",\"avr_salary\",\"avr_salary\",\"avr_salary\",\"avr_salary\",\"avr_salary\",\"avr_salary\",\"avr_salary\",\"avr_salary\",\"avr_salary\",\"avr_salary\",\"avr_salary\",\"avr_salary\",\"avr_salary\",\"avr_salary\",\"avr_salary\",\"avr_salary\",\"avr_salary\",\"avr_salary\",\"avr_salary\",\"avr_salary\",\"avr_salary\",\"avr_salary\",\"avr_salary\",\"avr_salary\",\"avr_salary\",\"avr_salary\",\"avr_salary\",\"avr_salary\",\"avr_salary\",\"avr_salary\",\"avr_salary\",\"avr_salary\",\"avr_salary\",\"avr_salary\",\"avr_salary\",\"avr_salary\",\"avr_salary\",\"avr_salary\",\"avr_salary\",\"avr_salary\",\"avr_salary\",\"avr_salary\",\"avr_salary\",\"avr_salary\",\"avr_salary\",\"avr_salary\",\"avr_salary\",\"avr_salary\",\"avr_salary\",\"avr_salary\",\"avr_salary\",\"avr_salary\",\"avr_salary\",\"avr_salary\",\"avr_salary\",\"avr_salary\",\"avr_salary\",\"avr_salary\",\"avr_salary\",\"avr_salary\",\"avr_salary\",\"avr_salary\",\"avr_salary\",\"avr_salary\",\"avr_salary\",\"avr_salary\",\"avr_salary\",\"avr_salary\",\"avr_salary\",\"avr_salary\",\"avr_salary\",\"avr_salary\",\"avr_salary\",\"avr_salary\",\"avr_salary\",\"avr_salary\",\"avr_salary\",\"avr_salary\",\"avr_salary\",\"avr_salary\",\"avr_salary\",\"avr_salary\",\"avr_salary\",\"avr_salary\",\"avr_salary\",\"avr_salary\",\"avr_salary\",\"avr_salary\",\"avr_salary\",\"avr_salary\",\"avr_salary\",\"avr_salary\",\"avr_salary\",\"avr_salary\",\"avr_salary\",\"avr_salary\",\"avr_salary\",\"avr_salary\",\"avr_salary\",\"avr_salary\",\"avr_salary\",\"avr_salary\",\"avr_salary\",\"avr_salary\",\"avr_salary\",\"avr_salary\",\"avr_salary\",\"avr_salary\",\"avr_salary\",\"avr_salary\",\"avr_salary\",\"avr_salary\",\"avr_salary\",\"avr_salary\",\"avr_salary\",\"avr_salary\",\"avr_salary\",\"avr_salary\",\"avr_salary\",\"avr_salary\",\"avr_salary\",\"avr_salary\",\"avr_salary\",\"avr_salary\",\"avr_salary\",\"avr_salary\",\"avr_salary\",\"avr_salary\",\"avr_salary\",\"avr_salary\",\"avr_salary\",\"avr_salary\",\"avr_salary\",\"avr_salary\",\"avr_salary\",\"avr_salary\",\"avr_salary\",\"avr_salary\",\"avr_salary\",\"avr_salary\",\"avr_salary\",\"avr_salary\",\"avr_salary\",\"avr_salary\",\"avr_salary\",\"avr_salary\",\"avr_salary\",\"avr_salary\",\"avr_salary\",\"avr_salary\",\"avr_salary\",\"avr_salary\",\"avr_salary\",\"avr_salary\",\"avr_salary\",\"avr_salary\",\"avr_salary\",\"avr_salary\",\"avr_salary\",\"avr_salary\",\"avr_salary\",\"avr_salary\",\"avr_salary\",\"avr_salary\",\"avr_salary\",\"avr_salary\",\"avr_salary\",\"avr_salary\",\"avr_salary\",\"avr_salary\",\"avr_salary\",\"avr_salary\",\"avr_salary\",\"avr_salary\",\"avr_salary\",\"avr_salary\",\"avr_salary\",\"avr_salary\",\"avr_salary\",\"avr_salary\",\"avr_salary\",\"avr_salary\",\"avr_salary\",\"avr_salary\",\"avr_salary\",\"avr_salary\",\"avr_salary\",\"avr_salary\",\"avr_salary\",\"avr_salary\",\"avr_salary\",\"avr_salary\",\"avr_salary\",\"avr_salary\",\"avr_salary\",\"avr_salary\",\"avr_salary\",\"avr_salary\",\"avr_salary\",\"avr_salary\",\"avr_salary\",\"avr_salary\",\"avr_salary\",\"avr_salary\",\"avr_salary\",\"avr_salary\",\"avr_salary\",\"avr_salary\",\"avr_salary\",\"avr_salary\",\"avr_salary\",\"avr_salary\",\"avr_salary\",\"avr_salary\",\"avr_salary\",\"avr_salary\",\"avr_salary\",\"avr_salary\",\"avr_salary\",\"avr_salary\",\"avr_salary\",\"avr_salary\",\"avr_salary\",\"avr_salary\",\"avr_salary\",\"avr_salary\",\"avr_salary\",\"avr_salary\",\"avr_salary\",\"avr_salary\",\"avr_salary\",\"avr_salary\",\"avr_salary\",\"avr_salary\",\"avr_salary\",\"avr_salary\",\"avr_salary\",\"avr_salary\",\"avr_salary\",\"avr_salary\",\"avr_salary\",\"avr_salary\",\"avr_salary\",\"avr_salary\",\"avr_salary\",\"avr_salary\",\"avr_salary\",\"avr_salary\",\"avr_salary\",\"avr_salary\",\"avr_salary\",\"avr_salary\",\"avr_salary\",\"avr_salary\",\"avr_salary\",\"avr_salary\",\"avr_salary\",\"avr_salary\",\"avr_salary\",\"avr_salary\",\"avr_salary\",\"avr_salary\",\"avr_salary\",\"avr_salary\",\"avr_salary\",\"avr_salary\",\"avr_salary\",\"avr_salary\",\"avr_salary\",\"avr_salary\",\"avr_salary\",\"avr_salary\",\"avr_salary\",\"avr_salary\",\"avr_salary\",\"avr_salary\",\"avr_salary\",\"avr_salary\",\"avr_salary\",\"avr_salary\",\"avr_salary\",\"avr_salary\",\"avr_salary\",\"avr_salary\",\"avr_salary\",\"avr_salary\",\"avr_salary\",\"avr_salary\",\"avr_salary\",\"avr_salary\",\"avr_salary\",\"avr_salary\",\"avr_salary\",\"avr_salary\",\"avr_salary\",\"avr_salary\",\"avr_salary\",\"avr_salary\",\"avr_salary\",\"avr_salary\",\"avr_salary\",\"avr_salary\",\"avr_salary\",\"avr_salary\",\"avr_salary\",\"avr_salary\",\"avr_salary\",\"avr_salary\",\"avr_salary\",\"avr_salary\",\"avr_salary\",\"avr_salary\",\"avr_salary\",\"avr_salary\",\"avr_salary\",\"avr_salary\",\"avr_salary\",\"avr_salary\",\"avr_salary\",\"avr_salary\",\"avr_salary\",\"avr_salary\",\"avr_salary\",\"avr_salary\",\"avr_salary\",\"avr_salary\",\"avr_salary\",\"avr_salary\",\"avr_salary\",\"avr_salary\",\"avr_salary\",\"avr_salary\",\"avr_salary\",\"avr_salary\",\"avr_salary\",\"avr_salary\",\"avr_salary\",\"avr_salary\",\"avr_salary\",\"avr_salary\",\"avr_salary\",\"avr_salary\",\"avr_salary\",\"avr_salary\",\"avr_salary\",\"avr_salary\",\"avr_salary\",\"avr_salary\",\"avr_salary\",\"avr_salary\",\"avr_salary\",\"avr_salary\",\"avr_salary\",\"avr_salary\",\"avr_salary\",\"avr_salary\",\"avr_salary\",\"avr_salary\",\"avr_salary\",\"avr_salary\",\"avr_salary\",\"avr_salary\",\"avr_salary\",\"avr_salary\",\"avr_salary\",\"avr_salary\",\"avr_salary\",\"avr_salary\",\"avr_salary\",\"avr_salary\",\"avr_salary\",\"avr_salary\",\"avr_salary\",\"avr_salary\",\"avr_salary\",\"avr_salary\",\"avr_salary\",\"avr_salary\",\"avr_salary\",\"avr_salary\",\"avr_salary\",\"avr_salary\",\"avr_salary\",\"avr_salary\",\"avr_salary\",\"avr_salary\",\"avr_salary\",\"avr_salary\",\"avr_salary\",\"avr_salary\",\"avr_salary\",\"avr_salary\",\"avr_salary\",\"avr_salary\",\"avr_salary\",\"avr_salary\",\"avr_salary\",\"avr_salary\",\"avr_salary\",\"avr_salary\",\"avr_salary\",\"avr_salary\",\"avr_salary\",\"avr_salary\",\"avr_salary\",\"avr_salary\",\"avr_salary\",\"avr_salary\",\"avr_salary\",\"avr_salary\",\"avr_salary\",\"avr_salary\",\"avr_salary\",\"avr_salary\",\"avr_salary\",\"avr_salary\",\"avr_salary\",\"avr_salary\",\"avr_salary\",\"avr_salary\",\"avr_salary\",\"avr_salary\",\"avr_salary\",\"avr_salary\",\"avr_salary\",\"avr_salary\",\"avr_salary\",\"avr_salary\",\"avr_salary\",\"avr_salary\",\"avr_salary\",\"avr_salary\",\"avr_salary\",\"avr_salary\",\"avr_salary\",\"avr_salary\",\"avr_salary\",\"avr_salary\",\"avr_salary\",\"avr_salary\",\"avr_salary\",\"avr_salary\",\"avr_salary\",\"avr_salary\",\"avr_salary\",\"avr_salary\",\"avr_salary\",\"avr_salary\",\"avr_salary\",\"avr_salary\",\"avr_salary\",\"avr_salary\",\"avr_salary\",\"avr_salary\",\"avr_salary\",\"avr_salary\",\"avr_salary\",\"avr_salary\",\"avr_salary\",\"avr_salary\",\"avr_salary\",\"avr_salary\",\"avr_salary\",\"avr_salary\",\"avr_salary\",\"avr_salary\",\"avr_salary\",\"avr_salary\",\"avr_salary\",\"avr_salary\",\"avr_salary\",\"avr_salary\",\"avr_salary\",\"avr_salary\",\"avr_salary\",\"avr_salary\",\"avr_salary\",\"avr_salary\",\"avr_salary\",\"avr_salary\",\"avr_salary\",\"avr_salary\",\"avr_salary\",\"avr_salary\",\"avr_salary\",\"avr_salary\",\"avr_salary\",\"avr_salary\",\"avr_salary\",\"avr_salary\",\"avr_salary\",\"avr_salary\",\"avr_salary\",\"avr_salary\",\"avr_salary\",\"avr_salary\",\"avr_salary\",\"avr_salary\",\"avr_salary\",\"avr_salary\",\"avr_salary\",\"avr_salary\",\"avr_salary\",\"avr_salary\",\"avr_salary\",\"avr_salary\",\"avr_salary\",\"avr_salary\",\"avr_salary\",\"avr_salary\",\"avr_salary\",\"avr_salary\",\"avr_salary\",\"avr_salary\",\"avr_salary\",\"avr_salary\",\"avr_salary\",\"avr_salary\",\"avr_salary\",\"avr_salary\",\"avr_salary\",\"avr_salary\",\"avr_salary\",\"avr_salary\",\"avr_salary\",\"avr_salary\",\"avr_salary\",\"avr_salary\",\"avr_salary\",\"avr_salary\",\"avr_salary\",\"avr_salary\",\"avr_salary\",\"avr_salary\",\"avr_salary\",\"avr_salary\",\"avr_salary\",\"avr_salary\",\"avr_salary\",\"avr_salary\",\"avr_salary\",\"avr_salary\",\"avr_salary\",\"avr_salary\",\"avr_salary\",\"avr_salary\",\"avr_salary\",\"avr_salary\",\"avr_salary\",\"avr_salary\",\"avr_salary\",\"avr_salary\",\"avr_salary\",\"avr_salary\",\"avr_salary\",\"avr_salary\",\"avr_salary\",\"avr_salary\",\"avr_salary\",\"avr_salary\",\"avr_salary\",\"avr_salary\",\"avr_salary\",\"avr_salary\",\"avr_salary\",\"avr_salary\",\"avr_salary\",\"avr_salary\",\"avr_salary\",\"avr_salary\",\"avr_salary\",\"avr_salary\",\"avr_salary\",\"avr_salary\",\"avr_salary\",\"avr_salary\",\"avr_salary\",\"avr_salary\",\"avr_salary\",\"avr_salary\",\"avr_salary\",\"avr_salary\",\"avr_salary\",\"avr_salary\",\"avr_salary\",\"avr_salary\",\"avr_salary\",\"avr_salary\",\"avr_salary\",\"avr_salary\",\"avr_salary\",\"avr_salary\",\"avr_salary\",\"avr_salary\",\"avr_salary\",\"avr_salary\",\"avr_salary\",\"avr_salary\",\"avr_salary\",\"avr_salary\",\"avr_salary\",\"avr_salary\",\"avr_salary\",\"avr_salary\",\"avr_salary\",\"avr_salary\",\"avr_salary\",\"avr_salary\",\"avr_salary\",\"avr_salary\",\"avr_salary\",\"avr_salary\",\"avr_salary\",\"avr_salary\",\"avr_salary\",\"avr_salary\",\"avr_salary\",\"avr_salary\",\"avr_salary\",\"avr_salary\",\"avr_salary\",\"avr_salary\",\"avr_salary\",\"avr_salary\",\"avr_salary\",\"avr_salary\",\"avr_salary\",\"avr_salary\",\"avr_salary\",\"avr_salary\",\"avr_salary\",\"avr_salary\",\"avr_salary\",\"avr_salary\",\"avr_salary\",\"avr_salary\",\"avr_salary\",\"avr_salary\",\"avr_salary\",\"avr_salary\",\"avr_salary\",\"avr_salary\",\"avr_salary\",\"avr_salary\",\"avr_salary\",\"avr_salary\",\"avr_salary\",\"avr_salary\",\"avr_salary\",\"avr_salary\",\"avr_salary\",\"avr_salary\",\"avr_salary\",\"avr_salary\",\"avr_salary\",\"avr_salary\",\"avr_salary\",\"avr_salary\",\"avr_salary\",\"avr_salary\",\"avr_salary\",\"avr_salary\",\"avr_salary\",\"avr_salary\",\"avr_salary\",\"avr_salary\",\"avr_salary\",\"avr_salary\",\"avr_salary\",\"avr_salary\",\"avr_salary\",\"avr_salary\",\"avr_salary\",\"avr_salary\",\"avr_salary\",\"avr_salary\",\"avr_salary\",\"avr_salary\",\"avr_salary\",\"avr_salary\",\"avr_salary\",\"avr_salary\",\"avr_salary\",\"avr_salary\",\"avr_salary\",\"avr_salary\",\"avr_salary\",\"avr_salary\",\"avr_salary\",\"avr_salary\",\"avr_salary\",\"avr_salary\",\"avr_salary\",\"avr_salary\",\"avr_salary\",\"avr_salary\",\"avr_salary\",\"avr_salary\",\"avr_salary\",\"avr_salary\",\"avr_salary\",\"avr_salary\",\"avr_salary\",\"avr_salary\",\"avr_salary\",\"avr_salary\",\"avr_salary\",\"avr_salary\",\"avr_salary\",\"avr_salary\",\"avr_salary\",\"avr_salary\",\"avr_salary\",\"avr_salary\",\"avr_salary\",\"avr_salary\",\"avr_salary\",\"avr_salary\",\"avr_salary\",\"avr_salary\",\"avr_salary\",\"avr_salary\",\"avr_salary\",\"avr_salary\",\"avr_salary\",\"avr_salary\",\"avr_salary\",\"avr_salary\",\"avr_salary\",\"avr_salary\",\"avr_salary\",\"avr_salary\",\"avr_salary\",\"avr_salary\",\"avr_salary\",\"avr_salary\",\"avr_salary\",\"avr_salary\",\"avr_salary\",\"avr_salary\",\"avr_salary\",\"avr_salary\",\"avr_salary\",\"avr_salary\",\"avr_salary\",\"avr_salary\",\"avr_salary\",\"avr_salary\",\"avr_salary\",\"avr_salary\",\"avr_salary\",\"avr_salary\",\"avr_salary\",\"avr_salary\",\"avr_salary\",\"avr_salary\",\"avr_salary\",\"avr_salary\",\"avr_salary\",\"avr_salary\",\"avr_salary\",\"avr_salary\",\"avr_salary\",\"avr_salary\",\"avr_salary\",\"avr_salary\",\"avr_salary\",\"avr_salary\",\"avr_salary\",\"avr_salary\",\"avr_salary\",\"avr_salary\",\"avr_salary\",\"avr_salary\",\"avr_salary\",\"avr_salary\",\"avr_salary\",\"avr_salary\",\"avr_salary\",\"avr_salary\",\"avr_salary\",\"avr_salary\",\"avr_salary\",\"avr_salary\",\"avr_salary\",\"avr_salary\",\"avr_salary\",\"avr_salary\",\"avr_salary\",\"avr_salary\",\"avr_salary\",\"avr_salary\",\"avr_salary\",\"avr_salary\",\"avr_salary\",\"avr_salary\",\"avr_salary\",\"avr_salary\",\"avr_salary\",\"avr_salary\",\"avr_salary\",\"avr_salary\",\"avr_salary\",\"avr_salary\",\"avr_salary\",\"avr_salary\",\"avr_salary\",\"avr_salary\",\"avr_salary\",\"avr_salary\",\"avr_salary\",\"avr_salary\",\"avr_salary\",\"avr_salary\",\"avr_salary\",\"avr_salary\",\"avr_salary\",\"avr_salary\",\"avr_salary\",\"avr_salary\",\"avr_salary\",\"avr_salary\",\"avr_salary\",\"avr_salary\",\"avr_salary\",\"avr_salary\",\"avr_salary\",\"avr_salary\",\"avr_salary\",\"avr_salary\",\"avr_salary\",\"avr_salary\",\"avr_salary\",\"avr_salary\",\"avr_salary\",\"avr_salary\",\"avr_salary\",\"avr_salary\",\"avr_salary\",\"avr_salary\",\"avr_salary\",\"avr_salary\",\"avr_salary\",\"avr_salary\",\"avr_salary\",\"avr_salary\",\"avr_salary\",\"avr_salary\",\"avr_salary\",\"avr_salary\",\"avr_salary\",\"avr_salary\",\"avr_salary\",\"avr_salary\",\"avr_salary\",\"avr_salary\",\"avr_salary\",\"avr_salary\",\"avr_salary\",\"avr_salary\",\"avr_salary\",\"avr_salary\",\"avr_salary\",\"avr_salary\",\"avr_salary\",\"avr_salary\",\"avr_salary\",\"avr_salary\",\"avr_salary\",\"avr_salary\",\"avr_salary\",\"avr_salary\",\"avr_salary\",\"avr_salary\",\"avr_salary\",\"avr_salary\",\"avr_salary\",\"avr_salary\",\"avr_salary\",\"avr_salary\",\"avr_salary\",\"avr_salary\",\"avr_salary\",\"avr_salary\",\"avr_salary\",\"avr_salary\",\"avr_salary\",\"avr_salary\",\"avr_salary\",\"avr_salary\",\"avr_salary\",\"avr_salary\",\"avr_salary\",\"avr_salary\",\"avr_salary\",\"avr_salary\",\"avr_salary\",\"avr_salary\",\"avr_salary\",\"avr_salary\",\"avr_salary\",\"avr_salary\",\"avr_salary\",\"avr_salary\",\"avr_salary\",\"avr_salary\",\"avr_salary\",\"avr_salary\",\"avr_salary\",\"avr_salary\",\"avr_salary\",\"avr_salary\",\"avr_salary\",\"avr_salary\",\"avr_salary\",\"avr_salary\",\"avr_salary\",\"avr_salary\",\"avr_salary\",\"avr_salary\",\"avr_salary\",\"avr_salary\",\"avr_salary\",\"avr_salary\",\"avr_salary\",\"avr_salary\",\"avr_salary\",\"avr_salary\",\"avr_salary\",\"avr_salary\",\"avr_salary\",\"avr_salary\",\"avr_salary\",\"avr_salary\",\"avr_salary\",\"avr_salary\",\"avr_salary\",\"avr_salary\",\"avr_salary\",\"avr_salary\",\"avr_salary\",\"avr_salary\",\"avr_salary\",\"avr_salary\",\"avr_salary\",\"avr_salary\",\"avr_salary\",\"avr_salary\",\"avr_salary\",\"avr_salary\",\"avr_salary\",\"avr_salary\",\"avr_salary\",\"avr_salary\",\"avr_salary\",\"avr_salary\",\"avr_salary\",\"avr_salary\",\"avr_salary\",\"avr_salary\",\"avr_salary\",\"avr_salary\",\"avr_salary\",\"avr_salary\",\"avr_salary\",\"avr_salary\",\"avr_salary\",\"avr_salary\",\"avr_salary\",\"avr_salary\",\"avr_salary\",\"avr_salary\",\"avr_salary\",\"avr_salary\",\"avr_salary\",\"avr_salary\",\"avr_salary\",\"avr_salary\",\"avr_salary\",\"avr_salary\",\"avr_salary\",\"avr_salary\",\"avr_salary\",\"avr_salary\",\"avr_salary\",\"avr_salary\",\"avr_salary\",\"avr_salary\",\"avr_salary\",\"avr_salary\",\"avr_salary\",\"avr_salary\",\"avr_salary\",\"avr_salary\",\"avr_salary\",\"avr_salary\",\"avr_salary\",\"avr_salary\",\"avr_salary\",\"avr_salary\",\"avr_salary\",\"avr_salary\",\"avr_salary\",\"avr_salary\",\"avr_salary\",\"avr_salary\",\"avr_salary\",\"avr_salary\",\"avr_salary\",\"avr_salary\",\"avr_salary\",\"avr_salary\",\"avr_salary\",\"avr_salary\",\"avr_salary\",\"avr_salary\",\"avr_salary\",\"avr_salary\",\"avr_salary\",\"avr_salary\",\"avr_salary\",\"avr_salary\",\"avr_salary\",\"avr_salary\",\"avr_salary\",\"avr_salary\",\"avr_salary\",\"avr_salary\",\"avr_salary\",\"avr_salary\",\"avr_salary\",\"avr_salary\",\"avr_salary\",\"avr_salary\",\"avr_salary\",\"avr_salary\",\"avr_salary\",\"avr_salary\",\"avr_salary\",\"avr_salary\",\"avr_salary\",\"avr_salary\",\"avr_salary\",\"avr_salary\",\"avr_salary\",\"avr_salary\",\"avr_salary\",\"avr_salary\",\"avr_salary\",\"avr_salary\",\"avr_salary\",\"avr_salary\",\"avr_salary\",\"avr_salary\",\"avr_salary\",\"avr_salary\",\"avr_salary\",\"avr_salary\",\"avr_salary\",\"avr_salary\",\"avr_salary\",\"avr_salary\",\"avr_salary\",\"avr_salary\",\"avr_salary\",\"avr_salary\",\"avr_salary\",\"avr_salary\",\"avr_salary\",\"avr_salary\",\"avr_salary\",\"avr_salary\",\"avr_salary\",\"avr_salary\",\"avr_salary\",\"avr_salary\",\"avr_salary\",\"avr_salary\",\"avr_salary\",\"avr_salary\",\"avr_salary\",\"avr_salary\",\"avr_salary\",\"avr_salary\",\"avr_salary\",\"avr_salary\",\"avr_salary\",\"avr_salary\",\"avr_salary\",\"avr_salary\",\"avr_salary\",\"avr_salary\",\"avr_salary\",\"avr_salary\",\"avr_salary\",\"avr_salary\",\"avr_salary\",\"avr_salary\",\"avr_salary\",\"avr_salary\",\"avr_salary\",\"avr_salary\",\"avr_salary\",\"avr_salary\",\"avr_salary\",\"avr_salary\",\"avr_salary\",\"avr_salary\",\"avr_salary\",\"avr_salary\",\"avr_salary\",\"avr_salary\",\"avr_salary\",\"avr_salary\",\"avr_salary\",\"avr_salary\",\"avr_salary\",\"avr_salary\",\"avr_salary\",\"avr_salary\",\"avr_salary\",\"avr_salary\",\"avr_salary\",\"avr_salary\",\"avr_salary\",\"avr_salary\",\"avr_salary\",\"avr_salary\",\"avr_salary\",\"avr_salary\",\"avr_salary\",\"avr_salary\",\"avr_salary\",\"avr_salary\",\"avr_salary\",\"avr_salary\",\"avr_salary\",\"avr_salary\",\"avr_salary\",\"avr_salary\",\"avr_salary\",\"avr_salary\",\"avr_salary\",\"avr_salary\",\"avr_salary\",\"avr_salary\",\"avr_salary\",\"avr_salary\",\"avr_salary\",\"avr_salary\",\"avr_salary\",\"avr_salary\",\"avr_salary\",\"avr_salary\",\"avr_salary\",\"avr_salary\",\"avr_salary\",\"avr_salary\",\"avr_salary\",\"avr_salary\",\"avr_salary\",\"avr_salary\",\"avr_salary\",\"avr_salary\",\"avr_salary\",\"avr_salary\",\"avr_salary\",\"avr_salary\",\"avr_salary\",\"avr_salary\",\"avr_salary\",\"avr_salary\",\"avr_salary\",\"avr_salary\",\"avr_salary\",\"avr_salary\",\"avr_salary\",\"avr_salary\",\"avr_salary\",\"avr_salary\",\"avr_salary\",\"avr_salary\",\"avr_salary\",\"avr_salary\",\"avr_salary\",\"avr_salary\",\"avr_salary\",\"avr_salary\",\"avr_salary\",\"avr_salary\",\"avr_salary\",\"avr_salary\",\"avr_salary\",\"avr_salary\",\"avr_salary\",\"avr_salary\",\"avr_salary\",\"avr_salary\",\"avr_salary\",\"avr_salary\",\"avr_salary\",\"avr_salary\",\"avr_salary\",\"avr_salary\",\"avr_salary\",\"avr_salary\",\"avr_salary\",\"avr_salary\",\"avr_salary\",\"avr_salary\",\"avr_salary\",\"avr_salary\",\"avr_salary\",\"avr_salary\",\"avr_salary\",\"avr_salary\",\"avr_salary\",\"avr_salary\",\"avr_salary\",\"avr_salary\",\"avr_salary\",\"avr_salary\",\"avr_salary\",\"avr_salary\",\"avr_salary\",\"avr_salary\",\"avr_salary\",\"avr_salary\",\"avr_salary\",\"avr_salary\",\"avr_salary\",\"avr_salary\",\"avr_salary\",\"avr_salary\",\"avr_salary\",\"avr_salary\",\"avr_salary\",\"avr_salary\",\"avr_salary\",\"avr_salary\",\"avr_salary\",\"avr_salary\",\"avr_salary\",\"avr_salary\",\"avr_salary\",\"avr_salary\",\"avr_salary\",\"avr_salary\",\"avr_salary\",\"avr_salary\",\"avr_salary\",\"avr_salary\",\"avr_salary\",\"avr_salary\",\"avr_salary\",\"avr_salary\",\"avr_salary\",\"avr_salary\",\"avr_salary\",\"avr_salary\",\"avr_salary\",\"avr_salary\",\"avr_salary\",\"avr_salary\",\"avr_salary\",\"avr_salary\",\"avr_salary\",\"avr_salary\",\"avr_salary\",\"avr_salary\",\"avr_salary\",\"avr_salary\",\"avr_salary\",\"avr_salary\",\"avr_salary\",\"avr_salary\",\"avr_salary\",\"avr_salary\",\"avr_salary\",\"avr_salary\",\"avr_salary\",\"avr_salary\",\"avr_salary\",\"avr_salary\",\"avr_salary\",\"avr_salary\",\"avr_salary\",\"avr_salary\",\"avr_salary\",\"avr_salary\",\"avr_salary\",\"avr_salary\",\"avr_salary\",\"avr_salary\",\"avr_salary\",\"avr_salary\",\"avr_salary\",\"avr_salary\",\"avr_salary\",\"avr_salary\",\"avr_salary\",\"avr_salary\",\"avr_salary\",\"avr_salary\",\"avr_salary\",\"avr_salary\",\"avr_salary\",\"avr_salary\",\"avr_salary\",\"avr_salary\",\"avr_salary\",\"avr_salary\",\"avr_salary\",\"avr_salary\",\"avr_salary\",\"avr_salary\",\"avr_salary\",\"avr_salary\",\"avr_salary\",\"avr_salary\",\"avr_salary\",\"avr_salary\",\"avr_salary\",\"avr_salary\",\"avr_salary\",\"avr_salary\",\"avr_salary\",\"avr_salary\",\"avr_salary\",\"avr_salary\",\"avr_salary\",\"avr_salary\",\"avr_salary\",\"avr_salary\",\"avr_salary\",\"avr_salary\",\"avr_salary\",\"avr_salary\",\"avr_salary\",\"avr_salary\",\"avr_salary\",\"avr_salary\",\"avr_salary\",\"avr_salary\",\"avr_salary\",\"avr_salary\",\"avr_salary\",\"avr_salary\",\"avr_salary\",\"avr_salary\",\"avr_salary\",\"avr_salary\",\"avr_salary\",\"avr_salary\",\"avr_salary\",\"avr_salary\",\"avr_salary\",\"avr_salary\",\"avr_salary\",\"avr_salary\",\"avr_salary\",\"avr_salary\",\"avr_salary\",\"avr_salary\",\"avr_salary\",\"avr_salary\",\"avr_salary\",\"avr_salary\",\"avr_salary\",\"avr_salary\",\"avr_salary\",\"avr_salary\",\"avr_salary\",\"avr_salary\",\"avr_salary\",\"avr_salary\",\"avr_salary\",\"avr_salary\",\"avr_salary\",\"avr_salary\",\"avr_salary\",\"avr_salary\",\"avr_salary\",\"avr_salary\",\"avr_salary\",\"avr_salary\",\"avr_salary\",\"avr_salary\",\"avr_salary\",\"avr_salary\",\"avr_salary\",\"avr_salary\",\"avr_salary\",\"avr_salary\",\"avr_salary\",\"avr_salary\",\"avr_salary\",\"avr_salary\",\"avr_salary\",\"avr_salary\",\"avr_salary\",\"avr_salary\",\"avr_salary\",\"avr_salary\",\"avr_salary\",\"avr_salary\",\"avr_salary\",\"avr_salary\",\"avr_salary\",\"avr_salary\",\"avr_salary\",\"avr_salary\",\"avr_salary\",\"avr_salary\",\"avr_salary\",\"avr_salary\",\"avr_salary\",\"avr_salary\",\"avr_salary\",\"avr_salary\",\"avr_salary\",\"avr_salary\",\"avr_salary\",\"avr_salary\",\"avr_salary\",\"avr_salary\",\"avr_salary\",\"avr_salary\",\"avr_salary\",\"avr_salary\",\"avr_salary\",\"avr_salary\",\"avr_salary\",\"avr_salary\",\"avr_salary\",\"avr_salary\",\"avr_salary\",\"avr_salary\",\"avr_salary\",\"avr_salary\",\"avr_salary\",\"avr_salary\",\"avr_salary\",\"avr_salary\",\"avr_salary\",\"avr_salary\",\"avr_salary\",\"avr_salary\",\"avr_salary\",\"avr_salary\",\"avr_salary\",\"avr_salary\",\"avr_salary\",\"avr_salary\",\"avr_salary\",\"avr_salary\",\"avr_salary\",\"avr_salary\",\"avr_salary\",\"avr_salary\",\"avr_salary\",\"avr_salary\",\"avr_salary\",\"avr_salary\",\"avr_salary\",\"avr_salary\",\"avr_salary\",\"avr_salary\",\"avr_salary\",\"avr_salary\",\"avr_salary\",\"avr_salary\",\"avr_salary\",\"avr_salary\",\"avr_salary\",\"avr_salary\",\"avr_salary\",\"avr_salary\",\"avr_salary\",\"avr_salary\",\"avr_salary\",\"avr_salary\",\"avr_salary\",\"avr_salary\",\"avr_salary\",\"avr_salary\",\"avr_salary\",\"avr_salary\",\"avr_salary\",\"avr_salary\",\"avr_salary\",\"avr_salary\",\"avr_salary\",\"avr_salary\",\"avr_salary\",\"avr_salary\",\"avr_salary\",\"avr_salary\",\"avr_salary\",\"avr_salary\",\"avr_salary\",\"avr_salary\",\"avr_salary\",\"avr_salary\",\"avr_salary\",\"avr_salary\",\"avr_salary\",\"avr_salary\",\"avr_salary\",\"avr_salary\",\"avr_salary\",\"avr_salary\",\"avr_salary\",\"avr_salary\",\"avr_salary\",\"avr_salary\",\"avr_salary\",\"avr_salary\",\"avr_salary\",\"avr_salary\",\"avr_salary\",\"avr_salary\",\"avr_salary\",\"avr_salary\",\"avr_salary\",\"avr_salary\",\"avr_salary\",\"avr_salary\",\"avr_salary\",\"avr_salary\",\"avr_salary\",\"avr_salary\",\"avr_salary\",\"avr_salary\",\"avr_salary\",\"avr_salary\",\"avr_salary\",\"avr_salary\",\"avr_salary\",\"avr_salary\",\"avr_salary\",\"avr_salary\",\"avr_salary\",\"avr_salary\",\"avr_salary\",\"avr_salary\",\"avr_salary\",\"avr_salary\",\"avr_salary\",\"avr_salary\",\"avr_salary\",\"avr_salary\",\"avr_salary\",\"avr_salary\",\"avr_salary\",\"avr_salary\",\"avr_salary\",\"avr_salary\",\"avr_salary\",\"avr_salary\",\"avr_salary\",\"avr_salary\",\"avr_salary\",\"avr_salary\",\"avr_salary\",\"avr_salary\",\"avr_salary\",\"avr_salary\",\"avr_salary\",\"avr_salary\",\"avr_salary\",\"avr_salary\",\"avr_salary\",\"avr_salary\",\"avr_salary\",\"avr_salary\",\"avr_salary\",\"avr_salary\",\"avr_salary\",\"avr_salary\",\"avr_salary\",\"avr_salary\",\"avr_salary\",\"avr_salary\",\"avr_salary\",\"avr_salary\",\"avr_salary\",\"avr_salary\",\"avr_salary\",\"avr_salary\",\"avr_salary\",\"avr_salary\",\"avr_salary\",\"avr_salary\",\"avr_salary\",\"avr_salary\",\"avr_salary\",\"avr_salary\",\"avr_salary\",\"avr_salary\",\"avr_salary\",\"avr_salary\",\"avr_salary\",\"avr_salary\",\"avr_salary\",\"avr_salary\",\"avr_salary\",\"avr_salary\",\"avr_salary\",\"avr_salary\",\"avr_salary\",\"avr_salary\",\"avr_salary\",\"avr_salary\",\"avr_salary\",\"avr_salary\"],\"y0\":\" \",\"yaxis\":\"y\",\"type\":\"box\"}],                        {\"template\":{\"data\":{\"bar\":[{\"error_x\":{\"color\":\"#2a3f5f\"},\"error_y\":{\"color\":\"#2a3f5f\"},\"marker\":{\"line\":{\"color\":\"#E5ECF6\",\"width\":0.5},\"pattern\":{\"fillmode\":\"overlay\",\"size\":10,\"solidity\":0.2}},\"type\":\"bar\"}],\"barpolar\":[{\"marker\":{\"line\":{\"color\":\"#E5ECF6\",\"width\":0.5},\"pattern\":{\"fillmode\":\"overlay\",\"size\":10,\"solidity\":0.2}},\"type\":\"barpolar\"}],\"carpet\":[{\"aaxis\":{\"endlinecolor\":\"#2a3f5f\",\"gridcolor\":\"white\",\"linecolor\":\"white\",\"minorgridcolor\":\"white\",\"startlinecolor\":\"#2a3f5f\"},\"baxis\":{\"endlinecolor\":\"#2a3f5f\",\"gridcolor\":\"white\",\"linecolor\":\"white\",\"minorgridcolor\":\"white\",\"startlinecolor\":\"#2a3f5f\"},\"type\":\"carpet\"}],\"choropleth\":[{\"colorbar\":{\"outlinewidth\":0,\"ticks\":\"\"},\"type\":\"choropleth\"}],\"contour\":[{\"colorbar\":{\"outlinewidth\":0,\"ticks\":\"\"},\"colorscale\":[[0.0,\"#0d0887\"],[0.1111111111111111,\"#46039f\"],[0.2222222222222222,\"#7201a8\"],[0.3333333333333333,\"#9c179e\"],[0.4444444444444444,\"#bd3786\"],[0.5555555555555556,\"#d8576b\"],[0.6666666666666666,\"#ed7953\"],[0.7777777777777778,\"#fb9f3a\"],[0.8888888888888888,\"#fdca26\"],[1.0,\"#f0f921\"]],\"type\":\"contour\"}],\"contourcarpet\":[{\"colorbar\":{\"outlinewidth\":0,\"ticks\":\"\"},\"type\":\"contourcarpet\"}],\"heatmap\":[{\"colorbar\":{\"outlinewidth\":0,\"ticks\":\"\"},\"colorscale\":[[0.0,\"#0d0887\"],[0.1111111111111111,\"#46039f\"],[0.2222222222222222,\"#7201a8\"],[0.3333333333333333,\"#9c179e\"],[0.4444444444444444,\"#bd3786\"],[0.5555555555555556,\"#d8576b\"],[0.6666666666666666,\"#ed7953\"],[0.7777777777777778,\"#fb9f3a\"],[0.8888888888888888,\"#fdca26\"],[1.0,\"#f0f921\"]],\"type\":\"heatmap\"}],\"heatmapgl\":[{\"colorbar\":{\"outlinewidth\":0,\"ticks\":\"\"},\"colorscale\":[[0.0,\"#0d0887\"],[0.1111111111111111,\"#46039f\"],[0.2222222222222222,\"#7201a8\"],[0.3333333333333333,\"#9c179e\"],[0.4444444444444444,\"#bd3786\"],[0.5555555555555556,\"#d8576b\"],[0.6666666666666666,\"#ed7953\"],[0.7777777777777778,\"#fb9f3a\"],[0.8888888888888888,\"#fdca26\"],[1.0,\"#f0f921\"]],\"type\":\"heatmapgl\"}],\"histogram\":[{\"marker\":{\"pattern\":{\"fillmode\":\"overlay\",\"size\":10,\"solidity\":0.2}},\"type\":\"histogram\"}],\"histogram2d\":[{\"colorbar\":{\"outlinewidth\":0,\"ticks\":\"\"},\"colorscale\":[[0.0,\"#0d0887\"],[0.1111111111111111,\"#46039f\"],[0.2222222222222222,\"#7201a8\"],[0.3333333333333333,\"#9c179e\"],[0.4444444444444444,\"#bd3786\"],[0.5555555555555556,\"#d8576b\"],[0.6666666666666666,\"#ed7953\"],[0.7777777777777778,\"#fb9f3a\"],[0.8888888888888888,\"#fdca26\"],[1.0,\"#f0f921\"]],\"type\":\"histogram2d\"}],\"histogram2dcontour\":[{\"colorbar\":{\"outlinewidth\":0,\"ticks\":\"\"},\"colorscale\":[[0.0,\"#0d0887\"],[0.1111111111111111,\"#46039f\"],[0.2222222222222222,\"#7201a8\"],[0.3333333333333333,\"#9c179e\"],[0.4444444444444444,\"#bd3786\"],[0.5555555555555556,\"#d8576b\"],[0.6666666666666666,\"#ed7953\"],[0.7777777777777778,\"#fb9f3a\"],[0.8888888888888888,\"#fdca26\"],[1.0,\"#f0f921\"]],\"type\":\"histogram2dcontour\"}],\"mesh3d\":[{\"colorbar\":{\"outlinewidth\":0,\"ticks\":\"\"},\"type\":\"mesh3d\"}],\"parcoords\":[{\"line\":{\"colorbar\":{\"outlinewidth\":0,\"ticks\":\"\"}},\"type\":\"parcoords\"}],\"pie\":[{\"automargin\":true,\"type\":\"pie\"}],\"scatter\":[{\"marker\":{\"colorbar\":{\"outlinewidth\":0,\"ticks\":\"\"}},\"type\":\"scatter\"}],\"scatter3d\":[{\"line\":{\"colorbar\":{\"outlinewidth\":0,\"ticks\":\"\"}},\"marker\":{\"colorbar\":{\"outlinewidth\":0,\"ticks\":\"\"}},\"type\":\"scatter3d\"}],\"scattercarpet\":[{\"marker\":{\"colorbar\":{\"outlinewidth\":0,\"ticks\":\"\"}},\"type\":\"scattercarpet\"}],\"scattergeo\":[{\"marker\":{\"colorbar\":{\"outlinewidth\":0,\"ticks\":\"\"}},\"type\":\"scattergeo\"}],\"scattergl\":[{\"marker\":{\"colorbar\":{\"outlinewidth\":0,\"ticks\":\"\"}},\"type\":\"scattergl\"}],\"scattermapbox\":[{\"marker\":{\"colorbar\":{\"outlinewidth\":0,\"ticks\":\"\"}},\"type\":\"scattermapbox\"}],\"scatterpolar\":[{\"marker\":{\"colorbar\":{\"outlinewidth\":0,\"ticks\":\"\"}},\"type\":\"scatterpolar\"}],\"scatterpolargl\":[{\"marker\":{\"colorbar\":{\"outlinewidth\":0,\"ticks\":\"\"}},\"type\":\"scatterpolargl\"}],\"scatterternary\":[{\"marker\":{\"colorbar\":{\"outlinewidth\":0,\"ticks\":\"\"}},\"type\":\"scatterternary\"}],\"surface\":[{\"colorbar\":{\"outlinewidth\":0,\"ticks\":\"\"},\"colorscale\":[[0.0,\"#0d0887\"],[0.1111111111111111,\"#46039f\"],[0.2222222222222222,\"#7201a8\"],[0.3333333333333333,\"#9c179e\"],[0.4444444444444444,\"#bd3786\"],[0.5555555555555556,\"#d8576b\"],[0.6666666666666666,\"#ed7953\"],[0.7777777777777778,\"#fb9f3a\"],[0.8888888888888888,\"#fdca26\"],[1.0,\"#f0f921\"]],\"type\":\"surface\"}],\"table\":[{\"cells\":{\"fill\":{\"color\":\"#EBF0F8\"},\"line\":{\"color\":\"white\"}},\"header\":{\"fill\":{\"color\":\"#C8D4E3\"},\"line\":{\"color\":\"white\"}},\"type\":\"table\"}]},\"layout\":{\"annotationdefaults\":{\"arrowcolor\":\"#2a3f5f\",\"arrowhead\":0,\"arrowwidth\":1},\"autotypenumbers\":\"strict\",\"coloraxis\":{\"colorbar\":{\"outlinewidth\":0,\"ticks\":\"\"}},\"colorscale\":{\"diverging\":[[0,\"#8e0152\"],[0.1,\"#c51b7d\"],[0.2,\"#de77ae\"],[0.3,\"#f1b6da\"],[0.4,\"#fde0ef\"],[0.5,\"#f7f7f7\"],[0.6,\"#e6f5d0\"],[0.7,\"#b8e186\"],[0.8,\"#7fbc41\"],[0.9,\"#4d9221\"],[1,\"#276419\"]],\"sequential\":[[0.0,\"#0d0887\"],[0.1111111111111111,\"#46039f\"],[0.2222222222222222,\"#7201a8\"],[0.3333333333333333,\"#9c179e\"],[0.4444444444444444,\"#bd3786\"],[0.5555555555555556,\"#d8576b\"],[0.6666666666666666,\"#ed7953\"],[0.7777777777777778,\"#fb9f3a\"],[0.8888888888888888,\"#fdca26\"],[1.0,\"#f0f921\"]],\"sequentialminus\":[[0.0,\"#0d0887\"],[0.1111111111111111,\"#46039f\"],[0.2222222222222222,\"#7201a8\"],[0.3333333333333333,\"#9c179e\"],[0.4444444444444444,\"#bd3786\"],[0.5555555555555556,\"#d8576b\"],[0.6666666666666666,\"#ed7953\"],[0.7777777777777778,\"#fb9f3a\"],[0.8888888888888888,\"#fdca26\"],[1.0,\"#f0f921\"]]},\"colorway\":[\"#636efa\",\"#EF553B\",\"#00cc96\",\"#ab63fa\",\"#FFA15A\",\"#19d3f3\",\"#FF6692\",\"#B6E880\",\"#FF97FF\",\"#FECB52\"],\"font\":{\"color\":\"#2a3f5f\"},\"geo\":{\"bgcolor\":\"white\",\"lakecolor\":\"white\",\"landcolor\":\"#E5ECF6\",\"showlakes\":true,\"showland\":true,\"subunitcolor\":\"white\"},\"hoverlabel\":{\"align\":\"left\"},\"hovermode\":\"closest\",\"mapbox\":{\"style\":\"light\"},\"paper_bgcolor\":\"white\",\"plot_bgcolor\":\"#E5ECF6\",\"polar\":{\"angularaxis\":{\"gridcolor\":\"white\",\"linecolor\":\"white\",\"ticks\":\"\"},\"bgcolor\":\"#E5ECF6\",\"radialaxis\":{\"gridcolor\":\"white\",\"linecolor\":\"white\",\"ticks\":\"\"}},\"scene\":{\"xaxis\":{\"backgroundcolor\":\"#E5ECF6\",\"gridcolor\":\"white\",\"gridwidth\":2,\"linecolor\":\"white\",\"showbackground\":true,\"ticks\":\"\",\"zerolinecolor\":\"white\"},\"yaxis\":{\"backgroundcolor\":\"#E5ECF6\",\"gridcolor\":\"white\",\"gridwidth\":2,\"linecolor\":\"white\",\"showbackground\":true,\"ticks\":\"\",\"zerolinecolor\":\"white\"},\"zaxis\":{\"backgroundcolor\":\"#E5ECF6\",\"gridcolor\":\"white\",\"gridwidth\":2,\"linecolor\":\"white\",\"showbackground\":true,\"ticks\":\"\",\"zerolinecolor\":\"white\"}},\"shapedefaults\":{\"line\":{\"color\":\"#2a3f5f\"}},\"ternary\":{\"aaxis\":{\"gridcolor\":\"white\",\"linecolor\":\"white\",\"ticks\":\"\"},\"baxis\":{\"gridcolor\":\"white\",\"linecolor\":\"white\",\"ticks\":\"\"},\"bgcolor\":\"#E5ECF6\",\"caxis\":{\"gridcolor\":\"white\",\"linecolor\":\"white\",\"ticks\":\"\"}},\"title\":{\"x\":0.05},\"xaxis\":{\"automargin\":true,\"gridcolor\":\"white\",\"linecolor\":\"white\",\"ticks\":\"\",\"title\":{\"standoff\":15},\"zerolinecolor\":\"white\",\"zerolinewidth\":2},\"yaxis\":{\"automargin\":true,\"gridcolor\":\"white\",\"linecolor\":\"white\",\"ticks\":\"\",\"title\":{\"standoff\":15},\"zerolinecolor\":\"white\",\"zerolinewidth\":2}}},\"xaxis\":{\"anchor\":\"y\",\"domain\":[0.0,1.0],\"title\":{\"text\":\"value\"}},\"yaxis\":{\"anchor\":\"x\",\"domain\":[0.0,1.0],\"title\":{\"text\":\"variable\"}},\"legend\":{\"tracegroupgap\":0},\"margin\":{\"t\":60},\"boxmode\":\"group\"},                        {\"responsive\": true}                    ).then(function(){\n",
       "                            \n",
       "var gd = document.getElementById('951012c6-4f58-4d94-a35a-ec0ad0853cb3');\n",
       "var x = new MutationObserver(function (mutations, observer) {{\n",
       "        var display = window.getComputedStyle(gd).display;\n",
       "        if (!display || display === 'none') {{\n",
       "            console.log([gd, 'removed!']);\n",
       "            Plotly.purge(gd);\n",
       "            observer.disconnect();\n",
       "        }}\n",
       "}});\n",
       "\n",
       "// Listen for the removal of the full notebook cells\n",
       "var notebookContainer = gd.closest('#notebook-container');\n",
       "if (notebookContainer) {{\n",
       "    x.observe(notebookContainer, {childList: true});\n",
       "}}\n",
       "\n",
       "// Listen for the clearing of the current output cell\n",
       "var outputEl = gd.closest('.output');\n",
       "if (outputEl) {{\n",
       "    x.observe(outputEl, {childList: true});\n",
       "}}\n",
       "\n",
       "                        })                };                            </script>        </div>\n",
       "</body>\n",
       "</html>"
      ]
     },
     "metadata": {},
     "output_type": "display_data"
    }
   ],
   "source": [
    "px.box(df,x=['min_salary(K)','max_salary(K)','avr_salary'])"
   ]
  },
  {
   "cell_type": "markdown",
   "metadata": {
    "id": "mgRutRAqVBlX"
   },
   "source": [
    "Minimum salary: Average minimum salary is around 57K and median value for minimum salary is around 50K. We can see that it has right skewed distribution. \n",
    ">Maximum salary:Average maximum salary is around 89K and median value for maximum salary is around 87K. We can see that it has right skewed distribution.\n",
    ">>Average salary: Average salary is around 72K"
   ]
  },
  {
   "cell_type": "code",
   "execution_count": 47,
   "metadata": {
    "id": "9hHnqjvDU5Go"
   },
   "outputs": [],
   "source": [
    "df[\"Company Name\"] = df[\"Company Name\"].str.split(\"\\n\").str[0]"
   ]
  },
  {
   "cell_type": "markdown",
   "metadata": {
    "id": "0Db0G63-WXD7"
   },
   "source": [
    "now it`s time to extract the most important skills that data analyst job needed from job describtion"
   ]
  },
  {
   "cell_type": "code",
   "execution_count": 48,
   "metadata": {
    "colab": {
     "base_uri": "https://localhost:8080/",
     "height": 174
    },
    "id": "fiALpF-AWpHU",
    "outputId": "776778ec-871c-4200-bbb7-7e541aace928"
   },
   "outputs": [
    {
     "data": {
      "application/vnd.google.colaboratory.intrinsic+json": {
       "type": "string"
      },
      "text/plain": [
       "\"Are you eager to roll up your sleeves and harness data to drive policy change? Do you enjoy sifting through complex datasets to illuminate trends and insights? Do you see yourself working for a values-driven organization with a vision to tackle the most pressing injustices of our day?\\n\\nWe are looking to hire a bright, hard-working, and creative individual with strong data management skills and a demonstrated commitment to immigrant's rights. The Data Analyst will assist with analysis and reporting needs for Veras Center on Immigration and Justice (CIJ), working across its current projects and future Vera initiatives.\\n\\nWho we are:\\n\\nFounded in 1961, The Vera Institute is an independent, non-partisan, nonprofit organization that combines expertise in research, technical assistance, and demonstration projects to assist leaders in government and civil society examine justice policy and practice, and improve the systems people rely on for justice and safety.\\nWe study problems that impede human dignity and justice.\\nWe pilot solutions that are at once transformative and achievable.\\nWe engage diverse communities in informed debate.\\nAnd we harness the power of evidence to drive effective policy and practice\\nWhat were doing:\\n\\nWe are helping to build a movementamong government leaders, advocates, and the immigration legal services communitytowards universal legal representation for immigrants facing deportation. In the face of stepped-up immigration enforcement, millions of non-citizens are at risk of extended detention and permanent separation from their families and communities. Veras Center on Immigration and Justice (CIJ) partners with government, non-profit partners, and communities to improve government systems that affect immigrants and their families. CIJ administers several nationwide legal services programs for immigrants facing deportation, develops and implements pilot programs, provides technical assistance, and conducts independent research and evaluation.\\n\\nThats where you come in:\\nThe Data Analyst will support the Centers programmatic efforts through regular monitoring and reporting of federal government and subcontractor data. CIJ manages several proprietary databases that run on AWS and Caspio and uses SQL, R, and Python to manage data. This is an opportunity to help shape an innovative national research and policy agenda as part of a dedicated team of experts working to improve access to justice for non-citizens.\\n\\nVera seeks to hire a Data Analyst to work on various data management projects with its Center on Immigration and Justice (CIJ). In collaboration with other Data Analysts, this position will involve work across several projects, such as the Unaccompanied Childrens Program (UCP), a program to increase legal representation for immigrant children facing deportation without a parent or legal guardian. The position may cover additional duties for the Legal Orientation Program for Custodians (LOPC), which educates the custodians of unaccompanied children about their rights and the immigration court process.\\n\\nAbout the role:\\n\\nAs a Data Analyst, you will report to a member of the research team and work in close collaboration with other Vera staff on ongoing database management, monitoring, reporting, and analysis projects. Youll support the team by taking ownership of ongoing monitoring and reporting tasks involving large data sets. Other principal responsibilities will include:\\nSupporting research staff by preparing large datasets for analysis, including merging, cleaning, and recoding data;\\nProviding insights into program performance through summary statistics and performance indicators;\\nProducing timely reports on Vera projects for team members and stakeholders;\\nImproving recurring reporting processes by optimizing code and producing subsequent documentation;\\nCoordinating database management tasks such as participating in new database design, modifying existing databases, and communicating with outside engineers and subcontractors;\\nDeveloping codebooks and delivering user trainings through webinars and database guides;\\nBuilding and maintaining interactive dashboards;\\nDocumenting and correcting data quality issues;\\nWorking with supervisors to prioritize program needs;\\nAssisting on other projects and tasks as assigned.\\nAbout you:\\n\\nYoure committed to improving issues affecting immigrants in the United States. Applicants with personal experiences with the immigration system are especially encouraged to apply.\\n\\nYoure just getting started in your career and have 1 2 years of professional or internship experience working with large datasets and preparing data for analysis.\\n\\nYou have a real enthusiasm for working with data.\\n\\nYou are comfortable writing queries in SQL, R, and/or Python, or have a solid foundation coding in other programming languages used to manipulate data. Experience working collaboratively using tools like Git/GitHub is a plus.\\n\\nYou have exceptional attention to detail, strong problem-solving ability and logical reasoning skills, and the ability to detect anomalies in data.\\n\\nYoure able to work on multiple projects effectively and efficiently, both independently and collaboratively with a team.\\n\\nThis position involves working with secure data that may require government security clearance. That clearance is restricted to U.S. citizens and citizens of countries that are party to collective defense agreements with the U.S. The list of those countries is detailed on this webpage. An additional requirement of that clearance is residence in the United States for at least three of the last five years.\\n\\nHow to apply:\\n\\nPlease submit cover letter and resume. Applications will be considered on a rolling basis until position is filled. Online submission in PDF format is preferred. Applications with no cover letter attached will not be considered. The cover letter should address your interest in CIJ and this position.\\n\\nHowever, if necessary, materials may be mailed or faxed to\\n\\nATTN: Human Resources / CIJ Data Analyst Recruitment\\n\\nVera Institute of Justice\\n\\n34 35th St, Suite 4-2A\\n\\nBrooklyn, NY 11232\\n\\nFax: (212) 941-9407\\n\\nPlease use only one method (online, mail or fax) of submission.\\n\\nNo phone calls, please. Only applicants selected for interviews will be contacted.\\n\\nVera is an equal opportunity/affirmative action employer. All qualified applicants will be considered for employment without unlawful discrimination based on race, color, creed, national origin, sex, age, disability, marital status, sexual orientation, military status, prior record of arrest or conviction, citizenship status, current employment status, or caregiver status.\\n\\nVera works to advance justice, particularly racial justice, in an increasingly multicultural country and globally connected world. We value diverse experiences, including with regard to educational background and justice system contact, and depend on a diverse staff to carry out our mission.\\n\\nFor more information about Vera and CIJs work, please visit www.vera.org.\\n\\nPowered by JazzHR\""
      ]
     },
     "execution_count": 48,
     "metadata": {},
     "output_type": "execute_result"
    }
   ],
   "source": [
    "df['Job Description'][0]"
   ]
  },
  {
   "cell_type": "code",
   "execution_count": 49,
   "metadata": {
    "id": "zLbn5Ro5WsTm"
   },
   "outputs": [],
   "source": [
    "df[\"python\"] = df[\"Job Description\"].str.contains(\"python\", na=False, case=False)\n",
    "df[\"SQL\"] = df[\"Job Description\"].str.contains(\"sql\", na=False, case=False)\n",
    "df[\"Excel\"] = df[\"Job Description\"].str.contains(\"excel\", na=False, case=False)\n",
    "df[\"Tableau\"] = df[\"Job Description\"].str.contains(\"tableau\", na=False, case=False)\n",
    "df[\"Git\"] = df[\"Job Description\"].str.contains(\"git\", na=False, case=False)\n",
    "df[\"Power Bi\"] = df[\"Job Description\"].str.contains(\"power bi\", na=False, case=False)"
   ]
  },
  {
   "cell_type": "code",
   "execution_count": 50,
   "metadata": {
    "colab": {
     "base_uri": "https://localhost:8080/"
    },
    "id": "hsHmw7mtcEUE",
    "outputId": "0f92aac4-c4cd-457e-eeaa-e0ba690849e5"
   },
   "outputs": [
    {
     "data": {
      "text/plain": [
       "Index(['Job Title', 'Salary Estimate', 'Job Description', 'Rating',\n",
       "       'Company Name', 'Location', 'Headquarters', 'Size', 'Founded',\n",
       "       'Type of ownership', 'Industry', 'Sector', 'Revenue', 'Competitors',\n",
       "       'Easy Apply', 'min_salary(K)', 'max_salary(K)', 'avr_salary', 'python',\n",
       "       'SQL', 'Excel', 'Tableau', 'Git', 'Power Bi'],\n",
       "      dtype='object')"
      ]
     },
     "execution_count": 50,
     "metadata": {},
     "output_type": "execute_result"
    }
   ],
   "source": [
    "df.columns"
   ]
  },
  {
   "cell_type": "code",
   "execution_count": 51,
   "metadata": {
    "id": "NRZ3CWDqcJyh"
   },
   "outputs": [],
   "source": [
    "new_df = df[['Job Title', 'Company Name', 'Rating', 'Industry', 'Sector', 'min_salary(K)','max_salary(K)', 'avr_salary','python', 'SQL', 'Excel', 'Tableau','Git','Power Bi']]"
   ]
  },
  {
   "cell_type": "code",
   "execution_count": 52,
   "metadata": {
    "colab": {
     "base_uri": "https://localhost:8080/",
     "height": 548
    },
    "id": "cZuQyeYSczKV",
    "outputId": "02e24526-f88d-424c-88d0-67a1588a621c"
   },
   "outputs": [
    {
     "data": {
      "text/html": [
       "\n",
       "  <div id=\"df-a68f285b-b063-46a8-a1bf-8ace1d37230c\">\n",
       "    <div class=\"colab-df-container\">\n",
       "      <div>\n",
       "<style scoped>\n",
       "    .dataframe tbody tr th:only-of-type {\n",
       "        vertical-align: middle;\n",
       "    }\n",
       "\n",
       "    .dataframe tbody tr th {\n",
       "        vertical-align: top;\n",
       "    }\n",
       "\n",
       "    .dataframe thead th {\n",
       "        text-align: right;\n",
       "    }\n",
       "</style>\n",
       "<table border=\"1\" class=\"dataframe\">\n",
       "  <thead>\n",
       "    <tr style=\"text-align: right;\">\n",
       "      <th></th>\n",
       "      <th>Job Title</th>\n",
       "      <th>Company Name</th>\n",
       "      <th>Rating</th>\n",
       "      <th>Industry</th>\n",
       "      <th>Sector</th>\n",
       "      <th>min_salary(K)</th>\n",
       "      <th>max_salary(K)</th>\n",
       "      <th>avr_salary</th>\n",
       "      <th>python</th>\n",
       "      <th>SQL</th>\n",
       "      <th>Excel</th>\n",
       "      <th>Tableau</th>\n",
       "      <th>Git</th>\n",
       "      <th>Power Bi</th>\n",
       "    </tr>\n",
       "  </thead>\n",
       "  <tbody>\n",
       "    <tr>\n",
       "      <th>0</th>\n",
       "      <td>Data Analyst, Center on Immigration and Justic...</td>\n",
       "      <td>Vera Institute of Justice</td>\n",
       "      <td>3.2</td>\n",
       "      <td>Social Assistance</td>\n",
       "      <td>Non-Profit</td>\n",
       "      <td>37.0</td>\n",
       "      <td>66.0</td>\n",
       "      <td>51.5</td>\n",
       "      <td>True</td>\n",
       "      <td>True</td>\n",
       "      <td>False</td>\n",
       "      <td>False</td>\n",
       "      <td>True</td>\n",
       "      <td>False</td>\n",
       "    </tr>\n",
       "    <tr>\n",
       "      <th>1</th>\n",
       "      <td>Quality Data Analyst</td>\n",
       "      <td>Visiting Nurse Service of New York</td>\n",
       "      <td>3.8</td>\n",
       "      <td>Health Care Services &amp; Hospitals</td>\n",
       "      <td>Health Care</td>\n",
       "      <td>37.0</td>\n",
       "      <td>66.0</td>\n",
       "      <td>51.5</td>\n",
       "      <td>False</td>\n",
       "      <td>True</td>\n",
       "      <td>True</td>\n",
       "      <td>False</td>\n",
       "      <td>False</td>\n",
       "      <td>False</td>\n",
       "    </tr>\n",
       "    <tr>\n",
       "      <th>2</th>\n",
       "      <td>Senior Data Analyst, Insights &amp; Analytics Team...</td>\n",
       "      <td>Squarespace</td>\n",
       "      <td>3.4</td>\n",
       "      <td>Internet</td>\n",
       "      <td>Information Technology</td>\n",
       "      <td>37.0</td>\n",
       "      <td>66.0</td>\n",
       "      <td>51.5</td>\n",
       "      <td>True</td>\n",
       "      <td>True</td>\n",
       "      <td>True</td>\n",
       "      <td>True</td>\n",
       "      <td>False</td>\n",
       "      <td>False</td>\n",
       "    </tr>\n",
       "    <tr>\n",
       "      <th>3</th>\n",
       "      <td>Data Analyst</td>\n",
       "      <td>Celerity</td>\n",
       "      <td>4.1</td>\n",
       "      <td>IT Services</td>\n",
       "      <td>Information Technology</td>\n",
       "      <td>37.0</td>\n",
       "      <td>66.0</td>\n",
       "      <td>51.5</td>\n",
       "      <td>False</td>\n",
       "      <td>True</td>\n",
       "      <td>False</td>\n",
       "      <td>True</td>\n",
       "      <td>True</td>\n",
       "      <td>False</td>\n",
       "    </tr>\n",
       "    <tr>\n",
       "      <th>4</th>\n",
       "      <td>Reporting Data Analyst</td>\n",
       "      <td>FanDuel</td>\n",
       "      <td>3.9</td>\n",
       "      <td>Sports &amp; Recreation</td>\n",
       "      <td>Arts, Entertainment &amp; Recreation</td>\n",
       "      <td>37.0</td>\n",
       "      <td>66.0</td>\n",
       "      <td>51.5</td>\n",
       "      <td>True</td>\n",
       "      <td>True</td>\n",
       "      <td>True</td>\n",
       "      <td>False</td>\n",
       "      <td>False</td>\n",
       "      <td>False</td>\n",
       "    </tr>\n",
       "  </tbody>\n",
       "</table>\n",
       "</div>\n",
       "      <button class=\"colab-df-convert\" onclick=\"convertToInteractive('df-a68f285b-b063-46a8-a1bf-8ace1d37230c')\"\n",
       "              title=\"Convert this dataframe to an interactive table.\"\n",
       "              style=\"display:none;\">\n",
       "        \n",
       "  <svg xmlns=\"http://www.w3.org/2000/svg\" height=\"24px\"viewBox=\"0 0 24 24\"\n",
       "       width=\"24px\">\n",
       "    <path d=\"M0 0h24v24H0V0z\" fill=\"none\"/>\n",
       "    <path d=\"M18.56 5.44l.94 2.06.94-2.06 2.06-.94-2.06-.94-.94-2.06-.94 2.06-2.06.94zm-11 1L8.5 8.5l.94-2.06 2.06-.94-2.06-.94L8.5 2.5l-.94 2.06-2.06.94zm10 10l.94 2.06.94-2.06 2.06-.94-2.06-.94-.94-2.06-.94 2.06-2.06.94z\"/><path d=\"M17.41 7.96l-1.37-1.37c-.4-.4-.92-.59-1.43-.59-.52 0-1.04.2-1.43.59L10.3 9.45l-7.72 7.72c-.78.78-.78 2.05 0 2.83L4 21.41c.39.39.9.59 1.41.59.51 0 1.02-.2 1.41-.59l7.78-7.78 2.81-2.81c.8-.78.8-2.07 0-2.86zM5.41 20L4 18.59l7.72-7.72 1.47 1.35L5.41 20z\"/>\n",
       "  </svg>\n",
       "      </button>\n",
       "      \n",
       "  <style>\n",
       "    .colab-df-container {\n",
       "      display:flex;\n",
       "      flex-wrap:wrap;\n",
       "      gap: 12px;\n",
       "    }\n",
       "\n",
       "    .colab-df-convert {\n",
       "      background-color: #E8F0FE;\n",
       "      border: none;\n",
       "      border-radius: 50%;\n",
       "      cursor: pointer;\n",
       "      display: none;\n",
       "      fill: #1967D2;\n",
       "      height: 32px;\n",
       "      padding: 0 0 0 0;\n",
       "      width: 32px;\n",
       "    }\n",
       "\n",
       "    .colab-df-convert:hover {\n",
       "      background-color: #E2EBFA;\n",
       "      box-shadow: 0px 1px 2px rgba(60, 64, 67, 0.3), 0px 1px 3px 1px rgba(60, 64, 67, 0.15);\n",
       "      fill: #174EA6;\n",
       "    }\n",
       "\n",
       "    [theme=dark] .colab-df-convert {\n",
       "      background-color: #3B4455;\n",
       "      fill: #D2E3FC;\n",
       "    }\n",
       "\n",
       "    [theme=dark] .colab-df-convert:hover {\n",
       "      background-color: #434B5C;\n",
       "      box-shadow: 0px 1px 3px 1px rgba(0, 0, 0, 0.15);\n",
       "      filter: drop-shadow(0px 1px 2px rgba(0, 0, 0, 0.3));\n",
       "      fill: #FFFFFF;\n",
       "    }\n",
       "  </style>\n",
       "\n",
       "      <script>\n",
       "        const buttonEl =\n",
       "          document.querySelector('#df-a68f285b-b063-46a8-a1bf-8ace1d37230c button.colab-df-convert');\n",
       "        buttonEl.style.display =\n",
       "          google.colab.kernel.accessAllowed ? 'block' : 'none';\n",
       "\n",
       "        async function convertToInteractive(key) {\n",
       "          const element = document.querySelector('#df-a68f285b-b063-46a8-a1bf-8ace1d37230c');\n",
       "          const dataTable =\n",
       "            await google.colab.kernel.invokeFunction('convertToInteractive',\n",
       "                                                     [key], {});\n",
       "          if (!dataTable) return;\n",
       "\n",
       "          const docLinkHtml = 'Like what you see? Visit the ' +\n",
       "            '<a target=\"_blank\" href=https://colab.research.google.com/notebooks/data_table.ipynb>data table notebook</a>'\n",
       "            + ' to learn more about interactive tables.';\n",
       "          element.innerHTML = '';\n",
       "          dataTable['output_type'] = 'display_data';\n",
       "          await google.colab.output.renderOutput(dataTable, element);\n",
       "          const docLink = document.createElement('div');\n",
       "          docLink.innerHTML = docLinkHtml;\n",
       "          element.appendChild(docLink);\n",
       "        }\n",
       "      </script>\n",
       "    </div>\n",
       "  </div>\n",
       "  "
      ],
      "text/plain": [
       "                                           Job Title  \\\n",
       "0  Data Analyst, Center on Immigration and Justic...   \n",
       "1                               Quality Data Analyst   \n",
       "2  Senior Data Analyst, Insights & Analytics Team...   \n",
       "3                                       Data Analyst   \n",
       "4                             Reporting Data Analyst   \n",
       "\n",
       "                         Company Name  Rating  \\\n",
       "0           Vera Institute of Justice     3.2   \n",
       "1  Visiting Nurse Service of New York     3.8   \n",
       "2                         Squarespace     3.4   \n",
       "3                            Celerity     4.1   \n",
       "4                             FanDuel     3.9   \n",
       "\n",
       "                           Industry                            Sector  \\\n",
       "0                 Social Assistance                        Non-Profit   \n",
       "1  Health Care Services & Hospitals                       Health Care   \n",
       "2                          Internet            Information Technology   \n",
       "3                       IT Services            Information Technology   \n",
       "4               Sports & Recreation  Arts, Entertainment & Recreation   \n",
       "\n",
       "   min_salary(K)  max_salary(K)  avr_salary  python   SQL  Excel  Tableau  \\\n",
       "0           37.0           66.0        51.5    True  True  False    False   \n",
       "1           37.0           66.0        51.5   False  True   True    False   \n",
       "2           37.0           66.0        51.5    True  True   True     True   \n",
       "3           37.0           66.0        51.5   False  True  False     True   \n",
       "4           37.0           66.0        51.5    True  True   True    False   \n",
       "\n",
       "     Git  Power Bi  \n",
       "0   True     False  \n",
       "1  False     False  \n",
       "2  False     False  \n",
       "3   True     False  \n",
       "4  False     False  "
      ]
     },
     "execution_count": 52,
     "metadata": {},
     "output_type": "execute_result"
    }
   ],
   "source": [
    "new_df.head()"
   ]
  },
  {
   "cell_type": "code",
   "execution_count": 53,
   "metadata": {
    "colab": {
     "base_uri": "https://localhost:8080/"
    },
    "id": "iFJTTvKI0qx_",
    "outputId": "d05754f5-7113-4fe9-8033-50e1448b8968"
   },
   "outputs": [
    {
     "name": "stdout",
     "output_type": "stream",
     "text": [
      "<class 'pandas.core.frame.DataFrame'>\n",
      "Int64Index: 2251 entries, 0 to 2252\n",
      "Data columns (total 14 columns):\n",
      " #   Column         Non-Null Count  Dtype  \n",
      "---  ------         --------------  -----  \n",
      " 0   Job Title      2251 non-null   object \n",
      " 1   Company Name   2251 non-null   object \n",
      " 2   Rating         2251 non-null   float64\n",
      " 3   Industry       2251 non-null   object \n",
      " 4   Sector         2251 non-null   object \n",
      " 5   min_salary(K)  2251 non-null   float64\n",
      " 6   max_salary(K)  2251 non-null   float64\n",
      " 7   avr_salary     2251 non-null   float64\n",
      " 8   python         2251 non-null   bool   \n",
      " 9   SQL            2251 non-null   bool   \n",
      " 10  Excel          2251 non-null   bool   \n",
      " 11  Tableau        2251 non-null   bool   \n",
      " 12  Git            2251 non-null   bool   \n",
      " 13  Power Bi       2251 non-null   bool   \n",
      "dtypes: bool(6), float64(4), object(4)\n",
      "memory usage: 236.0+ KB\n"
     ]
    }
   ],
   "source": [
    "new_df.info()"
   ]
  },
  {
   "cell_type": "code",
   "execution_count": 54,
   "metadata": {
    "colab": {
     "base_uri": "https://localhost:8080/",
     "height": 300
    },
    "id": "U-Vq3J6Q0vnf",
    "outputId": "bdb57bfc-bf02-475e-9d47-1ce949472154"
   },
   "outputs": [
    {
     "data": {
      "text/html": [
       "\n",
       "  <div id=\"df-3156b306-998a-4fd8-837e-c0bc79d07582\">\n",
       "    <div class=\"colab-df-container\">\n",
       "      <div>\n",
       "<style scoped>\n",
       "    .dataframe tbody tr th:only-of-type {\n",
       "        vertical-align: middle;\n",
       "    }\n",
       "\n",
       "    .dataframe tbody tr th {\n",
       "        vertical-align: top;\n",
       "    }\n",
       "\n",
       "    .dataframe thead th {\n",
       "        text-align: right;\n",
       "    }\n",
       "</style>\n",
       "<table border=\"1\" class=\"dataframe\">\n",
       "  <thead>\n",
       "    <tr style=\"text-align: right;\">\n",
       "      <th></th>\n",
       "      <th>Rating</th>\n",
       "      <th>min_salary(K)</th>\n",
       "      <th>max_salary(K)</th>\n",
       "      <th>avr_salary</th>\n",
       "    </tr>\n",
       "  </thead>\n",
       "  <tbody>\n",
       "    <tr>\n",
       "      <th>count</th>\n",
       "      <td>2251.000000</td>\n",
       "      <td>2251.000000</td>\n",
       "      <td>2251.000000</td>\n",
       "      <td>2251.000000</td>\n",
       "    </tr>\n",
       "    <tr>\n",
       "      <th>mean</th>\n",
       "      <td>3.731566</td>\n",
       "      <td>54.267437</td>\n",
       "      <td>89.975122</td>\n",
       "      <td>72.121279</td>\n",
       "    </tr>\n",
       "    <tr>\n",
       "      <th>std</th>\n",
       "      <td>0.628670</td>\n",
       "      <td>19.579706</td>\n",
       "      <td>29.321502</td>\n",
       "      <td>23.605836</td>\n",
       "    </tr>\n",
       "    <tr>\n",
       "      <th>min</th>\n",
       "      <td>1.000000</td>\n",
       "      <td>24.000000</td>\n",
       "      <td>38.000000</td>\n",
       "      <td>33.500000</td>\n",
       "    </tr>\n",
       "    <tr>\n",
       "      <th>25%</th>\n",
       "      <td>3.400000</td>\n",
       "      <td>41.000000</td>\n",
       "      <td>70.000000</td>\n",
       "      <td>58.000000</td>\n",
       "    </tr>\n",
       "    <tr>\n",
       "      <th>50%</th>\n",
       "      <td>3.731566</td>\n",
       "      <td>50.000000</td>\n",
       "      <td>87.000000</td>\n",
       "      <td>69.000000</td>\n",
       "    </tr>\n",
       "    <tr>\n",
       "      <th>75%</th>\n",
       "      <td>4.000000</td>\n",
       "      <td>64.000000</td>\n",
       "      <td>104.000000</td>\n",
       "      <td>80.500000</td>\n",
       "    </tr>\n",
       "    <tr>\n",
       "      <th>max</th>\n",
       "      <td>5.000000</td>\n",
       "      <td>113.000000</td>\n",
       "      <td>190.000000</td>\n",
       "      <td>150.000000</td>\n",
       "    </tr>\n",
       "  </tbody>\n",
       "</table>\n",
       "</div>\n",
       "      <button class=\"colab-df-convert\" onclick=\"convertToInteractive('df-3156b306-998a-4fd8-837e-c0bc79d07582')\"\n",
       "              title=\"Convert this dataframe to an interactive table.\"\n",
       "              style=\"display:none;\">\n",
       "        \n",
       "  <svg xmlns=\"http://www.w3.org/2000/svg\" height=\"24px\"viewBox=\"0 0 24 24\"\n",
       "       width=\"24px\">\n",
       "    <path d=\"M0 0h24v24H0V0z\" fill=\"none\"/>\n",
       "    <path d=\"M18.56 5.44l.94 2.06.94-2.06 2.06-.94-2.06-.94-.94-2.06-.94 2.06-2.06.94zm-11 1L8.5 8.5l.94-2.06 2.06-.94-2.06-.94L8.5 2.5l-.94 2.06-2.06.94zm10 10l.94 2.06.94-2.06 2.06-.94-2.06-.94-.94-2.06-.94 2.06-2.06.94z\"/><path d=\"M17.41 7.96l-1.37-1.37c-.4-.4-.92-.59-1.43-.59-.52 0-1.04.2-1.43.59L10.3 9.45l-7.72 7.72c-.78.78-.78 2.05 0 2.83L4 21.41c.39.39.9.59 1.41.59.51 0 1.02-.2 1.41-.59l7.78-7.78 2.81-2.81c.8-.78.8-2.07 0-2.86zM5.41 20L4 18.59l7.72-7.72 1.47 1.35L5.41 20z\"/>\n",
       "  </svg>\n",
       "      </button>\n",
       "      \n",
       "  <style>\n",
       "    .colab-df-container {\n",
       "      display:flex;\n",
       "      flex-wrap:wrap;\n",
       "      gap: 12px;\n",
       "    }\n",
       "\n",
       "    .colab-df-convert {\n",
       "      background-color: #E8F0FE;\n",
       "      border: none;\n",
       "      border-radius: 50%;\n",
       "      cursor: pointer;\n",
       "      display: none;\n",
       "      fill: #1967D2;\n",
       "      height: 32px;\n",
       "      padding: 0 0 0 0;\n",
       "      width: 32px;\n",
       "    }\n",
       "\n",
       "    .colab-df-convert:hover {\n",
       "      background-color: #E2EBFA;\n",
       "      box-shadow: 0px 1px 2px rgba(60, 64, 67, 0.3), 0px 1px 3px 1px rgba(60, 64, 67, 0.15);\n",
       "      fill: #174EA6;\n",
       "    }\n",
       "\n",
       "    [theme=dark] .colab-df-convert {\n",
       "      background-color: #3B4455;\n",
       "      fill: #D2E3FC;\n",
       "    }\n",
       "\n",
       "    [theme=dark] .colab-df-convert:hover {\n",
       "      background-color: #434B5C;\n",
       "      box-shadow: 0px 1px 3px 1px rgba(0, 0, 0, 0.15);\n",
       "      filter: drop-shadow(0px 1px 2px rgba(0, 0, 0, 0.3));\n",
       "      fill: #FFFFFF;\n",
       "    }\n",
       "  </style>\n",
       "\n",
       "      <script>\n",
       "        const buttonEl =\n",
       "          document.querySelector('#df-3156b306-998a-4fd8-837e-c0bc79d07582 button.colab-df-convert');\n",
       "        buttonEl.style.display =\n",
       "          google.colab.kernel.accessAllowed ? 'block' : 'none';\n",
       "\n",
       "        async function convertToInteractive(key) {\n",
       "          const element = document.querySelector('#df-3156b306-998a-4fd8-837e-c0bc79d07582');\n",
       "          const dataTable =\n",
       "            await google.colab.kernel.invokeFunction('convertToInteractive',\n",
       "                                                     [key], {});\n",
       "          if (!dataTable) return;\n",
       "\n",
       "          const docLinkHtml = 'Like what you see? Visit the ' +\n",
       "            '<a target=\"_blank\" href=https://colab.research.google.com/notebooks/data_table.ipynb>data table notebook</a>'\n",
       "            + ' to learn more about interactive tables.';\n",
       "          element.innerHTML = '';\n",
       "          dataTable['output_type'] = 'display_data';\n",
       "          await google.colab.output.renderOutput(dataTable, element);\n",
       "          const docLink = document.createElement('div');\n",
       "          docLink.innerHTML = docLinkHtml;\n",
       "          element.appendChild(docLink);\n",
       "        }\n",
       "      </script>\n",
       "    </div>\n",
       "  </div>\n",
       "  "
      ],
      "text/plain": [
       "            Rating  min_salary(K)  max_salary(K)   avr_salary\n",
       "count  2251.000000    2251.000000    2251.000000  2251.000000\n",
       "mean      3.731566      54.267437      89.975122    72.121279\n",
       "std       0.628670      19.579706      29.321502    23.605836\n",
       "min       1.000000      24.000000      38.000000    33.500000\n",
       "25%       3.400000      41.000000      70.000000    58.000000\n",
       "50%       3.731566      50.000000      87.000000    69.000000\n",
       "75%       4.000000      64.000000     104.000000    80.500000\n",
       "max       5.000000     113.000000     190.000000   150.000000"
      ]
     },
     "execution_count": 54,
     "metadata": {},
     "output_type": "execute_result"
    }
   ],
   "source": [
    "new_df.describe()"
   ]
  },
  {
   "cell_type": "markdown",
   "metadata": {
    "id": "36YYr9AZdlmj"
   },
   "source": [
    "now it`s time to visualize te most skills related to data analyst"
   ]
  },
  {
   "cell_type": "code",
   "execution_count": 55,
   "metadata": {
    "id": "cuUG8YfRc4QI"
   },
   "outputs": [],
   "source": [
    "skills = df.groupby(\"Job Title\")[[\"python\", \"Excel\", \"SQL\", \"Tableau\",'Git','Power Bi']].sum().sort_values(by=\"python\", ascending=False).head(10)"
   ]
  },
  {
   "cell_type": "code",
   "execution_count": 56,
   "metadata": {
    "colab": {
     "base_uri": "https://localhost:8080/",
     "height": 394
    },
    "id": "5PrV_1RFfSgd",
    "outputId": "044f3e8a-3c60-4613-d16b-4fae87a90fe8"
   },
   "outputs": [
    {
     "data": {
      "text/html": [
       "\n",
       "  <div id=\"df-26c21048-4ac0-422c-b62c-24f93c7ebec8\">\n",
       "    <div class=\"colab-df-container\">\n",
       "      <div>\n",
       "<style scoped>\n",
       "    .dataframe tbody tr th:only-of-type {\n",
       "        vertical-align: middle;\n",
       "    }\n",
       "\n",
       "    .dataframe tbody tr th {\n",
       "        vertical-align: top;\n",
       "    }\n",
       "\n",
       "    .dataframe thead th {\n",
       "        text-align: right;\n",
       "    }\n",
       "</style>\n",
       "<table border=\"1\" class=\"dataframe\">\n",
       "  <thead>\n",
       "    <tr style=\"text-align: right;\">\n",
       "      <th></th>\n",
       "      <th>python</th>\n",
       "      <th>Excel</th>\n",
       "      <th>SQL</th>\n",
       "      <th>Tableau</th>\n",
       "      <th>Git</th>\n",
       "      <th>Power Bi</th>\n",
       "    </tr>\n",
       "    <tr>\n",
       "      <th>Job Title</th>\n",
       "      <th></th>\n",
       "      <th></th>\n",
       "      <th></th>\n",
       "      <th></th>\n",
       "      <th></th>\n",
       "      <th></th>\n",
       "    </tr>\n",
       "  </thead>\n",
       "  <tbody>\n",
       "    <tr>\n",
       "      <th>Data Analyst</th>\n",
       "      <td>125</td>\n",
       "      <td>238</td>\n",
       "      <td>300</td>\n",
       "      <td>110</td>\n",
       "      <td>50</td>\n",
       "      <td>39</td>\n",
       "    </tr>\n",
       "    <tr>\n",
       "      <th>Senior Data Analyst</th>\n",
       "      <td>68</td>\n",
       "      <td>67</td>\n",
       "      <td>104</td>\n",
       "      <td>64</td>\n",
       "      <td>29</td>\n",
       "      <td>17</td>\n",
       "    </tr>\n",
       "    <tr>\n",
       "      <th>Business Data Analyst</th>\n",
       "      <td>11</td>\n",
       "      <td>17</td>\n",
       "      <td>21</td>\n",
       "      <td>11</td>\n",
       "      <td>2</td>\n",
       "      <td>3</td>\n",
       "    </tr>\n",
       "    <tr>\n",
       "      <th>NY Healthcare Data/Reporting Analyst</th>\n",
       "      <td>5</td>\n",
       "      <td>5</td>\n",
       "      <td>5</td>\n",
       "      <td>5</td>\n",
       "      <td>0</td>\n",
       "      <td>0</td>\n",
       "    </tr>\n",
       "    <tr>\n",
       "      <th>Marketing Data Analyst</th>\n",
       "      <td>5</td>\n",
       "      <td>6</td>\n",
       "      <td>9</td>\n",
       "      <td>5</td>\n",
       "      <td>4</td>\n",
       "      <td>0</td>\n",
       "    </tr>\n",
       "    <tr>\n",
       "      <th>Data Analyst III (Healthcare Analytics)</th>\n",
       "      <td>5</td>\n",
       "      <td>5</td>\n",
       "      <td>5</td>\n",
       "      <td>5</td>\n",
       "      <td>0</td>\n",
       "      <td>0</td>\n",
       "    </tr>\n",
       "    <tr>\n",
       "      <th>Lead Data Analyst</th>\n",
       "      <td>5</td>\n",
       "      <td>7</td>\n",
       "      <td>13</td>\n",
       "      <td>10</td>\n",
       "      <td>3</td>\n",
       "      <td>6</td>\n",
       "    </tr>\n",
       "    <tr>\n",
       "      <th>TX Healthcare Data/Reporting Analyst</th>\n",
       "      <td>4</td>\n",
       "      <td>4</td>\n",
       "      <td>4</td>\n",
       "      <td>4</td>\n",
       "      <td>0</td>\n",
       "      <td>0</td>\n",
       "    </tr>\n",
       "    <tr>\n",
       "      <th>Data Analyst, Data &amp; Analytics (Advanced Analytics) Manager (Multiple Positions)</th>\n",
       "      <td>4</td>\n",
       "      <td>0</td>\n",
       "      <td>4</td>\n",
       "      <td>4</td>\n",
       "      <td>4</td>\n",
       "      <td>4</td>\n",
       "    </tr>\n",
       "    <tr>\n",
       "      <th>Healthcare Data/Reporting Analyst</th>\n",
       "      <td>4</td>\n",
       "      <td>4</td>\n",
       "      <td>4</td>\n",
       "      <td>4</td>\n",
       "      <td>0</td>\n",
       "      <td>0</td>\n",
       "    </tr>\n",
       "  </tbody>\n",
       "</table>\n",
       "</div>\n",
       "      <button class=\"colab-df-convert\" onclick=\"convertToInteractive('df-26c21048-4ac0-422c-b62c-24f93c7ebec8')\"\n",
       "              title=\"Convert this dataframe to an interactive table.\"\n",
       "              style=\"display:none;\">\n",
       "        \n",
       "  <svg xmlns=\"http://www.w3.org/2000/svg\" height=\"24px\"viewBox=\"0 0 24 24\"\n",
       "       width=\"24px\">\n",
       "    <path d=\"M0 0h24v24H0V0z\" fill=\"none\"/>\n",
       "    <path d=\"M18.56 5.44l.94 2.06.94-2.06 2.06-.94-2.06-.94-.94-2.06-.94 2.06-2.06.94zm-11 1L8.5 8.5l.94-2.06 2.06-.94-2.06-.94L8.5 2.5l-.94 2.06-2.06.94zm10 10l.94 2.06.94-2.06 2.06-.94-2.06-.94-.94-2.06-.94 2.06-2.06.94z\"/><path d=\"M17.41 7.96l-1.37-1.37c-.4-.4-.92-.59-1.43-.59-.52 0-1.04.2-1.43.59L10.3 9.45l-7.72 7.72c-.78.78-.78 2.05 0 2.83L4 21.41c.39.39.9.59 1.41.59.51 0 1.02-.2 1.41-.59l7.78-7.78 2.81-2.81c.8-.78.8-2.07 0-2.86zM5.41 20L4 18.59l7.72-7.72 1.47 1.35L5.41 20z\"/>\n",
       "  </svg>\n",
       "      </button>\n",
       "      \n",
       "  <style>\n",
       "    .colab-df-container {\n",
       "      display:flex;\n",
       "      flex-wrap:wrap;\n",
       "      gap: 12px;\n",
       "    }\n",
       "\n",
       "    .colab-df-convert {\n",
       "      background-color: #E8F0FE;\n",
       "      border: none;\n",
       "      border-radius: 50%;\n",
       "      cursor: pointer;\n",
       "      display: none;\n",
       "      fill: #1967D2;\n",
       "      height: 32px;\n",
       "      padding: 0 0 0 0;\n",
       "      width: 32px;\n",
       "    }\n",
       "\n",
       "    .colab-df-convert:hover {\n",
       "      background-color: #E2EBFA;\n",
       "      box-shadow: 0px 1px 2px rgba(60, 64, 67, 0.3), 0px 1px 3px 1px rgba(60, 64, 67, 0.15);\n",
       "      fill: #174EA6;\n",
       "    }\n",
       "\n",
       "    [theme=dark] .colab-df-convert {\n",
       "      background-color: #3B4455;\n",
       "      fill: #D2E3FC;\n",
       "    }\n",
       "\n",
       "    [theme=dark] .colab-df-convert:hover {\n",
       "      background-color: #434B5C;\n",
       "      box-shadow: 0px 1px 3px 1px rgba(0, 0, 0, 0.15);\n",
       "      filter: drop-shadow(0px 1px 2px rgba(0, 0, 0, 0.3));\n",
       "      fill: #FFFFFF;\n",
       "    }\n",
       "  </style>\n",
       "\n",
       "      <script>\n",
       "        const buttonEl =\n",
       "          document.querySelector('#df-26c21048-4ac0-422c-b62c-24f93c7ebec8 button.colab-df-convert');\n",
       "        buttonEl.style.display =\n",
       "          google.colab.kernel.accessAllowed ? 'block' : 'none';\n",
       "\n",
       "        async function convertToInteractive(key) {\n",
       "          const element = document.querySelector('#df-26c21048-4ac0-422c-b62c-24f93c7ebec8');\n",
       "          const dataTable =\n",
       "            await google.colab.kernel.invokeFunction('convertToInteractive',\n",
       "                                                     [key], {});\n",
       "          if (!dataTable) return;\n",
       "\n",
       "          const docLinkHtml = 'Like what you see? Visit the ' +\n",
       "            '<a target=\"_blank\" href=https://colab.research.google.com/notebooks/data_table.ipynb>data table notebook</a>'\n",
       "            + ' to learn more about interactive tables.';\n",
       "          element.innerHTML = '';\n",
       "          dataTable['output_type'] = 'display_data';\n",
       "          await google.colab.output.renderOutput(dataTable, element);\n",
       "          const docLink = document.createElement('div');\n",
       "          docLink.innerHTML = docLinkHtml;\n",
       "          element.appendChild(docLink);\n",
       "        }\n",
       "      </script>\n",
       "    </div>\n",
       "  </div>\n",
       "  "
      ],
      "text/plain": [
       "                                                    python  Excel  SQL  \\\n",
       "Job Title                                                                \n",
       "Data Analyst                                           125    238  300   \n",
       "Senior Data Analyst                                     68     67  104   \n",
       "Business Data Analyst                                   11     17   21   \n",
       "NY Healthcare Data/Reporting Analyst                     5      5    5   \n",
       "Marketing Data Analyst                                   5      6    9   \n",
       "Data Analyst III (Healthcare Analytics)                  5      5    5   \n",
       "Lead Data Analyst                                        5      7   13   \n",
       "TX Healthcare Data/Reporting Analyst                     4      4    4   \n",
       "Data Analyst, Data & Analytics (Advanced Analyt...       4      0    4   \n",
       "Healthcare Data/Reporting Analyst                        4      4    4   \n",
       "\n",
       "                                                    Tableau  Git  Power Bi  \n",
       "Job Title                                                                   \n",
       "Data Analyst                                            110   50        39  \n",
       "Senior Data Analyst                                      64   29        17  \n",
       "Business Data Analyst                                    11    2         3  \n",
       "NY Healthcare Data/Reporting Analyst                      5    0         0  \n",
       "Marketing Data Analyst                                    5    4         0  \n",
       "Data Analyst III (Healthcare Analytics)                   5    0         0  \n",
       "Lead Data Analyst                                        10    3         6  \n",
       "TX Healthcare Data/Reporting Analyst                      4    0         0  \n",
       "Data Analyst, Data & Analytics (Advanced Analyt...        4    4         4  \n",
       "Healthcare Data/Reporting Analyst                         4    0         0  "
      ]
     },
     "execution_count": 56,
     "metadata": {},
     "output_type": "execute_result"
    }
   ],
   "source": [
    "skills"
   ]
  },
  {
   "cell_type": "code",
   "execution_count": 57,
   "metadata": {
    "colab": {
     "base_uri": "https://localhost:8080/",
     "height": 542
    },
    "id": "OrzKk05nd9w4",
    "outputId": "c14d5157-a3e9-4d40-c48c-d36155451123"
   },
   "outputs": [
    {
     "data": {
      "text/html": [
       "<html>\n",
       "<head><meta charset=\"utf-8\" /></head>\n",
       "<body>\n",
       "    <div>            <script src=\"https://cdnjs.cloudflare.com/ajax/libs/mathjax/2.7.5/MathJax.js?config=TeX-AMS-MML_SVG\"></script><script type=\"text/javascript\">if (window.MathJax) {MathJax.Hub.Config({SVG: {font: \"STIX-Web\"}});}</script>                <script type=\"text/javascript\">window.PlotlyConfig = {MathJaxConfig: 'local'};</script>\n",
       "        <script src=\"https://cdn.plot.ly/plotly-2.8.3.min.js\"></script>                <div id=\"5e8d939e-8f7f-44fa-986b-17ac9e4ed06f\" class=\"plotly-graph-div\" style=\"height:525px; width:100%;\"></div>            <script type=\"text/javascript\">                                    window.PLOTLYENV=window.PLOTLYENV || {};                                    if (document.getElementById(\"5e8d939e-8f7f-44fa-986b-17ac9e4ed06f\")) {                    Plotly.newPlot(                        \"5e8d939e-8f7f-44fa-986b-17ac9e4ed06f\",                        [{\"alignmentgroup\":\"True\",\"hovertemplate\":\"variable=python<br>Job Title=%{x}<br>value=%{y}<extra></extra>\",\"legendgroup\":\"python\",\"marker\":{\"color\":\"#636efa\",\"pattern\":{\"shape\":\"\"}},\"name\":\"python\",\"offsetgroup\":\"python\",\"orientation\":\"v\",\"showlegend\":true,\"textposition\":\"auto\",\"x\":[\"Data Analyst\",\"Senior Data Analyst\",\"Business Data Analyst\",\"NY Healthcare Data/Reporting Analyst\",\"Marketing Data Analyst\",\"Data Analyst III (Healthcare Analytics)\",\"Lead Data Analyst\",\"TX Healthcare Data/Reporting Analyst\",\"Data Analyst, Data & Analytics (Advanced Analytics) Manager (Multiple Positions)\",\"Healthcare Data/Reporting Analyst\"],\"xaxis\":\"x\",\"y\":[125,68,11,5,5,5,5,4,4,4],\"yaxis\":\"y\",\"type\":\"bar\"},{\"alignmentgroup\":\"True\",\"hovertemplate\":\"variable=Excel<br>Job Title=%{x}<br>value=%{y}<extra></extra>\",\"legendgroup\":\"Excel\",\"marker\":{\"color\":\"#EF553B\",\"pattern\":{\"shape\":\"\"}},\"name\":\"Excel\",\"offsetgroup\":\"Excel\",\"orientation\":\"v\",\"showlegend\":true,\"textposition\":\"auto\",\"x\":[\"Data Analyst\",\"Senior Data Analyst\",\"Business Data Analyst\",\"NY Healthcare Data/Reporting Analyst\",\"Marketing Data Analyst\",\"Data Analyst III (Healthcare Analytics)\",\"Lead Data Analyst\",\"TX Healthcare Data/Reporting Analyst\",\"Data Analyst, Data & Analytics (Advanced Analytics) Manager (Multiple Positions)\",\"Healthcare Data/Reporting Analyst\"],\"xaxis\":\"x\",\"y\":[238,67,17,5,6,5,7,4,0,4],\"yaxis\":\"y\",\"type\":\"bar\"},{\"alignmentgroup\":\"True\",\"hovertemplate\":\"variable=SQL<br>Job Title=%{x}<br>value=%{y}<extra></extra>\",\"legendgroup\":\"SQL\",\"marker\":{\"color\":\"#00cc96\",\"pattern\":{\"shape\":\"\"}},\"name\":\"SQL\",\"offsetgroup\":\"SQL\",\"orientation\":\"v\",\"showlegend\":true,\"textposition\":\"auto\",\"x\":[\"Data Analyst\",\"Senior Data Analyst\",\"Business Data Analyst\",\"NY Healthcare Data/Reporting Analyst\",\"Marketing Data Analyst\",\"Data Analyst III (Healthcare Analytics)\",\"Lead Data Analyst\",\"TX Healthcare Data/Reporting Analyst\",\"Data Analyst, Data & Analytics (Advanced Analytics) Manager (Multiple Positions)\",\"Healthcare Data/Reporting Analyst\"],\"xaxis\":\"x\",\"y\":[300,104,21,5,9,5,13,4,4,4],\"yaxis\":\"y\",\"type\":\"bar\"},{\"alignmentgroup\":\"True\",\"hovertemplate\":\"variable=Tableau<br>Job Title=%{x}<br>value=%{y}<extra></extra>\",\"legendgroup\":\"Tableau\",\"marker\":{\"color\":\"#ab63fa\",\"pattern\":{\"shape\":\"\"}},\"name\":\"Tableau\",\"offsetgroup\":\"Tableau\",\"orientation\":\"v\",\"showlegend\":true,\"textposition\":\"auto\",\"x\":[\"Data Analyst\",\"Senior Data Analyst\",\"Business Data Analyst\",\"NY Healthcare Data/Reporting Analyst\",\"Marketing Data Analyst\",\"Data Analyst III (Healthcare Analytics)\",\"Lead Data Analyst\",\"TX Healthcare Data/Reporting Analyst\",\"Data Analyst, Data & Analytics (Advanced Analytics) Manager (Multiple Positions)\",\"Healthcare Data/Reporting Analyst\"],\"xaxis\":\"x\",\"y\":[110,64,11,5,5,5,10,4,4,4],\"yaxis\":\"y\",\"type\":\"bar\"},{\"alignmentgroup\":\"True\",\"hovertemplate\":\"variable=Git<br>Job Title=%{x}<br>value=%{y}<extra></extra>\",\"legendgroup\":\"Git\",\"marker\":{\"color\":\"#FFA15A\",\"pattern\":{\"shape\":\"\"}},\"name\":\"Git\",\"offsetgroup\":\"Git\",\"orientation\":\"v\",\"showlegend\":true,\"textposition\":\"auto\",\"x\":[\"Data Analyst\",\"Senior Data Analyst\",\"Business Data Analyst\",\"NY Healthcare Data/Reporting Analyst\",\"Marketing Data Analyst\",\"Data Analyst III (Healthcare Analytics)\",\"Lead Data Analyst\",\"TX Healthcare Data/Reporting Analyst\",\"Data Analyst, Data & Analytics (Advanced Analytics) Manager (Multiple Positions)\",\"Healthcare Data/Reporting Analyst\"],\"xaxis\":\"x\",\"y\":[50,29,2,0,4,0,3,0,4,0],\"yaxis\":\"y\",\"type\":\"bar\"},{\"alignmentgroup\":\"True\",\"hovertemplate\":\"variable=Power Bi<br>Job Title=%{x}<br>value=%{y}<extra></extra>\",\"legendgroup\":\"Power Bi\",\"marker\":{\"color\":\"#19d3f3\",\"pattern\":{\"shape\":\"\"}},\"name\":\"Power Bi\",\"offsetgroup\":\"Power Bi\",\"orientation\":\"v\",\"showlegend\":true,\"textposition\":\"auto\",\"x\":[\"Data Analyst\",\"Senior Data Analyst\",\"Business Data Analyst\",\"NY Healthcare Data/Reporting Analyst\",\"Marketing Data Analyst\",\"Data Analyst III (Healthcare Analytics)\",\"Lead Data Analyst\",\"TX Healthcare Data/Reporting Analyst\",\"Data Analyst, Data & Analytics (Advanced Analytics) Manager (Multiple Positions)\",\"Healthcare Data/Reporting Analyst\"],\"xaxis\":\"x\",\"y\":[39,17,3,0,0,0,6,0,4,0],\"yaxis\":\"y\",\"type\":\"bar\"}],                        {\"template\":{\"data\":{\"bar\":[{\"error_x\":{\"color\":\"#2a3f5f\"},\"error_y\":{\"color\":\"#2a3f5f\"},\"marker\":{\"line\":{\"color\":\"#E5ECF6\",\"width\":0.5},\"pattern\":{\"fillmode\":\"overlay\",\"size\":10,\"solidity\":0.2}},\"type\":\"bar\"}],\"barpolar\":[{\"marker\":{\"line\":{\"color\":\"#E5ECF6\",\"width\":0.5},\"pattern\":{\"fillmode\":\"overlay\",\"size\":10,\"solidity\":0.2}},\"type\":\"barpolar\"}],\"carpet\":[{\"aaxis\":{\"endlinecolor\":\"#2a3f5f\",\"gridcolor\":\"white\",\"linecolor\":\"white\",\"minorgridcolor\":\"white\",\"startlinecolor\":\"#2a3f5f\"},\"baxis\":{\"endlinecolor\":\"#2a3f5f\",\"gridcolor\":\"white\",\"linecolor\":\"white\",\"minorgridcolor\":\"white\",\"startlinecolor\":\"#2a3f5f\"},\"type\":\"carpet\"}],\"choropleth\":[{\"colorbar\":{\"outlinewidth\":0,\"ticks\":\"\"},\"type\":\"choropleth\"}],\"contour\":[{\"colorbar\":{\"outlinewidth\":0,\"ticks\":\"\"},\"colorscale\":[[0.0,\"#0d0887\"],[0.1111111111111111,\"#46039f\"],[0.2222222222222222,\"#7201a8\"],[0.3333333333333333,\"#9c179e\"],[0.4444444444444444,\"#bd3786\"],[0.5555555555555556,\"#d8576b\"],[0.6666666666666666,\"#ed7953\"],[0.7777777777777778,\"#fb9f3a\"],[0.8888888888888888,\"#fdca26\"],[1.0,\"#f0f921\"]],\"type\":\"contour\"}],\"contourcarpet\":[{\"colorbar\":{\"outlinewidth\":0,\"ticks\":\"\"},\"type\":\"contourcarpet\"}],\"heatmap\":[{\"colorbar\":{\"outlinewidth\":0,\"ticks\":\"\"},\"colorscale\":[[0.0,\"#0d0887\"],[0.1111111111111111,\"#46039f\"],[0.2222222222222222,\"#7201a8\"],[0.3333333333333333,\"#9c179e\"],[0.4444444444444444,\"#bd3786\"],[0.5555555555555556,\"#d8576b\"],[0.6666666666666666,\"#ed7953\"],[0.7777777777777778,\"#fb9f3a\"],[0.8888888888888888,\"#fdca26\"],[1.0,\"#f0f921\"]],\"type\":\"heatmap\"}],\"heatmapgl\":[{\"colorbar\":{\"outlinewidth\":0,\"ticks\":\"\"},\"colorscale\":[[0.0,\"#0d0887\"],[0.1111111111111111,\"#46039f\"],[0.2222222222222222,\"#7201a8\"],[0.3333333333333333,\"#9c179e\"],[0.4444444444444444,\"#bd3786\"],[0.5555555555555556,\"#d8576b\"],[0.6666666666666666,\"#ed7953\"],[0.7777777777777778,\"#fb9f3a\"],[0.8888888888888888,\"#fdca26\"],[1.0,\"#f0f921\"]],\"type\":\"heatmapgl\"}],\"histogram\":[{\"marker\":{\"pattern\":{\"fillmode\":\"overlay\",\"size\":10,\"solidity\":0.2}},\"type\":\"histogram\"}],\"histogram2d\":[{\"colorbar\":{\"outlinewidth\":0,\"ticks\":\"\"},\"colorscale\":[[0.0,\"#0d0887\"],[0.1111111111111111,\"#46039f\"],[0.2222222222222222,\"#7201a8\"],[0.3333333333333333,\"#9c179e\"],[0.4444444444444444,\"#bd3786\"],[0.5555555555555556,\"#d8576b\"],[0.6666666666666666,\"#ed7953\"],[0.7777777777777778,\"#fb9f3a\"],[0.8888888888888888,\"#fdca26\"],[1.0,\"#f0f921\"]],\"type\":\"histogram2d\"}],\"histogram2dcontour\":[{\"colorbar\":{\"outlinewidth\":0,\"ticks\":\"\"},\"colorscale\":[[0.0,\"#0d0887\"],[0.1111111111111111,\"#46039f\"],[0.2222222222222222,\"#7201a8\"],[0.3333333333333333,\"#9c179e\"],[0.4444444444444444,\"#bd3786\"],[0.5555555555555556,\"#d8576b\"],[0.6666666666666666,\"#ed7953\"],[0.7777777777777778,\"#fb9f3a\"],[0.8888888888888888,\"#fdca26\"],[1.0,\"#f0f921\"]],\"type\":\"histogram2dcontour\"}],\"mesh3d\":[{\"colorbar\":{\"outlinewidth\":0,\"ticks\":\"\"},\"type\":\"mesh3d\"}],\"parcoords\":[{\"line\":{\"colorbar\":{\"outlinewidth\":0,\"ticks\":\"\"}},\"type\":\"parcoords\"}],\"pie\":[{\"automargin\":true,\"type\":\"pie\"}],\"scatter\":[{\"marker\":{\"colorbar\":{\"outlinewidth\":0,\"ticks\":\"\"}},\"type\":\"scatter\"}],\"scatter3d\":[{\"line\":{\"colorbar\":{\"outlinewidth\":0,\"ticks\":\"\"}},\"marker\":{\"colorbar\":{\"outlinewidth\":0,\"ticks\":\"\"}},\"type\":\"scatter3d\"}],\"scattercarpet\":[{\"marker\":{\"colorbar\":{\"outlinewidth\":0,\"ticks\":\"\"}},\"type\":\"scattercarpet\"}],\"scattergeo\":[{\"marker\":{\"colorbar\":{\"outlinewidth\":0,\"ticks\":\"\"}},\"type\":\"scattergeo\"}],\"scattergl\":[{\"marker\":{\"colorbar\":{\"outlinewidth\":0,\"ticks\":\"\"}},\"type\":\"scattergl\"}],\"scattermapbox\":[{\"marker\":{\"colorbar\":{\"outlinewidth\":0,\"ticks\":\"\"}},\"type\":\"scattermapbox\"}],\"scatterpolar\":[{\"marker\":{\"colorbar\":{\"outlinewidth\":0,\"ticks\":\"\"}},\"type\":\"scatterpolar\"}],\"scatterpolargl\":[{\"marker\":{\"colorbar\":{\"outlinewidth\":0,\"ticks\":\"\"}},\"type\":\"scatterpolargl\"}],\"scatterternary\":[{\"marker\":{\"colorbar\":{\"outlinewidth\":0,\"ticks\":\"\"}},\"type\":\"scatterternary\"}],\"surface\":[{\"colorbar\":{\"outlinewidth\":0,\"ticks\":\"\"},\"colorscale\":[[0.0,\"#0d0887\"],[0.1111111111111111,\"#46039f\"],[0.2222222222222222,\"#7201a8\"],[0.3333333333333333,\"#9c179e\"],[0.4444444444444444,\"#bd3786\"],[0.5555555555555556,\"#d8576b\"],[0.6666666666666666,\"#ed7953\"],[0.7777777777777778,\"#fb9f3a\"],[0.8888888888888888,\"#fdca26\"],[1.0,\"#f0f921\"]],\"type\":\"surface\"}],\"table\":[{\"cells\":{\"fill\":{\"color\":\"#EBF0F8\"},\"line\":{\"color\":\"white\"}},\"header\":{\"fill\":{\"color\":\"#C8D4E3\"},\"line\":{\"color\":\"white\"}},\"type\":\"table\"}]},\"layout\":{\"annotationdefaults\":{\"arrowcolor\":\"#2a3f5f\",\"arrowhead\":0,\"arrowwidth\":1},\"autotypenumbers\":\"strict\",\"coloraxis\":{\"colorbar\":{\"outlinewidth\":0,\"ticks\":\"\"}},\"colorscale\":{\"diverging\":[[0,\"#8e0152\"],[0.1,\"#c51b7d\"],[0.2,\"#de77ae\"],[0.3,\"#f1b6da\"],[0.4,\"#fde0ef\"],[0.5,\"#f7f7f7\"],[0.6,\"#e6f5d0\"],[0.7,\"#b8e186\"],[0.8,\"#7fbc41\"],[0.9,\"#4d9221\"],[1,\"#276419\"]],\"sequential\":[[0.0,\"#0d0887\"],[0.1111111111111111,\"#46039f\"],[0.2222222222222222,\"#7201a8\"],[0.3333333333333333,\"#9c179e\"],[0.4444444444444444,\"#bd3786\"],[0.5555555555555556,\"#d8576b\"],[0.6666666666666666,\"#ed7953\"],[0.7777777777777778,\"#fb9f3a\"],[0.8888888888888888,\"#fdca26\"],[1.0,\"#f0f921\"]],\"sequentialminus\":[[0.0,\"#0d0887\"],[0.1111111111111111,\"#46039f\"],[0.2222222222222222,\"#7201a8\"],[0.3333333333333333,\"#9c179e\"],[0.4444444444444444,\"#bd3786\"],[0.5555555555555556,\"#d8576b\"],[0.6666666666666666,\"#ed7953\"],[0.7777777777777778,\"#fb9f3a\"],[0.8888888888888888,\"#fdca26\"],[1.0,\"#f0f921\"]]},\"colorway\":[\"#636efa\",\"#EF553B\",\"#00cc96\",\"#ab63fa\",\"#FFA15A\",\"#19d3f3\",\"#FF6692\",\"#B6E880\",\"#FF97FF\",\"#FECB52\"],\"font\":{\"color\":\"#2a3f5f\"},\"geo\":{\"bgcolor\":\"white\",\"lakecolor\":\"white\",\"landcolor\":\"#E5ECF6\",\"showlakes\":true,\"showland\":true,\"subunitcolor\":\"white\"},\"hoverlabel\":{\"align\":\"left\"},\"hovermode\":\"closest\",\"mapbox\":{\"style\":\"light\"},\"paper_bgcolor\":\"white\",\"plot_bgcolor\":\"#E5ECF6\",\"polar\":{\"angularaxis\":{\"gridcolor\":\"white\",\"linecolor\":\"white\",\"ticks\":\"\"},\"bgcolor\":\"#E5ECF6\",\"radialaxis\":{\"gridcolor\":\"white\",\"linecolor\":\"white\",\"ticks\":\"\"}},\"scene\":{\"xaxis\":{\"backgroundcolor\":\"#E5ECF6\",\"gridcolor\":\"white\",\"gridwidth\":2,\"linecolor\":\"white\",\"showbackground\":true,\"ticks\":\"\",\"zerolinecolor\":\"white\"},\"yaxis\":{\"backgroundcolor\":\"#E5ECF6\",\"gridcolor\":\"white\",\"gridwidth\":2,\"linecolor\":\"white\",\"showbackground\":true,\"ticks\":\"\",\"zerolinecolor\":\"white\"},\"zaxis\":{\"backgroundcolor\":\"#E5ECF6\",\"gridcolor\":\"white\",\"gridwidth\":2,\"linecolor\":\"white\",\"showbackground\":true,\"ticks\":\"\",\"zerolinecolor\":\"white\"}},\"shapedefaults\":{\"line\":{\"color\":\"#2a3f5f\"}},\"ternary\":{\"aaxis\":{\"gridcolor\":\"white\",\"linecolor\":\"white\",\"ticks\":\"\"},\"baxis\":{\"gridcolor\":\"white\",\"linecolor\":\"white\",\"ticks\":\"\"},\"bgcolor\":\"#E5ECF6\",\"caxis\":{\"gridcolor\":\"white\",\"linecolor\":\"white\",\"ticks\":\"\"}},\"title\":{\"x\":0.05},\"xaxis\":{\"automargin\":true,\"gridcolor\":\"white\",\"linecolor\":\"white\",\"ticks\":\"\",\"title\":{\"standoff\":15},\"zerolinecolor\":\"white\",\"zerolinewidth\":2},\"yaxis\":{\"automargin\":true,\"gridcolor\":\"white\",\"linecolor\":\"white\",\"ticks\":\"\",\"title\":{\"standoff\":15},\"zerolinecolor\":\"white\",\"zerolinewidth\":2}}},\"xaxis\":{\"anchor\":\"y\",\"domain\":[0.0,1.0],\"title\":{\"text\":\"Job Title\"}},\"yaxis\":{\"anchor\":\"x\",\"domain\":[0.0,1.0],\"title\":{\"text\":\"value\"}},\"legend\":{\"title\":{\"text\":\"variable\"},\"tracegroupgap\":0},\"title\":{\"text\":\"Data analyst skills\"},\"barmode\":\"relative\"},                        {\"responsive\": true}                    ).then(function(){\n",
       "                            \n",
       "var gd = document.getElementById('5e8d939e-8f7f-44fa-986b-17ac9e4ed06f');\n",
       "var x = new MutationObserver(function (mutations, observer) {{\n",
       "        var display = window.getComputedStyle(gd).display;\n",
       "        if (!display || display === 'none') {{\n",
       "            console.log([gd, 'removed!']);\n",
       "            Plotly.purge(gd);\n",
       "            observer.disconnect();\n",
       "        }}\n",
       "}});\n",
       "\n",
       "// Listen for the removal of the full notebook cells\n",
       "var notebookContainer = gd.closest('#notebook-container');\n",
       "if (notebookContainer) {{\n",
       "    x.observe(notebookContainer, {childList: true});\n",
       "}}\n",
       "\n",
       "// Listen for the clearing of the current output cell\n",
       "var outputEl = gd.closest('.output');\n",
       "if (outputEl) {{\n",
       "    x.observe(outputEl, {childList: true});\n",
       "}}\n",
       "\n",
       "                        })                };                            </script>        </div>\n",
       "</body>\n",
       "</html>"
      ]
     },
     "metadata": {},
     "output_type": "display_data"
    }
   ],
   "source": [
    "fig = px.bar(skills, x=skills.index, y=[\"python\", \"Excel\", \"SQL\", \"Tableau\",\"Git\",\"Power Bi\"], title=\"Data analyst skills\")\n",
    "fig.show()"
   ]
  },
  {
   "cell_type": "markdown",
   "metadata": {
    "id": "Qp53jOutjpx8"
   },
   "source": [
    "we need to calculate the number of opening jobs by sector and industry"
   ]
  },
  {
   "cell_type": "code",
   "execution_count": 58,
   "metadata": {
    "id": "7SHT3VOXjpfY"
   },
   "outputs": [],
   "source": [
    "job_sector=pd.DataFrame(df.groupby('Sector')['Sector'].count().sort_values(ascending=False).head(30))"
   ]
  },
  {
   "cell_type": "code",
   "execution_count": 59,
   "metadata": {
    "colab": {
     "base_uri": "https://localhost:8080/",
     "height": 542
    },
    "id": "MSTZJlE2gF9W",
    "outputId": "5de1ab15-03e7-4d8f-f261-f5764722d179"
   },
   "outputs": [
    {
     "data": {
      "text/html": [
       "<html>\n",
       "<head><meta charset=\"utf-8\" /></head>\n",
       "<body>\n",
       "    <div>            <script src=\"https://cdnjs.cloudflare.com/ajax/libs/mathjax/2.7.5/MathJax.js?config=TeX-AMS-MML_SVG\"></script><script type=\"text/javascript\">if (window.MathJax) {MathJax.Hub.Config({SVG: {font: \"STIX-Web\"}});}</script>                <script type=\"text/javascript\">window.PlotlyConfig = {MathJaxConfig: 'local'};</script>\n",
       "        <script src=\"https://cdn.plot.ly/plotly-2.8.3.min.js\"></script>                <div id=\"c5af28cb-d0b8-4e75-ac17-374720c8dc6f\" class=\"plotly-graph-div\" style=\"height:525px; width:100%;\"></div>            <script type=\"text/javascript\">                                    window.PLOTLYENV=window.PLOTLYENV || {};                                    if (document.getElementById(\"c5af28cb-d0b8-4e75-ac17-374720c8dc6f\")) {                    Plotly.newPlot(                        \"c5af28cb-d0b8-4e75-ac17-374720c8dc6f\",                        [{\"alignmentgroup\":\"True\",\"hovertemplate\":\"index=%{x}<br>Sector=%{y}<extra></extra>\",\"legendgroup\":\"\",\"marker\":{\"color\":\"#636efa\",\"pattern\":{\"shape\":\"\"}},\"name\":\"\",\"offsetgroup\":\"\",\"orientation\":\"v\",\"showlegend\":false,\"textposition\":\"auto\",\"x\":[\"Information Technology\",\"Business Services\",\"not mentioned\",\"Finance\",\"Health Care\",\"Education\",\"Insurance\",\"Accounting & Legal\",\"Media\",\"Manufacturing\",\"Retail\",\"Government\",\"Biotech & Pharmaceuticals\",\"Non-Profit\",\"Aerospace & Defense\",\"Transportation & Logistics\",\"Construction, Repair & Maintenance\",\"Consumer Services\",\"Oil, Gas, Energy & Utilities\",\"Real Estate\",\"Telecommunications\",\"Restaurants, Bars & Food Services\",\"Arts, Entertainment & Recreation\",\"Mining & Metals\",\"Travel & Tourism\"],\"xaxis\":\"x\",\"y\":[570,523,352,169,151,52,51,43,42,40,38,36,33,26,22,20,16,14,13,12,11,8,7,1,1],\"yaxis\":\"y\",\"type\":\"bar\"}],                        {\"template\":{\"data\":{\"bar\":[{\"error_x\":{\"color\":\"#2a3f5f\"},\"error_y\":{\"color\":\"#2a3f5f\"},\"marker\":{\"line\":{\"color\":\"#E5ECF6\",\"width\":0.5},\"pattern\":{\"fillmode\":\"overlay\",\"size\":10,\"solidity\":0.2}},\"type\":\"bar\"}],\"barpolar\":[{\"marker\":{\"line\":{\"color\":\"#E5ECF6\",\"width\":0.5},\"pattern\":{\"fillmode\":\"overlay\",\"size\":10,\"solidity\":0.2}},\"type\":\"barpolar\"}],\"carpet\":[{\"aaxis\":{\"endlinecolor\":\"#2a3f5f\",\"gridcolor\":\"white\",\"linecolor\":\"white\",\"minorgridcolor\":\"white\",\"startlinecolor\":\"#2a3f5f\"},\"baxis\":{\"endlinecolor\":\"#2a3f5f\",\"gridcolor\":\"white\",\"linecolor\":\"white\",\"minorgridcolor\":\"white\",\"startlinecolor\":\"#2a3f5f\"},\"type\":\"carpet\"}],\"choropleth\":[{\"colorbar\":{\"outlinewidth\":0,\"ticks\":\"\"},\"type\":\"choropleth\"}],\"contour\":[{\"colorbar\":{\"outlinewidth\":0,\"ticks\":\"\"},\"colorscale\":[[0.0,\"#0d0887\"],[0.1111111111111111,\"#46039f\"],[0.2222222222222222,\"#7201a8\"],[0.3333333333333333,\"#9c179e\"],[0.4444444444444444,\"#bd3786\"],[0.5555555555555556,\"#d8576b\"],[0.6666666666666666,\"#ed7953\"],[0.7777777777777778,\"#fb9f3a\"],[0.8888888888888888,\"#fdca26\"],[1.0,\"#f0f921\"]],\"type\":\"contour\"}],\"contourcarpet\":[{\"colorbar\":{\"outlinewidth\":0,\"ticks\":\"\"},\"type\":\"contourcarpet\"}],\"heatmap\":[{\"colorbar\":{\"outlinewidth\":0,\"ticks\":\"\"},\"colorscale\":[[0.0,\"#0d0887\"],[0.1111111111111111,\"#46039f\"],[0.2222222222222222,\"#7201a8\"],[0.3333333333333333,\"#9c179e\"],[0.4444444444444444,\"#bd3786\"],[0.5555555555555556,\"#d8576b\"],[0.6666666666666666,\"#ed7953\"],[0.7777777777777778,\"#fb9f3a\"],[0.8888888888888888,\"#fdca26\"],[1.0,\"#f0f921\"]],\"type\":\"heatmap\"}],\"heatmapgl\":[{\"colorbar\":{\"outlinewidth\":0,\"ticks\":\"\"},\"colorscale\":[[0.0,\"#0d0887\"],[0.1111111111111111,\"#46039f\"],[0.2222222222222222,\"#7201a8\"],[0.3333333333333333,\"#9c179e\"],[0.4444444444444444,\"#bd3786\"],[0.5555555555555556,\"#d8576b\"],[0.6666666666666666,\"#ed7953\"],[0.7777777777777778,\"#fb9f3a\"],[0.8888888888888888,\"#fdca26\"],[1.0,\"#f0f921\"]],\"type\":\"heatmapgl\"}],\"histogram\":[{\"marker\":{\"pattern\":{\"fillmode\":\"overlay\",\"size\":10,\"solidity\":0.2}},\"type\":\"histogram\"}],\"histogram2d\":[{\"colorbar\":{\"outlinewidth\":0,\"ticks\":\"\"},\"colorscale\":[[0.0,\"#0d0887\"],[0.1111111111111111,\"#46039f\"],[0.2222222222222222,\"#7201a8\"],[0.3333333333333333,\"#9c179e\"],[0.4444444444444444,\"#bd3786\"],[0.5555555555555556,\"#d8576b\"],[0.6666666666666666,\"#ed7953\"],[0.7777777777777778,\"#fb9f3a\"],[0.8888888888888888,\"#fdca26\"],[1.0,\"#f0f921\"]],\"type\":\"histogram2d\"}],\"histogram2dcontour\":[{\"colorbar\":{\"outlinewidth\":0,\"ticks\":\"\"},\"colorscale\":[[0.0,\"#0d0887\"],[0.1111111111111111,\"#46039f\"],[0.2222222222222222,\"#7201a8\"],[0.3333333333333333,\"#9c179e\"],[0.4444444444444444,\"#bd3786\"],[0.5555555555555556,\"#d8576b\"],[0.6666666666666666,\"#ed7953\"],[0.7777777777777778,\"#fb9f3a\"],[0.8888888888888888,\"#fdca26\"],[1.0,\"#f0f921\"]],\"type\":\"histogram2dcontour\"}],\"mesh3d\":[{\"colorbar\":{\"outlinewidth\":0,\"ticks\":\"\"},\"type\":\"mesh3d\"}],\"parcoords\":[{\"line\":{\"colorbar\":{\"outlinewidth\":0,\"ticks\":\"\"}},\"type\":\"parcoords\"}],\"pie\":[{\"automargin\":true,\"type\":\"pie\"}],\"scatter\":[{\"marker\":{\"colorbar\":{\"outlinewidth\":0,\"ticks\":\"\"}},\"type\":\"scatter\"}],\"scatter3d\":[{\"line\":{\"colorbar\":{\"outlinewidth\":0,\"ticks\":\"\"}},\"marker\":{\"colorbar\":{\"outlinewidth\":0,\"ticks\":\"\"}},\"type\":\"scatter3d\"}],\"scattercarpet\":[{\"marker\":{\"colorbar\":{\"outlinewidth\":0,\"ticks\":\"\"}},\"type\":\"scattercarpet\"}],\"scattergeo\":[{\"marker\":{\"colorbar\":{\"outlinewidth\":0,\"ticks\":\"\"}},\"type\":\"scattergeo\"}],\"scattergl\":[{\"marker\":{\"colorbar\":{\"outlinewidth\":0,\"ticks\":\"\"}},\"type\":\"scattergl\"}],\"scattermapbox\":[{\"marker\":{\"colorbar\":{\"outlinewidth\":0,\"ticks\":\"\"}},\"type\":\"scattermapbox\"}],\"scatterpolar\":[{\"marker\":{\"colorbar\":{\"outlinewidth\":0,\"ticks\":\"\"}},\"type\":\"scatterpolar\"}],\"scatterpolargl\":[{\"marker\":{\"colorbar\":{\"outlinewidth\":0,\"ticks\":\"\"}},\"type\":\"scatterpolargl\"}],\"scatterternary\":[{\"marker\":{\"colorbar\":{\"outlinewidth\":0,\"ticks\":\"\"}},\"type\":\"scatterternary\"}],\"surface\":[{\"colorbar\":{\"outlinewidth\":0,\"ticks\":\"\"},\"colorscale\":[[0.0,\"#0d0887\"],[0.1111111111111111,\"#46039f\"],[0.2222222222222222,\"#7201a8\"],[0.3333333333333333,\"#9c179e\"],[0.4444444444444444,\"#bd3786\"],[0.5555555555555556,\"#d8576b\"],[0.6666666666666666,\"#ed7953\"],[0.7777777777777778,\"#fb9f3a\"],[0.8888888888888888,\"#fdca26\"],[1.0,\"#f0f921\"]],\"type\":\"surface\"}],\"table\":[{\"cells\":{\"fill\":{\"color\":\"#EBF0F8\"},\"line\":{\"color\":\"white\"}},\"header\":{\"fill\":{\"color\":\"#C8D4E3\"},\"line\":{\"color\":\"white\"}},\"type\":\"table\"}]},\"layout\":{\"annotationdefaults\":{\"arrowcolor\":\"#2a3f5f\",\"arrowhead\":0,\"arrowwidth\":1},\"autotypenumbers\":\"strict\",\"coloraxis\":{\"colorbar\":{\"outlinewidth\":0,\"ticks\":\"\"}},\"colorscale\":{\"diverging\":[[0,\"#8e0152\"],[0.1,\"#c51b7d\"],[0.2,\"#de77ae\"],[0.3,\"#f1b6da\"],[0.4,\"#fde0ef\"],[0.5,\"#f7f7f7\"],[0.6,\"#e6f5d0\"],[0.7,\"#b8e186\"],[0.8,\"#7fbc41\"],[0.9,\"#4d9221\"],[1,\"#276419\"]],\"sequential\":[[0.0,\"#0d0887\"],[0.1111111111111111,\"#46039f\"],[0.2222222222222222,\"#7201a8\"],[0.3333333333333333,\"#9c179e\"],[0.4444444444444444,\"#bd3786\"],[0.5555555555555556,\"#d8576b\"],[0.6666666666666666,\"#ed7953\"],[0.7777777777777778,\"#fb9f3a\"],[0.8888888888888888,\"#fdca26\"],[1.0,\"#f0f921\"]],\"sequentialminus\":[[0.0,\"#0d0887\"],[0.1111111111111111,\"#46039f\"],[0.2222222222222222,\"#7201a8\"],[0.3333333333333333,\"#9c179e\"],[0.4444444444444444,\"#bd3786\"],[0.5555555555555556,\"#d8576b\"],[0.6666666666666666,\"#ed7953\"],[0.7777777777777778,\"#fb9f3a\"],[0.8888888888888888,\"#fdca26\"],[1.0,\"#f0f921\"]]},\"colorway\":[\"#636efa\",\"#EF553B\",\"#00cc96\",\"#ab63fa\",\"#FFA15A\",\"#19d3f3\",\"#FF6692\",\"#B6E880\",\"#FF97FF\",\"#FECB52\"],\"font\":{\"color\":\"#2a3f5f\"},\"geo\":{\"bgcolor\":\"white\",\"lakecolor\":\"white\",\"landcolor\":\"#E5ECF6\",\"showlakes\":true,\"showland\":true,\"subunitcolor\":\"white\"},\"hoverlabel\":{\"align\":\"left\"},\"hovermode\":\"closest\",\"mapbox\":{\"style\":\"light\"},\"paper_bgcolor\":\"white\",\"plot_bgcolor\":\"#E5ECF6\",\"polar\":{\"angularaxis\":{\"gridcolor\":\"white\",\"linecolor\":\"white\",\"ticks\":\"\"},\"bgcolor\":\"#E5ECF6\",\"radialaxis\":{\"gridcolor\":\"white\",\"linecolor\":\"white\",\"ticks\":\"\"}},\"scene\":{\"xaxis\":{\"backgroundcolor\":\"#E5ECF6\",\"gridcolor\":\"white\",\"gridwidth\":2,\"linecolor\":\"white\",\"showbackground\":true,\"ticks\":\"\",\"zerolinecolor\":\"white\"},\"yaxis\":{\"backgroundcolor\":\"#E5ECF6\",\"gridcolor\":\"white\",\"gridwidth\":2,\"linecolor\":\"white\",\"showbackground\":true,\"ticks\":\"\",\"zerolinecolor\":\"white\"},\"zaxis\":{\"backgroundcolor\":\"#E5ECF6\",\"gridcolor\":\"white\",\"gridwidth\":2,\"linecolor\":\"white\",\"showbackground\":true,\"ticks\":\"\",\"zerolinecolor\":\"white\"}},\"shapedefaults\":{\"line\":{\"color\":\"#2a3f5f\"}},\"ternary\":{\"aaxis\":{\"gridcolor\":\"white\",\"linecolor\":\"white\",\"ticks\":\"\"},\"baxis\":{\"gridcolor\":\"white\",\"linecolor\":\"white\",\"ticks\":\"\"},\"bgcolor\":\"#E5ECF6\",\"caxis\":{\"gridcolor\":\"white\",\"linecolor\":\"white\",\"ticks\":\"\"}},\"title\":{\"x\":0.05},\"xaxis\":{\"automargin\":true,\"gridcolor\":\"white\",\"linecolor\":\"white\",\"ticks\":\"\",\"title\":{\"standoff\":15},\"zerolinecolor\":\"white\",\"zerolinewidth\":2},\"yaxis\":{\"automargin\":true,\"gridcolor\":\"white\",\"linecolor\":\"white\",\"ticks\":\"\",\"title\":{\"standoff\":15},\"zerolinecolor\":\"white\",\"zerolinewidth\":2}}},\"xaxis\":{\"anchor\":\"y\",\"domain\":[0.0,1.0],\"title\":{\"text\":\"index\"}},\"yaxis\":{\"anchor\":\"x\",\"domain\":[0.0,1.0],\"title\":{\"text\":\"Sector\"}},\"legend\":{\"tracegroupgap\":0},\"title\":{\"text\":\"Number of Job Openings by Sector\"},\"barmode\":\"relative\"},                        {\"responsive\": true}                    ).then(function(){\n",
       "                            \n",
       "var gd = document.getElementById('c5af28cb-d0b8-4e75-ac17-374720c8dc6f');\n",
       "var x = new MutationObserver(function (mutations, observer) {{\n",
       "        var display = window.getComputedStyle(gd).display;\n",
       "        if (!display || display === 'none') {{\n",
       "            console.log([gd, 'removed!']);\n",
       "            Plotly.purge(gd);\n",
       "            observer.disconnect();\n",
       "        }}\n",
       "}});\n",
       "\n",
       "// Listen for the removal of the full notebook cells\n",
       "var notebookContainer = gd.closest('#notebook-container');\n",
       "if (notebookContainer) {{\n",
       "    x.observe(notebookContainer, {childList: true});\n",
       "}}\n",
       "\n",
       "// Listen for the clearing of the current output cell\n",
       "var outputEl = gd.closest('.output');\n",
       "if (outputEl) {{\n",
       "    x.observe(outputEl, {childList: true});\n",
       "}}\n",
       "\n",
       "                        })                };                            </script>        </div>\n",
       "</body>\n",
       "</html>"
      ]
     },
     "metadata": {},
     "output_type": "display_data"
    }
   ],
   "source": [
    "px.bar(job_sector,x=job_sector.index , y='Sector',title=\"Number of Job Openings by Sector\")"
   ]
  },
  {
   "cell_type": "code",
   "execution_count": 60,
   "metadata": {
    "colab": {
     "base_uri": "https://localhost:8080/",
     "height": 542
    },
    "id": "h0ZOULGSeZjA",
    "outputId": "32a777ad-352f-4a50-be0d-b68da26ad3a0"
   },
   "outputs": [
    {
     "data": {
      "text/html": [
       "<html>\n",
       "<head><meta charset=\"utf-8\" /></head>\n",
       "<body>\n",
       "    <div>            <script src=\"https://cdnjs.cloudflare.com/ajax/libs/mathjax/2.7.5/MathJax.js?config=TeX-AMS-MML_SVG\"></script><script type=\"text/javascript\">if (window.MathJax) {MathJax.Hub.Config({SVG: {font: \"STIX-Web\"}});}</script>                <script type=\"text/javascript\">window.PlotlyConfig = {MathJaxConfig: 'local'};</script>\n",
       "        <script src=\"https://cdn.plot.ly/plotly-2.8.3.min.js\"></script>                <div id=\"d0abcda9-733e-4242-952b-69c78fc34681\" class=\"plotly-graph-div\" style=\"height:525px; width:100%;\"></div>            <script type=\"text/javascript\">                                    window.PLOTLYENV=window.PLOTLYENV || {};                                    if (document.getElementById(\"d0abcda9-733e-4242-952b-69c78fc34681\")) {                    Plotly.newPlot(                        \"d0abcda9-733e-4242-952b-69c78fc34681\",                        [{\"alignmentgroup\":\"True\",\"hovertemplate\":\"index=%{x}<br>Industry=%{y}<extra></extra>\",\"legendgroup\":\"\",\"marker\":{\"color\":\"#636efa\",\"pattern\":{\"shape\":\"\"}},\"name\":\"\",\"offsetgroup\":\"\",\"orientation\":\"v\",\"showlegend\":false,\"textposition\":\"auto\",\"x\":[\"not mentioned\",\"IT Services\",\"Staffing & Outsourcing\",\"Health Care Services & Hospitals\",\"Consulting\",\"Computer Hardware & Software\",\"Investment Banking & Asset Management\",\"Enterprise Software & Network Solutions\",\"Internet\",\"Banks & Credit Unions\",\"Advertising & Marketing\",\"Insurance Carriers\",\"Colleges & Universities\",\"Accounting\",\"Biotech & Pharmaceuticals\",\"Social Assistance\",\"Aerospace & Defense\",\"Video Games\",\"State & Regional Agencies\",\"Lending\",\"Logistics & Supply Chain\",\"Architectural & Engineering Services\",\"Health, Beauty, & Fitness\",\"Real Estate\",\"Research & Development\",\"Federal Agencies\",\"Consumer Products Manufacturing\",\"Financial Transaction Processing\",\"TV Broadcast & Cable Networks\",\"Municipal Governments\"],\"xaxis\":\"x\",\"y\":[352,325,322,151,111,111,78,69,65,51,51,47,40,39,33,23,22,20,15,15,13,13,13,12,12,12,10,10,10,9],\"yaxis\":\"y\",\"type\":\"bar\"}],                        {\"template\":{\"data\":{\"bar\":[{\"error_x\":{\"color\":\"#2a3f5f\"},\"error_y\":{\"color\":\"#2a3f5f\"},\"marker\":{\"line\":{\"color\":\"#E5ECF6\",\"width\":0.5},\"pattern\":{\"fillmode\":\"overlay\",\"size\":10,\"solidity\":0.2}},\"type\":\"bar\"}],\"barpolar\":[{\"marker\":{\"line\":{\"color\":\"#E5ECF6\",\"width\":0.5},\"pattern\":{\"fillmode\":\"overlay\",\"size\":10,\"solidity\":0.2}},\"type\":\"barpolar\"}],\"carpet\":[{\"aaxis\":{\"endlinecolor\":\"#2a3f5f\",\"gridcolor\":\"white\",\"linecolor\":\"white\",\"minorgridcolor\":\"white\",\"startlinecolor\":\"#2a3f5f\"},\"baxis\":{\"endlinecolor\":\"#2a3f5f\",\"gridcolor\":\"white\",\"linecolor\":\"white\",\"minorgridcolor\":\"white\",\"startlinecolor\":\"#2a3f5f\"},\"type\":\"carpet\"}],\"choropleth\":[{\"colorbar\":{\"outlinewidth\":0,\"ticks\":\"\"},\"type\":\"choropleth\"}],\"contour\":[{\"colorbar\":{\"outlinewidth\":0,\"ticks\":\"\"},\"colorscale\":[[0.0,\"#0d0887\"],[0.1111111111111111,\"#46039f\"],[0.2222222222222222,\"#7201a8\"],[0.3333333333333333,\"#9c179e\"],[0.4444444444444444,\"#bd3786\"],[0.5555555555555556,\"#d8576b\"],[0.6666666666666666,\"#ed7953\"],[0.7777777777777778,\"#fb9f3a\"],[0.8888888888888888,\"#fdca26\"],[1.0,\"#f0f921\"]],\"type\":\"contour\"}],\"contourcarpet\":[{\"colorbar\":{\"outlinewidth\":0,\"ticks\":\"\"},\"type\":\"contourcarpet\"}],\"heatmap\":[{\"colorbar\":{\"outlinewidth\":0,\"ticks\":\"\"},\"colorscale\":[[0.0,\"#0d0887\"],[0.1111111111111111,\"#46039f\"],[0.2222222222222222,\"#7201a8\"],[0.3333333333333333,\"#9c179e\"],[0.4444444444444444,\"#bd3786\"],[0.5555555555555556,\"#d8576b\"],[0.6666666666666666,\"#ed7953\"],[0.7777777777777778,\"#fb9f3a\"],[0.8888888888888888,\"#fdca26\"],[1.0,\"#f0f921\"]],\"type\":\"heatmap\"}],\"heatmapgl\":[{\"colorbar\":{\"outlinewidth\":0,\"ticks\":\"\"},\"colorscale\":[[0.0,\"#0d0887\"],[0.1111111111111111,\"#46039f\"],[0.2222222222222222,\"#7201a8\"],[0.3333333333333333,\"#9c179e\"],[0.4444444444444444,\"#bd3786\"],[0.5555555555555556,\"#d8576b\"],[0.6666666666666666,\"#ed7953\"],[0.7777777777777778,\"#fb9f3a\"],[0.8888888888888888,\"#fdca26\"],[1.0,\"#f0f921\"]],\"type\":\"heatmapgl\"}],\"histogram\":[{\"marker\":{\"pattern\":{\"fillmode\":\"overlay\",\"size\":10,\"solidity\":0.2}},\"type\":\"histogram\"}],\"histogram2d\":[{\"colorbar\":{\"outlinewidth\":0,\"ticks\":\"\"},\"colorscale\":[[0.0,\"#0d0887\"],[0.1111111111111111,\"#46039f\"],[0.2222222222222222,\"#7201a8\"],[0.3333333333333333,\"#9c179e\"],[0.4444444444444444,\"#bd3786\"],[0.5555555555555556,\"#d8576b\"],[0.6666666666666666,\"#ed7953\"],[0.7777777777777778,\"#fb9f3a\"],[0.8888888888888888,\"#fdca26\"],[1.0,\"#f0f921\"]],\"type\":\"histogram2d\"}],\"histogram2dcontour\":[{\"colorbar\":{\"outlinewidth\":0,\"ticks\":\"\"},\"colorscale\":[[0.0,\"#0d0887\"],[0.1111111111111111,\"#46039f\"],[0.2222222222222222,\"#7201a8\"],[0.3333333333333333,\"#9c179e\"],[0.4444444444444444,\"#bd3786\"],[0.5555555555555556,\"#d8576b\"],[0.6666666666666666,\"#ed7953\"],[0.7777777777777778,\"#fb9f3a\"],[0.8888888888888888,\"#fdca26\"],[1.0,\"#f0f921\"]],\"type\":\"histogram2dcontour\"}],\"mesh3d\":[{\"colorbar\":{\"outlinewidth\":0,\"ticks\":\"\"},\"type\":\"mesh3d\"}],\"parcoords\":[{\"line\":{\"colorbar\":{\"outlinewidth\":0,\"ticks\":\"\"}},\"type\":\"parcoords\"}],\"pie\":[{\"automargin\":true,\"type\":\"pie\"}],\"scatter\":[{\"marker\":{\"colorbar\":{\"outlinewidth\":0,\"ticks\":\"\"}},\"type\":\"scatter\"}],\"scatter3d\":[{\"line\":{\"colorbar\":{\"outlinewidth\":0,\"ticks\":\"\"}},\"marker\":{\"colorbar\":{\"outlinewidth\":0,\"ticks\":\"\"}},\"type\":\"scatter3d\"}],\"scattercarpet\":[{\"marker\":{\"colorbar\":{\"outlinewidth\":0,\"ticks\":\"\"}},\"type\":\"scattercarpet\"}],\"scattergeo\":[{\"marker\":{\"colorbar\":{\"outlinewidth\":0,\"ticks\":\"\"}},\"type\":\"scattergeo\"}],\"scattergl\":[{\"marker\":{\"colorbar\":{\"outlinewidth\":0,\"ticks\":\"\"}},\"type\":\"scattergl\"}],\"scattermapbox\":[{\"marker\":{\"colorbar\":{\"outlinewidth\":0,\"ticks\":\"\"}},\"type\":\"scattermapbox\"}],\"scatterpolar\":[{\"marker\":{\"colorbar\":{\"outlinewidth\":0,\"ticks\":\"\"}},\"type\":\"scatterpolar\"}],\"scatterpolargl\":[{\"marker\":{\"colorbar\":{\"outlinewidth\":0,\"ticks\":\"\"}},\"type\":\"scatterpolargl\"}],\"scatterternary\":[{\"marker\":{\"colorbar\":{\"outlinewidth\":0,\"ticks\":\"\"}},\"type\":\"scatterternary\"}],\"surface\":[{\"colorbar\":{\"outlinewidth\":0,\"ticks\":\"\"},\"colorscale\":[[0.0,\"#0d0887\"],[0.1111111111111111,\"#46039f\"],[0.2222222222222222,\"#7201a8\"],[0.3333333333333333,\"#9c179e\"],[0.4444444444444444,\"#bd3786\"],[0.5555555555555556,\"#d8576b\"],[0.6666666666666666,\"#ed7953\"],[0.7777777777777778,\"#fb9f3a\"],[0.8888888888888888,\"#fdca26\"],[1.0,\"#f0f921\"]],\"type\":\"surface\"}],\"table\":[{\"cells\":{\"fill\":{\"color\":\"#EBF0F8\"},\"line\":{\"color\":\"white\"}},\"header\":{\"fill\":{\"color\":\"#C8D4E3\"},\"line\":{\"color\":\"white\"}},\"type\":\"table\"}]},\"layout\":{\"annotationdefaults\":{\"arrowcolor\":\"#2a3f5f\",\"arrowhead\":0,\"arrowwidth\":1},\"autotypenumbers\":\"strict\",\"coloraxis\":{\"colorbar\":{\"outlinewidth\":0,\"ticks\":\"\"}},\"colorscale\":{\"diverging\":[[0,\"#8e0152\"],[0.1,\"#c51b7d\"],[0.2,\"#de77ae\"],[0.3,\"#f1b6da\"],[0.4,\"#fde0ef\"],[0.5,\"#f7f7f7\"],[0.6,\"#e6f5d0\"],[0.7,\"#b8e186\"],[0.8,\"#7fbc41\"],[0.9,\"#4d9221\"],[1,\"#276419\"]],\"sequential\":[[0.0,\"#0d0887\"],[0.1111111111111111,\"#46039f\"],[0.2222222222222222,\"#7201a8\"],[0.3333333333333333,\"#9c179e\"],[0.4444444444444444,\"#bd3786\"],[0.5555555555555556,\"#d8576b\"],[0.6666666666666666,\"#ed7953\"],[0.7777777777777778,\"#fb9f3a\"],[0.8888888888888888,\"#fdca26\"],[1.0,\"#f0f921\"]],\"sequentialminus\":[[0.0,\"#0d0887\"],[0.1111111111111111,\"#46039f\"],[0.2222222222222222,\"#7201a8\"],[0.3333333333333333,\"#9c179e\"],[0.4444444444444444,\"#bd3786\"],[0.5555555555555556,\"#d8576b\"],[0.6666666666666666,\"#ed7953\"],[0.7777777777777778,\"#fb9f3a\"],[0.8888888888888888,\"#fdca26\"],[1.0,\"#f0f921\"]]},\"colorway\":[\"#636efa\",\"#EF553B\",\"#00cc96\",\"#ab63fa\",\"#FFA15A\",\"#19d3f3\",\"#FF6692\",\"#B6E880\",\"#FF97FF\",\"#FECB52\"],\"font\":{\"color\":\"#2a3f5f\"},\"geo\":{\"bgcolor\":\"white\",\"lakecolor\":\"white\",\"landcolor\":\"#E5ECF6\",\"showlakes\":true,\"showland\":true,\"subunitcolor\":\"white\"},\"hoverlabel\":{\"align\":\"left\"},\"hovermode\":\"closest\",\"mapbox\":{\"style\":\"light\"},\"paper_bgcolor\":\"white\",\"plot_bgcolor\":\"#E5ECF6\",\"polar\":{\"angularaxis\":{\"gridcolor\":\"white\",\"linecolor\":\"white\",\"ticks\":\"\"},\"bgcolor\":\"#E5ECF6\",\"radialaxis\":{\"gridcolor\":\"white\",\"linecolor\":\"white\",\"ticks\":\"\"}},\"scene\":{\"xaxis\":{\"backgroundcolor\":\"#E5ECF6\",\"gridcolor\":\"white\",\"gridwidth\":2,\"linecolor\":\"white\",\"showbackground\":true,\"ticks\":\"\",\"zerolinecolor\":\"white\"},\"yaxis\":{\"backgroundcolor\":\"#E5ECF6\",\"gridcolor\":\"white\",\"gridwidth\":2,\"linecolor\":\"white\",\"showbackground\":true,\"ticks\":\"\",\"zerolinecolor\":\"white\"},\"zaxis\":{\"backgroundcolor\":\"#E5ECF6\",\"gridcolor\":\"white\",\"gridwidth\":2,\"linecolor\":\"white\",\"showbackground\":true,\"ticks\":\"\",\"zerolinecolor\":\"white\"}},\"shapedefaults\":{\"line\":{\"color\":\"#2a3f5f\"}},\"ternary\":{\"aaxis\":{\"gridcolor\":\"white\",\"linecolor\":\"white\",\"ticks\":\"\"},\"baxis\":{\"gridcolor\":\"white\",\"linecolor\":\"white\",\"ticks\":\"\"},\"bgcolor\":\"#E5ECF6\",\"caxis\":{\"gridcolor\":\"white\",\"linecolor\":\"white\",\"ticks\":\"\"}},\"title\":{\"x\":0.05},\"xaxis\":{\"automargin\":true,\"gridcolor\":\"white\",\"linecolor\":\"white\",\"ticks\":\"\",\"title\":{\"standoff\":15},\"zerolinecolor\":\"white\",\"zerolinewidth\":2},\"yaxis\":{\"automargin\":true,\"gridcolor\":\"white\",\"linecolor\":\"white\",\"ticks\":\"\",\"title\":{\"standoff\":15},\"zerolinecolor\":\"white\",\"zerolinewidth\":2}}},\"xaxis\":{\"anchor\":\"y\",\"domain\":[0.0,1.0],\"title\":{\"text\":\"index\"}},\"yaxis\":{\"anchor\":\"x\",\"domain\":[0.0,1.0],\"title\":{\"text\":\"Industry\"}},\"legend\":{\"tracegroupgap\":0},\"title\":{\"text\":\"Number of Job Openings by Industry\"},\"barmode\":\"relative\"},                        {\"responsive\": true}                    ).then(function(){\n",
       "                            \n",
       "var gd = document.getElementById('d0abcda9-733e-4242-952b-69c78fc34681');\n",
       "var x = new MutationObserver(function (mutations, observer) {{\n",
       "        var display = window.getComputedStyle(gd).display;\n",
       "        if (!display || display === 'none') {{\n",
       "            console.log([gd, 'removed!']);\n",
       "            Plotly.purge(gd);\n",
       "            observer.disconnect();\n",
       "        }}\n",
       "}});\n",
       "\n",
       "// Listen for the removal of the full notebook cells\n",
       "var notebookContainer = gd.closest('#notebook-container');\n",
       "if (notebookContainer) {{\n",
       "    x.observe(notebookContainer, {childList: true});\n",
       "}}\n",
       "\n",
       "// Listen for the clearing of the current output cell\n",
       "var outputEl = gd.closest('.output');\n",
       "if (outputEl) {{\n",
       "    x.observe(outputEl, {childList: true});\n",
       "}}\n",
       "\n",
       "                        })                };                            </script>        </div>\n",
       "</body>\n",
       "</html>"
      ]
     },
     "metadata": {},
     "output_type": "display_data"
    }
   ],
   "source": [
    "job_industry=pd.DataFrame(df.groupby('Industry')['Industry'].count().sort_values(ascending=False).head(30))\n",
    "px.bar(job_industry,x=job_industry.index , y='Industry',title=\"Number of Job Openings by Industry\")"
   ]
  },
  {
   "cell_type": "markdown",
   "metadata": {
    "id": "a8oWB6qIlOAZ"
   },
   "source": [
    "now we want to see the average salary based on company name and it`s rating "
   ]
  },
  {
   "cell_type": "code",
   "execution_count": 61,
   "metadata": {
    "colab": {
     "base_uri": "https://localhost:8080/",
     "height": 542
    },
    "id": "E6CcmvA2k-tx",
    "outputId": "2e8c9290-d869-4945-9de7-0bc47c8e4a13"
   },
   "outputs": [
    {
     "data": {
      "text/html": [
       "<html>\n",
       "<head><meta charset=\"utf-8\" /></head>\n",
       "<body>\n",
       "    <div>            <script src=\"https://cdnjs.cloudflare.com/ajax/libs/mathjax/2.7.5/MathJax.js?config=TeX-AMS-MML_SVG\"></script><script type=\"text/javascript\">if (window.MathJax) {MathJax.Hub.Config({SVG: {font: \"STIX-Web\"}});}</script>                <script type=\"text/javascript\">window.PlotlyConfig = {MathJaxConfig: 'local'};</script>\n",
       "        <script src=\"https://cdn.plot.ly/plotly-2.8.3.min.js\"></script>                <div id=\"111975f5-0b74-48e6-a174-f1d8a36f2975\" class=\"plotly-graph-div\" style=\"height:525px; width:100%;\"></div>            <script type=\"text/javascript\">                                    window.PLOTLYENV=window.PLOTLYENV || {};                                    if (document.getElementById(\"111975f5-0b74-48e6-a174-f1d8a36f2975\")) {                    Plotly.newPlot(                        \"111975f5-0b74-48e6-a174-f1d8a36f2975\",                        [{\"customdata\":[[\"Social Assistance\",\"Data Analyst, Center on Immigration and Justice (CIJ)\"],[\"Health Care Services & Hospitals\",\"Quality Data Analyst\"],[\"Internet\",\"Senior Data Analyst, Insights & Analytics Team [Customer Operations]\"],[\"IT Services\",\"Data Analyst\"],[\"Sports & Recreation\",\"Reporting Data Analyst\"],[\"Investment Banking & Asset Management\",\"Data Analyst\"],[\"Investment Banking & Asset Management\",\"Business/Data Analyst (FP&A)\"],[\"Insurance Carriers\",\"Data Science Analyst\"],[\"Venture Capital & Private Equity\",\"Data Analyst\"],[\"Research & Development\",\"Data Analyst, Merchant Health\"],[\"Health Care Services & Hospitals\",\"Data Analyst\"],[\"not mentioned\",\"Data Analyst\"],[\"Health Care Services & Hospitals\",\"DATA ANALYST\"],[\"Advertising & Marketing\",\"Senior Data Analyst\"],[\"Brokerage Services\",\"Investment Advisory Data Analyst\"],[\"Building & Personnel Services\",\"Sustainability Data Analyst\"],[\"Advertising & Marketing\",\"Data Analyst\"],[\"Consulting\",\"Clinical Data Analyst\"],[\"Research & Development\",\"DATA PROGRAMMER/ANALYST\"],[\"Internet\",\"Data Analyst\"],[\"Internet\",\"Product Analyst, Data Science\"],[\"not mentioned\",\"Data Science Analyst\"],[\"Investment Banking & Asset Management\",\"Data Analyst - Intex Developer\"],[\"Casual Restaurants\",\"Data Analyst\"],[\"not mentioned\",\"Entry Level / Junior Data Analyst\"],[\"Advertising & Marketing\",\"Data Analyst\"],[\"Internet\",\"Data + Business Intelligence Analyst\"],[\"Health Care Services & Hospitals\",\"Data Analyst, Product\"],[\"Advertising & Marketing\",\"Data Analyst Entry Level\"],[\"Research & Development\",\"Data Analyst\"],[\"Consulting\",\"Data Analyst\"],[\"Enterprise Software & Network Solutions\",\"Data Analyst\"],[\"not mentioned\",\"Data Analyst\"],[\"Lending\",\"Data Science Analyst, Capital Markets\"],[\"not mentioned\",\"Data Analyst (Games)\"],[\"Banks & Credit Unions\",\"Analyst/Associate Global Markets Credit Data Analyst\"],[\"not mentioned\",\"Data Business Analyst\"],[\"Computer Hardware & Software\",\"Data Analyst with Excel/DAX/ PowerBI experience- Fulltime\"],[\"Health Care Services & Hospitals\",\"Data Science Analyst/Engineer\"],[\"Social Assistance\",\"Data Analyst\"],[\"not mentioned\",\"Business Analyst, Data Platforms\"],[\"not mentioned\",\"Behavioral Data Analyst\"],[\"not mentioned\",\"Data Analyst\"],[\"Staffing & Outsourcing\",\"Data Analyst -1+ year Contract - NYC\"],[\"Internet\",\"Data Analyst\"],[\"Staffing & Outsourcing\",\"Data Analyst\"],[\"Advertising & Marketing\",\"Advertising Data Analyst\"],[\"Advertising & Marketing\",\"Data Analyst\"],[\"Brokerage Services\",\"Market Data Reporting Analyst\"],[\"IT Services\",\"Senior Analyst, Data Science\"],[\"Motion Picture Production & Distribution\",\"Senior Data Analyst, Disney+\"],[\"not mentioned\",\"Office of the CAO | Reference Data, Project Manager/Business Analyst\"],[\"IT Services\",\"Business Data Analyst\"],[\"Brokerage Services\",\"Senior Data Analyst\"],[\"Staffing & Outsourcing\",\"Data Scientist / Big Data Analytics Analyst\"],[\"not mentioned\",\"Data Reporting Analyst\"],[\"Motion Picture Production & Distribution\",\"Principal Data Analyst, LATAM - Disney Streaming Services\"],[\"Legal\",\"Data Analyst II\"],[\"Computer Hardware & Software\",\"Data Analyst - Environmental, Social, and Governance\"],[\"Real Estate\",\"Data Analyst\"],[\"Health Care Services & Hospitals\",\"Data Analyst, Revenue Analytics\"],[\"IT Services\",\"Data Analyst - Data Acquisition / Data Lineage\"],[\"IT Services\",\"Data Analyst - Data Scanning utilizing Rochade\"],[\"IT Services\",\"Data Analyst - Stitching\"],[\"Staffing & Outsourcing\",\"Junior Data Analyst\"],[\"Internet\",\"Data Analyst, Retail Media\"],[\"IT Services\",\"Data Analyst\"],[\"Investment Banking & Asset Management\",\"Portfolio Data Analyst\"],[\"not mentioned\",\"Data Science Analyst\"],[\"IT Services\",\"Data/Reporting Analyst\"],[\"Staffing & Outsourcing\",\"Data Analyst 2\"],[\"Consulting\",\"Entry Level Data Analyst\"],[\"not mentioned\",\"Marketing Data Analyst\"],[\"Investment Banking & Asset Management\",\"Data/Information Mgt Analyst\"],[\"Staffing & Outsourcing\",\"Business Data Analyst\"],[\"Federal Agencies\",\"Information Systems Officer (Data Analyst)\"],[\"TV Broadcast & Cable Networks\",\"Media Science Big Data Analyst\"],[\"Staffing & Outsourcing\",\"Data Analyst\"],[\"not mentioned\",\"Data Analyst\"],[\"Staffing & Outsourcing\",\"Data analyst with Python\"],[\"not mentioned\",\"Data Analyst\"],[\"Internet\",\"Data Analyst\"],[\"Research & Development\",\"Healthcare Data Analyst, Qsight\"],[\"Staffing & Outsourcing\",\"BA/Data Analyst\"],[\"Accounting\",\"Data Analyst Python\"],[\"not mentioned\",\"Data Analyst, Bitcoin Trading Firm\"],[\"IT Services\",\"Data Analyst-BA\"],[\"Consulting\",\"Data Analytics Solutions Analyst\"],[\"Insurance Carriers\",\"Quantitative Data Analyst\"],[\"Brokerage Services\",\"Data Analyst\"],[\"not mentioned\",\"Data Analyst\"],[\"Investment Banking & Asset Management\",\"Descriptive Analytics Data Analyst, IB\"],[\"Consulting\",\"Data Analyst\"],[\"IT Services\",\"Data Analyst\"],[\"Staffing & Outsourcing\",\"Data Analyst\"],[\"Consulting\",\"Data Analyst\"],[\"Food & Beverage Stores\",\"Data Analyst\"],[\"Consulting\",\"Business Data Analyst\"],[\"Health Care Services & Hospitals\",\"Data Analyst\"],[\"not mentioned\",\"Healthcare Data Analyst\"],[\"Health, Beauty, & Fitness\",\"Supply Chain Data Analyst\"],[\"Staffing & Outsourcing\",\"Data Analyst - IBM Tool Set\"],[\"Health Care Services & Hospitals\",\"Analyst-Data Integrity\"],[\"Investment Banking & Asset Management\",\"Reference Data Operations Analyst - Index Instrument, Associate\"],[\"Social Assistance\",\"Data Analyst\"],[\"not mentioned\",\"Data & Service Health Analyst\"],[\"Consulting\",\"Data/Systems Analyst\"],[\"IT Services\",\"Data Analyst\"],[\"not mentioned\",\"Data Analyst\"],[\"not mentioned\",\"Data Analyst\"],[\"IT Services\",\"Data Analyst Intern\"],[\"Investment Banking & Asset Management\",\"Data Analytics Analyst or Associate, Cowen Sustainable Investments\"],[\"Staffing & Outsourcing\",\"Data Reporting Analyst\"],[\"Computer Hardware & Software\",\"Data Analyst\"],[\"Staffing & Outsourcing\",\"Data Analyst\"],[\"Enterprise Software & Network Solutions\",\"Data Analyst\"],[\"Social Assistance\",\"ERP Data Analyst\"],[\"Biotech & Pharmaceuticals\",\"Data Analyst\"],[\"Health Care Services & Hospitals\",\"Healthcare Data/Reporting Analyst\"],[\"Insurance Carriers\",\"PBM Data Analyst\"],[\"Health, Beauty, & Fitness\",\"Data Analyst (Temporary Assignment)\"],[\"Insurance Agencies & Brokerages\",\"Data Analyst\"],[\"Staffing & Outsourcing\",\"Market Data Analyst\"],[\"not mentioned\",\"Data Analyst\"],[\"IT Services\",\"Junior Data Analyst\"],[\"IT Services\",\"Microsoft Dynamics CRM Data Analyst\"],[\"Health Care Services & Hospitals\",\"Practice Analyst Data\"],[\"Staffing & Outsourcing\",\"Buyside - Data Scientist/Research Analyst\"],[\"Internet\",\"Data Analyst - Healthcare Provider Networks and Formularies\"],[\"Investment Banking & Asset Management\",\"Electronic Trading Data Analyst\"],[\"Health Care Services & Hospitals\",\"Data Analyst, Center for Developing Brain\"],[\"Computer Hardware & Software\",\"Data Processing & Performance Analyst\"],[\"Staffing & Outsourcing\",\"Business Analyst - Data Analyst\"],[\"IT Services\",\"Data Analyst with Rochade\"],[\"TV Broadcast & Cable Networks\",\"Advertising Data Analyst\"],[\"Gambling\",\"Product Analyst - Data\"],[\"Video Games\",\"Senior Data Analyst\"],[\"not mentioned\",\"Data Analyst\"],[\"IT Services\",\"Market Research Data Analyst - Physician Technology\"],[\"not mentioned\",\"Data Analyst\"],[\"Accounting\",\"Look ML Data Analyst\"],[\"Colleges & Universities\",\"Data Collection Analyst\"],[\"IT Services\",\"Data Analyst\"],[\"Research & Development\",\"DATA ENTRY/ BILLING ANALYST\"],[\"Colleges & Universities\",\"Student Persistence Initiative Data Analyst/Scientist\"],[\"Architectural & Engineering Services\",\"Data Quality Analyst\"],[\"Consulting\",\"Data Governance Analyst\"],[\"Internet\",\"Sr. Business Intelligence Engineer / Data Analyst\"],[\"not mentioned\",\"Data Analyst\"],[\"Accounting\",\"Data Analyst\"],[\"Health Care Services & Hospitals\",\"Data Analyst\"],[\"Health Care Services & Hospitals\",\"Healthcare Data/Reporting Analyst\"],[\"Health Care Services & Hospitals\",\"Data Analyst I - Geriatrics and Palliative Care\"],[\"not mentioned\",\"Data Analyst\"],[\"IT Services\",\"Data Analyst/Rochade\"],[\"not mentioned\",\"Data Analyst, Revenue Analytics\"],[\"Social Assistance\",\"Data Analyst\"],[\"not mentioned\",\"Data Analyst\"],[\"Health Care Services & Hospitals\",\"Data Analyst II, Division of Gastroenterology (Research)\"],[\"Health Care Services & Hospitals\",\"Data Analyst, Student Success Program\"],[\"Health, Beauty, & Fitness\",\"Big Data QA Analyst with Jupyter notebook\"],[\"Research & Development\",\"Analyst, Data Centers Industry\"],[\"not mentioned\",\"Data Analyst\"],[\"Enterprise Software & Network Solutions\",\"Financial - Data Analyst\"],[\"IT Services\",\"Data Analyst with Data Scanning and Profiling\"],[\"Video Games\",\"Business Analyst - Data Governance\"],[\"Internet\",\"Senior Data Analyst - Health Economist\"],[\"not mentioned\",\"Lead Data Insights Analyst\"],[\"Consulting\",\"Research Analyst (Data Science)\"],[\"Social Assistance\",\"Data Management Analyst\"],[\"IT Services\",\"Business Analyst / Data Analyst\"],[\"IT Services\",\"Healthcare Data/Reporting Analyst\"],[\"not mentioned\",\"Clinical Data Analyst\"],[\"Investment Banking & Asset Management\",\"Sr. Data Profiling Analyst\"],[\"not mentioned\",\"Data Analytics Analyst or Associate, Cowen Sustainable Investments\"],[\"Consulting\",\"Data Analyst\"],[\"Banks & Credit Unions\",\"Data Analyst\"],[\"TV Broadcast & Cable Networks\",\"Senior Data Analyst, Revenue Analytics, Peacock\"],[\"Internet\",\"Senior Data Analyst\"],[\"not mentioned\",\"Data Analyst\"],[\"IT Services\",\"Senior Data Analyst - Data Cataloging / Data Profiling\"],[\"Accounting\",\"Data/Report Analyst\"],[\"Advertising & Marketing\",\"Senior Data Analyst\"],[\"Staffing & Outsourcing\",\"Human Capital Data Analyst\"],[\"IT Services\",\"GIS Data analyst\"],[\"Consulting\",\"Junior Data Analytics Solutions Analyst\"],[\"not mentioned\",\"Data Analyst\"],[\"Staffing & Outsourcing\",\"Data Analyst w/Capital Markets\"],[\"Investment Banking & Asset Management\",\"VP, Research Project Analyst/Data Management\"],[\"Social Assistance\",\"Food Data Analyst\"],[\"Staffing & Outsourcing\",\"Data Management Analyst\"],[\"Investment Banking & Asset Management\",\"Data Governance Analyst\"],[\"Video Games\",\"Data Analyst, Enterprise Analytics\"],[\"Consulting\",\"Data Analytics Solutions Analyst - Mid with Security Clearance\"],[\"not mentioned\",\"Data Analyst Assistant\"],[\"Investment Banking & Asset Management\",\"Investment Management Summer Analyst Program - Office of COO: Data & Analytics\"],[\"Health Care Services & Hospitals\",\"Data Collection Analyst\"],[\"Health Care Services & Hospitals\",\"Data Collection Analyst\"],[\"IT Services\",\"Sr Business /Data Analyst- Reference data\"],[\"not mentioned\",\"Data Analyst\"],[\"Health Care Services & Hospitals\",\"SENIOR DATA ANALYST\"],[\"Consulting\",\"Senior Data Analyst / Scientist\"],[\"General Repair & Maintenance\",\"Senior Data Analyst - Regulatory Reporting\"],[\"Social Assistance\",\"Data Reporting Analyst\"],[\"Architectural & Engineering Services\",\"Data Governance Analyst\"],[\"not mentioned\",\"Data Analyst\"],[\"Advertising & Marketing\",\"Senior Data Analyst (6-12 Month Contract-Remote)\"],[\"Internet\",\"Principal Data Analyst, LATAM \\u2013 Disney Streaming Services\"],[\"IT Services\",\"Data Analyst- Win 10 Migration- NYC\"],[\"Social Assistance\",\"Data Analyst (35 hours/week)\"],[\"IT Services\",\"Tech Business/Data Analyst\"],[\"IT Services\",\"Data Analyst\"],[\"Research & Development\",\"Senior Data Analyst, Financial Services\"],[\"Computer Hardware & Software\",\"Enterprise Data, Financial Data Analyst - Content Design Specialist Contractor\"],[\"Computer Hardware & Software\",\"Data Analyst\"],[\"Social Assistance\",\"Data Analyst\"],[\"not mentioned\",\"Senior Data Analyst\"],[\"Staffing & Outsourcing\",\"Data Remediation Analyst-EK020719A/JL\"],[\"Investment Banking & Asset Management\",\"Business Analyst - Chief Data Office\"],[\"Motion Picture Production & Distribution\",\"Senior Analyst, Data Instrumentation & Quality (Disney+)\"],[\"IT Services\",\"Senior Data Analyst\"],[\"Staffing & Outsourcing\",\"Big Data Programmer Analyst\"],[\"not mentioned\",\"Lead Data Analyst\"],[\"Consulting\",\"Data Analyst\"],[\"Staffing & Outsourcing\",\"Data Governance Analyst\"],[\"not mentioned\",\"Client Service Data Analyst\"],[\"Computer Hardware & Software\",\"Financial Data Analyst - Accounting - D3529\"],[\"not mentioned\",\"Data / Business Analyst (SQL/Tableau)\"],[\"Security Services\",\"Data Processing & Performance Analyst New York, NY\"],[\"IT Services\",\"Data Analyst\"],[\"Video Games\",\"Senior Data Analyst\"],[\"IT Services\",\"Data Analyst-Junior Profiles also works-Only NY/NJ Candidates Please on w2 Only\"],[\"Staffing & Outsourcing\",\"Business Analyst-Market Data\"],[\"Computer Hardware & Software\",\"Content Analyst/Data BA-Bus/Tech Strategy - Investment Bank\"],[\"Health Care Services & Hospitals\",\"Data Analyst\"],[\"Enterprise Software & Network Solutions\",\"Senior Analyst, AB Testing and Data Operations\"],[\"not mentioned\",\"Data Warehouse Analyst\"],[\"Health Care Services & Hospitals\",\"Data Analyst I - Geriatrics and Palliative Care\"],[\"Advertising & Marketing\",\"Data Analyst\"],[\"Investment Banking & Asset Management\",\"Senior Business and Data Analyst\"],[\"Enterprise Software & Network Solutions\",\"Data Analyst II\"],[\"Health Care Services & Hospitals\",\"Data Analyst II\"],[\"not mentioned\",\"Data Analyst (35 hours/week)\"],[\"Investment Banking & Asset Management\",\"Lead Generation Data Analyst\"],[\"Health Care Services & Hospitals\",\"DnA Ambassador (Clinical Business Analyst - Level 1), Data & Analytics/Re-post\"],[\"Health Care Services & Hospitals\",\"Data Analyst I - Genetics & Genomic Sciences\"],[\"Insurance Carriers\",\"Data Reporting Analyst III\"],[\"not mentioned\",\"Reporting Analyst Data Analyst\"],[\"Colleges & Universities\",\"Data Analyst - CBCH\"],[\"Motion Picture Production & Distribution\",\"Principal Data Analyst, LATAM Disney Streaming Services\"],[\"IT Services\",\"Data Engineer/Data Analyst\"],[\"Enterprise Software & Network Solutions\",\"Technical Business/Data Analyst\"],[\"Gambling\",\"CRM Data Performance Analyst\"],[\"not mentioned\",\"eCommerce Data Analyst\"],[\"IT Services\",\"Senior Data Analyst - Rochade\"],[\"not mentioned\",\"Financial Data Analyst\"],[\"Investment Banking & Asset Management\",\"2021 Summer Analyst Program- Data & Analytics Solutions\"],[\"Staffing & Outsourcing\",\"Data Analyst - QC\"],[\"not mentioned\",\"People Operations & Data Analyst\"],[\"Advertising & Marketing\",\"Lead Data Analyst (Product)\"],[\"Advertising & Marketing\",\"Data Analyst - III\"],[\"Consulting\",\"SQL Data Analyst\"],[\"Staffing & Outsourcing\",\"Healthcare Data/Reporting Analyst\"],[\"not mentioned\",\"Epic Data Intelligence Analyst\"],[\"IT Services\",\"JPSC-8461 - Position: 13,52,53 Data Analyst\"],[\"Accounting\",\"Data Analyst - Analytics/SQL\"],[\"Computer Hardware & Software\",\"Data Analyst-Excel\"],[\"IT Services\",\"Data Remediation Analyst\"],[\"IT Services\",\"Data Analyst with Python or Python developer\"],[\"Staffing & Outsourcing\",\"Data Entry Clerk / Data analyst\"],[\"News Outlet\",\"Senior Analyst, Data and Insights (Wirecutter)\"],[\"not mentioned\",\"ETL Developer / Data Analyst\"],[\"not mentioned\",\"Big Data Programmer Analyst\"],[\"Staffing & Outsourcing\",\"Data Governance Analyst\"],[\"IT Services\",\"Data Analyst with Python\"],[\"not mentioned\",\"Data Analyst/Project Manager\"],[\"not mentioned\",\"Data Analyst - Intex Developer\"],[\"Health Care Services & Hospitals\",\"Analyst Business Data\"],[\"IT Services\",\"Sr. Datastage and Data Analyst\"],[\"not mentioned\",\"Programmer Data Analyst\"],[\"Consulting\",\"Consumer Lending Data Analyst\"],[\"Health Care Services & Hospitals\",\"Encounter Data Analyst\"],[\"Computer Hardware & Software\",\"Business Analyst/PM/Data Analyst - Investment Bank\"],[\"Insurance Carriers\",\"Healthcare Analyst, Claims/Encounter Data\"],[\"Commercial Equipment Repair & Maintenance\",\"Data Analyst\"],[\"Health Care Services & Hospitals\",\"TX Healthcare Data/Reporting Analyst\"],[\"IT Services\",\"Senior Data Analyst - Regulatory Reporting\"],[\"Investment Banking & Asset Management\",\"Senior Specialist Data Analyst\"],[\"Banks & Credit Unions\",\"SQL Report Developer Data Analyst\"],[\"IT Services\",\"Clinical Data Analyst\"],[\"Enterprise Software & Network Solutions\",\"Data Analyst,, Sales Operations - Oracle Data Cloud\"],[\"not mentioned\",\"Data Analyst - Machine Learning\"],[\"Advertising & Marketing\",\"Senior Analyst, Data Analytics\"],[\"Health Care Services & Hospitals\",\"Senior Data Analyst (Product)\"],[\"IT Services\",\"Senior Data Analyst - Data Cataloging / Data Profiling\"],[\"Investment Banking & Asset Management\",\"2021 Summer Analyst Program- Data & Analytics Solutions\"],[\"Staffing & Outsourcing\",\"Technical Data Analyst\"],[\"Biotech & Pharmaceuticals\",\"Senior Analyst, Customer Master Data\"],[\"Investment Banking & Asset Management\",\"Data Analyst/Project Manager\"],[\"Health Care Services & Hospitals\",\"Data Analyst II - Division of Endocrinology\"],[\"Investment Banking & Asset Management\",\"Sr. Reference Data Business Analyst - SQL\"],[\"not mentioned\",\"Data Analyst - Actuarial Background\"],[\"Investment Banking & Asset Management\",\"Data Management Analyst (ADDM04) SEC SVCS OPS DATA GOVERNANCE - NA\"],[\"Staffing & Outsourcing\",\"BA With Data Analyst Skills\"],[\"Social Assistance\",\"Data & Reporting Analyst, GNHCC\"],[\"Video Games\",\"Principal Business Analyst - Data Governance\"],[\"Computer Hardware & Software\",\"Business Analyst/Data Analyst - Capital Markets\"],[\"IT Services\",\".net, sharepoint, Java, Data analyst, Business Analyst\"],[\"IT Services\",\"ETL Datastage Developer/IBM Infosphere Datastage Consultant(ETL Data Analyst)-Only NY/NJ candidates Please\"],[\"Publishing\",\"Consumer Lending Data Analyst\"],[\"Health Care Services & Hospitals\",\"Data Analyst - CBCH\"],[\"Energy\",\"Solar Data Analyst\"],[\"IT Services\",\"Data Science Lead Analyst\"],[\"Health Care Services & Hospitals\",\"Clinical Data Analyst\"],[\"IT Services\",\"Remote: Data Analyst (Data Lineage, Financial industry)_Long term\"],[\"not mentioned\",\"Senior Data Analyst\"],[\"Staffing & Outsourcing\",\"Data Governance Analyst\"],[\"Investment Banking & Asset Management\",\"Data Management, Firmwide Data Quality, Analyst\"],[\"Health Care Services & Hospitals\",\"Compensation and Data Analyst (Human Resources)\"],[\"Social Assistance\",\"Senior Data Analyst\"],[\"Health Care Services & Hospitals\",\"Data Analyst II, Division of Gastroenterology (Research)\"],[\"IT Services\",\"NY Healthcare Data/Reporting Analyst\"],[\"Consulting\",\"Data Analyst\"],[\"Enterprise Software & Network Solutions\",\"Big Data QA Analyst / QA Tester / Test Analyst\"],[\"Insurance Carriers\",\"Senior Data Analyst\"],[\"Health, Beauty, & Fitness\",\"Senior Supply Chain Data Analyst\"],[\"IT Services\",\"Data Analyst, Capital Markets (Manager)\"],[\"not mentioned\",\"Analyst, People Operations & HR Data\"],[\"Internet\",\"Senior Analyst, Data Instrumentation & Quality (Disney+)\"],[\"Investment Banking & Asset Management\",\"CIB F&BM Global Program Management EMEA - International Regulatory - Data Provisioning Business Analyst - Associate\"],[\"not mentioned\",\"Business Data Analyst (Financial Services)\"],[\"Insurance Carriers\",\"Senior IT Technical Data Analyst\"],[\"IT Services\",\"Data Analyst/Data Acquisition Speciliest with Financial Industry Exp\"],[\"IT Services\",\"Data Analyst/Data Scanning with Financial Industry exp\"],[\"Other Retail Stores\",\"Sr Business Analyst, Data Science\"],[\"IT Services\",\"Senior Data Analyst - Data Governance\"],[\"Health Fundraising Organizations\",\"Senior Manager, Data Analyst\"],[\"not mentioned\",\"Senior Business Intelligence & Data Science Analyst\"],[\"Insurance Carriers\",\"Risk Adjustment Data Analyst\"],[\"Health Care Services & Hospitals\",\"Data Analyst III\"],[\"Internet\",\"Senior Data Analyst, Retail Media\"],[\"Insurance Carriers\",\"Sr IT Technical Data Analyst\"],[\"Advertising & Marketing\",\"Senior Marketing Data Analyst\"],[\"Consulting\",\"Data Analyst III\"],[\"IT Services\",\"TX Healthcare Data/Reporting Analyst\"],[\"Investment Banking & Asset Management\",\"Senior SQL Data Warehouse Analyst\"],[\"IT Services\",\"Junior Data Analyst\"],[\"Computer Hardware & Software\",\"SR. Power BI with DAX - Data Analyst\"],[\"Staffing & Outsourcing\",\"Informatica IDQ - Data Quality Analyst (Contract)\"],[\"Enterprise Software & Network Solutions\",\"Senior Solutions Analyst, Data Specialist\"],[\"not mentioned\",\"Operations data analyst\"],[\"Staffing & Outsourcing\",\"HR Data Analyst\"],[\"Health Care Services & Hospitals\",\"Healthcare Senior Data Analyst - HEDIS\"],[\"Health Care Services & Hospitals\",\"Senior Data Quality Analyst\"],[\"not mentioned\",\"Financial Data Analyst - Accounting ll\"],[\"not mentioned\",\"Data Analyst - Litigation\"],[\"Staffing & Outsourcing\",\"Quantitative Data Analyst/Developer\"],[\"Biotech & Pharmaceuticals\",\"Sr Business Data Analyst SAP, SKU, Supply Chain\"],[\"Utilities\",\"Senior Data Analyst, Gas Planning and Design Engineering\"],[\"not mentioned\",\"Data Analyst - Cardiac Cath Lab\"],[\"Advertising & Marketing\",\"Senior Data Business Analyst\"],[\"Computer Hardware & Software\",\"Business Analyst/Data Analyst - Capital Markets Data\"],[\"Investment Banking & Asset Management\",\"Firmwide Reference Data Operations, Pricing Operations, Analyst\"],[\"Consulting\",\"Senior Healthcare Data Analyst\"],[\"not mentioned\",\"Data Analyst, Quality & Patient Safety\"],[\"Health Care Services & Hospitals\",\"Senior Data Analyst - FHC - Family Support Center\"],[\"Advertising & Marketing\",\"QA Data Analyst\"],[\"not mentioned\",\"Senior Data Analyst for Customer Based Management\"],[\"Investment Banking & Asset Management\",\"Data Analyst/Project Manager in Jersey City, New Jersey | Careers at Harborside\"],[\"Investment Banking & Asset Management\",\"Senior Financial Analyst - Enterprise Data\"],[\"IT Services\",\"Data Analyst with Data Lineage/Rochade\"],[\"Investment Banking & Asset Management\",\"Senior Market Data Content Acquisition/Procurement Analyst\"],[\"Investment Banking & Asset Management\",\"Sr. Specialist Reporting Data Analyst /Engineer - Cloud\"],[\"Insurance Carriers\",\"Senior Business Analyst, Data Management\"],[\"Health Care Services & Hospitals\",\"Data Science Analyst II - Mount Sinai Health Partners\"],[\"Health Care Services & Hospitals\",\"NY Healthcare Data/Reporting Analyst\"],[\"Staffing & Outsourcing\",\"Data Analyst\"],[\"Staffing & Outsourcing\",\"Technical Business Analyst with Retail Banking and Large Data Program\"],[\"Enterprise Software & Network Solutions\",\"Principal Sales Operations Analyst - Oracle Data Cloud\"],[\"Health Care Services & Hospitals\",\"QA Production Data Analyst\"],[\"IT Services\",\"JPSC-7462 - Data Analyst Lead - Sr. Tableau Lead\"],[\"IT Services\",\"Data Services Lead Analyst\"],[\"Research & Development\",\"Senior Data Analyst, Go-Live\"],[\"not mentioned\",\"Data Analyst III- SAS req'd\"],[\"Health Care Services & Hospitals\",\"Senior Healthcare Data Analyst\"],[\"Staffing & Outsourcing\",\"Regulatory Risk Management Data Analytics and Reporting Analyst\"],[\"Computer Hardware & Software\",\"NY Healthcare Data/Reporting Analyst\"],[\"Investment Banking & Asset Management\",\"Specialist, Data and Reporting Analyst - IT Change Management\"],[\"IT Services\",\"Datastage Developer/Consultant/IBM Websphere Datastage Developer(ETL Data Analyst)-Only Local to NY/\"],[\"Health Care Services & Hospitals\",\"Data Analyst III- SAS req'd\"],[\"not mentioned\",\"Data Warehouse systems analyst\"],[\"Staffing & Outsourcing\",\"TX Healthcare Data/Reporting Analyst\"],[\"Staffing & Outsourcing\",\"NY Healthcare Data/Reporting Analyst\"],[\"Staffing & Outsourcing\",\"Senior Data Analyst - RWE\"],[\"Advertising & Marketing\",\"Data Migration Lead/ Analyst (migration of data to the new target system)\"],[\"Consulting\",\"Senior Data Analytics Solutions Analyst\"],[\"not mentioned\",\"Technical Analyst - Access/Identity Data Security\"],[\"Health Care Services & Hospitals\",\"Data Analyst - Cardiac Cath Lab\"],[\"IT Services\",\"Data Quality Management Analyst\"],[\"Consumer Products Manufacturing\",\"Business Analyst (SQL/SQL TOAD, Excel, XML, X12, HL7 messaging, data quality analysis)\"],[\"Enterprise Software & Network Solutions\",\"Senior Teradata Developer / Data Analyst\"],[\"Health Care Services & Hospitals\",\"Data & Interface Analyst\"],[\"Staffing & Outsourcing\",\"NY Healthcare Data/Reporting Analyst\"],[\"not mentioned\",\"Healthcare Senior Data Analyst - HEDIS\"],[\"not mentioned\",\"Data Analyst (Must have PL/SQL and Healthcare background)\"],[\"Accounting\",\"Data Analyst / IT Data & Business Intelligence\"],[\"Investment Banking & Asset Management\",\"Sr. Specialist Reporting Data Analyst -Technology\"],[\"Staffing & Outsourcing\",\"Sr. Programmer Analyst - Big Data\"],[\"not mentioned\",\"Senior Data Analyst - FHC - Family Support Center\"],[\"IT Services\",\"Data Analyst \\u00e2 Junior\"],[\"Investment Banking & Asset Management\",\"Sr. Principal Metrics Analyst- Data Scientist\"],[\"Lending\",\"Product & Pricing Data Analyst\"],[\"IT Services\",\"SAP Data Analyst\"],[\"not mentioned\",\"Senior Data Analyst (E-commerce, Marketing)\"],[\"Staffing & Outsourcing\",\"Clinical Data Designer (Sr. SDTM Programmer/Analyst)\"],[\"Consulting\",\"Senior Data Analytics Solutions Analyst with Security Clearance\"],[\"IT Services\",\"JPSC-7176 - Position 35, 59, 62, 100,101,102, 141,142,166 : Senior Data Analyst\"],[\"Health Care Services & Hospitals\",\"Senior Billing Data Analyst\"],[\"Consulting\",\"Master Data Analyst\"],[\"not mentioned\",\"Senior Data Analyst\"],[\"Biotech & Pharmaceuticals\",\"Senior Functional Analyst SAP Data design, SD/MM/PP\"],[\"Municipal Governments\",\"Data Analyst\"],[\"Electrical & Electronic Manufacturing\",\"Data Analyst\"],[\"Colleges & Universities\",\"Data Analyst\"],[\"Computer Hardware & Software\",\"Data Analyst\"],[\"Consulting\",\"Data Analyst\"],[\"not mentioned\",\"Data Analyst\"],[\"Consulting\",\"Data Engineer / Data Analyst\"],[\"Enterprise Software & Network Solutions\",\"Junior Data Analyst\"],[\"not mentioned\",\"Data Analyst\"],[\"Staffing & Outsourcing\",\"Data Analyst : 20\"],[\"Investment Banking & Asset Management\",\"Data Intelligence - Product Data Quality Analyst (DE - RefData) - Data as a Service\"],[\"IT Services\",\"Data Engineer/Data Analyst (REMOTE/Eventually Onsite)\"],[\"Staffing & Outsourcing\",\"Data Engineer/Analyst\"],[\"Consumer Products Manufacturing\",\"Quality Data Analyst\"],[\"not mentioned\",\"Technical Data Analyst/Architect\"],[\"not mentioned\",\"Data Governance Analyst II\"],[\"IT Services\",\"Big Data Analyst\"],[\"Internet\",\"Senior Data Analyst\"],[\"not mentioned\",\"Data Analyst\"],[\"not mentioned\",\"Data Analyst at Salt Lake City, UT\"],[\"Computer Hardware & Software\",\"Senior Data Analyst\"],[\"Industrial Manufacturing\",\"Data Scientist/Analyst - Noke\"],[\"IT Services\",\"Data Analyst - W2 candidate\"],[\"not mentioned\",\"Senior Data Analyst\"],[\"not mentioned\",\"Marketing Coordinator / Data Analyst\"],[\"not mentioned\",\"Senior Data Analyst\"],[\"Energy\",\"Financial Data Analyst\"],[\"Consulting\",\"Special Operations (LREC) Incentives and Proficiency Data Analyst\"],[\"IT Services\",\"Senior Data Analyst\"],[\"Accounting\",\"a. Senior Data and Business Analyst\"],[\"Energy\",\"Fund Data Analyst\"],[\"IT Services\",\"Sr Python Data Analyst(no c2c) contract w2 only\"],[\"Staffing & Outsourcing\",\"TX Healthcare Data/Reporting Analyst\"],[\"Staffing & Outsourcing\",\"Data Analyst\"],[\"Preschool & Child Care\",\"Data Analyst, District Office - Accountability Office\"],[\"Social Assistance\",\"Data Analyst (Kings County)\"],[\"Aerospace & Defense\",\"Tactical Data Link (TDL) Analyst\"],[\"Colleges & Universities\",\"Data Analyst\"],[\"Consulting\",\"Data Science Analyst\"],[\"Social Assistance\",\"Junior Data Analyst\"],[\"IT Services\",\"Junior Data Analyst\"],[\"Architectural & Engineering Services\",\"Junior Data Analyst\"],[\"not mentioned\",\"Data Science Analyst\"],[\"not mentioned\",\"Data Analyst\"],[\"Social Assistance\",\"Data Analyst\"],[\"IT Services\",\"Data Analyst\"],[\"Architectural & Engineering Services\",\"Data Analyst\"],[\"Staffing & Outsourcing\",\"Data Analyst\"],[\"Food & Beverage Manufacturing\",\"Finance Data Analytics Analyst\"],[\"Consulting\",\"Business Intelligence/Data Analyst with Security Clearance\"],[\"Vehicle Dealers\",\"Research & Data Analyst\"],[\"Commercial Equipment Repair & Maintenance\",\"Metrics & Data Analyst\"],[\"IT Services\",\"Tactical Data Link (TDL) Analyst-\"],[\"Consulting\",\"Senior Data Analyst- Secret Clearance-\"],[\"IT Services\",\"Junior Data Analyst\"],[\"Accounting\",\"HQ Data Analyst\"],[\"IT Services\",\"USMTF Data Analyst\"],[\"Architectural & Engineering Services\",\"Mid Data Analyst\"],[\"not mentioned\",\"Product Data Business Analyst\"],[\"Staffing & Outsourcing\",\"Retail Data Quality Analyst\"],[\"IT Services\",\"USMTF Data Analyst with Security Clearance\"],[\"Telecommunications Services\",\"Senior Data Strategy Analyst (SDSA)\"],[\"Consulting\",\"Data Analyst - Va Beach - VA with Security Clearance\"],[\"Consulting\",\"Configuration and Data Management (C&DM) Analyst\"],[\"Aerospace & Defense\",\"Jr Management Analyst (Data Management)\"],[\"Architectural & Engineering Services\",\"Senior Data Analyst\"],[\"IT Services\",\"Tactical Data Link (TDL) Analyst\"],[\"Real Estate\",\"Sr Data Business Analyst - FacilitySource\"],[\"Consulting\",\"Acoustics Data Analyst/Flight Test Engineer\"],[\"not mentioned\",\"Senior Data Analyst\"],[\"Consulting\",\"Senior Data Analyst- Secret Clearance\"],[\"Telecommunications Services\",\"Senior Data Management Analyst (SDMA)\"],[\"Consulting\",\"Data Analyst - Senior Consultant\"],[\"Consulting\",\"Data Warehouse Programmer/Analyst\"],[\"not mentioned\",\"Data Analyst (Navy) - Mid and Junior Level\"],[\"Consulting\",\"Data Analyst - Senior Consultant - Norfolk, VA with Security Clearance\"],[\"Commercial Equipment Repair & Maintenance\",\"Program Analyst - AIS/Maintenance Data System Coordinator\"],[\"Aerospace & Defense\",\"MSC Logistics Data Analyst\"],[\"not mentioned\",\"Data Analyst (Navy) - Mid Level\"],[\"IT Services\",\"Business Intelligence & Data Analyst\"],[\"Building & Personnel Services\",\"Sr Data Business Analyst - FacilitySource\"],[\"not mentioned\",\"Senior Data Analyst (Navy)\"],[\"IT Services\",\"NIWC Service Desk Analyst Component Enterprise Data Center (CEDC with Security Clearance\"],[\"IT Services\",\"NIWC Service Desk Analyst Component Enterprise Data Center (CEDC).\"],[\"IT Services\",\"Junior Data Analyst\"],[\"IT Services\",\"Data Analyst\"],[\"Colleges & Universities\",\"Data Analyst\"],[\"Insurance Carriers\",\"AvMed Data Governance Analyst\"],[\"Health Care Services & Hospitals\",\"Data Management Analyst II\"],[\"IT Services\",\"Junior Data Analyst\"],[\"IT Services\",\"Data Analyst \\u00e2 Junior\"],[\"Health Care Services & Hospitals\",\"IT Analyst III Data Systems\"],[\"Computer Hardware & Software\",\"Product Data Analyst\"],[\"Internet\",\"Lead Data Analyst\"],[\"Internet\",\"Data Analytics Insights Analyst\"],[\"Enterprise Software & Network Solutions\",\"Data Analyst\"],[\"Staffing & Outsourcing\",\"Data Analyst\"],[\"IT Services\",\"Data Analyst\"],[\"not mentioned\",\"Product Data & Insights Analyst\"],[\"Internet\",\"Survey Data Analyst\"],[\"Internet\",\"Senior Data Analyst\"],[\"Staffing & Outsourcing\",\"Data Analyst\"],[\"Enterprise Software & Network Solutions\",\"Data Analyst\"],[\"Federal Agencies\",\"Data and Policy Analyst - Statistical Programmer\"],[\"Staffing & Outsourcing\",\"Data Analyst\"],[\"Banks & Credit Unions\",\"Senior Data Analyst, Marketing\"],[\"not mentioned\",\"Data Analyst\"],[\"Accounting\",\"Data Analyst\"],[\"IT Services\",\"Data Analyst\"],[\"Staffing & Outsourcing\",\"Data Analyst\"],[\"not mentioned\",\"Data Analyst\"],[\"Advertising & Marketing\",\"Data Analyst\"],[\"IT Services\",\"Data Analyst\"],[\"Health Care Services & Hospitals\",\"Senior Database Analyst - Data Warehouse\"],[\"not mentioned\",\"Data Analyst\"],[\"Staffing & Outsourcing\",\"Data Analyst\"],[\"Health Care Services & Hospitals\",\"Data Analyst \\u2013 Finance\"],[\"Real Estate\",\"Data Analyst\"],[\"Video Games\",\"Data Analyst\"],[\"Internet\",\"Data Analyst\"],[\"Health Care Services & Hospitals\",\"Data and Reporting Analyst\"],[\"Colleges & Universities\",\"Data Analyst\"],[\"TV Broadcast & Cable Networks\",\"Advanced Data Analytics Analyst\"],[\"Construction\",\"Data Analyst\"],[\"Consulting\",\"Data Analyst\"],[\"IT Services\",\"Data Analyst\"],[\"not mentioned\",\"Data Analyst\"],[\"Health Care Services & Hospitals\",\"Senior Data Intelligence Analyst\"],[\"Internet\",\"Senior Data Analyst, Consumer Applications\"],[\"Investment Banking & Asset Management\",\"Data Governance Analyst\"],[\"not mentioned\",\"Data Analyst\"],[\"TV Broadcast & Cable Networks\",\"Senior Data Analyst, Data Insights\"],[\"Consulting\",\"Data Analyst\"],[\"Colleges & Universities\",\"Workday Technical Analyst- Data Conversions\"],[\"Consulting\",\"Data Analyst Healthcare - Experienced or Entry Level\"],[\"Health, Beauty, & Fitness\",\"Woocommerce Data Governance Analyst\"],[\"Motion Picture Production & Distribution\",\"Analyst, Data Operations\"],[\"not mentioned\",\"Data Analyst\"],[\"Construction\",\"Data Analyst\"],[\"Video Games\",\"Data Analyst (Apex Legends)\"],[\"Health Care Services & Hospitals\",\"Data Intelligence Analyst II ( Epic Certification Required )\"],[\"Investment Banking & Asset Management\",\"Market Data Analyst\"],[\"TV Broadcast & Cable Networks\",\"Sr Analyst, Data Operations\"],[\"Health Care Services & Hospitals\",\"Data Analyst (Ryan White)\"],[\"Internet\",\"Senior Data Analyst\"],[\"Investment Banking & Asset Management\",\"Data System Analyst I, LACERA (Senior Java Developer)\"],[\"Publishing\",\"Data Analyst\"],[\"not mentioned\",\"Data Analyst\"],[\"Financial Transaction Processing\",\"Data Analyst\"],[\"IT Services\",\"Junior Data Analyst\"],[\"Consulting\",\"Data Analyst\"],[\"Advertising & Marketing\",\"Marketing Data Analyst\"],[\"Federal Agencies\",\"Data and Policy Analyst - Writer/Coordinator\"],[\"Health Care Services & Hospitals\",\"Sr. Data/Report System Analyst\"],[\"not mentioned\",\"Equity Data/Research Analyst\"],[\"Video Games\",\"Senior Data Analyst\"],[\"Brokerage Services\",\"Data Analyst\"],[\"not mentioned\",\"Data Analyst - (Python)\"],[\"not mentioned\",\"Data Analyst / Developer\"],[\"Health Care Services & Hospitals\",\"Data Analyst I\"],[\"Municipal Governments\",\"Senior Data Analyst\"],[\"Enterprise Software & Network Solutions\",\"Senior Data Analyst\"],[\"Real Estate\",\"Billingual Chinese - Data Analyst\"],[\"Colleges & Universities\",\"Senior Data Analyst\"],[\"Staffing & Outsourcing\",\"Reporting Data Analyst\"],[\"Internet\",\"Public Policy Data Analyst\"],[\"Health Care Services & Hospitals\",\"Epidemiologist Data Analyst-Urology\"],[\"Biotech & Pharmaceuticals\",\"Data Analyst I\"],[\"Consulting\",\"Data Systems Analyst\"],[\"Internet\",\"Data Analyst, Predictive Analytics\"],[\"Staffing & Outsourcing\",\"Data Reporting Analyst\"],[\"TV Broadcast & Cable Networks\",\"Senior Data Analyst\"],[\"not mentioned\",\"Business Data Analyst\"],[\"Video Games\",\"Business Data Analyst\"],[\"Health Care Services & Hospitals\",\"Epidemiologist Data Analyst-Urology\"],[\"Staffing & Outsourcing\",\"Mid-Senior Data Analyst\"],[\"Video Games\",\"Associate Player Support Data Analyst\"],[\"Other Retail Stores\",\"BI/Data Analyst\"],[\"Internet\",\"Senior Data Analyst, Ad Operations\"],[\"IT Services\",\"Junior Data Analyst\"],[\"not mentioned\",\"Customer Insights Manager, Senior Data Analyst | Mobile\"],[\"Health Care Services & Hospitals\",\"Research Senior Data Analyst - Kaiser Permanente Bernard J. Tyson School of Medicine\"],[\"Consulting\",\"Senior Business Technology Analyst - Big Data (Los Angeles area, CA)\"],[\"Aerospace & Defense\",\"Financial Data Analyst\"],[\"Banks & Credit Unions\",\"Enterprise Data Quality Analyst - EDM\"],[\"Staffing & Outsourcing\",\"Survey Data Analyst\"],[\"not mentioned\",\"Data Analyst/SQL/Healthcare Or Medical OR Clinical\"],[\"not mentioned\",\"Data Analyst Manager\"],[\"Banks & Credit Unions\",\"Enterprise Data Analyst\"],[\"not mentioned\",\"MEDIA DATA ANALYST\"],[\"Internet\",\"Data Analyst - Personalization\"],[\"not mentioned\",\"Data Systems Analyst III\"],[\"Staffing & Outsourcing\",\"Data Analyst / Developer\"],[\"not mentioned\",\"Senior Data Bi Analyst\"],[\"TV Broadcast & Cable Networks\",\"Operations Analyst, Data Governance\"],[\"Insurance Carriers\",\"Analyst, Data (Pharmacy & SQL)\"],[\"Health, Beauty, & Fitness\",\"Sr. Business Analyst, Data Science and Analytics\"],[\"Staffing & Outsourcing\",\"Enterprise Data Quality Analyst - EDM\"],[\"IT Services\",\"Microsoft Dynamics CRM Data Analyst\"],[\"Consumer Products Manufacturing\",\"Marketing Data Analyst, Teleflora\"],[\"Staffing & Outsourcing\",\"Senior Customer Data Analyst : 20\"],[\"not mentioned\",\"REMOTE Data Analyst - POWER BI+MONGO+ DAX EXPERIENCE\"],[\"Internet\",\"Senior Data Analyst - User Growth\"],[\"TV Broadcast & Cable Networks\",\"Automotive Data Analyst\"],[\"Insurance Carriers\",\"Data Analyst - Product\"],[\"Insurance Carriers\",\"Sr. Analyst, Data\"],[\"not mentioned\",\"Senior Data Insights Analyst\"],[\"Real Estate\",\"Bilingual (Chinese) Data Analyst\"],[\"not mentioned\",\"Systems and Data Analyst - SQL\"],[\"Staffing & Outsourcing\",\"Data Entry Analyst\"],[\"not mentioned\",\"Sr Analyst, Data Operations\"],[\"IT Services\",\"Data Intelligence Analyst II\"],[\"not mentioned\",\"Business Analyst / Data Analyst with Financial Industry Experience\"],[\"Computer Hardware & Software\",\"Senior Data Analyst\"],[\"not mentioned\",\"Investment Reporting Data Analyst\"],[\"Health Care Services & Hospitals\",\"Junior Data Analyst (Jr. DA)\"],[\"Staffing & Outsourcing\",\"Sr. Business Data Analyst\"],[\"Staffing & Outsourcing\",\"Data Reporting Analyst\"],[\"Banks & Credit Unions\",\"Pricing Data Analyst\"],[\"Health, Beauty, & Fitness\",\"Senior Data Engineer & Analyst\"],[\"Aerospace & Defense\",\"Principal Data Management Analyst\"],[\"Staffing & Outsourcing\",\"Senior Data Analyst\"],[\"IT Services\",\"Senior Data Analyst (DW)\"],[\"Video Games\",\"Data Analyst, Product\"],[\"Computer Hardware & Software\",\"Digital Media Data Analyst, Apple TV+\"],[\"IT Services\",\"Data Intelligence Analyst\"],[\"not mentioned\",\"Operations Analyst, Data Governance\"],[\"Beauty & Personal Accessories Stores\",\"Senior Data Analyst\"],[\"not mentioned\",\"Data Technician/Analyst/Specialist\"],[\"Internet\",\"Senior Data Analyst\"],[\"not mentioned\",\"Research Data Analyst\"],[\"not mentioned\",\"\\u30101yr OPT+Intern\\u3011Data Analyst \\u4fdd\\u5b9e\\u4e60\\u4fdd\\u5c31\\u4e1a\"],[\"Banks & Credit Unions\",\"Heightened Standards Data Analyst\"],[\"Automotive Parts & Accessories Stores\",\"Corporate: Data Analyst\"],[\"Internet\",\"Senior Data Analyst\"],[\"not mentioned\",\"Data Analyst I- ON SITE POSITION\"],[\"Insurance Carriers\",\"Analyst, Data\"],[\"Research & Development\",\"Senior Data Analyst\"],[\"not mentioned\",\"Credit Data Analyst\"],[\"not mentioned\",\"Sr Performance Metrics Data Analyst\"],[\"not mentioned\",\"Senior Data Analyst\"],[\"Industrial Manufacturing\",\"Junior Data Analyst\"],[\"Health Care Services & Hospitals\",\"SENIOR DATA BI ANALYST\"],[\"Consulting\",\"Data Analyst - MS Access & Excel\"],[\"Consulting\",\"Data Analyst (Asset Management / eDiscovery)\"],[\"Consulting\",\"Junior Data Analyst\"],[\"Consumer Products Manufacturing\",\"Senior Data Analyst\"],[\"Insurance Carriers\",\"Data Analyst - Health, Experienced\"],[\"not mentioned\",\"Product/Data Analyst\"],[\"Chemical Manufacturing\",\"Junior Data Analyst\"],[\"Venture Capital & Private Equity\",\"Reporting Data Analyst\"],[\"Department, Clothing, & Shoe Stores\",\"Data Intelligence Analyst\"],[\"not mentioned\",\"Data Analyst-Cerritos, CA\"],[\"not mentioned\",\"Digital Marketing Data Analyst\"],[\"not mentioned\",\"Sr Performance Metrics Data Analyst\"],[\"K-12 Education\",\"Student Data Compliance Analyst\"],[\"Staffing & Outsourcing\",\"Data Quality Control Analyst\"],[\"Venture Capital & Private Equity\",\"Senior Data Management Analyst\"],[\"not mentioned\",\"Senior Data Analyst\"],[\"Insurance Carriers\",\"Data Analyst HEDIS Star\"],[\"Video Games\",\"Senior Data Analyst\"],[\"Insurance Carriers\",\"Senior Data Analyst\"],[\"Consumer Products Manufacturing\",\"SAP Master Data Analyst\"],[\"Commercial Equipment Repair & Maintenance\",\"Service Operations Data Analyst\"],[\"not mentioned\",\"Data Analyst I\"],[\"not mentioned\",\"Senior Data Management Analyst\"],[\"Health Care Services & Hospitals\",\"System and Data Analyst\"],[\"not mentioned\",\"Service Operations Data Analyst\"],[\"not mentioned\",\"SAP Master Data Analyst\"],[\"not mentioned\",\"Business Analyst Asset Data Management\"],[\"Staffing & Outsourcing\",\"Sr Digital Marketing Data Analyst (PAID SOCIAL)\"],[\"Commercial Equipment Repair & Maintenance\",\"19-0574 - Service Operations Data Analyst\"],[\"Accounting\",\"Discovery Data Analyst\"],[\"not mentioned\",\"Analyst, Financial Master Data\"],[\"Insurance Carriers\",\"Data Analyst-HEDIS & Star\"],[\"Staffing & Outsourcing\",\"Music Copyright Data Analyst\"],[\"Consulting\",\"Senior Data Analyst\"],[\"not mentioned\",\"Senior Data Analyst\"],[\"Accounting\",\"Sr. Data Governance Analyst\"],[\"Insurance Carriers\",\"Data Analyst - Health, Senior\"],[\"not mentioned\",\"Data Analyst-HEDIS & Star\"],[\"IT Services\",\"Data Entry Clerk and Analyst - Financial\"],[\"Motion Picture Production & Distribution\",\"Analyst, Financial Master Data\"],[\"Health Care Services & Hospitals\",\"Senior Clinical Data Analyst\"],[\"Insurance Carriers\",\"Senior Data Analyst (Pharmacy)\"],[\"Insurance Carriers\",\"Sr Analyst, Data\"],[\"not mentioned\",\"Systems and Data Analyst\"],[\"TV Broadcast & Cable Networks\",\"Analyst, Financial Master Data\"],[\"Staffing & Outsourcing\",\"Copyright Data Analyst\"],[\"Consulting\",\"LIMS Master Data Analyst\"],[\"Staffing & Outsourcing\",\"Data Analyst *Temp-Hire*\"],[\"Health Care Services & Hospitals\",\"QM DATA ANALYST II, WHITTIER, FULL TIME DAYS\"],[\"not mentioned\",\"Radar Telemetry Data Analyst - RT\"],[\"Internet\",\"Senior Data Analyst \\u2014 US Safety\"],[\"Insurance Carriers\",\"Data Analyst - Marketing Analytics\"],[\"not mentioned\",\"Radar Telemetry Data Analyst\"],[\"not mentioned\",\"Radar Telemetry Data Analyst\"],[\"not mentioned\",\"Senior Healthcare Data Analyst\"],[\"not mentioned\",\"Radar Telemetry Data Analyst\"],[\"Banks & Credit Unions\",\"Data Analyst\"],[\"Sports & Recreation\",\"Data Analyst\"],[\"Enterprise Software & Network Solutions\",\"Data Analyst\"],[\"Consulting\",\"Data Transformation Analyst\"],[\"Health Care Services & Hospitals\",\"Data Analyst\"],[\"Staffing & Outsourcing\",\"Junior Data Analyst\"],[\"Staffing & Outsourcing\",\"Urgent Need - Data Analyst\"],[\"Advertising & Marketing\",\"Data Analyst\"],[\"Food & Beverage Manufacturing\",\"Business Systems & Data Analyst\"],[\"Computer Hardware & Software\",\"Healthcare Data Analyst - Remote\"],[\"Transportation Management\",\"Junior Data Analyst\"],[\"Colleges & Universities\",\"Data Analyst\"],[\"Staffing & Outsourcing\",\"Product Data Analyst\"],[\"not mentioned\",\"Entry Level / Junior Data Analyst\"],[\"Staffing & Outsourcing\",\"Data Analyst (Junior)\"],[\"Staffing & Outsourcing\",\"Data Analyst\"],[\"Miscellaneous Manufacturing\",\"Associate Marketing Data Analyst\"],[\"Financial Transaction Processing\",\"Outsights Data Analyst\"],[\"Social Assistance\",\"Business Data Analyst\"],[\"Staffing & Outsourcing\",\"Data Analyst\"],[\"Computer Hardware & Software\",\"Data Analyst\"],[\"Banks & Credit Unions\",\"Data Analyst\"],[\"Staffing & Outsourcing\",\"Data Analyst - Excel\"],[\"Consumer Products Manufacturing\",\"Associate Marketing Data Analyst\"],[\"K-12 Education\",\"Data Analyst\"],[\"Municipal Governments\",\"Data Integrity Analyst\"],[\"Investment Banking & Asset Management\",\"Data Integrity Analyst\"],[\"Consulting\",\"Data Analyst - IntelliScript\"],[\"Banks & Credit Unions\",\"Data Analyst\"],[\"Banks & Credit Unions\",\"Reporting and Data Analyst - (North American Collections Analytics for Data and Analytics)\"],[\"IT Services\",\"Data Analyst\"],[\"Health Care Services & Hospitals\",\"Lead Data Analyst\"],[\"Miscellaneous Manufacturing\",\"Manufacturing Data Analyst\"],[\"Computer Hardware & Software\",\"Data Analyst\"],[\"Health Care Services & Hospitals\",\"Data Analyst\"],[\"Staffing & Outsourcing\",\"Data Analyst\"],[\"not mentioned\",\"Data Analyst Intern\"],[\"Consumer Products Manufacturing\",\"Senior Data Analyst\"],[\"Staffing & Outsourcing\",\"Data Analyst\"],[\"IT Services\",\"Junior Data Analyst\"],[\"Logistics & Supply Chain\",\"Senior Data Analyst\"],[\"Staffing & Outsourcing\",\"Data Analyst\"],[\"Consulting\",\"Public Health Data Visualization Analyst\"],[\"not mentioned\",\"Data Operations Analyst\"],[\"Video Games\",\"Data Analyst\"],[\"Municipal Governments\",\"Data Quality Analyst\"],[\"not mentioned\",\"Marketing Data Analyst\"],[\"not mentioned\",\"Senior Data Analyst\"],[\"IT Services\",\"Data Analyst\"],[\"IT Services\",\"Data Analyst\"],[\"Staffing & Outsourcing\",\"Provider Analytics Data Analyst\"],[\"K-12 Education\",\"CSI Data Analyst\"],[\"Biotech & Pharmaceuticals\",\"Outsights Data Analyst\"],[\"not mentioned\",\"Data Analyst\"],[\"IT Services\",\"Provider Analytics Data Analyst\"],[\"Enterprise Software & Network Solutions\",\"Senior Data Analyst\"],[\"Staffing & Outsourcing\",\"Data Governance Analyst\"],[\"Social Assistance\",\"Senior Data Analyst\"],[\"Lending\",\"Senior Data Analyst, Business Intelligence\"],[\"Construction\",\"Data Analyst\"],[\"Accounting\",\"Data Analyst\"],[\"Health Care Services & Hospitals\",\"Data Analyst - Rush Infectious Diseases\"],[\"Staffing & Outsourcing\",\"Data Analyst\"],[\"Banks & Credit Unions\",\"Fair Lending Data Analyst\"],[\"Staffing & Outsourcing\",\"Data Analyst\"],[\"Colleges & Universities\",\"Senior Research Data Analyst\"],[\"not mentioned\",\"Data Analyst\"],[\"Legal\",\"Data Analyst\"],[\"Banks & Credit Unions\",\"Data Management Analyst\"],[\"Enterprise Software & Network Solutions\",\"Data Operations Analyst\"],[\"Enterprise Software & Network Solutions\",\"Data Analyst\"],[\"Energy\",\"Data Analyst, Operations Engineering\"],[\"Accounting\",\"Data Analyst, Tax (Affordable Care Act) (ACA) (Manager) (Multiple Positions)\"],[\"Construction\",\"Business Analyst / Data Analyst\"],[\"Food & Beverage Manufacturing\",\"Master Data Analyst\"],[\"Staffing & Outsourcing\",\"BI Data Analyst\"],[\"Logistics & Supply Chain\",\"Data Quality Analyst\"],[\"IT Services\",\"Senior Data Analyst\"],[\"Staffing & Outsourcing\",\"Senior Data Analyst\"],[\"Other Retail Stores\",\"Tableau Developer/Data Analyst\"],[\"not mentioned\",\"Data Analyst\"],[\"IT Services\",\"Data Analyst\"],[\"IT Services\",\"Data Analyst \\u2013 Level II\"],[\"Banks & Credit Unions\",\"Reporting and Data Analyst - (North American Collections Analytics for Data and Analytics)\"],[\"Legal\",\"Senior Data Analyst\"],[\"not mentioned\",\"Data Analyst\"],[\"Venture Capital & Private Equity\",\"Senior Trading Systems Data Analyst (Chicago or NY)\"],[\"Advertising & Marketing\",\"Data Analyst/Programmer\"],[\"Consulting\",\"Data Services Business Analyst 2\"],[\"Staffing & Outsourcing\",\"Data Analyst\"],[\"Social Assistance\",\"Call Center Data Analyst\"],[\"Staffing & Outsourcing\",\"Data Analyst - 20\"],[\"not mentioned\",\"Data Governance Analyst\"],[\"Food & Beverage Manufacturing\",\"Data Analyst\"],[\"Biotech & Pharmaceuticals\",\"Senior Global Data Analyst / Power BI Dashboard Developer\"],[\"Staffing & Outsourcing\",\"Data Analyst\"],[\"not mentioned\",\"Data Analyst, Tax (Affordable Care Act) (ACA) (Manager) (Multiple Positions)\"],[\"Food & Beverage Manufacturing\",\"Logistics Data Analyst\"],[\"Staffing & Outsourcing\",\"Data Production Analyst\"],[\"K-12 Education\",\"Senior Data Analyst\"],[\"IT Services\",\"SAS Data Analyst\"],[\"Staffing & Outsourcing\",\"Data Analyst\"],[\"Enterprise Software & Network Solutions\",\"Manufacturing Data Analyst - Woodridge, IL\"],[\"Health Care Services & Hospitals\",\"Senior Data Analyst\"],[\"Catering & Food Service Contractors\",\"Logistics Data Analyst\"],[\"Colleges & Universities\",\"Visiting Undergraduate Affairs Data Analyst - Office of the Vice Provost for Undergraduate Affairs & Academic Programs\"],[\"Banks & Credit Unions\",\"Contract Analyst - Enterprise Market Data\"],[\"Advertising & Marketing\",\"Marketing Data Analyst - CPG\"],[\"K-12 Education\",\"Senior Data Analyst\"],[\"not mentioned\",\"IT Risk and Compliance Data Reporting Analyst\"],[\"Banks & Credit Unions\",\"Data Analyst / Business Lead Generation Specialist [Part-Time]\"],[\"IT Services\",\"JPSC-5704 - Data Analyst\"],[\"K-12 Education\",\"Workforce Data Analyst\"],[\"IT Services\",\"Junior Data Analyst\"],[\"not mentioned\",\"Senior Data Analyst\"],[\"Investment Banking & Asset Management\",\"Senior Trading Systems Data Analyst (Chicago or NY)\"],[\"not mentioned\",\"Data Analyst-IT III\"],[\"Investment Banking & Asset Management\",\"Sr Analyst, Distrib Data Eng\"],[\"Consulting\",\"Data Analyst (Supply Chain) - May Reside Anywhere in the US - Up to 100% Travel\"],[\"IT Services\",\"SAS Data Analyst/Reports Writer\"],[\"Computer Hardware & Software\",\"Data Scientist - Sr. Analyst\"],[\"not mentioned\",\"Clinical Practice Data Analyst Specialist (Clinical Research Data Manager) - Mile Square Main\"],[\"IT Services\",\"QA Analyst - DATA Base Exp\"],[\"Health Care Services & Hospitals\",\"Philanthropy Operations Associate - Data Analyst\"],[\"Computer Hardware & Software\",\"Financial Systems Lead Data and Reporting Analyst\"],[\"Health Care Products Manufacturing\",\"Data Entry and compliance Analyst\"],[\"Enterprise Software & Network Solutions\",\"Lead Data Analyst\"],[\"Biotech & Pharmaceuticals\",\"Senior Data Analyst Informatics\"],[\"Industrial Manufacturing\",\"ERP Data Migration Analyst in Glenview, IL at Signode\"],[\"Consulting\",\"Data Security Analytics Analyst\"],[\"Health Care Services & Hospitals\",\"Clinical Practice Data Analyst Specialist (Clinical Research Data Manager) Mile Square Main (Job ID\"],[\"Staffing & Outsourcing\",\"Data Analyst IV\"],[\"Staffing & Outsourcing\",\"Senior Data Analyst - Analytics, Marketing, CPG\"],[\"Staffing & Outsourcing\",\"SAP Data Management Analyst\"],[\"Staffing & Outsourcing\",\"Senior Marketing Data Analyst (Real Estate)\"],[\"Transportation Management\",\"Logistics Data Analyst II\"],[\"Drug & Health Stores\",\"Senior Analyst, Data Analytics\"],[\"Financial Transaction Processing\",\"Senior Data Analyst - Informatics\"],[\"Wholesale\",\"Data Quality Analyst-Product Content Specialist\"],[\"not mentioned\",\"Technical Web Data Collection Analyst\"],[\"Biotech & Pharmaceuticals\",\"Sr. Sales Operations & Data Analyst\"],[\"not mentioned\",\"Sales Data Analyst\"],[\"not mentioned\",\"Lead Data Analyst\"],[\"not mentioned\",\"Senior Healthcare Data Analyst\"],[\"Staffing & Outsourcing\",\"Senior data analyst\"],[\"Membership Organizations\",\"Data Analyst (MPI)\"],[\"Logistics & Supply Chain\",\"Senior Data Analyst, Sales\"],[\"not mentioned\",\"Sr. BI Data Analyst / QlikSense\"],[\"Staffing & Outsourcing\",\"Data Governance and Analytics Analyst\"],[\"not mentioned\",\"R & Python / Sr. Information Data Analyst\"],[\"Health Care Services & Hospitals\",\"Clinical Practice Data Analyst Specialist (Clinical Research Data Manager) - Mile Square Main\"],[\"Insurance Carriers\",\"Lead Data Analyst\"],[\"Colleges & Universities\",\"Clinical Practice Data Analyst Specialist\"],[\"Advertising & Marketing\",\"Sr. Business Analyst Data Privacy\"],[\"not mentioned\",\"SAS Analyst / Data Analytics /Sr. information Data Analyst\"],[\"Enterprise Software & Network Solutions\",\"IT Risk and Compliance Data Reporting Analyst\"],[\"Food & Beverage Stores\",\"Analyst IV Systems - Data Engineering\"],[\"IT Services\",\"Data Analyst Alteryx Experience MUST\"],[\"Accounting\",\"Sr. Business Analyst Data Privacy\"],[\"Accounting\",\"SAS Data Analyst\"],[\"Drug & Health Stores\",\"Business Systems Analyst III - Data Engineering(Lead Product Owner)\"],[\"not mentioned\",\"Sr. Data Governance Business Analyst\"],[\"Banks & Credit Unions\",\"Data Scientist Sr. - Conversation Designer & NLP Analyst\"],[\"Accounting\",\"Data analyst with Bigdata\"],[\"Wholesale\",\"Data Analyst\"],[\"Investment Banking & Asset Management\",\"Data Analyst I\"],[\"Legal\",\"Data Analyst\"],[\"Casual Restaurants\",\"Data Analyst\"],[\"Telecommunications Services\",\"Data Quality Analyst\"],[\"Consumer Products Manufacturing\",\"Financial Data Analyst\"],[\"Staffing & Outsourcing\",\"Cost Data Analyst\"],[\"Computer Hardware & Software\",\"Data Analyst\"],[\"Health Care Services & Hospitals\",\"Data Analyst, Reporting\"],[\"Real Estate\",\"Product and Data Analyst\"],[\"Staffing & Outsourcing\",\"Data Analyst - 20\"],[\"Accounting\",\"Data Analyst\"],[\"Investment Banking & Asset Management\",\"Analyst, Data Mgmt / Quant Analysis\"],[\"Wholesale\",\"Data Analyst\"],[\"not mentioned\",\"Data Analyst\"],[\"Health Care Services & Hospitals\",\"Data Analyst & Healthcare Analytics\"],[\"IT Services\",\"Data Analyst\"],[\"Consulting\",\"Business Analyst Data Governance\"],[\"not mentioned\",\"Data Analyst\"],[\"Municipal Governments\",\"Data Analyst\"],[\"Oil & Gas Services\",\"XYZ Data Analyst\"],[\"not mentioned\",\"Data & Reporting Analyst\"],[\"Staffing & Outsourcing\",\"Performance Data Analyst\"],[\"not mentioned\",\"Data Analyst II\"],[\"Financial Transaction Processing\",\"Data Analyst II\"],[\"Staffing & Outsourcing\",\"Business Analyst (Data Integration/Salesforce)\"],[\"Enterprise Software & Network Solutions\",\"Compensation & HR Data Analyst\"],[\"Accounting\",\"Data Quality Analyst\"],[\"IT Services\",\"Data Expert Analyst/Modeler\"],[\"IT Services\",\"Data Quality Analyst\"],[\"IT Services\",\"Data Analyst\"],[\"IT Services\",\"Data Warehouse Analyst - PL/SQL - 10\"],[\"Health Care Services & Hospitals\",\"Operations Data Analyst\"],[\"IT Services\",\"Data Quality Analyst\"],[\"not mentioned\",\"Data Analyst MDM\"],[\"Computer Hardware & Software\",\"Data Analyst (LiDar, Ortho/Imagery)\"],[\"not mentioned\",\"Aircraft Data Analyst\"],[\"Enterprise Software & Network Solutions\",\"Data Analyst Lead - SAP\"],[\"Consulting\",\"Environmental Data Analyst - Disaster Recovery\"],[\"Casual Restaurants\",\"Data Analyst Manager\"],[\"Consulting\",\"Data Warehouse Analyst\"],[\"not mentioned\",\"Data Warehouse Analyst\"],[\"not mentioned\",\"Data Analyst III (Healthcare Analytics)\"],[\"Staffing & Outsourcing\",\"Data Warehouse Analyst\"],[\"Consulting\",\"MDM Data Analyst\"],[\"Consulting\",\"Data Analyst - Report Writer\"],[\"Sporting Goods Stores\",\"Omnichannel Marketing Data Analyst\"],[\"Health Care Services & Hospitals\",\"Senior Data Analyst\"],[\"IT Services\",\"Data Modeler/Data Analyst\"],[\"Federal Agencies\",\"Data Collector/Analyst (Entry Level)\"],[\"Insurance Carriers\",\"Data Analyst III (Healthcare Analytics)\"],[\"Staffing & Outsourcing\",\"Data Warehouse Analyst\"],[\"not mentioned\",\"Data Governance Analyst\"],[\"Staffing & Outsourcing\",\"Data Quality Analyst\"],[\"Insurance Carriers\",\"Data Analyst III (Healthcare Analytics)\"],[\"Investment Banking & Asset Management\",\"Data Analyst III\"],[\"Health Care Services & Hospitals\",\"CBO Data Analyst\"],[\"Health Care Services & Hospitals\",\"Lead Quality Data Analyst\"],[\"Staffing & Outsourcing\",\"Master Data Management Analyst\"],[\"Publishing\",\"DATA WAREHOUSE ANALYST III\"],[\"Staffing & Outsourcing\",\"Senior Data Analyst\"],[\"not mentioned\",\"Master Data Analyst\"],[\"IT Services\",\"Data Warehouse Analyst PL/SQL\"],[\"Telecommunications Services\",\"Sr. Data Governance Analyst\"],[\"IT Services\",\"Role: Data Warehouse Analyst - Direct Client.\"],[\"Enterprise Software & Network Solutions\",\"eDiscovery Data Analyst\"],[\"Health Care Services & Hospitals\",\"Senior Data Operations Analyst\"],[\"not mentioned\",\"Accounts Receivable Analyst (Data Entry)\"],[\"Staffing & Outsourcing\",\"Data Governance Business Analyst\"],[\"Colleges & Universities\",\"Data Management Analyst - Internal Medicine, Infectious\"],[\"Investment Banking & Asset Management\",\"Lead Analyst, Data Mgmt / Quant Analysis\"],[\"Health Care Services & Hospitals\",\"HCC Data Analyst\"],[\"Health Care Services & Hospitals\",\"Business Analyst - IT Data Warehouse\"],[\"Staffing & Outsourcing\",\"VBA Software developer / IT Data Analyst SQL\"],[\"Health Care Services & Hospitals\",\"Healthcare Information and Data Analyst II\"],[\"Staffing & Outsourcing\",\"Software Engineer/Data Analyst\"],[\"Staffing & Outsourcing\",\"Financial Data Analyst - Data Mining, Analytics, Reporting\"],[\"Staffing & Outsourcing\",\"Splunk SME / Data Analyst _ TXho_\"],[\"Staffing & Outsourcing\",\"Data Warehouse Analyst III\"],[\"Staffing & Outsourcing\",\"Contract data validation analyst\"],[\"Consulting\",\"Data Warehouse Analyst III\"],[\"not mentioned\",\"Electronic Data Interchange Analyst (EDI)\"],[\"Banks & Credit Unions\",\"Senior Data Analyst\"],[\"IT Services\",\"Data Expert (Analyst/Modeler)\"],[\"Municipal Governments\",\".Net Developer - Program Data Design Analyst\"],[\"Banks & Credit Unions\",\"Data Analyst\"],[\"Enterprise Software & Network Solutions\",\"Senior Data Analyst\"],[\"Banks & Credit Unions\",\"Data Warehouse Analyst II-ST\"],[\"Construction\",\"SQL Developer/Data Analyst\"],[\"Staffing & Outsourcing\",\"Jr. Analyst Data/Reporting\"],[\"Automotive Parts & Accessories Stores\",\"Senior Data Analyst\"],[\"Banks & Credit Unions\",\"Data Warehouse Analyst III\"],[\"Staffing & Outsourcing\",\"Data Analyst\"],[\"Staffing & Outsourcing\",\"Data Analyst\"],[\"Telecommunications Services\",\"Data Analyst\"],[\"Colleges & Universities\",\"Business Data Analyst\"],[\"Staffing & Outsourcing\",\"Data Analyst\"],[\"Staffing & Outsourcing\",\"Data Analyst\"],[\"Staffing & Outsourcing\",\"Data Analyst\"],[\"Staffing & Outsourcing\",\"Data Analyst\"],[\"IT Services\",\"Data Analyst\"],[\"Social Assistance\",\"Data Analyst\"],[\"not mentioned\",\"Data Analyst\"],[\"Electrical & Electronic Manufacturing\",\"Fall 2020 Supply Chain Data Analyst Intern\"],[\"Investment Banking & Asset Management\",\"Data Experience Analyst\"],[\"IT Services\",\"Data Analyst\"],[\"not mentioned\",\"Data Analyst\"],[\"Colleges & Universities\",\"Data Analyst, Marketing\"],[\"Banks & Credit Unions\",\"Data Control Business Analyst\"],[\"Banks & Credit Unions\",\"Network Security System/Data Analyst\"],[\"Banks & Credit Unions\",\"Data Center Services Analyst I, II, III, or Senior\"],[\"Banks & Credit Unions\",\"Data Analyst\"],[\"Internet\",\"Central Flow Data Analyst\"],[\"not mentioned\",\"Data Center Services Analyst I, II, III, or Senior\"],[\"not mentioned\",\"Data Analyst - Data Science and Analytics\"],[\"not mentioned\",\"Data Analyst\"],[\"Colleges & Universities\",\"Data Programmer/Analyst\"],[\"IT Services\",\"Master Data Operation Analyst\"],[\"Staffing & Outsourcing\",\"Data Reporting Analyst\"],[\"IT Services\",\"Data Quality Analyst\"],[\"Gas Stations\",\"Analyst (Global Data and Analytics)\"],[\"Food & Beverage Manufacturing\",\"Senior Business Intelligence Data Analyst\"],[\"Staffing & Outsourcing\",\"Senior Data Analyst\"],[\"Advertising & Marketing\",\"System Analyst/Data Analyst/ Data Governance Analyst/ Collibra\"],[\"Automotive Parts & Accessories Stores\",\"Automotive Data Analyst\"],[\"not mentioned\",\"Reporting & Data Analyst\"],[\"Truck Rental & Leasing\",\"Data/Business Analyst\"],[\"Banks & Credit Unions\",\"Data Quality (DQ) Problem Management Analyst\"],[\"Health Care Services & Hospitals\",\"Statistician/Data Analyst/SQL Coder\"],[\"Staffing & Outsourcing\",\"Business Data Analyst - I\"],[\"Consulting\",\"Technology Analyst | Data Management - Data Integration | Informatica\"],[\"IT Services\",\"Senior Data Analyst w/ Collibra\"],[\"not mentioned\",\"SYSTEMS and DATA ANALYST\"],[\"IT Services\",\"Data Modeler / Analyst with Data Steward\"],[\"Enterprise Software & Network Solutions\",\"SQL Data Analyst\"],[\"Investment Banking & Asset Management\",\"Data Analyst - Financial Advisor Services\"],[\"Insurance Agencies & Brokerages\",\"Marketing Data Analyst\"],[\"Health Care Services & Hospitals\",\"CLINICAL DATA ANALYST\"],[\"Construction\",\"Senior Data Analyst\"],[\"not mentioned\",\"CLINICAL DATA ANALYST\"],[\"IT Services\",\"Senior Data and Reporting Analyst\"],[\"IT Services\",\"Data analyst\"],[\"Staffing & Outsourcing\",\"Data Analyst/Engineer\"],[\"Staffing & Outsourcing\",\"Finance Data Analyst\"],[\"IT Services\",\"Data Analyst/Business Analyst with SQL\"],[\"Consulting\",\"Financial Data Analyst\"],[\"not mentioned\",\"Technical Business/Data Analyst\"],[\"Staffing & Outsourcing\",\"Accounting Data Analyst\"],[\"Enterprise Software & Network Solutions\",\"Data Analyst/Scientist Intern\"],[\"not mentioned\",\"Senior Data Analyst\"],[\"Advertising & Marketing\",\"Data Engineer/Database Analyst/Data Analyst\"],[\"not mentioned\",\"Data System Analyst with SQL\"],[\"not mentioned\",\"Senior Data Analyst\"],[\"Accounting\",\"ETL QA / Data Analyst\"],[\"Biotech & Pharmaceuticals\",\"Analyst Pharmacy Quality Data\"],[\"Gas Stations\",\"Analyst, Global Data Governance & Strategy\"],[\"Staffing & Outsourcing\",\"SQL/SAS Data Analyst\"],[\"not mentioned\",\"Senior Data Analyst\"],[\"Banks & Credit Unions\",\"Risk/Regulatory Reporting Project Data Analyst\"],[\"IT Services\",\"Data Architect /Data Modeler/Data Analyst\"],[\"Staffing & Outsourcing\",\"Data Analyst - Mid-Level\"],[\"Insurance Carriers\",\"Sr. Data Business Analyst-Docutech\"],[\"Staffing & Outsourcing\",\"Information Security Data Analyst\"],[\"Consulting\",\"Financial and Data Analyst\"],[\"not mentioned\",\"Transportation Data Analyst\"],[\"Architectural & Engineering Services\",\"Civil Engineer/GIS Data Analyst\"],[\"Insurance Carriers\",\"IT Data Protection Analyst\"],[\"Health Care Services & Hospitals\",\"Business Intelligence - Data Analyst\"],[\"not mentioned\",\"Junior Data Analyst-Phoenix, AZ\"],[\"Staffing & Outsourcing\",\"Data Analyst- San Antonio, Des Moines\"],[\"Staffing & Outsourcing\",\"Senior Data Analyst\"],[\"Staffing & Outsourcing\",\"(Data Analyst) BA/BSA\"],[\"Staffing & Outsourcing\",\"Card Data Analyst\"],[\"Computer Hardware & Software\",\"IT Data Analyst, TS/SCI with Poly\"],[\"Gas Stations\",\"Senior Analyst, Global Data Governance & Strategy\"],[\"not mentioned\",\"Data Analyst with ETL tools and EDW\"],[\"Insurance Carriers\",\"Underwriting Analyst (strong data analytics in actuarial, statistics etc)\"],[\"IT Services\",\"JPSC-6986 - Data Governance Analyst\"],[\"Banks & Credit Unions\",\"Project Regulatory/Risk Data Analyst\"],[\"not mentioned\",\"Marketing Data Analyst Coordinator\"],[\"Consulting\",\"Language Data Analyst\"],[\"Health Care Services & Hospitals\",\"Senior Analyst - Client Data\"],[\"Computer Hardware & Software\",\"Data Analyst II\"],[\"Health Care Services & Hospitals\",\"Data Analyst - Priceguide\"],[\"Biotech & Pharmaceuticals\",\"Senior Data Analyst\"],[\"Real Estate\",\"Junior Data Analyst\"],[\"Health Care Services & Hospitals\",\"Senior Data Analyst\"],[\"Enterprise Software & Network Solutions\",\"Data Analyst\"],[\"Consulting\",\"Data Analyst\"],[\"Staffing & Outsourcing\",\"Data Analyst\"],[\"not mentioned\",\"Data Analyst - Entry Level\"],[\"Staffing & Outsourcing\",\"SQL Data Analyst\"],[\"Internet\",\"Data Analyst\"],[\"IT Services\",\"Junior Data Analyst\"],[\"not mentioned\",\"Data Analyst, Data & Analytics (Advanced Analytics) Manager (Multiple Positions)\"],[\"Architectural & Engineering Services\",\"Data Analyst\"],[\"not mentioned\",\"Pharmaceutical Data Analyst\"],[\"Staffing & Outsourcing\",\"Data Analyst\"],[\"Staffing & Outsourcing\",\"Data Analyst\"],[\"IT Services\",\"Data Analyst\"],[\"IT Services\",\"Data Analyst\"],[\"Express Delivery Services\",\"Data Analyst - Data Science\"],[\"IT Services\",\"Data Analyst\"],[\"Staffing & Outsourcing\",\"Data Reporting Analyst\"],[\"Colleges & Universities\",\"Data Analyst\"],[\"Cable, Internet & Telephone Providers\",\"Data Analyst\"],[\"Metals Brokers\",\"Data Analyst\"],[\"Accounting\",\"Data Analyst, Data & Analytics (Advanced Analytics) Manager (Multiple Positions)\"],[\"Advertising & Marketing\",\"Data Analyst\"],[\"Staffing & Outsourcing\",\"Data Reporting Analyst\"],[\"IT Services\",\"Junior Data Analyst, Master Data\"],[\"Health Care Services & Hospitals\",\"Data Analyst\"],[\"Colleges & Universities\",\"Neuroimaging Junior Data Analyst\"],[\"Insurance Carriers\",\"Healthcare Data Analytics Analyst\"],[\"Health Care Services & Hospitals\",\"Certified Tumor Registrar/Data Analyst [CTR and experience required]\"],[\"not mentioned\",\"Business Systems/Data Analyst [Remote]\"],[\"Investment Banking & Asset Management\",\"CCB Risk - Fraud Risk Data Analyst - Associate\"],[\"IT Services\",\"Data Analyst\"],[\"Biotech & Pharmaceuticals\",\"Analyst Data Intelligence (US)\"],[\"not mentioned\",\"Healthcare Data Analytics Analyst\"],[\"Health Care Services & Hospitals\",\"Data Analyst\"],[\"Colleges & Universities\",\"Clinical Data Analyst\"],[\"IT Services\",\"Data Analyst - Contract - W2\"],[\"not mentioned\",\"Healthcare Data Analyst\"],[\"IT Services\",\"Data Analyst, Value Based Payment (VBP)\"],[\"Publishing\",\"Data Analyst - Digital Media\"],[\"Staffing & Outsourcing\",\"Data Strategy Analyst\"],[\"IT Services\",\"Business Data Analyst\"],[\"Investment Banking & Asset Management\",\"Senior Data Analyst, Specialist\"],[\"Staffing & Outsourcing\",\"Data Analyst/Architect\"],[\"Staffing & Outsourcing\",\"Senior Data Analyst\"],[\"Biotech & Pharmaceuticals\",\"Data Analyst - Contractor\"],[\"Staffing & Outsourcing\",\"SQL Data Analyst\"],[\"Consulting\",\"Data Analyst/Records Management\"],[\"Social Assistance\",\"Senior Data Analyst\"],[\"IT Services\",\"Senior Data Analyst\"],[\"not mentioned\",\"Business / Data Analyst\"],[\"not mentioned\",\"Data Analyst- Remote\"],[\"Staffing & Outsourcing\",\"Data Governance Analyst\"],[\"Colleges & Universities\",\"Senior Data Analyst\"],[\"not mentioned\",\"Data Analyst- Remote\"],[\"Health Care Services & Hospitals\",\"Senior Healthcare Data Analyst - Multiple Positions\"],[\"Colleges & Universities\",\"Data Analyst D\"],[\"Consulting\",\"Data Analyst\"],[\"Staffing & Outsourcing\",\"Data Analyst\"],[\"Vehicle Dealers\",\"Data Analyst- Remote\"],[\"Enterprise Software & Network Solutions\",\"SQL Data Analyst\"],[\"Staffing & Outsourcing\",\"Business/Data Analyst\"],[\"Health Care Services & Hospitals\",\"Data and Information Analyst\"],[\"Consulting\",\"Data Analyst\"],[\"Staffing & Outsourcing\",\"Data Analyst\"],[\"Colleges & Universities\",\"Data Analyst\"],[\"Investment Banking & Asset Management\",\"Senior CX Data Analyst\"],[\"Banks & Credit Unions\",\"Senior Data Management Analyst, Enterprise Data Management, OCDO\"],[\"Aerospace & Defense\",\"Vertical Lift Data Exploitation Analyst\"],[\"IT Services\",\"Data Governance Analyst\"],[\"Investment Banking & Asset Management\",\"Business Data Analyst\"],[\"IT Services\",\"Business Analyst - Data Science & SQL\"],[\"Oil & Gas Services\",\"Lead Geophysical Data Analyst\"],[\"Staffing & Outsourcing\",\"Sales Data Analyst\"],[\"not mentioned\",\"Data Analyst\"],[\"Staffing & Outsourcing\",\"Business Analyst/Data Domain Expert\"],[\"Staffing & Outsourcing\",\"Junior Data Analyst - SQL Programmer\"],[\"Staffing & Outsourcing\",\"Data Analyst\"],[\"Staffing & Outsourcing\",\"Business / Data Analyst\"],[\"not mentioned\",\"Business Analyst with Data domain,media\"],[\"Enterprise Software & Network Solutions\",\"Data Analyst\"],[\"Consulting\",\"Senior Data Analyst\"],[\"Health Care Services & Hospitals\",\"Senior Healthcare Data Analyst - Cost and Utilization Analysis\"],[\"Computer Hardware & Software\",\"Pharmaceutical Customer Data Analyst\"],[\"Staffing & Outsourcing\",\"Data Analyst\"],[\"Staffing & Outsourcing\",\"Senior Data Analyst\"],[\"Insurance Carriers\",\"Program Manager / Business Data Analyst\"],[\"IT Services\",\"DBA / Data Analyst\"],[\"Biotech & Pharmaceuticals\",\"Analyst - Data Intelligence (US)\"],[\"Architectural & Engineering Services\",\"Data Analyst (Philadelphia, PA)\"],[\"Investment Banking & Asset Management\",\"Data & Systems Analyst\"],[\"not mentioned\",\"Business Analyst - Data and Analytics\"],[\"Cable, Internet & Telephone Providers\",\"Lead Data Analyst\"],[\"Investment Banking & Asset Management\",\"Senior Data Analyst - Client Experience\"],[\"Staffing & Outsourcing\",\"Data Analyst and Report Writer\"],[\"Insurance Carriers\",\"Payment Integrity Data Analyst\"],[\"Biotech & Pharmaceuticals\",\"Lead Data Analyst\"],[\"Consulting\",\"Data Analyst-(analytics)\"],[\"not mentioned\",\"Pharmaceutical Data Analyst \\u2013 Analytics\"],[\"not mentioned\",\"Patient Recruitment Data Analyst (ArcGIS)\"],[\"Biotech & Pharmaceuticals\",\"Virology Data Analysts\"],[\"Biotech & Pharmaceuticals\",\"Biochemist Data Analyst\"],[\"Investment Banking & Asset Management\",\"Data Governance Analyst\"],[\"Consulting\",\"Senior Healthcare Data Analyst\"],[\"not mentioned\",\"Healthcare Data Analytics Analyst Senior\"],[\"Health Care Services & Hospitals\",\"SR BUSINESS DATA ANALYST PRN\"],[\"IT Services\",\"AWS Analys/ Data analyst\"],[\"Insurance Carriers\",\"Payment Integrity Data Analyst Job posting in #Philadelphia #ITjobs\"],[\"not mentioned\",\"Sport & Data Analyst\"],[\"Staffing & Outsourcing\",\"Data Analyst Supporting the FBI #20-188\"],[\"Advertising & Marketing\",\"Data Engineer/Reporting Analyst\"],[\"Staffing & Outsourcing\",\"Senior Data Analyst - Project Manager\"],[\"Staffing & Outsourcing\",\"Data Analyst SAS Programmer\"],[\"Consulting\",\"Senior Data Analyst\"],[\"Biotech & Pharmaceuticals\",\"Systems Analyst, Quality Data System\"],[\"IT Services\",\"Data Visualization Project Manager/ Business Analyst (PM / BA)\"],[\"not mentioned\",\"Stability Data Analyst\"],[\"Staffing & Outsourcing\",\"Business Analyst/Data Analyst\"],[\"not mentioned\",\"Stability Data Analyst\"],[\"IT Services\",\"Junior Data Analyst\"],[\"Electrical & Electronic Manufacturing\",\"Business Intelligence and Data Sciences Analyst\"],[\"Investment Banking & Asset Management\",\"Sr Business Analyst (Data Quality)\"],[\"Insurance Carriers\",\"Healthcare Data Analytics Analyst Senior\"],[\"Advertising & Marketing\",\"Mid Level Data Analyst / BI Engineer - Looker, Python, Client Facing\"],[\"Staffing & Outsourcing\",\"Technical Business Analyst (Data Warehouse)\"],[\"Accounting\",\"Data Link Analyst\"],[\"Investment Banking & Asset Management\",\"Lead Analyst, Data Transfer, Integration & Quality, Wilmington, DE\"],[\"Enterprise Software & Network Solutions\",\"Technical Business Analyst (Data Warehouse)\"],[\"Health Care Services & Hospitals\",\"Certified Tumor Registrar/Data Analyst [CTR and experience required]\"],[\"Staffing & Outsourcing\",\"Data Center Migration PMO Analyst/PMO Lead\"],[\"not mentioned\",\"Data Center Migration PMO Analyst/PMO Lead\"],[\"Computer Hardware & Software\",\"Data Analyst / Tableau Developer\"],[\"IT Services\",\"Data Analyst\"],[\"IT Services\",\"Data Analyst\"],[\"Staffing & Outsourcing\",\"Data Analyst\"],[\"Staffing & Outsourcing\",\"Data Analyst I\"],[\"IT Services\",\"Data Reporting Analyst\"],[\"IT Services\",\"Data Analyst\"],[\"Aerospace & Defense\",\"Data Analyst\"],[\"Vehicle Dealers\",\"Marketing & Data Analyst\"],[\"Consulting\",\"Data Analyst\"],[\"Banks & Credit Unions\",\"Data Reporting Analyst\"],[\"Grocery Stores & Supermarkets\",\"Data & Reporting Analyst, Distribution Planning & Operations\"],[\"not mentioned\",\"Data Analyst\"],[\"Federal Agencies\",\"Epidemiologist - Data Analyst\"],[\"not mentioned\",\"Contract Data Analyst\"],[\"IT Services\",\"Epidemiology Data Analyst\"],[\"Staffing & Outsourcing\",\"Data Business Solutions Analyst\"],[\"IT Services\",\"Data Analyst\"],[\"Staffing & Outsourcing\",\"Risk Data Analyst\"],[\"IT Services\",\"Contract Data Analyst\"],[\"Computer Hardware & Software\",\"Senior Data Analyst\"],[\"Computer Hardware & Software\",\"Senior Data Analyst\"],[\"Computer Hardware & Software\",\"Data Analyst\"],[\"Banks & Credit Unions\",\"Epidemiology/Data Analyst, San Antonio, TX, US, ID\"],[\"Staffing & Outsourcing\",\"Senior Data Analyst\"],[\"Pet & Pet Supplies Stores\",\"Senior Data Science Analyst\"],[\"Staffing & Outsourcing\",\"Data Analyst ( SAS,SQL)\"],[\"Consulting\",\"Data Analyst - Top Secret w/ SCI Eligibility\"],[\"Federal Agencies\",\"Epidemiology/Data Analyst\"],[\"IT Services\",\"Epidemiology Data Analyst\"],[\"IT Services\",\"Senior Data Analyst\"],[\"IT Services\",\"Data Security Analyst\"],[\"Social Assistance\",\"Data Security Analyst\"],[\"Aerospace & Defense\",\"Data Security Analyst\"],[\"IT Services\",\"Data Analyst/Engineers\"],[\"not mentioned\",\"Senior Contract Data Analyst\"],[\"Staffing & Outsourcing\",\"Epidemiology Data Analyst\"],[\"Staffing & Outsourcing\",\"IT Data Science Analyst\"],[\"Accounting\",\"Configuration Data Analyst, (Secret Clearance Required) San Antonio, TX, US ID\"],[\"Aerospace & Defense\",\"TECHNICAL DATA ANALYST\"],[\"IT Services\",\"Senior Contract Data Analyst\"],[\"Banks & Credit Unions\",\"Configuration Data Analyst, (Secret Clearance Required) San An with Security Clearance\"],[\"Staffing & Outsourcing\",\"Senior Risk Analyst-Data\"],[\"IT Services\",\"Functional Analyst (CECL Data)\"],[\"Computer Hardware & Software\",\"Data Analyst with Security Clearance\"],[\"Banks & Credit Unions\",\"Configuration Data Analyst, San Antonio, TX, US ID#17897 with Security Clearance\"],[\"Staffing & Outsourcing\",\"(REMOTE) Sr. Risk Analyst (IT, IS and/or Data expertise)\"],[\"Staffing & Outsourcing\",\"Sr. Risk Analyst (IT, IS and/or Data expertise)\"],[\"Aerospace & Defense\",\"Navy Maintenance Data Systems Analyst\"],[\"Banks & Credit Unions\",\"Data Analyst\"],[\"Colleges & Universities\",\"Research Data Analyst\"],[\"Education Training Services\",\"Data Analyst II\"],[\"Accounting\",\"Data Analyst\"],[\"IT Services\",\"Data Analyst\"],[\"Colleges & Universities\",\"Division Data and Financial Analyst\"],[\"Health Care Services & Hospitals\",\"Research Data Analyst\"],[\"not mentioned\",\"Data Analyst 3\"],[\"Aerospace & Defense\",\"Data Analyst\"],[\"Biotech & Pharmaceuticals\",\"Data Analyst\"],[\"IT Services\",\"Junior Data Analyst\"],[\"Financial Analytics & Research\",\"Data Analyst\"],[\"Education Training Services\",\"Data Analyst - VerityStream\"],[\"Advertising & Marketing\",\"Data Analyst\"],[\"Banks & Credit Unions\",\"Senior Data Analyst\"],[\"Staffing & Outsourcing\",\"Business Data Analyst (SQL / Tableau)\"],[\"not mentioned\",\"Data & Business Intelligence Analyst\"],[\"Energy\",\"Fleet Optimization Data Analyst (Solar + Storage)\"],[\"Health Care Products Manufacturing\",\"Data Analyst\"],[\"Biotech & Pharmaceuticals\",\"Data Steward/Configuration Analyst\"],[\"Staffing & Outsourcing\",\"Administrative Assistant / Data Analyst Supporting the DEA #20-318\"],[\"Aerospace & Defense\",\"Data Manager - Bioinformatics Analyst (Naval Health Center)\"],[\"IT Services\",\"Data Analyst\"],[\"not mentioned\",\"Data Analyst III\"],[\"not mentioned\",\"Data Analyst\"],[\"Biotech & Pharmaceuticals\",\"Data Privacy Analyst\"],[\"Health Care Products Manufacturing\",\"Data Analyst 3 (San Diego or Atlanta, GA)\"],[\"Biotech & Pharmaceuticals\",\"Research Scientist, Structural Biologist - CryoEM Data Analyst\"],[\"Staffing & Outsourcing\",\"Systems Analyst - Data Integration and ETL process\"],[\"Health Care Services & Hospitals\",\"Senior Consulting Data Analyst\"],[\"Biotech & Pharmaceuticals\",\"Senior Data Analyst\"],[\"Colleges & Universities\",\"#105009 Research Data Analyst\"],[\"Computer Hardware & Software\",\"Automotive eCommerce Data Analyst - Remote\"],[\"Computer Hardware & Software\",\"Senior Data Analyst\"],[\"Computer Hardware & Software\",\"Senior Technical Data Analyst\"],[\"not mentioned\",\"Data Governance Analyst\"],[\"Health Care Services & Hospitals\",\"Division Data and Financial Analyst\"],[\"not mentioned\",\"Data Analyst III (Healthcare Analytics)\"],[\"Computer Hardware & Software\",\"Senior Business Data Analyst\"],[\"Insurance Carriers\",\"Data Analyst III (Healthcare Analytics)\"],[\"Computer Hardware & Software\",\"Data Analyst - VerityStream\"],[\"Computer Hardware & Software\",\"Automotive eCommerce Data Analyst\"],[\"not mentioned\",\"Data Analyst IV\"],[\"Colleges & Universities\",\"Division Data and Financial Analyst\"],[\"IT Services\",\"Junior Data Analyst\"],[\"not mentioned\",\"SWRMC Assessments Junior Data Analyst\"],[\"Staffing & Outsourcing\",\"Business Data Analyst III\"],[\"Aerospace & Defense\",\"C4I Data Analyst/Engineer\"],[\"Colleges & Universities\",\"Molecular Researcher and Data Analyst\"],[\"Wholesale\",\"Health Data Analyst IV\"],[\"not mentioned\",\"Information Security and Data Privacy Analyst\"],[\"Gambling\",\"IT DATA ANALYST- Information Technology\"],[\"Colleges & Universities\",\"7232 Data Engineer (Analyst/Programmer - Career), Information Technology DevOps\"],[\"IT Services\",\"Systems Analyst - Data Integration\"],[\"Health Care Services & Hospitals\",\"Molecular Researcher and Data Analyst\"],[\"Computer Hardware & Software\",\"Data Analyst - EDSS\"],[\"Staffing & Outsourcing\",\"Sr. Data Governance Analyst\"],[\"IT Services\",\"Data Manager - Bioinformatics Analyst (Naval Health Center)\"],[\"Colleges & Universities\",\"#104252 Division Data and Financial Analyst\"],[\"Staffing & Outsourcing\",\"Systems Analyst - Data Integration and ETL process\"],[\"Lending\",\"Senior Financial Data Analyst\"],[\"Aerospace & Defense\",\"Sr. C4I Data Analyst/Engineer\"],[\"IT Services\",\"Senior Tactical Data Link Systems Analyst\"],[\"Enterprise Software & Network Solutions\",\"Data Analyst I\"],[\"Enterprise Software & Network Solutions\",\"Data Analyst II\"],[\"Computer Hardware & Software\",\"Data Conversion Analyst\"],[\"Grocery Stores & Supermarkets\",\"Data Analyst - Retail (Entry Level)\"],[\"Consulting\",\"Data Analyst - Healthcare Fraud\"],[\"Enterprise Software & Network Solutions\",\"Data Analyst Intern\"],[\"Staffing & Outsourcing\",\"Data Analyst BHJOB11946_\"],[\"Staffing & Outsourcing\",\"SQL Data Analyst\"],[\"Investment Banking & Asset Management\",\"Data Science - Analyst/Associate - Security Incident Response Team\"],[\"Audiovisual\",\"Game Data Analyst\"],[\"Advertising & Marketing\",\"Analyst, Data Intelligence\"],[\"Financial Analytics & Research\",\"HR Data Analyst II\"],[\"not mentioned\",\"Data Analyst\"],[\"IT Services\",\"Data Analyst\"],[\"Municipal Governments\",\"DATA ANALYST\"],[\"Investment Banking & Asset Management\",\"Data Science \\u2013 Analyst/Associate - Security Incident Response Team\"],[\"IT Services\",\"IGNITE Graduate Development Program - Application Developer / Data Scientist / Business Analyst\"],[\"IT Services\",\"Data Analyst\"],[\"Grocery Stores & Supermarkets\",\"Data Analyst (HR)\"],[\"Telecommunications Services\",\"Data Analyst\"],[\"Staffing & Outsourcing\",\"Data Analyst (SQL, Tableau)\"],[\"not mentioned\",\"DATA ANALYST TEAM \\u2014 Data Analyst\"],[\"Video Games\",\"Data Analyst\"],[\"Advertising & Marketing\",\"Data Analyst (Product Analytics)\"],[\"Banks & Credit Unions\",\"Data Analyst\"],[\"Health Care Services & Hospitals\",\"Performance Improvement Data Analyst\"],[\"IT Services\",\"Junior Data Analyst\"],[\"not mentioned\",\"Data Analyst\"],[\"Enterprise Software & Network Solutions\",\"DALLAS Campus Recruiting 2018 - I&D - Data Analyst\"],[\"Staffing & Outsourcing\",\"Business Data Analyst\"],[\"Preschool & Child Care\",\"Analyst, Data & Design\"],[\"not mentioned\",\"Data Analyst\"],[\"Health Care Services & Hospitals\",\"Data Quality Analyst\"],[\"Staffing & Outsourcing\",\"Data Analyst\"],[\"Investment Banking & Asset Management\",\"Data Analyst\"],[\"Preschool & Child Care\",\"Analyst I, Data & Design\"],[\"Insurance Carriers\",\"Data Analyst\"],[\"Health Care Services & Hospitals\",\"Client Data Analyst\"],[\"Federal Agencies\",\"HR Data Analyst II\"],[\"not mentioned\",\"Data Analyst\"],[\"Health Care Services & Hospitals\",\"Healthcare Data Analyst\"],[\"not mentioned\",\"IGNITE Graduate Development Program Application Developer / Data Scientist / Business Analyst\"],[\"Industrial Manufacturing\",\"Data Analyst II\"],[\"Transportation Equipment Manufacturing\",\"Data Analyst\"],[\"Staffing & Outsourcing\",\"Data Analyst\"],[\"IT Services\",\"System/Data Analyst\"],[\"Banks & Credit Unions\",\"HR Data Analyst II\"],[\"IT Services\",\"Data Analyst\"],[\"Staffing & Outsourcing\",\"Data Reporting Analyst\"],[\"Oil & Gas Services\",\"Sr Data Integrity Analyst\"],[\"Investment Banking & Asset Management\",\"Data System Analyst\"],[\"IT Services\",\"Data Analyst\"],[\"Membership Organizations\",\"Research Data Analyst\"],[\"not mentioned\",\"Data Analyst\"],[\"Investment Banking & Asset Management\",\"RAPD Risk Platforms & Data - Analyst\"],[\"Computer Hardware & Software\",\"Business Data Analyst\"],[\"Consulting\",\"Data Analyst\"],[\"Staffing & Outsourcing\",\"Business Analyst/Data Consultant\"],[\"Computer Hardware & Software\",\"Data Analyst - Contract Renewals\"],[\"Consumer Products Manufacturing\",\"Analyst Supply Chain I Data Management\"],[\"Video Games\",\"Senior Data Analyst\"],[\"Consulting\",\"Data Analyst\"],[\"Computer Hardware & Software\",\"Data Integration Analyst\"],[\"Staffing & Outsourcing\",\"Data Analyst\"],[\"Health Care Services & Hospitals\",\"Data Analyst\"],[\"not mentioned\",\"Healthcare Analyst / Healthcare Data Analyst\"],[\"not mentioned\",\"Human Resources data Analyst\"],[\"IT Services\",\"Business Analyst - Data Protection\"],[\"Convenience Stores & Truck Stops\",\"Data Analyst\"],[\"IT Services\",\"Data Analyst\"],[\"Investment Banking & Asset Management\",\"Data Analytics Senior Analyst\"],[\"not mentioned\",\"Business Data Analyst\"],[\"Advertising & Marketing\",\"Client Data Analyst\"],[\"Insurance Carriers\",\"Information Technology Specialist / Data Analyst\"],[\"IT Services\",\"Data Analyst\"],[\"Aerospace & Defense\",\"Data Management Analyst\"],[\"not mentioned\",\"Data Import Analyst\"],[\"Staffing & Outsourcing\",\"Senior Data Analyst\"],[\"Enterprise Software & Network Solutions\",\"SAS Data Analyst III(With SOL & Tableau)\"],[\"Security Services\",\"NA Data Reporting Analyst\"],[\"Staffing & Outsourcing\",\"SAS Data Analyst\"],[\"not mentioned\",\"Data Analyst II\"],[\"IT Services\",\"Data Science- Security Analyst\"],[\"not mentioned\",\"Direct Client Requirement - Data Reporting Analyst\"],[\"Transportation Equipment Manufacturing\",\"Data Management Analyst\"],[\"Lending\",\"Sr. Business Data Analyst - Enterprise Risk\"],[\"Health Care Services & Hospitals\",\"Claims Data Analyst\"],[\"Consulting\",\"Data Analyst 4\"],[\"Municipal Governments\",\"SENIOR APPLICATION PROGRAMMER ANALYST (Data Transformation & Integration) - ITD\"],[\"Staffing & Outsourcing\",\"Data Governance Analyst\"],[\"Health, Beauty, & Fitness\",\"Data Analyst - SM\"],[\"not mentioned\",\"Reporting Data Analyst (contract to hire)\"],[\"Colleges & Universities\",\"Data Analyst {S02268P}\"],[\"Computer Hardware & Software\",\"Data Analyst\"],[\"Lending\",\"Data Analyst - Marketing\"],[\"Health Care Services & Hospitals\",\"Senior Data Quality Analyst\"],[\"Computer Hardware & Software\",\"Senior Data Analyst\"],[\"Industrial Manufacturing\",\"Sr. Enterprise BI Data Analyst\"],[\"Construction\",\"Accounting/Data Analyst Associate\"],[\"Lending\",\"Sr. Business Data Analyst Enterprise Risk\"],[\"Financial Transaction Processing\",\"Sr. BI Data Engineer and Analyst\"],[\"not mentioned\",\"Data Management Analyst\"],[\"Advertising & Marketing\",\"Data Analyst (Python), Dallas, Methods+Mastery (a FleishmanHillard Company)\"],[\"not mentioned\",\"Pricing Data Analyst\"],[\"Investment Banking & Asset Management\",\"Data Platform System Analyst Lead (Data Services)\"],[\"Staffing & Outsourcing\",\"Business Analyst/Data Analyst\"],[\"Staffing & Outsourcing\",\"Senior Data Analyst\"],[\"IT Services\",\"Data Analyst\"],[\"not mentioned\",\"Data Management Analyst - Dallas, TX/ Tempe, FL\"],[\"Consulting\",\"Senior Data Analyst\"],[\"Consumer Product Rental\",\"Financial Data Analyst\"],[\"not mentioned\",\"Data Conversion Analyst\"],[\"not mentioned\",\"Behavorial Health Data Analyst\"],[\"Accounting\",\"Data Analyst Lead - EM & Data\"],[\"Lending\",\"Senior Data Analyst\"],[\"Consulting\",\"Senior Data Analyst - Healthcare Claims\"],[\"Health Care Products Manufacturing\",\"Sr. Enterprise BI Data Analyst\"],[\"Staffing & Outsourcing\",\"Data/Business Solutions Analyst - Jr\"],[\"IT Services\",\"System Analyst(Big Data/Hadoop)\"],[\"Staffing & Outsourcing\",\"Pricing Data Analyst\"],[\"Health Care Services & Hospitals\",\"Data Management Analyst\"],[\"Investment Banking & Asset Management\",\"Application Vulnerability Governance Lead Data Analyst\"],[\"Staffing & Outsourcing\",\"SAP Data Analyst (Contract)\"],[\"not mentioned\",\"LAWSON LANDMARK DATA EXTRACT ANALYST\"],[\"Colleges & Universities\",\"Business Analytics Analyst II (Data Concierge)\"],[\"not mentioned\",\"Data Science Sr. Analyst\"],[\"Health, Beauty, & Fitness\",\"Data Analyst -0517 Suv\"],[\"IT Services\",\"Network Data Analyst\"],[\"Staffing & Outsourcing\",\"Technical Data Analyst Accounting\"],[\"IT Services\",\"Data Analyst: II (Intermediate)\"],[\"Electrical & Electronic Manufacturing\",\"Senior Enterprise Data Management Analyst\"],[\"Staffing & Outsourcing\",\"Data Quality Analyst\"],[\"IT Services\",\"Data Analyst - IT Administrator\"],[\"Convenience Stores & Truck Stops\",\"Senior Data Analyst\"],[\"Accounting\",\"Data Analyst Lead - Air/Technical Operations\"],[\"Advertising & Marketing\",\"Analyst, Client Data II\"],[\"IT Services\",\"DATA ENGINEER / DATA ANALYST\"],[\"Staffing & Outsourcing\",\"Jr. Data Warehouse Systems Analyst\"],[\"Health Care Services & Hospitals\",\"Data Management Analyst in Plano, TX at Community Hospital Corporation\"],[\"Advertising & Marketing\",\"QA Automation Analyst with Big data technology\"],[\"Accounting\",\"Data Analyst Lead - Commercial\"],[\"Real Estate\",\"Senior Data Analyst - Property Operations\"],[\"Staffing & Outsourcing\",\"Sr Data Management Analyst\"],[\"Transportation Management\",\"Senior Data Quality Analyst\"],[\"Logistics & Supply Chain\",\"Lead Data Analyst\"],[\"Accounting\",\"Data Analyst Lead (Customer and Reservations)\"],[\"not mentioned\",\"Data Analyst - Senior\"],[\"Staffing & Outsourcing\",\"Senior Data Risk Analyst\"],[\"not mentioned\",\"Data/Business Operations Analyst\"],[\"Staffing & Outsourcing\",\"Data Analyst - Sr\"],[\"Staffing & Outsourcing\",\"Data Analyst - Senior\"],[\"Enterprise Software & Network Solutions\",\"Digital S/W Eng Lead Analyst (Big data with SAS and PySpark background)\"],[\"not mentioned\",\"Senior QC Analyst: Data Integrity SME\"],[\"Lending\",\"Senior Data Analyst, Internal Audit\"],[\"Computer Hardware & Software\",\"Analyst/Developer (Data Warehouse) III\"],[\"Staffing & Outsourcing\",\"Data Analyst\"],[\"Computer Hardware & Software\",\"Senior HR Data Analyst\"],[\"Enterprise Software & Network Solutions\",\"Senior Data Analyst - Growth & Adoption\"],[\"Enterprise Software & Network Solutions\",\"Data Analyst\"],[\"Enterprise Software & Network Solutions\",\"Data Analyst, Product Insights\"],[\"Sports & Recreation\",\"Senior Data Analyst\"],[\"Staffing & Outsourcing\",\"Data and User Acceptance Test Analyst\"],[\"Transportation Equipment Manufacturing\",\"Data Analyst\"],[\"IT Services\",\"Data Analyst\"],[\"IT Services\",\"Data Analyst\"],[\"Accounting\",\"Data Analyst\"],[\"not mentioned\",\"Data Analyst\"],[\"IT Services\",\"Marketing Data Analyst\"],[\"Health Care Services & Hospitals\",\"Tableau Data Analyst Intern\"],[\"Staffing & Outsourcing\",\"Data Analyst I\"],[\"not mentioned\",\"Data Analyst\"],[\"Enterprise Software & Network Solutions\",\"AI Insights Data Analyst\"],[\"IT Services\",\"Data Analyst (SQL, Hive)\"],[\"Computer Hardware & Software\",\"Data Analyst, Autonomy Operations\"],[\"IT Services\",\"Data Analyst I\"],[\"Staffing & Outsourcing\",\"Data Analyst\"],[\"IT Services\",\"Data Analyst\"],[\"Health Care Services & Hospitals\",\"Data Analyst\"],[\"IT Services\",\"Data Analyst\"],[\"Internet\",\"Senior Data Analyst Studio Finance Engineering\"],[\"not mentioned\",\"Data Analyst with Data Mapping and API\"],[\"Consulting\",\"Data Analyst\"],[\"Staffing & Outsourcing\",\"Data Analyst\"],[\"IT Services\",\"Data Analyst\"],[\"IT Services\",\"Data Analyst\"],[\"Internet\",\"Senior Data Analyst - Studio Finance Engineering\"],[\"Staffing & Outsourcing\",\"Data Analyst\"],[\"Computer Hardware & Software\",\"Apple Media Products (AMP) - Big Data Analyst, Analytics Engineering\"],[\"Staffing & Outsourcing\",\"Data Analyst\"],[\"Electrical & Electronic Manufacturing\",\"Data Analyst\"],[\"Advertising & Marketing\",\"Business Data Analyst\"],[\"Staffing & Outsourcing\",\"Data Analyst\"],[\"IT Services\",\"Data Analyst\"],[\"Accounting\",\"Data Analyst\"],[\"IT Services\",\"Data Analyst II\"],[\"Enterprise Software & Network Solutions\",\"Data Analyst\"],[\"Health, Beauty, & Fitness\",\"Data Analyst\"],[\"Internet\",\"Finance & Accounting Data Analyst\"],[\"Staffing & Outsourcing\",\"Data Analyst\"],[\"IT Services\",\"Business Data Analyst\"],[\"IT Services\",\"Data Analyst\"],[\"IT Services\",\"Junior Data Analyst\"],[\"not mentioned\",\"Data analyst\"],[\"not mentioned\",\"Data Analyst\"],[\"Computer Hardware & Software\",\"Financial Data Analyst\"],[\"Computer Hardware & Software\",\"Sr. Data Scientist/Analyst\"],[\"Internet\",\"Data Quality Analyst\"],[\"Computer Hardware & Software\",\"Data Analyst Intern\"],[\"IT Services\",\"Data Analyst I (German)\"],[\"IT Services\",\"Data Analyst\"],[\"not mentioned\",\"Data Analyst\"],[\"Health Care Services & Hospitals\",\"Biomedical Data Analyst I - Temporary\"],[\"Colleges & Universities\",\"Data Analyst 2\"],[\"IT Services\",\"Supply Chain Data Analyst\"],[\"Publishing\",\"Research & Data Analyst Lead\"],[\"Computer Hardware & Software\",\"Advance Data Analyst\"],[\"IT Services\",\"Data Analyst\"],[\"Computer Hardware & Software\",\"Maps Evaluation Data Analyst\"],[\"not mentioned\",\"Data Analyst\"],[\"Brokerage Services\",\"Financial Data Analyst\"],[\"Colleges & Universities\",\"Bioinformatician/Research Data Analyst 1\"],[\"not mentioned\",\"Data Analyst\"],[\"not mentioned\",\"Data Analyst\"],[\"Computer Hardware & Software\",\"Data Engineering/Analyst- Apple Cloud Services\"],[\"Staffing & Outsourcing\",\"Data Analyst\"],[\"Computer Hardware & Software\",\"Technical Data Analyst\"],[\"Computer Hardware & Software\",\"Data Analyst 1\"],[\"IT Services\",\"Data Quality Analyst\"],[\"not mentioned\",\"Data Privacy Analyst/ Program Manager I\"],[\"Staffing & Outsourcing\",\"Data Analyst\"],[\"Staffing & Outsourcing\",\"Data Analyst- German Fluency\"],[\"not mentioned\",\"HR Data Analyst (Workday EIB)\"],[\"IT Services\",\"Data Analyst lll\"],[\"Colleges & Universities\",\"Bioinformatician-Research Data Analyst 1\"],[\"Staffing & Outsourcing\",\"Data Analyst\"],[\"IT Services\",\"Data Analyst/Technical Product Owner\"],[\"Biotech & Pharmaceuticals\",\"Sr. Data Warehouse Analyst\"],[\"IT Services\",\"Master Data Analyst\"],[\"IT Services\",\"Market Data Analyst - Global Securities Master (GSM)\"],[\"IT Services\",\"Technical Business or Data Analyst\"],[\"Computer Hardware & Software\",\"Senior BI and Data Analyst\"],[\"IT Services\",\"Senior Data Analyst\"],[\"IT Services\",\"Senior Data Analytics Analyst, Revenue\"],[\"Consumer Electronics & Appliances Stores\",\"Senior Data Analyst\"],[\"Computer Hardware & Software\",\"Senior Business/Data Analyst - WW Sales Finance Process, Analytics, and Reporting\"],[\"Staffing & Outsourcing\",\"Data Analyst II\"],[\"Computer Hardware & Software\",\"Advance Data Analyst HSV Materials Customer Support fs)\"],[\"Health Care Services & Hospitals\",\"Software Test Engineer - Data Analyst\"],[\"not mentioned\",\"Data Analyst Mentor\"],[\"Biotech & Pharmaceuticals\",\"Data Warehouse Analyst\"],[\"Advertising & Marketing\",\"Data and User Acceptance Testing Analyst\"],[\"Internet\",\"Senior Data Analyst\"],[\"not mentioned\",\"Data Analyst\"],[\"not mentioned\",\"Data Analyst-Senior Data Analyst\"],[\"Accounting\",\"Documentation/Data Analyst\"],[\"Accounting\",\"SQL Data Analyst\"],[\"IT Services\",\"Data Analyst Tableau/Power BI\"],[\"Architectural & Engineering Services\",\"Business Analyst - MDM, Data Governance\"],[\"Health Care Services & Hospitals\",\"Senior Data Analyst (Remote OK)\"],[\"Industrial Manufacturing\",\"SAP Materials Master Data Analyst - Temp\"],[\"Enterprise Software & Network Solutions\",\"Senior Data Analyst, People Analytics\"],[\"not mentioned\",\"Workday EIB Data Analyst\"],[\"Colleges & Universities\",\"Senior Data Analyst (Product Analytics)\"],[\"IT Services\",\"Senior Data Analyst\"],[\"Consulting\",\"Data Analyst - Bilingual English and Italian\"],[\"Computer Hardware & Software\",\"Senior Business Data Analyst\"],[\"Health Care Services & Hospitals\",\"Master Data Management Analyst\"],[\"Biotech & Pharmaceuticals\",\"Sr. HR Data Analyst\"],[\"Consulting\",\"Lead Data Analyst\"],[\"Consulting\",\"Data Analyst - Bilingual English and Norwegian\"],[\"Staffing & Outsourcing\",\"Data and User Acceptance Test Analyst\"],[\"Staffing & Outsourcing\",\"Data and User Acceptance Test Analyst\"],[\"Health Care Services & Hospitals\",\"Sr Consulting Data Analyst\"],[\"Internet\",\"Data Quality Analyst - Spanish\"],[\"Enterprise Software & Network Solutions\",\"Senior Data Analyst\"],[\"Advertising & Marketing\",\"Regulatory Data Analyst\"],[\"IT Services\",\"Sr. BI Business Analyst/Data Visualization Expert Initial Remote position at San Jose, CA for an year long proect.\"],[\"not mentioned\",\"Senior Data Analyst\"],[\"Insurance Agencies & Brokerages\",\"Senior Data Analyst\"],[\"Biotech & Pharmaceuticals\",\"Bioinformatics Data Analyst\"],[\"Enterprise Software & Network Solutions\",\"Lead Data Analyst\"],[\"not mentioned\",\"Data warehouse Business Systems Analyst\"],[\"Staffing & Outsourcing\",\"Data Analyst - Redwood City via Company Shuttle!\"],[\"Industrial Manufacturing\",\"SAP Materials Master Data Analyst (Temp)\"],[\"Staffing & Outsourcing\",\"RM - Data Maintenance Analyst\"],[\"Computer Hardware & Software\",\"Data Analyst with Teradata Exp\"],[\"not mentioned\",\"Data Steward | Analyst\"],[\"Staffing & Outsourcing\",\"Data Analyst (Fluent in German)\"],[\"IT Services\",\"Junior Data Analyst\"],[\"Computer Hardware & Software\",\"Sr. Analyst, Data Governance\"],[\"IT Services\",\"Data Analyst - MPK\"],[\"Computer Hardware & Software\",\"Senior Market Research Analyst, Data Insights\"],[\"Consulting\",\"Data Analyst - Bilingual English and Danish\"],[\"IT Services\",\"Lead Data Analyst\"],[\"Consulting\",\"Jr. Software Data/Operations Analyst Opportunity MTV\"],[\"Internet\",\"Senior Global Data Analyst, People Operations\"],[\"not mentioned\",\"HR Data Analyst/Scientist\"],[\"Staffing & Outsourcing\",\"Data Analyst III\"],[\"Consulting\",\"German Speaking Data Analyst J\"],[\"IT Services\",\"Senior Data Analyst Data Warehouse Consultant\"],[\"Computer Hardware & Software\",\"Advance Data Analyst - HSV Materials Customer Support\"],[\"Accounting\",\"Data Analyst QA\"],[\"Biotech & Pharmaceuticals\",\"Signal Processing Engineer/Data Analyst\"],[\"Consulting\",\"Data Analyst - Bilingual English and Indonesian\"],[\"IT Services\",\"Senior Data Analyst/Data Warehouse Consultant\"],[\"Staffing & Outsourcing\",\"Information Security Data Analyst\"],[\"Staffing & Outsourcing\",\"Strategic Sourcing Data Analyst\"],[\"Biotech & Pharmaceuticals\",\"Sr QC Analyst (Data Reviewer)\"],[\"Health, Beauty, & Fitness\",\"Data Analyst III\"],[\"Consulting\",\"Senior Data Analyst/Data Warehouse Consultant\"],[\"Consulting\",\"Data Analyst - Bilingual English and Finnish\"],[\"Consulting\",\"Lead Data Analyst (Enterprise Product Master Data Steward)\"],[\"Staffing & Outsourcing\",\"BI Business/Data Analyst Lead with hands on SQL\"],[\"not mentioned\",\"Sr. BI Data Analyst/Developer (SQL, Python, Power BI)\"],[\"not mentioned\",\"Senior Data Analyst/Data Warehouse consultant with Financial Healthcare systems\"],[\"not mentioned\",\"Manager : Marketing Ops and Data Analyst\"],[\"Financial Transaction Processing\",\"Senior Risk Data Analyst\"],[\"IT Services\",\"SAP Sr Master Data Functional Analyst\"],[\"Accounting\",\"CCPA Data Analyst\"],[\"Computer Hardware & Software\",\"Senior Quantitative Data Analyst\"],[\"Advertising & Marketing\",\"SAP MDG Business Analyst , Master Data Management\"],[\"Computer Hardware & Software\",\"Data Analyst-IT II\"],[\"Internet\",\"Reconciliation Data Operations Analyst\"],[\"Internet\",\"Senior Claims Data Analyst\"],[\"Advertising & Marketing\",\"Business Data Analyst\"],[\"Computer Hardware & Software\",\"Data Quality Analyst\"],[\"Internet\",\"Ad Integrity Data Analyst-ATX\"],[\"Advertising & Marketing\",\"Junior Data Analyst\"],[\"State & Regional Agencies\",\"Junior Data Analyst\"],[\"Colleges & Universities\",\"Data Analyst - People Analytics\"],[\"Internet\",\"Data Analyst, Trust & Safety\"],[\"State & Regional Agencies\",\"Data Analyst I\"],[\"Video Games\",\"Data Analyst\"],[\"Staffing & Outsourcing\",\"Data Analyst (Remote)\"],[\"Investment Banking & Asset Management\",\"EDI Data Analyst\"],[\"Health Care Services & Hospitals\",\"Data Analyst\"],[\"Investment Banking & Asset Management\",\"Business Intelligence and Data Analyst\"],[\"State & Regional Agencies\",\"Data Analyst\"],[\"IT Services\",\"Data Analyst\"],[\"Advertising & Marketing\",\"Junior Data Analyst\"],[\"Advertising & Marketing\",\"Data Reporting Analyst, BI\"],[\"Computer Hardware & Software\",\"Data Analyst\"],[\"Computer Hardware & Software\",\"Data & Reporting Analyst\"],[\"IT Services\",\"Junior Data Analyst\"],[\"Enterprise Software & Network Solutions\",\"Data Strategy Analyst\"],[\"Video Games\",\"Live Operations Data Analyst\"],[\"IT Services\",\"Data Analyst\"],[\"Health Care Services & Hospitals\",\"Business Intelligence Analyst / Data Analyst\"],[\"Staffing & Outsourcing\",\"Data Analyst\"],[\"Internet\",\"Data Analyst, Law Enforcement Response Team\"],[\"IT Services\",\"Data Lineage Analyst\"],[\"Health Care Services & Hospitals\",\"Data Analyst II\"],[\"State & Regional Agencies\",\"Data Analyst II\"],[\"State & Regional Agencies\",\"Data Analyst V\"],[\"Computer Hardware & Software\",\"9-1-1 Data Analyst\"],[\"Investment Banking & Asset Management\",\"Data Migration Analyst\"],[\"not mentioned\",\"Technical Data Analyst\"],[\"Energy\",\"Junior Data Analyst\"],[\"Internet\",\"Data Quality Analyst\"],[\"State & Regional Agencies\",\"TSDS Data QA Analyst (Data Analyst IV)\"],[\"not mentioned\",\"Data Analyst\"],[\"IT Services\",\"MDM/Master Data Analyst ( Tibco EBX )\"],[\"Computer Hardware & Software\",\"Senior Cloud Data Analyst\"],[\"Consulting\",\"Data Analyst/Data Entry/Federal Data Entry/Data Specialist\"],[\"State & Regional Agencies\",\"Data Analyst III\"],[\"Insurance Carriers\",\"Data Analyst II\"],[\"Staffing & Outsourcing\",\"Data Analyst / Data Management /ETL / Talend /Alteryx\"],[\"not mentioned\",\"Celonis Data Engineer & Analyst\"],[\"Staffing & Outsourcing\",\"Data Analyst\"],[\"Enterprise Software & Network Solutions\",\"Senior Data Analyst\"],[\"Computer Hardware & Software\",\"Senior Claims Data Analyst\"],[\"Computer Hardware & Software\",\"Associate SalesForce.com Data Steward & Analyst\"],[\"Internet\",\"Lead Data Analyst\"],[\"not mentioned\",\"Financial Controller / Data Analyst / Spreadsheet Superstar\"],[\"Internet\",\"Senior Data Analyst\"],[\"Health Care Services & Hospitals\",\"Managed Care Data Analyst\"],[\"Health Care Services & Hospitals\",\"Technical Data Analyst\"],[\"State & Regional Agencies\",\"Strategic Data Analyst III - Strategic Planning Divsion\"],[\"IT Services\",\"Junior Data Warehouse Analyst\"],[\"Banks & Credit Unions\",\"Data Warehouse Analyst\"],[\"Accounting\",\"Data Analyst - Public Sector\"],[\"Consulting\",\"Data Analyst, Lead with Security Clearance\"],[\"IT Services\",\"System/Data Analyst\"],[\"not mentioned\",\"Data Governance Analyst/Lead\"],[\"Consulting\",\"Data Warehouse Analyst\"],[\"IT Services\",\"Data Analyst III\"],[\"Insurance Carriers\",\"Data Analyst III\"],[\"Health Care Services & Hospitals\",\"Senior Strategy Data Analyst\"],[\"not mentioned\",\"BI Data Analyst and Specialist\"],[\"State & Regional Agencies\",\"Data Analyst IV\"],[\"Health Care Services & Hospitals\",\"Clinical Data Management - Technical Analyst\"],[\"IT Services\",\"Splunk Data Analyst\"],[\"Health Care Services & Hospitals\",\"Data Analyst III\"],[\"IT Services\",\"Junior Data Analyst\"],[\"State & Regional Agencies\",\"20-63 Flood Planning Data Analyst (Data Analyst III)\"],[\"not mentioned\",\"Operations Research Analyst (Data Scientist)\"],[\"Membership Organizations\",\"Leading Data-Driven Change -- Data Industry Analyst\"],[\"Advertising & Marketing\",\"SQL Data and Integration Analyst\"],[\"Membership Organizations\",\"Industry Analyst -- Data Science and Strategy\"],[\"not mentioned\",\"Senior Data Analyst\"],[\"Trucking\",\"Simulation Data Analyst\"],[\"not mentioned\",\"Data Analyst/Program Manager\"],[\"Insurance Carriers\",\"Data Analyst III\"],[\"IT Services\",\"Senior Data Analyst / Senior BI and Insights Analyst\"],[\"State & Regional Agencies\",\"Associate, Strategy and Operations (Data Analyst IV)\"],[\"State & Regional Agencies\",\"19-84R Team Lead (Data Analyst IV)\"],[\"Staffing & Outsourcing\",\"Data Lineage Analyst\"],[\"Municipal Governments\",\"DPS - FIN - CAPPS Financial Senior Data Analyst\"],[\"Staffing & Outsourcing\",\"Data Analyst\"],[\"Staffing & Outsourcing\",\"Data Reporting Analyst\"],[\"Investment Banking & Asset Management\",\"USGAAP Financial and Reference Data Control Analyst Analyst\"],[\"Staffing & Outsourcing\",\"Business/Data Analyst\"],[\"IT Services\",\"Junior Data Analyst\"],[\"Architectural & Engineering Services\",\"Business/Data Analyst\"],[\"Staffing & Outsourcing\",\"Data Analyst\"],[\"Investment Banking & Asset Management\",\"Assistant Vice President, Anti Financial Crime Data Quality Analyst - {KP4457495}\"],[\"Advertising & Marketing\",\"Senior Data Analyst\"],[\"IT Services\",\"Data Analyst\"],[\"Investment Banking & Asset Management\",\"Assistant Vice President, Anti Financial Crime Data Quality Analyst\"],[\"IT Services\",\"Junior Data Analyst\"],[\"not mentioned\",\"CDHP - Data Analyst Team Lead\"],[\"not mentioned\",\"Power BI Data Analyst\"],[\"Insurance Carriers\",\"Senior Data Analyst - Guidewire Data Hub\"],[\"Investment Banking & Asset Management\",\"Senior Data Analyst- Guidewire Data Hub\"],[\"Staffing & Outsourcing\",\"Guidewire Data Analyst\"],[\"IT Services\",\"System Analyst (Data) - PL/SQl Server\"],[\"not mentioned\",\"ACA - Data Analyst\"],[\"Aerospace & Defense\",\"Data Analyst, Military Forecasting\"],[\"not mentioned\",\"Human Performance Data Analyst\"],[\"Staffing & Outsourcing\",\"Medical Data Analyst\"],[\"IT Services\",\"Data Analyst\"],[\"Aerospace & Defense\",\"Data Analyst, Military Forecasting\"],[\"IT Services\",\"Data Reporting Analyst\"],[\"IT Services\",\"Data Analyst\"],[\"Staffing & Outsourcing\",\"Data Analyst Assistant\"],[\"Aerospace & Defense\",\"Systems Engineer - Data Analyst (Level 3)\"],[\"Lending\",\"Senior Data Analyst\"],[\"Commercial Equipment Repair & Maintenance\",\"Data/Sales Analyst\"],[\"Transportation Management\",\"Data/Financial Analyst\"],[\"IT Services\",\"Data Analyst - Intelligent Automation\"],[\"IT Services\",\"(Risk Data Analyst)\"],[\"Staffing & Outsourcing\",\"Systems Analyst - Data Conversion\"],[\"not mentioned\",\"Business Analyst with Data Governance ,IDQ exp\"],[\"not mentioned\",\"Business Analyst with Data Governance ,IDQ exp\"],[\"IT Services\",\"(Data Risk Analyst: Data Modeler)\"],[\"Computer Hardware & Software\",\"+ Global Process Data Analyst\"],[\"IT Services\",\"BI Data Analyst / Specialist\"],[\"Staffing & Outsourcing\",\"Data Analyst\"],[\"Enterprise Software & Network Solutions\",\"Data Analyst\"],[\"Health Care Services & Hospitals\",\"Data Analyst-Quality Improvement Services\"],[\"Banks & Credit Unions\",\"Data Analyst\"],[\"Department, Clothing, & Shoe Stores\",\"Fraud Data Analyst\"],[\"Investment Banking & Asset Management\",\"Software Engineer - Data Analyst\"],[\"not mentioned\",\"Data Analyst\"],[\"Logistics & Supply Chain\",\"Business Data Analyst\"],[\"Health Care Services & Hospitals\",\"Business Analyst / Data Scientist Manager\"],[\"IT Services\",\"Junior Data Analyst\"],[\"Lending\",\"Program Data Analyst\"],[\"Staffing & Outsourcing\",\"Business Data Analyst - I\"],[\"Health Care Services & Hospitals\",\"Planning Analyst - Data Resource Center\"],[\"Accounting\",\"Data Analyst\"],[\"IT Services\",\"Data Analyst\"],[\"Health Care Services & Hospitals\",\"Data Analyst II(Claims,SQL,Billing,Healthcare)\"],[\"Staffing & Outsourcing\",\"Data Analyst\"],[\"not mentioned\",\"Data Analyst II(Claims,SQL,Billing,Healthcare)\"],[\"not mentioned\",\"Financial Data Analyst\"],[\"IT Services\",\"Data Validation Analyst\"],[\"not mentioned\",\"Data Analyst\"],[\"IT Services\",\"JPSC-7975 - Data Analyst Lead- Columbus, OH (LOCAL CANDIDATES ONLY)\"],[\"Health Care Services & Hospitals\",\"Data Statistics Analyst PFK - Care Coordination\"],[\"IT Services\",\"Junior Data Analyst\"],[\"Staffing & Outsourcing\",\"Analyst: Data Analytics\"],[\"IT Services\",\"Information Security and Data Protection Analyst\"],[\"IT Services\",\"Technical Data Analyst\"],[\"Health Care Services & Hospitals\",\"Data Scientist/Programmer, Sr. Analyst - Abbott Nutrition - Columbus, OH\"],[\"not mentioned\",\"Accounting Data Analyst / Implementation Specialist\"],[\"not mentioned\",\"Information Security and Data Protection Analyst\"],[\"not mentioned\",\"Data Analyst III (Population Health , Pharmacy, SQL)\"],[\"Health Care Services & Hospitals\",\"Data Analyst III (Population Health , Pharmacy, SQL)\"],[\"Health Care Services & Hospitals\",\"Data Statistics Analyst PFK Care Coordination\"],[\"Investment Banking & Asset Management\",\"Software Engineer - Senior Data Analyst\"],[\"Staffing & Outsourcing\",\"Senior Data Analyst\"],[\"Banks & Credit Unions\",\"Analytic Consultant 4 - Data Analyst\"],[\"Insurance Carriers\",\"Operations Data Analyst\"],[\"not mentioned\",\"Data Business Analyst\"],[\"Consulting\",\"Federal - Data Analyst\"],[\"Computer Hardware & Software\",\"Data Analyst\"],[\"Venture Capital & Private Equity\",\"Marketing Data Analyst\"],[\"Enterprise Software & Network Solutions\",\"Data Analyst I (Strong Salesforce.com)\"],[\"Staffing & Outsourcing\",\"Data Analyst I\"],[\"IT Services\",\"Data Analyst\"],[\"Staffing & Outsourcing\",\"Data Analyst\"],[\"Staffing & Outsourcing\",\"Data Analyst\"],[\"Staffing & Outsourcing\",\"Financial Data Analyst\"],[\"IT Services\",\"Data Analyst\"],[\"Staffing & Outsourcing\",\"Data Analyst\"],[\"Staffing & Outsourcing\",\"Data Analyst\"],[\"Staffing & Outsourcing\",\"Data Science Analyst\"],[\"Enterprise Software & Network Solutions\",\"Data Analyst\"],[\"IT Services\",\"Data Analyst\"],[\"Staffing & Outsourcing\",\"Business Data Analyst\"],[\"Staffing & Outsourcing\",\"Data Analyst\"],[\"Staffing & Outsourcing\",\"Data Business Analyst\"],[\"IT Services\",\"Junior Data Analyst\"],[\"Consulting\",\"Data Analyst\"],[\"Accounting\",\"Data Analyst\"],[\"Staffing & Outsourcing\",\"Data Management Analyst\"],[\"not mentioned\",\"Financial Data Analyst - Full Time\"],[\"Logistics & Supply Chain\",\"Data analyst\"],[\"IT Services\",\"Data Analyst\"],[\"Investment Banking & Asset Management\",\"Senior CX Data Analyst\"],[\"Consulting\",\"Data Engineer/Analyst\"],[\"not mentioned\",\"Federal - Data Analyst\"],[\"Health Care Services & Hospitals\",\"Quality Data Analyst\"],[\"Logistics & Supply Chain\",\"Data Visualization Analyst\"],[\"IT Services\",\"Senior Data Analyst\"],[\"Staffing & Outsourcing\",\"HR Data Analyst\"],[\"Staffing & Outsourcing\",\"Data Analyst/Business Analyst\"],[\"Staffing & Outsourcing\",\"Data Analyst\"],[\"not mentioned\",\"Data Analyst\"],[\"Staffing & Outsourcing\",\"BI Data Analyst\"],[\"Consulting\",\"Data Analyst\"],[\"Investment Banking & Asset Management\",\"Enterprise Data Office Analyst IV\"],[\"not mentioned\",\"Data Analyst/ Python with Banking Experience\"],[\"General Repair & Maintenance\",\"Data Analyst\"],[\"Staffing & Outsourcing\",\"Systems/Data Analyst\"],[\"Consulting\",\"Data Analyst (Real Time Data Consultant Needed)\"],[\"Computer Hardware & Software\",\"Data Visualization Analyst\"],[\"IT Services\",\"57072 - Market data Analyst - 100 % remote\"],[\"IT Services\",\"Application Programmer V/ Database Developer/ Data Analyst\"],[\"IT Services\",\"Data Analyst\"],[\"not mentioned\",\"Data Analyst\"],[\"Stock Exchanges\",\"Data Standardization Analyst(s)\"],[\"Staffing & Outsourcing\",\"DATA MGMT ANALYST\"],[\"IT Services\",\"Data Quality Analyst, Financial Services\"],[\"not mentioned\",\"Data Analyst II\"],[\"Staffing & Outsourcing\",\"Data Governance Analyst\"],[\"Health Care Services & Hospitals\",\"Data Integration Analyst\"],[\"IT Services\",\"Data Analyst with Banking Domain\"],[\"not mentioned\",\"Financial Data Analyst - Full Time\"],[\"IT Services\",\"Data Analyst - Metadata Analyst\"],[\"Computer Hardware & Software\",\"Business Data Analyst\"],[\"Staffing & Outsourcing\",\"Senior Data Analyst\"],[\"Staffing & Outsourcing\",\"Senior Business Analyst / Data Analyst\"],[\"Consulting\",\"Data Visualization Analyst - N.\"],[\"IT Services\",\"Application Programmer V/ Senior Data Analyst\"],[\"Computer Hardware & Software\",\"Trust Application Data Analyst\"],[\"Staffing & Outsourcing\",\"Data Analyst 127909\"],[\"Home Centers & Hardware Stores\",\"Item Data Maintenance Analyst\"],[\"Architectural & Engineering Services\",\"Marketing Data Analyst - Remote\"],[\"Logistics & Supply Chain\",\"Technical Data Analyst\"],[\"not mentioned\",\"Data Analyst\"],[\"IT Services\",\"Junior Data Analyst\"],[\"Automotive Parts & Accessories Stores\",\"Senior Data Analyst\"],[\"IT Services\",\"Business + Data Analyst\"],[\"not mentioned\",\"Data Stewardship Senior Analyst\"],[\"not mentioned\",\"Data Analyst [Administrative]\"],[\"Home Centers & Hardware Stores\",\"Analyst, Product Content Data Quality\"],[\"Staffing & Outsourcing\",\"QA Analyst Big Data/ETL - Charlotte, NC (W2 ONLY)\"],[\"not mentioned\",\"Data Stewardship Senior Analyst\"],[\"not mentioned\",\"Big data analyst\"],[\"IT Services\",\"Reporting /Data Analyst\"],[\"IT Services\",\"Application Architect V/ Data Analyst\"],[\"Banks & Credit Unions\",\"Sr. Data Technology Analyst\"],[\"Logistics & Supply Chain\",\"Data Optimization Analyst (Position In Hickory, NC)\"],[\"Banks & Credit Unions\",\"Technology Control Analyst - AVP (Chief Data Office)\"],[\"Advertising & Marketing\",\"DIGITAL DATA/INSIGHTS ANALYST\"],[\"not mentioned\",\"Big data analyst\"],[\"Staffing & Outsourcing\",\"Data Mgmt Analyst w/Traded Products\"],[\"Insurance Carriers\",\"Data Governance Business Information Analyst\"],[\"IT Services\",\"Data Analyst with Security Clearance\"],[\"Home Centers & Hardware Stores\",\"Data Analyst, Data Activation\"],[\"IT Services\",\"QA Analyst with MongoDB / Big Data\"],[\"Home Centers & Hardware Stores\",\"Sr. Analyst, Product Content Data Quality\"],[\"Computer Hardware & Software\",\"Data Visualization Analyst\"],[\"Department, Clothing, & Shoe Stores\",\"Digital Marketing & ECommerce Data Analyst\"],[\"Internet\",\"Senior Data Analyst\"],[\"Video Games\",\"Data Analyst\"],[\"Computer Hardware & Software\",\"Senior Data Analyst\"],[\"Enterprise Software & Network Solutions\",\"Data Analyst\"],[\"Education Training Services\",\"Data Analyst\"],[\"Enterprise Software & Network Solutions\",\"Data Analyst\"],[\"Investment Banking & Asset Management\",\"Senior Data Analyst (Marketing Department)\"],[\"Staffing & Outsourcing\",\"Immediate Need For Data Analyst\"],[\"Internet\",\"Senior Analyst, Data & Analytics\"],[\"not mentioned\",\"Data Analyst/Engineer\"],[\"Advertising & Marketing\",\"Mid-Level Data Analyst\"],[\"Computer Hardware & Software\",\"Data Analyst\"],[\"IT Services\",\"Healthcare Data Analyst\"],[\"IT Services\",\"Data Analyst\"],[\"Internet\",\"Product Data Analyst\"],[\"Staffing & Outsourcing\",\"Data Analyst\"],[\"Computer Hardware & Software\",\"Data Analyst\"],[\"Computer Hardware & Software\",\"Temporary Part Time Data Analyst (Remote - North & South America)\"],[\"Logistics & Supply Chain\",\"Data Analyst (Finance)\"],[\"Enterprise Software & Network Solutions\",\"Data Analyst\"],[\"Staffing & Outsourcing\",\"User Acquisition Data Analyst\"],[\"Enterprise Software & Network Solutions\",\"Data Analyst\"],[\"Real Estate\",\"Data Analyst, Remote East Coast\"],[\"Enterprise Software & Network Solutions\",\"Data Analyst\"],[\"Beauty & Personal Accessories Stores\",\"Data Analyst Chemist - Quality System Contractor\"],[\"Architectural & Engineering Services\",\"DATA Analyst-Remote\"],[\"Financial Transaction Processing\",\"Data Analyst\"],[\"Internet\",\"Operations Data Analyst\"],[\"Computer Hardware & Software\",\"Product Data Analyst\"],[\"Internet\",\"Data Scientist/Analyst - Wilbur Labs\"],[\"Health Care Services & Hospitals\",\"Data Analyst\"],[\"Enterprise Software & Network Solutions\",\"Marketing Data Analyst\"],[\"not mentioned\",\"Data Analyst\"],[\"Real Estate\",\"Data and Reporting Analyst\"],[\"Health Care Services & Hospitals\",\"Business Data Analyst\"],[\"Health Care Services & Hospitals\",\"Research Data Analyst\"],[\"Electrical & Electronic Manufacturing\",\"Data Analyst\"],[\"Lending\",\"Data Analyst\"],[\"Lending\",\"Business Intelligence Data Modeler/Analyst\"],[\"Internet\",\"Data Studio Analyst\"],[\"not mentioned\",\"Data Analyst\"],[\"Internet\",\"Product Data Analyst\"],[\"not mentioned\",\"Data Analyst\"],[\"Enterprise Software & Network Solutions\",\"Clinical Data Analyst\"],[\"Department, Clothing, & Shoe Stores\",\"Data Analyst\"],[\"Staffing & Outsourcing\",\"Data Analyst\"],[\"Staffing & Outsourcing\",\"Data Analyst\"],[\"Health Care Services & Hospitals\",\"Data Systems Analyst\"],[\"Investment Banking & Asset Management\",\"Data Analyst\"],[\"Real Estate\",\"Senior Data Analyst\"],[\"not mentioned\",\"Data Analyst (College & Foundation Reporting)\"],[\"Internet\",\"Senior Data Analyst\"],[\"not mentioned\",\"Research Data Analyst\"],[\"Consulting\",\"Data Analyst - Health\"],[\"Venture Capital & Private Equity\",\"Operations Data Analyst\"],[\"IT Services\",\"Data Analyst\"],[\"Accounting\",\"Data Analyst, Data & Analytics (Advanced Analytics) Manager (Multiple Positions)\"],[\"Consulting\",\"Data Analyst\"],[\"not mentioned\",\"Business Data Analyst - Senior/Director - Work from Remote\"],[\"IT Services\",\"Market Data Services Analyst\"],[\"Computer Hardware & Software\",\"Financial Data Analyst, FP&A and Accounting\"],[\"Banks & Credit Unions\",\"Loan Data Analyst\"],[\"Federal Agencies\",\"Data and Policy Analyst IV\"],[\"Staffing & Outsourcing\",\"DATA Analyst-Remote\"],[\"Enterprise Software & Network Solutions\",\"Business Data Analyst\"],[\"Health Care Services & Hospitals\",\"Data Analyst, Growth\"],[\"Advertising & Marketing\",\"Data Analyst\"],[\"IT Services\",\"Data Analyst\"],[\"IT Services\",\"Data Analyst\"],[\"Banks & Credit Unions\",\"Senior Data Analyst, Member Services\"],[\"Health Care Services & Hospitals\",\"Data Analyst\"],[\"Internet\",\"Senior Data Analyst\"],[\"IT Services\",\"Junior Data Analyst\"],[\"IT Services\",\"Business Data Analyst\"],[\"Internet\",\"Senior Data Analyst, Twitter Service Tech\"],[\"Staffing & Outsourcing\",\"Data Analyst\"],[\"Biotech & Pharmaceuticals\",\"Data Analyst\"],[\"Staffing & Outsourcing\",\"Data Analyst\"],[\"Health Care Services & Hospitals\",\"Senior Data Analyst\"],[\"IT Services\",\"Web Data Analyst\"],[\"not mentioned\",\"Data Analyst (APPZ-DAHY)\"],[\"not mentioned\",\"Data Analyst, Data & Analytics (Advanced Analytics) Manager (Multiple Positions)\"],[\"Enterprise Software & Network Solutions\",\"Data Scientist Analyst\"],[\"Computer Hardware & Software\",\"Finance Data Analyst\"],[\"not mentioned\",\"Business Data Analyst\"],[\"Computer Hardware & Software\",\"Data Quality Analyst\"],[\"Consulting\",\"Data Analyst - San Francisco CA / VA - Fulltime\"],[\"not mentioned\",\"Data Analyst\"],[\"not mentioned\",\"Data Analyst\"],[\"Enterprise Software & Network Solutions\",\"HR Data Analyst\"],[\"Biotech & Pharmaceuticals\",\"Scientific Data Manager and Analyst\"],[\"Internet\",\"Senior Data Analyst - Finance & Platform Analytics\"],[\"Health, Beauty, & Fitness\",\"Data Analyst\"],[\"IT Services\",\"Business Data Analyst\"],[\"Computer Hardware & Software\",\"Product Compliance Data Analyst\"],[\"Federal Agencies\",\"Data and Policy Analyst - Statistical Programmer\"],[\"Health Care Services & Hospitals\",\"Principal Data Analyst\"],[\"not mentioned\",\"Data Analyst\"],[\"not mentioned\",\"Data Analyst\"],[\"Staffing & Outsourcing\",\"Master Data Analyst \\u2013 SAP MDG Platform\"],[\"not mentioned\",\"Data Systems Analyst\"],[\"Video Games\",\"Data Analyst\"],[\"Enterprise Software & Network Solutions\",\"CSV Data Validation Analyst\"],[\"not mentioned\",\"Senior Data and Fraud Analyst\"],[\"Insurance Carriers\",\"Data and Reporting Analyst\"],[\"not mentioned\",\"Upstart - Data Analyst\"],[\"IT Services\",\"Position for Lead Data Analyst (Teradata, Oracle, Hadoop)\"],[\"not mentioned\",\"Data Analyst, Transaction Monitoring\"],[\"Energy\",\"Fleet Optimization Data Analyst (Solar + Storage)\"],[\"Health, Beauty, & Fitness\",\"Big Data Analyst\"],[\"IT Services\",\"Business Data Analyst\"],[\"Accounting\",\"Data Analyst\"],[\"IT Services\",\"Data Analyst\"],[\"Banks & Credit Unions\",\"Senior Lead Data Analytics Analyst\"],[\"Staffing & Outsourcing\",\"Data Analyst w/ Tealium - Remote Work\"],[\"IT Services\",\"Data Analyst\"],[\"Consulting\",\"Business Data Analyst Excel, Tableau - 100% Remote - Phoenix, Minneapolis, or Des Moines\"],[\"Staffing & Outsourcing\",\"Business Data Analyst - Senior/Director : 20\"],[\"not mentioned\",\"Senior Data Analyst\"],[\"Real Estate\",\"Senior Data Analyst - User Growth\"],[\"Logistics & Supply Chain\",\"Senior Data Analyst\"],[\"Computer Hardware & Software\",\"Senior Compliance Data Analyst, Cash App\"],[\"Staffing & Outsourcing\",\"Data Analyst\"],[\"Biotech & Pharmaceuticals\",\"Procurement Data Analyst\"],[\"Computer Hardware & Software\",\"Master Data Management (MDM) - Business Systems Analyst\"],[\"Internet\",\"Senior Data Analyst - Risk Analysis\"],[\"Advertising & Marketing\",\"Lead Data Analyst (Product)\"],[\"IT Services\",\"Lead Data Analyst\"],[\"not mentioned\",\"Salesforce Administrator and Data Analyst\"],[\"Staffing & Outsourcing\",\"Alerts Business/Data Analyst\"],[\"Computer Hardware & Software\",\"Senior Business Data Analyst\"],[\"IT Services\",\"BI Developer - Data Analyst\"],[\"Health Fundraising Organizations\",\"Biological Data Analyst - Remote\"],[\"Colleges & Universities\",\"Data Systems Analyst (7199U\"],[\"Staffing & Outsourcing\",\"Sr. Business and Data Analyst\"],[\"Staffing & Outsourcing\",\"Business Data Analyst - Senior/Director\"],[\"Banks & Credit Unions\",\"Lead Data Analyst, BI/Visualizations\"],[\"not mentioned\",\"Lead Data Analyst, BI/Visualizations\"],[\"Computer Hardware & Software\",\"Epic Clarity Data Analyst\"],[\"Health Care Services & Hospitals\",\"Senior Data Analyst\"],[\"not mentioned\",\"Senior Health Data Analyst\"],[\"IT Services\",\"Business Data Analyst - Senior/Director\"],[\"Computer Hardware & Software\",\"Sales Finance Data Analyst\"],[\"Consulting\",\"Senior Business Technology Analyst - MDM / Data Management (San Francisco area, CA)\"],[\"IT Services\",\"Data Integrity Analyst\"],[\"IT Services\",\"Business data analyst - SFO , CA\"],[\"IT Services\",\"Business Data Analyst WITH Data Standards and Migration\"],[\"Advertising & Marketing\",\"Senior Data Analyst\"],[\"IT Services\",\"BI Data Analyst / Business Analyst\"],[\"Internet\",\"Senior Product Data Analyst\"],[\"Insurance Carriers\",\"Senior Business Data Analyst, Growth Strategy\"],[\"Internet\",\"Senior Product Data Analyst\"],[\"IT Services\",\"Junior Data Analyst\"],[\"IT Services\",\"Job Opportunity with Cognizant for Data Analyst at SFO ,CA (NO OPT & NO CPT)\"],[\"IT Services\",\"Senior Data Analyst\"],[\"IT Services\",\"Senior Data Analyst\"],[\"Staffing & Outsourcing\",\"Senior Business and Data Analyst\"],[\"Staffing & Outsourcing\",\"Data Analyst - Int\"],[\"Investment Banking & Asset Management\",\"Senior Financial Systems Analyst / Business Intelligence Data Modeler\"],[\"Health Care Services & Hospitals\",\"Enrollment & Student Services Data & Systems Operations Analyst\"],[\"Banks & Credit Unions\",\"Lead Data Analyst, Product\"],[\"Health Fundraising Organizations\",\"Biological Data Analyst\"],[\"IT Services\",\"BI Data Analyst - Tibco & Spotfire\"],[\"IT Services\",\"Data Analyst - Life Sciences\"],[\"Staffing & Outsourcing\",\"Senior Data Analyst( Healthcare)\"],[\"Consulting\",\"Senior Data Analyst - Health Care Innovation\"],[\"Consulting\",\"Technical Business Analyst with SQL Data Specialist\"],[\"Banks & Credit Unions\",\"Lead Data Engineer (Capital Markets Business Analyst 2)\"],[\"Federal Agencies\",\"Data and Policy Analyst - Writer/Coordinator\"],[\"Biotech & Pharmaceuticals\",\"Master Data Management (MDM) - Business Systems Analyst\"],[\"Research & Development\",\"Sr. BI Data Analyst (with Spotfire Exp & Bio/Pharma/Clinical Industry)-South San Francisco, California (W2)\"],[\"not mentioned\",\"Senior Business Technology Analyst - MDM / Data Management\"],[\"Staffing & Outsourcing\",\"Senior SAS Data Analyst\"],[\"Staffing & Outsourcing\",\"Lead Data Analyst\"],[\"Federal Agencies\",\"Cybersecurity Analyst (Payment Card Industry Data Security Standards (PCI-DSS))\"],[\"Research & Development\",\"Business Analyst with Data Loss Prevention (DLP) Concepts\"],[\"Consumer Products Manufacturing\",\"Sr. Analyst, Financial Data and Reporting\"],[\"not mentioned\",\"Lead Data Analyst, Product\"],[\"Staffing & Outsourcing\",\"Business Analyst II (Scientific Business Analyst PreClinical Data)\"],[\"Staffing & Outsourcing\",\"Sr. Process Analyst - Data Privacy Project\"],[\"Computer Hardware & Software\",\"Data Analyst-IT II\"],[\"not mentioned\",\"Senior Financial Systems Analyst / Business Intelligence Data Modeler\"],[\"Consulting\",\"Senior Data Analysts (Banking Domain)\"],[\"Insurance Agencies & Brokerages\",\"Data Analyst\"],[\"Financial Transaction Processing\",\"Healthcare Data Analyst\"],[\"Consulting\",\"Data Analyst\"],[\"Enterprise Software & Network Solutions\",\"Data Analyst, Predictive Analytics\"],[\"Casual Restaurants\",\"Healthcare Data Analyst\"],[\"Internet\",\"Data Analyst\"],[\"IT Services\",\"Data Analyst\"],[\"IT Services\",\"Junior Data Analyst\"],[\"Staffing & Outsourcing\",\"COVID-19 Data Analyst\"],[\"Staffing & Outsourcing\",\"Business Data Analyst\"],[\"not mentioned\",\"Junior Data Analyst Python\"],[\"Staffing & Outsourcing\",\"IT Data Analyst (Power BI)\"],[\"IT Services\",\"Data Analyst\"],[\"IT Services\",\"Local Data Analyst - Clinical\"],[\"Logistics & Supply Chain\",\"Quality Data Analyst\"],[\"IT Services\",\"Senior Data Analyst\"],[\"Health Care Services & Hospitals\",\"Ending The HIV Epidemic Data Analyst\"],[\"Financial Transaction Processing\",\"Senior Data Analyst\"],[\"IT Services\",\"Junior Data Analyst\"],[\"Health Care Services & Hospitals\",\"Sr. Healthcare Data Analyst\"],[\"Casual Restaurants\",\"Senior Data Analyst II\"],[\"Department, Clothing, & Shoe Stores\",\"Operations/Quality Data Analyst\"],[\"Insurance Carriers\",\"Sr. IT Data Analyst\"],[\"IT Services\",\"Technical Data Analyst\"],[\"Banks & Credit Unions\",\"Senior Product Data Analyst\"],[\"Insurance Carriers\",\"Business Data Analyst\"],[\"Computer Hardware & Software\",\"Data Analyst\"],[\"Staffing & Outsourcing\",\"Data Analyst\"],[\"Banks & Credit Unions\",\"IT Data Analyst\"],[\"Research & Development\",\"Data Analyst I\"],[\"General Merchandise & Superstores\",\"Business Data Analyst - Marketing\"],[\"Computer Hardware & Software\",\"Business/Data Analyst\"],[\"Computer Hardware & Software\",\"Demand Response (DR) and Customer Success (CSM) BI and Data Analyst\"],[\"not mentioned\",\"Data Analyst\"],[\"General Merchandise & Superstores\",\"Data Development Analyst~\"],[\"Lending\",\"Data Analyst\"],[\"Aerospace & Defense\",\"Data Analyst II\"],[\"IT Services\",\"Junior Data Analyst\"],[\"Logistics & Supply Chain\",\"Junior Data Analyst\"],[\"IT Services\",\"Data Analyst\"],[\"not mentioned\",\"Data Analyst II, QA\"],[\"Enterprise Software & Network Solutions\",\"Data Analyst - Revenue Assurance\"],[\"Social Assistance\",\"Data Standards Analyst\"],[\"Accounting\",\"DATA ANALYST\"],[\"IT Services\",\"Data Analyst\"],[\"Staffing & Outsourcing\",\"Business Data Analyst\"],[\"Staffing & Outsourcing\",\"Data Analyst\"],[\"not mentioned\",\"Data Technician/Analyst/Specialist\"],[\"Lending\",\"Senior Data Analyst\"],[\"Computer Hardware & Software\",\"Security Data Analyst -CTJ\"],[\"Staffing & Outsourcing\",\"Engines Configuration and Data Management Analyst\"],[\"Social Assistance\",\"Data Standards Analyst in Seattle, Washington | Careers at Fred Hutchinson Cancer Research Center\"],[\"Staffing & Outsourcing\",\"Data Analyst\"],[\"Video Games\",\"Bilingual Senior Data Analyst (Japanese / English)\"],[\"not mentioned\",\"Security Data Analyst\"],[\"Staffing & Outsourcing\",\"Data Analyst/Developer\"],[\"General Merchandise & Superstores\",\"Information Security Analyst - Data Loss Prevention\"],[\"Computer Hardware & Software\",\"Data Analyst/PM (German)\"],[\"not mentioned\",\"Partner Training Data Analyst\"],[\"Computer Hardware & Software\",\"Senior Data Analyst and Applied Scientist\"],[\"Staffing & Outsourcing\",\"Senior Data Analyst : 20\"],[\"Computer Hardware & Software\",\"Security Data Analyst -CTJ with Security Clearance\"],[\"IT Services\",\"Junior Data Analyst\"],[\"IT Services\",\"Senior Data Analyst\"],[\"Staffing & Outsourcing\",\"Configuration/Data Management Analyst\"],[\"not mentioned\",\"Healthcare Business and Data Analyst\"],[\"IT Services\",\"Big Data Quality Analyst/Hadoop Testing analyst/ Hadoop Tester\"],[\"not mentioned\",\"Product Marketing & Business/Data Analyst\"],[\"Staffing & Outsourcing\",\"Sr MDM Data Analyst (NOT A DEVELOPER)\"],[\"not mentioned\",\"Senior Data Analyst, Tax Technology (Level 6)\"],[\"IT Services\",\"BI/Data Analyst- Configuration Lead\"],[\"Staffing & Outsourcing\",\"Active Directory Data Migration Analyst\"],[\"Colleges & Universities\",\"Sr. Research Data Analyst\"],[\"Staffing & Outsourcing\",\"Configuration and Data Management Analyst\"],[\"not mentioned\",\"Sr. Business/Data Analyst\"],[\"not mentioned\",\"Senior Data Analyst, Tax Technology\"],[\"Colleges & Universities\",\"Student Data Analyst\"],[\"IT Services\",\"Junior Data Analyst\"],[\"IT Services\",\"Data Analyst\"],[\"IT Services\",\"Junior Data Analyst\"],[\"Computer Hardware & Software\",\"Data Quality Analyst\"],[\"IT Services\",\"SAP DATA ANALYST\"],[\"not mentioned\",\"SAP Data Analyst\"],[\"IT Services\",\"Data Analyst - Denver, CO\"],[\"Computer Hardware & Software\",\"Inside Sales Data Analyst\"],[\"Computer Hardware & Software\",\"Data Analyst\"],[\"Internet\",\"Senior Data Analyst, Sales Compensation\"],[\"IT Services\",\"Data Analyst\"],[\"Staffing & Outsourcing\",\"Data Analyst\"],[\"IT Services\",\"Data Analyst\"],[\"IT Services\",\"Data Analyst\"],[\"Staffing & Outsourcing\",\"Data Analyst\"],[\"Staffing & Outsourcing\",\"Data Analyst\"],[\"Health Care Services & Hospitals\",\"Reporting / Data Analyst\"],[\"IT Services\",\"Data Support Analyst\"],[\"Enterprise Software & Network Solutions\",\"Marketing Data Analyst\"],[\"IT Services\",\"Data Analyst\"],[\"Hotels, Motels, & Resorts\",\"Data Analyst\"],[\"Enterprise Software & Network Solutions\",\"Data Analyst\"],[\"IT Services\",\"Junior Data Analyst\"],[\"Utilities\",\"Vendor Master Data Associate Analyst\"],[\"Aerospace & Defense\",\"Systems & Data Analyst\"],[\"Advertising & Marketing\",\"Data Analyst...........................!\"],[\"IT Services\",\"HealthCare Data Analyst - SQL and Python\"],[\"Staffing & Outsourcing\",\"BI/Data Analyst\"],[\"IT Services\",\"Data Analyst\"],[\"Consulting\",\"Business Data Analyst\"],[\"Computer Hardware & Software\",\"Data Analyst\"],[\"Internet\",\"Soapbox Data Analyst\"],[\"Internet\",\"Senior Data Quality Analyst\"],[\"Computer Hardware & Software\",\"Data Analyst\"],[\"State & Regional Agencies\",\"DMV/DC Data Services Analyst - Analyst II\"],[\"IT Services\",\"Data Analyst/Data engineer/Data Management\"],[\"Investment Banking & Asset Management\",\"Data Experience Analyst\"],[\"Health Care Products Manufacturing\",\"Data Analyst\"],[\"Aerospace & Defense\",\"Procurement Data Analyst\"],[\"Financial Transaction Processing\",\"Mutual Fund Data Analyst (JR1013810) - Contract\"],[\"IT Services\",\"Data Science Analyst\"],[\"not mentioned\",\"Data Analyst\"],[\"Staffing & Outsourcing\",\"Data Analyst\"],[\"Federal Agencies\",\"GAO Analyst (Data Analysis)\"],[\"Construction\",\"IT Data Analyst\"],[\"Oil & Gas Services\",\"Lead Geophysical Data Analyst\"],[\"Staffing & Outsourcing\",\"Data Analyst\"],[\"Health Care Services & Hospitals\",\"Data Analyst- Growth Operations\"],[\"Enterprise Software & Network Solutions\",\"Associate Business Analyst, Data Provisioning\"],[\"not mentioned\",\"Data Analyst\"],[\"Consulting\",\"Technical Lead- I Data Analyst\"],[\"not mentioned\",\"Financial Data Analyst\"],[\"IT Services\",\"Data Analyst\"],[\"State & Regional Agencies\",\"DMV/DC Data Services Analyst \\u2013 Analyst II\"],[\"Staffing & Outsourcing\",\"Data Security Analyst\"],[\"Staffing & Outsourcing\",\"Marketing Data Analyst\"],[\"IT Services\",\"Data Analyst\"],[\"Advertising & Marketing\",\"Data Analyst (W2 Contract Position)\"],[\"not mentioned\",\"SQL Data Analyst / ETL Developer\"],[\"State & Regional Agencies\",\"{\\\"title\\\":\\\"GAO Analyst (Data Analysis)\\\",\\\"extended\\\":{\\\"opening_type\\\":null}}\"],[\"Cable, Internet & Telephone Providers\",\"Lead HR & Data Governance Analyst\"],[\"IT Services\",\"Data Base Programmer/Analyst\"],[\"not mentioned\",\"Data Analyst 3, Customer Experience\"],[\"Staffing & Outsourcing\",\"Data Base Programmer/Analyst\"],[\"Health Care Services & Hospitals\",\"Senior Data Analyst\"],[\"Staffing & Outsourcing\",\"Actuarial Data & Visualization Analyst\"],[\"Computer Hardware & Software\",\"Technical Data Analyst - X\"],[\"Health Care Services & Hospitals\",\"Data Analytics, Senior Analyst\"],[\"IT Services\",\"Financial Data Analyst\"],[\"not mentioned\",\"MDG Functional Data Analyst-Greenwood Village, CO\"],[\"IT Services\",\"Junior Data Analyst\"],[\"Staffing & Outsourcing\",\"Data Security Analyst\"],[\"Home Centers & Hardware Stores\",\"Data Analyst - Aurora, IL\"],[\"IT Services\",\"Data Security Analyst\"],[\"Enterprise Software & Network Solutions\",\"Senior Data Analyst\"],[\"IT Services\",\"Data Analyst - Junior\"],[\"Consulting\",\"Data Base Programmer/Analyst\"],[\"Staffing & Outsourcing\",\"Senior Business/Data Analyst\"],[\"Staffing & Outsourcing\",\"Application Data Analyst\"],[\"Cable, Internet & Telephone Providers\",\"Data Analyst-(Remote- All across US)\"],[\"Wholesale\",\"Senior Data Analyst\"],[\"Staffing & Outsourcing\",\"Business Data Analyst III - RQS 2018\"],[\"Aerospace & Defense\",\"Configuration & Data Management Analyst\"],[\"not mentioned\",\"Data Analyst 3, Customer Experience - Centennial\"],[\"Staffing & Outsourcing\",\"Data Base Programmer/Analyst\"],[\"Health Care Services & Hospitals\",\"Senior Health Data Analyst (SAS)\"],[\"IT Services\",\"ColdFusion Development Data Analyst -Remote\"],[\"IT Services\",\"Senior Contract Data Analyst\"],[\"not mentioned\",\"Senior Contract Data Analyst\"],[\"Staffing & Outsourcing\",\"RQS - IHHA - 201900004460 -1s Data Security Analyst\"],[\"Staffing & Outsourcing\",\"Data Security Analyst fr\"],[\"Staffing & Outsourcing\",\"Business Systems Analyst-Data\"],[\"Cable, Internet & Telephone Providers\",\"Data Analyst-(Remote- All across\"],[\"Staffing & Outsourcing\",\"Data Security Analyst, Sr\"],[\"Staffing & Outsourcing\",\"Data Analyst Supporting the DEA #20-242\"],[\"not mentioned\",\"Technical Business Analyst (SQL, Data analytics, Informatica)\"],[\"Computer Hardware & Software\",\"Marketing/Communications - Data Analyst-Marketing\"],[\"Staffing & Outsourcing\",\"RQS - IHHA - 201900004460 -1q Data Security Analyst\"],[\"Wholesale\",\"Senior Data Analyst (Corporate Audit)\"],[\"not mentioned\",\"Technical Business Analyst (SQL, Data analytics, ETL)\"],[\"Enterprise Software & Network Solutions\",\"Data Analyst 3, Customer Experience\"],[\"Health Care Services & Hospitals\",\"Senior Quality Data Analyst\"]],\"hovertemplate\":\"avr_salary=%{x}<br>Company Name=%{y}<br>Industry=%{customdata[0]}<br>Job Title=%{customdata[1]}<br>Rating=%{marker.color}<extra></extra>\",\"legendgroup\":\"\",\"marker\":{\"color\":[3.2,3.8,3.4,4.1,3.9,3.9,4.4,3.7,4.0,4.4,4.0,3.7315656565656656,3.7,3.0,3.4,3.6,3.8,3.8,3.9,4.9,4.4,3.7315656565656656,3.3,3.5,3.8,4.0,5.0,4.8,3.7,4.7,3.6,3.6,3.5,3.2,3.7315656565656656,3.7,3.7315656565656656,3.6,4.0,4.6,3.7315656565656656,3.7315656565656656,5.0,4.0,3.0,2.9,4.0,3.6,4.9,3.9,4.0,3.8,3.7,3.6,3.6,3.7315656565656656,4.0,3.2,3.8,3.9,4.8,3.6,3.6,3.6,4.1,3.9,3.0,3.7,3.7315656565656656,3.9,3.7,3.7315656565656656,3.6,3.7,3.6,4.1,3.5,3.7,5.0,4.0,4.8,5.0,3.3,4.1,4.0,3.7315656565656656,1.0,3.1,4.5,3.4,3.7315656565656656,3.6,4.1,4.4,3.8,3.2,3.7315656565656656,3.8,4.7,2.3,3.8,4.6,3.0,3.9,3.0,4.2,5.0,4.0,3.7315656565656656,3.7315656565656656,3.6,3.7,3.5,2.8,5.0,3.8,3.4,3.6,3.7315656565656656,3.2,3.8,3.5,3.5,4.1,5.0,3.7,4.0,3.3,2.9,3.6,3.2,3.1,3.4,4.0,4.3,2.7,4.1,4.4,3.1,3.0,2.9,3.9,4.2,3.9,4.2,3.7315656565656656,5.0,3.9,3.4,2.9,4.0,3.6,3.4,3.7315656565656656,3.3,3.2,3.8,3.7315656565656656,3.4,3.2,3.2,3.3,3.7315656565656656,3.8,3.3,4.1,2.9,3.7315656565656656,3.4,2.5,4.4,3.9,2.3,3.6,3.7315656565656656,3.6,3.3,3.8,3.7,3.7315656565656656,3.6,4.0,4.1,4.5,3.7,3.1,3.7315656565656656,3.7,3.7,3.2,3.6,3.6,3.7,3.1,3.7315656565656656,3.8,4.1,3.8,3.7,4.7,3.7,3.3,3.4,3.2,3.7315656565656656,3.7315656565656656,5.0,3.6,3.0,3.5,1.0,5.0,5.0,3.8,4.1,3.3,3.7315656565656656,3.5,3.7,4.0,3.4,3.6,3.7315656565656656,3.5,3.4,4.1,4.2,3.7315656565656656,2.7,3.1,4.5,4.8,4.1,3.0,2.7,3.5,3.7315656565656656,3.1,5.0,3.9,3.8,3.0,3.2,3.3,3.6,3.1,3.6,3.7315656565656656,3.9,4.0,3.9,3.8,4.9,3.7315656565656656,3.6,3.7315656565656656,3.2,2.9,2.3,3.7315656565656656,4.2,3.4,3.1,3.9,4.5,4.0,2.6,3.7315656565656656,3.9,4.1,3.8,5.0,3.7315656565656656,3.8,3.9,3.0,3.7315656565656656,4.0,4.8,3.7315656565656656,3.8,3.5,3.0,3.1,3.7315656565656656,3.5,4.0,3.2,3.3,3.7315656565656656,3.6,3.7315656565656656,3.6,4.3,4.0,3.7,4.1,3.3,3.4,3.1,3.7,3.7315656565656656,3.9,4.1,3.3,4.1,3.0,3.4,4.8,3.2,3.8,3.7,4.6,2.7,4.0,3.7315656565656656,3.5,3.9,4.1,3.1,3.1,3.9,4.3,3.7,3.2,3.8,3.5,3.7315656565656656,3.6,3.9,3.7315656565656656,2.4,4.0,4.0,3.6,4.0,3.2,2.5,3.6,3.0,3.9,2.4,2.8,4.4,4.8,2.8,5.0,3.7,4.0,4.2,3.7315656565656656,3.5,2.0,3.3,3.7315656565656656,3.7315656565656656,5.0,3.4,3.6,2.1,2.8,3.0,3.9,4.5,3.7315656565656656,4.0,5.0,3.0,3.4,3.2,4.0,2.8,3.2,3.4,3.4,3.5,3.3,3.7,3.6,2.7,4.5,2.5,4.4,3.7315656565656656,4.3,5.0,4.4,3.2,4.8,3.0,5.0,3.4,4.2,4.2,3.4,3.1,3.7315656565656656,3.7,4.0,4.3,3.8,2.4,3.4,3.7315656565656656,3.7315656565656656,4.0,3.2,3.3,3.7315656565656656,5.0,3.2,3.1,3.9,3.7315656565656656,2.5,3.1,4.5,3.2,4.4,3.8,3.4,3.7315656565656656,2.0,4.2,3.6,4.3,4.0,4.3,4.1,4.5,4.6,4.0,4.1,3.6,2.6,3.0,3.6,2.9,3.4,3.7315656565656656,4.5,3.8,2.7,3.3,3.7315656565656656,3.7315656565656656,5.0,3.5,3.5,4.1,4.0,3.5,2.9,4.2,3.5,3.7,3.3,4.3,2.5,2.7,2.7,5.0,4.9,3.0,1.0,3.5,5.0,4.9,3.4,3.1,3.8,1.0,3.5,3.8,5.0,5.0,3.0,3.8,4.9,3.7315656565656656,3.5,3.8,3.2,3.1,3.5,3.2,4.9,3.8,3.7,3.5,1.0,5.0,3.2,3.4,3.1,3.7315656565656656,3.4,3.5,3.6,3.7315656565656656,3.7,3.6,3.7315656565656656,3.3,3.3,5.0,5.0,4.3,3.1,3.3,5.0,5.0,3.3,3.1,3.6,3.7,5.0,3.7315656565656656,5.0,3.3,5.0,3.6,4.3,4.3,3.2,4.5,4.3,3.7315656565656656,4.0,3.7315656565656656,3.6,3.5,5.0,3.4,3.9,3.7315656565656656,3.5,3.2,4.7,4.7,4.0,3.4,3.7315656565656656,3.7,4.1,3.1,3.7,3.7315656565656656,3.9,3.8,3.5,5.0,3.8,3.8,4.2,3.1,4.1,3.9,3.7315656565656656,3.5,3.9,3.9,3.9,3.7,4.7,4.0,3.5,2.9,2.8,3.1,5.0,3.2,5.0,3.2,3.9,3.7315656565656656,4.5,3.9,5.0,3.7315656565656656,3.1,3.6,3.3,3.7,4.6,4.5,3.9,3.8,3.0,3.9,3.4,3.5,4.0,5.0,4.5,4.0,3.5,3.4,2.1,3.8,5.0,3.7315656565656656,4.0,3.8,3.8,3.6,4.9,3.7315656565656656,3.7315656565656656,3.6,3.7315656565656656,3.4,3.7315656565656656,4.1,3.4,3.7,3.1,3.0,3.5,3.7,3.6,4.6,3.7315656565656656,3.8,2.7,3.4,3.1,3.7315656565656656,3.7,3.7315656565656656,3.6,5.0,4.0,3.0,3.3,3.7315656565656656,4.0,4.9,3.6,3.6,5.0,3.8,4.3,4.2,3.9,4.1,3.4,5.0,3.8,3.5,3.8,3.7315656565656656,3.7315656565656656,3.6,3.4,3.1,1.0,3.1,4.7,3.7315656565656656,3.7315656565656656,3.7315656565656656,3.9,2.5,3.5,3.8,3.8,4.0,4.1,3.7315656565656656,3.8,3.0,3.3,5.0,3.7315656565656656,2.6,3.3,3.5,3.0,2.8,3.2,4.7,3.1,2.5,3.3,3.7315656565656656,3.7315656565656656,2.9,5.0,3.7315656565656656,4.0,5.0,3.3,2.9,5.0,3.2,3.3,3.8,3.7315656565656656,4.0,4.1,3.7315656565656656,2.8,3.9,3.4,3.1,3.1,2.4,3.7,3.3,4.6,2.9,3.6,3.7315656565656656,3.8,3.4,3.7315656565656656,3.7315656565656656,3.7315656565656656,3.7315656565656656,3.9,3.7,3.7,5.0,3.2,3.4,3.4,3.8,2.8,3.3,3.7,4.0,3.9,3.7315656565656656,4.6,4.6,4.1,3.3,3.3,4.7,4.3,3.2,3.3,3.1,3.5,3.3,3.8,3.8,3.7,3.2,4.2,4.6,3.2,3.5,3.7,3.9,3.7315656565656656,3.4,4.1,5.0,3.5,3.7,4.0,3.5,3.6,3.0,3.7315656565656656,3.7315656565656656,3.9,5.0,4.7,3.5,3.2,3.7315656565656656,4.6,4.2,3.9,3.9,4.8,3.7315656565656656,4.0,3.9,2.7,3.4,4.5,4.0,3.7,4.0,3.2,3.2,3.7315656565656656,3.8,3.8,3.9,3.5,3.0,3.0,3.9,3.9,3.7,3.7315656565656656,4.3,1.0,3.7,3.6,4.0,2.9,2.5,3.6,4.1,3.3,4.8,5.0,3.3,2.8,3.6,3.7315656565656656,2.5,4.2,3.5,1.0,3.2,4.8,2.9,3.4,4.1,3.7,5.0,4.1,3.7315656565656656,2.5,4.5,3.5,5.0,3.7315656565656656,2.1,3.7315656565656656,3.3,4.5,3.7315656565656656,2.0,3.7315656565656656,3.9,3.3,3.7,3.4,3.8,3.2,3.2,3.3,1.7,3.5,5.0,4.3,4.6,3.7315656565656656,3.0,3.3,3.0,3.7315656565656656,5.0,4.0,2.2,3.7315656565656656,2.7,3.2,3.5,3.7315656565656656,2.7,3.7315656565656656,3.3,3.3,4.1,2.8,3.7315656565656656,3.7315656565656656,3.9,3.7,3.8,4.0,3.0,3.7315656565656656,3.4,4.0,4.1,2.8,3.0,3.5,3.6,2.7,3.9,3.9,3.4,3.7315656565656656,4.8,3.1,3.2,4.0,3.7315656565656656,3.6,4.3,4.1,3.7315656565656656,2.5,3.7,3.7315656565656656,3.7,4.9,3.6,3.9,3.9,4.0,4.8,4.2,5.0,4.7,2.5,4.8,1.0,2.4,3.3,3.8,3.5,3.5,3.0,5.0,2.0,3.5,4.1,4.6,3.6,3.4,4.2,3.6,3.7,2.9,3.7315656565656656,2.7,3.3,2.8,3.6,3.4,3.6,4.7,4.5,3.7315656565656656,4.7,3.6,4.0,4.0,3.6,2.0,3.8,4.0,3.2,3.6,3.2,4.4,3.6,5.0,5.0,3.7315656565656656,3.7,3.8,3.0,3.3,3.1,4.8,2.2,3.1,4.4,3.2,3.7,3.5,4.0,3.2,3.5,4.9,4.1,4.6,3.6,3.0,3.2,2.9,3.9,3.6,2.5,3.6,3.6,4.4,3.7315656565656656,4.6,3.1,3.1,3.4,2.9,3.9,3.7315656565656656,3.7315656565656656,4.3,4.3,3.6,3.9,3.8,2.9,3.4,3.4,3.7,3.1,3.7315656565656656,3.1,3.1,2.5,2.5,3.9,5.0,3.7315656565656656,4.5,3.3,3.2,3.5,3.0,3.7315656565656656,3.6,4.0,3.5,3.0,4.9,3.9,4.3,3.7315656565656656,4.5,3.7315656565656656,3.7315656565656656,3.7,4.3,3.7315656565656656,4.2,2.7,2.9,3.6,3.7315656565656656,3.1,4.4,3.5,3.4,3.6,3.8,3.7315656565656656,3.7,3.7,3.8,5.0,4.1,4.1,4.1,4.0,3.8,2.9,3.7315656565656656,3.1,4.5,3.1,3.7315656565656656,2.8,2.9,3.6,3.6,2.3,3.2,3.6,4.7,3.9,3.9,3.7315656565656656,3.9,3.8,5.0,3.7315656565656656,3.7,5.0,3.5,3.8,4.2,3.3,3.3,4.1,3.9,4.3,4.1,3.5,3.8,3.6,3.5,3.2,2.4,4.3,3.1,3.5,3.7315656565656656,3.9,5.0,2.4,3.7315656565656656,4.2,4.3,3.7315656565656656,3.7315656565656656,2.7,4.6,3.9,3.5,3.2,2.7,3.9,3.1,4.5,3.8,3.2,4.1,3.7315656565656656,3.7315656565656656,3.5,4.3,1.8,3.7,4.3,3.8,4.0,3.9,3.9,3.4,2.4,3.2,3.8,2.6,3.2,3.9,3.7,4.7,4.2,3.5,3.5,3.7,3.7315656565656656,3.2,2.7,4.5,4.1,3.7315656565656656,3.9,3.6,3.6,4.1,4.4,3.5,2.3,4.2,2.4,3.7,4.2,2.7,4.3,3.2,3.5,3.7,3.9,3.6,3.7315656565656656,3.7315656565656656,3.4,3.4,4.2,5.0,3.7315656565656656,3.3,3.9,3.7,3.7315656565656656,2.8,1.6,2.7,4.6,3.8,3.3,4.8,3.7315656565656656,3.5,3.7315656565656656,5.0,3.6,4.2,3.1,1.6,4.5,3.3,3.2,3.9,4.0,4.1,3.7315656565656656,3.9,3.4,4.0,3.1,3.0,3.9,3.9,3.7,4.1,3.4,3.4,4.3,2.5,4.0,3.7315656565656656,2.8,3.7,5.0,3.0,4.0,4.5,3.5,3.3,3.7315656565656656,4.1,2.9,3.7,4.0,4.0,3.5,3.3,3.7315656565656656,2.6,3.3,3.9,3.7315656565656656,3.8,4.1,3.2,3.8,4.0,3.7315656565656656,3.9,4.4,3.3,3.7315656565656656,3.1,3.1,3.6,3.3,4.3,3.0,4.5,3.7,4.2,3.7,4.0,3.4,4.2,5.0,3.2,3.0,4.4,3.4,4.8,5.0,3.2,3.8,3.9,2.8,3.5,5.0,3.5,3.7315656565656656,3.5,3.6,3.3,3.4,4.0,3.9,4.3,4.2,4.6,4.4,3.7315656565656656,3.7,2.3,4.4,3.3,4.1,4.2,3.5,4.3,5.0,3.2,3.5,3.3,4.3,2.5,3.7315656565656656,3.3,4.1,3.7,3.7,4.2,4.9,3.5,4.3,3.4,3.5,3.3,3.7,4.1,4.1,4.3,3.3,3.1,4.9,3.3,3.9,4.0,5.0,3.7,3.7,3.8,4.4,3.1,4.0,3.4,3.7315656565656656,3.3,4.1,3.5,3.3,3.4,2.8,2.9,4.0,5.0,2.9,3.8,3.8,3.3,3.7315656565656656,3.6,4.1,4.6,3.3,3.4,3.6,4.1,3.7315656565656656,3.8,3.7315656565656656,3.6,2.9,3.7,3.5,3.6,1.0,4.1,3.8,3.7,5.0,2.6,3.7315656565656656,4.0,3.5,4.6,3.8,2.8,3.9,4.5,3.0,4.4,4.1,4.3,5.0,1.9,3.4,2.8,4.2,3.7,3.7315656565656656,3.4,3.2,4.2,4.7,4.6,3.8,3.4,3.1,3.4,3.7315656565656656,3.4,3.7315656565656656,2.9,2.5,4.0,2.8,3.3,3.8,3.8,3.7315656565656656,4.2,4.1,3.7,3.6,3.5,2.1,3.7,2.5,3.6,3.7315656565656656,3.3,3.7315656565656656,3.9,3.7,3.7315656565656656,3.3,5.0,3.5,2.6,3.7315656565656656,3.5,4.0,3.4,4.2,3.0,4.1,4.0,4.1,3.2,3.7,4.0,3.5,4.2,4.5,3.8,4.3,3.7,4.4,3.1,3.2,3.3,2.8,4.0,3.4,3.9,3.2,3.5,3.4,4.0,4.3,3.5,3.2,3.6,4.0,3.7315656565656656,3.9,3.7315656565656656,3.8,4.1,4.5,3.7315656565656656,2.9,4.1,4.5,4.6,3.9,4.0,3.3,3.1,3.4,3.4,3.5,3.8,4.0,3.7315656565656656,3.9,4.0,3.6,3.8,5.0,4.4,4.4,3.9,3.7,4.1,4.0,3.1,3.9,3.7315656565656656,3.9,3.6,3.9,4.4,3.9,5.0,4.1,3.8,3.8,3.7,4.0,4.1,4.0,3.9,4.5,2.4,4.8,3.9,4.1,4.0,5.0,3.7315656565656656,3.7315656565656656,4.1,4.1,4.5,4.6,3.2,5.0,4.1,4.0,4.3,4.4,3.3,4.1,4.5,4.1,3.7315656565656656,4.7,4.2,4.0,3.7315656565656656,4.1,4.2,4.8,4.1,3.9,3.7315656565656656,3.7,3.5,4.1,3.2,4.2,3.5,3.8,3.9,4.7,3.3,4.4,4.1,4.4,4.8,3.1,4.1,3.8,4.1,3.6,4.4,3.9,3.7,3.9,3.7315656565656656,3.7315656565656656,4.3,4.0,4.4,3.4,3.9,3.1,4.1,4.1,4.8,4.4,3.3,4.4,3.9,3.3,3.9,3.3,3.4,3.4,4.0,4.5,3.7,3.7315656565656656,3.5,3.7315656565656656,3.7,2.2,3.7,3.7315656565656656,3.7,3.1,3.7,4.0,3.7315656565656656,3.7,5.0,4.5,3.9,4.1,3.3,4.0,3.5,4.4,3.7315656565656656,3.6,4.8,2.6,4.1,4.0,3.8,3.3,3.9,3.6,3.8,3.7,3.2,3.9,3.3,3.9,2.9,3.7315656565656656,3.7315656565656656,3.7315656565656656,3.6,3.9,4.0,4.1,3.7,4.1,3.5,2.8,4.6,2.6,3.8,2.6,2.8,4.6,4.1,2.8,4.1,4.9,4.7,3.6,3.9,2.8,4.0,3.4,4.6,4.3,1.9,5.0,3.2,3.8,5.0,4.0,3.5,4.5,4.5,3.3,4.6,2.8,3.7315656565656656,3.2,3.7,2.6,2.8,2.8,3.7315656565656656,4.4,4.6,3.9,2.8,3.3,2.5,3.7315656565656656,2.5,3.7,2.6,3.3,3.8,3.7315656565656656,3.7,2.7,3.3,3.8,3.5,3.5,3.8,3.8,3.7,3.0,3.9,3.1,3.7,3.6,3.7315656565656656,2.8,3.3,4.1,3.3,5.0,2.8,3.7315656565656656,3.5,4.1,3.5,3.7315656565656656,2.7,3.7315656565656656,3.3,4.4,2.8,2.8,3.5,3.4,3.0,3.5,3.5,3.7,5.0,3.7315656565656656,3.5,3.5,3.9,5.0,3.5,5.0,3.7315656565656656,3.7315656565656656,2.9,5.0,5.0,3.9,3.7315656565656656,3.3,4.6,3.8,3.7315656565656656,3.9,3.1,4.4,5.0,3.8,2.9,3.7315656565656656,1.7,4.2,4.8,3.9,3.7315656565656656,3.7315656565656656,4.8,4.7,3.6,4.2,3.6,3.7,2.9,3.5,3.9,3.7315656565656656,3.8,3.6,5.0,2.3,2.5,3.7,2.8,5.0,3.4,4.5,3.4,3.7315656565656656,5.0,4.5,4.5,3.7,5.0,2.5,4.0,4.5,3.6,3.7315656565656656,3.7315656565656656,3.4,3.4,3.7,3.9,4.5,3.6,3.8,5.0,3.9,3.8,5.0,3.4,4.1,4.1,3.9,3.9,3.6,3.4,3.6,3.8,3.6,4.1,3.7,3.5,4.1,3.9,5.0,4.6,3.2,3.9,3.7315656565656656,4.7,3.9,3.2,3.3,3.7315656565656656,3.6,2.8,3.4,3.8,3.6,3.7,2.0,2.9,4.1,3.5,2.9,3.7315656565656656,3.6,4.6,5.0,3.5,4.3,5.0,3.7315656565656656,3.2,4.1,3.4,4.0,3.9,2.9,4.0,3.7315656565656656,4.1,5.0,3.6,4.1,3.3,4.3,2.3,3.2,3.3,3.7315656565656656,2.8,3.7315656565656656,5.0,1.8,4.4,3.7315656565656656,3.7315656565656656,3.3,4.1,3.7315656565656656,3.7315656565656656,3.8,4.3,3.7,3.7,3.1,3.0,3.7315656565656656,3.6,3.8,3.6,3.3,3.8,3.3,4.0,3.6,3.9,3.0,4.0,5.0,3.8,4.6,3.5,3.3,4.1,4.1,4.8,3.7,3.6,3.6,3.9,3.8,4.0,5.0,4.9,4.6,3.8,4.0,3.7,4.5,2.3,3.7315656565656656,4.1,4.0,3.6,5.0,4.4,3.3,3.7315656565656656,3.8,3.5,4.1,4.6,4.2,4.3,5.0,3.7315656565656656,3.7,3.7315656565656656,4.0,3.9,3.9,3.6,4.1,4.6,3.4,3.7315656565656656,4.0,4.1,3.4,5.0,3.9,3.8,4.1,2.5,3.2,3.7,3.7,3.2,3.7,3.2,4.1,3.2,5.0,4.1,4.8,4.5,4.1,5.0,3.9,4.0,4.6,3.4,3.2,3.3,4.0,3.7315656565656656,3.7315656565656656,3.9,3.0,3.7315656565656656,3.8,3.8,3.7315656565656656,3.7315656565656656,4.0,4.4,3.6,3.2,3.9,4.0,3.2,4.4,3.7315656565656656,3.7315656565656656,4.5,3.7315656565656656,3.7,3.9,3.7315656565656656,3.2,3.7315656565656656,3.7,3.7315656565656656,3.2,3.7,3.8,4.0,5.0,2.8,4.0,2.5,3.7,4.6,3.6,3.4,3.5,4.0,4.1,3.3,3.5,4.5,3.7315656565656656,3.9,3.7315656565656656,3.8,4.0,4.1,3.7315656565656656,4.1,5.0,4.5,4.8,3.7315656565656656,4.1,2.7,3.7315656565656656,3.9,3.0,3.8,3.1,3.9,3.9,3.2,4.4,3.9,3.5,3.6,5.0,4.4,4.4,4.9,5.0,4.3,3.8,3.9,4.8,3.7315656565656656,3.4,3.1,4.6,3.4,3.0,3.6,3.2,3.4,3.8,3.0,4.6,3.0,3.7,3.8,3.6,3.7315656565656656,4.6,4.6,4.1,3.7315656565656656,5.0,3.2,3.3,3.5,4.2,2.8,3.8,2.8,5.0,3.6,3.6,4.2,4.6,5.0,3.1,3.5,4.0,3.4,2.9,5.0,3.5,2.8,4.0,2.7,3.3,4.3,3.3,4.3,4.6,3.6,3.0,4.0,3.5,4.3,3.7315656565656656,4.0,3.7,2.9,5.0,4.7,5.0,4.2,3.2,3.9,3.8,2.9,3.0,3.4,3.5,3.7,4.3,4.4,3.9,3.7,4.0,3.7315656565656656,3.7,4.0,3.6,3.7315656565656656,4.3,4.6,4.3,5.0,3.5,4.2,3.7315656565656656,4.6,3.7315656565656656,4.5,3.7315656565656656,3.6,3.4,4.1,4.4,3.7315656565656656,3.7315656565656656,4.2,5.0,5.0,5.0,3.8,3.4,3.7315656565656656,3.8,4.0,3.6,4.0,3.8,3.1,4.3,2.9,3.2,3.8,5.0,4.1,3.9,3.4,4.0,3.3,5.0,3.5,3.7,3.7,3.6,3.8,5.0,4.8,5.0,4.6,3.5,3.7,3.3,4.1,3.6,3.1,3.8,3.5,5.0,3.7315656565656656,4.1,3.5,3.5,3.6,4.7,3.0,3.5,3.7315656565656656,2.6,3.7315656565656656,3.3,3.3,2.5,5.0,5.0,3.7,4.0,4.3,3.0,3.7,3.6,2.5,3.5,4.2,4.1,4.0,2.9,5.0,5.0,4.3,2.6,4.1,3.7,5.0,3.3,2.7,3.8,3.0,2.8,2.5,3.8,3.6,4.3,3.6,3.3,4.0,3.7315656565656656,2.5,2.5,3.5,3.0,2.5,2.8,3.7315656565656656,4.1,2.5,2.9,3.7315656565656656,3.1,3.4],\"coloraxis\":\"coloraxis\",\"symbol\":\"circle\"},\"mode\":\"markers\",\"name\":\"\",\"showlegend\":false,\"x\":[51.5,51.5,51.5,51.5,51.5,51.5,51.5,51.5,51.5,51.5,51.5,51.5,51.5,51.5,51.5,51.5,51.5,51.5,51.5,51.5,51.5,51.5,51.5,51.5,51.5,51.5,51.5,51.5,51.5,51.5,66.5,66.5,66.5,66.5,66.5,66.5,66.5,66.5,66.5,66.5,66.5,66.5,66.5,66.5,66.5,66.5,66.5,66.5,66.5,66.5,66.5,66.5,66.5,66.5,66.5,66.5,66.5,66.5,66.5,66.5,69.5,69.5,69.5,69.5,69.5,69.5,69.5,69.5,69.5,69.5,69.5,69.5,69.5,69.5,69.5,69.5,69.5,69.5,69.5,69.5,69.5,69.5,69.5,69.5,69.5,69.5,69.5,69.5,69.5,69.5,69.0,69.0,69.0,69.0,69.0,69.0,69.0,69.0,69.0,69.0,69.0,69.0,69.0,69.0,69.0,69.0,69.0,69.0,69.0,69.0,69.0,69.0,69.0,69.0,69.0,69.0,69.0,69.0,69.0,69.0,72.0,72.0,72.0,72.0,72.0,72.0,72.0,72.0,72.0,72.0,72.0,72.0,72.0,72.0,72.0,72.0,72.0,72.0,72.0,72.0,72.0,72.0,72.0,72.0,72.0,72.0,72.0,72.0,72.0,72.0,59.5,59.5,59.5,59.5,59.5,59.5,59.5,59.5,59.5,59.5,59.5,59.5,59.5,59.5,59.5,59.5,59.5,59.5,59.5,59.5,59.5,59.5,59.5,59.5,59.5,59.5,59.5,59.5,59.5,59.5,59.5,85.0,85.0,85.0,85.0,85.0,85.0,85.0,85.0,85.0,85.0,85.0,85.0,85.0,85.0,85.0,85.0,85.0,85.0,85.0,85.0,85.0,85.0,85.0,85.0,85.0,85.0,85.0,85.0,85.0,85.0,59.5,59.5,59.5,59.5,59.5,59.5,59.5,59.5,59.5,59.5,59.5,59.5,59.5,59.5,59.5,59.5,59.5,59.5,59.5,59.5,59.5,59.5,59.5,59.5,59.5,59.5,59.5,59.5,59.5,66.5,66.5,66.5,66.5,66.5,66.5,66.5,66.5,66.5,66.5,66.5,100.0,100.0,100.0,100.0,100.0,100.0,100.0,100.0,100.0,100.0,100.0,100.0,100.0,100.0,87.0,87.0,87.0,87.0,87.0,87.0,87.0,87.0,87.0,87.0,87.0,87.0,87.0,87.0,87.0,87.0,87.0,87.0,39.5,39.5,39.5,39.5,39.5,39.5,39.5,39.5,39.5,39.5,39.5,39.5,39.5,39.5,39.5,39.5,39.5,39.5,39.5,39.5,39.5,39.5,39.5,39.5,39.5,39.5,39.5,39.5,39.5,39.5,58.0,58.0,58.0,58.0,58.0,58.0,58.0,58.0,58.0,58.0,58.0,58.0,58.0,58.0,58.0,58.0,58.0,58.0,58.0,58.0,58.0,58.0,58.0,58.0,58.0,58.0,58.0,104.5,104.5,104.5,104.5,104.5,104.5,104.5,104.5,104.5,104.5,104.5,104.5,104.5,104.5,104.5,104.5,104.5,104.5,104.5,104.5,104.5,104.5,104.5,104.5,104.5,104.5,104.5,104.5,104.5,106.0,106.0,106.0,106.0,106.0,106.0,106.0,106.0,106.0,106.0,106.0,106.0,106.0,106.0,106.0,106.0,106.0,106.0,106.0,106.0,106.0,106.0,106.0,106.0,106.0,106.0,106.0,106.0,106.0,106.0,72.0,72.0,72.0,72.0,72.0,72.0,72.0,72.0,72.0,72.0,72.0,72.0,72.0,72.0,72.0,72.0,72.0,72.0,72.0,72.0,72.0,72.0,36.5,36.5,36.5,36.5,36.5,36.5,36.5,36.5,36.5,36.5,36.5,36.5,36.5,36.5,36.5,36.5,36.5,36.5,36.5,36.5,36.5,36.5,36.5,36.5,36.5,36.5,36.5,36.5,36.5,45.0,45.0,45.0,45.0,64.0,64.0,64.0,56.0,56.0,56.0,56.0,56.0,56.0,56.0,56.0,56.0,56.0,56.0,56.0,56.0,56.0,56.0,56.0,56.0,56.0,56.0,56.0,56.0,56.0,56.0,56.0,56.0,56.0,56.0,56.0,56.0,56.0,80.5,80.5,80.5,80.5,80.5,80.5,80.5,80.5,80.5,80.5,80.5,80.5,80.5,80.5,80.5,80.5,80.5,80.5,42.0,42.0,42.0,42.0,42.0,42.0,42.0,42.0,79.0,79.0,79.0,79.0,79.0,79.0,79.0,79.0,79.0,79.0,79.0,79.0,79.0,79.0,79.0,79.0,79.0,79.0,79.0,79.0,79.0,79.0,79.0,79.0,79.0,79.0,79.0,79.0,79.0,53.5,53.5,53.5,53.5,53.5,53.5,53.5,53.5,53.5,53.5,53.5,53.5,53.5,53.5,53.5,53.5,53.5,53.5,53.5,53.5,53.5,53.5,53.5,53.5,53.5,53.5,53.5,53.5,53.5,80.0,80.0,80.0,80.0,80.0,80.0,80.0,80.0,80.0,80.0,80.0,80.0,80.0,80.0,80.0,80.0,80.0,80.0,80.0,80.0,80.0,80.0,80.0,80.0,80.0,80.0,80.0,80.0,80.0,40.0,40.0,40.0,40.0,40.0,40.0,40.0,40.0,40.0,40.0,40.0,40.0,40.0,40.0,40.0,40.0,40.0,40.0,40.0,40.0,40.0,40.0,40.0,40.0,40.0,40.0,40.0,40.0,54.0,54.0,54.0,54.0,54.0,54.0,54.0,54.0,54.0,54.0,54.0,54.0,54.0,54.0,54.0,54.0,54.0,54.0,54.0,54.0,54.0,54.0,54.0,54.0,54.0,54.0,54.0,54.0,54.0,54.0,73.0,73.0,73.0,73.0,73.0,73.0,73.0,73.0,73.0,73.0,73.0,73.0,73.0,73.0,73.0,73.0,73.0,73.0,73.0,73.0,73.0,73.0,73.0,73.0,73.0,73.0,73.0,73.0,73.0,122.5,122.5,122.5,122.5,122.5,122.5,122.5,122.5,122.5,122.5,122.5,122.5,122.5,122.5,122.5,122.5,122.5,122.5,122.5,122.5,122.5,122.5,122.5,122.5,122.5,122.5,122.5,122.5,122.5,52.5,52.5,52.5,52.5,63.0,63.0,63.0,63.0,63.0,63.0,63.0,63.0,63.0,63.0,63.0,63.0,63.0,63.0,63.0,63.0,63.0,63.0,63.0,63.0,63.0,63.0,63.0,63.0,63.0,63.0,63.0,63.0,63.0,63.0,77.5,77.5,77.5,77.5,77.5,77.5,77.5,77.5,77.5,77.5,77.5,77.5,77.5,77.5,77.5,77.5,77.5,77.5,77.5,77.5,77.5,77.5,77.5,77.5,77.5,77.5,77.5,77.5,77.5,79.5,79.5,79.5,79.5,79.5,79.5,79.5,79.5,79.5,79.5,79.5,79.5,79.5,79.5,79.5,79.5,79.5,79.5,79.5,79.5,79.5,79.5,79.5,79.5,79.5,79.5,79.5,79.5,79.5,59.0,59.0,59.0,59.0,59.0,59.0,59.0,59.0,59.0,59.0,59.0,59.0,59.0,59.0,59.0,59.0,59.0,59.0,59.0,59.0,59.0,59.0,59.0,59.0,59.0,59.0,59.0,59.0,59.0,59.0,113.0,113.0,113.0,113.0,113.0,113.0,113.0,113.0,113.0,113.0,113.0,113.0,113.0,113.0,113.0,113.0,113.0,113.0,113.0,113.0,113.0,113.0,113.0,113.0,113.0,113.0,113.0,113.0,113.0,113.0,77.5,77.5,77.5,77.5,77.5,77.5,77.5,77.5,77.5,77.5,77.5,77.5,77.5,77.5,77.5,77.5,33.5,33.5,33.5,33.5,33.5,33.5,33.5,33.5,33.5,33.5,33.5,33.5,33.5,33.5,33.5,33.5,33.5,33.5,33.5,33.5,33.5,33.5,33.5,33.5,33.5,33.5,33.5,33.5,33.5,61.5,61.5,61.5,61.5,61.5,61.5,61.5,61.5,61.5,61.5,61.5,61.5,61.5,61.5,61.5,61.5,61.5,61.5,61.5,61.5,61.5,61.5,61.5,61.5,61.5,61.5,61.5,61.5,98.5,98.5,98.5,98.5,98.5,98.5,98.5,98.5,98.5,98.5,98.5,98.5,98.5,98.5,98.5,98.5,98.5,98.5,98.5,98.5,98.5,98.5,98.5,98.5,98.5,98.5,98.5,98.5,73.5,73.5,73.5,73.5,73.5,73.5,73.5,73.5,73.5,73.5,73.5,73.5,73.5,73.5,73.5,73.5,73.5,73.5,73.5,73.5,73.5,73.5,73.5,73.5,73.5,73.5,73.5,73.5,73.5,74.0,74.0,74.0,74.0,74.0,74.0,74.0,74.0,74.0,74.0,74.0,74.0,74.0,74.0,74.0,74.0,74.0,74.0,74.0,74.0,74.0,74.0,74.0,74.0,74.0,74.0,74.0,74.0,68.5,68.5,68.5,68.5,68.5,68.5,68.5,68.5,68.5,68.5,68.5,68.5,68.5,68.5,68.5,68.5,68.5,68.5,68.5,68.5,68.5,68.5,68.5,68.5,68.5,68.5,68.5,68.5,68.5,61.5,61.5,61.5,61.5,61.5,61.5,61.5,61.5,61.5,61.5,61.5,59.5,59.5,59.5,59.5,59.5,59.5,59.5,59.5,59.5,59.5,59.5,59.5,59.5,59.5,59.5,59.5,59.5,59.5,59.5,59.5,59.5,59.5,59.5,59.5,59.5,59.5,59.5,59.5,53.0,53.0,53.0,53.0,53.0,53.0,53.0,53.0,53.0,53.0,53.0,53.0,53.0,53.0,53.0,53.0,53.0,53.0,53.0,53.0,53.0,53.0,53.0,53.0,53.0,53.0,53.0,53.0,53.0,40.5,40.5,40.5,40.5,40.5,40.5,40.5,40.5,40.5,40.5,40.5,40.5,40.5,40.5,40.5,40.5,40.5,40.5,40.5,40.5,40.5,40.5,40.5,40.5,40.5,40.5,40.5,40.5,40.5,88.5,88.5,88.5,88.5,88.5,88.5,88.5,88.5,88.5,88.5,88.5,88.5,88.5,88.5,88.5,88.5,88.5,88.5,88.5,88.5,88.5,88.5,88.5,88.5,88.5,88.5,88.5,88.5,88.5,88.5,71.5,71.5,71.5,71.5,71.5,71.5,71.5,71.5,71.5,71.5,71.5,71.5,71.5,71.5,71.5,71.5,71.5,71.5,71.5,52.5,52.5,52.5,52.5,52.5,52.5,52.5,52.5,52.5,52.5,52.5,52.5,52.5,52.5,52.5,52.5,52.5,52.5,52.5,52.5,52.5,52.5,52.5,52.5,52.5,52.5,52.5,52.5,52.5,52.5,81.0,81.0,81.0,81.0,81.0,81.0,81.0,81.0,81.0,81.0,81.0,81.0,81.0,81.0,81.0,81.0,81.0,81.0,99.0,99.0,99.0,99.0,99.0,99.0,99.0,99.0,99.0,99.0,99.0,99.0,99.0,99.0,99.0,99.0,99.0,99.0,99.0,99.0,99.0,99.0,99.0,99.0,99.0,99.0,99.0,99.0,92.0,92.0,92.0,92.0,92.0,92.0,92.0,92.0,92.0,92.0,92.0,92.0,92.0,92.0,92.0,92.0,92.0,92.0,92.0,92.0,92.0,92.0,92.0,92.0,92.0,92.0,92.0,92.0,92.0,92.0,92.0,47.5,47.5,47.5,47.5,47.5,36.0,36.0,36.0,36.0,36.0,36.0,36.0,36.0,36.0,36.0,36.0,36.0,36.0,36.0,36.0,36.0,36.0,36.0,36.0,36.0,36.0,36.0,36.0,36.0,36.0,36.0,36.0,36.0,36.0,41.5,41.5,41.5,41.5,41.5,41.5,41.5,41.5,41.5,41.5,41.5,41.5,41.5,41.5,41.5,41.5,41.5,41.5,41.5,41.5,41.5,41.5,41.5,41.5,41.5,41.5,41.5,41.5,41.5,41.5,63.5,63.5,63.5,63.5,63.5,63.5,63.5,63.5,63.5,63.5,63.5,63.5,63.5,63.5,63.5,63.5,63.5,63.5,63.5,63.5,63.5,63.5,63.5,63.5,63.5,63.5,63.5,63.5,63.5,63.0,63.0,63.0,63.0,63.0,63.0,63.0,63.0,63.0,63.0,63.0,63.0,63.0,63.0,63.0,63.0,63.0,63.0,63.0,63.0,63.0,63.0,63.0,63.0,63.0,63.0,63.0,63.0,68.0,68.0,68.0,68.0,68.0,68.0,68.0,68.0,68.0,68.0,68.0,68.0,68.0,68.0,68.0,68.0,68.0,68.0,68.0,68.0,68.0,68.0,68.0,68.0,68.0,68.0,68.0,61.0,61.0,61.0,61.0,61.0,61.0,61.0,61.0,61.0,61.0,61.0,61.0,150.0,150.0,150.0,150.0,150.0,150.0,150.0,150.0,150.0,150.0,150.0,150.0,150.0,150.0,150.0,150.0,150.0,150.0,150.0,150.0,150.0,150.0,150.0,150.0,150.0,150.0,150.0,150.0,150.0,120.0,120.0,120.0,120.0,120.0,120.0,120.0,120.0,120.0,120.0,120.0,120.0,120.0,120.0,120.0,120.0,120.0,120.0,120.0,120.0,120.0,120.0,120.0,120.0,120.0,120.0,120.0,120.0,98.0,98.0,98.0,98.0,98.0,98.0,98.0,98.0,98.0,98.0,98.0,98.0,98.0,98.0,98.0,98.0,98.0,98.0,98.0,98.0,98.0,98.0,98.0,98.0,98.0,98.0,98.0,98.0,98.0,98.0,72.0,72.0,72.0,72.0,72.0,72.0,72.0,72.0,72.0,72.0,72.0,72.0,72.0,72.0,72.0,72.0,72.0,72.0,72.0,72.0,72.0,72.0,72.0,72.0,72.0,72.0,72.0,72.0,72.0,75.5,75.5,75.5,75.5,75.5,75.5,75.5,75.5,75.5,75.5,75.5,75.5,75.5,75.5,75.5,75.5,75.5,75.5,75.5,75.5,75.5,75.5,75.5,75.5,75.5,75.5,75.5,75.5,75.5,75.5,75.5,89.5,89.5,89.5,89.5,89.5,89.5,89.5,89.5,89.5,89.5,89.5,89.5,89.5,89.5,89.5,89.5,89.5,89.5,89.5,89.5,59.0,59.0,59.0,59.0,59.0,59.0,59.0,59.0,59.0,59.0,59.0,59.0,59.0,59.0,59.0,59.0,59.0,59.0,59.0,59.0,59.0,59.0,59.0,59.0,59.0,59.0,59.0,78.5,78.5,78.5,78.5,78.5,78.5,78.5,78.5,78.5,78.5,78.5,78.5,78.5,78.5,78.5,78.5,78.5,78.5,78.5,78.5,78.5,78.5,78.5,78.5,78.5,78.5,38.5,38.5,38.5,38.5,38.5,38.5,38.5,38.5,38.5,38.5,38.5,38.5,38.5,38.5,38.5,38.5,38.5,38.5,38.5,38.5,38.5,38.5,38.5,38.5,38.5,38.5,38.5,38.5,38.5,38.5,60.0,60.0,60.0,56.0,56.0,56.0,56.0,56.0,56.0,56.0,56.0,56.0,56.0,56.0,56.0,56.0,56.0,56.0,56.0,56.0,56.0,56.0,68.0,68.0,68.0,68.0,68.0,68.0,68.0,68.0,68.0,68.0,68.0,51.0,51.0,51.0,51.0,51.0,51.0,51.0,63.5,63.5,40.0,40.0,40.0,40.0,40.0,40.0,40.0,40.0,40.0,40.0,40.0,40.0,40.0,40.0,40.0,40.0,40.0,40.0,40.0,40.0,40.0,40.0,40.0,40.0,40.0,40.0,40.0,40.0,66.0,66.0,66.0,66.0,66.0,66.0,66.0,68.0,68.0,68.0,68.0,68.0,68.0,68.0,68.0,68.0,68.0,68.0,68.0,68.0,68.0,68.0,68.0,68.0,68.0,68.0,68.0,68.0,68.0,68.0,68.0,68.0,68.0,68.0,68.0,68.0,68.0,64.5,64.5,64.5,64.5,64.5,64.5,64.5,64.5,64.5,64.5,64.5,64.5,64.5,64.5,64.5,64.5,64.5,64.5,64.5,64.5,64.5,64.5,64.5,64.5,64.5,64.5,64.5,64.5,76.0,76.0,76.0,76.0,76.0,76.0,76.0,76.0,76.0,76.0,76.0,76.0,76.0,76.0,76.0,76.0,76.0,76.0,76.0,76.0,76.0,76.0,76.0,76.0,76.0,57.0,57.0,57.0,57.0,57.0,57.0,57.0,57.0,57.0,80.5,80.5,80.5,80.5,80.5,80.5,80.5,80.5,80.5,80.5,80.5,80.5,80.5,80.5,80.5,80.5,80.5,80.5,80.5,80.5,80.5,80.5,80.5,80.5,80.5,80.5,80.5,138.5,138.5,138.5,138.5,138.5,138.5,138.5,138.5,138.5,138.5,138.5,138.5,138.5,138.5,138.5,138.5,138.5,138.5,138.5,138.5,138.5,138.5,138.5,138.5,138.5,138.5,138.5,138.5,126.0,126.0,126.0,126.0,126.0,126.0,126.0,126.0,126.0,126.0,126.0,126.0,126.0,126.0,126.0,126.0,126.0,126.0,126.0,126.0,126.0,126.0,126.0,126.0,126.0,99.0,99.0,99.0,99.0,99.0,99.0,99.0,99.0,99.0,99.0,99.0,99.0,99.0,99.0,99.0,99.0,99.0,99.0,99.0,99.0,99.0,99.0,99.0,99.0,99.0,99.0,99.0,99.0,92.5,92.5,92.5,92.5,92.5,92.5,92.5,92.5,92.5,92.5,92.5,92.5,92.5,92.5,92.5,92.5,92.5,92.5,92.5,92.5,92.5,92.5,92.5,92.5,92.5,92.5,92.5,92.5,66.0,66.0,66.0,66.0,66.0,66.0,66.0,66.0,66.0,66.0,66.0,66.0,66.0,66.0,66.0,66.0,66.0,66.0,66.0,66.0,66.0,66.0,66.0,60.5,60.5,60.5,60.5,60.5,60.5,60.5,60.5,60.5,60.5,60.5,60.5,60.5,60.5,60.5,60.5,60.5,60.5,60.5,60.5,60.5,60.5,60.5,60.5,60.5,60.5,47.5,47.5,47.5,47.5,47.5,47.5,47.5,47.5,47.5,47.5,47.5,47.5,47.5,47.5,47.5,47.5,47.5,47.5,47.5,47.5,47.5,47.5,47.5,51.0,51.0,51.0,51.0,51.0,51.0,51.0,51.0,51.0,51.0,51.0,51.0,51.0,51.0,51.0,51.0,51.0,51.0,51.0,51.0,51.0,51.0,51.0,51.0,51.0,51.0,78.0,78.0,78.0,78.0,78.0,78.0,78.0,78.0,78.0,78.0,78.0,78.0,78.0,78.0,78.0,78.0,78.0,78.0,78.0,78.0,78.0,78.0,78.0,78.0,78.0,78.0,78.0,44.0,44.0,44.0,44.0,51.5,51.5,51.5,62.0,62.0,62.0,62.0,62.0,62.0,62.0,62.0,62.0,62.0,62.0,62.0,62.0,62.0,62.0,62.0,62.0,62.0,62.0,62.0,62.0,62.0,62.0,62.0,62.0,62.0,70.0,70.0,70.0,70.0,70.0,70.0,70.0,70.0,70.0,70.0,70.0,70.0,70.0,70.0,70.0,70.0,70.0,70.0,70.0,70.0,70.0,70.0,70.0,70.0,70.0,70.0,70.0,70.0,78.5,78.5,78.5,78.5,78.5,78.5,78.5,78.5,78.5,78.5,78.5,78.5,78.5,78.5,78.5,78.5,78.5,78.5,78.5,78.5,78.5,78.5,78.5,78.5,78.5,78.5,78.5,91.0,91.0,91.0,91.0,91.0,91.0,91.0,91.0,91.0,91.0,91.0,91.0,91.0,91.0,91.0],\"xaxis\":\"x\",\"y\":[\"Vera Institute of Justice\",\"Visiting Nurse Service of New York\",\"Squarespace\",\"Celerity\",\"FanDuel\",\"Point72\",\"Two Sigma\",\"GNY Insurance Companies\",\"DMGT\",\"Riskified\",\"NYU Langone Health\",\"BulbHead\",\"Montefiore Medical\",\"Known\",\"Advisor Group\",\"CodeGreen Solutions\",\"Undertone\",\"NYSTEC\",\"Education Development Center, Inc.\",\"Teachers Pay Teachers\",\"Google\",\"MUSIC & Entertainment\",\"Macquarie Group\",\"Andiamo\",\"Dash Technologies Inc\",\"Hearst Communications\",\"Duolingo\",\"Ro\",\"Endai\",\"BlueLabs\",\"Revel\",\"NALLAS CORPORATION\",\"Pozent\",\"SoFi\",\"Carry1st\",\"Bank of America\",\"Clear Street\",\"Nutech Information Systems\",\"NYU Langone Health\",\"The Trevor Project\",\"Pinto\",\"AB InBev\",\"Whip Media Group\",\"Two95 International Inc.\",\"Vettery\",\"Nesco Resource, LLC\",\"Hearst Communications\",\"MediaMath\",\"Jordan & Jordan\",\"Roku\",\"Walt Disney Co.\",\"Citadel\",\"Xoriant Corporation\",\"Gemini\",\"TSR, Inc.\",\"NADAP NYS INC.\",\"Walt Disney Co.\",\"Fragomen Worldwide\",\"Bloomberg\",\"Real Capital Analytics\",\"Ro\",\"Perficient\",\"Perficient\",\"Perficient\",\"Kforce\",\"Criteo\",\"Royal Communications\",\"Neuberger Berman\",\"Greater New York Mutual Insurance Companies (GNY)\",\"Diverse Lynx\",\"eTeam Inc.\",\"impakt Advisors\",\"Current\",\"Citi\",\"Axelon Services Corporation\",\"United Nations\",\"Discovery Communications, Inc.\",\"Randstad\",\"Mulberry Technology\",\"Two95 International Inc.\",\"SoftStandard Solutions\",\"EDO, Inc.\",\"Guidepoint\",\"Mitchell Martin\",\"Lorven Technologies Inc\",\"Fintech Recruiters\",\"Sphinix Network Solutions Inc.\",\"Praescient Analytics\",\"Global Atlantic Financial Group\",\"FINRA\",\"NYU Langone Medical Center\",\"Jefferies\",\"RGP\",\"Tachyon Technologies\",\"Apex Systems\",\"Hagerty Consulting\",\"Gainful Health\",\"Cortex consultants LLC\",\"Medly Pharmacy\",\"Fair Health\",\"Peloton Interactive\",\"ektello\",\"Premier, Inc.\",\"JPMorgan Chase\",\"Fund for Public Health\",\"BlueVoyant\",\"Crossfire Consulting Corporation\",\"Reliable Software Resources\",\"Hyde Leadership Brooklyn\",\"Vertex Intel Systems\",\"My Job Tank\",\"Cowen\",\"Robert Half\",\"FJA-US Inc.\",\"Averity\",\"Capgemini\",\"Wildlife Conservation Society\",\"Asembia\",\"Vesta Healthcare\",\"1199SEIU Funds\",\"Nutrafol\",\"New York Life Insurance Co\",\"EDP World, Inc.\",\"Phyton Talent Advisors\",\"Staffigo Technical Services, LLC\",\"IBM\",\"Northwell Health\",\"Huxley\",\"Vericred\",\"Scotiabank\",\"Child Mind Institute\",\"Balance Innovations\",\"Asset Staffing\",\"Reliable Software Resources\",\"Hearst Television, Inc\",\"William Hill US\",\"Rockstar Games\",\"ZDAAS\",\"Decision Resources Group\",\"Highbridge Consulting LLC\",\"NTT DATA, Inc.\",\"Columbia University\",\"Precision technologies corp\",\"Cactus Holdings\",\"Cuny Research Foundation\",\"SGA Inc.\",\"Crossfire Consulting Corporation\",\"Amazon\",\"Voice\",\"NTT DATA, Inc.\",\"NYU Langone Health\",\"HOMETEAM\",\"Mount Sinai Health System\",\"Monkey Algorithms LLC\",\"Halcyon Solutions, Inc.\",\"Roman\",\"COUNCIL ON ACCREDITATION\",\"APR Staffing\",\"Mount Sinai Health System\",\"Child Mind Institute\",\"COOLSOFT\",\"451 Research\",\"Stark HR Consulting LLC\",\"Amenity Analytics\",\"Halcyon Solutions, Inc.\",\"Rockstar Games\",\"Vericred\",\"TapRm\",\"APCO Worldwide\",\"Brooklyn Community Services\",\"Softcom Systems\",\"Diverse Lynx\",\"Fair Health\",\"UBS\",\"Cowen Group, Inc.\",\"Workforce Logiq\",\"Cross River Bank\",\"NBCUniversal\",\"Narrativ\",\"CompuForce\",\"Perficient\",\"Lorven Technologies Inc\",\"Bounce Exchange\",\"Green Key Resources\",\"22nd Century Technologies\",\"Praescient Analytics\",\"Capgemini America, Inc.\",\"Software Guidance & Assistance\",\"Citi\",\"Metropolitan Council on Jewish Poverty\",\"TSR Consulting\",\"UBS\",\"Take-Two Interactive Software, Inc.\",\"Praescient Analytics\",\"Teus Health\",\"Morgan Stanley\",\"ICAP at Columbia University\",\"Columbia University Medical Center\",\"Xoriant Corporation\",\"The Denzel Group\",\"Montefiore Medical\",\"Cedent Consulting\",\"ACS\",\"NADAP\",\"SGA Inc.\",\"Newspaper Administration\",\"VISTRADA\",\"Disney Streaming Services\",\"Royal Communications Consultants Inc\",\"CASES\",\"Sphinix Network Solutions Inc.\",\"Staffigo Technical Services, LLC\",\"Earnest Research\",\"Bloomberg\",\"APN Software Services Inc.\",\"Acacia Network\",\"Miller Cang Agency\",\"EDP World, Inc.\",\"Citi\",\"Walt Disney Co.\",\"NTT DATA\",\"TSR, Inc.\",\"Attentive\",\"Fidelis Group\",\"Eclaro\",\"Phyton Talent Advisors\",\"Source of Future Technology Inc\",\"Wayne Technologies - CHURN\",\"Brink's\",\"Seven Seven Softwares\",\"Mobilityware\",\"TechProjects\",\"Mitchell Martin\",\"RMS Computer Corporation\",\"ProHEALTH Care\",\"2U\",\"SIAL TECHNOLOGY PARTNERS\",\"Mount Sinai Medical Center\",\"Professional Resource Group\",\"JPMorgan Chase\",\"Capgemini\",\"IPRO\",\"CASES\",\"Brown Brothers Harriman\",\"NYC Health + Hospitals\",\"Mount Sinai Medical Center\",\"Horizon Blue Cross Blue Shield of New Jersey\",\"APR Staffing\",\"Columbia University\",\"Walt Disney Company\",\"Diverse Lynx\",\"Capgemini\",\"Roar Digital\",\"Darmor Partners\",\"Perficient\",\"Talent Bundle LLC\",\"The Bank of New York Mellon\",\"Nesco Resource, LLC\",\"Museum of Ice Cream\",\"Kinship\",\"APN Consulting\",\"Siri InfoSolutions\",\"Integrated Resources\",\"Icahn School of Medicine at Mount Sinai\",\"Avani Technology Solutions\",\"Lorven Technologies Inc\",\"Altech Star Inc.\",\"Wintellisys\",\"Diverse Lynx\",\"V R Della Infotech Inc\",\"New York Times\",\"Blue Rock Consulting\",\"TSR Consulting Services, Inc.\",\"LanceSoft Inc\",\"Diverse Lynx\",\"SMBC\",\"Delaware Investments Colorado Municipal Income Fund, Inc\",\"Northwell Health\",\"TechProjects\",\"Vestracare\",\"Informa Intelligence\",\"Integra Managed Care\",\"RMS Computer\",\"Healthfirst\",\"Jay Hill Repairs\",\"SAT Healthcare\",\"American CyberSystems\",\"The Bank of New York Mellon\",\"M&T Bank Corporation\",\"SoluStaff\",\"Oracle\",\"Equation Staffing\",\"CMI/Compas\",\"AbleTo\",\"Reliable Software Resources\",\"Eagle Investment Systems\",\"Kforce\",\"Hikma Pharmaceuticals\",\"SMBC Group\",\"Mount Sinai Medical Center\",\"Citi\",\"Top Prospect Group, Inc.\",\"JPMorgan Chase\",\"Mitchell Martin\",\"VNA Health Group\",\"Rockstar Games\",\"RMS Computer\",\"Hexacorp\",\"TechProjects\",\"Informa\",\"Columbia University Medical Center\",\"Momentum Solar\",\"VIVA USA INC\",\"ProHEALTH Medical Management\",\"Reliable Software Resources\",\"Maisonette Careers\",\"Donnelly & Moore Corporation\",\"J.P. Morgan\",\"Saratoga Medical Center\",\"YAI/NIPD Network\",\"Mount Sinai Medical Center\",\"Diverse Lynx\",\"Quad Consultancy\",\"Competent Systems, Inc\",\"1199SEIU Funds\",\"Peloton Interactive\",\"Genpact\",\"LACOSTE CORPORATE\",\"Disney Streaming Services\",\"J.P. Morgan\",\"The Enosys Group LLC\",\"EmblemHealth\",\"Reliable Software Resources\",\"Reliable Software Resources\",\"Jackson Hewitt\",\"Reliable Software Resources\",\"National Kidney Foundation\",\"CheckedUp\",\"Horizon Blue Cross Blue Shield of New Jersey\",\"IPRO\",\"Criteo\",\"EmblemHealth\",\"ERGO\",\"ACT Consulting\",\"Tekfortune Inc.\",\"Intercontinental Exchange, Inc.\",\"Staffigo Technical Services, LLC\",\"8K Miles Software Services, Inc.\",\"Two95 International Inc.\",\"VTS\",\"Sky I.T. Group (Sky Business Intelligence Team)\",\"Robert Half\",\"Village Care\",\"Quest Diagnostics\",\"Softinc\",\"KnowledgePro, LLC\",\"Creative Data Resources\",\"EVERSANA\",\"National Grid USA\",\"Barnabas Health\",\"Aegis Media\",\"RMS Computer Corporation\",\"J.P. Morgan\",\"RAMPS International Inc\",\"Episcopal Health Services Inc.\",\"NYU Langone Health\",\"Professional Resource Group\",\"Altice USA\",\"Sumitomo Mitsui Banking Corporation (SMBC)\",\"Geller & Company\",\"Reliable Software Resources\",\"Intercontinental Exchange, Inc.\",\"The Bank of New York Mellon\",\"Plymouth Rock Assurance\",\"Mount Sinai Health System\",\"SAT Healthcare\",\"Atrium Staffing\",\"eTeam Inc.\",\"Oracle\",\"Metroplus Health Plan\",\"Avani Technology Solutions\",\"Primesoft\",\"Riskified\",\"IPro.org\",\"Cecelia Health\",\"Creative Data Resources\",\"Systemart LLC\",\"The Bank of New York Mellon\",\"TechProjects\",\"IPRO\",\"ITech Recruiting\",\"RN Staff\",\"Abacus Service Corporation\",\"CyberCoders\",\"TECHNOCRAFT Solutions\",\"Praescient Analytics\",\"C&G Consulting Services\",\"RWJBarnabas Health\",\"Reliable Software Resources\",\"MVP Consulting Plus Inc\",\"Capgemini\",\"Centers Plan for Healthy Living\",\"RN Staff\",\"Village Care\",\"Clear Technology Consulting\",\"Lorven Technologies Inc\",\"BNY Mellon\",\"Norgate Technology Inc\",\"NYU Family Health Centers\",\"Staffigo Technical Services, LLC\",\"The Bank of New York Mellon\",\"HomeBridge Financial Services\",\"Sharp Electronics Corporation\",\"JR Cigar/MC Management\",\"Avacend, Inc.\",\"Praescient Analytics\",\"Avani Technology Solutions\",\"Care Design New York\",\"ACT Consulting\",\"TekniSMart Solutions\",\"EVERSANA\",\"HOUSING AUTHORITY OF THE COUNTY OF SALT LAKE\",\"CAO Group, INC\",\"University of Utah\",\"Paladin Consulting Inc\",\"SunTechPros, Inc.\",\"SGI Global, LLC\",\"HCL Global Systems\",\"Abnormal Security\",\"Vimerse\",\"Akraya Inc.\",\"Goldman Sachs\",\"Idexcel Inc.\",\"SPECTRAFORCE TECHNOLOGIES Inc.\",\"Easton Technical Products\",\"CIVICA INC\",\"ENERBANK USA\",\"VED Software Services, Inc.\",\"Ascential\",\"Artius Solutions\",\"Vimerse\",\"F5 Networks\",\"Janus International Group, LLC\",\"ClientSolv Technologies\",\"DrangKro Aerospace\",\"POPi/o Mobile Video Cloud\",\"Resiliency LLC\",\"Vivint Solar\",\"YORKTOWN SYSTEMS GROUP INC\",\"Shape Security\",\"Connor Group\",\"Vivint Solar\",\"VED Software Services, Inc.\",\"Abacus Service Corporation\",\"Robert Half\",\"TCOE\",\"Public Health Foundation Enterprises, In\",\"USfalcon\",\"Hampton University\",\"Collins Consulting Inc\",\"Patient Advocate Foundation\",\"Staffigo Technical Services, LLC\",\"Orbis, Inc.\",\"NewGen Technologies\",\"Bluemont Technology & Research, Inc.\",\"ForKids, inc\",\"Staffigo Technical Services, LLC\",\"Orbis, Inc.\",\"Dunhill Professional Search\",\"Smithfield\",\"Booz Allen Hamilton\",\"EVMS\",\"Epsilon Systems Solutions, Inc.\",\"Oasis Systems\",\"Counter Threat Solutions\",\"Staffigo Technical Services, LLC\",\"ITA International\",\"Oasis Systems\",\"Orbis, Inc.\",\"Ferguson Experienced\",\"Liberty Source\",\"Oasis Systems, LLC\",\"National Capitol Contracting (NCC)\",\"Occam Solutions Inc\",\"Analytical Mechanics Associates\",\"GStek, Inc.\",\"Orbis, Inc.\",\"Oasis Systems\",\"CBRE\",\"Analytical Mechanics Associates\",\"Bluemont Technology & Research, Inc.\",\"Counter Threat Solutions\",\"National Capitol Contracting (NCC)\",\"Guidehouse\",\"AXSEUM Inc\",\"Tamayo Federal Solutions, LLC\",\"Guidehouse\",\"Epsilon Systems Solutions, Inc.\",\"CACI International\",\"Tamayo Federal Solutions, LLC\",\"PROSOFT\",\"FacilitySource\",\"Tamayo Federal Solutions, LLC\",\"Universal Consulting Services\",\"Universal Consulting Services, Inc.\",\"Staffigo Technical Services, LLC\",\"Staffigo Technical Services, LLC\",\"University of Florida\",\"AvMed Health Plans\",\"Shands Jacksonville\",\"Staffigo Technical Services, LLC\",\"Staffigo Technical Services, LLC\",\"Shands Jacksonville\",\"Stamps.com\",\"Headspace\",\"Neustar\",\"Wellth Inc.\",\"People Tree\",\"Staffigo Technical Services, LLC\",\"Ruggable\",\"First Professional Services\",\"Steady\",\"ConsultNet, LLC\",\"Signal Sciences\",\"Acumen\",\"HireTalent\",\"Dave\",\"Expertise LLC\",\"Lorven Technologies Inc\",\"Eleven Recruiting - CHURN\",\"ICONMA\",\"HITRECORD\",\"Dot818\",\"DatamanUSA\",\"Cedars-Sinai\",\"Eleven Recruiting - CHURN\",\"Robert Half\",\"Radiology Partners\",\"PeerStreet\",\"PlayQ\",\"Lucky Day\",\"Didi Hirsch Mental Health Services\",\"Center For Policing Equity\",\"Human Good\",\"Swinerton Builders\",\"Relevante, Inc.\",\"iSpace, Inc\",\"Kharon\",\"Cedars-Sinai\",\"System1\",\"Western Asset\",\"Tilde Staff Inc.\",\"Hulu\",\"Login Consulting Services\",\"University of Southern California\",\"Delmarva Foundation\",\"LiveGlam\",\"Warner Bros. Entertainment\",\"NextDeavor Services\",\"Cenergy\",\"Electronic Arts\",\"Cedars-Sinai\",\"Capital Group\",\"Turner Broadcasting\",\"AIDS Healthcare Foundation\",\"Lucky Day\",\"LACERA\",\"Arize Corporation\",\"SAG-AFTRA Health Plan and SAG-Producers Pension Plan\",\"Computershare\",\"Staffigo Technical Services, LLC\",\"Cenergy International\",\"Scale Media\",\"Acumen\",\"Cedars-Sinai\",\"Selby Jennings Buyside\",\"Mobilityware\",\"Acorns\",\"LEAPROS\",\"Kforce Technology Staffing\",\"L.A. Care Health Plan\",\"Superior Court of California County of Los Angeles\",\"Tillster\",\"Tripalink\",\"TutorMe\",\"Century Group (CA)\",\"Netflix, Inc.\",\"UC Davis Medical Center\",\"Tarzana\",\"STAND 8 Technology Services\",\"Internet Brands\",\"Robert Half\",\"Fox Corporation\",\"Connect International\",\"PUBG Santa Monica\",\"UCLA Health\",\"Robert Half\",\"Activision Blizzard\",\"The Loot Company\",\"System1\",\"Staffigo Technical Services, LLC\",\"Elever Professional\",\"Kaiser Permanente\",\"ZS Associates\",\"Tecolote Research\",\"City National Bank\",\"Cypress HCM\",\"Infonex Technologies, Inc.\",\"Oakwood Search - CHURN\",\"City National Bank\",\"Bloom Ads Global Media Group\",\"Internet Brands, Inc.\",\"ESP Legal\",\"Kforce\",\"Apollo Medical Holdings, Inc.\",\"Turner Broadcasting\",\"Molina Healthcare\",\"Beautycounter\",\"Genuent\",\"IBM\",\"The Wonderful Company LLC\",\"Akraya Inc.\",\"Catasys Health\",\"TikTok\",\"MotorTrend Group\",\"Mercury Insurance Group\",\"Molina Healthcare\",\"Endpoint Closing\",\"Tripalink\",\"Ottimo Resources\",\"Ajilon\",\"WB Technology\",\"Prosum\",\"INSPIRE IT Solutions\",\"Saicon Consultants Inc\",\"Recruiting Resources, Inc.\",\"Prime MSO, LLC.\",\"KORE1 Technologies\",\"Axelon Services Corporation\",\"City National Corporation\",\"Pddn\",\"Northrop Grumman\",\"ConsultNet, LLC\",\"Aviana Global Technologies, Inc\",\"Jam City\",\"Apple\",\"EMINENT, INC.\",\"WB Technology\",\"Dollar Shave Club\",\"Leo Tech, LLC\",\"TikTok\",\"Recargo, Inc., makers of PlugShare\",\"Easyfind Company\",\"City National Bank\",\"U.S. Auto Parts Network, Inc.\",\"MyLife.com\",\"Center for Family Health and Education\",\"Molina Healthcare\",\"DISQO\",\"Dot 818\",\"BBCN Bank\",\"Launch Infotech\",\"Tech Air\",\"Network Medical Management Inc\",\"Midcom\",\"Odesus\",\"Login Consulting Services\",\"Unilever\",\"Blue Shield of California\",\"Clear Technology Consulting\",\"Airgas\",\"Apollo Global Management\",\"Revolve\",\"Georgia IT Inc.\",\"Recargo, Inc., makers of PlugShare\",\"Bank Of Hope\",\"KIPP SoCal Public Schools\",\"Genuent\",\"Apollo Global Management\",\"SAG-AFTRA Health Plan and SAG-Producers Pension Plan\",\"SCAN Health Plan\",\"PlayQ\",\"Molina Healthcare\",\"NetSource, Inc.\",\"Quinn Group, Inc.\",\"zz-Tarzana Treatment Centers, Inc.\",\"Recruiting Resources, Inc.\",\"Pacific Clinics\",\"Quinn Group\",\"DT Professional Services\",\"NRC INC\",\"LaBine & Associates\",\"Quinn Company CAT\",\"NTT DATA, Inc.\",\"WB Technology\",\"SCAN Health Plan\",\"AppleOne\",\"Login Consulting Services\",\"Shapestone Inc.\",\"Lorven Technologies Inc\",\"Blue Shield of California\",\"SCAN Healthplan\",\"Information Technology Partners\",\"Warner Bros. Entertainment\",\"Providence Health & Services\",\"Molina Healthcare\",\"Molina Healthcare\",\"To Help Everyone Health & Wellness Centers\",\"Turner Broadcasting\",\"AppleOne\",\"USDM Life Sciences\",\"SkillsetGroup - Professional Staffing Solutions\",\"PIH Health\",\"KLM Careers\",\"TikTok\",\"Mercury Insurance Group\",\"TopTalentFetch\",\"Stark HR Consulting LLC\",\"AlphaProTemps, A.P.R., Inc.\",\"Devotion Business Solutions\",\"Wintrust Financial\",\"NCSA - Next College Student Athlete\",\"Riskonnect\",\"Centric Consulting\",\"GoHealth\",\"Kelly\",\"Kelly\",\"Undertone\",\"Mike's Hard Lemonade\",\"Allscripts\",\"Circle Logistics\",\"University of Chicago\",\"Mondo\",\"KesarWeb\",\"Swoon\",\"Swoon\",\"Bosch Group\",\"Tempus\",\"Feeding America\",\"CRS Group\",\"Peterson Technology Partners\",\"BMO\",\"AppleOne\",\"Robert Bosch Tool Corporation\",\"Chicago Public Schools\",\"Chicago\",\"Guggenheim Partners\",\"Milliman\",\"BMO Financial Group\",\"BMO\",\"UST Global\",\"First Stop Health\",\"MeadWestVaco\",\"Care Advisors Inc\",\"Ann & Robert H. Lurie Children's Hospital of Chicago\",\"TEKsystems, Inc\",\"MT Global US INC\",\"HNI\",\"SkySource Solutions\",\"Staffigo Technical Services, LLC\",\"Flexport\",\"Randstad\",\"Lantana Consulting Group\",\"PDI\",\"Level Ex, Inc.\",\"Chicago Teachers Pension Fund\",\"Show Me Leads\",\"Leap\",\"Diverse Lynx\",\"Staffigo Technical Services, LLC\",\"CRS Group\",\"Chicago Public Schools\",\"Tempus Labs\",\"TalentDash\",\"VIVA USA INC\",\"360pi\",\"TEKsystems, Inc\",\"Leap\",\"Braviant Holdings\",\"Bartech Group\",\"Lorven Technologies Inc\",\"Rush University Medical Center\",\"TechUSA\",\"Alliant Credit Union\",\"Green Key Resources\",\"University of Chicago\",\"Accounting Aid Society\",\"Roig Lawyers\",\"PrivateBancorp, Inc.\",\"PDI Software\",\"TalentDash\",\"Invenergy\",\"EY\",\"WIN Home Inspection\",\"Ferrara Candy Company\",\"The Accuro Group\",\"BDP International\",\"Numerator\",\"Mondo\",\"Empire Today\",\"El Hogar del Nino - The Home of the Child\",\"Fast Switch, LTD\",\"Sphinix Solutions\",\"BMO Financial Group\",\"Epiq Systems\",\"MRINetwork\",\"PEAK6 Investments\",\"ABS Graphics\",\"Willis Towers Watson\",\"Kforce\",\"The Chicago Lighthouse\",\"Genesys Talent\",\"1872 Consulting\",\"Stampede Meat, Inc.\",\"ALERE\",\"Kelly Mitchell Group\",\"Ernst & Young LLP\",\"TreeHouse Foods, Inc.\",\"NJF Global Holdings\",\"Chicago Public Schools\",\"Sphinix Solutions\",\"Net2Source\",\"Ongig\",\"HIMSS\",\"Flagstone Foods\",\"University of Illinois at Chicago\",\"Northern Trust\",\"Foresight ROI\",\"LEARN Charter School\",\"TalentDash\",\"BankFinancial Corporation\",\"Avani Technology Solutions\",\"Chicago Public Schools\",\"Staffigo Technical Services, LLC\",\"Trilogy Behavioral Health\",\"Capital Management\",\"Stark HR Consulting LLC\",\"Nuveen\",\"Maine Pointe\",\"Synchronous Solutions, Inc\",\"HR Pundits\",\"University of Illinois Medical Center\",\"Softpath System LLC\",\"Trinity Health\",\"Motorola Solutions\",\"Medline Industries\",\"Capgemini\",\"Tempus Labs\",\"Signode\",\"Cedent Consulting\",\"UI Health\",\"Robert Half\",\"Jobot\",\"Square One Resources\",\"Esquire Recruiting\",\"Source Alliance Network LLC\",\"Walgreens\",\"Tempus\",\"Steiner Electric Co\",\"Hotel Compete\",\"Xeris Pharmaceuticals, Inc.\",\"Sahara Management Inc.\",\"IlliniCare Health Plan\",\"Medical Home Network\",\"TechUSA\",\"Metropolitan Family Services\",\"Flexport\",\"Kbyte Systems LLC.\",\"TechUSA\",\"Kbyte Systems LLC.\",\"University of Illinois Hospital & Health Sciences System\",\"Centene Corporation\",\"University of Illinois at Chicago\",\"RiverPoint\",\"Kbyte Systems LLC.\",\"TalentDash\",\"Retail Business Services, LLC\",\"22nd Century Technologies\",\"RiverPoint\",\"Lorven Technologies Inc\",\"Walgreens\",\"Carnegie Soft\",\"PNC Financial Services Group\",\"Lorven Technologies Inc\",\"N.F. Smith & Associates\",\"Virtus Partners LLC\",\"Smith and Associates\",\"Andiamo\",\"Crown Castle USA Inc\",\"Luminess Cosmetics\",\"Mondo\",\"cPanel\",\"Harris County\",\"Entera\",\"Genesys Talent\",\"Horne LLP\",\"The Bank of New York Mellon\",\"McLane Global\",\"H-GAC\",\"Kelsey-Seybold Medical Group\",\"Pareto Systems\",\"Arthur Lawrence\",\"Houston Exponential\",\"Houston-Galveston Area Council\",\"Rosen\",\"Imperastaff, LLC\",\"Randstad US\",\"Competentia Holding\",\"FIS\",\"Mondo\",\"Avetta, LLC\",\"Lorven Technologies Inc\",\"InvenTech Info\",\"Centraprise\",\"Staffigo Technical Services, LLC\",\"National Computing Group\",\"HealthHelp\",\"InvenTech Info\",\"Encore Consulting Services\",\"GeoDigital\",\"ForeFlight\",\"Capgemini\",\"ICF\",\"Andiamo\",\"G.A.S. Global\",\"Purity Technology LLC\",\"Corporate\",\"Robert Half\",\"Arthur Lawrence\",\"EAG Services\",\"Sun and Ski Sports\",\"Harris County\",\"Simplex info systems Inc,\",\"Army Houston Recruiting Battalion\",\"Wellcare\",\"Yochana\",\"SM LOgics Inc\",\"TechUSA\",\"Centene Corporation\",\"Virtus Partners LLC\",\"Kelsey Seybold Clinic\",\"Harris Health System\",\"Delphi-US\",\"Sharpedge Solutions Inc\",\"Smith Hanley Associates\",\"AllRedi\",\"National Computing Group\",\"Crown Castle USA Inc\",\"Infomerica, Inc\",\"Servient\",\"Kelsey Seybold Clinic\",\"Premier Medical Resources\",\"Icon Consultants\",\"UTHealth Houston\",\"The Bank of New York Mellon\",\"Kelsey Seybold Clinic\",\"Radiology Partners\",\"The Jupiter Group\",\"Kelsey-Seybold Medical Group\",\"Crawford Thomas Recruiting\",\"Jobot\",\"Talbridge Corporation\",\"eTeam Inc.\",\"LanceSoft Inc\",\"Central Business Solutions, Inc\",\"Professional Enrollment Concepts\",\"Texas Dow Employees Credit Union\",\"InvenTech Info\",\"Harris County Appraisal District\",\"MUFG\",\"Integrate\",\"Desert Financial Credit Union\",\"Corbins Electric\",\"The Judge Group, Inc.\",\"Discount Tire\",\"Desert Financial Credit Union\",\"Robert Half\",\"TekCom Resources, Inc.\",\"Viasat\",\"National Education Partners\",\"Parker & Lynch\",\"The Accuro Group\",\"Modis\",\"Gatestone & Co. Inc\",\"Diverse Lynx\",\"FAMILY INVOLVEMENT CENTER\",\"Career Evolutions\",\"ON Semiconductor\",\"Charles Schwab\",\"Softcom Systems\",\"Door Sales & Installations\",\"National Education Partners\",\"MUFG\",\"MUFG\",\"Alaska USA\",\"The Paragon Group\",\"Amazon\",\"AlaskaUSA Mortgage Company\",\"MLWIZ Team\",\"Net Orbit Inc\",\"Arizona State University\",\"PK\",\"Mondo\",\"IntraEdge\",\"Circle K Stores, Inc.\",\"Shamrock Foods\",\"Tech Finders\",\"Infotree Service Inc\",\"O'Reilly Automotive\",\"Sanford Federal\",\"Uhaul\",\"MUFG\",\"Matrix Medical Network\",\"Avacend, Inc.\",\"Kaygen Inc.\",\"Nucleusteq\",\"Isaac Elementary School District #5\",\"Strategic Systems\",\"Edupoint\",\"Vanguard\",\"Efinancial\",\"Envision Healthcare\",\"Bartech Group\",\"Envision Physician Services\",\"Saviance Technologies\",\"Atos Syntel Inc.\",\"The Accuro Group\",\"TekCom Resources, Inc.\",\"Diverse Lynx\",\"Na Ali'i\",\"Capgemini America, Inc.\",\"Mastech Digital\",\"Minit Charger\",\"Discount Tire Corporate Careers\",\"Infotree Service Inc\",\"Wilco Source\",\"Green Lion Search Group\",\"Pegasus Knowledge Solutions\",\"AllianceRx Walgreens Prime\",\"Circle K Stores, Inc.\",\"Signature Consultants\",\"Pure Flix Digital\",\"MUFG\",\"Softcom Systems\",\"The Judge Group, Inc.\",\"First American Financial Corporation\",\"ICST, LLC\",\"Equity Methods\",\"Desert Choice Transport\",\"Stantec\",\"CSAA Insurance Group\",\"Crisis Response Network\",\"Georgia IT Inc.\",\"Kforce\",\"Kineticom\",\"InterSources Inc.\",\"GTN Technical Staffing\",\"AOC Solutions, Inc.\",\"Circle K Stores, Inc.\",\"LiveMindz\",\"Blue Cross Blue Shield of Arizona\",\"Avani Technology Solutions\",\"MUFG\",\"AUDACIOUS STUDIOS LLC\",\"TransPerfect\",\"CVS Health\",\"Greenphire\",\"ECRI\",\"United BioSource\",\"Revantage Corporate Services\",\"Community Behavioral Health\",\"STRATIS IoT Inc\",\"Ampcus Incorporated\",\"Mondo\",\"2000 east westmoreland st llc\",\"Mondo\",\"Seer Interactive\",\"Staffigo Technical Services, LLC\",\"Ernst & Young LLP\",\"Tetra Tech, Inc.\",\"Keen360, Inc.\",\"The Judge Group, Inc.\",\"Apex Systems\",\"Micro-Data Systems, Inc.\",\"Techligent\",\"Gopuff\",\"Collabera\",\"Mondo\",\"University of Pennsylvania\",\"VSE, Inc.\",\"Eastern Metal Recycling\",\"EY\",\"Red Tettemer\",\"Robert Half\",\"IntegriChain\",\"PMHCC Inc.\",\"University of Pennsylvania\",\"AmeriHealth Caritas\",\"Temple University Health System\",\"Wittij Consulting\",\"JPMorgan Chase & Co.\",\"Staffigo Technical Services, LLC\",\"Avantor\",\"Amerihealth Caritas Health Plan\",\"Tandigm Health LLC\",\"University of Pennsylvania\",\"Amplify Systems\",\"DL Staffing Solutions\",\"Change Healthcare\",\"Bryn Mawr Communications LLC\",\"Mondo\",\"Dextro Software Systems\",\"Vanguard\",\"TechUSA\",\"Mondo\",\"ConnectiveRx\",\"Piper Companies\",\"Innovative Development, LLC\",\"Philabundance\",\"Collabera\",\"Kforce Technology Staffing\",\"FredBeans\",\"Genuent Global, LLC\",\"University of Pennsylvania\",\"Fred Beans Parts, Inc\",\"CHOP\",\"University of Pennsylvania\",\"Login Consulting Services, Inc\",\"ORS Partners\",\"Fred Beans\",\"Zachary Piper Solutions, LLC\",\"Infinity Consulting Solutions\",\"PMHCC, Inc.\",\"Angeion Group\",\"iTech Solutions, Inc\",\"AccessLex Institute\",\"Vanguard\",\"TD Bank\",\"Boeing\",\"TeamSoft\",\"Freedom Mortgage\",\"Computer Enterprises, Inc.\",\"Weston Solutions Inc.\",\"McGrath Systems\",\"DL Staffing Solutions\",\"Numeric, LLC\",\"TechUSA\",\"Piper Companies\",\"Kforce\",\"LiveMindz\",\"Zachary Piper Solutions, LLC\",\"A2C Consulting\",\"Community Behavioral Health\",\"APN Software Services Inc.\",\"Contemporary Staffing Solutions\",\"The Judge Group\",\"Versant Health\",\"Micro-Data Systems Inc.\",\"Avantor\",\"Tetra Tech\",\"Freedom Mortgage\",\"Eastern Airlines LLC\",\"NextGen Global Resources LLC\",\"Vanguard\",\"The Judge Group\",\"amerihealth\",\"GSK\",\"A2C Consulting\",\"ConcertAI\",\"Pharmica Consulting\",\"Eurofins\",\"Eurofins\",\"Freedom Mortgage\",\"Cambridge Advisory Group\",\"Amerihealth Caritas Health Plan\",\"Cooper University Health Care\",\"Diverse Lynx\",\"amerihealth\",\"Philadelphia 76ers - HBSE\",\"Forfeiture Support Associates\",\"Management Decisions, Inc.\",\"TechUSA\",\"SRG Woolf\",\"Login Consulting Services, Inc\",\"Adaptimmune Ltd\",\"Trillium Solutions Group\",\"Eurofins USA PSS Insourcing Solutions\",\"The Judge Group\",\"EUROFINS SCIENT.\",\"Staffigo Technical Services, LLC\",\"TE Connectivity\",\"Freedom Mortgage\",\"AmeriHealth Caritas\",\"Management Decisions, Inc.\",\"Piper Companies\",\"Future Technologies Inc.\",\"BNY Mellon\",\"Zachary Piper Solutions, LLC\",\"Fox Chase Cancer Center\",\"Kforce\",\"Kforce Technology Staffing\",\"Technocrafts, Inc.\",\"Ionidea\",\"CYNET SYSTEMS\",\"Integrated Resources\",\"Deacon Recruiting\",\"Indotronix International Corporation\",\"Diverse Lynx\",\"Huntington Ingalls Industries\",\"Principle Auto\",\"C2 GPS- Alamo Workforce\",\"Vantage Bank Texas\",\"H E B\",\"Vinsari\",\"CICONIX, LLC\",\"Amyx, Iinc.\",\"NJVC\",\"Randstad\",\"Staffigo Technical Services, LLC\",\"Deacon Recruiting\",\"Amyx, Inc.\",\"Scaleworks\",\"HCL Technologies Ltd.\",\"CDO Technologies Inc\",\"Cherokee Federal\",\"Kforce\",\"PETCO\",\"eTeam Inc.\",\"LMI\",\"CAMRIS International\",\"General Dynamics Information Technology\",\"Convene Technologies\",\"Cyber Warrior Network\",\"nana\",\"Akima Management Services\",\"Diverse Lynx\",\"Amyx, Iinc.\",\"Chenega Healthcare Services\",\"Kforce\",\"Cherokee Nation Businesses, LLC\",\"Spectrum Comm\",\"Amyx, Inc.\",\"Cherokee Federal\",\"Peyton Resource Group\",\"Softcom Systems\",\"CDO Technologies Inc\",\"Cherokee Federal\",\"Strategic Staffing Solutions\",\"Strategic Staffing Solutions\",\"CACI International\",\"Midland Credit Management\",\"UC San Diego\",\"HealthStream\",\"Conflux Systems Inc.\",\"22nd Century Technologies\",\"University of California\",\"University of California - San Diego Medical Centers\",\"BD (Becton, Dickinson and Company)\",\"Client Solution Architects\",\"Cue\",\"Staffigo Technical Services, LLC\",\"Encore Capital Group\",\"HealthStream\",\"ProMedia\",\"Axos Bank\",\"Sayva Solutions\",\"The Rock Church\",\"Stem\",\"Tandem Diabetes\",\"Illumina\",\"Forfeiture Support Associates\",\"General Dynamics\",\"Staffigo Technical Services, LLC\",\"Potomac Management\",\"Operation Samahan Health Clinic\",\"Dexcom, Inc.\",\"BD\",\"Vertex Pharmaceuticals\",\"Kelly\",\"Kaiser Permanente\",\"Illumina\",\"UC San Diego\",\"Web Shop Manager\",\"Housecall Pro\",\"Intuit\",\"The RiverStone Group\",\"University of California - San Diego Medical Centers\",\"Interpreta\",\"Intuit\",\"Centene Corporation\",\"Verity, A HealthStream Company\",\"Web Shop Manager\",\"Potomac Management\",\"UC San Diego\",\"Staffigo Technical Services, LLC\",\"Amentum\",\"Russell Tobin & Associates\",\"Perspecta\",\"UC San Diego\",\"MedImpact\",\"Gossamer Bio\",\"Sycuan Casino\",\"California State University\",\"Sunrise Systems, Inc.\",\"University of California - San Diego Medical Centers\",\"World Wide Technology\",\"The Carrera Agency\",\"General Dynamics Information Technology\",\"UC San Diego\",\"Kelly IT\",\"Vervent\",\"Perspecta\",\"SBG Techology Solutions\",\"Insight Enterprises, Inc.\",\"Insight Enterprises, Inc.\",\"Harris Computer\",\"Lidl\",\"Delmarva Foundation\",\"Pieces Technology, Inc.\",\"Addison Group\",\"Mondo\",\"Goldman Sachs\",\"PeopleFun\",\"The Richards Group\",\"Federal Reserve Bank\",\"TekniSMart Solutions\",\"InfoVision, Inc.\",\"Dallas County\",\"Goldman Sachs\",\"Atos\",\"Yeti Technologies\",\"Lidl\",\"Nokia\",\"The Judge Group, Inc.\",\"Precision\",\"ZeniMax Media, Inc.\",\"Match Group\",\"Hilltop Holdings\",\"Texas Scottish Rite Hospital for Children\",\"Staffigo Technical Services, LLC\",\"Human Coalition\",\"Capgemini\",\"Diversant LLC\",\"Dallas ISD\",\"StaffingSoft Inc.\",\"Signify Health\",\"Kforce\",\"Financial Additions\",\"Dallas Independent School District\",\"First American Financial Corporation\",\"Signify Health\",\"Federal Reserve Bank (FRB)\",\"1\",\"VITALWARE LLC\",\"Atos Healthcare\",\"Kubota Tractor\",\"Trinity Industries\",\"Randstad US\",\"L&T Infotech\",\"Federal Reserve Bank of Richmond\",\"Sphinix Solutions\",\"A-Line Staffing Solutions\",\"Atmos Energy Corp.\",\"Citi\",\"Staffigo Technical Services, LLC\",\"North Central Texas Council of Governments\",\"Corporate G. LLC\",\"Goldman Sachs\",\"McAfee\",\"Conch Technologies, Inc\",\"Apex Systems\",\"RealPage\",\"Mary Kay\",\"Mobilityware\",\"AustinCSI\",\"Apptricity Corporation\",\"Mitchell Martin\",\"National NeuroMonitoring\",\"PriceSenz\",\"MOA\",\"NTT DATA\",\"Ho Chunk\",\"Precision technologies corp\",\"Citi\",\"Optum Consumer Solutions Group\",\"Mosaic Sales Solutions\",\"One Call Claims, LLC\",\"Prudent Technologies & Consulting\",\"Daylight Solutions\",\"LeadsOnline LLC\",\"Excite Health Partners\",\"PROLIM Global Corporation\",\"ADT\",\"Pinnacle Technical Resources, Inc.\",\"Insight UK\",\"eDataForce consulting LLC\",\"Real Soft, Inc / Diversity Direct\",\"Trinity Industries\",\"ServiceLink, a Black Knight Company\",\"Lightbeam Health Solutions\",\"Telnet (Rockville, MD)\",\"Tarrant County\",\"Diversant LLC\",\"Vastika\",\"Financial Services Company\",\"University of Texas at Arlington\",\"APN Software Services Inc.\",\"Fairway Independent Mortgage Corporation\",\"Signify Health\",\"HCL America Inc.\",\"Colfax Corporation\",\"Bloomfield Homes\",\"ServiceLink\",\"Onyx CenterSource\",\"Corporate G. LLC\",\"Fleishman-Hillard Inc\",\"Kforce Technology Staffing\",\"JPMorgan Chase\",\"eTeam Inc.\",\"BurnsSearch, LLC\",\"Mindteck\",\"Georgia IT Inc.\",\"Analytical Mechanics Associates\",\"CarOffer\",\"Harris Local Government Solutions Inc\",\"LifePath Systems\",\"Lorven Technologies Inc\",\"Home Point Financial\",\"Horn Solutions Inc.\",\"DJO Global\",\"Kforce\",\"silverXis inc\",\"Kforce\",\"Community Hospital Corporation\",\"Citi\",\"Two95 International Inc.\",\"CTG\",\"University of Texas at Arlington\",\"Radiant Digital\",\"Vastika\",\"PeopleNTech LLC\",\"eTeam Inc.\",\"Ava Consulting\",\"Molex\",\"Net2Source\",\"ClientSolv Technologies\",\"Ho Chunk\",\"Lorven Technologies Inc\",\"Mosaic Sales Solutions\",\"Diverse Lynx\",\"Net2Source\",\"Community Hospital\",\"TECHNOCRAFT Solutions\",\"Lorven Technologies Inc\",\"Mill Creek Residential Trust\",\"Employbridge\",\"FirstAmerica\",\"ArcBest\",\"Lorven Technologies Inc\",\"Kforce Technology Staffing\",\"Peyton Resource Group (PRG)\",\"Searchlight Professional Networks\",\"Apex Systems\",\"Kforce\",\"Frontend Arts\",\"Laboratory Validation Specialists, Inc\",\"OneMain Financial\",\"APN Software Services Inc.\",\"OSI Engineering\",\"NVIDIA\",\"Risk Management Solutions (RMS)\",\"LeanData\",\"Alteryx\",\"Bandai Namco Entertainment America\",\"Kelly\",\"Tesla Motors\",\"L&T Infotech\",\"IntraEdge\",\"Connor Group\",\"Xcutives.com Inc\",\"Joomag, Inc.\",\"Cognoa\",\"ICONMA\",\"Enjoy\",\"Moveworks\",\"Ursus\",\"Nuro\",\"TalentBurst, Inc.\",\"Randstad\",\"BayOne Solutions\",\"Zipongo\",\"Logic Planet\",\"Netflix\",\"Xcutives.com Inc\",\"Kaygen Inc.\",\"Iconma, L.L.C.\",\"Diverse Lynx\",\"Adwait Algorithm\",\"Netflix, Inc.\",\"TechNet Inc.\",\"Apple\",\"PDS Tech, Inc.\",\"Power Integrations\",\"Infotree Service Inc\",\"Accounting Principals\",\"Collabera\",\"Lorven Technologies Inc\",\"Crystal Equation\",\"Frontend Arts\",\"Wider Circle\",\"Poshmark\",\"Artech LLC\",\"BayOne Solutions\",\"Zolon Tech Solutions Inc.\",\"Staffigo Technical Services, LLC\",\"EApps Tech LLC\",\"enexusglobal\",\"Apple\",\"Apple\",\"Lodestone\",\"SAP\",\"Calsoft Labs\",\"Staffigo Technical Services, LLC\",\"IntelliPro Group Inc.\",\"Exact Sciences Corporation\",\"Stanford University\",\"Softcom Systems\",\"John Wiley & Sons, Inc.\",\"Cadence Design Systems\",\"Tech Firefly\",\"Apple\",\"PRO Unlimited @ Facebook\",\"Robinhood\",\"Stanford School of Medicine\",\"Lean Data\",\"PETADATA\",\"Apple\",\"CyberCoders\",\"Beezwax Datatools\",\"APN Software Services Inc.\",\"TalentBurst, Inc.\",\"AKORBI Language Solutions\",\"US Tech Solutions, Inc\",\"Russell Tobin & Associates\",\"IntelliPro Group Inc.\",\"Milestone Technologies Inc.\",\"Stanford University School of Medicine\",\"Robert Half\",\"Technosoft Corporation\",\"AbbVie\",\"Method360\",\"SRA OSS\",\"Adwait Algorithm\",\"Apple\",\"Armada Group, Inc.\",\"Zoom\",\"Enjoy Technology\",\"Apple\",\"Apex Systems\",\"Cadence Design Systems\",\"Verb Surgical\",\"MentorX Corp.\",\"AbbVie\",\"Introlligent Inc.\",\"Amazon\",\"QUICKEN INVESTMENT SERVICES, INC.\",\"Allakos\",\"IT Coalition\",\"Lorven Technologies Inc\",\"Tachyon Technologies LLC\",\"Mackin\",\"Lark Health\",\"Mizuho OSI\",\"Splunk\",\"IntelliPro Group Inc.\",\"Course Hero\",\"Armada Group, Inc.\",\"Vaco\",\"Intuit\",\"Stanford Health Care\",\"Cepheid\",\"Kaygen Inc.\",\"Vaco\",\"Kelly IT\",\"Kelly\",\"Kaiser Permanente\",\"Lodestone\",\"Enquero Inc\",\"International Consulting Group (San Jose)\",\"DynPro Inc.\",\"Volto Consulting\",\"eHealth\",\"Centrillion\",\"Enquero Inc\",\"Boston Services\",\"Creative Circle\",\"Mizuho OSI\",\"eTeam Inc.\",\"SOFTHQ INC\",\"212 Factors\",\"Creative Circle\",\"Staffigo Technical Services, LLC\",\"Fortinet\",\"Crystal Equation\",\"Apple\",\"Vaco\",\"Cloudious LLC\",\"Akorbi\",\"Google\",\"Balance Staffing- Roseville\",\"ICONMA, LLC\",\"Anzu Global\",\"Omega Solutions\",\"Cadence Design Systems, Inc.\",\"Lorven Technologies Inc\",\"GenapSys, Inc.\",\"Vaco\",\"Optima Global Solutions\",\"i-CST\",\"Apex Systems\",\"Alexza Pharmaceuticals\",\"Infotech Sourcing\",\"Ampcus Incorporated\",\"Vaco\",\"Kaygen Inc.\",\"Yochana\",\"Spiceorb\",\"Skiltrek\",\"Show Me Leads\",\"Bill.Com\",\"Diverse Lynx\",\"Lorven Technologies Inc\",\"Apple\",\"Infotree Service Inc\",\"APN Software Services Inc.\",\"eBay\",\"Healthgrades\",\"Pushnami\",\"MedSeek\",\"TikTok\",\"Assembly\",\"Texas Health & Human Services Commission\",\"OnlineMedEd\",\"Taskrabbit\",\"Texas Health and Human Services Commission\",\"Zynga\",\"Cypress HCM\",\"KGS\",\"Central Health\",\"Teacher Retirement System of Texas\",\"Texas Health & Human Services Commission\",\"CYNET SYSTEMS\",\"Assembly\",\"Pushnami\",\"Lightspeed Systems\",\"Global Resale\",\"Staffigo Technical Services, LLC\",\"GroupBy Inc.\",\"Wargaming\",\"Staffigo Technical Services, LLC\",\"TalentCare\",\"Robert Half\",\"Facebook\",\"Tech Firefly\",\"Superior HealthPlan\",\"Texas Facilities Commission\",\"Texas Health & Human Services Commission\",\"911 Datamaster Inc\",\"Q2eBanking\",\"Allegan General Hospital\",\"Santanna Energy Services\",\"Healthgrades\",\"TEXAS EDUCATION AGENCY\",\"Cyclex Systems\",\"Vsion Technologies Inc\",\"NVIDIA\",\"ARK Solutions, Inc.\",\"Texas Health & Human Services Commission\",\"Centene Corporation\",\"Avacend, Inc.\",\"SNIPEBRIDGE\",\"Avacend, Inc.\",\"Bazaarvoice\",\"MedSeek\",\"Gemalto\",\"Lawnstarter\",\"VIAHART\",\"CloudFlare\",\"Sonic Healthcare USA\",\"Ascension\",\"TxDOT\",\"ISHPI Information Technologies\",\"University Federal Credit Union\",\"Sense Corp\",\"Booz Allen Hamilton\",\"22nd Century Technologies\",\"SMIT Solutions\",\"Octo Consulting Group\",\"Seven Seven Softwares\",\"Wellcare\",\"Central Health\",\"Sam Bharath\",\"Texas Health & Human Services Commission\",\"Ascension\",\"BayOne Solutions\",\"Superior HealthPlan\",\"Staffigo Technical Services, LLC\",\"Texas Water Development Board\",\"United States Army Futures Command\",\"GasPedal\",\"Smartwebs, Inc.\",\"GasPedal\",\"Iris Plans Inc.\",\"Hyliion\",\"softsnippets\",\"Centene Corporation\",\"Quantilus, Inc\",\"Texas Education Agency\",\"Texas Water Development Board\",\"The Judge Group\",\"TEXAS DEPARTMENT OF PUBLIC SAFETY\",\"CSI Tech Inc.\",\"Robert Half\",\"Deutsche Bank\",\"Software Guidance & Assistance\",\"Staffigo Technical Services, LLC\",\"SGA Inc.\",\"SNI Technology\",\"Deutsche Bank\",\"BTG\",\"Staffigo Technical Services, LLC\",\"Deutsche Bank\",\"Staffigo Technical Services, LLC\",\"Medical Cost Containment Services Inc.\",\"LEFTA Systems\",\"Kemper\",\"ARC Group\",\"American Recruiting & Consulting Group\",\"Diverse Lynx\",\"Medical Cost Containment Services Inc.\",\"Textron\",\"Reef Systems\",\"CornerStone Staffing\",\"Thinkfind Corporation\",\"Bell Helicopter\",\"E Business International\",\"InfoVision, Inc.\",\"Company Confidenital\",\"Lockheed Martin\",\"GM Financial\",\"Samsung HVAC\",\"SUNSET LOGISTICS, INC\",\"Prudent Technologies & Consulting\",\"System Soft Technologies\",\"Fidelity TalentSource\",\"SM LOgics Inc\",\"smlogics\",\"System Soft Technologies\",\"InfoQuest Consulting Group\",\"Global Technical Talent, LLC\",\"CyberCoders\",\"Olive\",\"Nationwide Children's Hospital\",\"The Paragon Group\",\"Abercrombie & Fitch Co.\",\"JPMorgan Chase\",\"Beacon Hill Technologies\",\"DHL\",\"Abbott Laboratories\",\"Staffigo Technical Services, LLC\",\"Economic and Community Development Institute\",\"Avacend, Inc.\",\"Nationwide Children's Hospital\",\"Data Systems Integration Group Inc\",\"Staffigo Technical Services, LLC\",\"Buckeye Health Plan\",\"Beacon Hill Staffing Group\",\"Buckeye Community Health Plan\",\"Aspen Careers, LLC\",\"Revel IT\",\"UNICON International, Inc\",\"Avani Technology Solutions\",\"Nationwide Children's Hospital\",\"Staffigo Technical Services, LLC\",\"Avacend, Inc.\",\"Amyx, Inc.\",\"Dedicated Tech Services, Inc.\",\"Abbott\",\"Marker, Inc.\",\"Amyx, Iinc.\",\"Buckeye Community Health Plan\",\"Buckeye Health Plan\",\"Nationwide Childrens Hospital\",\"JPMorgan Chase Bank, N.A.\",\"Creative Financial Staffing\",\"Wells Fargo\",\"Brighthouse Financial\",\"Payzer\",\"Accenture\",\"Tata Consultancy Services\",\"Trivest\",\"pureIntegration\",\"Kforce\",\"Collabera\",\"TEKsystems\",\"Artech LLC\",\"Randstad\",\"Matlen Silver\",\"Randstad\",\"Diversant LLC\",\"Signature Consultants\",\"Sysmind LLC\",\"Tata Consultancy Services (North America)\",\"Robert Half\",\"Kforce\",\"TEKsystems\",\"Staffigo Technical Services, LLC\",\"Conch Technologies, Inc\",\"Neo Prism Solutions\",\"TEKsystems, Inc\",\"Data Bridge Consultants\",\"Resource Logistics, Inc.\",\"Diverse Lynx\",\"Vanguard\",\"Vaco Technology\",\"Accenture Contractor Jobs\",\"OrthoCarolina\",\"American Tire Distributors\",\"NTT DATA Corporation\",\"Apex Systems\",\"Signature Consultants\",\"eTeam Inc.\",\"AccessOne\",\"Nesco Resource, LLC\",\"RGP\",\"Truist\",\"Shimento, Inc.\",\"Parks Heating & Cooling\",\"Randstad\",\"Conch Technologies, Inc\",\"PCR Staffing\",\"Tek Leaders\",\"DATA Inc.\",\"Staffigo Technical Services, LLC\",\"LiveMindz\",\"London Stock Exchange Group\",\"Kforce\",\"NTT DATA Services\",\"Meridian Technologies\",\"TEKsystems, Inc\",\"Cardinal Innovations Healthcare\",\"CYNET SYSTEMS\",\"dataBridge\",\"Collabera\",\"PCR Staffing\",\"Randstad\",\"Kforce\",\"Vaco Technology\",\"DATA Inc.\",\"Infovisa, Inc.\",\"Open Systems Technologies (NYC)\",\"Lowe's\",\"SGA Inc.\",\"American Tire Distributors\",\"Trovetechs Inc\",\"Staffigo Technical Services, LLC\",\"Driven Brands\",\"Tachyon Technologies LLC\",\"Data Bridge Consultants\",\"Tax Management Assoc\",\"Lowe's\",\"Canvas InfoTech Inc.\",\"dataBridge\",\"Data Bridge Consultants\",\"PruTech Solutions, Inc.\",\"DATA Inc.\",\"Bank of America\",\"Transportation Insight\",\"MUFG\",\"Midan Marketing\",\"dataBridge\",\"Signature Consultants\",\"Brighthouse Financial\",\"Accenture Federal Services\",\"Lowe's\",\"PruTech Solutions, Inc.\",\"Lowe's\",\"Autodesk\",\"Vionic Group\",\"Life360\",\"NCSOFT\",\"Autodesk\",\"LaunchDarkly\",\"Edmodo\",\"Doximity\",\"Freedom Financial Network\",\"AppleOne\",\"PubNub\",\"SigmaWay\",\"Giving Assistant\",\"nWay\",\"Perficient\",\"Mindstrong\",\"LiveCareer\",\"Mondo\",\"Spin\",\"Elevate Labs\",\"Deliverr Inc\",\"Angaza\",\"Mondo\",\"Snowflake Computing\",\"CBRE\",\"Duetto\",\"Rodan and Fields, LLC\",\"SGA Inc.\",\"Veem\",\"Coinbase\",\"Trifacta\",\"Wilbur Labs\",\"Hinge Health\",\"User Testing\",\"Pair-Tek\",\"Shorenstein Realty Services L.P.\",\"PlushCare\",\"UCSF Medical Center\",\"Motiv Power Systems\",\"Upstart\",\"Credible\",\"Priceonomics\",\"Applicantz, Inc.\",\"BOLD\",\"Parsoft LLC\",\"Flatiron Health\",\"thredUP\",\"Artech LLC\",\"ICONMA\",\"UCSF Medical Center\",\"The Voleon Group\",\"Redfin\",\"Albany Charter School Network\",\"Twitter\",\"UC San Francisco\",\"Impaq International, Llc\",\"Turn/River Capital\",\"Diverse Lynx\",\"EY\",\"RGP\",\"Vinsari LLC\",\"Evolver, Inc.\",\"Lyft\",\"First Republic Bank\",\"Acumen\",\"Software Guidance & Assistance\",\"Scale AI\",\"Omada Health\",\"QuinStreet\",\"Softova Inc\",\"LeadStack\",\"Chime\",\"Marin City Health and Wellness Center\",\"TaskRabbit\",\"Staffigo Technical Services, LLC\",\"Diverse Lynx\",\"Twitter\",\"Ascent\",\"Thermo Fisher Scientific\",\"Net2Source\",\"Vida Health\",\"SACC\",\"Applicantz\",\"Ernst & Young LLP\",\"Netpace, Inc\",\"Qualys\",\"Scale AI, Inc.\",\"Focal Systems\",\"United IT Solutions\",\"cyitechsearch\",\"IT Avalon\",\"Snowflake Computing\",\"Perfect Day\",\"Twitch\",\"Infotech Sourcing\",\"ApTask\",\"Square\",\"Acumen\",\"Hinge Health\",\"Koger LLC\",\"TransReach\",\"Rose International\",\"GLIDE MEMORIAL CHURCH\",\"Take-Two\",\"Netpace, Inc.\",\"Apto Payments\",\"Chinese Community Health Plan\",\"V3 Talent Partners Inc.\",\"Arkhya Tech\",\"Wish.com\",\"Stem Inc\",\"Redolent, Inc\",\"VLink Inc.\",\"Lorven Technologies Inc\",\"Staffigo Technical Services, LLC\",\"Bank of the West\",\"Two95 International Inc.\",\"Enclipse\",\"PRIMUS Global Services, Inc\",\"Akraya Inc.\",\"Vida\",\"Redfin\",\"Flexport\",\"Square\",\"Kforce\",\"Bio-Rad\",\"Saama\",\"OKCoin\",\"Kinship\",\"Diverse Lynx\",\"SF IHSS Public Authority\",\"Apex Systems\",\"Hazelcast\",\"LeadStack, Inc.\",\"Parker Institute for Cancer Immunotherapy\",\"University of California Berkeley\",\"addastaff\",\"HireTalent\",\"Chime\",\"Chime Bank\",\"APN Software Services Inc.\",\"The Pill Club\",\"One Medical\",\"TalentBurst, Inc.\",\"Qualys\",\"ZS Associates\",\"I.T. Solutions, Inc.\",\"Diverse Lynx\",\"Diverse Lynx\",\"QuinStreet\",\"Alliance IT\",\"LiveCareer\",\"Square Trade\",\"BOLD\",\"Staffigo Technical Services, LLC\",\"Next Level Business Services, Inc.\",\"The Armada Group\",\"GoAhead Solutions\",\"addastaff\",\"Abacus Service Corporation\",\"Franklin Templeton Investments\",\"Sutter Health System\",\"Chime\",\"Parker Institute for Cancer Immunotherapy\",\"Incedo Inc\",\"I.T. Solutions, Inc.\",\"Ascent\",\"Impaq International, Llc\",\"Central Business Solutions, Inc\",\"Wells Fargo\",\"Acumen\",\"Saama Technologies Inc\",\"Epikso\",\"ZS Associates, Inc.\",\"The Ascent Services Group\",\"The Accuro Group\",\"City and County of San Francisco\",\"Epikso Inc\",\"Central Garden & Pet Company\",\"Chime Bank\",\"Ascent\",\"The Ascent Services Group\",\"APN Software Services Inc.\",\"Franklin Resources\",\"Concept Software & Services Inc\",\"Allied Solutions\",\"Navient\",\"Briljent\",\"Upper Hand\",\"Vespa Group LLC\",\"Lilt\",\"BCforward\",\"Staffigo Technical Services, LLC\",\"Alpha Rae Personnel, Inc.\",\"The Fountain Group\",\"Gallega Software Solutions Inc\",\"Swoon\",\"Staffigo Technical Services, LLC\",\"Keywords Studios\",\"Kuehne + Nagel\",\"CYNET SYSTEMS\",\"Health & Hospital Corporation\",\"Heartland Payment Systems\",\"Staffigo Technical Services, LLC\",\"Franciscan Health\",\"Vespa Group LLC\",\"Little Raymond's Print Shop\",\"CNO Financial Group\",\"Lionbridge\",\"Remitly\",\"Homesite Group\",\"Microsoft Corporation\",\"Akraya Inc.\",\"Washington Federal\",\"SureCritic\",\"Costco Wholesale Corporation\",\"TechDigital Corporation\",\"Microsoft Corporation\",\"Rainier Valley Leadership Academy\",\"Costco Wholesale Corporation\",\"LendingTree, LLC.\",\"Blue Origin\",\"Staffigo Technical Services, LLC\",\"Resource Logistics, Inc.\",\"Staffigo Technical Services, LLC\",\"iSpot.tv, Inc.\",\"Subex\",\"Fred Hutch\",\"Synaptein Solutions Inc.\",\"Wipro Ltd.\",\"Intelliswift Software Inc\",\"Kelly IT\",\"Leo Tech, LLC\",\"LendingTree, LLC.\",\"Microsoft Corporation\",\"Protingent\",\"Fred Hutch\",\"eTeam Inc.\",\"Nintendo\",\"Amazon Corporate LLC\",\"eTeam Inc.\",\"Costco Wholesale Corporation\",\"Zen3 Infosolutions America Inc\",\"Amazon Corporate LLC\",\"Microsoft Corporation\",\"Akraya Inc.\",\"Microsoft Corporation\",\"Staffigo Technical Services, LLC\",\"Serverlogic\",\"NuWest Group\",\"Jon French / TechTalent Services\",\"Resource Informatics Group\",\"Ostendo Solutions\",\"W3Global\",\"Amazon Corporate LLC\",\"Xoriant Corporation\",\"Kelly IT\",\"Johns Hopkins University\",\"Protingent Staffing\",\"Amazon Corporate LLC\",\"Amazon Corporate LLC\",\"University of Georgia\",\"Staffigo Technical Services, LLC\",\"Staffigo Technical Services, LLC\",\"Staffigo Technical Services, LLC\",\"Focal Systems\",\"Advent Global Solutions, Inc.\",\"Advent Global Solutions - Special Instance\",\"CoreSite\",\"Autodesk\",\"Dire Wolf Digital\",\"Twilio\",\"BridgeView IT\",\"Integrated Resources\",\"Paramount Software Solutions, Inc\",\"Wipro Ltd.\",\"GDKN\",\"Mondo\",\"Strive Health\",\"Collabera\",\"Gloo\",\"Advent Global Solutions\",\"Hotel Engine\",\"PROLIM Global Corporation\",\"Staffigo Technical Services, LLC\",\"Xcel Energy\",\"Boeing\",\"Infotree Service Inc\",\"CitiusTech\",\"Apex Systems\",\"Staffigo Technical Services, LLC\",\"MIRACORP\",\"Edison Software, Inc.\",\"The Motley Fool\",\"Ibotta\",\"TA Digital\",\"State of Colorado\",\"Collabera\",\"Charles Schwab Corporation\",\"Quicksilver Scientific, Inc\",\"Lockheed Martin\",\"Broadridge\",\"xentity corporation\",\"Private\",\"Kforce\",\"Government Accountability Office\",\"Century Communities\",\"Weston Solutions\",\"Voca\",\"RxRevu\",\"Recondo Technology\",\"TechAspect Solutions, Inc. dba TA Digital\",\"Y-Axis Inc\",\"Black Knight Financial Technology Solutions\",\"ClientSolv Technologies\",\"State of Colorado\",\"Avacend, Inc.\",\"Goldstone Partners\",\"xentity corporation\",\"Infotree Service Inc\",\"Unison Systems Inc.\",\"Legislative Branch\",\"CenturyLink\",\"22nd Century Technologies\",\"Comcast\",\"Avacend, Inc.\",\"WellDyneRx LLC\",\"DW Simpson\",\"Source of Future Technology Inc\",\"Kaiser Permanente\",\"Black Knight Financial Services\",\"Georgia IT Inc.\",\"Staffigo Technical Services, LLC\",\"22nd Century Staffing\",\"Signature Retail Services\",\"Mavensoft Technologies, LLC.\",\"Global Healthcare Exchange\",\"Staffigo Technical Services, LLC\",\"V.L.S. Systems\",\"TechUSA\",\"Apex Systems\",\"CenturyLink\",\"GHX\",\"Avacend, Inc.\",\"Lockheed Martin\",\"Comcast\",\"22nd Century Staffing\",\"Telligen\",\"ClientSolv Technologies\",\"Amyx, Inc.\",\"Amyx, Iinc.\",\"Avacend, Inc.\",\"Avacend, Inc.\",\"The Judge Group, Inc.\",\"CenturyLink\",\"Avacend, Inc.\",\"Forfeiture Support Associates\",\"Spiceorb\",\"APN Software Services Inc.\",\"Avacend, Inc.\",\"Arrow Electronics\",\"Spiceorb\",\"Contingent Network Services\",\"SCL Health\"],\"yaxis\":\"y\",\"type\":\"scattergl\"}],                        {\"template\":{\"data\":{\"bar\":[{\"error_x\":{\"color\":\"#2a3f5f\"},\"error_y\":{\"color\":\"#2a3f5f\"},\"marker\":{\"line\":{\"color\":\"#E5ECF6\",\"width\":0.5},\"pattern\":{\"fillmode\":\"overlay\",\"size\":10,\"solidity\":0.2}},\"type\":\"bar\"}],\"barpolar\":[{\"marker\":{\"line\":{\"color\":\"#E5ECF6\",\"width\":0.5},\"pattern\":{\"fillmode\":\"overlay\",\"size\":10,\"solidity\":0.2}},\"type\":\"barpolar\"}],\"carpet\":[{\"aaxis\":{\"endlinecolor\":\"#2a3f5f\",\"gridcolor\":\"white\",\"linecolor\":\"white\",\"minorgridcolor\":\"white\",\"startlinecolor\":\"#2a3f5f\"},\"baxis\":{\"endlinecolor\":\"#2a3f5f\",\"gridcolor\":\"white\",\"linecolor\":\"white\",\"minorgridcolor\":\"white\",\"startlinecolor\":\"#2a3f5f\"},\"type\":\"carpet\"}],\"choropleth\":[{\"colorbar\":{\"outlinewidth\":0,\"ticks\":\"\"},\"type\":\"choropleth\"}],\"contour\":[{\"colorbar\":{\"outlinewidth\":0,\"ticks\":\"\"},\"colorscale\":[[0.0,\"#0d0887\"],[0.1111111111111111,\"#46039f\"],[0.2222222222222222,\"#7201a8\"],[0.3333333333333333,\"#9c179e\"],[0.4444444444444444,\"#bd3786\"],[0.5555555555555556,\"#d8576b\"],[0.6666666666666666,\"#ed7953\"],[0.7777777777777778,\"#fb9f3a\"],[0.8888888888888888,\"#fdca26\"],[1.0,\"#f0f921\"]],\"type\":\"contour\"}],\"contourcarpet\":[{\"colorbar\":{\"outlinewidth\":0,\"ticks\":\"\"},\"type\":\"contourcarpet\"}],\"heatmap\":[{\"colorbar\":{\"outlinewidth\":0,\"ticks\":\"\"},\"colorscale\":[[0.0,\"#0d0887\"],[0.1111111111111111,\"#46039f\"],[0.2222222222222222,\"#7201a8\"],[0.3333333333333333,\"#9c179e\"],[0.4444444444444444,\"#bd3786\"],[0.5555555555555556,\"#d8576b\"],[0.6666666666666666,\"#ed7953\"],[0.7777777777777778,\"#fb9f3a\"],[0.8888888888888888,\"#fdca26\"],[1.0,\"#f0f921\"]],\"type\":\"heatmap\"}],\"heatmapgl\":[{\"colorbar\":{\"outlinewidth\":0,\"ticks\":\"\"},\"colorscale\":[[0.0,\"#0d0887\"],[0.1111111111111111,\"#46039f\"],[0.2222222222222222,\"#7201a8\"],[0.3333333333333333,\"#9c179e\"],[0.4444444444444444,\"#bd3786\"],[0.5555555555555556,\"#d8576b\"],[0.6666666666666666,\"#ed7953\"],[0.7777777777777778,\"#fb9f3a\"],[0.8888888888888888,\"#fdca26\"],[1.0,\"#f0f921\"]],\"type\":\"heatmapgl\"}],\"histogram\":[{\"marker\":{\"pattern\":{\"fillmode\":\"overlay\",\"size\":10,\"solidity\":0.2}},\"type\":\"histogram\"}],\"histogram2d\":[{\"colorbar\":{\"outlinewidth\":0,\"ticks\":\"\"},\"colorscale\":[[0.0,\"#0d0887\"],[0.1111111111111111,\"#46039f\"],[0.2222222222222222,\"#7201a8\"],[0.3333333333333333,\"#9c179e\"],[0.4444444444444444,\"#bd3786\"],[0.5555555555555556,\"#d8576b\"],[0.6666666666666666,\"#ed7953\"],[0.7777777777777778,\"#fb9f3a\"],[0.8888888888888888,\"#fdca26\"],[1.0,\"#f0f921\"]],\"type\":\"histogram2d\"}],\"histogram2dcontour\":[{\"colorbar\":{\"outlinewidth\":0,\"ticks\":\"\"},\"colorscale\":[[0.0,\"#0d0887\"],[0.1111111111111111,\"#46039f\"],[0.2222222222222222,\"#7201a8\"],[0.3333333333333333,\"#9c179e\"],[0.4444444444444444,\"#bd3786\"],[0.5555555555555556,\"#d8576b\"],[0.6666666666666666,\"#ed7953\"],[0.7777777777777778,\"#fb9f3a\"],[0.8888888888888888,\"#fdca26\"],[1.0,\"#f0f921\"]],\"type\":\"histogram2dcontour\"}],\"mesh3d\":[{\"colorbar\":{\"outlinewidth\":0,\"ticks\":\"\"},\"type\":\"mesh3d\"}],\"parcoords\":[{\"line\":{\"colorbar\":{\"outlinewidth\":0,\"ticks\":\"\"}},\"type\":\"parcoords\"}],\"pie\":[{\"automargin\":true,\"type\":\"pie\"}],\"scatter\":[{\"marker\":{\"colorbar\":{\"outlinewidth\":0,\"ticks\":\"\"}},\"type\":\"scatter\"}],\"scatter3d\":[{\"line\":{\"colorbar\":{\"outlinewidth\":0,\"ticks\":\"\"}},\"marker\":{\"colorbar\":{\"outlinewidth\":0,\"ticks\":\"\"}},\"type\":\"scatter3d\"}],\"scattercarpet\":[{\"marker\":{\"colorbar\":{\"outlinewidth\":0,\"ticks\":\"\"}},\"type\":\"scattercarpet\"}],\"scattergeo\":[{\"marker\":{\"colorbar\":{\"outlinewidth\":0,\"ticks\":\"\"}},\"type\":\"scattergeo\"}],\"scattergl\":[{\"marker\":{\"colorbar\":{\"outlinewidth\":0,\"ticks\":\"\"}},\"type\":\"scattergl\"}],\"scattermapbox\":[{\"marker\":{\"colorbar\":{\"outlinewidth\":0,\"ticks\":\"\"}},\"type\":\"scattermapbox\"}],\"scatterpolar\":[{\"marker\":{\"colorbar\":{\"outlinewidth\":0,\"ticks\":\"\"}},\"type\":\"scatterpolar\"}],\"scatterpolargl\":[{\"marker\":{\"colorbar\":{\"outlinewidth\":0,\"ticks\":\"\"}},\"type\":\"scatterpolargl\"}],\"scatterternary\":[{\"marker\":{\"colorbar\":{\"outlinewidth\":0,\"ticks\":\"\"}},\"type\":\"scatterternary\"}],\"surface\":[{\"colorbar\":{\"outlinewidth\":0,\"ticks\":\"\"},\"colorscale\":[[0.0,\"#0d0887\"],[0.1111111111111111,\"#46039f\"],[0.2222222222222222,\"#7201a8\"],[0.3333333333333333,\"#9c179e\"],[0.4444444444444444,\"#bd3786\"],[0.5555555555555556,\"#d8576b\"],[0.6666666666666666,\"#ed7953\"],[0.7777777777777778,\"#fb9f3a\"],[0.8888888888888888,\"#fdca26\"],[1.0,\"#f0f921\"]],\"type\":\"surface\"}],\"table\":[{\"cells\":{\"fill\":{\"color\":\"#EBF0F8\"},\"line\":{\"color\":\"white\"}},\"header\":{\"fill\":{\"color\":\"#C8D4E3\"},\"line\":{\"color\":\"white\"}},\"type\":\"table\"}]},\"layout\":{\"annotationdefaults\":{\"arrowcolor\":\"#2a3f5f\",\"arrowhead\":0,\"arrowwidth\":1},\"autotypenumbers\":\"strict\",\"coloraxis\":{\"colorbar\":{\"outlinewidth\":0,\"ticks\":\"\"}},\"colorscale\":{\"diverging\":[[0,\"#8e0152\"],[0.1,\"#c51b7d\"],[0.2,\"#de77ae\"],[0.3,\"#f1b6da\"],[0.4,\"#fde0ef\"],[0.5,\"#f7f7f7\"],[0.6,\"#e6f5d0\"],[0.7,\"#b8e186\"],[0.8,\"#7fbc41\"],[0.9,\"#4d9221\"],[1,\"#276419\"]],\"sequential\":[[0.0,\"#0d0887\"],[0.1111111111111111,\"#46039f\"],[0.2222222222222222,\"#7201a8\"],[0.3333333333333333,\"#9c179e\"],[0.4444444444444444,\"#bd3786\"],[0.5555555555555556,\"#d8576b\"],[0.6666666666666666,\"#ed7953\"],[0.7777777777777778,\"#fb9f3a\"],[0.8888888888888888,\"#fdca26\"],[1.0,\"#f0f921\"]],\"sequentialminus\":[[0.0,\"#0d0887\"],[0.1111111111111111,\"#46039f\"],[0.2222222222222222,\"#7201a8\"],[0.3333333333333333,\"#9c179e\"],[0.4444444444444444,\"#bd3786\"],[0.5555555555555556,\"#d8576b\"],[0.6666666666666666,\"#ed7953\"],[0.7777777777777778,\"#fb9f3a\"],[0.8888888888888888,\"#fdca26\"],[1.0,\"#f0f921\"]]},\"colorway\":[\"#636efa\",\"#EF553B\",\"#00cc96\",\"#ab63fa\",\"#FFA15A\",\"#19d3f3\",\"#FF6692\",\"#B6E880\",\"#FF97FF\",\"#FECB52\"],\"font\":{\"color\":\"#2a3f5f\"},\"geo\":{\"bgcolor\":\"white\",\"lakecolor\":\"white\",\"landcolor\":\"#E5ECF6\",\"showlakes\":true,\"showland\":true,\"subunitcolor\":\"white\"},\"hoverlabel\":{\"align\":\"left\"},\"hovermode\":\"closest\",\"mapbox\":{\"style\":\"light\"},\"paper_bgcolor\":\"white\",\"plot_bgcolor\":\"#E5ECF6\",\"polar\":{\"angularaxis\":{\"gridcolor\":\"white\",\"linecolor\":\"white\",\"ticks\":\"\"},\"bgcolor\":\"#E5ECF6\",\"radialaxis\":{\"gridcolor\":\"white\",\"linecolor\":\"white\",\"ticks\":\"\"}},\"scene\":{\"xaxis\":{\"backgroundcolor\":\"#E5ECF6\",\"gridcolor\":\"white\",\"gridwidth\":2,\"linecolor\":\"white\",\"showbackground\":true,\"ticks\":\"\",\"zerolinecolor\":\"white\"},\"yaxis\":{\"backgroundcolor\":\"#E5ECF6\",\"gridcolor\":\"white\",\"gridwidth\":2,\"linecolor\":\"white\",\"showbackground\":true,\"ticks\":\"\",\"zerolinecolor\":\"white\"},\"zaxis\":{\"backgroundcolor\":\"#E5ECF6\",\"gridcolor\":\"white\",\"gridwidth\":2,\"linecolor\":\"white\",\"showbackground\":true,\"ticks\":\"\",\"zerolinecolor\":\"white\"}},\"shapedefaults\":{\"line\":{\"color\":\"#2a3f5f\"}},\"ternary\":{\"aaxis\":{\"gridcolor\":\"white\",\"linecolor\":\"white\",\"ticks\":\"\"},\"baxis\":{\"gridcolor\":\"white\",\"linecolor\":\"white\",\"ticks\":\"\"},\"bgcolor\":\"#E5ECF6\",\"caxis\":{\"gridcolor\":\"white\",\"linecolor\":\"white\",\"ticks\":\"\"}},\"title\":{\"x\":0.05},\"xaxis\":{\"automargin\":true,\"gridcolor\":\"white\",\"linecolor\":\"white\",\"ticks\":\"\",\"title\":{\"standoff\":15},\"zerolinecolor\":\"white\",\"zerolinewidth\":2},\"yaxis\":{\"automargin\":true,\"gridcolor\":\"white\",\"linecolor\":\"white\",\"ticks\":\"\",\"title\":{\"standoff\":15},\"zerolinecolor\":\"white\",\"zerolinewidth\":2}}},\"xaxis\":{\"anchor\":\"y\",\"domain\":[0.0,1.0],\"title\":{\"text\":\"avr_salary\"}},\"yaxis\":{\"anchor\":\"x\",\"domain\":[0.0,1.0],\"title\":{\"text\":\"Company Name\"}},\"coloraxis\":{\"colorbar\":{\"title\":{\"text\":\"Rating\"}},\"colorscale\":[[0.0,\"#0d0887\"],[0.1111111111111111,\"#46039f\"],[0.2222222222222222,\"#7201a8\"],[0.3333333333333333,\"#9c179e\"],[0.4444444444444444,\"#bd3786\"],[0.5555555555555556,\"#d8576b\"],[0.6666666666666666,\"#ed7953\"],[0.7777777777777778,\"#fb9f3a\"],[0.8888888888888888,\"#fdca26\"],[1.0,\"#f0f921\"]]},\"legend\":{\"tracegroupgap\":0},\"title\":{\"text\":\"Average Salary by Company Name with Rating Scores\"}},                        {\"responsive\": true}                    ).then(function(){\n",
       "                            \n",
       "var gd = document.getElementById('111975f5-0b74-48e6-a174-f1d8a36f2975');\n",
       "var x = new MutationObserver(function (mutations, observer) {{\n",
       "        var display = window.getComputedStyle(gd).display;\n",
       "        if (!display || display === 'none') {{\n",
       "            console.log([gd, 'removed!']);\n",
       "            Plotly.purge(gd);\n",
       "            observer.disconnect();\n",
       "        }}\n",
       "}});\n",
       "\n",
       "// Listen for the removal of the full notebook cells\n",
       "var notebookContainer = gd.closest('#notebook-container');\n",
       "if (notebookContainer) {{\n",
       "    x.observe(notebookContainer, {childList: true});\n",
       "}}\n",
       "\n",
       "// Listen for the clearing of the current output cell\n",
       "var outputEl = gd.closest('.output');\n",
       "if (outputEl) {{\n",
       "    x.observe(outputEl, {childList: true});\n",
       "}}\n",
       "\n",
       "                        })                };                            </script>        </div>\n",
       "</body>\n",
       "</html>"
      ]
     },
     "metadata": {},
     "output_type": "display_data"
    }
   ],
   "source": [
    "px.scatter(new_df, x=\"avr_salary\", y=\"Company Name\", color=\"Rating\", hover_data=['Industry', 'Job Title'], \n",
    "title = \"Average Salary by Company Name with Rating Scores\")"
   ]
  },
  {
   "cell_type": "code",
   "execution_count": 62,
   "metadata": {
    "colab": {
     "base_uri": "https://localhost:8080/"
    },
    "id": "QLDsfaJs_1iR",
    "outputId": "4e6437c1-04c4-493f-dc84-974033d60cd7"
   },
   "outputs": [
    {
     "name": "stdout",
     "output_type": "stream",
     "text": [
      "Requirement already satisfied: dash==0.18.3 in /usr/local/lib/python3.7/dist-packages (0.18.3)\n",
      "Requirement already satisfied: flask-compress in /usr/local/lib/python3.7/dist-packages (from dash==0.18.3) (1.11)\n",
      "Requirement already satisfied: Flask>=0.12 in /usr/local/lib/python3.7/dist-packages (from dash==0.18.3) (1.1.4)\n",
      "Requirement already satisfied: flask-seasurf in /usr/local/lib/python3.7/dist-packages (from dash==0.18.3) (1.1.1)\n",
      "Requirement already satisfied: plotly in /usr/local/lib/python3.7/dist-packages (from dash==0.18.3) (5.5.0)\n",
      "Requirement already satisfied: Werkzeug<2.0,>=0.15 in /usr/local/lib/python3.7/dist-packages (from Flask>=0.12->dash==0.18.3) (1.0.1)\n",
      "Requirement already satisfied: click<8.0,>=5.1 in /usr/local/lib/python3.7/dist-packages (from Flask>=0.12->dash==0.18.3) (7.1.2)\n",
      "Requirement already satisfied: itsdangerous<2.0,>=0.24 in /usr/local/lib/python3.7/dist-packages (from Flask>=0.12->dash==0.18.3) (1.1.0)\n",
      "Requirement already satisfied: Jinja2<3.0,>=2.10.1 in /usr/local/lib/python3.7/dist-packages (from Flask>=0.12->dash==0.18.3) (2.11.3)\n",
      "Requirement already satisfied: MarkupSafe>=0.23 in /usr/local/lib/python3.7/dist-packages (from Jinja2<3.0,>=2.10.1->Flask>=0.12->dash==0.18.3) (2.0.1)\n",
      "Requirement already satisfied: brotli in /usr/local/lib/python3.7/dist-packages (from flask-compress->dash==0.18.3) (1.0.9)\n",
      "Requirement already satisfied: six in /usr/local/lib/python3.7/dist-packages (from plotly->dash==0.18.3) (1.15.0)\n",
      "Requirement already satisfied: tenacity>=6.2.0 in /usr/local/lib/python3.7/dist-packages (from plotly->dash==0.18.3) (8.0.1)\n",
      "Requirement already satisfied: dash-renderer==0.10.0 in /usr/local/lib/python3.7/dist-packages (0.10.0)\n",
      "Requirement already satisfied: dash-html-components==0.7.0 in /usr/local/lib/python3.7/dist-packages (0.7.0)\n",
      "Requirement already satisfied: dash in /usr/local/lib/python3.7/dist-packages (from dash-html-components==0.7.0) (0.18.3)\n",
      "Requirement already satisfied: flask-compress in /usr/local/lib/python3.7/dist-packages (from dash->dash-html-components==0.7.0) (1.11)\n",
      "Requirement already satisfied: Flask>=0.12 in /usr/local/lib/python3.7/dist-packages (from dash->dash-html-components==0.7.0) (1.1.4)\n",
      "Requirement already satisfied: flask-seasurf in /usr/local/lib/python3.7/dist-packages (from dash->dash-html-components==0.7.0) (1.1.1)\n",
      "Requirement already satisfied: plotly in /usr/local/lib/python3.7/dist-packages (from dash->dash-html-components==0.7.0) (5.5.0)\n",
      "Requirement already satisfied: click<8.0,>=5.1 in /usr/local/lib/python3.7/dist-packages (from Flask>=0.12->dash->dash-html-components==0.7.0) (7.1.2)\n",
      "Requirement already satisfied: Werkzeug<2.0,>=0.15 in /usr/local/lib/python3.7/dist-packages (from Flask>=0.12->dash->dash-html-components==0.7.0) (1.0.1)\n",
      "Requirement already satisfied: itsdangerous<2.0,>=0.24 in /usr/local/lib/python3.7/dist-packages (from Flask>=0.12->dash->dash-html-components==0.7.0) (1.1.0)\n",
      "Requirement already satisfied: Jinja2<3.0,>=2.10.1 in /usr/local/lib/python3.7/dist-packages (from Flask>=0.12->dash->dash-html-components==0.7.0) (2.11.3)\n",
      "Requirement already satisfied: MarkupSafe>=0.23 in /usr/local/lib/python3.7/dist-packages (from Jinja2<3.0,>=2.10.1->Flask>=0.12->dash->dash-html-components==0.7.0) (2.0.1)\n",
      "Requirement already satisfied: brotli in /usr/local/lib/python3.7/dist-packages (from flask-compress->dash->dash-html-components==0.7.0) (1.0.9)\n",
      "Requirement already satisfied: six in /usr/local/lib/python3.7/dist-packages (from plotly->dash->dash-html-components==0.7.0) (1.15.0)\n",
      "Requirement already satisfied: tenacity>=6.2.0 in /usr/local/lib/python3.7/dist-packages (from plotly->dash->dash-html-components==0.7.0) (8.0.1)\n",
      "Requirement already satisfied: dash-core-components==0.12.6 in /usr/local/lib/python3.7/dist-packages (0.12.6)\n",
      "Requirement already satisfied: dash in /usr/local/lib/python3.7/dist-packages (from dash-core-components==0.12.6) (0.18.3)\n",
      "Requirement already satisfied: plotly in /usr/local/lib/python3.7/dist-packages (from dash->dash-core-components==0.12.6) (5.5.0)\n",
      "Requirement already satisfied: flask-compress in /usr/local/lib/python3.7/dist-packages (from dash->dash-core-components==0.12.6) (1.11)\n",
      "Requirement already satisfied: flask-seasurf in /usr/local/lib/python3.7/dist-packages (from dash->dash-core-components==0.12.6) (1.1.1)\n",
      "Requirement already satisfied: Flask>=0.12 in /usr/local/lib/python3.7/dist-packages (from dash->dash-core-components==0.12.6) (1.1.4)\n",
      "Requirement already satisfied: itsdangerous<2.0,>=0.24 in /usr/local/lib/python3.7/dist-packages (from Flask>=0.12->dash->dash-core-components==0.12.6) (1.1.0)\n",
      "Requirement already satisfied: Werkzeug<2.0,>=0.15 in /usr/local/lib/python3.7/dist-packages (from Flask>=0.12->dash->dash-core-components==0.12.6) (1.0.1)\n",
      "Requirement already satisfied: click<8.0,>=5.1 in /usr/local/lib/python3.7/dist-packages (from Flask>=0.12->dash->dash-core-components==0.12.6) (7.1.2)\n",
      "Requirement already satisfied: Jinja2<3.0,>=2.10.1 in /usr/local/lib/python3.7/dist-packages (from Flask>=0.12->dash->dash-core-components==0.12.6) (2.11.3)\n",
      "Requirement already satisfied: MarkupSafe>=0.23 in /usr/local/lib/python3.7/dist-packages (from Jinja2<3.0,>=2.10.1->Flask>=0.12->dash->dash-core-components==0.12.6) (2.0.1)\n",
      "Requirement already satisfied: brotli in /usr/local/lib/python3.7/dist-packages (from flask-compress->dash->dash-core-components==0.12.6) (1.0.9)\n",
      "Requirement already satisfied: tenacity>=6.2.0 in /usr/local/lib/python3.7/dist-packages (from plotly->dash->dash-core-components==0.12.6) (8.0.1)\n",
      "Requirement already satisfied: six in /usr/local/lib/python3.7/dist-packages (from plotly->dash->dash-core-components==0.12.6) (1.15.0)\n"
     ]
    }
   ],
   "source": [
    "! pip install dash==0.18.3\n",
    "! pip install dash-renderer==0.10.0\n",
    "! pip install dash-html-components==0.7.0\n",
    "! pip install dash-core-components==0.12.6"
   ]
  },
  {
   "cell_type": "code",
   "execution_count": 63,
   "metadata": {
    "colab": {
     "base_uri": "https://localhost:8080/"
    },
    "id": "Hn2APuHpAGEN",
    "outputId": "117a4fa1-8adc-4551-fd50-142c4c373502"
   },
   "outputs": [
    {
     "name": "stdout",
     "output_type": "stream",
     "text": [
      "Overwriting dash_app.py\n"
     ]
    }
   ],
   "source": [
    "%%writefile dash_app.py\n",
    "import dash\n",
    "import dash_core_components as dcc\n",
    "import dash_html_components as html\n",
    "import plotly.graph_objects as go\n",
    "import pandas as pd\n",
    "df = pd.read_csv('/content/DataAnalyst.csv',index_col=0)\n",
    "job_title=pd.DataFrame(df.groupby('Job Title')['Job Title'].count().sort_values(ascending=False).head(30))\n",
    "job_industry=pd.DataFrame(df.groupby('Industry')['Industry'].count().sort_values(ascending=False).head(30))\n",
    "fig_1 = go.Bar(x=job_title.index , y=job_title['Job Title'],name = 'job title')\n",
    "fig_2 = go.Bar(x=job_industry.index , y=job_industry['Industry'],name=\"Number of Job Openings by Industry\")\n",
    "external_stylesheets = ['https://codepen.io/chriddyp/pen/bWLwgP.css']\n",
    "app = dash.Dash(__name__)\n",
    "\n",
    "app.layout = html.Div(children=[\n",
    "    html.H1(children='Data Analyst jobs'),\n",
    "    html.Div(children='''Data Analyst jobs'''),\n",
    "    dcc.Graph(\n",
    "        id='example-graph',\n",
    "        figure={\n",
    "            'data': [fig_1,fig_2],\n",
    "            'layout':\n",
    "            go.Layout(title='Data Analyst')\n",
    "        })\n",
    "])\n",
    "if __name__ == '__main__':\n",
    "    app.run_server(debug=True)"
   ]
  },
  {
   "cell_type": "code",
   "execution_count": 64,
   "metadata": {
    "colab": {
     "base_uri": "https://localhost:8080/"
    },
    "id": "P7uYgYV3K3zg",
    "outputId": "67d66916-7e8a-4748-abcc-3b0864a5dd1e"
   },
   "outputs": [
    {
     "name": "stdout",
     "output_type": "stream",
     "text": [
      " * Serving Flask app \"dash_app\" (lazy loading)\n",
      " * Environment: production\n",
      "\u001b[31m   WARNING: This is a development server. Do not use it in a production deployment.\u001b[0m\n",
      "\u001b[2m   Use a production WSGI server instead.\u001b[0m\n",
      " * Debug mode: on\n",
      " * Running on http://127.0.0.1:8050/ (Press CTRL+C to quit)\n",
      " * Restarting with stat\n",
      " * Debugger is active!\n",
      " * Debugger PIN: 286-450-437\n"
     ]
    }
   ],
   "source": [
    "!python dash_app.py"
   ]
  },
  {
   "cell_type": "markdown",
   "metadata": {
    "id": "SbdSn6c-ywpT"
   },
   "source": [
    "# Congratulations for your great effort\n",
    "\n"
   ]
  }
 ],
 "metadata": {
  "colab": {
   "collapsed_sections": [],
   "name": "job data analyst Dash and plotly.ipynb",
   "provenance": []
  },
  "kernelspec": {
   "display_name": "Python 3 (ipykernel)",
   "language": "python",
   "name": "python3"
  },
  "language_info": {
   "codemirror_mode": {
    "name": "ipython",
    "version": 3
   },
   "file_extension": ".py",
   "mimetype": "text/x-python",
   "name": "python",
   "nbconvert_exporter": "python",
   "pygments_lexer": "ipython3",
   "version": "3.12.4"
  }
 },
 "nbformat": 4,
 "nbformat_minor": 4
}
